{
 "cells": [
  {
   "cell_type": "markdown",
   "metadata": {},
   "source": [
    "## NASA Frontier Development Lab - Disaster Prevention, Progress and Response (Floods)"
   ]
  },
  {
   "cell_type": "markdown",
   "metadata": {},
   "source": [
    "Floods are the most destructive and dangerous natural disasters worldwide. All regions can be affected by flooding events and, with the increased variability in weather patterns due to global warming, this is likely to become even more prelevant. The speed at which flooding events can occur, and difficulties in predicting their occurrance, create huge logistic problems for both governmental and non-governmental agencies. Over the past 10 years, floods have caused on average 95 deaths a year in the US alone, making them the deadliest weather related phenomenon. Worldwide, floods cost in excess of 40 Billion dollars per year, impacting property, agriculture and the health of individuals.\n",
    "\n",
    "Throughout the duration of the project, we collaborated with United States Geological Survey (USGS), a scientific agency within the US Department of the Interior. The objective of this organization is to study the landscape of the US and provide information about its natural resources and the natural hazards that affect them. Currently, hydrologists use physical models to help predict floods. These models require predictions to be carefully calibrated for each stream or watershed and careful consideration must be taken for dams, levees etc. Producing these models is extremely costly due to resource requirements. This limits the areas within the US that can avail of such systems to better prepare for flood events.\n",
    "\n",
    "To predict the flood susceptibility of a stream area, the project was separated into two distinct problems.\n",
    "\n",
    "**Monthly Model**\n",
    "\n",
    "Predicting, per month, if a stream height will reach a predefined flood threshold. These flood thresholds are set by the National Oceanic and Atmospheric Administration (NOAA) and were location specific. Knowing which areas are susceptible to flooding, allow locations to better prepare for a flood event.\n",
    "\n",
    "**Time to Peak Model**\n",
    "\n",
    "Predicting the time taken for a stream/river to reach it's peak height. Following a major rain event occurs, knowing how long it will take for a river to reach this height is vital in order to inform potentially affected individuals if and when they need to evacuate. This can help to reduce structural damage and loss of life during a disaster."
   ]
  },
  {
   "cell_type": "markdown",
   "metadata": {},
   "source": [
    "## The Data"
   ]
  },
  {
   "cell_type": "markdown",
   "metadata": {},
   "source": [
    "This project focused on 6 states within the US, over a period of 10 years. Data was taken from ~800 gauge sites, between July 2009 and June 2019. Not all gauge sites had continuous historical data over the period, but all the available data for each site was used.\n",
    "\n",
    "The 6 states were:\n",
    "\n",
    "    -New Jersey\n",
    "    -Nebraska\n",
    "    -South Carolina\n",
    "    -New York\n",
    "    -South Dakota\n",
    "    -Virginia\n",
    "    \n",
    "A primary reason for choosing these states, was that each exhibits similar climate and landscape. Focusing on similar geographies from a machine learning perspective ensures that the models produced could be generalized to similar regions and given assumed reduced variability in conditions, models that are more precise.\n",
    "\n",
    "Other required datasets and providers:\n",
    "\n",
    "**USGS**\n",
    "\n",
    "This consists of the height of a stream as measured by gauges for over 11,000 sites in the US. The data is updated every 15 minutes, with some locations having historical data for over 50 years. \n",
    "\n",
    "**PRISM**\n",
    "\n",
    "The PRISM Climate Group provides climate observations across the whole of the US. This dataset was used to extract daily precipitation readings from the site locations for each day during the requested 10 year period.\n",
    "\n",
    "**National Land Cover Database (NLCD)**\n",
    "\n",
    "The NLCD database was collected using Landsat. This provides information such as land-use classification (urban, agriculture, forest, etc.), how well the land allows water to pass through it (impervious surface information) and tree cover. This dataset has updated records every 5 years from 2006.\n",
    "\n",
    "**National Hydrology Dataset Plus (NHDPlus)**\n",
    "\n",
    "NHDPlus is a geo-spatial hydrologic framework dataset associated with USGS. The features used from this dataset were the catchment and drainage area characteristics at the stream site locations. \n",
    "\n",
    "**Flooded Locations And Simulated Hydrographs Project (FLASH)**\n",
    "\n",
    "FLASH is a database containing information about flood events within the US. The information used from this dataset was the time taken for a river to reach its peak height after a major rain event.\n",
    "\n",
    "**NOAA**\n",
    "\n",
    "NOAA is a US governmental agency for monitoring and preserving the climate and environment. The data provided by NOAA surrounded flood level thresholds for locations across the US. These thresholds consisted of four warning stages and the river height for a given location that causes them to reach these levels. The four warning stages were:"
   ]
  },
  {
   "cell_type": "markdown",
   "metadata": {},
   "source": [
    "|Warning |  Meaning                                                                                     |\n",
    "|--------|-------                                                                                     |\n",
    "|Action  |\tMitigation action needs to be taken in order to prepare for possible hydrological activity|\n",
    "|Flood\t |  The river height poses a threat to lives, property and businesses|\n",
    "|Moderate| \tSome inundation of roads or buildings. A flood warning should be released|\n",
    "|Major\t |  Extensive inundation of roads and buildings. Considerable evacuations of areas may occur|\n",
    "\n",
    "\n",
    "A more indepth discussion on these datasources can be found within the associated whitepaper."
   ]
  },
  {
   "cell_type": "markdown",
   "metadata": {},
   "source": [
    "### Downloading the data"
   ]
  },
  {
   "cell_type": "markdown",
   "metadata": {},
   "source": [
    "As some of the required datasets are particularly large, they are not contained within data directory of this github repo. The README file associated with this notebook contains information explaining how to download all the required datasets."
   ]
  },
  {
   "cell_type": "markdown",
   "metadata": {},
   "source": [
    "## Load Required Libraries and Python Functionality"
   ]
  },
  {
   "cell_type": "markdown",
   "metadata": {},
   "source": [
    "#### Relevant Python functionality were loaded\n"
   ]
  },
  {
   "cell_type": "markdown",
   "metadata": {},
   "source": [
    " - embedPy\n",
    " - data manipulation functions\n",
    " - plotting functionality\n",
    " - Scoring functionality and machine learning models"
   ]
  },
  {
   "cell_type": "code",
   "execution_count": 1,
   "metadata": {},
   "outputs": [],
   "source": [
    "\\l p.q\n",
    "\n",
    "np:.p.import[`numpy]\n",
    "gp :.p.import[`geopandas]\n",
    "train_test_split:.p.import[`sklearn.model_selection]`:train_test_split\n",
    "\n",
    "plt:.p.import[`matplotlib.pyplot]\n",
    "\n",
    "precision_recall_curve :.p.import[`sklearn.metrics]`:precision_recall_curve\n",
    "average_precision_score:.p.import[`sklearn.metrics]`:average_precision_score\n",
    "RandomForestClassifier :.p.import[`sklearn.ensemble]`:RandomForestClassifier\n",
    "XGBClassifier          :.p.import[`xgboost]`:XGBClassifier"
   ]
  },
  {
   "cell_type": "markdown",
   "metadata": {},
   "source": [
    "#### Relevant libraries and scripts were loaded"
   ]
  },
  {
   "cell_type": "markdown",
   "metadata": {},
   "source": [
    " - Load the machine learning toolkit\n",
    " - Load flood data and associated code"
   ]
  },
  {
   "cell_type": "code",
   "execution_count": 2,
   "metadata": {},
   "outputs": [],
   "source": [
    "\\l ml/ml.q \n",
    ".ml.loadfile`:init.q\n",
    "\n",
    "\\l ../floods.q\n",
    ".fld.loadfile`:init.q"
   ]
  },
  {
   "cell_type": "markdown",
   "metadata": {},
   "source": [
    "## Data Preprocessing\n",
    "\n",
    "Due to the variety of data sources and datasets used, preprocessing the data was of critical importance. This step ensured that feature engineering completed later in the pipeline was more seamless. "
   ]
  },
  {
   "cell_type": "code",
   "execution_count": 3,
   "metadata": {},
   "outputs": [],
   "source": [
    "// Utility functions\n",
    "\n",
    "del:{![x;enlist (=;y;z);0b;`symbol$()]} / Functional delete\n",
    "conv7_fn:{`$$[7=count x;\"0\",;]x}        / Prepend sites with 7 numbers with a 0"
   ]
  },
  {
   "cell_type": "markdown",
   "metadata": {},
   "source": [
    "The following were the operations taken on the data at this stage:\n",
    "\n",
    "1. Any stream-site names containing less than 8 values were prepended with 0's to ensure consist lengths\n",
    "2. Rows containing nulls or infinities were removed from the datasets as these couldn't be passed to machine learning algorithms.\n",
    "3. A column denoting the index of each location in the NOAA threshold dataset was added (used for nearest neighbours calculations)"
   ]
  },
  {
   "cell_type": "code",
   "execution_count": 4,
   "metadata": {},
   "outputs": [],
   "source": [
    "precip:update conv7_fn each string each site_no from del[precipall;`ppt;0n]\n",
    "\n",
    "maxht:update conv7_fn each site_no from del[max_ht_str;`height;neg[0w]]\n",
    "\n",
    "warning:update nn:i from warnings"
   ]
  },
  {
   "cell_type": "markdown",
   "metadata": {},
   "source": [
    "4. Site ids in the PRISM dataset were modified such that no site ids were the same and a limit of 12 digits for an individual site was adhered to. Manipulation of the PRISM dataset was more involved here. The steps taken were as follows with each step associated with an individual code block:\n",
    "\n",
    "    - All sites from the gauges data with more than 12 digits were found\n",
    "    - Sites in the PRISM data associated with this gauge dataset were located\n",
    "    - Removal of trailing digits can cause clashes between the site_ids, in this data such a clash only occured at index 20 in the names table. The indexes in the dataset at which these clashes occured were found and split based on unique lat/long values.\n",
    "    - Exception lists and new id lists were created in order to correctly process data\n",
    "    - The precipitation table was updated based on the updates to id's and clashes"
   ]
  },
  {
   "cell_type": "code",
   "execution_count": 5,
   "metadata": {},
   "outputs": [],
   "source": [
    "rms:asc ds where 12<count each ds:string exec distinct site_no from gauges \n",
    "\n",
    "names:0!select i by site_no from precip where site_no in `$12#'rms\n",
    "\n",
    "matchnames:0!select i by lat,long from precip where i in names[`x][20]\n",
    "\n",
    "lst1:til[26]except 21 22; lst2:til[25]except 20\n",
    "i1:`$rms[lst1],rms[21 22]; i2:(names[`x]lst2),matchnames`x\n",
    "\n",
    "precip:{![x;enlist(in;`i;z);0b;enlist[`site_no]!enlist enlist y]}/[precip;i1;i2]"
   ]
  },
  {
   "cell_type": "markdown",
   "metadata": {},
   "source": [
    "5. A column was added, allowing the NLCD dataset which is updated every 5 years (2006,2011,2016) to be joined later on in the notebook. In order to join the correct NLCD dataset with the appropriate row in the precipitation dataset, an extra column was added indicating what year it should be joined to.\n",
    "\n",
    "    - The precipitation dataset was binned into the years 2006, 2011, 2016 by creating an upper bound depending on the year that the row corresponds to. \n",
    "    - This column was then added to the dataset."
   ]
  },
  {
   "cell_type": "code",
   "execution_count": 6,
   "metadata": {},
   "outputs": [],
   "source": [
    "nlcdyear:{$[x<2011;6;x<2016;11;16]}each `year$precip[`date]\n",
    "\n",
    "precip:update year:nlcdyear from precip"
   ]
  },
  {
   "cell_type": "markdown",
   "metadata": {},
   "source": [
    "## Feature Engineering"
   ]
  },
  {
   "cell_type": "markdown",
   "metadata": {},
   "source": [
    "Given the available data, it was possible to split the information into three datasets\n",
    "\n",
    "1. Ungauged basin: Information available at sites that do not contain stream gauge or future forecasting information. Data was limited to land use, past rainfall and upstream information.\n",
    "\n",
    "\n",
    "2. Gauged basin: All information contained within the ungauged basin dataset, as well as stream gauge information. This included previous river heights and lagged/aggregated flooding information.\n",
    "\n",
    "\n",
    "3. Perfect Forecasts: All information contained within the gauged basin dataset, as well as precipitation information around the time of the event.\n",
    "\n",
    "Within the feature engineering section of this notebook, the majority of the features which encorporate the set of the above datasets were produced, they were then split into appropriate datasets later in the notebook."
   ]
  },
  {
   "cell_type": "markdown",
   "metadata": {},
   "source": [
    "### Seasonality information and data restrictions"
   ]
  },
  {
   "cell_type": "markdown",
   "metadata": {},
   "source": [
    "Seasonal Information plays an important role when predicting if an area will flood and how long it will take. \n",
    "\n",
    " - This seasonality was captured by extracting the month that the event occured, followed by using sine and cosine transformations of the month, creating a `cos_t` and `sin_t` column. \n",
    " - The latitude and longitude of the stream sites were also represented as sine and cosine decompositions of their x, y and z coordinates."
   ]
  },
  {
   "cell_type": "code",
   "execution_count": 7,
   "metadata": {},
   "outputs": [],
   "source": [
    "pi:acos -1\n",
    "\n",
    "precip:`date xasc update month:`mm$date from precip\n",
    "precip:update cos_t:cos 2*pi*month%12,sin_t:sin 2*pi*month%12 from precip\n",
    "\n",
    "precip:update x:cos(lat)*cos(long),y:cos(lat)*sin(long),z:sin(lat) from precip"
   ]
  },
  {
   "cell_type": "markdown",
   "metadata": {},
   "source": [
    "###  Upstream, previous, windowed, and lagged features\n",
    "\n",
    "Some of the most important feature information which was extracted from the dataset include:\n",
    "\n",
    "1. Upstream features (for example rainfall and stream/river height) which may provide early warnings for high volumes of water moving down-stream\n",
    "2. Previous rainfall and stream/river height at a location up to a number of days before the event.\n",
    "3. Windowed historical information which gives macro information about the system, this can include the maximum moving average rainfall in a location over a given time period for example .\n",
    "4. Lagged features which provide historical information about the behaviour of the system (in this case an individual site).\n",
    "\n",
    "For ease of implementation, the creation of these features within this white paper were wrapped within the macro function `feat`."
   ]
  },
  {
   "cell_type": "markdown",
   "metadata": {},
   "source": [
    "For clarity the following are the inputs to the functions `feat`:\n",
    "\n",
    "**feat [x ; y ; z ; col ; d; fnc]**\n",
    "\n",
    "- `x`    table that's being updated\n",
    "- `y`    how many values to calculate (integer list)\n",
    "- `z`    column to apply the function to (symbol)\n",
    "- `col`  new column name (symbol)\n",
    "- `d`    dictionary of where, groupby and type of functional statement being used\n",
    "- `fnc`  function to be applied to the grouped column\n"
   ]
  },
  {
   "cell_type": "code",
   "execution_count": 8,
   "metadata": {},
   "outputs": [],
   "source": [
    "colname:{enlist`$string[y],\"_\",string[x],\"_\",string[z]} // Create new column name\n",
    "max_mavg:{(max;(mavg;y;x))}                             // Calculate maximal moving average\n",
    "prv:{(xprev;y;x)}                                       // Calculate value of lagged features\n",
    "\n",
    "// Applies functions to appropriate columns and rename columns appropriately\n",
    "func:{[x;y;z;b]raze{[x;y;z;b]colname[x;y;z]!enlist b[x;z]}[z;y;;b]each raze x}\n",
    "\n",
    "// upstream, previous, windowed and lagged extraction function\n",
    "feat:{[x;y;z;col;d;fnc] d[`w][x;d`wh;d`gr;$[1<count[z];raze;]func[y;col;;fnc]each z]}"
   ]
  },
  {
   "cell_type": "markdown",
   "metadata": {},
   "source": [
    "#### Upstream Values"
   ]
  },
  {
   "cell_type": "markdown",
   "metadata": {},
   "source": [
    "Using the `feat` function, upstream information was obtained. This was possible as the id numbers for each site consist of the initial two digits which denote the basin catchment. The remaining digits are ascending values based on the location of gauges along the stream. A functional update was applied to the tables, grouping by basin catchments and date. This then enabled the upstream precipitation and height values to be extracted."
   ]
  },
  {
   "cell_type": "code",
   "execution_count": 9,
   "metadata": {},
   "outputs": [],
   "source": [
    "catch_site:((';#);2;($:;`site_no))           /Grouping site numbers by catchment, using the first 2 digits\n",
    "site_date :`site_no`date!(catch_site;`date)\n",
    "dict:`w`wh`gr!(!;();site_date)\n",
    "\n",
    "upstr_ppt   :feat[precip;1;`ppt;`upstr;dict;prv]\n",
    "upstr_height:feat[maxht;1;`height;`upstr;dict;prv]"
   ]
  },
  {
   "cell_type": "markdown",
   "metadata": {},
   "source": [
    "#### Previous rainfall and stream height\n",
    "\n",
    "The `feat` function was also used to find the rainfall and heights for both the current and upstream locations for each of the previous 10 days before an event. This was achieved by grouping the tables by site number, allowing the previous precipitation and height values to be obtained. "
   ]
  },
  {
   "cell_type": "code",
   "execution_count": 10,
   "metadata": {},
   "outputs": [],
   "source": [
    "dict[`gr]:site:(enlist `site_no)!enlist `site_no\n",
    "\n",
    "prev_rain:feat[upstr_ppt;enlist 1_til 10;`ppt`upstr_ppt_1;`prev;sited:dict;prv]\n",
    "all_height:feat[upstr_height;enlist 1_til 10;`height`upstr_height_1;`prev;dict;prv]"
   ]
  },
  {
   "cell_type": "markdown",
   "metadata": {},
   "source": [
    "### Use-case specific features\n",
    "\n",
    "All of the features calculated above are applicable in each use-case, however both the monthly and time-to-peak models also required more bespoke features to be calculated"
   ]
  },
  {
   "cell_type": "markdown",
   "metadata": {},
   "source": [
    "### Monthly Model\n",
    "\n",
    "The following steps were completed to extract additional features for the monthly model\n",
    "\n",
    "1. The maximal moving average rainfall was extracted at current and previous upstream sites over different time windows following the date in question (1 - 15 day windows). This was achieved by initially grouping the data by month and site number, and then applying the `feat` function, denoting the size of the windows being applied"
   ]
  },
  {
   "cell_type": "code",
   "execution_count": 11,
   "metadata": {},
   "outputs": [],
   "source": [
    "dict[`gr]:(`date`site_no)!(($;enlist`month;`date);`site_no)\n",
    "\n",
    "all_rain:feat[prev_rain;enlist 1_til 15;`ppt`upstr_ppt_1;`window;dict;max_mavg]"
   ]
  },
  {
   "cell_type": "markdown",
   "metadata": {},
   "source": [
    "2. The first day of each month was selected as the point of reference for the months data, allowing encompassing of information from the previous months information\n"
   ]
  },
  {
   "cell_type": "code",
   "execution_count": 12,
   "metadata": {},
   "outputs": [],
   "source": [
    "height_data:update date:\"m\"$date from select from all_height where 1=`dd$date\n",
    "rain_data  :update date:\"m\"$date from select from all_rain   where 1=`dd$date"
   ]
  },
  {
   "cell_type": "markdown",
   "metadata": {},
   "source": [
    "3. The height and rain data were joined for each site and date to create the initial monthly dataset"
   ]
  },
  {
   "cell_type": "code",
   "execution_count": 13,
   "metadata": {},
   "outputs": [],
   "source": [
    "monthly_data:height_data ij`site_no`date xkey rain_data"
   ]
  },
  {
   "cell_type": "markdown",
   "metadata": {},
   "source": [
    "### Time to Peak Model\n",
    "\n",
    "The hours leading to a flash flood event can provide important information regarding how quickly the height of a stream is moving. This information can be incredibly important in allowing for prediction of the time to reach its peak height.\n",
    "\n",
    "For construction of the time to peak models the following steps were taken to produce appropriate features:"
   ]
  },
  {
   "cell_type": "markdown",
   "metadata": {},
   "source": [
    "1. The FLASH dataset (`peak`) was joined to the daily height and rain datasets produced previously\n"
   ]
  },
  {
   "cell_type": "code",
   "execution_count": 14,
   "metadata": {},
   "outputs": [],
   "source": [
    "peak_data:(peak ij`date`site_no xkey prev_rain)ij`date`site_no xkey all_height"
   ]
  },
  {
   "cell_type": "markdown",
   "metadata": {},
   "source": [
    "2. The times in the FLASH dataset were converted from UTC such that they were consistent with the USGS stream data."
   ]
  },
  {
   "cell_type": "code",
   "execution_count": 15,
   "metadata": {},
   "outputs": [],
   "source": [
    "// The date associated with each site \n",
    "site_date:flip value flip 0!select date by distinct site_no from peak_data\n",
    "\n",
    "// The timezone (unk) information for each site was obtained from the gauges hdb (str)\n",
    "time_zone:raze{\n",
    "  dd:x[1];si:x[0];\n",
    "  select `$first site_no,`$first unk from str where date=first dd,si=`$site_no}each site_date\n",
    "\n",
    "// The time-zone information was joined to the peak dataset\n",
    "peak_data:peak_data ij`site_no xkey time_zone\n",
    "\n",
    "// A function was defined to modify the time-zone based on extracted information from gauges hdb\n",
    "change_zone:{tz:x[1];tm:x[0];$[tz=`EDT;tm-04:00;tz=`CDT;tm-05:00;tm-06:00]}\n",
    "\n",
    "// The time zone change was applied to the relevant time columns in dataset\n",
    "peak_data[`start_time]:change_zone each flip peak_data`start_time`unk\n",
    "peak_data[`end_time]  :change_zone each flip peak_data`end_time`unk\n",
    "peak_data[`peak_time] :change_zone each flip peak_data`peak_time`unk"
   ]
  },
  {
   "cell_type": "markdown",
   "metadata": {},
   "source": [
    "3. The date column was updated where change from UTC resulted in a time in the previous day based on start time"
   ]
  },
  {
   "cell_type": "code",
   "execution_count": 16,
   "metadata": {},
   "outputs": [],
   "source": [
    "peak_data[`date]:`date$peak_data`start_time"
   ]
  },
  {
   "cell_type": "markdown",
   "metadata": {},
   "source": [
    "4. Maximal moving averages for windows of time up to 2 days prior to the event were extracted:\n",
    "\n",
    "    - Functions to extract the appropriate date range to be extracted, the where clause to be applied, and a dictionary to be pased to the `feat` function were created \n",
    "    - Maximal moving average precipitation over 2, 4, 8, 12 and 48 hour windows were taken for the two days prior to the event.\n",
    "    \n",
    "    - The newly created features were included into the dataset and nulls and infinities were removed from the dataset"
   ]
  },
  {
   "cell_type": "code",
   "execution_count": 17,
   "metadata": {},
   "outputs": [],
   "source": [
    "// The date range of interest \n",
    "range:{(within;x;(,;(+;(-:;2);y);y))}\n",
    "// The where clause to be applied \n",
    "wh:{(range[`date;x[1]];range[`datetime;x[2]];(=;enlist x[0];($;enlist`;`site_no)))}\n",
    "// Dictionary to be passed to the feat function\n",
    "dict:{`w`wh`gr!(?;wh x;0b)}\n",
    "\n",
    "wind_ht_prev:{feat[str;enlist 2 4 12 48;`height;`wind_prev;dict x;max_mavg]\n",
    "  }each flip peak_data[`site_no`date`start_time]\n",
    "\n",
    "peak_data:peak_data,'raze wind_ht_prev\n",
    "peak_data:del[peak_data;`wind_prev_height_2;neg[0w]]"
   ]
  },
  {
   "cell_type": "markdown",
   "metadata": {},
   "source": [
    "5. Extracted information relating to projected rainfall for the next 3 days:\n",
    "\n",
    "    - A function defining the where clause was defined, along with the dictionary to be passed to the `feat` function.\n",
    "    - Rainfall information for the 3 days following the evening of interest was then extrcated.\n",
    "    - These extrac columns were added back into the dataset"
   ]
  },
  {
   "cell_type": "code",
   "execution_count": 18,
   "metadata": {},
   "outputs": [],
   "source": [
    "wh:{((within;`date;(,;y[1];(+;y[1];x)));(=;enlist y[0];`site_no))}\n",
    "dict:{`w`wh`gr!(?;wh[x;y];0b)}\n",
    "\n",
    "rain_pred:{feat[all_rain;enlist 1_til x;`ppt`upstr_ppt_1;`fut_window;dict[x;y];max_mavg]\n",
    "  }[3]each flip peak_data[`site_no`date]\n",
    "\n",
    "peak_data:peak_data,'raze rain_pred"
   ]
  },
  {
   "cell_type": "markdown",
   "metadata": {},
   "source": [
    "All the above extracted features were added to the respective datasets:\n",
    "\n",
    "\n",
    "|Feature  |Associated Dataset |\n",
    "|---------|-------------------|\n",
    "|previous rainfall|ungauged, gauged, perfect forecasts|\n",
    "|previous height|gauged, perfect forecasts|\n",
    "|moving precip averages per month| perfect forecasts|\n",
    "|previous windowed height| gauged,perfect forecasts|\n",
    "|predicted precip rain for time to peak| perfect forecasts|\n"
   ]
  },
  {
   "cell_type": "markdown",
   "metadata": {},
   "source": [
    "## Target Data"
   ]
  },
  {
   "cell_type": "markdown",
   "metadata": {},
   "source": [
    "### Monthly Models"
   ]
  },
  {
   "cell_type": "markdown",
   "metadata": {},
   "source": [
    "The target chosen for the monthly model task was extracted from the NOAA flood warning dataset. The target itself indicated if for a given month a flood stage warning was issued, thus the model required was a binary classifier. The flood warning level was one of 4 warning levels,\n",
    "\n",
    "1. Action\n",
    "2. Flood\n",
    "3. Moderate\n",
    "4. Major\n",
    "\n",
    "In order to ensure that a sufficient number of positive targets were present in the data the flood level was chosen as moderate and major events are much rarer.\n",
    "\n",
    "Given that the sites at which NOAA flood warnings are calculated and the location of gauge sites are not necessarily coincident, the latitude and longitude of the sites were used to complete a nearest neighbours join of the datasets, thus making a consistent dataset.\n",
    "\n",
    "The steps taken to create the appropriate targets were as follows:"
   ]
  },
  {
   "cell_type": "markdown",
   "metadata": {},
   "source": [
    "1. Nearest neighbours search was completed to map NOAA locations to stream sites based on latitude and longitude values :\n",
    "\n",
    "    - A list `wlatl` was created, denoting the latitude and longitude of the NOAA warning locations and gauge sites\n",
    "    - A kd-tree implementation was then created using the values from the `wlatl`, extracting the nearest neighbours of each gauge site\n",
    "    - A keyed table was produced, indicating the nearest NOAA warning location to each gauge site\n"
   ]
  },
  {
   "cell_type": "code",
   "execution_count": 19,
   "metadata": {},
   "outputs": [],
   "source": [
    "wlatl:raze each warning[`Latitude`Longitude],'gauges[`dec_lat_va`dec_long_va]\n",
    "\n",
    "tabw:kd.buildtree[wlatl;2]\n",
    "gauge_val:count[warning]+til count gauges\n",
    "nnwarn:kd.nns[;tabw;(count[warning]#0),count[gauges]#1;flip wlatl;`edist]each gauge_val\n",
    "\n",
    "joins:([site_no:gauges`site_no]nn:nnwarn[;0];ndw:nnwarn[;1])"
   ]
  },
  {
   "cell_type": "markdown",
   "metadata": {},
   "source": [
    "2. The maximum height dataset `maxht` was joined to the flood warnings table. The flood warnings were then casted to floating points\n"
   ]
  },
  {
   "cell_type": "code",
   "execution_count": 20,
   "metadata": {},
   "outputs": [],
   "source": [
    "floodlvl:(maxht ij joins)lj`nn xkey warning\n",
    "\n",
    "floodlvl[`Action`Moderate`Flood`Major]:\"F\"$'floodlvl[`Action`Moderate`Flood`Major]"
   ]
  },
  {
   "cell_type": "markdown",
   "metadata": {},
   "source": [
    "3. A table indicating how many times the stream has reached each level was created. Using the thresholds provided by NOAA and the stream gauge heights, the number of times per month that the designated threshold at a site was breached was counted."
   ]
  },
  {
   "cell_type": "code",
   "execution_count": 21,
   "metadata": {},
   "outputs": [
    {
     "data": {
      "text/plain": [
       "site_no  date    Action Flood Moderate Major no_Action no_Flood no_Mod no_Major\n",
       "-------------------------------------------------------------------------------\n",
       "01303500 2009.07 9.8    10.1  11.1     13.1  0         0        0      0       \n",
       "01303500 2009.08 9.8    10.1  11.1     13.1  0         0        0      0       \n",
       "01303500 2009.09 9.8    10.1  11.1     13.1  0         0        0      0       \n",
       "01303500 2009.10 9.8    10.1  11.1     13.1  0         0        0      0       \n",
       "01303500 2009.11 9.8    10.1  11.1     13.1  0         0        0      0       \n",
       "01303500 2009.12 9.8    10.1  11.1     13.1  0         0        0      0       \n",
       "01303500 2010.01 9.8    10.1  11.1     13.1  0         0        0      0       \n",
       "01303500 2010.02 9.8    10.1  11.1     13.1  0         0        0      0       \n",
       "01303500 2010.03 9.8    10.1  11.1     13.1  0         0        0      0       \n",
       "01303500 2010.04 9.8    10.1  11.1     13.1  0         0        0      0       \n"
      ]
     },
     "execution_count": 21,
     "metadata": {},
     "output_type": "execute_result"
    }
   ],
   "source": [
    "10#threshold:0!select \n",
    "                first Action,first Flood,first Moderate,first Major,\n",
    "                no_Action:count where height>Action,no_Flood:count where height>Flood,\n",
    "                no_Mod:count where height>Moderate,no_Major:count where height>Major \n",
    "                by site_no,\"m\"$date from floodlvl"
   ]
  },
  {
   "cell_type": "markdown",
   "metadata": {},
   "source": [
    "4. Filter out any sites that indicate 28 days of flooding in a month due to a wish to prioritise irregular events\n",
    "5. Create a binary classification target indicating if a flood warning level was reached\n"
   ]
  },
  {
   "cell_type": "code",
   "execution_count": 22,
   "metadata": {},
   "outputs": [],
   "source": [
    "threshold:select from threshold where no_Flood<28\n",
    "\n",
    "threshold[`target]:threshold[`no_Flood]>0"
   ]
  },
  {
   "cell_type": "markdown",
   "metadata": {},
   "source": [
    "### Time to Peak Model\n",
    "\n",
    "To produce a target for the time to peak model the FLASH dataset was used. This dataset provided information pertaining to how long it would take a gauge location to reach it's peak height after a rain event. To get this information and create a machine learning task the following steps were taken:\n",
    "\n",
    "1. The start time of an event was subtracted from the peak time and converted to number of elapsed hours\n",
    "2. A binary classification was created by setting if the peak height was reached in less than 3.5 hours after a major rainfall event. This time definition was set based on discussion with hydrologists at USGS."
   ]
  },
  {
   "cell_type": "code",
   "execution_count": 23,
   "metadata": {},
   "outputs": [],
   "source": [
    "peak_data[`delta_peak]:(peak_data[`peak_time]-peak_data[`start_time])*24\n",
    "\n",
    "peak_data[`target]:peak_data[`delta_peak]<3.5"
   ]
  },
  {
   "cell_type": "markdown",
   "metadata": {},
   "source": [
    "## Addition of final features\n",
    "\n",
    "### Addition of the characteristics tables \n",
    "\n",
    "1. The basin characteristics and NLCD landcover datasets were then joined to create the `stream_char` table. This provided information on the geographical landscape of the site location. \n",
    "\n",
    "2. This table was then joined to the peak and monthly datasets based on site number to create `all_peak_data` and `all_monthly_data`.\n",
    "\n",
    "3. The threshold information was also added to the monthly data by site number and date in order to allow for the addition of lagged information to be included in the next section."
   ]
  },
  {
   "cell_type": "code",
   "execution_count": 24,
   "metadata": {},
   "outputs": [],
   "source": [
    "stream_char:nlcd ij`site_no xkey basin\n",
    "\n",
    "all_peak_data:peak_data ij`site_no`year xkey stream_char\n",
    "\n",
    "all_monthly_data:(monthly_data ij`site_no`year xkey stream_char)ij`site_no`date xkey threshold"
   ]
  },
  {
   "cell_type": "markdown",
   "metadata": {},
   "source": [
    "### Lagged features"
   ]
  },
  {
   "cell_type": "markdown",
   "metadata": {},
   "source": [
    "For the monthly model, lagged features were added to the dataset:\n",
    " - The `feat` function was used to extract information pertaining to whether a specific site flooded in the last month or at that month one year prior. \n",
    " - The number of times per month the flood warning level was reached at each site location was also extacted in the `tgts` table. \n",
    " - This informatoin was then used to obtain the moving average for target data to create the `lagged_target_all` column"
   ]
  },
  {
   "cell_type": "code",
   "execution_count": 25,
   "metadata": {
    "scrolled": true
   },
   "outputs": [],
   "source": [
    "all_monthly_data:feat[all_monthly_data;enlist 1 12;`target;`lagged;sited;prv]\n",
    "\n",
    "tgts:value exec no_Flood by site_no from all_monthly_data\n",
    "\n",
    "all_monthly_data[`lagged_target_all]:raze{count[x]mavg raze x}each tgts"
   ]
  },
  {
   "cell_type": "markdown",
   "metadata": {},
   "source": [
    "The above features were applicable to the gauged and perfect forecasts datasets"
   ]
  },
  {
   "cell_type": "markdown",
   "metadata": {},
   "source": [
    "## Train-Test Split\n",
    "\n",
    "### Preparation\n",
    "\n",
    "Prior to the application of a train test split on the data, rows containing null information were removed from the dataset as these cannot be passed to machine learning algorithms. This was achieved by applying the `del_null` function to clean up the dataset."
   ]
  },
  {
   "cell_type": "code",
   "execution_count": 26,
   "metadata": {},
   "outputs": [],
   "source": [
    "del_null:{where not any each null x}\n",
    "\n",
    "cleaned_monthly:all_monthly_data[del_null all_monthly_data]\n",
    "cleaned_peak:   all_peak_data[del_null all_peak_data]"
   ]
  },
  {
   "cell_type": "markdown",
   "metadata": {},
   "source": [
    "The appropriate feature columns for the monthly and time to peak models were extracted for each of the three separate datasets outlined earlier in the notebook:\n",
    "\n",
    "1. Ungauged\n",
    "2. Gauged\n",
    "3. Perfect Forecasts\n",
    "\n",
    "\n",
    "The feature columns to be included for each of these datasets mentioned earlier are mentioned in `columns_to_include.q` under the following headings:\n",
    "\n",
    "1. ungauged_cols\n",
    "2. gauged_cols\n",
    "3. perfect_forecast_cols\n",
    "\n",
    "These columns included the removal of any information which would be considered 'leakage' including target columns or any columns from which the target could be derived.\n",
    "\n",
    "The columns for monthly (M) and time to peak (P) examples for each dataset were extracted using the `fnd_col` function as shown below."
   ]
  },
  {
   "cell_type": "code",
   "execution_count": 27,
   "metadata": {},
   "outputs": [],
   "source": [
    "fnd_col:{x where x in y}\n",
    "\n",
    "ungauged_colsM:         fnd_col[ungauged_cols;cols cleaned_monthly]\n",
    "gauged_colsM:           fnd_col[gauged_cols;cols cleaned_monthly]\n",
    "perfect_forecast_colsM: fnd_col[perfect_forecast_cols;cols cleaned_monthly]\n",
    "\n",
    "ungauged_colsP:         fnd_col[ungauged_cols;cols cleaned_peak]\n",
    "gauged_colsP:           fnd_col[gauged_cols;cols cleaned_peak]\n",
    "perfect_forecast_colsP: fnd_col[perfect_forecast_cols;cols cleaned_peak]"
   ]
  },
  {
   "cell_type": "markdown",
   "metadata": {},
   "source": [
    "The following cell outlines the creation of a framework by which the appropriate datasets could be extracted for each of the monthly and time to peak tasks\n",
    "\n",
    "1. Dictionaries containing the appropriate datasets for each task were defined\n",
    "2. The function `split_dict` was created which takes a table and `M`/`P` as input and returns the appropriate data as a matrix"
   ]
  },
  {
   "cell_type": "code",
   "execution_count": 28,
   "metadata": {},
   "outputs": [
    {
     "name": "stdout",
     "output_type": "stream",
     "text": [
      "M| `month`cos_t`sin_t`elv`imp`CatAreaSqKm`WsAreaSqKm`CatAreaSqKmRp100`WsAreaS..\n",
      "P| `month`cos_t`sin_t`elv`imp`CatAreaSqKm`WsAreaSqKm`CatAreaSqKmRp100`WsAreaS..\n"
     ]
    }
   ],
   "source": [
    "show ungauge: `M`P!(ungauged_colsM;ungauged_colsP)\n",
    "gauge:   `M`P!(ungauge[`M],gauged_colsM;ungauge[`P],gauged_colsP)\n",
    "forecast:`M`P!(gauge[`M],perfect_forecast_colsM;gauge[`P],perfect_forecast_colsP)\n",
    "\n",
    "split_dict:{(!). flip(\n",
    "  (`ungauged;flip x[ungauge[y]]);\n",
    "  (`gauged;flip x[gauge[y]]);\n",
    "  (`forecast;flip x[forecast[y]]))}"
   ]
  },
  {
   "cell_type": "markdown",
   "metadata": {},
   "source": [
    "### Monthly Model"
   ]
  },
  {
   "cell_type": "markdown",
   "metadata": {},
   "source": [
    "When splitting the data for this model, it was deemed important that no time leakage occurred between the training and test sets (e.g. the training set contained information from 2009 to 2017, while the test set contained the remaining years).\n",
    "\n",
    "This ensured that the model was tested similarly to how it would be deployed in a real world scenario .i.e training on currently available information and testing on new information as it is available. \n",
    "\n",
    "The training set contained 80% of the data while the testing set contained the remaining 80%. The `split_dict` function defined previously is used to produce the training data"
   ]
  },
  {
   "cell_type": "code",
   "execution_count": 29,
   "metadata": {},
   "outputs": [
    {
     "name": "stdout",
     "output_type": "stream",
     "text": [
      "ungauged| 6i  -1f          1.224647e-16  112f  14.68071    0.0522  20.4282  0..\n",
      "gauged  | 6i  -1f          1.224647e-16  112f  14.68071    0.0522  20.4282  0..\n",
      "forecast| 6i  -1f          1.224647e-16  112f  14.68071    0.0522  20.4282  0..\n"
     ]
    }
   ],
   "source": [
    "// The cutoff dataset was produced and date defined at which the datasets were cutoff\n",
    "cutoff:update cutoff_date:min[date]+floor 0.8*max[date]-min[date] by site_no from cleaned_monthly\n",
    "\n",
    "// Data and targets from the dataset were extracted\n",
    "XtrainMi:select from cutoff where date<cutoff_date\n",
    "ytrainM:exec target from cutoff where date<cutoff_date\n",
    "XtestMi:select from cutoff where date>=cutoff_date\n",
    "ytestM:exec target from cutoff where date>=cutoff_date\n",
    "\n",
    "// From the master training and testing datasets the appropriate information for the monthly data was extracted\n",
    "XtrainM:split_dict[XtrainMi;`M]\n",
    "show XtestM:split_dict[XtestMi;`M]"
   ]
  },
  {
   "cell_type": "markdown",
   "metadata": {},
   "source": [
    "### Time to Peak Model\n",
    "\n",
    "The following histogram displays sites which produced a flash flood event within the range of each bin. This highlighted the uneven distribution of targets across sites, thus explaining the need for a more complex data splitting methodology."
   ]
  },
  {
   "cell_type": "code",
   "execution_count": 30,
   "metadata": {},
   "outputs": [
    {
     "data": {
      "image/png": "[encoded data removed]",
      "text/plain": [
       "<Figure size 460.8x345.6 with 1 Axes>"
      ]
     },
     "metadata": {},
     "output_type": "display_data"
    }
   ],
   "source": [
    "sites:0!select sum target by site_no from cleaned_peak\n",
    "plt[`:hist][sites`target];\n",
    "plt[`:xlabel][\"Number of events per site\"];\n",
    "plt[`:ylabel][\"Number of associated sites\"];\n",
    "plt[`:show][];"
   ]
  },
  {
   "cell_type": "markdown",
   "metadata": {},
   "source": [
    "The splitting of this dataset was slightly more involved. In order to test generalization to new areas, the data was split such that sites could not appear in both the training and testing sets. In addition to this, given the uneven distribution of events in each site the data was stratified such that the training and testing sets contained sites which had similar levels of flood activity."
   ]
  },
  {
   "cell_type": "code",
   "execution_count": 31,
   "metadata": {},
   "outputs": [],
   "source": [
    "// The number of events associated with each bin of the dataset was set\n",
    "bins:0 5 15 25.0\n",
    "\n",
    "// The target data was split into their associated bins\n",
    "y_binned:bins bin`float$sites`target\n",
    "\n",
    "// Using embedPy, site numbers and targets were stratified into an 80-20 train-test split of the data\n",
    "tts:train_test_split[sites[`site_no];sites[`target];`test_size pykw 0.2; `random_state pykw 607;\n",
    "    `shuffle pykw 1b;`stratify pykw y_binned]`;\n",
    "\n",
    "// The cleaned_peak data was updated such that a flag indicating training/testing set was denoted\n",
    "cleaned_peak[`split]:`TRAIN\n",
    "peak_split:update split:`TEST from cleaned_peak where site_no in`$tts[1]"
   ]
  },
  {
   "cell_type": "markdown",
   "metadata": {},
   "source": [
    "As in the Monthly model, the split_dict function was used to appropriately split the dataset"
   ]
  },
  {
   "cell_type": "code",
   "execution_count": 32,
   "metadata": {},
   "outputs": [
    {
     "name": "stdout",
     "output_type": "stream",
     "text": [
      "ungauged| 7i  -0.8660254   -0.5          246f  12.16933   4.0455  47.2707  0...\n",
      "gauged  | 7i  -0.8660254   -0.5          246f  12.16933   4.0455  47.2707  0...\n",
      "forecast| 7i  -0.8660254   -0.5          246f  12.16933   4.0455  47.2707  0...\n"
     ]
    }
   ],
   "source": [
    "XtrainPi:select from peak_split where split=`TRAIN\n",
    "ytrainP:exec target from peak_split where split=`TRAIN\n",
    "XtestPi:select from  peak_split where split=`TEST\n",
    "ytestP:exec target from peak_split where split=`TEST\n",
    "\n",
    "XtrainP:split_dict[XtrainPi;`P]\n",
    "show XtestP:split_dict[XtestPi;`P]"
   ]
  },
  {
   "cell_type": "markdown",
   "metadata": {},
   "source": [
    "## Model Building and Evaluation"
   ]
  },
  {
   "cell_type": "markdown",
   "metadata": {},
   "source": [
    "Thoughout the course of this work a wide variety of models were tested including Neural networks, however for the sake of this notebook, only models and results from an eXtreme Gradient Boost (XGBoost) and random forest classifier are presented below. These models were chosen due to their ability to deal with complex, imbalanced datasets. A more indepth discussion of these models can also be found in the associated whitepaper.\n",
    "\n",
    "The following cell outlines a function used to fit both a Random-Forest classifier and XGBoost mode.This function returns a fitted model for each algorithm."
   ]
  },
  {
   "cell_type": "code",
   "execution_count": 33,
   "metadata": {},
   "outputs": [],
   "source": [
    "build_model:{[Xtrain;ytrain;dict]\n",
    " rf_hyp_nms:`n_estimators`random_state`class_weight;\n",
    " rf_hyp_vals:(dict`rf_n;0;(0 1)!(1;dict`rf_wgt));\n",
    " rf_clf:RandomForestClassifier[pykwargs rf_hyp_nms!rf_hyp_vals][`:fit][Xtrain; ytrain];\n",
    "\n",
    " xgb_hyp_nms:`n_estimators`learning_rate`random_state`scale_pos_weight`max_depth;\n",
    " xgb_hyp_vals:(dict`xgb_n;dict`xgb_lr;0;dict`xgb_wgt;dict`xgb_maxd);\n",
    " xgb_clf: XGBClassifier[pykwargs xgb_hyp_nms!xgb_hyp_vals][`:fit][np[`:array]Xtrain; ytrain];\n",
    " \n",
    " `random_forest`XGB!(rf_clf;xgb_clf)}"
   ]
  },
  {
   "cell_type": "markdown",
   "metadata": {},
   "source": [
    "These models were used in the results section below in conjunction with the function `pr_curve` to test their performance on the training set. This function was used both to visulaize the results in the form of a precision-recall curve and also to provide important metrics\n",
    "\n",
    "**pr_curve[ xtest ; ytest ; dict ]**\n",
    "\n",
    "* xtest = matrix of feature values\n",
    "* ytest = list of targets \n",
    "* dict  = dictionary of fitted models produced by build_model above\n",
    "\n",
    "The output information from this function is as follows\n",
    "\n",
    "1. Overall accuracy of the model \n",
    "2. Mean-Class accuracy which is a 'fairer' accuracy metric\n",
    "3. Classification report outlining overall and class based precision, recall and f1-score\n",
    "4. The precision-recall curves for each model and the area under the curve associated with each "
   ]
  },
  {
   "cell_type": "markdown",
   "metadata": {},
   "source": [
    "## Results"
   ]
  },
  {
   "cell_type": "markdown",
   "metadata": {},
   "source": [
    "The scores and graphics in the results below were separated based on the three datasets created and sub divided into the monthly and time to peak models.\n",
    "\n",
    "Following display of the graphics and scores, a summary of the results for each section was provided."
   ]
  },
  {
   "cell_type": "markdown",
   "metadata": {},
   "source": [
    "### Ungauged Prediction "
   ]
  },
  {
   "cell_type": "markdown",
   "metadata": {},
   "source": [
    "#### Monthly Model"
   ]
  },
  {
   "cell_type": "code",
   "execution_count": 34,
   "metadata": {},
   "outputs": [
    {
     "name": "stdout",
     "output_type": "stream",
     "text": [
      "\n",
      "Accuracy for random_forest: 0.9389502\n",
      "\n",
      "\n",
      "Meanclass accuracy for random_forest: 0.8507405\n",
      "\n",
      "\n",
      "class    | precision recall    f1_score  support\n",
      "---------| -------------------------------------\n",
      "0        | 0.9426159 0.9948198 0.9680145 13127  \n",
      "1        | 0.7588652 0.2120912 0.3315259 1009   \n",
      "avg/total| 0.8507405 0.6034555 0.6497702 14136  \n",
      "\n",
      "Accuracy for XGB: 0.9214063\n",
      "\n",
      "\n",
      "Meanclass accuracy for XGB: 0.6967247\n",
      "\n",
      "\n",
      "class    | precision recall    f1_score  support\n",
      "---------| -------------------------------------\n",
      "0        | 0.9526141 0.9632818 0.9579183 13127  \n",
      "1        | 0.4408353 0.3766105 0.4061999 1009   \n",
      "avg/total| 0.6967247 0.6699461 0.6820591 14136  \n"
     ]
    },
    {
     "data": {
      "image/png": "[encoded data removed]",
      "text/plain": [
       "<Figure size 460.8x345.6 with 1 Axes>"
      ]
     },
     "metadata": {},
     "output_type": "display_data"
    }
   ],
   "source": [
    "dict:`rf_n`rf_wgt`rf_maxd`xgb_n`xgb_lr`xgb_wgt`xgb_maxd!(200;1;8;200;.2;15;7)\n",
    "\n",
    "models:build_model[XtrainM`ungauged;ytrainM;dict]\n",
    "\n",
    "pltU1:pr_curve[XtestM`ungauged;ytestM;models]"
   ]
  },
  {
   "cell_type": "markdown",
   "metadata": {},
   "source": [
    "#### Time to Peak Model"
   ]
  },
  {
   "cell_type": "code",
   "execution_count": 35,
   "metadata": {
    "scrolled": false
   },
   "outputs": [
    {
     "name": "stdout",
     "output_type": "stream",
     "text": [
      "\n",
      "Accuracy for random_forest: 0.7509091\n",
      "\n",
      "\n",
      "Meanclass accuracy for random_forest: 0.7635576\n",
      "\n",
      "\n",
      "class    | precision recall    f1_score  support\n",
      "---------| -------------------------------------\n",
      "0        | 0.7474542 0.9657895 0.8427095 380    \n",
      "1        | 0.779661  0.2705882 0.4017467 170    \n",
      "avg/total| 0.7635576 0.6181889 0.6222281 550    \n",
      "\n",
      "Accuracy for XGB: 0.7836364\n",
      "\n",
      "\n",
      "Meanclass accuracy for XGB: 0.7564688\n",
      "\n",
      "\n",
      "class    | precision recall    f1_score  support\n",
      "---------| -------------------------------------\n",
      "0        | 0.8056206 0.9052632 0.8525403 380    \n",
      "1        | 0.7073171 0.5117647 0.5938567 170    \n",
      "avg/total| 0.7564688 0.7085139 0.7231985 550    \n"
     ]
    },
    {
     "data": {
      "image/png": "[encoded data removed]",
      "text/plain": [
       "<Figure size 460.8x345.6 with 1 Axes>"
      ]
     },
     "metadata": {},
     "output_type": "display_data"
    }
   ],
   "source": [
    "dict:`rf_n`rf_wgt`rf_maxd`xgb_n`xgb_lr`xgb_wgt`xgb_maxd!(220;1;17;340;.01;1.5;3)\n",
    "\n",
    "models:build_model[XtrainP`ungauged;ytrainP;dict]\n",
    "\n",
    "pltU2 :pr_curve[XtestP`ungauged;ytestP;models]"
   ]
  },
  {
   "cell_type": "markdown",
   "metadata": {},
   "source": [
    "### Gauged Prediction"
   ]
  },
  {
   "cell_type": "markdown",
   "metadata": {},
   "source": [
    "#### Monthly Model"
   ]
  },
  {
   "cell_type": "code",
   "execution_count": 36,
   "metadata": {},
   "outputs": [
    {
     "name": "stdout",
     "output_type": "stream",
     "text": [
      "\n",
      "Accuracy for random_forest: 0.942275\n",
      "\n",
      "\n",
      "Meanclass accuracy for random_forest: 0.8926668\n",
      "\n",
      "\n",
      "class    | precision recall    f1_score  support\n",
      "---------| -------------------------------------\n",
      "0        | 0.9443442 0.996572  0.9697554 13127  \n",
      "1        | 0.8409894 0.2358771 0.3684211 1009   \n",
      "avg/total| 0.8926668 0.6162245 0.6690882 14136  \n",
      "\n",
      "Accuracy for XGB: 0.9333616\n",
      "\n",
      "\n",
      "Meanclass accuracy for XGB: 0.749916\n",
      "\n",
      "\n",
      "class    | precision recall    f1_score  support\n",
      "---------| -------------------------------------\n",
      "0        | 0.9551057 0.974023  0.9644716 13127  \n",
      "1        | 0.5447263 0.4043608 0.4641638 1009   \n",
      "avg/total| 0.749916  0.6891919 0.7143177 14136  \n"
     ]
    },
    {
     "data": {
      "image/png": "[encoded data removed]",
      "text/plain": [
       "<Figure size 460.8x345.6 with 1 Axes>"
      ]
     },
     "metadata": {},
     "output_type": "display_data"
    }
   ],
   "source": [
    "dict:`rf_n`rf_wgt`rf_maxd`xgb_n`xgb_lr`xgb_wgt`xgb_maxd!(100;16;8;100;0.2;16;9)\n",
    "\n",
    "models:build_model[XtrainM`gauged;ytrainM;dict]\n",
    "\n",
    "pltG1:pr_curve[XtestM`gauged;ytestM;models]"
   ]
  },
  {
   "cell_type": "markdown",
   "metadata": {},
   "source": [
    "#### Time to Peak Model"
   ]
  },
  {
   "cell_type": "code",
   "execution_count": 37,
   "metadata": {},
   "outputs": [
    {
     "name": "stdout",
     "output_type": "stream",
     "text": [
      "\n",
      "Accuracy for random_forest: 0.7527273\n",
      "\n",
      "\n",
      "Meanclass accuracy for random_forest: 0.7705355\n",
      "\n",
      "\n",
      "class    | precision recall    f1_score  support\n",
      "---------| -------------------------------------\n",
      "0        | 0.7479675 0.9684211 0.8440367 380    \n",
      "1        | 0.7931034 0.2705882 0.4035088 170    \n",
      "avg/total| 0.7705355 0.6195046 0.6237727 550    \n",
      "\n",
      "Accuracy for XGB: 0.7818182\n",
      "\n",
      "\n",
      "Meanclass accuracy for XGB: 0.7575282\n",
      "\n",
      "\n",
      "class    | precision recall    f1_score  support\n",
      "---------| -------------------------------------\n",
      "0        | 0.7995392 0.9131579 0.8525799 380    \n",
      "1        | 0.7155172 0.4882353 0.5804196 170    \n",
      "avg/total| 0.7575282 0.7006966 0.7164997 550    \n"
     ]
    },
    {
     "data": {
      "image/png": "[encoded data removed]",
      "text/plain": [
       "<Figure size 460.8x345.6 with 1 Axes>"
      ]
     },
     "metadata": {},
     "output_type": "display_data"
    }
   ],
   "source": [
    "dict:`rf_n`rf_wgt`rf_maxd`xgb_n`xgb_lr`xgb_wgt`xgb_maxd!(100;1;17;350;0.01;1.5;3)\n",
    "\n",
    "models:build_model[XtrainP`gauged;ytrainP;dict]\n",
    "\n",
    "pltG2 :pr_curve[XtestP`gauged;ytestP;models]"
   ]
  },
  {
   "cell_type": "markdown",
   "metadata": {},
   "source": [
    "### Perfect Forecast"
   ]
  },
  {
   "cell_type": "markdown",
   "metadata": {},
   "source": [
    "#### Monthly Model"
   ]
  },
  {
   "cell_type": "code",
   "execution_count": 38,
   "metadata": {},
   "outputs": [
    {
     "name": "stdout",
     "output_type": "stream",
     "text": [
      "\n",
      "Accuracy for random_forest: 0.9459536\n",
      "\n",
      "\n",
      "Meanclass accuracy for random_forest: 0.9156981\n",
      "\n",
      "\n",
      "class    | precision recall    f1_score  support\n",
      "---------| -------------------------------------\n",
      "0        | 0.9473837 0.9971814 0.9716449 13127  \n",
      "1        | 0.8840125 0.2794846 0.4246988 1009   \n",
      "avg/total| 0.9156981 0.638333  0.6981718 14136  \n",
      "\n",
      "Accuracy for XGB: 0.9451754\n",
      "\n",
      "\n",
      "Meanclass accuracy for XGB: 0.7930223\n",
      "\n",
      "\n",
      "class    | precision recall    f1_score  support\n",
      "---------| -------------------------------------\n",
      "0        | 0.97066   0.9702902 0.9704751 13127  \n",
      "1        | 0.6153846 0.6184341 0.6169056 1009   \n",
      "avg/total| 0.7930223 0.7943622 0.7936903 14136  \n"
     ]
    },
    {
     "data": {
      "image/png": "[encoded data removed]",
      "text/plain": [
       "<Figure size 460.8x345.6 with 1 Axes>"
      ]
     },
     "metadata": {},
     "output_type": "display_data"
    }
   ],
   "source": [
    "dict:`rf_n`rf_wgt`xgb_n`xgb_lr`xgb_wgt`xgb_maxd!(100;15;100;0.2;15;7)\n",
    "\n",
    "models:build_model[XtrainM`forecast;ytrainM;dict]\n",
    "\n",
    "pltP1:pr_curve[XtestM`forecast;ytestM;models]"
   ]
  },
  {
   "cell_type": "markdown",
   "metadata": {},
   "source": [
    "#### Time to Peak Model"
   ]
  },
  {
   "cell_type": "code",
   "execution_count": 39,
   "metadata": {
    "scrolled": false
   },
   "outputs": [
    {
     "name": "stdout",
     "output_type": "stream",
     "text": [
      "\n",
      "Accuracy for random_forest: 0.7454545\n",
      "\n",
      "\n",
      "Meanclass accuracy for random_forest: 0.7553861\n",
      "\n",
      "\n",
      "class    | precision recall    f1_score  support\n",
      "---------| -------------------------------------\n",
      "0        | 0.742915  0.9657895 0.8398169 380    \n",
      "1        | 0.7678571 0.2529412 0.380531  170    \n",
      "avg/total| 0.7553861 0.6093653 0.610174  550    \n",
      "\n",
      "Accuracy for XGB: 0.7490909\n",
      "\n",
      "\n",
      "Meanclass accuracy for XGB: 0.7057449\n",
      "\n",
      "\n",
      "class    | precision recall    f1_score  support\n",
      "---------| -------------------------------------\n",
      "0        | 0.8151042 0.8236842 0.8193717 380    \n",
      "1        | 0.5963855 0.5823529 0.5892857 170    \n",
      "avg/total| 0.7057449 0.7030186 0.7043287 550    \n"
     ]
    },
    {
     "data": {
      "image/png": "[encoded data removed]",
      "text/plain": [
       "<Figure size 460.8x345.6 with 1 Axes>"
      ]
     },
     "metadata": {},
     "output_type": "display_data"
    }
   ],
   "source": [
    "dict:`rf_n`rf_wgt`rf_maxd`xgb_n`xgb_lr`xgb_wgt`xgb_maxd!(100;1;17;300;0.01;2.5;3)\n",
    "\n",
    "models:build_model[XtrainP`forecast;ytrainP;dict]\n",
    "\n",
    "pltP2 :pr_curve[XtestP`forecast;ytestP;models]"
   ]
  },
  {
   "cell_type": "markdown",
   "metadata": {},
   "source": [
    "### Scoring Summary"
   ]
  },
  {
   "cell_type": "markdown",
   "metadata": {},
   "source": [
    "**Ungauged Models**\n",
    "\n",
    "*Monthly*\n",
    "\n",
    "The accuracy of both classifiers in the monthly model were relatively high, random forests achieving a slightly higher score of 0.9389502. The meanclass accuracy was lower in both classifiers, ranging from ~0.7-0.85 in the random forests and XGBoost respectively. However, considering that the class distribution was extremely inbalanced, the accuracy was not a good metric to measure by. Both classifiers returned low precision and recall scores when evaluating the positive class, indicating that the model was not very skilled at picking up on the flood events. Low scores of ~0.4 were also seen in the precision-recall curves for both classifiers.\n",
    "\n",
    "*Time to Peak*\n",
    "\n",
    "XGBoosts achieved both a higher accuracy of 0.78 and a more stable precision recall ratio, 0.7 to 0.51, for the positive class when compared with random forests, meaning that a relatively large amount of flood events occuring under the 3.5 hour threshold were being identified by the model. The meanlass accuracy for both classifiers were similar at ~0.76. The area under the precision-recall curve were comparable between both classifiers, with scores of 0.616 and 0.636 for the random forests and XGBoost being reached.\n",
    "\n",
    "**Gauged Models**\n",
    "\n",
    "*Monthly*\n",
    "\n",
    "Improved accuracy and meanclass accuracy scores were evident in the gauged model, with higher accuracy again being achieved by the random forests. The meanclass acuracy also preformed relatively better at 0.89 when compared with the XGBoost classifier result of 0.75. Although still low, a slightly improved balance between the precision and recall scores, 0.5447 to 0.404, for the positve class was reached by the XGBoost. The area under the precision-recall curve improved in both classifiers to 0.51 (XGBoost) abd 0.53 (random forests) from the previous ungauged model.\n",
    "\n",
    "*Time to Peak*\n",
    "\n",
    "The accuracy and meanclass accuracy were extremely similar compared with the results obtained in the ungauged model. The precision and recall scores only slightly altered from the ungauged model. This indicated that the addition of previous stream/river heights did not impact the model. The areas under with the precision-recall curves however, were higher when compared with the previous models curves.\n",
    "\n",
    "**Perfect Forecast Models**\n",
    "\n",
    "*Monthly*\n",
    "\n",
    "Similar accuracy results werew seen between the random forests and XGBoost with results of 0.945, with random forests achieving a greater meanclass accuracy score of 0.916 compared with that of XGBoosts 0.79. Precision and recall scores for the positive class were also high at 0.62 for both metrics, compared to the random forest classifier that produced an imbalanced precision score of 0.88 compared to 0.28 in the recall score. Both precision-recall curves improved from the previous gauged model, achieving areas of 0.69 and 0.64 for XGBoost and the random forest classifier respectively.\n",
    "\n",
    "*Time to Peak*\n",
    "\n",
    "A slight decrease in accuracy occured in both classifiers compared with previous models, although an improved  balance between the precision and recall scores of ~0.6 were seen for the XGBoost. The precision-recall curves slightly increased from the previous models results, reaching scores of 0.65 for the XGBoost and and 0.63 for the random forests classifiers."
   ]
  },
  {
   "cell_type": "markdown",
   "metadata": {},
   "source": [
    "### Feature Significance"
   ]
  },
  {
   "cell_type": "markdown",
   "metadata": {},
   "source": [
    "There is also a lot to be learned from determining which features contribute to predicting the target for a model. As such analysis could allow decision makers to prioritise the information used to make decisions.\n",
    "\n",
    "To find the features which were deemed statistically significant to prediction of the target, the function `ml.fresh.significantfeatures` from the machine learning toolkit was used. The top 15 features in both the monthly and time to peak models were found using `ml.fresh.ksigfeat[x]`.\n",
    "\n",
    "The cell below defines some functionality used for the evaluation of both models:"
   ]
  },
  {
   "cell_type": "code",
   "execution_count": 40,
   "metadata": {},
   "outputs": [],
   "source": [
    "title:{\"The top 15 significant features for \",x,\" predictions are:\"}\n",
    "nums :{string[1+til x],'x#enlist\". \"}\n",
    "kfeat:.ml.fresh.ksigfeat 15"
   ]
  },
  {
   "cell_type": "markdown",
   "metadata": {},
   "source": [
    "#### Monthly Model"
   ]
  },
  {
   "cell_type": "code",
   "execution_count": 41,
   "metadata": {},
   "outputs": [
    {
     "data": {
      "text/plain": [
       "\"The top 15 significant features for monthly predictions are:\"\n"
      ]
     },
     "execution_count": 41,
     "metadata": {},
     "output_type": "execute_result"
    },
    {
     "data": {
      "text/plain": [
       "1. lagged_target_all     2. window_ppt_1          3. window_ppt_2        \n",
       "4. window_ppt_3          5. window_ppt_4          6. window_ppt_5        \n",
       "7. window_ppt_6          8. window_upstr_ppt_1_1  9. window_upstr_ppt_1_2\n",
       "10. window_upstr_ppt_1_3 11. window_upstr_ppt_1_4 12. lagged_target_1    \n",
       "13. lagged_target_12     14. window_upstr_ppt_1_5 15. window_ppt_7       \n"
      ]
     },
     "execution_count": 41,
     "metadata": {},
     "output_type": "execute_result"
    }
   ],
   "source": [
    "title[\"monthly\"]\n",
    "X_Month:flip forecast[`M]!cleaned_monthly[forecast[`M]]\n",
    "y_Month:cleaned_monthly`target\n",
    "3 cut`$nums[15],'string .ml.fresh.significantfeatures[X_Month;y_Month;kfeat]"
   ]
  },
  {
   "cell_type": "markdown",
   "metadata": {},
   "source": [
    "#### Time to Peak Model"
   ]
  },
  {
   "cell_type": "code",
   "execution_count": 42,
   "metadata": {},
   "outputs": [
    {
     "data": {
      "text/plain": [
       "\"The top 15 significant features for time-peak predictions are:\"\n"
      ]
     },
     "execution_count": 42,
     "metadata": {},
     "output_type": "execute_result"
    },
    {
     "data": {
      "text/plain": [
       "1. WsAreaSqKmRp100       2. WsAreaSqKm          3. wind_prev_height_48\n",
       "4. prev_upstr_height_1_1 5. wind_prev_height_12 6. prev_height_1      \n",
       "7. prev_height_5         8. WetIndexCat         9. prev_height_4      \n",
       "10. prev_height_7        11. prev_height_6      12. prev_height_2     \n",
       "13. prev_height_8        14. wind_prev_height_4 15. prev_height_3     \n"
      ]
     },
     "execution_count": 42,
     "metadata": {},
     "output_type": "execute_result"
    }
   ],
   "source": [
    "title[\"time-peak\"]\n",
    "X_t2p:flip forecast[`P]!cleaned_peak[forecast[`P]]\n",
    "y_t2p:cleaned_peak`target\n",
    "3 cut`$nums[15],'string .ml.fresh.significantfeatures[X_t2p;y_t2p;kfeat]"
   ]
  },
  {
   "cell_type": "markdown",
   "metadata": {},
   "source": [
    "## Graphics "
   ]
  },
  {
   "cell_type": "markdown",
   "metadata": {},
   "source": [
    "#### Monthly Model"
   ]
  },
  {
   "cell_type": "markdown",
   "metadata": {},
   "source": [
    "Using these results, it was also possible to build a map highlighting which areas are at risk of flooding each month. This could be used by governmental bodies to prioritize funding in the coming weeks."
   ]
  },
  {
   "cell_type": "code",
   "execution_count": 43,
   "metadata": {},
   "outputs": [
    {
     "data": {
      "application/vnd.jupyter.widget-view+json": {
       "model_id": "03ffb9e750884b29ba4ae917f97c01b6",
       "version_major": 2,
       "version_minor": 0
      },
      "text/plain": [
       "VBox(children=(HBox(children=(IntSlider(value=1, continuous_update=False, description='Months 2018', max=12, m…"
      ]
     },
     "metadata": {},
     "output_type": "display_data"
    }
   ],
   "source": [
    "preds:last pltP1`model\n",
    "newtst:update preds:preds from XtestMi\n",
    "newt:select from newtst where date within 2018.01 2018.12m,preds=1\n",
    "dfnew:.ml.tab2df newt\n",
    "graphs:.p.get`AcledExplorer\n",
    "graphs[`df pykw dfnew][`:render][];"
   ]
  },
  {
   "cell_type": "markdown",
   "metadata": {},
   "source": [
    "**Note**\n",
    "\n",
    "For clarity this uses a python function contained in the file `../code/graphics.p` from this directory. The use of interactive widgets in a JupyterQ through embedPy is limited in scope. More information and exmaples on using widgets in JupyterQ can be found on https://github.com/KxSystems/jupyterq/blob/master/examples/q_widgets.ipynb"
   ]
  },
  {
   "cell_type": "markdown",
   "metadata": {},
   "source": [
    "#### Time to Peak Model"
   ]
  },
  {
   "cell_type": "markdown",
   "metadata": {},
   "source": [
    "Given the information that has been extracted from above, a comparison between the predicted time that a stream will reach it's peak height was compared to the actual time of the peak height event. This is shown in the graphic below."
   ]
  },
  {
   "cell_type": "code",
   "execution_count": 44,
   "metadata": {},
   "outputs": [
    {
     "data": {
      "image/png": "[encoded data removed]",
      "text/plain": [
       "<Figure size 460.8x345.6 with 1 Axes>"
      ]
     },
     "metadata": {},
     "output_type": "display_data"
    }
   ],
   "source": [
    "// The predictions for the ungauged model were extracted\n",
    "pred:last pltU2`model\n",
    "\n",
    "// For a specific site the start, peak and end times of an event were extracted\n",
    "pg:raze select site_no,start_time,end_time,peak_time from XtrainPi \n",
    "    where unk=`EDT,i in where pred=XtestPi`target,site_no=`02164110,\n",
    "    target=1,delta_peak>2\n",
    "\n",
    "// The parameters used in plotting were defined\n",
    "rainfall   :`x_val`col`title!(pg[`start_time];`r;`rainfall)\n",
    "actual_peak:`x_val`col`title!(pg[`peak_time];`g;`actual_peak)\n",
    "pred_bound :`x_val`col`title!(03:30+pg[`start_time];`black;`predicted_upper_bound)\n",
    "\n",
    "// The relevant information for each site around the time of a major rainfall event was extracted\n",
    "graph:select from str where date within (`date$pg[`start_time];`date$pg[`end_time]), datetime\n",
    "      within (neg[00:15]+pg[`start_time];[00:10]+pg[`end_time]),(pg`site_no)=`$site_no\n",
    "\n",
    "// The height was plotted as a function of time\n",
    "times  :graph`datetime\n",
    "heights:graph`height\n",
    "plt_params:`label`linewidth!(`height;3)\n",
    "plt[`:plot][times;heights;pykwargs plt_params];\n",
    "\n",
    "// Lines indicating relevant events were plotted\n",
    "pltline:{\n",
    "  dict:`color`label`linewidth!(x`col;x`title;3);\n",
    "  plt[`:axvline][x`x_val;pykwargs dict];}\n",
    "\n",
    "pltline each(rainfall;actual_peak;pred_bound);\n",
    "\n",
    "plt[`:legend][`loc pykw `best];\n",
    "plt[`:title][\"Time to Peak\"];\n",
    "plt[`:ylabel][\"Height\"];\n",
    "plt[`:xlabel][\"Time\"];\n",
    "plt[`:xticks][()];\n",
    "plt[`:show][];"
   ]
  },
  {
   "cell_type": "markdown",
   "metadata": {},
   "source": [
    "## Conclusion"
   ]
  },
  {
   "cell_type": "markdown",
   "metadata": {},
   "source": [
    "From the above results we could predict, with relatively high accuracy, whether an area was likely to flood or not in the next month. We could also produce a model to predict if a stream would reach its peak height within 3.5 hours.\n",
    "\n",
    "For the monthly models, the future weather predictions played an important role in predicting whether an area would flood or not. Accuracy increased as the weather predictions and gauged information columns were added to the dataset. This corresponded with the results from the significant feature tests, with lagged_target information and also the windowed rain values of the current month being the most important features to include. For the majority of the models, the random forests classifier obtained high accuracy results, but very unbalanced precision and recall scores. In some scenarios, high precision scores were achieved along with corresponding low recall, indicating that flooding events could be missed. Although XGBoosts didn't recieve as high accuracy, the precision and recall scores were much more balanced which is a favourable trait to have in this type of model when predicting an unpredictable event such as flooding. \n",
    "\n",
    "The opposite was true for the time-peak values, as previous rain and stream gauge information along with the basin characteristics were seen to be the most significant features when predicting these values. Including additional information about the future predicted rainfall did not improve the accuracy of the results, with the best results being obtained from the ungauged model by the XGBoost classifier. Despite this, the perfect forecasts dataset gave the most balance between the precision and recall of the positive class, compared with the ungauged model that favoured high precision alongside low recall scores. \n",
    "\n",
    "Both of these results are likely be physically expected. In the case of the monthly prediction, information regarding future forecast was pivotal in whether an area will flood in the next month. Whereas in the case of a time to peak value, it would be unlikely that information about rainfall in the next number of days would add to the predictive power of a model.\n",
    "\n",
    "Knowing what features contribute to flood susceptibility and the length of time it takes for a river to reach its peak height, is an important piece of information to extract from the model. From this, organizations such as USGS can better prepare for flood events and understand how changing climates and placement of impervious surface can affect the likelihood of flooding.\n",
    "\n",
    "The best results from the models above were obtained by continuously adjusting the hyper-parameters of the model. The unbalanced target data in the monthly model, meant that weighting the classes was an important feature to experiment with. This was particularly important when trying to obtain high precision and recall results. Between the two models, balance in the recall and precision was better for the XGBoost model."
   ]
  },
  {
   "cell_type": "code",
   "execution_count": null,
   "metadata": {},
   "outputs": [],
   "source": []
  }
 ],
 "metadata": {
  "kernelspec": {
   "display_name": "Q (kdb+)",
   "language": "q",
   "name": "qpk"
  },
  "language_info": {
   "file_extension": ".q",
   "mimetype": "text/x-q",
   "name": "q",
   "version": "3.6.0"
  }
 },
 "nbformat": 4,
 "nbformat_minor": 2
}
