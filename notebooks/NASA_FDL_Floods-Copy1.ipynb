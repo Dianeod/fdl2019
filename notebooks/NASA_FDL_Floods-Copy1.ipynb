{
 "cells": [
  {
   "cell_type": "markdown",
   "metadata": {},
   "source": [
    "## NASA Frontier Development Lab - Disaster Prevention, Progress and Response (Floods)"
   ]
  },
  {
   "cell_type": "markdown",
   "metadata": {},
   "source": [
    "Floods are the most destructive and dangerous natural disasters worldwide. All regions can be affected by flooding events and, with the increased variability in weather patterns due to global warming, this is likely to become even more prelevant. The speed at which flooding events can occur, and difficulties in predicting their occurrance, create huge logistic problems for both governmental and non-governmental agencies. Over the past 10 years, floods have caused on average 95 deaths a year in the US alone, making them the deadliest weather related phenomenon. Worldwide, floods cost in excess of 40 Billion dollars per year, impacting property, agriculture and the health of individuals.\n",
    "\n",
    "Throughout the duration of the project, we collaborated with United States Geological Survey (USGS), a scientific agency within the US Department of the Interior. The objective of this organization is to study the landscape of the US and provide information about its natural resources and the natural hazards that affect them. Currently, hydrologists use physical models to help predict floods. These models require predictions to be carefully calibrated for each stream or watershed and careful consideration must be taken for dams, levees etc. Producing these models is extremely costly due to resource requirements. This limits the areas within the US that can avail of such systems to better prepare for flood events.\n",
    "\n",
    "To predict the flood susceptibility of a stream area, the project was separated into two distinct problems.\n",
    "\n",
    "**Monthly Model**\n",
    "\n",
    "Predicting, per month, if a stream height will reach a predefined flood threshold. These flood thresholds are set by the National Oceanic and Atmospheric Administration (NOAA) and were location specific. Knowing which areas are susceptible to flooding, allow locations to better prepare for a flood event.\n",
    "\n",
    "**Time to Peak Model**\n",
    "\n",
    "Predicting the time taken for a stream/river to reach it's peak height. Following a major rain event occurs, knowing how long it will take for a river to reach this height is vital in order to inform potentially affected individuals if and when they need to evacuate. This can help to reduce structural damage and loss of life during a disaster."
   ]
  },
  {
   "cell_type": "markdown",
   "metadata": {},
   "source": [
    "## The Data"
   ]
  },
  {
   "cell_type": "markdown",
   "metadata": {},
   "source": [
    "This project focused on 6 states within the US, over a period of 10 years. Data was taken from ~800 gauge sites, between July 2009 and June 2019. Not all gauge sites had continuous historical data over the period, but all the available data for each site was used.\n",
    "\n",
    "The 6 states were:\n",
    "\n",
    "    -New Jersey\n",
    "    -Nebraska\n",
    "    -South Carolina\n",
    "    -New York\n",
    "    -South Dakota\n",
    "    -Virginia\n",
    "    \n",
    "A primary reason for choosing these states, was that each exhibits similar climate and landscape. Focusing on similar geographies from a machine learning perspective ensures that the models produced could be generalized to similar regions and given assumed reduced variability in conditions, models that are more precise.\n",
    "\n",
    "Other required datasets and providers:\n",
    "\n",
    "**USGS**\n",
    "\n",
    "This consists of the height of a stream as measured by gauges for over 11,000 sites in the US. The data is updated every 15 minutes, with some locations having historical data for over 50 years. \n",
    "\n",
    "**PRISM**\n",
    "\n",
    "The PRISM Climate Group provides climate observations across the whole of the US. This dataset was used to extract daily precipitation readings from the site locations for each day during the requested 10 year period.\n",
    "\n",
    "**National Land Cover Database (NLCD)**\n",
    "\n",
    "The NLCD database was collected using Landsat. This provides information such as land-use classification (urban, agriculture, forest, etc.), how well the land allows water to pass through it (impervious surface information) and tree cover. This dataset has updated records every 5 years from 2006.\n",
    "\n",
    "**National Hydrology Dataset Plus (NHDPlus)**\n",
    "\n",
    "NHDPlus is a geo-spatial hydrologic framework dataset associated with USGS. The features used from this dataset were the catchment and drainage area characteristics at the stream site locations. \n",
    "\n",
    "**Flooded Locations And Simulated Hydrographs Project (FLASH)**\n",
    "\n",
    "FLASH is a database containing information about flood events within the US. The information used from this dataset was the time taken for a river to reach its peak height after a major rain event.\n",
    "\n",
    "**NOAA**\n",
    "\n",
    "NOAA is a US governmental agency for monitoring and preserving the climate and environment. The data provided by NOAA surrounded flood level thresholds for locations across the US. These thresholds consisted of four warning stages and the river height for a given location that causes them to reach these levels. The four warning stages were:"
   ]
  },
  {
   "cell_type": "markdown",
   "metadata": {},
   "source": [
    "|Warning |  Meaning                                                                                     |\n",
    "|--------|-------                                                                                     |\n",
    "|Action  |\tMitigation action needs to be taken in order to prepare for possible hydrological activity|\n",
    "|Flood\t |  The river height poses a threat to lives, property and businesses|\n",
    "|Moderate| \tSome inundation of roads or buildings. A flood warning should be released|\n",
    "|Major\t |  Extensive inundation of roads and buildings. Considerable evacuations of areas may occur|\n",
    "\n",
    "\n",
    "A more indepth discussion on these datasources can be found within the associated whitepaper."
   ]
  },
  {
   "cell_type": "markdown",
   "metadata": {},
   "source": [
    "An implementation describing how to download the stream gauge height data from USGS over the 10 year period can be found in the stream.q file"
   ]
  },
  {
   "cell_type": "markdown",
   "metadata": {},
   "source": [
    "## Load Required Libraries"
   ]
  },
  {
   "cell_type": "code",
   "execution_count": 1,
   "metadata": {},
   "outputs": [
    {
     "name": "stderr",
     "output_type": "stream",
     "text": [
      "/home/cmccarthy/anaconda3/envs/newq/lib/python3.6/site-packages/sklearn/ensemble/weight_boosting.py:29: DeprecationWarning: numpy.core.umath_tests is an internal NumPy module and should not be imported. It will be removed in a future NumPy release.\n",
      "  from numpy.core.umath_tests import inner1d\n"
     ]
    }
   ],
   "source": [
    "// Load the machine learning toolkit\n",
    "\\l ml/ml.q \n",
    ".ml.loadfile`:init.q\n",
    "\n",
    "// Load flood data and associated code\n",
    "\\l ../floods.q\n",
    ".fld.loadfile`:init.q"
   ]
  },
  {
   "cell_type": "markdown",
   "metadata": {},
   "source": [
    "## Data Preprocessing\n",
    "\n",
    "Due to the variety of data sources and datasets used, preprocessing the data is of critical importance. This step ensures that feature engineering completed later in the pipeline is more seamless. The following are the operations taken on the data at this stage.\n",
    "\n",
    "1. Prepend any stream-site names containing less than 8 values with 0's to ensure consist lengths\n",
    "2. Remove rows containing nulls or infinities from the datasets as these can't be passed to machine learning algorithms.\n",
    "3. Add a column denoting the index of each location in the NOAA threshold dataset (used for nearest neighbours calculations)\n",
    "4. Modify site id's in the PRISM dataset such that no site id's are the same and a limit of 12 digits for an individual site is adhered to.\n",
    "5. Add a column to allow the NLCD dataset which is updated every 5 years to be joined later in the notebook"
   ]
  },
  {
   "cell_type": "code",
   "execution_count": 2,
   "metadata": {},
   "outputs": [],
   "source": [
    "// Utility functions\n",
    "\n",
    "/ functional delete\n",
    "del:{![x;enlist (=;y;z);0b;`symbol$()]}\n",
    "\n",
    "/ prepend sites with 7 numbers with a 0\n",
    "conv7_fn:{`$$[7=count x;\"0\",;]x}"
   ]
  },
  {
   "cell_type": "markdown",
   "metadata": {},
   "source": [
    "Steps: 1 -> 3"
   ]
  },
  {
   "cell_type": "code",
   "execution_count": 3,
   "metadata": {},
   "outputs": [],
   "source": [
    "// Remove nulls from the precipitation dataset\n",
    "precip:update conv7_fn each string each site_no from del[precipall;`ppt;0n]\n",
    "\n",
    "// Remove infinities from maximum stream height dataset\n",
    "maxht :update conv7_fn each site_no from del[max_ht_str;`height;neg[0w]]\n",
    "\n",
    "// Insert index column for warning dataset\n",
    "warning:update nn:i from warnings"
   ]
  },
  {
   "cell_type": "markdown",
   "metadata": {},
   "source": [
    "Step: 4\n",
    "\n",
    "Manipulation of the PRISM dataset is more involved. The steps taken are as follows with each step associated with an individual code block\n",
    "\n",
    "1. Find all sites from PRISM data with more than 12 digits\n",
    "2. Locate sites in the precipitation data associated with the PRISM dataset\n",
    "3. Removal of trailing site id's can cause clashes, in this data such a clash only occurs at index 20 in the names table. Get the index at which these clashes occur and splits them based on lat/long.\n",
    "4. Create exception lists and new id lists in order to correctly process data\n",
    "5. Update the precipitation table based on the updates to id's and clashes"
   ]
  },
  {
   "cell_type": "code",
   "execution_count": 4,
   "metadata": {},
   "outputs": [],
   "source": [
    "rms:asc ds where 12<count each ds:string exec distinct site_no from gauges \n",
    "\n",
    "names:0!select i by site_no from precip where site_no in `$12#'rms\n",
    "\n",
    "matchnames:0!select i by lat,long from precip where i in names[`x][20]\n",
    "\n",
    "lst1:til[26]except 21 22; lst2:til[25]except 20\n",
    "i1:`$rms[lst1],rms[21 22]; i2:(names[`x]lst2),matchnames`x\n",
    "\n",
    "precip:{![x;enlist(in;`i;z);0b;enlist[`site_no]!enlist enlist y]}/[precip;i1;i2]"
   ]
  },
  {
   "cell_type": "markdown",
   "metadata": {},
   "source": [
    "Step 5:"
   ]
  },
  {
   "cell_type": "code",
   "execution_count": 5,
   "metadata": {},
   "outputs": [],
   "source": [
    "// bin the year information into 2006,2011 and 2016 associated with each used NLCD dataset\n",
    "nlcdyear:{$[x<2011;6;x<2016;11;16]}each `year$precip[`date]\n",
    "\n",
    "// Udate the table to include year information\n",
    "precip:update year:nlcdyear from precip"
   ]
  },
  {
   "cell_type": "markdown",
   "metadata": {},
   "source": [
    "## Feature Engineering"
   ]
  },
  {
   "cell_type": "markdown",
   "metadata": {},
   "source": [
    "Given the available data, it was possible to split the information into three datasets\n",
    "\n",
    "1. Ungauged basin: Information available at sites that do not contain stream gauge or future forecasting information. Data was limited to land use, past rainfall and upstream information.\n",
    "\n",
    "\n",
    "2. Gauged basin: All information contained within the ungauged basin dataset, as well as stream gauge information. This included previous river heights and lagged/aggregated flooding information.\n",
    "\n",
    "\n",
    "3. Perfect Forecasts: All information contained within the gauged basin dataset, as well as precipitation information around the time of the event.\n",
    "\n",
    "Within the feature engineering section of this notebook, the features which encorporate the entire set of the above datasets are produced, they are split into appropriate datasets later in the notebook."
   ]
  },
  {
   "cell_type": "markdown",
   "metadata": {},
   "source": [
    "### Seasonality information and data restrictions"
   ]
  },
  {
   "cell_type": "markdown",
   "metadata": {},
   "source": [
    "Seasonal Information plays an important role when predicting if an area will flood and how long it will take. This seasonality can be captured by using sine and cosine transformations of the month that the event occured. The latitude and longitude of the stream sites can also be represented as sine and cosine decompositions."
   ]
  },
  {
   "cell_type": "code",
   "execution_count": 6,
   "metadata": {},
   "outputs": [],
   "source": [
    "pi:acos -1\n",
    "// Create a month column based on dates and extract sin/cosine representation.\n",
    "precip:`date xasc update month:`mm$date from precip\n",
    "precip:update cos_t:cos 2*pi*month%12,sin_t:sin 2*pi*month%12 from precip\n",
    "\n",
    "// Include latitude and longitude decompositions\n",
    "precip:update x:cos(lat)*cos(long),y:cos(lat)*sin(long),z:sin(lat) from precip"
   ]
  },
  {
   "cell_type": "markdown",
   "metadata": {},
   "source": [
    "### Windowed, upstream and lagged features\n",
    "\n",
    "Some of the most important information which can be added in forecasting tasks are,\n",
    "\n",
    "1. Lagged features which provide historical information about the behaviour of the system (in this case an individual site).\n",
    "2. Upstream features which may provide early warnings for high volumes of water moving down-stream\n",
    "3. Windowed historical information which gives macro information about the system, this can include the average rainfall in a location for example\n",
    "\n",
    "For ease of implementation, the creation of these features within this white paper are wrapped within the macro function `feat`."
   ]
  },
  {
   "cell_type": "markdown",
   "metadata": {},
   "source": [
    "For clarity the following are the inputs to the functions `feat`:\n",
    "\n",
    "**feat [x ; y ; z ; col ; d; fnc]**\n",
    "\n",
    "- `x`    table that's being updated\n",
    "- `y`    how many values to calculate (integer list)\n",
    "- `z`    column to apply the function to (symbol)\n",
    "- `col`  new column name (symbol)\n",
    "- `d`    dictionary of where, groupby and type of functional statement being used\n",
    "- `fnc`  function to be applied to the grouped column\n"
   ]
  },
  {
   "cell_type": "code",
   "execution_count": 7,
   "metadata": {},
   "outputs": [],
   "source": [
    "// Create new column name\n",
    "colname:{enlist`$string[y],\"_\",string[x],\"_\",string[z]}\n",
    "\n",
    "// Calculate maximal moving average\n",
    "max_mavg:{(max;(mavg;y;x))}\n",
    "\n",
    "// Calculate value of lagged features\n",
    "prv:{(xprev;y;x)}\n",
    "\n",
    "// Applies functions to appropriate columns and rename columns appropriately\n",
    "func:{[x;y;z;b]raze{[x;y;z;b]colname[x;y;z]!enlist b[x;z]}[z;y;;b]each raze x}\n",
    "\n",
    "// Windowing, upstream and lagged extraction function\n",
    "feat:{[x;y;z;col;d;fnc] d[`w][x;d`wh;d`gr;$[1<count[z];raze;]func[y;col;;fnc]each z]}"
   ]
  },
  {
   "cell_type": "markdown",
   "metadata": {},
   "source": [
    "#### Upstream Values"
   ]
  },
  {
   "cell_type": "markdown",
   "metadata": {},
   "source": [
    "Using the `feat` function we can obtain upstream information. This is possible as the id numbers for each site consist of two digits which denote the basin catchment and the remaining digits are ascending values based on the location of gauges along the stream"
   ]
  },
  {
   "cell_type": "code",
   "execution_count": 8,
   "metadata": {},
   "outputs": [],
   "source": [
    "// denote that a functional update with grouping by site number and date will be completed\n",
    "catch_site:((';#);2;($:;`site_no))\n",
    "site_date:`site_no`date!(catch_site;`date)\n",
    "dict:`w`wh`gr!(!;();site_date)\n",
    "\n",
    "// calculate the precipitation and height values at the next nearest previous stream location\n",
    "upstr_ppt:feat[precip;1;`ppt;`upstr;dict;prv]\n",
    "upstr_height:feat[maxht;1;`height;`upstr;dict;prv]"
   ]
  },
  {
   "cell_type": "markdown",
   "metadata": {},
   "source": [
    "#### Previous rainfall and stream height\n",
    "\n",
    "The `feat` function can also be used to find the rainfall and heights for both the present location and upstream locations for each of the previous 10 days"
   ]
  },
  {
   "cell_type": "code",
   "execution_count": 9,
   "metadata": {},
   "outputs": [],
   "source": [
    "// Denote grouping by site number\n",
    "dict[`gr]:site:(enlist `site_no)!enlist `site_no\n",
    "\n",
    "// calculate daily lagged precipitation and height for each site \n",
    "prev_rain:feat[upstr_ppt;enlist 1_til 10;`ppt`upstr_ppt_1;`prev;sited:dict;prv]\n",
    "all_height:feat[upstr_height;enlist 1_til 10;`height`upstr_height_1;`prev;dict;prv]"
   ]
  },
  {
   "cell_type": "markdown",
   "metadata": {},
   "source": [
    "### Use-case specific features\n",
    "\n",
    "All of the features calculated prevoiusly are applicable in each use-case however both the monthly and time-to-peak models also require more bespoke features to be calculated"
   ]
  },
  {
   "cell_type": "markdown",
   "metadata": {},
   "source": [
    "### Monthly Model\n",
    "\n",
    "The following steps were completed for additional features to be added for the monthly models\n",
    "\n",
    "1. Maximal moving average rainfall at current and previous upstream site over different time windows (1 - 15 day windows)\n",
    "2. Select the first day of each month as the point of reference for the months' data, this allows encompassing of information from the previous months information\n",
    "3. Join together the height and rain data for reach site and date to create the initial monthly dataset"
   ]
  },
  {
   "cell_type": "code",
   "execution_count": 10,
   "metadata": {},
   "outputs": [],
   "source": [
    "// Denote grouping by month and site number\n",
    "dict[`gr]:(`date`site_no)!(($;enlist`month;`date);`site_no)\n",
    "\n",
    "// Produce the maximal moving average's based on site\n",
    "all_rain:feat[prev_rain;enlist 1_til 15;`ppt`upstr_ppt_1;`window;dict;max_mavg]\n",
    "\n",
    "// Select the first date of each month as the data point of reference and update date's to month\n",
    "height_data:update date:\"m\"$date from select from all_height where 1=`dd$date\n",
    "rain_data  :update date:\"m\"$date from select from all_rain   where 1=`dd$date\n",
    "\n",
    "// Join together the height and rain data based on site_no and date\n",
    "monthly_data:height_data ij`site_no`date xkey rain_data"
   ]
  },
  {
   "cell_type": "markdown",
   "metadata": {},
   "source": [
    "### Time to Peak Model\n",
    "\n",
    "The hours leading to a flash flood event can provide important information regarding how quickly the height of a stream is moving. This information can be incredibly important in allowing for prediction of the time to reach its peak height.\n",
    "\n",
    "For construction of the time to peak models the following steps were taken to produce appropriate features\n",
    "\n",
    "1. Joined the FLASH dataset (`peak`) to the daily height and rain datasets produced previously\n",
    "2. Converted the times in the FLASH dataset to UTC such that they are consistent with the USGS stream data.\n",
    "3. Updated the date column of dates where change to UTC resulted in a time in the previous day based on start time\n",
    "4. Extracted maximal moving averages for windows of time up to 2 days prior to the event\n",
    "5. Removed nulls and infinities from the dataset\n",
    "6. Extracted information relating to rainfall projected rainfall for the next 3 days (perfect forecast)\n",
    "\n",
    "The following cell follows step 1."
   ]
  },
  {
   "cell_type": "code",
   "execution_count": 11,
   "metadata": {},
   "outputs": [],
   "source": [
    "// Create the initial dataset\n",
    "peak_data:(peak ij`date`site_no xkey prev_rain)ij`date`site_no xkey all_height"
   ]
  },
  {
   "cell_type": "markdown",
   "metadata": {},
   "source": [
    "In the following cell the conversion of times to UTC as outlined in steps 2 and 3 is completed to ensure that the correct times are associated with the relevant flooding event."
   ]
  },
  {
   "cell_type": "code",
   "execution_count": 12,
   "metadata": {},
   "outputs": [],
   "source": [
    "// Extract the date associated with each site\n",
    "site_date:flip value flip 0!select date by distinct site_no from peak_data\n",
    "\n",
    "// get the timezone (unk) information for each site from the gauges hdb (str)\n",
    "time_zone:raze{\n",
    "  dd:x[1];si:x[0];\n",
    "  select `$first site_no,`$first unk from str where date=first dd,si=`$site_no}each site_date\n",
    "\n",
    "// join the time-zone information to the peak dataset\n",
    "peak_data:peak_data ij`site_no xkey time_zone\n",
    "\n",
    "// Define a function to modify the time-zone based on extracted information from gauges hdb\n",
    "change_zone:{tz:x[1];tm:x[0];$[tz=`EDT;tm-04:00;tz=`CDT;tm-05:00;tm-06:00]}\n",
    "\n",
    "// Apply the time zone change to the relevant time columns in dataset\n",
    "peak_data[`start_time]:change_zone each flip peak_data`start_time`unk\n",
    "peak_data[`end_time]  :change_zone each flip peak_data`end_time`unk\n",
    "peak_data[`peak_time] :change_zone each flip peak_data`peak_time`unk\n",
    "\n",
    "// Modify the date as appropriate given change to time-zone \n",
    "peak_data[`date]:`date$peak_data`start_time"
   ]
  },
  {
   "cell_type": "markdown",
   "metadata": {},
   "source": [
    "As mentioned previously the hours leading up to a flooding event are particularly important, as such in step 3 maximal moving average precipitation over 2,4,8,12 and 48 hour windows are taken for the two days prior to the event."
   ]
  },
  {
   "cell_type": "code",
   "execution_count": 13,
   "metadata": {},
   "outputs": [],
   "source": [
    "// function defining the date range of interest\n",
    "range:{(within;x;(,;(+;(-:;2);y);y))}\n",
    "// Definition of the where clause to be applied\n",
    "wh:{(range[`date;x[1]];range[`datetime;x[2]];(=;x[0];($;enlist`;`site_no)))}\n",
    "// dictionary to be passed to the feat function\n",
    "dict:{`w`wh`gr!(?;wh x;0b)}\n",
    "\n",
    "// Windowed previous heights\n",
    "wind_ht_prev:{feat[str;enlist 2 4 12 48;`height;`wind_prev;dict x;max_mavg]\n",
    "  }each flip peak_data[`site_no`date`start_time]\n",
    "\n",
    "// incorporate the windowed information into the table\n",
    "peak_data:peak_data,'raze wind_ht_prev\n",
    "\n",
    "// remove -0w values from the table\n",
    "peak_data:del[peak_data;`wind_prev_height_2;neg[0w]]"
   ]
  },
  {
   "cell_type": "markdown",
   "metadata": {},
   "source": [
    "Step 5 outlined in the cell below incorporates future rainfall (perfect forecast) information, thus allowing us to test if this improved the predictive power of the models."
   ]
  },
  {
   "cell_type": "code",
   "execution_count": 14,
   "metadata": {},
   "outputs": [],
   "source": [
    "// define the where clause to be applied\n",
    "wh:{((within;`date;(,;y[1];(+;y[1];x)));(=;y[0];`site_no))}\n",
    "// dictionary to be applied to the prediction function\n",
    "dict:{`w`wh`gr!(?;wh[x;y];0b)}\n",
    "\n",
    "// Extract the rainfall information for the 3 days following the event of interest\n",
    "rain_pred:{feat[all_rain;enlist 1_til x;`ppt`upstr_ppt_1;`fut_window;dict[x;y];max_mavg]\n",
    "  }[3]each flip peak_data[`site_no`date]\n",
    "\n",
    "// incorporate the windowed information into the table\n",
    "peak_data:peak_data,'raze rain_pred"
   ]
  },
  {
   "cell_type": "markdown",
   "metadata": {},
   "source": [
    "## Target Data"
   ]
  },
  {
   "cell_type": "markdown",
   "metadata": {},
   "source": [
    "### Monthly Models"
   ]
  },
  {
   "cell_type": "markdown",
   "metadata": {},
   "source": [
    "The target chosen for the monthly model task was extracted from the NOAA flood warning dataset. The target itself relates to if for a given month a flood stage warning was issued, thus the model required will be a binary classifier. The flood warning level is one of 4 warning levels,\n",
    "\n",
    "1. Action\n",
    "2. Flood\n",
    "3. Moderate\n",
    "4. Major\n",
    "\n",
    "In order to ensure that a sufficient number of positive targets are present in the data the flood level was chosen as moderate and major events are much rarer.\n",
    "\n",
    "Given that the sites at which NOAA flood warnings are calculated and the location of gauge sites are not necessarily coincident, the latitude and longitude of the sites are used to complete a nearest neighbours join of the datasets, thus making a consistent dataset.\n",
    "\n",
    "The steps taken to create the appropriate targets were as follows;\n",
    "\n",
    "1. Complete nearest neighbours search to map NOAA site to stream site \n",
    "2. Join together the maximum height dataset `maxht` to the flood warnings table\n",
    "3. Create a table indicating how many times the stream has reached each level\n",
    "4. Filter out any sites that indicate 28 days of flooding in a month due to a wish to prioritise irregular events\n",
    "5. Create a binary classification target based on if a flood warning level was reached\n",
    "\n",
    "Step 1 was completed in the following cell"
   ]
  },
  {
   "cell_type": "code",
   "execution_count": 15,
   "metadata": {},
   "outputs": [],
   "source": [
    "// join warnings and gauges latitude and longitude information together\n",
    "wlatl:raze each warning[`Latitude`Longitude],'gauges[`dec_lat_va`dec_long_v]\n",
    "\n",
    "// build a kd tree and complete nearest neighbours calculation to get appropriate indices\n",
    "tabw:kd.buildtree[wlatl;2]\n",
    "gauge_val:count[warning]+til count gauges\n",
    "nnwarn:kd.nns[;tabw;(count[warning]#0),count[gauges]#1;flip wlatl;`edist]each gauge_val\n",
    "\n",
    "// produce a table keyed on site indicating the nearest gauge to warning\n",
    "joins:([site_no:gauges`site_no]nn:nnwarn[;0];ndw:nnwarn[;1])"
   ]
  },
  {
   "cell_type": "markdown",
   "metadata": {},
   "source": [
    "Join together the datasets based on nearest neighbours as outlined in step 2."
   ]
  },
  {
   "cell_type": "code",
   "execution_count": 16,
   "metadata": {},
   "outputs": [],
   "source": [
    "// join max height and warning datasets based on nearest neighbouts\n",
    "floodlvl:(maxht ij joins)lj`nn xkey warning\n",
    "\n",
    "// casting to appropriate types\n",
    "floodlvl[`Action`Moderate`Flood`Major]:\"F\"$'floodlvl[`Action`Moderate`Flood`Major]"
   ]
  },
  {
   "cell_type": "markdown",
   "metadata": {},
   "source": [
    "Using the thresholds provided by NOAA and the stream gauge heights count the number of times per month that the designated threshold at a site was breached."
   ]
  },
  {
   "cell_type": "code",
   "execution_count": 17,
   "metadata": {},
   "outputs": [
    {
     "data": {
      "text/plain": [
       "site_no  date    Action Flood Moderate Major no_Action no_Flood no_Mod no_Major\n",
       "-------------------------------------------------------------------------------\n",
       "01200000 2009.07 6      9     10       12    0         0        0      0       \n",
       "01200000 2009.08 6      9     10       12    0         0        0      0       \n",
       "01200000 2009.09 6      9     10       12    0         0        0      0       \n",
       "01200000 2009.10 6      9     10       12    0         0        0      0       \n",
       "01200000 2009.11 6      9     10       12    0         0        0      0       \n",
       "01200000 2009.12 6      9     10       12    0         0        0      0       \n",
       "01200000 2010.01 6      9     10       12    0         0        0      0       \n",
       "01200000 2010.02 6      9     10       12    0         0        0      0       \n",
       "01200000 2010.03 6      9     10       12    1         0        0      0       \n",
       "01200000 2010.04 6      9     10       12    0         0        0      0       \n"
      ]
     },
     "execution_count": 17,
     "metadata": {},
     "output_type": "execute_result"
    }
   ],
   "source": [
    "10#threshold:0!select \n",
    "                first Action,first Flood,first Moderate,first Major,\n",
    "                no_Action:count where height>Action,no_Flood:count where height>Flood,\n",
    "                no_Mod:count where height>Moderate,no_Major:count where height>Major \n",
    "                by site_no,\"m\"$date from floodlvl"
   ]
  },
  {
   "cell_type": "code",
   "execution_count": 18,
   "metadata": {},
   "outputs": [],
   "source": [
    "// Filter out any sites which indicate flooding more than 28 days a month\n",
    "threshold:select from threshold where no_Flood<28\n",
    "\n",
    "// Create the binary classification target\n",
    "threshold[`target]:threshold[`no_Flood]>0"
   ]
  },
  {
   "cell_type": "markdown",
   "metadata": {},
   "source": [
    "### Time to Peak Model\n",
    "\n",
    "To produce a target for the time to peak model the FLASH dataset was used. This dataset provides an indication of how long it will take a location to reach it's peak height after a rain event. To get this information and create a machine learning task the following steps are taken.\n",
    "\n",
    "1. Subtract the start time of an event from the peak time and convert to number of elapsed hours\n",
    "2. Create a binary classification task by setting that peak height should be reached less than 3.5 hours after a major rainfall event. This time definition was set based on discussion with hydrologists at USGS."
   ]
  },
  {
   "cell_type": "code",
   "execution_count": 19,
   "metadata": {},
   "outputs": [],
   "source": [
    "// Subraction of datetimes returns fraction of 24 hour period thus multiplication by 24\n",
    "peak_data[`delta_peak]:(peak_data[`peak_time]-peak_data[`start_time])*24\n",
    "\n",
    "// Create the target by setting a threshold of 3.5hrs\n",
    "peak_data[`target]:peak_data[`delta_peak]<3.5"
   ]
  },
  {
   "cell_type": "markdown",
   "metadata": {},
   "source": [
    "## Addition of final features\n",
    "\n",
    "### Addition of the characteristics tables \n",
    "\n",
    "The basin characteristics and NLCD landcover datasets could now be joined to the monthly and peak datasets based on site number. These provide information on the geographical and human, the threshold information is also added by site number and date in order to allow for the addition of lagged information to be included in the next section."
   ]
  },
  {
   "cell_type": "code",
   "execution_count": 20,
   "metadata": {},
   "outputs": [],
   "source": [
    "// Join the nlcd data to the basin information to produce stream characteristics\n",
    "stream_char:nlcd ij`site_no xkey basin\n",
    "// Join stream characteristics to the peak data to create final peak data information\n",
    "all_peak_data:peak_data ij`site_no`year xkey stream_char\n",
    "// Join together the threshold data with the stream characteristics and monthly data\n",
    "all_monthly_data:(monthly_data ij`site_no`year xkey stream_char)ij`site_no`date xkey threshold"
   ]
  },
  {
   "cell_type": "markdown",
   "metadata": {},
   "source": [
    "### Lagged features"
   ]
  },
  {
   "cell_type": "markdown",
   "metadata": {},
   "source": [
    "For the monthly model, lagged features could be added to the dataset. This allowed for information pertaining to whether a specific site flooded in the last month or at that month one year prior."
   ]
  },
  {
   "cell_type": "code",
   "execution_count": 24,
   "metadata": {
    "scrolled": true
   },
   "outputs": [],
   "source": [
    "// use feat to find the information on the target 1 month and 12 months prior\n",
    "all_monthly_data:feat[all_monthly_data;enlist 1 12;`target;`lagged;sited;prv]\n",
    "\n",
    "// extract important information from monthly datasets\n",
    "tgts:0!select site_no,no_Flood,date,cs:count date by site_no from all_monthly_data\n",
    "\n",
    "// Addition of lagged target information to monthly dataset\n",
    "all_monthly_data[`lagged_target_all]:raze{count[x]mavg raze x}each?[tgts;();();`no_Flood]"
   ]
  },
  {
   "cell_type": "markdown",
   "metadata": {},
   "source": [
    "## Train-Test Split\n",
    "\n",
    "### Preparation\n",
    "\n",
    "Prior to the application of a train test split on the data, rows containing null information are removed from the dataset as these cannot be passed to machine learning algorithms"
   ]
  },
  {
   "cell_type": "code",
   "execution_count": 38,
   "metadata": {},
   "outputs": [],
   "source": [
    "// Find rows containing nulls\n",
    "del_null:{where not any each null x}\n",
    "\n",
    "// Remove rows containing nulls from the datasets\n",
    "cleaned_monthly:all_monthly_data[del_null all_monthly_data]\n",
    "cleaned_peak:   all_peak_data[del_null all_peak_data]"
   ]
  },
  {
   "cell_type": "markdown",
   "metadata": {},
   "source": [
    "The appropriate feature columns for the monthly and time to peak models were extracted for each of the three separate datasets outlined earlier in the notebook:\n",
    "\n",
    "1. Ungauged\n",
    "2. Gauged\n",
    "3. Perfect Forecasts\n",
    "\n",
    "\n",
    "The columns to be included for each of these datasets are outlined in `columns_to_include.q` under the following headings:\n",
    "\n",
    "1. ungauged_cols\n",
    "2. gauged_cols\n",
    "3. perfect_cols\n",
    "\n",
    "These columns include the removal of any information which would be considered 'leakage' including target columns or any columns from which the target could be derived"
   ]
  },
  {
   "cell_type": "code",
   "execution_count": 39,
   "metadata": {},
   "outputs": [],
   "source": [
    "// extract appropriate columns\n",
    "fnd_col:{x where x in y}\n",
    "\n",
    "// Extract columns for monthly (M) and time to peak (P) examples\n",
    "ungauged_colsM:         fnd_col[ungauged_cols;cols cleaned_monthly]\n",
    "gauged_colsM:           fnd_col[gauged_cols;cols cleaned_monthly]\n",
    "perfect_forecast_colsM: fnd_col[perfect_forecast_cols;cols cleaned_monthly]\n",
    "\n",
    "ungauged_colsP:         fnd_col[ungauged_cols;cols cleaned_peak]\n",
    "gauged_colsP:           fnd_col[gauged_cols;cols cleaned_peak]\n",
    "perfect_forecast_colsP: fnd_col[perfect_forecast_cols;cols cleaned_peak]"
   ]
  },
  {
   "cell_type": "markdown",
   "metadata": {},
   "source": [
    "The following cell outlines the creation of a framework by which the appropriate datasets can be extracted for each of the monthly and time to peak tasks\n",
    "\n",
    "1. Define dictionaries which contain the appropriate datasets for each task\n",
    "2. Create a function `split_dict` which takes a table and `M`/`P` as input and returns the appropriate data as a matrix"
   ]
  },
  {
   "cell_type": "code",
   "execution_count": 40,
   "metadata": {},
   "outputs": [],
   "source": [
    "// Define the appropriate dictionaries\n",
    "ungauge: `M`P!(ungauged_colsM;ungauged_colsP)\n",
    "gauge:   `M`P!(ungauge[`M],gauged_colsM;ungauge[`P],gauged_colsP)\n",
    "forecast:`M`P!(gauge[`M],perfect_forecast_colsM;gauge[`P],perfect_forecast_colsP)\n",
    "\n",
    "// Define the split dict function \n",
    "split_dict:{(!). flip(\n",
    "  (`ungauged;flip x[ungauge[y]]);\n",
    "  (`gauged;flip x[gauge[y]]);\n",
    "  (`forecast;flip x[forecast[y]]))}"
   ]
  },
  {
   "cell_type": "markdown",
   "metadata": {},
   "source": [
    "### Monthly Model"
   ]
  },
  {
   "cell_type": "markdown",
   "metadata": {},
   "source": [
    "When splitting the data for this model, it was deemed important that no time leakage occurred between the training and test sets (e.g. the training set contained information from 2009 to 2017, while the test set contained the remaining years).\n",
    "\n",
    "This ensures that the model was tested similarly to how it would be deployed in a real world scenario .i.e training on currently available information and testing on new information as it is available. \n",
    "\n",
    "The training set contains 80% of the data while the testing set contains the remaining 80%. The `split_dict` function defined previously is used to produce the training data"
   ]
  },
  {
   "cell_type": "code",
   "execution_count": 41,
   "metadata": {},
   "outputs": [],
   "source": [
    "// produce the cutoff dataset and define the date at which we cutoff the datasets\n",
    "cutoff:update cutoff_date:min[date]+floor 0.8*max[date]-min[date] by site_no from cleaned_monthly\n",
    "\n",
    "// Extract data and targets from the dataset\n",
    "XtrainMi:select from cutoff where date<cutoff_date\n",
    "ytrainM:exec target from cutoff where date<cutoff_date\n",
    "XtestMi:select from cutoff where date>=cutoff_date\n",
    "ytestM:exec target from cutoff where date>=cutoff_date\n",
    "\n",
    "// From the master training and testing datasets extract the appropriate information for the monthly data\n",
    "XtrainM:split_dict[XtrainMi;`M]\n",
    "XtestM:split_dict[XtestMi;`M]"
   ]
  },
  {
   "cell_type": "markdown",
   "metadata": {},
   "source": [
    "### Time to Peak Model\n",
    "\n",
    "The following histogram displays sites which have produced a flash flood event within the range of each bin. This highlights the uneven distribution of targets across sites and thus explains the need for a more complex data splitting methodology."
   ]
  },
  {
   "cell_type": "code",
   "execution_count": 49,
   "metadata": {},
   "outputs": [
    {
     "data": {
      "image/png": "[encoded data removed]",
      "text/plain": [
       "<Figure size 460.8x345.6 with 1 Axes>"
      ]
     },
     "metadata": {},
     "output_type": "display_data"
    }
   ],
   "source": [
    "sites:0!select sum target by site_no from cleaned_peak\n",
    "plt[`:hist][sites`target];\n",
    "plt[`:xlabel][\"Number of events\"];\n",
    "plt[`:ylabel][\"Number of associated sites\"];\n",
    "plt[`:show][];"
   ]
  },
  {
   "cell_type": "markdown",
   "metadata": {},
   "source": [
    "The splitting of this dataset is slightly more involved. In order to test generalization to new areas the data is split such that sites cannot appear in both the training and testing sets. In addition to this given the uneven distribution of events in each site the data is stratified such that the training and testing sets contain sites which have similar levels of flood activity."
   ]
  },
  {
   "cell_type": "code",
   "execution_count": 50,
   "metadata": {},
   "outputs": [],
   "source": [
    "// set the number of events associated with each bin of the dataset\n",
    "bins:0 5 15 25.0\n",
    "\n",
    "// split the target data into their associated bins\n",
    "y_binned:bins bin`float$sites`target\n",
    "\n",
    "// Using embedPy stratify site numbers and targets into an 80-20 train-test split of the data\n",
    "tts:train_test_split[sites[`site_no];sites[`target];`test_size pykw 0.2; `random_state pykw 607;\n",
    "    `shuffle pykw 1b;`stratify pykw y_binned]`;\n",
    "\n",
    "// update the cleaned_peak data such that a flag indicating trainin/testing set is denoted\n",
    "cleaned_peak[`split]:`TRAIN\n",
    "peak_split:update split:`TEST from cleaned_peak where site_no in`$tts[1]\n",
    "\n",
    "// As in the Monthly model use the split_dict function to appropriately split the dataset\n",
    "XtrainPi:select from peak_split where split=`TRAIN\n",
    "ytrainP:exec target from peak_split where split=`TRAIN\n",
    "XtestPi:select from  peak_split where split=`TEST\n",
    "ytestP:exec target from peak_split where split=`TEST\n",
    "\n",
    "XtrainP:split_dict[XtrainPi;`P]\n",
    "XtestP:split_dict[XtestPi;`P]"
   ]
  },
  {
   "cell_type": "markdown",
   "metadata": {},
   "source": [
    "## Model Building and Evaluation"
   ]
  },
  {
   "cell_type": "markdown",
   "metadata": {},
   "source": [
    "Thoughout the course of this work a wide variety of models were tested including Neural networks, however for the sake of this notebook, only models and results from an eXtreme Gradient Boost (XGBoost) and random forest classifier are presented below. These models were chosen due to their ability to deal with complex, imbalanced datasets. A more indepth discussion of these models can also be found in the associated whitepaper.\n",
    "\n",
    "In The following cell outlines a function used to fit both a Random-Forest classifier and XGBoost mode. This function returns a fitted model for each algorithm."
   ]
  },
  {
   "cell_type": "code",
   "execution_count": 57,
   "metadata": {},
   "outputs": [],
   "source": [
    "build_model:{[Xtrain;ytrain;dict]\n",
    " rf_hyp_nms:`n_estimators`random_state`class_weight;\n",
    " rf_hyp_vals:(dict`rf_n;0;(0 1)!(1;dict`rf_wgt));\n",
    " rf_clf:RandomForestClassifier[pykwargs rf_hyp_nms!rf_hyp_vals][`:fit][Xtrain; ytrain];\n",
    "\n",
    " xgb_hyp_nms:`n_estimators`learning_rate`random_state`scale_pos_weight`max_depth;\n",
    " xgb_hyp_vals:(dict`xgb_n;dict`xgb_lr;0;dict`xgb_wgt;dict`xgb_maxd);\n",
    " xgb_clf: XGBClassifier[pykwargs xgb_hyp_nms!xgb_hyp_vals][`:fit][np[`:array]Xtrain; ytrain];\n",
    " \n",
    " `random_forest`XGB!(rf_clf;xgb_clf)}"
   ]
  },
  {
   "cell_type": "markdown",
   "metadata": {},
   "source": [
    "These models are used in the results section below in conjunction with the function `pr_curve` to test their performance on the training set. This function is used both to visulaize the results in the form of a PR curve but also to provide important metrics\n",
    "\n",
    "**pr_curve[ xtest ; ytest ; dict ]**\n",
    "\n",
    "* xtest = matrix of feature values\n",
    "* ytest = list of targets \n",
    "* dict  = dictionary of fitted models produced by build_model above\n",
    "\n",
    "The outputted information from this function is as follows\n",
    "\n",
    "1. Overall accuracy of the model \n",
    "2. Mean-Class accuracy which is a 'fairer' accuracy metric\n",
    "3. Classification report outlining overall and class based precision, recall and f1-score\n",
    "4. The precision-recall curves for each model and the area under the curve associated with each "
   ]
  },
  {
   "cell_type": "markdown",
   "metadata": {},
   "source": [
    "## Results"
   ]
  },
  {
   "cell_type": "markdown",
   "metadata": {},
   "source": [
    "The results below were separated based on the three datasets created.\n",
    "\n"
   ]
  },
  {
   "cell_type": "markdown",
   "metadata": {},
   "source": [
    "### Ungauged Prediction "
   ]
  },
  {
   "cell_type": "markdown",
   "metadata": {},
   "source": [
    "### Monthly Model"
   ]
  },
  {
   "cell_type": "code",
   "execution_count": 58,
   "metadata": {},
   "outputs": [
    {
     "name": "stdout",
     "output_type": "stream",
     "text": [
      "\n",
      "Accuracy for random_forest: 0.939347\n",
      "\n",
      "\n",
      "Meanclass accuracy for random_forest: 0.8531552\n",
      "\n",
      "\n",
      "class    | precision recall    f1_score  support\n",
      "---------| -------------------------------------\n",
      "0        | 0.9428694 0.9950011 0.9682341 13203  \n",
      "1        | 0.7634409 0.2111001 0.3307453 1009   \n",
      "avg/total| 0.8531552 0.6030506 0.6494897 14212  \n"
     ]
    },
    {
     "name": "stderr",
     "output_type": "stream",
     "text": [
      "/home/cmccarthy/anaconda3/envs/newq/lib/python3.6/site-packages/sklearn/preprocessing/label.py:151: DeprecationWarning: The truth value of an empty array is ambiguous. Returning False, but in future this will result in an error. Use `array.size > 0` to check that an array is not empty.\n",
      "  if diff:\n"
     ]
    },
    {
     "name": "stdout",
     "output_type": "stream",
     "text": [
      "\n",
      "Accuracy for XGB: 0.9194343\n",
      "\n",
      "\n",
      "Meanclass accuracy for XGB: 0.6852168\n",
      "\n",
      "\n",
      "class    | precision recall    f1_score  support\n",
      "---------| -------------------------------------\n",
      "0        | 0.9510024 0.9628872 0.9569079 13203  \n",
      "1        | 0.4194313 0.3508424 0.3820831 1009   \n",
      "avg/total| 0.6852168 0.6568648 0.6694955 14212  \n"
     ]
    },
    {
     "data": {
      "image/png": "[encoded data removed]",
      "text/plain": [
       "<Figure size 460.8x345.6 with 1 Axes>"
      ]
     },
     "metadata": {},
     "output_type": "display_data"
    }
   ],
   "source": [
    "dict:`rf_n`rf_wgt`rf_maxd`xgb_n`xgb_lr`xgb_wgt`xgb_maxd!(200;1;8;200;.2;15;7)\n",
    "pltU1:pr_curve[XtestM`ungauged;ytestM;build_model[XtrainM`ungauged;ytrainM;dict]]"
   ]
  },
  {
   "cell_type": "markdown",
   "metadata": {},
   "source": [
    "### Time to Peak Model"
   ]
  },
  {
   "cell_type": "code",
   "execution_count": 37,
   "metadata": {
    "scrolled": false
   },
   "outputs": [
    {
     "name": "stdout",
     "output_type": "stream",
     "text": [
      "\n",
      "Accuracy for random_forest: 0.7416974\n",
      "\n",
      "\n",
      "Meanclass accuracy for random_forest: 0.7308405\n",
      "\n",
      "\n",
      "class    | precision recall    f1_score  support\n",
      "---------| -------------------------------------\n",
      "0        | 0.7452632 0.9490617 0.8349057 373    \n",
      "1        | 0.7164179 0.2840237 0.4067797 169    \n",
      "avg/total| 0.7308405 0.6165427 0.6208427 542    \n",
      "\n",
      "Accuracy for XGB: 0.7730627\n",
      "\n",
      "\n",
      "Meanclass accuracy for XGB: 0.7376155\n",
      "\n",
      "\n",
      "class    | precision recall    f1_score  support\n",
      "---------| -------------------------------------\n",
      "0        | 0.8109453 0.8739946 0.8412903 373    \n",
      "1        | 0.6642857 0.5502959 0.6019417 169    \n",
      "avg/total| 0.7376155 0.7121452 0.721616  542    \n"
     ]
    },
    {
     "data": {
      "image/png": "[encoded data removed]",
      "text/plain": [
       "<Figure size 460.8x345.6 with 1 Axes>"
      ]
     },
     "metadata": {},
     "output_type": "display_data"
    }
   ],
   "source": [
    "dict:`rf_n`rf_wgt`rf_maxd`xgb_n`xgb_lr`xgb_wgt`xgb_maxd!(100;1;17;350;.01;1.5;3)\n",
    "pltU2:pr_curve[XtestP`ungauged;ytestP;build_model[XtrainP`ungauged;ytrainP;dict]]"
   ]
  },
  {
   "cell_type": "markdown",
   "metadata": {},
   "source": [
    "The monthly model obtained the highest accuracy scores using random forests, while the time to peak model performed best for XGBoost. In both cases, random forests achieved high precision scores and low recall results. Meanwhile, XGBoost gave a slightly more balanced precision/recall result.\n",
    "\n"
   ]
  },
  {
   "cell_type": "markdown",
   "metadata": {},
   "source": [
    "## Gauged Prediction"
   ]
  },
  {
   "cell_type": "markdown",
   "metadata": {},
   "source": [
    "### Monthly Model"
   ]
  },
  {
   "cell_type": "code",
   "execution_count": 38,
   "metadata": {},
   "outputs": [
    {
     "name": "stdout",
     "output_type": "stream",
     "text": [
      "\n",
      "Accuracy for random_forest: 0.943217\n",
      "\n",
      "\n",
      "Meanclass accuracy for random_forest: 0.9163495\n",
      "\n",
      "\n",
      "class    | precision recall    f1_score  support\n",
      "---------| -------------------------------------\n",
      "0        | 0.9442374 0.9978035 0.9702817 13203  \n",
      "1        | 0.8884615 0.2289395 0.3640662 1009   \n",
      "avg/total| 0.9163495 0.6133715 0.667174  14212  \n",
      "\n",
      "Accuracy for XGB: 0.93604\n",
      "\n",
      "\n",
      "Meanclass accuracy for XGB: 0.7633167\n",
      "\n",
      "\n",
      "class    | precision recall    f1_score  support\n",
      "---------| -------------------------------------\n",
      "0        | 0.9547943 0.9774294 0.9659793 13203  \n",
      "1        | 0.5718391 0.39445   0.4668622 1009   \n",
      "avg/total| 0.7633167 0.6859397 0.7164207 14212  \n"
     ]
    },
    {
     "data": {
      "image/png": "[encoded data removed]",
      "text/plain": [
       "<Figure size 460.8x345.6 with 1 Axes>"
      ]
     },
     "metadata": {},
     "output_type": "display_data"
    }
   ],
   "source": [
    "dict:`rf_n`rf_wgt`rf_maxd`xgb_n`xgb_lr`xgb_wgt`xgb_maxd!(100;16;8;100;0.2;16;9)\n",
    "pltG1:pr_curve[XtestM`gauged;ytestM;build_model[XtrainM`gauged;ytrainM;dict]]"
   ]
  },
  {
   "cell_type": "markdown",
   "metadata": {},
   "source": [
    "### Time to Peak Model"
   ]
  },
  {
   "cell_type": "code",
   "execution_count": 39,
   "metadata": {},
   "outputs": [
    {
     "name": "stdout",
     "output_type": "stream",
     "text": [
      "\n",
      "Accuracy for random_forest: 0.7232472\n",
      "\n",
      "\n",
      "Meanclass accuracy for random_forest: 0.6982818\n",
      "\n",
      "\n",
      "class    | precision recall    f1_score  support\n",
      "---------| -------------------------------------\n",
      "0        | 0.7298969 0.9490617 0.8251748 373    \n",
      "1        | 0.6666667 0.2248521 0.3362832 169    \n",
      "avg/total| 0.6982818 0.5869569 0.580729  542    \n",
      "\n",
      "Accuracy for XGB: 0.7638376\n",
      "\n",
      "\n",
      "Meanclass accuracy for XGB: 0.7325731\n",
      "\n",
      "\n",
      "class    | precision recall    f1_score  support\n",
      "---------| -------------------------------------\n",
      "0        | 0.7868852 0.9008043 0.84      373    \n",
      "1        | 0.6782609 0.4615385 0.5492958 169    \n",
      "avg/total| 0.7325731 0.6811714 0.6946479 542    \n"
     ]
    },
    {
     "data": {
      "image/png": "[encoded data removed]",
      "text/plain": [
       "<Figure size 460.8x345.6 with 1 Axes>"
      ]
     },
     "metadata": {},
     "output_type": "display_data"
    }
   ],
   "source": [
    "dict:`rf_n`rf_wgt`rf_maxd`xgb_n`xgb_lr`xgb_wgt`xgb_maxd!(100;1;17;360;0.01;1.5;3)\n",
    "pltG2:pr_curve[XtestP`gauged;ytestP;build_model[XtrainP`gauged;ytrainP;dict]]"
   ]
  },
  {
   "cell_type": "markdown",
   "metadata": {},
   "source": [
    "Accuracy for the monthly model improved when compared with the previous predictions, whereas a decrease was observed for the time to peak model."
   ]
  },
  {
   "cell_type": "markdown",
   "metadata": {},
   "source": [
    "## Perfect Forecast"
   ]
  },
  {
   "cell_type": "markdown",
   "metadata": {},
   "source": [
    "### Monthly Model"
   ]
  },
  {
   "cell_type": "code",
   "execution_count": 40,
   "metadata": {},
   "outputs": [
    {
     "name": "stdout",
     "output_type": "stream",
     "text": [
      "\n",
      "Accuracy for random_forest: 0.9458204\n",
      "\n",
      "\n",
      "Meanclass accuracy for random_forest: 0.9194042\n",
      "\n",
      "\n",
      "class    | precision recall    f1_score  support\n",
      "---------| -------------------------------------\n",
      "0        | 0.9470051 0.9975006 0.9715972 13203  \n",
      "1        | 0.8918033 0.2695738 0.414003  1009   \n",
      "avg/total| 0.9194042 0.6335372 0.6928001 14212  \n",
      "\n",
      "Accuracy for XGB: 0.9467352\n",
      "\n",
      "\n",
      "Meanclass accuracy for XGB: 0.8004197\n",
      "\n",
      "\n",
      "class    | precision recall    f1_score  support\n",
      "---------| -------------------------------------\n",
      "0        | 0.9695895 0.9731879 0.9713854 13203  \n",
      "1        | 0.63125   0.6005946 0.6155409 1009   \n",
      "avg/total| 0.8004197 0.7868913 0.7934631 14212  \n"
     ]
    },
    {
     "data": {
      "image/png": "[encoded data removed]",
      "text/plain": [
       "<Figure size 460.8x345.6 with 1 Axes>"
      ]
     },
     "metadata": {},
     "output_type": "display_data"
    }
   ],
   "source": [
    "dict:`rf_n`rf_wgt`xgb_n`xgb_lr`xgb_wgt`xgb_maxd!(100;15;100;0.2;15;7)\n",
    "pltP1:pr_curve[XtestM`forecast;ytestM;build_model[XtrainM`forecast;ytrainM;dict]]"
   ]
  },
  {
   "cell_type": "markdown",
   "metadata": {},
   "source": [
    "### Time to Peak Model"
   ]
  },
  {
   "cell_type": "code",
   "execution_count": 41,
   "metadata": {
    "scrolled": false
   },
   "outputs": [
    {
     "name": "stdout",
     "output_type": "stream",
     "text": [
      "\n",
      "Accuracy for random_forest: 0.7564576\n",
      "\n",
      "\n",
      "Meanclass accuracy for random_forest: 0.7768992\n",
      "\n",
      "\n",
      "class    | precision recall    f1_score  support\n",
      "---------| -------------------------------------\n",
      "0        | 0.7505198 0.9678284 0.8454333 373    \n",
      "1        | 0.8032787 0.2899408 0.426087  169    \n",
      "avg/total| 0.7768992 0.6288846 0.6357601 542    \n",
      "\n",
      "Accuracy for XGB: 0.7656827\n",
      "\n",
      "\n",
      "Meanclass accuracy for XGB: 0.7266119\n",
      "\n",
      "\n",
      "class    | precision recall   f1_score  support\n",
      "---------| ------------------------------------\n",
      "0        | 0.8203125 0.844504 0.8322325 373    \n",
      "1        | 0.6329114 0.591716 0.6116208 169    \n",
      "avg/total| 0.7266119 0.71811  0.7219266 542    \n"
     ]
    },
    {
     "data": {
      "image/png": "[encoded data removed]",
      "text/plain": [
       "<Figure size 460.8x345.6 with 1 Axes>"
      ]
     },
     "metadata": {},
     "output_type": "display_data"
    }
   ],
   "source": [
    "dict:`rf_n`rf_wgt`rf_maxd`xgb_n`xgb_lr`xgb_wgt`xgb_maxd!(100;1;17;300;0.01;2.5;3)\n",
    "pltP2:pr_curve[XtestP`forecast;ytestP;build_model[XtrainP`forecast;ytrainP;dict]]"
   ]
  },
  {
   "cell_type": "markdown",
   "metadata": {},
   "source": [
    "In the above case, the XGBoost classifier achieved the hightest accuracy score in both models. Once again, XGBoost also gave a more balanced precision/recall score for both models.\n",
    "\n"
   ]
  },
  {
   "cell_type": "markdown",
   "metadata": {},
   "source": [
    "### Feature Significance"
   ]
  },
  {
   "cell_type": "markdown",
   "metadata": {},
   "source": [
    "There is also a lot to be learned from determining which features contribute to predicting the target for a model. To do this, the function ml.fresh.significantfeatures was applied to the data, to return the statistically significant features based on a p-value. Combining this with ml.fresh.ksigfeat[x] enabled the top x most significant features to be extracted from each dataset."
   ]
  },
  {
   "cell_type": "markdown",
   "metadata": {},
   "source": [
    "### Monthly Model"
   ]
  },
  {
   "cell_type": "code",
   "execution_count": 42,
   "metadata": {},
   "outputs": [],
   "source": [
    "title:{\"The top 15 significant features for the \",x,\" predicts are:\"}"
   ]
  },
  {
   "cell_type": "code",
   "execution_count": 43,
   "metadata": {},
   "outputs": [
    {
     "data": {
      "text/plain": [
       "\"The top 15 significant features for the monthly predicts are:\"\n"
      ]
     },
     "execution_count": 43,
     "metadata": {},
     "output_type": "execute_result"
    },
    {
     "data": {
      "text/plain": [
       "\"lagged_target_all\"\n",
       "\"window_ppt_1\"\n",
       "\"window_ppt_2\"\n",
       "\"window_ppt_3\"\n",
       "\"window_ppt_4\"\n",
       "\"window_ppt_5\"\n",
       "\"window_ppt_6\"\n",
       "\"window_upstr_ppt_1_1\"\n",
       "\"window_upstr_ppt_1_2\"\n",
       "\"window_upstr_ppt_1_3\"\n",
       "\"window_upstr_ppt_1_4\"\n",
       "\"lagged_target_1\"\n",
       "\"lagged_target_12\"\n",
       "\"window_upstr_ppt_1_5\"\n",
       "\"window_ppt_7\"\n"
      ]
     },
     "execution_count": 43,
     "metadata": {},
     "output_type": "execute_result"
    }
   ],
   "source": [
    "title[\"monthly\"]\n",
    "string .ml.fresh.significantfeatures[flip forecast[`M]!cleaned_monthly[forecast[`M]];\n",
    " cleaned_monthly`target;.ml.fresh.ksigfeat 15]"
   ]
  },
  {
   "cell_type": "markdown",
   "metadata": {},
   "source": [
    "### Time to Peak Model"
   ]
  },
  {
   "cell_type": "code",
   "execution_count": 44,
   "metadata": {},
   "outputs": [
    {
     "data": {
      "text/plain": [
       "\"The top 15 significant features for the time-peak predicts are:\"\n"
      ]
     },
     "execution_count": 44,
     "metadata": {},
     "output_type": "execute_result"
    },
    {
     "data": {
      "text/plain": [
       "\"WsAreaSqKmRp100\"\n",
       "\"WsAreaSqKm\"\n",
       "\"wind_prev_height_48\"\n",
       "\"prev_upstr_height_1_1\"\n",
       "\"wind_prev_height_12\"\n",
       "\"prev_height_1\"\n",
       "\"prev_height_5\"\n",
       "\"WetIndexCat\"\n",
       "\"prev_height_4\"\n",
       "\"prev_height_6\"\n",
       "\"prev_height_7\"\n",
       "\"prev_height_2\"\n",
       "\"prev_height_8\"\n",
       "\"wind_prev_height_4\"\n",
       "\"prev_height_3\"\n"
      ]
     },
     "execution_count": 44,
     "metadata": {},
     "output_type": "execute_result"
    }
   ],
   "source": [
    "title[\"time-peak\"]\n",
    "string .ml.fresh.significantfeatures[flip forecast[`P]!cleaned_peak[forecast[`P]];\n",
    " cleaned_peak`target;.ml.fresh.ksigfeat 15]"
   ]
  },
  {
   "cell_type": "markdown",
   "metadata": {},
   "source": [
    "## Graphics "
   ]
  },
  {
   "cell_type": "markdown",
   "metadata": {},
   "source": [
    "### Monthly Model"
   ]
  },
  {
   "cell_type": "markdown",
   "metadata": {},
   "source": [
    "Using these results, it was also possible to build a map highlighting which areas are at risk of flooding each month. This could be used by governmental bodies to prioritize funding in the coming weeks."
   ]
  },
  {
   "cell_type": "code",
   "execution_count": 45,
   "metadata": {},
   "outputs": [
    {
     "data": {
      "application/vnd.jupyter.widget-view+json": {
       "model_id": "0c42c8e108a54cc0a840e88144f4ace1",
       "version_major": 2,
       "version_minor": 0
      },
      "text/plain": [
       "VBox(children=(HBox(children=(IntSlider(value=1, continuous_update=False, description='Months 2018', max=12, m…"
      ]
     },
     "metadata": {},
     "output_type": "display_data"
    }
   ],
   "source": [
    "preds:last pltP1`model\n",
    "newtst:update preds:preds from XtestMi\n",
    "newt:select from newtst where date within 2018.01 2018.12m,preds=1\n",
    "dfnew:.ml.tab2df newt\n",
    "graphs:.p.get`AcledExplorer\n",
    "graphs[`df pykw dfnew][`:render][];"
   ]
  },
  {
   "cell_type": "markdown",
   "metadata": {},
   "source": [
    "Data relating to the peak height of a stream from an actual flooding event, was compared with the upper bound peak time from our model.\n",
    "\n"
   ]
  },
  {
   "cell_type": "markdown",
   "metadata": {},
   "source": [
    "### Time to Peak Model"
   ]
  },
  {
   "cell_type": "code",
   "execution_count": 46,
   "metadata": {},
   "outputs": [
    {
     "data": {
      "image/png": "[encoded data removed]",
      "text/plain": [
       "<Figure size 460.8x345.6 with 1 Axes>"
      ]
     },
     "metadata": {},
     "output_type": "display_data"
    }
   ],
   "source": [
    "pred:last pltU2`model\n",
    "pg:raze select site_no,start_time,end_time,peak_time from XtrainPi \n",
    "    where unk=`EDT,i in where pred=XtestPi`target,site_no=`02164110,\n",
    "    target=1,delta_peak>2\n",
    "\n",
    "\n",
    "rainfall:`x_val`col`title!(pg[`start_time];`r;`rainfall)\n",
    "actual_peak:`x_val`col`title!(pg[`peak_time];`g;`actual_peak)\n",
    "pred_bound:`x_val`col`title!(03:30+pg[`start_time];`black;`predicted_upper_bound)\n",
    "\n",
    "graph:select from str where date within (`date$pg[`start_time];`date$pg[`end_time]), datetime\n",
    "      within (neg[00:15]+pg[`start_time];[00:10]+pg[`end_time]),(value pg`site_no)=`$site_no\n",
    "\n",
    "plt[`:plot][graph`datetime;graph`height;`label pykw `height;`linewidth pykw 3];\n",
    "pltline:{plt[`:axvline][x`x_val;`color pykw x`col;`label pykw x`title;`linewidth pykw 3];}\n",
    "pltline each (rainfall;actual_peak;pred_bound);\n",
    "\n",
    "plt[`:legend][`loc pykw `best];\n",
    "plt[`:title][\"Time to Peak\"];\n",
    "plt[`:ylabel][\"Height\"];\n",
    "plt[`:xlabel][\"Time\"];\n",
    "plt[`:xticks][()];\n",
    "plt[`:show][];"
   ]
  },
  {
   "cell_type": "markdown",
   "metadata": {},
   "source": [
    "## Conclusion"
   ]
  },
  {
   "cell_type": "markdown",
   "metadata": {},
   "source": [
    "From the above results we could predict, with relatively high accuracy, whether an area was likely to flood or not in the next month. We could also produce a model to predict if a stream would reach its peak height within 3.5 hours.\n",
    "\n",
    "For the monthly models, the future weather predictions played an important role in predicting whether an area would flood or not. Accuracy, recall and precision all increased as the weather predictions and gauged information columns were added to the dataset. This corresponded with the results from the significant feature tests, with lagged_target information and also the windowed rain values of the current month being the most important features to include.\n",
    "\n",
    "The opposite was true for the time-peak values, as previous rain and stream gauge information along with the basin characteristics were seen to be the most significant features when predicting these values. Including additional information about the future predicted rainfall decreased the accuracy of the results, with the best results being obtained from the model with only past rainfall and basin and soil characteristics being fed into the model.\n",
    "\n",
    "Both of these results are likely be physically expected. In the case of the monthly prediction, information regarding future forecast was pivotal in whether an area will flood in the next month. Whereas in the case of a time to peak value, it would be unlikely that information about rainfall in the next number of days would add to the predictive power of a model.\n",
    "\n",
    "Knowing what features contribute to flood susceptibility and the length of time it takes for a river to reach its peak height, is an important piece of information to extract from the model. From this, organizations such as USGS can better prepare for flood events and understand how changing climates and placement of impervious surface can affect the likelihood of flooding.\n",
    "\n",
    "The best results from the models above were obtained by continuously adjusting the hyper-parameters of the model. The unbalanced target data in the monthly model, meant that weighting the classes was an important feature to experiment with. This was particularly important when trying to obtain high precision and recall results. Between the two models, balance in the recall and precision was better for the XGBoost model."
   ]
  }
 ],
 "metadata": {
  "kernelspec": {
   "display_name": "Q (kdb+)",
   "language": "q",
   "name": "qpk"
  },
  "language_info": {
   "file_extension": ".q",
   "mimetype": "text/x-q",
   "name": "q",
   "version": "3.6.0"
  }
 },
 "nbformat": 4,
 "nbformat_minor": 2
}
