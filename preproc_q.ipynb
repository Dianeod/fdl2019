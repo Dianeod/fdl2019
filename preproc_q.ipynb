{
 "cells": [
  {
   "cell_type": "markdown",
   "metadata": {},
   "source": [
    "# FDL 2019 - Floods"
   ]
  },
  {
   "cell_type": "markdown",
   "metadata": {},
   "source": [
    "Load in any libraries and datasets needed"
   ]
  },
  {
   "cell_type": "code",
   "execution_count": 1,
   "metadata": {},
   "outputs": [],
   "source": [
    "gp:.p.import[`geopandas]\n",
    "\\l ml/ml.q \n",
    "\\l ml/init.q\n",
    "\n",
    "avs:.p.import[`sklearn.metrics]`:average_precision_score\n",
    "mattab:{flip value flip x}\n",
    "svc:.p.import[`sklearn.svm]`:SVC\n",
    "array:.p.import[`numpy]`:array"
   ]
  },
  {
   "cell_type": "markdown",
   "metadata": {},
   "source": [
    "Datasets include\n",
    "\n",
    "Max height per day per stream\n",
    "\n",
    "NLCD(imperveous) dataset collected in 2006,2011,2016\n",
    "\n",
    "Flood warned levels from NOAA, based on lat,long\n",
    "\n",
    "stream gage info i.e location,state, codes etc\n",
    "\n",
    "basin attributes at each stream gage"
   ]
  },
  {
   "cell_type": "code",
   "execution_count": 2,
   "metadata": {},
   "outputs": [],
   "source": [
    "nlcd06:(\"S\",(5#\"F\"),\"SFFSFSFFFFSFSSFSSFFFSFFSFF\";enlist \",\") 0:`:data/snap_sampled_imp_nlcd_2006.csv \n",
    "nlcd11:(\"S\",(5#\"F\"),\"SFFSFSFFFFSFSSFSSFFFSFFSFF\";enlist \",\") 0:`:data/snap_sampled_imp_nlcd_2011.csv \n",
    "nlcd16:(\"S\",(5#\"F\"),\"SFFSFSFFFFSFSSFSSFFFSFFSFF\";enlist \",\") 0:`:data/snap_sampled_imp_nlcd_2016.csv \n",
    "\n",
    "warnings:gp[`:read_file][\"data/national_shapefile_obs.shp\"]\n",
    "warnings:.ml.df2tab[warnings]\n",
    "\n",
    "gages:(\"SSSSFFSSIFFFFFFFFSSISSSSFF\";enlist \",\") 0:`:data/usgs_gage_subset.csv\n",
    "\n",
    "basin:(\"S\",242#\"F\";enlist \",\") 0:`:data/gages_with_basin_attr.csv"
   ]
  },
  {
   "cell_type": "markdown",
   "metadata": {},
   "source": [
    "Linking the stream gages with corresponding rain gages based on site_no and date (per month). "
   ]
  },
  {
   "cell_type": "code",
   "execution_count": 40,
   "metadata": {},
   "outputs": [
    {
     "name": "stdout",
     "output_type": "stream",
     "text": [
      "site_no  date    height dec_lat_va dec_long_v\n",
      "---------------------------------------------\n",
      "01200000 2009.07 3.8    41.65876   -73.52868 \n",
      "01200000 2009.08 1.82   41.65876   -73.52868 \n",
      "01200000 2009.09 1.29   41.65876   -73.52868 \n",
      "01200000 2009.10 2.04   41.65876   -73.52868 \n",
      "01200000 2009.11 1.71   41.65876   -73.52868 \n",
      "01200000 2009.12 4.17   41.65876   -73.52868 \n",
      "01200000 2010.01 2.8    41.65876   -73.52868 \n",
      "01200000 2010.02 4.35   41.65876   -73.52868 \n",
      "01200000 2010.03 6.17   41.65876   -73.52868 \n",
      "01200000 2010.04 1.96   41.65876   -73.52868 \n",
      "01200000 2010.05 1.22   41.65876   -73.52868 \n",
      "01200000 2010.06 0.91   41.65876   -73.52868 \n",
      "01200000 2010.07 0.76   41.65876   -73.52868 \n",
      "01200000 2010.08 0.83   41.65876   -73.52868 \n",
      "01200000 2010.09 1.5    41.65876   -73.52868 \n",
      "01200000 2010.10 1.63   41.65876   -73.52868 \n",
      "01200000 2010.11 1.8    41.65876   -73.52868 \n",
      "01200000 2010.12 2.05   41.65876   -73.52868 \n",
      "01200000 2011.01 2.15   41.65876   -73.52868 \n",
      "01200000 2011.02 3.75   41.65876   -73.52868 \n",
      "..\n"
     ]
    }
   ],
   "source": [
    "\\l gagesdir/gagesdir  /will change name of loaddir\n",
    "\n",
    "maxht:0!select max height by site_no,date from str\n",
    "\n",
    "maxht[`site_no]:`${$[7=count x;\"0\",x;x]}each maxht[`site_no]\n",
    "\n",
    "maxht:delete from maxht where height<0\n",
    "\n",
    "strmonth:0!select by site_no,\"m\"$date from maxht\n",
    "\n",
    "gages[`site_no]:`${$[7=count x;\"0\",x;x]}each string each gages[`site_no] /pad with 0 if len site=7\n",
    "\n",
    "show httab:strmonth ij `site_no xkey select site_no,dec_lat_va,dec_long_v from gages"
   ]
  },
  {
   "cell_type": "markdown",
   "metadata": {},
   "source": [
    "Get the rain data from prism"
   ]
  },
  {
   "cell_type": "code",
   "execution_count": null,
   "metadata": {},
   "outputs": [],
   "source": [
    "\\cd ../../"
   ]
  },
  {
   "cell_type": "code",
   "execution_count": 43,
   "metadata": {},
   "outputs": [
    {
     "name": "stdout",
     "output_type": "stream",
     "text": [
      "site_no long     lat     elv  date       ppt \n",
      "---------------------------------------------\n",
      "1367690 -74.5596 41.1053 1056 2019.01.01 0.94\n",
      "1367690 -74.5596 41.1053 1056 2019.01.02 0   \n",
      "1367690 -74.5596 41.1053 1056 2019.01.03 0   \n",
      "1367690 -74.5596 41.1053 1056 2019.01.04 0   \n",
      "1367690 -74.5596 41.1053 1056 2019.01.05 0.38\n",
      "1367690 -74.5596 41.1053 1056 2019.01.06 0.79\n",
      "1367690 -74.5596 41.1053 1056 2019.01.07 0   \n",
      "1367690 -74.5596 41.1053 1056 2019.01.08 0.02\n",
      "1367690 -74.5596 41.1053 1056 2019.01.09 0.15\n",
      "1367690 -74.5596 41.1053 1056 2019.01.10 0   \n",
      "1367690 -74.5596 41.1053 1056 2019.01.11 0   \n",
      "1367690 -74.5596 41.1053 1056 2019.01.12 0   \n",
      "1367690 -74.5596 41.1053 1056 2019.01.13 0   \n",
      "1367690 -74.5596 41.1053 1056 2019.01.14 0   \n",
      "1367690 -74.5596 41.1053 1056 2019.01.15 0   \n",
      "1367690 -74.5596 41.1053 1056 2019.01.16 0   \n",
      "1367690 -74.5596 41.1053 1056 2019.01.17 0   \n",
      "1367690 -74.5596 41.1053 1056 2019.01.18 0.06\n",
      "1367690 -74.5596 41.1053 1056 2019.01.19 0   \n",
      "1367690 -74.5596 41.1053 1056 2019.01.20 1.02\n",
      "..\n"
     ]
    }
   ],
   "source": [
    "show precipall:raze {flip `site_no`long`lat`elv`date`ppt!flip value each 10_(\"SFFFDF\";enlist \",\")0: \n",
    "    hsym `$\"data/prism/\",string[x]} each key `:data/prism\n",
    "\n",
    "precipall[`site_no]:`${$[7=count x;\"0\",x;x]}each string each precipall[`site_no]\n"
   ]
  },
  {
   "cell_type": "markdown",
   "metadata": {},
   "source": [
    "Some rain sites are missing the last digits of their id number so have to preprocess to get it to match the stream gages"
   ]
  },
  {
   "cell_type": "code",
   "execution_count": 44,
   "metadata": {},
   "outputs": [
    {
     "data": {
      "text/plain": [
       "`precipall`precipall`precipall`precipall`precipall`precipall`precipall`precip..\n"
      ]
     },
     "execution_count": 44,
     "metadata": {},
     "output_type": "execute_result"
    },
    {
     "data": {
      "text/plain": [
       "`precipall`precipall\n"
      ]
     },
     "execution_count": 44,
     "metadata": {},
     "output_type": "execute_result"
    }
   ],
   "source": [
    "rms:asc ds where 12<count each string each ds:exec distinct site_no from gages \n",
    "names:0!select i by site_no from precipall where site_no in `$12#'string each rms\n",
    "\n",
    "{![`precipall;enlist (in;`i;y);0b;(enlist `site_no)!enlist enlist x]}'[rms[til[20],23 24 25];\n",
    "    names[`x][til[19],21 22 23 24]]\n",
    "\n",
    "matchnames:0!select i by lat,long from precipall where i in names[`x][20]\n",
    "{![`precipall;enlist (in;`i;y);0b;(enlist `site_no)!enlist enlist x]}'[rms[21 22];matchnames[`x]]"
   ]
  },
  {
   "cell_type": "markdown",
   "metadata": {},
   "source": [
    "Get stats on each rain gage per month,uid (id of raingage)"
   ]
  },
  {
   "cell_type": "code",
   "execution_count": 9,
   "metadata": {},
   "outputs": [
    {
     "name": "stdout",
     "output_type": "stream",
     "text": [
      "site_no  date    lat     long     sumpr maxpre minpre avgpre     varpre     p..\n",
      "-----------------------------------------------------------------------------..\n",
      "01200000 2009.07 41.6588 -73.5287 8.01  2.04   0      0.2583871  0.2031039  1..\n",
      "01200000 2009.08 41.6588 -73.5287 5.94  1.59   0      0.1916129  0.1258458  1..\n",
      "01200000 2009.09 41.6588 -73.5287 1.55  0.85   0      0.05166667 0.02672056 0..\n",
      "01200000 2009.10 41.6588 -73.5287 4.51  1.46   0      0.1454839  0.1004828  1..\n",
      "01200000 2009.11 41.6588 -73.5287 1.52  0.49   0      0.05066667 0.01351289 0..\n",
      "01200000 2009.12 41.6588 -73.5287 5.61  0.93   0      0.1809677  0.08818939 0..\n",
      "01200000 2010.01 41.6588 -73.5287 2.82  1.75   0      0.09096774 0.0974539  1..\n",
      "01200000 2010.02 41.6588 -73.5287 4.41  2.28   0      0.1575     0.1941045  1..\n",
      "01200000 2010.03 41.6588 -73.5287 6.5   1.36   0      0.2096774  0.1715322  1..\n",
      "01200000 2010.04 41.6588 -73.5287 2.17  0.57   0      0.07233333 0.01860456 0..\n",
      "01200000 2010.05 41.6588 -73.5287 1.93  0.69   0      0.06225806 0.01854651 0..\n",
      "01200000 2010.06 41.6588 -73.5287 3.12  0.73   0      0.104      0.03363733 0..\n",
      "01200000 2010.07 41.6588 -73.5287 2.39  0.56   0      0.07709677 0.02474964 0..\n",
      "01200000 2010.08 41.6588 -73.5287 5.81  2.7    0      0.1874194  0.2565869  2..\n",
      "01200000 2010.09 41.6588 -73.5287 1.95  0.74   0      0.065      0.03039167 0..\n",
      "01200000 2010.10 41.6588 -73.5287 8.96  3.1    0      0.2890323  0.5052797  3..\n",
      "01200000 2010.11 41.6588 -73.5287 3.19  1.15   0      0.1063333  0.07340989 0..\n",
      "01200000 2010.12 41.6588 -73.5287 4.74  1.8    0      0.1529032  0.19124    1..\n",
      "01200000 2011.01 41.6588 -73.5287 3.33  0.92   0      0.1074194  0.03784495 0..\n",
      "01200000 2011.02 41.6588 -73.5287 3.45  1.09   0      0.1232143  0.0569861  0..\n",
      "..\n"
     ]
    }
   ],
   "source": [
    "show rainmonth:1_0!select first distinct lat,first distinct long,sumpr:sum ppt,\n",
    "    maxpre:max ppt,minpre:min ppt,avgpre:avg ppt,varpre:var ppt,max deltas ppt by site_no\n",
    "    ,\"m\"$date from precipall"
   ]
  },
  {
   "cell_type": "markdown",
   "metadata": {},
   "source": [
    "### Basin Characteristics"
   ]
  },
  {
   "cell_type": "markdown",
   "metadata": {},
   "source": [
    "Take out columns that depend on the date like 09,10,11. Link it with previous table"
   ]
  },
  {
   "cell_type": "code",
   "execution_count": 10,
   "metadata": {},
   "outputs": [],
   "source": [
    "cols09:where (count each ss[;\"2006\"]each string each cols basin)<>0\n",
    "cols10:where (count each ss[;\"2010\"]each string each cols basin)<>0\n",
    "cols11:where (count each ss[;\"2011\"]each string each cols basin)<>0"
   ]
  },
  {
   "cell_type": "code",
   "execution_count": 11,
   "metadata": {},
   "outputs": [
    {
     "name": "stdout",
     "output_type": "stream",
     "text": [
      "site_no  date    lat     long     sumpr maxpre minpre avgpre     varpre     p..\n",
      "-----------------------------------------------------------------------------..\n",
      "01200000 2009.07 41.6588 -73.5287 8.01  2.04   0      0.2583871  0.2031039  1..\n",
      "01200000 2009.08 41.6588 -73.5287 5.94  1.59   0      0.1916129  0.1258458  1..\n",
      "01200000 2009.09 41.6588 -73.5287 1.55  0.85   0      0.05166667 0.02672056 0..\n",
      "01200000 2009.10 41.6588 -73.5287 4.51  1.46   0      0.1454839  0.1004828  1..\n",
      "01200000 2009.11 41.6588 -73.5287 1.52  0.49   0      0.05066667 0.01351289 0..\n",
      "01200000 2009.12 41.6588 -73.5287 5.61  0.93   0      0.1809677  0.08818939 0..\n",
      "01200000 2010.01 41.6588 -73.5287 2.82  1.75   0      0.09096774 0.0974539  1..\n",
      "01200000 2010.02 41.6588 -73.5287 4.41  2.28   0      0.1575     0.1941045  1..\n",
      "01200000 2010.03 41.6588 -73.5287 6.5   1.36   0      0.2096774  0.1715322  1..\n",
      "01200000 2010.04 41.6588 -73.5287 2.17  0.57   0      0.07233333 0.01860456 0..\n",
      "01200000 2010.05 41.6588 -73.5287 1.93  0.69   0      0.06225806 0.01854651 0..\n",
      "01200000 2010.06 41.6588 -73.5287 3.12  0.73   0      0.104      0.03363733 0..\n",
      "01200000 2010.07 41.6588 -73.5287 2.39  0.56   0      0.07709677 0.02474964 0..\n",
      "01200000 2010.08 41.6588 -73.5287 5.81  2.7    0      0.1874194  0.2565869  2..\n",
      "01200000 2010.09 41.6588 -73.5287 1.95  0.74   0      0.065      0.03039167 0..\n",
      "01200000 2010.10 41.6588 -73.5287 8.96  3.1    0      0.2890323  0.5052797  3..\n",
      "01200000 2010.11 41.6588 -73.5287 3.19  1.15   0      0.1063333  0.07340989 0..\n",
      "01200000 2010.12 41.6588 -73.5287 4.74  1.8    0      0.1529032  0.19124    1..\n",
      "01200000 2011.01 41.6588 -73.5287 3.33  0.92   0      0.1074194  0.03784495 0..\n",
      "01200000 2011.02 41.6588 -73.5287 3.45  1.09   0      0.1232143  0.0569861  0..\n",
      "..\n"
     ]
    }
   ],
   "source": [
    "constcols:(til count[cols basin]) except raze \n",
    "    {where (count each ss[;x]each string each cols basin)<>0}each (\"2009\";\"2010\";\"2011\")\n",
    "\n",
    "basinupd:flip (cols basin)[constcols]!basin[(cols basin)[constcols]]\n",
    "\n",
    "show joinedtab:rainmonth ij `site_no xkey basinupd"
   ]
  },
  {
   "cell_type": "markdown",
   "metadata": {},
   "source": [
    "### NLCD Dataset"
   ]
  },
  {
   "cell_type": "markdown",
   "metadata": {},
   "source": [
    "Join NLCD (impervious info) to each station based on date. Only 3 datasets so link back in time"
   ]
  },
  {
   "cell_type": "markdown",
   "metadata": {},
   "source": [
    "Only pick columns with some variance between stations"
   ]
  },
  {
   "cell_type": "code",
   "execution_count": 12,
   "metadata": {},
   "outputs": [],
   "source": [
    "nlcd06:update site_no:`${$[7=count x;\"0\",x;x]}each string each site_no,year:6 from select\n",
    " site_no:SOURCE_FEA,INTPTLAT,INTPTLON,Measure,REACHCODE,distance,imp:imp_nlcd_2006 from nlcd06\n",
    "nlcd11:update site_no:`${$[7=count x;\"0\",x;x]}each string each site_no,year:11 from select\n",
    " site_no:SOURCE_FEA,INTPTLAT,INTPTLON,Measure,REACHCODE,distance,imp:imp_nlcd_2011 from nlcd11\n",
    "nlcd16:update site_no:`${$[7=count x;\"0\",x;x]}each string each site_no,year:16 from select\n",
    " site_no:SOURCE_FEA,INTPTLAT,INTPTLON,Measure,REACHCODE,distance,imp:imp_nlcd_2016 from nlcd16"
   ]
  },
  {
   "cell_type": "code",
   "execution_count": 13,
   "metadata": {},
   "outputs": [],
   "source": [
    "stryear:{$[x<2011;6;x<2016;11;16]}each `year$joinedtab[`date]\n",
    "\n",
    "merged:update year:stryear from joinedtab\n",
    "\n",
    "newjoinedtab:merged ij `site_no xkey (nlcd06,nlcd11,nlcd16)"
   ]
  },
  {
   "cell_type": "markdown",
   "metadata": {},
   "source": [
    "# Getting the Target Data\n",
    "\n",
    "Get the count per month that a station goes over a flood level, broken up into 4 categories-Action,Flood,Moderate and Major"
   ]
  },
  {
   "cell_type": "code",
   "execution_count": 14,
   "metadata": {},
   "outputs": [],
   "source": [
    "/Some gages have no threshold values so had to delete them from dataset\n",
    "dela:first asc exec i by Action from warnings\n",
    "delmj:first 1_asc exec i by Major from warnings\n",
    "delmd:first 2_asc exec i by Moderate from warnings\n",
    "delfl:first 2_asc exec i by Flood from warnings\n",
    "\n",
    "warning:update nn: i from select from warnings where not i in distinct (dela,delmj,delmd,delfl)"
   ]
  },
  {
   "cell_type": "markdown",
   "metadata": {},
   "source": [
    "Join based on nn"
   ]
  },
  {
   "cell_type": "code",
   "execution_count": 15,
   "metadata": {},
   "outputs": [],
   "source": [
    "tabw:.ml.clust.kd.buildtree[warnlatl:gages[`dec_lat_va`dec_long_v],'\"F\"$'string each warning[`Latitude`Longitude];2]\n",
    "\n",
    "nnwarn:.ml.clust.kd.i.nns[;tabw;(count[warning]#0),count[gages]#1;flip warnlatl;`edist\n",
    "    ]each count[warning]+til count gages"
   ]
  },
  {
   "cell_type": "code",
   "execution_count": 16,
   "metadata": {},
   "outputs": [],
   "source": [
    "joins:flip `nn`ndw`site_no!(nnwarn[;0];nnwarn[;1];gages[`site_no])\n",
    "\n",
    "floodlvl:(maxht ij `site_no xkey joins) lj `nn xkey warning\n",
    "\n",
    "floodlvl[`Action`Moderate`Flood`Major]:\"F\"$'floodlvl[`Action`Moderate`Flood`Major]\n",
    "\n",
    "floodlvl[`site_no]:`${$[7=count x;\"0\",x;x]}each string each floodlvl[`site_no] /pad with 0 if len site=7"
   ]
  },
  {
   "cell_type": "code",
   "execution_count": 17,
   "metadata": {},
   "outputs": [
    {
     "name": "stdout",
     "output_type": "stream",
     "text": [
      "site_no  date    Action Flood Moderate Major no_Action no_Flood no_Mod no_Major\n",
      "-------------------------------------------------------------------------------\n",
      "01200000 2009.07 17     19    22       24    0         0        0      0       \n",
      "01200000 2009.08 17     19    22       24    0         0        0      0       \n",
      "01200000 2009.09 17     19    22       24    0         0        0      0       \n",
      "01200000 2009.10 17     19    22       24    0         0        0      0       \n",
      "01200000 2009.11 17     19    22       24    0         0        0      0       \n",
      "01200000 2009.12 17     19    22       24    0         0        0      0       \n",
      "01200000 2010.01 17     19    22       24    0         0        0      0       \n",
      "01200000 2010.02 17     19    22       24    0         0        0      0       \n",
      "01200000 2010.03 17     19    22       24    0         0        0      0       \n",
      "01200000 2010.04 17     19    22       24    0         0        0      0       \n",
      "01200000 2010.05 17     19    22       24    0         0        0      0       \n",
      "01200000 2010.06 17     19    22       24    0         0        0      0       \n",
      "01200000 2010.07 17     19    22       24    0         0        0      0       \n",
      "01200000 2010.08 17     19    22       24    0         0        0      0       \n",
      "01200000 2010.09 17     19    22       24    0         0        0      0       \n",
      "01200000 2010.10 17     19    22       24    0         0        0      0       \n",
      "01200000 2010.11 17     19    22       24    0         0        0      0       \n",
      "01200000 2010.12 17     19    22       24    0         0        0      0       \n",
      "01200000 2011.01 17     19    22       24    0         0        0      0       \n",
      "01200000 2011.02 17     19    22       24    0         0        0      0       \n",
      "..\n"
     ]
    }
   ],
   "source": [
    "show target:0!select distinct Action,distinct Flood,distinct Moderate,distinct Major,no_Action:count where height>Action\n",
    " ,no_Flood:count where height>Flood,no_Mod:count where height>Moderate,no_Major:count where height>Major by site_no\n",
    "    ,\"m\"$date from floodlvl"
   ]
  },
  {
   "cell_type": "code",
   "execution_count": 18,
   "metadata": {},
   "outputs": [
    {
     "name": "stdout",
     "output_type": "stream",
     "text": [
      "site_no  date    lat     long     sumpr maxpre minpre avgpre     varpre     p..\n",
      "-----------------------------------------------------------------------------..\n",
      "01200000 2009.07 41.6588 -73.5287 8.01  2.04   0      0.2583871  0.2031039  1..\n",
      "01200000 2009.08 41.6588 -73.5287 5.94  1.59   0      0.1916129  0.1258458  1..\n",
      "01200000 2009.09 41.6588 -73.5287 1.55  0.85   0      0.05166667 0.02672056 0..\n",
      "01200000 2009.10 41.6588 -73.5287 4.51  1.46   0      0.1454839  0.1004828  1..\n",
      "01200000 2009.11 41.6588 -73.5287 1.52  0.49   0      0.05066667 0.01351289 0..\n",
      "01200000 2009.12 41.6588 -73.5287 5.61  0.93   0      0.1809677  0.08818939 0..\n",
      "01200000 2010.01 41.6588 -73.5287 2.82  1.75   0      0.09096774 0.0974539  1..\n",
      "01200000 2010.02 41.6588 -73.5287 4.41  2.28   0      0.1575     0.1941045  1..\n",
      "01200000 2010.03 41.6588 -73.5287 6.5   1.36   0      0.2096774  0.1715322  1..\n",
      "01200000 2010.04 41.6588 -73.5287 2.17  0.57   0      0.07233333 0.01860456 0..\n",
      "01200000 2010.05 41.6588 -73.5287 1.93  0.69   0      0.06225806 0.01854651 0..\n",
      "01200000 2010.06 41.6588 -73.5287 3.12  0.73   0      0.104      0.03363733 0..\n",
      "01200000 2010.07 41.6588 -73.5287 2.39  0.56   0      0.07709677 0.02474964 0..\n",
      "01200000 2010.08 41.6588 -73.5287 5.81  2.7    0      0.1874194  0.2565869  2..\n",
      "01200000 2010.09 41.6588 -73.5287 1.95  0.74   0      0.065      0.03039167 0..\n",
      "01200000 2010.10 41.6588 -73.5287 8.96  3.1    0      0.2890323  0.5052797  3..\n",
      "01200000 2010.11 41.6588 -73.5287 3.19  1.15   0      0.1063333  0.07340989 0..\n",
      "01200000 2010.12 41.6588 -73.5287 4.74  1.8    0      0.1529032  0.19124    1..\n",
      "01200000 2011.01 41.6588 -73.5287 3.33  0.92   0      0.1074194  0.03784495 0..\n",
      "01200000 2011.02 41.6588 -73.5287 3.45  1.09   0      0.1232143  0.0569861  0..\n",
      "..\n"
     ]
    }
   ],
   "source": [
    "show allmerged:newjoinedtab ij `site_no`date xkey target\n"
   ]
  },
  {
   "cell_type": "code",
   "execution_count": 19,
   "metadata": {},
   "outputs": [],
   "source": [
    "/Tidy up some column types\n",
    "allmerged[`site_no]:\"F\"$string each allmerged[`site_no]\n",
    "allmerged[`lat`long]:raze each \"F\"$'string each allmerged[`lat`long]\n",
    "allmerged[`Action]:raze allmerged[`Action]\n",
    "allmerged[`Flood]:raze allmerged[`Flood]\n",
    "allmerged[`Moderate]:raze allmerged[`Moderate]\n",
    "allmerged[`Major]:raze allmerged[`Major]"
   ]
  },
  {
   "cell_type": "code",
   "execution_count": 20,
   "metadata": {},
   "outputs": [],
   "source": [
    "allmerged:update month:`mm$date from allmerged"
   ]
  },
  {
   "cell_type": "markdown",
   "metadata": {},
   "source": [
    "### Machine Learning Model"
   ]
  },
  {
   "cell_type": "code",
   "execution_count": 21,
   "metadata": {},
   "outputs": [],
   "source": [
    "tgts:select site_no,no_Action,no_Flood,no_Mod,no_Major from allmerged\n",
    "allmerged:delete no_Action,no_Flood,no_Mod,no_Major from allmerged"
   ]
  },
  {
   "cell_type": "code",
   "execution_count": 22,
   "metadata": {},
   "outputs": [
    {
     "name": "stdout",
     "output_type": "stream",
     "text": [
      "site_no date   | lat     long     sumpr maxpre avgpre     varpre     ppt  Cat..\n",
      "---------------| ------------------------------------------------------------..\n",
      "1200000 2009.07| 41.6588 -73.5287 8.01  2.04   0.2583871  0.2031039  1.7  0.7..\n",
      "1200000 2009.08| 41.6588 -73.5287 5.94  1.59   0.1916129  0.1258458  1.59 0.7..\n",
      "1200000 2009.09| 41.6588 -73.5287 1.55  0.85   0.05166667 0.02672056 0.71 0.7..\n",
      "1200000 2009.10| 41.6588 -73.5287 4.51  1.46   0.1454839  0.1004828  1.34 0.7..\n",
      "1200000 2009.11| 41.6588 -73.5287 1.52  0.49   0.05066667 0.01351289 0.34 0.7..\n",
      "1200000 2009.12| 41.6588 -73.5287 5.61  0.93   0.1809677  0.08818939 0.93 0.7..\n",
      "1200000 2010.01| 41.6588 -73.5287 2.82  1.75   0.09096774 0.0974539  1.68 0.7..\n",
      "1200000 2010.02| 41.6588 -73.5287 4.41  2.28   0.1575     0.1941045  1.79 0.7..\n",
      "1200000 2010.03| 41.6588 -73.5287 6.5   1.36   0.2096774  0.1715322  1.36 0.7..\n",
      "1200000 2010.04| 41.6588 -73.5287 2.17  0.57   0.07233333 0.01860456 0.26 0.7..\n",
      "1200000 2010.05| 41.6588 -73.5287 1.93  0.69   0.06225806 0.01854651 0.69 0.7..\n",
      "1200000 2010.06| 41.6588 -73.5287 3.12  0.73   0.104      0.03363733 0.73 0.7..\n",
      "1200000 2010.07| 41.6588 -73.5287 2.39  0.56   0.07709677 0.02474964 0.56 0.7..\n",
      "1200000 2010.08| 41.6588 -73.5287 5.81  2.7    0.1874194  0.2565869  2.59 0.7..\n",
      "1200000 2010.09| 41.6588 -73.5287 1.95  0.74   0.065      0.03039167 0.74 0.7..\n",
      "1200000 2010.10| 41.6588 -73.5287 8.96  3.1    0.2890323  0.5052797  3.1  0.7..\n",
      "1200000 2010.11| 41.6588 -73.5287 3.19  1.15   0.1063333  0.07340989 0.94 0.7..\n",
      "1200000 2010.12| 41.6588 -73.5287 4.74  1.8    0.1529032  0.19124    1.67 0.7..\n",
      "1200000 2011.01| 41.6588 -73.5287 3.33  0.92   0.1074194  0.03784495 0.59 0.7..\n",
      "1200000 2011.02| 41.6588 -73.5287 3.45  1.09   0.1232143  0.0569861  0.87 0.7..\n",
      "..\n"
     ]
    }
   ],
   "source": [
    "show tabreduced:`site_no`date xkey .ml.dropconstant[.ml.filltab[allmerged;`site_no;`date;::]]"
   ]
  },
  {
   "cell_type": "markdown",
   "metadata": {},
   "source": [
    "Standardised scaling is preformed on some of the columns"
   ]
  },
  {
   "cell_type": "code",
   "execution_count": 23,
   "metadata": {},
   "outputs": [],
   "source": [
    "stdtab:.ml.stdscaler[delete lat,long from value tabreduced]\n",
    "newtab:`site_no`date xkey (select site_no,date,lat,long from 0!tabreduced),'stdtab"
   ]
  },
  {
   "cell_type": "markdown",
   "metadata": {},
   "source": [
    "The train and test set are strictly divided so that each station is either in train or test so that there is no data leakage"
   ]
  },
  {
   "cell_type": "code",
   "execution_count": 24,
   "metadata": {},
   "outputs": [],
   "source": [
    "tstsplt:250#distinct key[newtab][`site_no]\n",
    "trainsplt:250_distinct key[newtab][`site_no]"
   ]
  },
  {
   "cell_type": "code",
   "execution_count": 25,
   "metadata": {},
   "outputs": [],
   "source": [
    "xtrain:value select from newtab where site_no in trainsplt\n",
    "xtest:value select from newtab where site_no in tstsplt"
   ]
  },
  {
   "cell_type": "code",
   "execution_count": 26,
   "metadata": {},
   "outputs": [],
   "source": [
    "/predict for  Moderate floods\n",
    "ytrain:(exec no_Flood from tgts where site_no in trainsplt)>0\n",
    "ytest:(exec no_Flood from tgts where site_no in tstsplt)>0\n"
   ]
  },
  {
   "cell_type": "code",
   "execution_count": 27,
   "metadata": {},
   "outputs": [],
   "source": [
    "/backfilling per site doesn't work as nulls for all site, will look more into that\n",
    "xtr:(mattab xtrain)[(til count[mattab xtrain]) except where 0<>{count where x=0n}each mattab xtrain]\n",
    "ytr:ytrain[(til count[mattab xtrain]) except where 0<>{count where x=0n}each mattab xtrain]"
   ]
  },
  {
   "cell_type": "markdown",
   "metadata": {},
   "source": [
    "### Baseline Random Forest"
   ]
  },
  {
   "cell_type": "code",
   "execution_count": 28,
   "metadata": {},
   "outputs": [],
   "source": [
    "clf:.p.import[`sklearn.ensemble][`:RandomForestClassifier][`n_estimators pykw 200;`random_state pykw 1]\n",
    "clf[`:fit][xtr;ytr]`;\n",
    "pred1:clf[`:predict][mattab xtest]`"
   ]
  },
  {
   "cell_type": "code",
   "execution_count": 29,
   "metadata": {},
   "outputs": [
    {
     "data": {
      "text/plain": [
       "class    | precision recall    f1_score  support\n",
       "---------| -------------------------------------\n",
       "0        | 0.9813554 0.9215442 0.9505098 25645  \n",
       "1        | 0.264351  0.6168942 0.3701049 1172   \n",
       "avg/total| 0.6228532 0.7692192 0.6603074 26817  \n"
      ]
     },
     "execution_count": 29,
     "metadata": {},
     "output_type": "execute_result"
    }
   ],
   "source": [
    ".ml.classreport[ytest;pred1]"
   ]
  },
  {
   "cell_type": "code",
   "execution_count": 30,
   "metadata": {},
   "outputs": [
    {
     "name": "stdout",
     "output_type": "stream",
     "text": [
      "0.9082299\n"
     ]
    }
   ],
   "source": [
    "show acc:(count where pred1=ytest)%count[ytest]"
   ]
  },
  {
   "cell_type": "code",
   "execution_count": 35,
   "metadata": {
    "scrolled": false
   },
   "outputs": [
    {
     "name": "stdout",
     "output_type": "stream",
     "text": [
      "0| 23633 2012\n",
      "1| 449   723 \n"
     ]
    },
    {
     "data": {
      "image/png": "[encoded data removed]",
      "text/plain": [
       "<Figure size 720x720 with 1 Axes>"
      ]
     },
     "metadata": {},
     "output_type": "display_data"
    }
   ],
   "source": [
    "\\l ml/fresh/notebooks/graphics.q\n",
    "show cnfM:.ml.confmat[ytest;pred1]\n",
    "conf:.ml.confdict[ytest;pred1;1b]\n",
    ".ml.displayCM[value cnfM;`Low`High;\"Test Set Confusion Matrix\";()]"
   ]
  },
  {
   "cell_type": "code",
   "execution_count": 36,
   "metadata": {},
   "outputs": [
    {
     "name": "stdout",
     "output_type": "stream",
     "text": [
      "0.7692192\n"
     ]
    }
   ],
   "source": [
    "show meanclassavg:avg (conf[`tp]%(sum conf[`tp`fn]);conf[`tn]%(sum conf[`tn`fp]))"
   ]
  },
  {
   "cell_type": "markdown",
   "metadata": {},
   "source": [
    "### Neural Net"
   ]
  },
  {
   "cell_type": "markdown",
   "metadata": {},
   "source": [
    "Import models needed for Neural Net"
   ]
  },
  {
   "cell_type": "code",
   "execution_count": 31,
   "metadata": {},
   "outputs": [
    {
     "name": "stderr",
     "output_type": "stream",
     "text": [
      "Using TensorFlow backend.\n"
     ]
    }
   ],
   "source": [
    "sequential:    .p.import[`keras.models]`:Sequential\n",
    "dense:         .p.import[`keras.layers]`:Dense\n",
    "normalization: .p.import[`keras.layers]`:BatchNormalization\n",
    "pylist:        .p.import[`builtins]`:list\n",
    "models:        .p.import[`keras]`:Model\n",
    "inp:.p.import[`keras.layers]`:Input\n",
    "km:.p.import[`keras_metrics]\n",
    "plt:.p.import[`matplotlib]`:pyplot\n"
   ]
  },
  {
   "cell_type": "code",
   "execution_count": 32,
   "metadata": {
    "scrolled": true
   },
   "outputs": [
    {
     "name": "stderr",
     "output_type": "stream",
     "text": [
      "WARNING: Logging before flag parsing goes to stderr.\n",
      "W0730 07:33:38.041311 139651601555456 deprecation_wrapper.py:119] From /home/dianeodonoghue/miniconda3/lib/python3.7/site-packages/keras/backend/tensorflow_backend.py:74: The name tf.get_default_graph is deprecated. Please use tf.compat.v1.get_default_graph instead.\n",
      "\n",
      "W0730 07:33:38.063768 139651601555456 deprecation_wrapper.py:119] From /home/dianeodonoghue/miniconda3/lib/python3.7/site-packages/keras/backend/tensorflow_backend.py:517: The name tf.placeholder is deprecated. Please use tf.compat.v1.placeholder instead.\n",
      "\n",
      "W0730 07:33:38.067466 139651601555456 deprecation_wrapper.py:119] From /home/dianeodonoghue/miniconda3/lib/python3.7/site-packages/keras/backend/tensorflow_backend.py:4138: The name tf.random_uniform is deprecated. Please use tf.random.uniform instead.\n",
      "\n",
      "W0730 07:33:38.097501 139651601555456 deprecation_wrapper.py:119] From /home/dianeodonoghue/miniconda3/lib/python3.7/site-packages/keras/optimizers.py:790: The name tf.train.Optimizer is deprecated. Please use tf.compat.v1.train.Optimizer instead.\n",
      "\n",
      "W0730 07:33:38.116818 139651601555456 deprecation_wrapper.py:119] From /home/dianeodonoghue/miniconda3/lib/python3.7/site-packages/keras/backend/tensorflow_backend.py:3376: The name tf.log is deprecated. Please use tf.math.log instead.\n",
      "\n",
      "W0730 07:33:38.122330 139651601555456 deprecation.py:323] From /home/dianeodonoghue/miniconda3/lib/python3.7/site-packages/tensorflow/python/ops/nn_impl.py:180: add_dispatch_support.<locals>.wrapper (from tensorflow.python.ops.array_ops) is deprecated and will be removed in a future version.\n",
      "Instructions for updating:\n",
      "Use tf.where in 2.0, which has the same broadcast rule as np.where\n",
      "W0730 07:33:38.148242 139651601555456 deprecation_wrapper.py:119] From /home/dianeodonoghue/miniconda3/lib/python3.7/site-packages/keras/backend/tensorflow_backend.py:986: The name tf.assign_add is deprecated. Please use tf.compat.v1.assign_add instead.\n",
      "\n"
     ]
    },
    {
     "data": {
      "text/plain": [
       "{[f;x]embedPy[f;x]}[foreign]enlist\n"
      ]
     },
     "execution_count": 32,
     "metadata": {},
     "output_type": "execute_result"
    },
    {
     "name": "stderr",
     "output_type": "stream",
     "text": [
      "2019-07-30 07:33:38.675013: I tensorflow/core/platform/cpu_feature_guard.cc:142] Your CPU supports instructions that this TensorFlow binary was not compiled to use: AVX2 FMA\n",
      "2019-07-30 07:33:38.684958: I tensorflow/core/platform/profile_utils/cpu_utils.cc:94] CPU Frequency: 2300000000 Hz\n",
      "2019-07-30 07:33:38.688355: I tensorflow/compiler/xla/service/service.cc:168] XLA service 0xa177290 executing computations on platform Host. Devices:\n",
      "2019-07-30 07:33:38.688429: I tensorflow/compiler/xla/service/service.cc:175]   StreamExecutor device (0): <undefined>, <undefined>\n",
      "2019-07-30 07:33:38.789459: W tensorflow/compiler/jit/mark_for_compilation_pass.cc:1412] (One-time warning): Not using XLA:CPU for cluster because envvar TF_XLA_FLAGS=--tf_xla_cpu_global_jit was not set.  If you want XLA:CPU, either set that envvar, or use experimental_jit_scope to enable XLA:CPU.  To confirm that XLA is active, pass --vmodule=xla_compilation_cache=1 (as a proper command-line flag, not via TF_XLA_FLAGS) or set the envvar XLA_FLAGS=--xla_hlo_profile.\n"
     ]
    },
    {
     "name": "stdout",
     "output_type": "stream",
     "text": [
      "Epoch 1/100\n",
      "44189/44189 [==============================] - ETA: 0s - loss: 13.0467 - precision: 0.1816 - recall: 1.00000 - ETA: 2s - loss: 12.9545 - precision: 0.1874 - recall: 1.0000  - ETA: 1s - loss: 12.9582 - precision: 0.1872 - recall: 1.00 - ETA: 0s - loss: 13.0677 - precision: 0.1803 - recall: 1.000 - ETA: 0s - loss: 13.0658 - precision: 0.1804 - recall: 1.000 - ETA: 0s - loss: 13.0522 - precision: 0.1813 - recall: 1.000 - ETA: 0s - loss: 13.0554 - precision: 0.1811 - recall: 1.000 - ETA: 0s - loss: 13.0483 - precision: 0.1815 - recall: 1.000 - ETA: 0s - loss: 13.0485 - precision: 0.1815 - recall: 1.00 - ETA: 0s - loss: 13.0527 - precision: 0.1813 - recall: 1.000 - ETA: 0s - loss: 13.0548 - precision: 0.1811 - recall: 1.000 - ETA: 0s - loss: 13.0562 - precision: 0.1810 - recall: 1.000 - 1s 19us/step - loss: 13.0630 - precision: 0.1806 - recall: 1.0000\n",
      "Epoch 2/100\n",
      "44189/44189 [==============================] - ETA: 0s - loss: 13.0870 - precision: 0.1791 - recall: 1.0000- ETA: 0s - loss: 13.1307 - precision: 0.1764 - recall: 1.000 - ETA: 0s - loss: 13.0212 - precision: 0.1832 - recall: 1.000 - ETA: 0s - loss: 13.0590 - precision: 0.1809 - recall: 1.000 - ETA: 0s - loss: 13.0603 - precision: 0.1808 - recall: 1.000 - ETA: 0s - loss: 13.0719 - precision: 0.1801 - recall: 1.000 - ETA: 0s - loss: 13.0550 - precision: 0.1811 - recall: 1.000 - ETA: 0s - loss: 13.0468 - precision: 0.1816 - recall: 1.000 - ETA: 0s - loss: 13.0644 - precision: 0.1805 - recall: 1.0 - ETA: 0s - loss: 13.0711 - precision: 0.1801 - recall: 1.000 - ETA: 0s - loss: 13.0750 - precision: 0.1799 - recall: 1.000 - 1s 14us/step - loss: 13.0630 - precision: 0.1810 - recall: 1.0000\n",
      "Epoch 3/100\n",
      "44189/44189 [==============================] - ETA: 1s - loss: 12.9133 - precision: 0.1900 - recall: 1.000 - ETA: 0s - loss: 13.1417 - precision: 0.1797 - recall: 1.000 - ETA: 0s - loss: 13.0933 - precision: 0.1787 - recall: 1.000 - ETA: 0s - loss: 13.0743 - precision: 0.1799 - recall: 1.000 - ETA: 0s - loss: 13.0511 - precision: 0.1814 - recall: 1.000 - ETA: 0s - loss: 13.0453 - precision: 0.1817 - recall: 1.000 - ETA: 0s - loss: 13.0291 - precision: 0.1827 - recall: 1.000 - ETA: 0s - loss: 13.0360 - precision: 0.1823 - recall: 1.000 - ETA: 0s - loss: 13.0452 - precision: 0.1817 - recall: 1.000 - ETA: 0s - loss: 13.0518 - precision: 0.1813 - recall: 1.000 - ETA: 0s - loss: 13.0374 - precision: 0.1822 - recall: 1.000 - ETA: 0s - loss: 13.0440 - precision: 0.1818 - recall: 1.000 - ETA: 0s - loss: 13.0559 - precision: 0.1811 - recall: 1.000 - 1s 15us/step - loss: 13.0630 - precision: 0.1806 - recall: 1.0000\n",
      "Epoch 4/100\n",
      "44189/44189 [==============================] - ETA: 0s - loss: 13.0283 - precision: 0.1828 - recall: 1.0000- ETA: 0s - loss: 13.0373 - precision: 0.1822 - recall: 1.000 - ETA: 0s - loss: 13.0204 - precision: 0.1833 - recall: 1.000 - ETA: 0s - loss: 13.0485 - precision: 0.1815 - recall: 1.00 - ETA: 0s - loss: 12.9935 - precision: 0.1850 - recall: 1.000 - ETA: 0s - loss: 13.0094 - precision: 0.1840 - recall: 1.000 - ETA: 0s - loss: 13.0144 - precision: 0.1837 - recall: 1.000 - ETA: 0s - loss: 13.0440 - precision: 0.1818 - recall: 1.000 - ETA: 0s - loss: 13.0478 - precision: 0.1816 - recall: 1.000 - ETA: 0s - loss: 13.0489 - precision: 0.1815 - recall: 1.000 - ETA: 0s - loss: 13.0486 - precision: 0.1815 - recall: 1.000 - ETA: 0s - loss: 13.0514 - precision: 0.1813 - recall: 1.000 - 1s 15us/step - loss: 13.0630 - precision: 0.1806 - recall: 1.0000\n",
      "Epoch 5/100\n",
      "44189/44189 [==============================] - ETA: 1s - loss: 13.2322 - precision: 0.1700 - recall: 1.000 - ETA: 0s - loss: 13.1046 - precision: 0.1780 - recall: 1.000 - ETA: 0s - loss: 13.0750 - precision: 0.1799 - recall: 1.000 - ETA: 0s - loss: 13.0155 - precision: 0.1836 - recall: 1.000 - ETA: 0s - loss: 13.0681 - precision: 0.1803 - recall: 1.000 - ETA: 0s - loss: 13.0520 - precision: 0.1813 - recall: 1.000 - ETA: 0s - loss: 13.0301 - precision: 0.1827 - recall: 1.000 - ETA: 0s - loss: 13.0397 - precision: 0.1821 - recall: 1.000 - ETA: 0s - loss: 13.0521 - precision: 0.1813 - recall: 1.000 - ETA: 0s - loss: 13.0523 - precision: 0.1813 - recall: 1.000 - ETA: 0s - loss: 13.0477 - precision: 0.1816 - recall: 1.000 - ETA: 0s - loss: 13.0482 - precision: 0.1815 - recall: 1.000 - ETA: 0s - loss: 13.0538 - precision: 0.1812 - recall: 1.000 - ETA: 0s - loss: 13.0607 - precision: 0.1808 - recall: 1.000 - 1s 15us/step - loss: 13.0630 - precision: 0.1806 - recall: 1.0000\n",
      "Epoch 6/100\n",
      "44189/44189 [==============================] - ETA: 0s - loss: 13.0480 - precision: 0.1816 - recall: 1.0000- ETA: 0s - loss: 13.1411 - precision: 0.1757 - recall: 1.000 - ETA: 0s - loss: 13.1297 - precision: 0.1764 - recall: 1.000 - ETA: 0s - loss: 13.0467 - precision: 0.1816 - recall: 1.000 - ETA: 0s - loss: 13.0416 - precision: 0.1820 - recall: 1.000 - ETA: 0s - loss: 13.0467 - precision: 0.1816 - recall: 1.000 - ETA: 0s - loss: 13.0276 - precision: 0.1828 - recall: 1.000 - ETA: 0s - loss: 13.0342 - precision: 0.1824 - recall: 1.000 - ETA: 0s - loss: 13.0477 - precision: 0.1816 - recall: 1.000 - ETA: 0s - loss: 13.0464 - precision: 0.1817 - recall: 1.000 - ETA: 0s - loss: 13.0585 - precision: 0.1809 - recall: 1.000 - ETA: 0s - loss: 13.0498 - precision: 0.1814 - recall: 1.00 - 1s 15us/step - loss: 13.0630 - precision: 0.1806 - recall: 1.0000\n",
      "Epoch 7/100\n",
      "44189/44189 [==============================] - ETA: 0s - loss: 13.0772 - precision: 0.1797 - recall: 1.0000- ETA: 0s - loss: 13.0462 - precision: 0.1817 - recall: 1.000 - ETA: 0s - loss: 13.0506 - precision: 0.1814 - recall: 1.000 - ETA: 0s - loss: 13.0550 - precision: 0.1811 - recall: 1.000 - ETA: 0s - loss: 13.0805 - precision: 0.1795 - recall: 1.000 - ETA: 0s - loss: 13.0763 - precision: 0.1798 - recall: 1.00 - ETA: 0s - loss: 13.0734 - precision: 0.1800 - recall: 1.000 - ETA: 0s - loss: 13.1065 - precision: 0.1779 - recall: 1.000 - ETA: 0s - loss: 13.0940 - precision: 0.1787 - recall: 1.000 - ETA: 0s - loss: 13.0616 - precision: 0.1807 - recall: 1.000 - ETA: 0s - loss: 13.0488 - precision: 0.1815 - recall: 1.000 - ETA: 0s - loss: 13.0646 - precision: 0.1805 - recall: 1.000 - 1s 14us/step - loss: 13.0630 - precision: 0.1806 - recall: 1.0000\n",
      "Epoch 8/100\n",
      "44189/44189 [==============================] - ETA: 1s - loss: 14.3481 - precision: 0.1000 - recall: 1.000 - ETA: 0s - loss: 13.1288 - precision: 0.1765 - recall: 1.000 - ETA: 0s - loss: 13.0550 - precision: 0.1811 - recall: 1.000 - ETA: 0s - loss: 13.0027 - precision: 0.1844 - recall: 1.000 - ETA: 0s - loss: 13.0366 - precision: 0.1823 - recall: 1.000 - ETA: 0s - loss: 13.0637 - precision: 0.1806 - recall: 1.000 - ETA: 0s - loss: 13.0773 - precision: 0.1797 - recall: 1.000 - ETA: 0s - loss: 13.0650 - precision: 0.1805 - recall: 1.000 - ETA: 0s - loss: 13.0700 - precision: 0.1802 - recall: 1.000 - ETA: 0s - loss: 13.0673 - precision: 0.1803 - recall: 1.000 - ETA: 0s - loss: 13.0674 - precision: 0.1803 - recall: 1.000 - ETA: 0s - loss: 13.0748 - precision: 0.1799 - recall: 1.000 - ETA: 0s - loss: 13.0672 - precision: 0.1804 - recall: 1.000 - 1s 14us/step - loss: 13.0630 - precision: 0.1806 - recall: 1.0000\n",
      "Epoch 9/100\n",
      "44189/44189 [==============================] - ETA: 0s - loss: 13.0784 - precision: 0.1796 - recall: 1.0000- ETA: 0s - loss: 13.0814 - precision: 0.1795 - recall: 1.000 - ETA: 0s - loss: 13.0329 - precision: 0.1825 - recall: 1.000 - ETA: 0s - loss: 13.0355 - precision: 0.1823 - recall: 1.000 - ETA: 0s - loss: 13.0705 - precision: 0.1801 - recall: 1.000 - ETA: 0s - loss: 13.0710 - precision: 0.1801 - recall: 1.000 - ETA: 0s - loss: 13.0945 - precision: 0.1786 - recall: 1.000 - ETA: 0s - loss: 13.0912 - precision: 0.1788 - recall: 1.000 - ETA: 0s - loss: 13.0949 - precision: 0.1786 - recall: 1.000 - ETA: 0s - loss: 13.0811 - precision: 0.1795 - recall: 1.000 - ETA: 0s - loss: 13.0728 - precision: 0.1800 - recall: 1.00 - ETA: 0s - loss: 13.0679 - precision: 0.1803 - recall: 1.000 - 1s 14us/step - loss: 13.0630 - precision: 0.1806 - recall: 1.0000\n",
      "Epoch 10/100\n"
     ]
    },
    {
     "name": "stdout",
     "output_type": "stream",
     "text": [
      "44189/44189 [==============================] - ETA: 0s - loss: 13.0709 - precision: 0.1801 - recall: 1.0000- ETA: 0s - loss: 13.0598 - precision: 0.1808 - recall: 1.000 - ETA: 0s - loss: 13.1208 - precision: 0.1770 - recall: 1.00 - ETA: 0s - loss: 13.0531 - precision: 0.1812 - recall: 1.000 - ETA: 0s - loss: 13.0719 - precision: 0.1801 - recall: 1.000 - ETA: 0s - loss: 13.0814 - precision: 0.1795 - recall: 1.00 - ETA: 0s - loss: 13.0630 - precision: 0.1806 - recall: 1.000 - ETA: 0s - loss: 13.0531 - precision: 0.1812 - recall: 1.000 - ETA: 0s - loss: 13.0628 - precision: 0.1806 - recall: 1.000 - ETA: 0s - loss: 13.0598 - precision: 0.1808 - recall: 1.000 - 1s 14us/step - loss: 13.0630 - precision: 0.1806 - recall: 1.0000\n",
      "Epoch 11/100\n",
      "44189/44189 [==============================] - ETA: 1s - loss: 13.7105 - precision: 0.1400 - recall: 1.000 - ETA: 0s - loss: 13.0254 - precision: 0.1830 - recall: 1.000 - ETA: 0s - loss: 13.1223 - precision: 0.1769 - recall: 1.000 - ETA: 0s - loss: 13.0756 - precision: 0.1798 - recall: 1.000 - ETA: 0s - loss: 13.0717 - precision: 0.1801 - recall: 1.000 - ETA: 0s - loss: 13.1098 - precision: 0.1777 - recall: 1.000 - ETA: 0s - loss: 13.0886 - precision: 0.1790 - recall: 1.000 - ETA: 0s - loss: 13.0814 - precision: 0.1795 - recall: 1.000 - ETA: 0s - loss: 13.0824 - precision: 0.1794 - recall: 1.000 - ETA: 0s - loss: 13.0622 - precision: 0.1807 - recall: 1.000 - ETA: 0s - loss: 13.0667 - precision: 0.1804 - recall: 1.000 - ETA: 0s - loss: 13.0637 - precision: 0.1806 - recall: 1.000 - ETA: 0s - loss: 13.0633 - precision: 0.1806 - recall: 1.000 - 1s 14us/step - loss: 13.0630 - precision: 0.1806 - recall: 1.0000\n",
      "Epoch 12/100\n",
      "44189/44189 [==============================] - ETA: 1s - loss: 13.2322 - precision: 0.1700 - recall: 1.000 - ETA: 0s - loss: 13.0056 - precision: 0.1842 - recall: 1.000 - ETA: 0s - loss: 12.9478 - precision: 0.1878 - recall: 1.000 - ETA: 0s - loss: 12.9835 - precision: 0.1856 - recall: 1.000 - ETA: 0s - loss: 12.9771 - precision: 0.1860 - recall: 1.000 - ETA: 0s - loss: 12.9864 - precision: 0.1854 - recall: 1.000 - ETA: 0s - loss: 13.0062 - precision: 0.1842 - recall: 1.000 - ETA: 0s - loss: 13.0165 - precision: 0.1835 - recall: 1.000 - ETA: 0s - loss: 13.0220 - precision: 0.1832 - recall: 1.000 - ETA: 0s - loss: 13.0442 - precision: 0.1818 - recall: 1.000 - ETA: 0s - loss: 13.0436 - precision: 0.1818 - recall: 1.000 - ETA: 0s - loss: 13.0692 - precision: 0.1802 - recall: 1.000 - ETA: 0s - loss: 13.0597 - precision: 0.1808 - recall: 1.000 - 1s 14us/step - loss: 13.0630 - precision: 0.1806 - recall: 1.0000\n",
      "Epoch 13/100\n",
      "44189/44189 [==============================] - ETA: 0s - loss: 13.0568 - precision: 0.1810 - recall: 1.0000- ETA: 0s - loss: 13.0814 - precision: 0.1795 - recall: 1.000 - ETA: 0s - loss: 13.0275 - precision: 0.1828 - recall: 1.000 - ETA: 0s - loss: 13.0699 - precision: 0.1802 - recall: 1.000 - ETA: 0s - loss: 13.0695 - precision: 0.1802 - recall: 1.000 - ETA: 0s - loss: 13.0423 - precision: 0.1819 - recall: 1.000 - ETA: 0s - loss: 13.0457 - precision: 0.1817 - recall: 1.000 - ETA: 0s - loss: 13.0465 - precision: 0.1816 - recall: 1.000 - ETA: 0s - loss: 13.0564 - precision: 0.1810 - recall: 1.00 - ETA: 0s - loss: 13.0597 - precision: 0.1808 - recall: 1.000 - ETA: 0s - loss: 13.0632 - precision: 0.1806 - recall: 1.000 - ETA: 0s - loss: 13.0614 - precision: 0.1807 - recall: 1.000 - 1s 14us/step - loss: 13.0630 - precision: 0.1806 - recall: 1.0000\n",
      "Epoch 14/100\n",
      "44189/44189 [==============================] - ETA: 1s - loss: 12.9133 - precision: 0.1900 - recall: 1.000 - ETA: 0s - loss: 12.8513 - precision: 0.1939 - recall: 1.000 - ETA: 0s - loss: 13.0291 - precision: 0.1827 - recall: 1.000 - ETA: 0s - loss: 13.0597 - precision: 0.1808 - recall: 1.000 - ETA: 0s - loss: 13.0444 - precision: 0.1818 - recall: 1.000 - ETA: 0s - loss: 13.0457 - precision: 0.1817 - recall: 1.000 - ETA: 0s - loss: 13.0481 - precision: 0.1815 - recall: 1.000 - ETA: 0s - loss: 13.0386 - precision: 0.1821 - recall: 1.000 - ETA: 0s - loss: 13.0332 - precision: 0.1825 - recall: 1.000 - ETA: 0s - loss: 13.0573 - precision: 0.1810 - recall: 1.000 - ETA: 0s - loss: 13.0479 - precision: 0.1816 - recall: 1.000 - ETA: 0s - loss: 13.0536 - precision: 0.1812 - recall: 1.000 - ETA: 0s - loss: 13.0713 - precision: 0.1801 - recall: 1.000 - 1s 14us/step - loss: 13.0630 - precision: 0.1806 - recall: 1.0000\n",
      "Epoch 15/100\n",
      "44189/44189 [==============================] - ETA: 1s - loss: 12.4351 - precision: 0.2200 - recall: 1.000 - ETA: 0s - loss: 13.0550 - precision: 0.1811 - recall: 1.000 - ETA: 0s - loss: 13.0773 - precision: 0.1797 - recall: 1.000 - ETA: 0s - loss: 13.0834 - precision: 0.1793 - recall: 1.000 - ETA: 0s - loss: 13.1135 - precision: 0.1774 - recall: 1.000 - ETA: 0s - loss: 13.0962 - precision: 0.1785 - recall: 1.000 - ETA: 0s - loss: 13.0713 - precision: 0.1801 - recall: 1.000 - ETA: 0s - loss: 13.0508 - precision: 0.1814 - recall: 1.000 - ETA: 0s - loss: 13.0377 - precision: 0.1822 - recall: 1.000 - ETA: 0s - loss: 13.0441 - precision: 0.1818 - recall: 1.000 - ETA: 0s - loss: 13.0641 - precision: 0.1805 - recall: 1.000 - ETA: 0s - loss: 13.0657 - precision: 0.1804 - recall: 1.000 - ETA: 0s - loss: 13.0689 - precision: 0.1802 - recall: 1.000 - 1s 15us/step - loss: 13.0630 - precision: 0.1806 - recall: 1.0000\n",
      "Epoch 16/100\n",
      "44189/44189 [==============================] - 1s 14us/step - loss: 13.0630 - precision: 0.1806 - recall: 1.0000: 0s - loss: 13.0108 - precision: 0.1839 - recall: 1.000 - ETA: 0s - loss: 13.1193 - precision: 0.1771 - recall: 1.000 - ETA: 0s - loss: 13.1249 - precision: 0.1767 - recall: 1.000 - ETA: 0s - loss: 13.1031 - precision: 0.1781 - recall: 1.00 - ETA: 0s - loss: 13.1011 - precision: 0.1782 - recall: 1.00 - ETA: 0s - loss: 13.0845 - precision: 0.1793 - recall: 1.000 - ETA: 0s - loss: 13.0713 - precision: 0.1801 - recall: 1.000 - ETA: 0s - loss: 13.0723 - precision: 0.1800 - recall: 1.000 - ETA: 0s - loss: 13.0622 - precision: 0.1807 - recall: 1.00\n",
      "Epoch 17/100\n",
      "44189/44189 [==============================] - 1s 14us/step - loss: 13.0630 - precision: 0.1806 - recall: 1.0000: 0s - loss: 13.0560 - precision: 0.1811 - recall: 1.000 - ETA: 0s - loss: 13.0346 - precision: 0.1824 - recall: 1.000 - ETA: 0s - loss: 12.9878 - precision: 0.1853 - recall: 1.00 - ETA: 0s - loss: 13.0520 - precision: 0.1813 - recall: 1.0 - ETA: 0s - loss: 13.0812 - precision: 0.1795 - recall: 1.0 - ETA: 0s - loss: 13.0792 - precision: 0.1796 - recall: 1.00\n",
      "Epoch 18/100\n",
      "44189/44189 [==============================] - ETA: 0s - loss: 13.0368 - precision: 0.1823 - recall: 1.0000- ETA: 0s - loss: 13.0074 - precision: 0.1841 - recall: 1.000 - ETA: 0s - loss: 13.0506 - precision: 0.1814 - recall: 1.000 - ETA: 0s - loss: 13.0412 - precision: 0.1820 - recall: 1.000 - ETA: 0s - loss: 13.0375 - precision: 0.1822 - recall: 1.00 - ETA: 0s - loss: 13.0308 - precision: 0.1826 - recall: 1.000 - ETA: 0s - loss: 13.0761 - precision: 0.1798 - recall: 1.000 - ETA: 0s - loss: 13.0704 - precision: 0.1801 - recall: 1.000 - ETA: 0s - loss: 13.0707 - precision: 0.1801 - recall: 1.000 - ETA: 0s - loss: 13.0644 - precision: 0.1805 - recall: 1.000 - ETA: 0s - loss: 13.0553 - precision: 0.1811 - recall: 1.000 - ETA: 0s - loss: 13.0626 - precision: 0.1806 - recall: 1.000 - 1s 15us/step - loss: 13.0630 - precision: 0.1806 - recall: 1.0000\n",
      "Epoch 19/100\n"
     ]
    },
    {
     "name": "stdout",
     "output_type": "stream",
     "text": [
      "44189/44189 [==============================] - 1s 15us/step - loss: 13.0630 - precision: 0.1806 - recall: 1.0000: 0s - loss: 12.9680 - precision: 0.1866 - recall: 1.000 - ETA: 0s - loss: 13.0081 - precision: 0.1841 - recall: 1.000 - ETA: 0s - loss: 13.0743 - precision: 0.1799 - recall: 1.000 - ETA: 0s - loss: 13.0623 - precision: 0.1807 - recall: 1.000 - ETA: 0s - loss: 13.0448 - precision: 0.1818 - recall: 1.000 - ETA: 0s - loss: 13.0494 - precision: 0.1815 - recall: 1.000 - ETA: 0s - loss: 13.0601 - precision: 0.1808 - recall: 1.000 - ETA: 0s - loss: 13.0541 - precision: 0.1812 - recall: 1.000 - ETA: 0s - loss: 13.0489 - precision: 0.1815 - recall: 1.000 - ETA: 0s - loss: 13.0494 - precision: 0.1815 - recall: 1.000 - ETA: 0s - loss: 13.0571 - precision: 0.1810 - recall: 1.000 - ETA: 0s - loss: 13.0521 - precision: 0.1813 - recall: 1.000\n",
      "Epoch 20/100\n",
      "44189/44189 [==============================] - ETA: 1s - loss: 13.2322 - precision: 0.1700 - recall: 1.000 - ETA: 0s - loss: 13.0118 - precision: 0.1838 - recall: 1.000 - ETA: 0s - loss: 13.0242 - precision: 0.1830 - recall: 1.000 - ETA: 0s - loss: 13.0929 - precision: 0.1787 - recall: 1.000 - ETA: 0s - loss: 13.1018 - precision: 0.1782 - recall: 1.000 - ETA: 0s - loss: 13.0765 - precision: 0.1798 - recall: 1.000 - ETA: 0s - loss: 13.0642 - precision: 0.1805 - recall: 1.000 - ETA: 0s - loss: 13.0480 - precision: 0.1816 - recall: 1.000 - ETA: 0s - loss: 13.0295 - precision: 0.1827 - recall: 1.000 - ETA: 0s - loss: 13.0567 - precision: 0.1810 - recall: 1.000 - ETA: 0s - loss: 13.0502 - precision: 0.1814 - recall: 1.000 - ETA: 0s - loss: 13.0578 - precision: 0.1809 - recall: 1.000 - ETA: 0s - loss: 13.0540 - precision: 0.1812 - recall: 1.000 - 1s 15us/step - loss: 13.0630 - precision: 0.1806 - recall: 1.0000\n",
      "Epoch 21/100\n",
      "44189/44189 [==============================] - 1s 14us/step - loss: 13.0630 - precision: 0.1806 - recall: 1.0000: 0s - loss: 13.0728 - precision: 0.1800 - recall: 1.000 - ETA: 0s - loss: 13.0681 - precision: 0.1803 - recall: 1.000 - ETA: 0s - loss: 13.0344 - precision: 0.1824 - recall: 1.00 - ETA: 0s - loss: 13.0214 - precision: 0.1832 - recall: 1.0 - ETA: 0s - loss: 13.0666 - precision: 0.1804 - recall: 1.00 - ETA: 0s - loss: 13.0750 - precision: 0.1799 - recall: 1.000 - ETA: 0s - loss: 13.0653 - precision: 0.1805 - recall: 1.000 - ETA: 0s - loss: 13.0679 - precision: 0.1803 - recall: 1.000\n",
      "Epoch 22/100\n",
      "44189/44189 [==============================] - ETA: 0s - loss: 13.0698 - precision: 0.1802 - recall: 1.0000- ETA: 0s - loss: 13.0418 - precision: 0.1819 - recall: 1.000 - ETA: 0s - loss: 13.0772 - precision: 0.1797 - recall: 1.000 - ETA: 0s - loss: 13.0832 - precision: 0.1793 - recall: 1.00 - ETA: 0s - loss: 13.0611 - precision: 0.1807 - recall: 1.000 - ETA: 0s - loss: 13.0458 - precision: 0.1817 - recall: 1.00 - ETA: 0s - loss: 13.0465 - precision: 0.1816 - recall: 1 - 1s 14us/step - loss: 13.0630 - precision: 0.1806 - recall: 1.0000\n",
      "Epoch 23/100\n",
      "44189/44189 [==============================] - ETA: 0s - loss: 13.0415 - precision: 0.1820 - recall: 1.0000- ETA: 0s - loss: 13.1115 - precision: 0.1776 - recall: 1.0 - ETA: 0s - loss: 13.0595 - precision: 0.1808 - recall: 1.000 - ETA: 0s - loss: 13.0487 - precision: 0.1815 - recall: 1.00 - ETA: 0s - loss: 13.0540 - precision: 0.1812 - recall: 1. - ETA: 0s - loss: 13.0542 - precision: 0.1812 - recall: 1.000 - 1s 14us/step - loss: 13.0630 - precision: 0.1806 - recall: 1.0000\n",
      "Epoch 24/100\n",
      "44189/44189 [==============================] - ETA: 0s - loss: 13.0662 - precision: 0.1804 - recall: 1.0000- ETA: 0s - loss: 13.0014 - precision: 0.1845 - recall: 1.00 - ETA: 0s - loss: 13.0144 - precision: 0.1837 - recall: 1.000 - ETA: 0s - loss: 13.0588 - precision: 0.1809 - recall: 1.0 - ETA: 0s - loss: 13.0315 - precision: 0.1826 - recall: 1.0 - ETA: 0s - loss: 13.0480 - precision: 0.1816 - recall: 1.0 - 1s 14us/step - loss: 13.0630 - precision: 0.1806 - recall: 1.0000\n",
      "Epoch 25/100\n",
      "44189/44189 [==============================] - ETA: 0s - loss: 13.0642 - precision: 0.1805 - recall: 1.0000- ETA: 0s - loss: 13.0272 - precision: 0.1829 - recall: 1.000 - ETA: 0s - loss: 13.0031 - precision: 0.1844 - recall: 1.000 - ETA: 0s - loss: 13.0444 - precision: 0.1818 - recall: 1.000 - ETA: 0s - loss: 13.0538 - precision: 0.1812 - recall: 1.00 - ETA: 0s - loss: 13.0340 - precision: 0.1824 - recall: 1.000 - ETA: 0s - loss: 13.0502 - precision: 0.1814 - recall: 1.000 - ETA: 0s - loss: 13.0568 - precision: 0.1810 - recall: 1.000 - ETA: 0s - loss: 13.0620 - precision: 0.1807 - recall: 1.000 - ETA: 0s - loss: 13.0554 - precision: 0.1811 - recall: 1.000 - ETA: 0s - loss: 13.0606 - precision: 0.1808 - recall: 1.00 - 1s 14us/step - loss: 13.0630 - precision: 0.1806 - recall: 1.0000\n",
      "Epoch 26/100\n",
      "44189/44189 [==============================] - ETA: 0s - loss: 13.0616 - precision: 0.1807 - recall: 1.0000- ETA: 0s - loss: 12.9995 - precision: 0.1846 - recall: 1.000 - ETA: 0s - loss: 13.0997 - precision: 0.1783 - recall: 1.000 - ETA: 0s - loss: 13.0849 - precision: 0.1792 - recall: 1.000 - ETA: 0s - loss: 13.0830 - precision: 0.1794 - recall: 1.000 - ETA: 0s - loss: 13.0508 - precision: 0.1814 - recall: 1.000 - ETA: 0s - loss: 13.0384 - precision: 0.1822 - recall: 1.000 - ETA: 0s - loss: 13.0398 - precision: 0.1821 - recall: 1.000 - ETA: 0s - loss: 13.0468 - precision: 0.1816 - recall: 1.0 - ETA: 0s - loss: 13.0568 - precision: 0.1810 - recall: 1.00 - 1s 15us/step - loss: 13.0630 - precision: 0.1806 - recall: 1.0000\n",
      "Epoch 27/100\n",
      "44189/44189 [==============================] - ETA: 1s - loss: 12.5945 - precision: 0.2100 - recall: 1.000 - ETA: 0s - loss: 12.8997 - precision: 0.1909 - recall: 1.000 - ETA: 0s - loss: 12.9884 - precision: 0.1853 - recall: 1.000 - ETA: 0s - loss: 13.0556 - precision: 0.1811 - recall: 1.000 - ETA: 0s - loss: 13.0554 - precision: 0.1811 - recall: 1.000 - ETA: 0s - loss: 13.0976 - precision: 0.1784 - recall: 1.000 - ETA: 0s - loss: 13.1049 - precision: 0.1780 - recall: 1.000 - ETA: 0s - loss: 13.0629 - precision: 0.1806 - recall: 1.000 - ETA: 0s - loss: 13.0562 - precision: 0.1810 - recall: 1.000 - ETA: 0s - loss: 13.0555 - precision: 0.1811 - recall: 1.000 - ETA: 0s - loss: 13.0578 - precision: 0.1809 - recall: 1.000 - ETA: 0s - loss: 13.0448 - precision: 0.1818 - recall: 1.000 - ETA: 0s - loss: 13.0585 - precision: 0.1809 - recall: 1.000 - 1s 14us/step - loss: 13.0630 - precision: 0.1806 - recall: 1.0000\n",
      "Epoch 28/100\n",
      "44189/44189 [==============================] - ETA: 0s - loss: 13.0598 - precision: 0.1808 - recall: 1.0000- ETA: 0s - loss: 13.0900 - precision: 0.1789 - recall: 1.000 - ETA: 0s - loss: 13.2322 - precision: 0.1700 - recall: 1.000 - ETA: 0s - loss: 13.1459 - precision: 0.1754 - recall: 1.000 - ETA: 0s - loss: 13.1263 - precision: 0.1766 - recall: 1.000 - ETA: 0s - loss: 13.1095 - precision: 0.1777 - recall: 1.000 - ETA: 0s - loss: 13.0866 - precision: 0.1791 - recall: 1.000 - ETA: 0s - loss: 13.0608 - precision: 0.1808 - recall: 1.000 - ETA: 0s - loss: 13.0639 - precision: 0.1806 - recall: 1.000 - ETA: 0s - loss: 13.0649 - precision: 0.1805 - recall: 1. - 1s 14us/step - loss: 13.0630 - precision: 0.1806 - recall: 1.0000\n",
      "Epoch 29/100\n",
      "44189/44189 [==============================] - ETA: 1s - loss: 13.7105 - precision: 0.1400 - recall: 1.000 - ETA: 0s - loss: 13.0462 - precision: 0.1817 - recall: 1.000 - ETA: 0s - loss: 12.9963 - precision: 0.1848 - recall: 1.000 - ETA: 0s - loss: 12.9967 - precision: 0.1848 - recall: 1.000 - ETA: 0s - loss: 13.0174 - precision: 0.1835 - recall: 1.000 - ETA: 0s - loss: 13.0441 - precision: 0.1818 - recall: 1.000 - ETA: 0s - loss: 13.0370 - precision: 0.1822 - recall: 1.000 - ETA: 0s - loss: 13.0428 - precision: 0.1819 - recall: 1.000 - ETA: 0s - loss: 13.0444 - precision: 0.1818 - recall: 1.000 - ETA: 0s - loss: 13.0480 - precision: 0.1816 - recall: 1.000 - ETA: 0s - loss: 13.0573 - precision: 0.1810 - recall: 1.000 - ETA: 0s - loss: 13.0682 - precision: 0.1803 - recall: 1.000 - ETA: 0s - loss: 13.0682 - precision: 0.1803 - recall: 1.000 - 1s 15us/step - loss: 13.0630 - precision: 0.1806 - recall: 1.0000\n",
      "Epoch 30/100\n"
     ]
    },
    {
     "name": "stdout",
     "output_type": "stream",
     "text": [
      "44189/44189 [==============================] - ETA: 0s - loss: 13.0434 - precision: 0.1818 - recall: 1.000 - ETA: 0s - loss: 13.0494 - precision: 0.1815 - recall: 1.000 - ETA: 0s - loss: 13.0557 - precision: 0.1811 - recall: 1.000 - ETA: 0s - loss: 13.0889 - precision: 0.1790 - recall: 1.000 - ETA: 0s - loss: 13.0641 - precision: 0.1805 - recall: 1.000 - ETA: 0s - loss: 13.0612 - precision: 0.1807 - recall: 1.000 - ETA: 0s - loss: 13.0474 - precision: 0.1816 - recall: 1.000 - ETA: 0s - loss: 13.0317 - precision: 0.1826 - recall: 1.000 - ETA: 0s - loss: 13.0569 - precision: 0.1810 - recall: 1.000 - ETA: 0s - loss: 13.0568 - precision: 0.1810 - recall: 1.000 - ETA: 0s - loss: 13.0563 - precision: 0.1810 - recall: 1.000 - 1s 14us/step - loss: 13.0630 - precision: 0.1806 - recall: 1.0000\n",
      "Epoch 31/100\n",
      "44189/44189 [==============================] - ETA: 1s - loss: 12.9133 - precision: 0.1900 - recall: 1.000 - ETA: 0s - loss: 13.1158 - precision: 0.1773 - recall: 1.000 - ETA: 0s - loss: 13.0835 - precision: 0.1793 - recall: 1.000 - ETA: 0s - loss: 13.1245 - precision: 0.1768 - recall: 1.000 - ETA: 0s - loss: 13.0932 - precision: 0.1787 - recall: 1.000 - ETA: 0s - loss: 13.0728 - precision: 0.1800 - recall: 1.000 - ETA: 0s - loss: 13.0821 - precision: 0.1794 - recall: 1.000 - ETA: 0s - loss: 13.0989 - precision: 0.1784 - recall: 1.000 - ETA: 0s - loss: 13.0854 - precision: 0.1792 - recall: 1.000 - ETA: 0s - loss: 13.0728 - precision: 0.1800 - recall: 1.000 - ETA: 0s - loss: 13.0684 - precision: 0.1803 - recall: 1.000 - ETA: 0s - loss: 13.0667 - precision: 0.1804 - recall: 1.000 - ETA: 0s - loss: 13.0628 - precision: 0.1806 - recall: 1.000 - 1s 14us/step - loss: 13.0630 - precision: 0.1806 - recall: 1.0000\n",
      "Epoch 32/100\n",
      "44189/44189 [==============================] - 1s 15us/step - loss: 13.0630 - precision: 0.1806 - recall: 1.0000: 0s - loss: 13.0506 - precision: 0.1814 - recall: 1.000 - ETA: 0s - loss: 13.0152 - precision: 0.1836 - recall: 1.000 - ETA: 0s - loss: 13.0340 - precision: 0.1824 - recall: 1.000 - ETA: 0s - loss: 13.0343 - precision: 0.1824 - recall: 1.000 - ETA: 0s - loss: 13.0405 - precision: 0.1820 - recall: 1.000 - ETA: 0s - loss: 13.0616 - precision: 0.1807 - recall: 1.000 - ETA: 0s - loss: 13.0593 - precision: 0.1808 - recall: 1.000 - ETA: 0s - loss: 13.0577 - precision: 0.1809 - recall: 1.000 - ETA: 0s - loss: 13.0548 - precision: 0.1811 - recall: 1.000 - ETA: 0s - loss: 13.0668 - precision: 0.1804 - recall: 1.000 - ETA: 0s - loss: 13.0636 - precision: 0.1806 - recall: 1.000 - ETA: 0s - loss: 13.0621 - precision: 0.1807 - recall: 1.000\n",
      "Epoch 33/100\n",
      "44189/44189 [==============================] - ETA: 1s - loss: 13.7105 - precision: 0.1400 - recall: 1.000 - ETA: 0s - loss: 12.9310 - precision: 0.1889 - recall: 1.000 - ETA: 0s - loss: 12.9270 - precision: 0.1891 - recall: 1.000 - ETA: 0s - loss: 13.0096 - precision: 0.1840 - recall: 1.000 - ETA: 0s - loss: 13.0207 - precision: 0.1833 - recall: 1.000 - ETA: 0s - loss: 13.0347 - precision: 0.1824 - recall: 1.000 - ETA: 0s - loss: 13.0501 - precision: 0.1814 - recall: 1.000 - ETA: 0s - loss: 13.0487 - precision: 0.1815 - recall: 1.000 - ETA: 0s - loss: 13.0483 - precision: 0.1815 - recall: 1.000 - ETA: 0s - loss: 13.0501 - precision: 0.1814 - recall: 1.000 - ETA: 0s - loss: 13.0619 - precision: 0.1807 - recall: 1.000 - ETA: 0s - loss: 13.0550 - precision: 0.1811 - recall: 1.000 - ETA: 0s - loss: 13.0633 - precision: 0.1806 - recall: 1.000 - 1s 15us/step - loss: 13.0630 - precision: 0.1806 - recall: 1.0000\n",
      "Epoch 34/100\n",
      "44189/44189 [==============================] - ETA: 0s - loss: 13.0216 - precision: 0.1832 - recall: 1.0000- ETA: 0s - loss: 12.9994 - precision: 0.1846 - recall: 1.000 - ETA: 0s - loss: 13.0149 - precision: 0.1836 - recall: 1.000 - ETA: 0s - loss: 13.0034 - precision: 0.1844 - recall: 1.000 - ETA: 0s - loss: 13.0214 - precision: 0.1832 - recall: 1.00 - ETA: 0s - loss: 13.0437 - precision: 0.1818 - recall: 1.000 - ETA: 0s - loss: 13.0470 - precision: 0.1816 - recall: 1.000 - ETA: 0s - loss: 13.0616 - precision: 0.1807 - recall: 1.000 - ETA: 0s - loss: 13.0584 - precision: 0.1809 - recall: 1.000 - ETA: 0s - loss: 13.0570 - precision: 0.1810 - recall: 1.000 - 1s 15us/step - loss: 13.0630 - precision: 0.1806 - recall: 1.0000\n",
      "Epoch 35/100\n",
      "44189/44189 [==============================] - ETA: 0s - loss: 13.0490 - precision: 0.1815 - recall: 1.0000- ETA: 0s - loss: 13.0620 - precision: 0.1807 - recall: 1.000 - ETA: 0s - loss: 13.0343 - precision: 0.1824 - recall: 1.0 - ETA: 0s - loss: 13.0545 - precision: 0.1811 - recall: 1.000 - ETA: 0s - loss: 13.0668 - precision: 0.1804 - recall: 1.000 - ETA: 0s - loss: 13.0738 - precision: 0.1799 - recall: 1.000 - ETA: 0s - loss: 13.0774 - precision: 0.1797 - recall: 1.000 - ETA: 0s - loss: 13.0656 - precision: 0.1805 - recall: 1.000 - ETA: 0s - loss: 13.0735 - precision: 0.1800 - recall: 1.000 - 1s 14us/step - loss: 13.0630 - precision: 0.1806 - recall: 1.0000\n",
      "Epoch 36/100\n",
      "44189/44189 [==============================] - ETA: 1s - loss: 12.1162 - precision: 0.2400 - recall: 1.000 - ETA: 0s - loss: 13.0518 - precision: 0.1813 - recall: 1.000 - ETA: 0s - loss: 13.0175 - precision: 0.1835 - recall: 1.000 - ETA: 0s - loss: 13.0354 - precision: 0.1823 - recall: 1.000 - ETA: 0s - loss: 13.0717 - precision: 0.1801 - recall: 1.000 - ETA: 0s - loss: 13.0754 - precision: 0.1798 - recall: 1.000 - ETA: 0s - loss: 13.0771 - precision: 0.1797 - recall: 1.000 - ETA: 0s - loss: 13.0827 - precision: 0.1794 - recall: 1.000 - ETA: 0s - loss: 13.0782 - precision: 0.1797 - recall: 1.000 - ETA: 0s - loss: 13.0636 - precision: 0.1806 - recall: 1.000 - ETA: 0s - loss: 13.0680 - precision: 0.1803 - recall: 1.000 - ETA: 0s - loss: 13.0555 - precision: 0.1811 - recall: 1.000 - 1s 14us/step - loss: 13.0630 - precision: 0.1806 - recall: 1.0000\n",
      "Epoch 37/100\n",
      "44189/44189 [==============================] - ETA: 1s - loss: 13.5510 - precision: 0.1500 - recall: 1.000 - ETA: 0s - loss: 12.9583 - precision: 0.1872 - recall: 1.000 - ETA: 0s - loss: 12.9672 - precision: 0.1866 - recall: 1.000 - ETA: 0s - loss: 12.9735 - precision: 0.1862 - recall: 1.000 - ETA: 0s - loss: 12.9946 - precision: 0.1849 - recall: 1.000 - ETA: 0s - loss: 13.0053 - precision: 0.1842 - recall: 1.000 - ETA: 0s - loss: 13.0257 - precision: 0.1830 - recall: 1.000 - ETA: 0s - loss: 13.0237 - precision: 0.1831 - recall: 1.000 - ETA: 0s - loss: 13.0454 - precision: 0.1817 - recall: 1.000 - ETA: 0s - loss: 13.0594 - precision: 0.1808 - recall: 1.000 - ETA: 0s - loss: 13.0553 - precision: 0.1811 - recall: 1.000 - ETA: 0s - loss: 13.0662 - precision: 0.1804 - recall: 1.000 - 1s 14us/step - loss: 13.0630 - precision: 0.1806 - recall: 1.0000\n",
      "Epoch 38/100\n",
      "44189/44189 [==============================] - ETA: 1s - loss: 12.5945 - precision: 0.2100 - recall: 1.000 - ETA: 0s - loss: 13.0766 - precision: 0.1798 - recall: 1.000 - ETA: 0s - loss: 13.0944 - precision: 0.1786 - recall: 1.000 - ETA: 0s - loss: 13.0022 - precision: 0.1844 - recall: 1.000 - ETA: 0s - loss: 13.0233 - precision: 0.1831 - recall: 1.000 - ETA: 0s - loss: 13.0306 - precision: 0.1826 - recall: 1.000 - ETA: 0s - loss: 13.0228 - precision: 0.1831 - recall: 1.000 - ETA: 0s - loss: 13.0413 - precision: 0.1820 - recall: 1.000 - ETA: 0s - loss: 13.0550 - precision: 0.1811 - recall: 1.000 - ETA: 0s - loss: 13.0660 - precision: 0.1804 - recall: 1.000 - ETA: 0s - loss: 13.0615 - precision: 0.1807 - recall: 1.000 - ETA: 0s - loss: 13.0629 - precision: 0.1806 - recall: 1.000 - 1s 13us/step - loss: 13.0630 - precision: 0.1806 - recall: 1.0000\n",
      "Epoch 39/100\n"
     ]
    },
    {
     "name": "stdout",
     "output_type": "stream",
     "text": [
      "44189/44189 [==============================] - ETA: 0s - loss: 13.0654 - precision: 0.1805 - recall: 1.0000- ETA: 0s - loss: 13.0576 - precision: 0.1810 - recall: 1.000 - ETA: 0s - loss: 13.1003 - precision: 0.1783 - recall: 1.000 - ETA: 0s - loss: 13.1070 - precision: 0.1779 - recall: 1.000 - ETA: 0s - loss: 13.0937 - precision: 0.1787 - recall: 1.000 - ETA: 0s - loss: 13.0841 - precision: 0.1793 - recall: 1.000 - ETA: 0s - loss: 13.0795 - precision: 0.1796 - recall: 1.000 - ETA: 0s - loss: 13.0803 - precision: 0.1795 - recall: 1.000 - ETA: 0s - loss: 13.0783 - precision: 0.1797 - recall: 1.000 - ETA: 0s - loss: 13.0709 - precision: 0.1801 - recall: 1.00 - ETA: 0s - loss: 13.0634 - precision: 0.1806 - recall: 1.000 - 1s 13us/step - loss: 13.0630 - precision: 0.1806 - recall: 1.0000\n",
      "Epoch 40/100\n",
      "44189/44189 [==============================] - ETA: 1s - loss: 12.5945 - precision: 0.2100 - recall: 1.000 - ETA: 0s - loss: 12.9650 - precision: 0.1868 - recall: 1.000 - ETA: 0s - loss: 12.9898 - precision: 0.1852 - recall: 1.000 - ETA: 0s - loss: 12.9814 - precision: 0.1857 - recall: 1.000 - ETA: 0s - loss: 13.0232 - precision: 0.1831 - recall: 1.000 - ETA: 0s - loss: 13.0145 - precision: 0.1837 - recall: 1.000 - ETA: 0s - loss: 13.0187 - precision: 0.1834 - recall: 1.000 - ETA: 0s - loss: 13.0358 - precision: 0.1823 - recall: 1.000 - ETA: 0s - loss: 13.0351 - precision: 0.1824 - recall: 1.000 - ETA: 0s - loss: 13.0530 - precision: 0.1812 - recall: 1.000 - ETA: 0s - loss: 13.0698 - precision: 0.1802 - recall: 1.000 - ETA: 0s - loss: 13.0693 - precision: 0.1802 - recall: 1.000 - 1s 14us/step - loss: 13.0630 - precision: 0.1806 - recall: 1.0000\n",
      "Epoch 41/100\n",
      "44189/44189 [==============================] - ETA: 1s - loss: 11.7974 - precision: 0.2600 - recall: 1.000 - ETA: 0s - loss: 12.9435 - precision: 0.1881 - recall: 1.000 - ETA: 0s - loss: 13.0663 - precision: 0.1804 - recall: 1.000 - ETA: 0s - loss: 13.0488 - precision: 0.1815 - recall: 1.000 - ETA: 0s - loss: 13.0643 - precision: 0.1805 - recall: 1.000 - ETA: 0s - loss: 13.0643 - precision: 0.1805 - recall: 1.000 - ETA: 0s - loss: 13.0502 - precision: 0.1814 - recall: 1.000 - ETA: 0s - loss: 13.0685 - precision: 0.1803 - recall: 1.000 - ETA: 0s - loss: 13.0648 - precision: 0.1805 - recall: 1.000 - ETA: 0s - loss: 13.0694 - precision: 0.1802 - recall: 1.000 - ETA: 0s - loss: 13.0800 - precision: 0.1795 - recall: 1.000 - ETA: 0s - loss: 13.0677 - precision: 0.1803 - recall: 1.000 - 1s 14us/step - loss: 13.0630 - precision: 0.1806 - recall: 1.0000\n",
      "Epoch 42/100\n",
      "44189/44189 [==============================] - ETA: 1s - loss: 13.0728 - precision: 0.1800 - recall: 1.000 - ETA: 0s - loss: 12.9866 - precision: 0.1854 - recall: 1.000 - ETA: 0s - loss: 12.9995 - precision: 0.1846 - recall: 1.000 - ETA: 0s - loss: 13.0510 - precision: 0.1814 - recall: 1.000 - ETA: 0s - loss: 13.0772 - precision: 0.1797 - recall: 1.000 - ETA: 0s - loss: 13.0728 - precision: 0.1800 - recall: 1.000 - ETA: 0s - loss: 13.0669 - precision: 0.1804 - recall: 1.000 - ETA: 0s - loss: 13.0578 - precision: 0.1809 - recall: 1.000 - ETA: 0s - loss: 13.0619 - precision: 0.1807 - recall: 1.000 - ETA: 0s - loss: 13.0679 - precision: 0.1803 - recall: 1.000 - ETA: 0s - loss: 13.0615 - precision: 0.1807 - recall: 1.000 - ETA: 0s - loss: 13.0601 - precision: 0.1808 - recall: 1.000 - ETA: 0s - loss: 13.0626 - precision: 0.1806 - recall: 1.000 - 1s 14us/step - loss: 13.0630 - precision: 0.1806 - recall: 1.0000\n",
      "Epoch 43/100\n",
      "44189/44189 [==============================] - ETA: 1s - loss: 13.0728 - precision: 0.1800 - recall: 1.000 - ETA: 0s - loss: 12.9174 - precision: 0.1897 - recall: 1.000 - ETA: 0s - loss: 13.0217 - precision: 0.1832 - recall: 1.000 - ETA: 0s - loss: 13.0564 - precision: 0.1810 - recall: 1.000 - ETA: 0s - loss: 13.0840 - precision: 0.1793 - recall: 1.000 - ETA: 0s - loss: 13.0677 - precision: 0.1803 - recall: 1.000 - ETA: 0s - loss: 13.0664 - precision: 0.1804 - recall: 1.000 - ETA: 0s - loss: 13.0649 - precision: 0.1805 - recall: 1.000 - ETA: 0s - loss: 13.0685 - precision: 0.1803 - recall: 1.000 - ETA: 0s - loss: 13.0666 - precision: 0.1804 - recall: 1.000 - ETA: 0s - loss: 13.0544 - precision: 0.1812 - recall: 1.000 - ETA: 0s - loss: 13.0513 - precision: 0.1813 - recall: 1.000 - 1s 14us/step - loss: 13.0630 - precision: 0.1806 - recall: 1.0000\n",
      "Epoch 44/100\n",
      "44189/44189 [==============================] - ETA: 1s - loss: 13.7105 - precision: 0.1400 - recall: 1.000 - ETA: 0s - loss: 13.1848 - precision: 0.1730 - recall: 1.000 - ETA: 0s - loss: 13.1374 - precision: 0.1759 - recall: 1.000 - ETA: 0s - loss: 13.1675 - precision: 0.1741 - recall: 1.000 - ETA: 0s - loss: 13.1255 - precision: 0.1767 - recall: 1.000 - ETA: 0s - loss: 13.0693 - precision: 0.1802 - recall: 1.000 - ETA: 0s - loss: 13.0318 - precision: 0.1826 - recall: 1.000 - ETA: 0s - loss: 13.0487 - precision: 0.1815 - recall: 1.000 - ETA: 0s - loss: 13.0658 - precision: 0.1804 - recall: 1.000 - ETA: 0s - loss: 13.0675 - precision: 0.1803 - recall: 1.000 - ETA: 0s - loss: 13.0504 - precision: 0.1814 - recall: 1.000 - ETA: 0s - loss: 13.0599 - precision: 0.1808 - recall: 1.000 - 1s 14us/step - loss: 13.0630 - precision: 0.1806 - recall: 1.0000\n",
      "Epoch 45/100\n",
      "44189/44189 [==============================] - ETA: 0s - loss: 13.0762 - precision: 0.1798 - recall: 1.0000- ETA: 0s - loss: 12.9301 - precision: 0.1889 - recall: 1.000 - ETA: 0s - loss: 13.0413 - precision: 0.1820 - recall: 1.000 - ETA: 0s - loss: 13.0333 - precision: 0.1825 - recall: 1.000 - ETA: 0s - loss: 13.0579 - precision: 0.1809 - recall: 1.000 - ETA: 0s - loss: 13.0753 - precision: 0.1798 - recall: 1.000 - ETA: 0s - loss: 13.0685 - precision: 0.1803 - recall: 1.000 - ETA: 0s - loss: 13.0491 - precision: 0.1815 - recall: 1.000 - ETA: 0s - loss: 13.0595 - precision: 0.1808 - recall: 1.000 - ETA: 0s - loss: 13.0770 - precision: 0.1797 - recall: 1.00 - ETA: 0s - loss: 13.0689 - precision: 0.1802 - recall: 1.000 - 1s 14us/step - loss: 13.0630 - precision: 0.1806 - recall: 1.0000\n",
      "Epoch 46/100\n",
      "44189/44189 [==============================] - ETA: 1s - loss: 11.9568 - precision: 0.2500 - recall: 1.000 - ETA: 0s - loss: 12.9049 - precision: 0.1905 - recall: 1.000 - ETA: 0s - loss: 13.0217 - precision: 0.1832 - recall: 1.000 - ETA: 0s - loss: 13.0022 - precision: 0.1844 - recall: 1.000 - ETA: 0s - loss: 13.0432 - precision: 0.1819 - recall: 1.000 - ETA: 0s - loss: 13.0812 - precision: 0.1795 - recall: 1.000 - ETA: 0s - loss: 13.0826 - precision: 0.1794 - recall: 1.000 - ETA: 0s - loss: 13.0746 - precision: 0.1799 - recall: 1.000 - ETA: 0s - loss: 13.0616 - precision: 0.1807 - recall: 1.000 - ETA: 0s - loss: 13.0798 - precision: 0.1796 - recall: 1.000 - ETA: 0s - loss: 13.0740 - precision: 0.1799 - recall: 1.000 - ETA: 0s - loss: 13.0666 - precision: 0.1804 - recall: 1.000 - 1s 14us/step - loss: 13.0630 - precision: 0.1806 - recall: 1.0000\n",
      "Epoch 47/100\n",
      "44189/44189 [==============================] - 1s 14us/step - loss: 13.0630 - precision: 0.1806 - recall: 1.0000: 0s - loss: 13.0140 - precision: 0.1837 - recall: 1.000 - ETA: 0s - loss: 13.0961 - precision: 0.1785 - recall: 1.000 - ETA: 0s - loss: 13.1058 - precision: 0.1779 - recall: 1.000 - ETA: 0s - loss: 13.0997 - precision: 0.1783 - recall: 1.000 - ETA: 0s - loss: 13.1021 - precision: 0.1782 - recall: 1.000 - ETA: 0s - loss: 13.1124 - precision: 0.1775 - recall: 1.000 - ETA: 0s - loss: 13.1063 - precision: 0.1779 - recall: 1.000 - ETA: 0s - loss: 13.1020 - precision: 0.1782 - recall: 1.000 - ETA: 0s - loss: 13.0694 - precision: 0.1802 - recall: 1.000 - ETA: 0s - loss: 13.0523 - precision: 0.1813 - recall: 1.000 - ETA: 0s - loss: 13.0533 - precision: 0.1812 - recall: 1.000 - ETA: 0s - loss: 13.0629 - precision: 0.1806 - recall: 1.000\n",
      "Epoch 48/100\n"
     ]
    },
    {
     "name": "stdout",
     "output_type": "stream",
     "text": [
      "44189/44189 [==============================] - ETA: 0s - loss: 13.0357 - precision: 0.1823 - recall: 1.0000- ETA: 0s - loss: 12.9511 - precision: 0.1876 - recall: 1.000 - ETA: 0s - loss: 12.9629 - precision: 0.1869 - recall: 1.000 - ETA: 0s - loss: 13.0038 - precision: 0.1843 - recall: 1.000 - ETA: 0s - loss: 13.0294 - precision: 0.1827 - recall: 1.000 - ETA: 0s - loss: 13.0242 - precision: 0.1830 - recall: 1.000 - ETA: 0s - loss: 13.0447 - precision: 0.1818 - recall: 1.00 - ETA: 0s - loss: 13.0452 - precision: 0.1817 - recall: 1.000 - ETA: 0s - loss: 13.0603 - precision: 0.1808 - recall: 1.000 - ETA: 0s - loss: 13.0641 - precision: 0.1805 - recall: 1.000 - ETA: 0s - loss: 13.0618 - precision: 0.1807 - recall: 1.000 - 1s 14us/step - loss: 13.0630 - precision: 0.1806 - recall: 1.0000\n",
      "Epoch 49/100\n",
      "44189/44189 [==============================] - ETA: 0s - loss: 13.1264 - precision: 0.1766 - recall: 1.0000- ETA: 0s - loss: 13.2154 - precision: 0.1711 - recall: 1.0 - ETA: 0s - loss: 13.1336 - precision: 0.1762 - recall: 1.000 - ETA: 0s - loss: 13.0780 - precision: 0.1797 - recall: 1.000 - ETA: 0s - loss: 13.0698 - precision: 0.1802 - recall: 1.000 - ETA: 0s - loss: 13.0815 - precision: 0.1795 - recall: 1.000 - ETA: 0s - loss: 13.0613 - precision: 0.1807 - recall: 1.000 - ETA: 0s - loss: 13.0660 - precision: 0.1804 - recall: 1.000 - ETA: 0s - loss: 13.0666 - precision: 0.1804 - recall: 1.000 - ETA: 0s - loss: 13.0652 - precision: 0.1805 - recall: 1.000 - ETA: 0s - loss: 13.0622 - precision: 0.1807 - recall: 1.000 - 1s 14us/step - loss: 13.0630 - precision: 0.1806 - recall: 1.0000\n",
      "Epoch 50/100\n",
      "44189/44189 [==============================] - ETA: 0s - loss: 13.0601 - precision: 0.1808 - recall: 1.0000- ETA: 0s - loss: 13.1776 - precision: 0.1734 - recall: 1.000 - ETA: 0s - loss: 13.1245 - precision: 0.1768 - recall: 1.000 - ETA: 0s - loss: 13.0395 - precision: 0.1821 - recall: 1.000 - ETA: 0s - loss: 12.9956 - precision: 0.1858 - recall: 1.000 - ETA: 0s - loss: 13.0240 - precision: 0.1831 - recall: 1.000 - ETA: 0s - loss: 13.0288 - precision: 0.1828 - recall: 1.000 - ETA: 0s - loss: 13.0133 - precision: 0.1837 - recall: 1.000 - ETA: 0s - loss: 13.0333 - precision: 0.1825 - recall: 1.000 - ETA: 0s - loss: 13.0519 - precision: 0.1813 - recall: 1.00 - ETA: 0s - loss: 13.0537 - precision: 0.1812 - recall: 1.000 - 1s 13us/step - loss: 13.0630 - precision: 0.1806 - recall: 1.0000\n",
      "Epoch 51/100\n",
      "44189/44189 [==============================] - ETA: 0s - loss: 13.0472 - precision: 0.1816 - recall: 1.0000- ETA: 0s - loss: 13.1286 - precision: 0.1765 - recall: 1.000 - ETA: 0s - loss: 13.0907 - precision: 0.1789 - recall: 1.000 - ETA: 0s - loss: 13.0820 - precision: 0.1794 - recall: 1.00 - ETA: 0s - loss: 13.0474 - precision: 0.1816 - recall: 1.000 - ETA: 0s - loss: 13.0511 - precision: 0.1814 - recall: 1.000 - ETA: 0s - loss: 13.0467 - precision: 0.1816 - recall: 1.000 - ETA: 0s - loss: 13.0613 - precision: 0.1807 - recall: 1.000 - ETA: 0s - loss: 13.0542 - precision: 0.1812 - recall: 1.000 - ETA: 0s - loss: 13.0680 - precision: 0.1803 - recall: 1.000 - ETA: 0s - loss: 13.0654 - precision: 0.1805 - recall: 1.000 - 1s 13us/step - loss: 13.0630 - precision: 0.1806 - recall: 1.0000\n",
      "Epoch 52/100\n",
      "44189/44189 [==============================] - ETA: 1s - loss: 13.0728 - precision: 0.1800 - recall: 1.000 - ETA: 0s - loss: 13.0811 - precision: 0.1795 - recall: 1.000 - ETA: 0s - loss: 13.1000 - precision: 0.1783 - recall: 1.000 - ETA: 0s - loss: 13.0894 - precision: 0.1790 - recall: 1.000 - ETA: 0s - loss: 13.0572 - precision: 0.1810 - recall: 1.000 - ETA: 0s - loss: 13.0611 - precision: 0.1807 - recall: 1.000 - ETA: 0s - loss: 13.0728 - precision: 0.1800 - recall: 1.000 - ETA: 0s - loss: 13.0817 - precision: 0.1794 - recall: 1.000 - ETA: 0s - loss: 13.0774 - precision: 0.1797 - recall: 1.000 - ETA: 0s - loss: 13.0649 - precision: 0.1805 - recall: 1.000 - ETA: 0s - loss: 13.0707 - precision: 0.1801 - recall: 1.000 - ETA: 0s - loss: 13.0560 - precision: 0.1811 - recall: 1.000 - 1s 13us/step - loss: 13.0630 - precision: 0.1806 - recall: 1.0000\n",
      "Epoch 53/100\n",
      "44189/44189 [==============================] - ETA: 1s - loss: 12.1162 - precision: 0.2400 - recall: 1.000 - ETA: 0s - loss: 13.0728 - precision: 0.1800 - recall: 1.000 - ETA: 0s - loss: 13.0883 - precision: 0.1811 - recall: 1.000 - ETA: 0s - loss: 13.0460 - precision: 0.1817 - recall: 1.000 - ETA: 0s - loss: 13.0575 - precision: 0.1810 - recall: 1.000 - ETA: 0s - loss: 13.0114 - precision: 0.1838 - recall: 1.000 - ETA: 0s - loss: 13.0413 - precision: 0.1820 - recall: 1.000 - ETA: 0s - loss: 13.0492 - precision: 0.1815 - recall: 1.000 - ETA: 0s - loss: 13.0520 - precision: 0.1813 - recall: 1.000 - ETA: 0s - loss: 13.0621 - precision: 0.1807 - recall: 1.000 - ETA: 0s - loss: 13.0450 - precision: 0.1817 - recall: 1.000 - ETA: 0s - loss: 13.0628 - precision: 0.1806 - recall: 1.000 - 1s 14us/step - loss: 13.0630 - precision: 0.1806 - recall: 1.0000\n",
      "Epoch 54/100\n",
      "44189/44189 [==============================] - ETA: 1s - loss: 13.5510 - precision: 0.1500 - recall: 1.000 - ETA: 0s - loss: 13.0523 - precision: 0.1813 - recall: 1.000 - ETA: 0s - loss: 12.9713 - precision: 0.1864 - recall: 1.000 - ETA: 0s - loss: 13.0115 - precision: 0.1838 - recall: 1.000 - ETA: 0s - loss: 13.0214 - precision: 0.1832 - recall: 1.000 - ETA: 0s - loss: 13.0419 - precision: 0.1819 - recall: 1.000 - ETA: 0s - loss: 13.0404 - precision: 0.1820 - recall: 1.000 - ETA: 0s - loss: 13.0656 - precision: 0.1804 - recall: 1.000 - ETA: 0s - loss: 13.0442 - precision: 0.1818 - recall: 1.000 - ETA: 0s - loss: 13.0347 - precision: 0.1824 - recall: 1.000 - ETA: 0s - loss: 13.0465 - precision: 0.1816 - recall: 1.000 - ETA: 0s - loss: 13.0542 - precision: 0.1812 - recall: 1.000 - 1s 13us/step - loss: 13.0630 - precision: 0.1806 - recall: 1.0000\n",
      "Epoch 55/100\n",
      "44189/44189 [==============================] - ETA: 0s - loss: 13.0515 - precision: 0.1813 - recall: 1.0000- ETA: 0s - loss: 13.1445 - precision: 0.1755 - recall: 1.000 - ETA: 0s - loss: 13.1525 - precision: 0.1750 - recall: 1.000 - ETA: 0s - loss: 13.0847 - precision: 0.1792 - recall: 1.000 - ETA: 0s - loss: 13.0698 - precision: 0.1802 - recall: 1.0 - ETA: 0s - loss: 13.0643 - precision: 0.1805 - recall: 1.000 - ETA: 0s - loss: 13.0634 - precision: 0.1806 - recall: 1.000 - ETA: 0s - loss: 13.0653 - precision: 0.1805 - recall: 1.00 - 1s 13us/step - loss: 13.0630 - precision: 0.1806 - recall: 1.0000\n",
      "Epoch 56/100\n",
      "44189/44189 [==============================] - 1s 13us/step - loss: 13.0630 - precision: 0.1806 - recall: 1.0000: 0s - loss: 13.0389 - precision: 0.1821 - recall: 1.000 - ETA: 0s - loss: 13.1106 - precision: 0.1776 - recall: 1.00 - ETA: 0s - loss: 13.0613 - precision: 0.1807 - recall: 1.000 - ETA: 0s - loss: 13.0639 - precision: 0.1806 - recall: 1.000 - ETA: 0s - loss: 13.0411 - precision: 0.1820 - recall: 1.000 - ETA: 0s - loss: 13.0437 - precision: 0.1818 - recall: 1.000 - ETA: 0s - loss: 13.0592 - precision: 0.1808 - recall: 1.000 - ETA: 0s - loss: 13.0651 - precision: 0.1805 - recall: 1.000 - ETA: 0s - loss: 13.0621 - precision: 0.1807 - recall: 1.000\n",
      "Epoch 57/100\n",
      "44189/44189 [==============================] - ETA: 1s - loss: 13.2322 - precision: 0.1700 - recall: 1.000 - ETA: 0s - loss: 13.0879 - precision: 0.1790 - recall: 1.000 - ETA: 0s - loss: 13.0805 - precision: 0.1795 - recall: 1.000 - ETA: 0s - loss: 13.1080 - precision: 0.1778 - recall: 1.000 - ETA: 0s - loss: 13.0972 - precision: 0.1785 - recall: 1.000 - ETA: 0s - loss: 13.0923 - precision: 0.1788 - recall: 1.000 - ETA: 0s - loss: 13.0779 - precision: 0.1797 - recall: 1.000 - ETA: 0s - loss: 13.0761 - precision: 0.1798 - recall: 1.000 - ETA: 0s - loss: 13.0836 - precision: 0.1793 - recall: 1.000 - ETA: 0s - loss: 13.0887 - precision: 0.1790 - recall: 1.000 - ETA: 0s - loss: 13.0696 - precision: 0.1802 - recall: 1.000 - ETA: 0s - loss: 13.0654 - precision: 0.1805 - recall: 1.000 - 1s 13us/step - loss: 13.0630 - precision: 0.1806 - recall: 1.0000\n",
      "Epoch 58/100\n"
     ]
    },
    {
     "name": "stdout",
     "output_type": "stream",
     "text": [
      "44189/44189 [==============================] - 1s 14us/step - loss: 13.0630 - precision: 0.1806 - recall: 1.0000: 0s - loss: 12.9930 - precision: 0.1850 - recall: 1.000 - ETA: 0s - loss: 12.9801 - precision: 0.1858 - recall: 1.00 - ETA: 0s - loss: 12.9854 - precision: 0.1855 - recall: 1.000 - ETA: 0s - loss: 12.9948 - precision: 0.1849 - recall: 1.000 - ETA: 0s - loss: 13.0233 - precision: 0.1831 - recall: 1.000 - ETA: 0s - loss: 13.0479 - precision: 0.1816 - recall: 1.000 - ETA: 0s - loss: 13.0711 - precision: 0.1801 - recall: 1.00 - ETA: 0s - loss: 13.0590 - precision: 0.1809 - recall: 1.000 - ETA: 0s - loss: 13.0591 - precision: 0.1809 - recall: 1.000\n",
      "Epoch 59/100\n",
      "44189/44189 [==============================] - 1s 14us/step - loss: 13.0630 - precision: 0.1806 - recall: 1.0000: 0s - loss: 12.9910 - precision: 0.1851 - recall: 1.000 - ETA: 0s - loss: 13.0458 - precision: 0.1817 - recall: 1.000 - ETA: 0s - loss: 13.0367 - precision: 0.1823 - recall: 1.000 - ETA: 0s - loss: 13.1273 - precision: 0.1766 - recall: 1.000 - ETA: 0s - loss: 13.1013 - precision: 0.1782 - recall: 1.000 - ETA: 0s - loss: 13.0846 - precision: 0.1799 - recall: 1.000 - ETA: 0s - loss: 13.0806 - precision: 0.1795 - recall: 1.000 - ETA: 0s - loss: 13.0875 - precision: 0.1791 - recall: 1.000 - ETA: 0s - loss: 13.0746 - precision: 0.1799 - recall: 1.000 - ETA: 0s - loss: 13.0672 - precision: 0.1803 - recall: 1.000 - ETA: 0s - loss: 13.0593 - precision: 0.1808 - recall: 1.000\n",
      "Epoch 60/100\n",
      "44189/44189 [==============================] - ETA: 1s - loss: 13.2322 - precision: 0.1700 - recall: 1.000 - ETA: 0s - loss: 13.0523 - precision: 0.1813 - recall: 1.000 - ETA: 0s - loss: 13.0298 - precision: 0.1827 - recall: 1.000 - ETA: 0s - loss: 13.0462 - precision: 0.1817 - recall: 1.000 - ETA: 0s - loss: 13.0708 - precision: 0.1801 - recall: 1.000 - ETA: 0s - loss: 13.0632 - precision: 0.1806 - recall: 1.000 - ETA: 0s - loss: 13.0513 - precision: 0.1813 - recall: 1.000 - ETA: 0s - loss: 13.0515 - precision: 0.1813 - recall: 1.000 - ETA: 0s - loss: 13.0399 - precision: 0.1821 - recall: 1.000 - ETA: 0s - loss: 13.0475 - precision: 0.1816 - recall: 1.000 - ETA: 0s - loss: 13.0719 - precision: 0.1801 - recall: 1.000 - ETA: 0s - loss: 13.0698 - precision: 0.1802 - recall: 1.000 - 1s 13us/step - loss: 13.0630 - precision: 0.1806 - recall: 1.0000\n",
      "Epoch 61/100\n",
      "44189/44189 [==============================] - ETA: 1s - loss: 12.7539 - precision: 0.2000 - recall: 1.000 - ETA: 0s - loss: 13.0482 - precision: 0.1815 - recall: 1.000 - ETA: 0s - loss: 13.1166 - precision: 0.1772 - recall: 1.000 - ETA: 0s - loss: 13.0646 - precision: 0.1805 - recall: 1.000 - ETA: 0s - loss: 13.0615 - precision: 0.1807 - recall: 1.000 - ETA: 0s - loss: 13.0670 - precision: 0.1804 - recall: 1.000 - ETA: 0s - loss: 13.0838 - precision: 0.1793 - recall: 1.000 - ETA: 0s - loss: 13.0733 - precision: 0.1800 - recall: 1.000 - ETA: 0s - loss: 13.0650 - precision: 0.1805 - recall: 1.000 - ETA: 0s - loss: 13.0765 - precision: 0.1798 - recall: 1.000 - ETA: 0s - loss: 13.0711 - precision: 0.1801 - recall: 1.000 - ETA: 0s - loss: 13.0679 - precision: 0.1803 - recall: 1.000 - 1s 13us/step - loss: 13.0630 - precision: 0.1806 - recall: 1.0000\n",
      "Epoch 62/100\n",
      "44189/44189 [==============================] - ETA: 1s - loss: 13.0728 - precision: 0.1800 - recall: 1.000 - ETA: 0s - loss: 13.2364 - precision: 0.1697 - recall: 1.000 - ETA: 0s - loss: 13.1121 - precision: 0.1775 - recall: 1.000 - ETA: 0s - loss: 13.0879 - precision: 0.1791 - recall: 1.000 - ETA: 0s - loss: 13.0646 - precision: 0.1805 - recall: 1.000 - ETA: 0s - loss: 13.0489 - precision: 0.1815 - recall: 1.000 - ETA: 0s - loss: 13.0495 - precision: 0.1815 - recall: 1.000 - ETA: 0s - loss: 13.0664 - precision: 0.1804 - recall: 1.000 - ETA: 0s - loss: 13.0738 - precision: 0.1799 - recall: 1.000 - ETA: 0s - loss: 13.0871 - precision: 0.1791 - recall: 1.000 - ETA: 0s - loss: 13.0877 - precision: 0.1791 - recall: 1.000 - ETA: 0s - loss: 13.0680 - precision: 0.1803 - recall: 1.000 - 1s 13us/step - loss: 13.0630 - precision: 0.1806 - recall: 1.0000\n",
      "Epoch 63/100\n",
      "44189/44189 [==============================] - ETA: 0s - loss: 13.0398 - precision: 0.1821 - recall: 1.0000- ETA: 0s - loss: 13.0455 - precision: 0.1817 - recall: 1.000 - ETA: 0s - loss: 13.0231 - precision: 0.1831 - recall: 1.000 - ETA: 0s - loss: 13.0601 - precision: 0.1808 - recall: 1.000 - ETA: 0s - loss: 13.0164 - precision: 0.1835 - recall: 1.000 - ETA: 0s - loss: 13.0210 - precision: 0.1832 - recall: 1.000 - ETA: 0s - loss: 13.0255 - precision: 0.1830 - recall: 1.000 - ETA: 0s - loss: 13.0498 - precision: 0.1814 - recall: 1.000 - ETA: 0s - loss: 13.0437 - precision: 0.1818 - recall: 1.00 - ETA: 0s - loss: 13.0431 - precision: 0.1819 - recall: 1.000 - ETA: 0s - loss: 13.0499 - precision: 0.1814 - recall: 1.000 - 1s 14us/step - loss: 13.0630 - precision: 0.1806 - recall: 1.0000\n",
      "Epoch 64/100\n",
      "44189/44189 [==============================] - ETA: 1s - loss: 12.9133 - precision: 0.1900 - recall: 1.000 - ETA: 0s - loss: 13.0644 - precision: 0.1805 - recall: 1.000 - ETA: 0s - loss: 13.0392 - precision: 0.1821 - recall: 1.000 - ETA: 0s - loss: 13.0459 - precision: 0.1817 - recall: 1.000 - ETA: 0s - loss: 13.0580 - precision: 0.1809 - recall: 1.000 - ETA: 0s - loss: 13.0425 - precision: 0.1819 - recall: 1.000 - ETA: 0s - loss: 13.0601 - precision: 0.1808 - recall: 1.000 - ETA: 0s - loss: 13.0788 - precision: 0.1796 - recall: 1.000 - ETA: 0s - loss: 13.0882 - precision: 0.1790 - recall: 1.000 - ETA: 0s - loss: 13.0557 - precision: 0.1811 - recall: 1.000 - ETA: 0s - loss: 13.0600 - precision: 0.1808 - recall: 1.000 - ETA: 0s - loss: 13.0569 - precision: 0.1810 - recall: 1.000 - 1s 14us/step - loss: 13.0630 - precision: 0.1806 - recall: 1.0000\n",
      "Epoch 65/100\n",
      "44189/44189 [==============================] - ETA: 0s - loss: 13.0672 - precision: 0.1804 - recall: 1.0000- ETA: 0s - loss: 13.1668 - precision: 0.1741 - recall: 1.000 - ETA: 0s - loss: 13.0497 - precision: 0.1814 - recall: 1.000 - ETA: 0s - loss: 13.0547 - precision: 0.1811 - recall: 1.000 - ETA: 0s - loss: 13.0272 - precision: 0.1842 - recall: 1.000 - ETA: 0s - loss: 13.0420 - precision: 0.1819 - recall: 1.000 - ETA: 0s - loss: 13.0319 - precision: 0.1826 - recall: 1.000 - ETA: 0s - loss: 13.0458 - precision: 0.1817 - recall: 1.000 - ETA: 0s - loss: 13.0633 - precision: 0.1806 - recall: 1.00 - ETA: 0s - loss: 13.0677 - precision: 0.1803 - recall: 1.000 - ETA: 0s - loss: 13.0743 - precision: 0.1799 - recall: 1.000 - 1s 13us/step - loss: 13.0630 - precision: 0.1806 - recall: 1.0000\n",
      "Epoch 66/100\n",
      "44189/44189 [==============================] - ETA: 1s - loss: 13.3916 - precision: 0.1600 - recall: 1.000 - ETA: 0s - loss: 13.0687 - precision: 0.1803 - recall: 1.000 - ETA: 0s - loss: 13.0413 - precision: 0.1820 - recall: 1.000 - ETA: 0s - loss: 13.0434 - precision: 0.1818 - recall: 1.000 - ETA: 0s - loss: 13.0539 - precision: 0.1812 - recall: 1.000 - ETA: 0s - loss: 13.0837 - precision: 0.1793 - recall: 1.000 - ETA: 0s - loss: 13.0643 - precision: 0.1805 - recall: 1.000 - ETA: 0s - loss: 13.0721 - precision: 0.1800 - recall: 1.000 - ETA: 0s - loss: 13.0585 - precision: 0.1809 - recall: 1.000 - ETA: 0s - loss: 13.0563 - precision: 0.1810 - recall: 1.000 - ETA: 0s - loss: 13.0601 - precision: 0.1808 - recall: 1.000 - ETA: 0s - loss: 13.0670 - precision: 0.1804 - recall: 1.000 - 1s 13us/step - loss: 13.0630 - precision: 0.1806 - recall: 1.0000\n",
      "Epoch 67/100\n"
     ]
    },
    {
     "name": "stdout",
     "output_type": "stream",
     "text": [
      "44189/44189 [==============================] - 1s 13us/step - loss: 13.0630 - precision: 0.1806 - recall: 1.0000: 0s - loss: 13.0196 - precision: 0.1833 - recall: 1.000 - ETA: 0s - loss: 12.9672 - precision: 0.1866 - recall: 1.000 - ETA: 0s - loss: 13.0508 - precision: 0.1814 - recall: 1.000 - ETA: 0s - loss: 13.0203 - precision: 0.1833 - recall: 1.000 - ETA: 0s - loss: 13.0243 - precision: 0.1830 - recall: 1.000 - ETA: 0s - loss: 13.0403 - precision: 0.1820 - recall: 1.000 - ETA: 0s - loss: 13.0230 - precision: 0.1831 - recall: 1.000 - ETA: 0s - loss: 13.0475 - precision: 0.1816 - recall: 1.000 - ETA: 0s - loss: 13.0760 - precision: 0.1798 - recall: 1.000 - ETA: 0s - loss: 13.0653 - precision: 0.1805 - recall: 1.000 - ETA: 0s - loss: 13.0582 - precision: 0.1809 - recall: 1.000\n",
      "Epoch 68/100\n",
      "44189/44189 [==============================] - ETA: 1s - loss: 13.3916 - precision: 0.1600 - recall: 1.000 - ETA: 0s - loss: 13.1107 - precision: 0.1776 - recall: 1.000 - ETA: 0s - loss: 13.1335 - precision: 0.1762 - recall: 1.000 - ETA: 0s - loss: 13.1582 - precision: 0.1746 - recall: 1.000 - ETA: 0s - loss: 13.1004 - precision: 0.1783 - recall: 1.000 - ETA: 0s - loss: 13.0873 - precision: 0.1791 - recall: 1.000 - ETA: 0s - loss: 13.0862 - precision: 0.1792 - recall: 1.000 - ETA: 0s - loss: 13.0958 - precision: 0.1786 - recall: 1.000 - ETA: 0s - loss: 13.0869 - precision: 0.1791 - recall: 1.000 - ETA: 0s - loss: 13.0823 - precision: 0.1794 - recall: 1.000 - ETA: 0s - loss: 13.0716 - precision: 0.1801 - recall: 1.000 - 1s 13us/step - loss: 13.0630 - precision: 0.1806 - recall: 1.0000\n",
      "Epoch 69/100\n",
      "44189/44189 [==============================] - ETA: 1s - loss: 11.9568 - precision: 0.2500 - recall: 1.000 - ETA: 0s - loss: 12.9612 - precision: 0.1870 - recall: 1.000 - ETA: 0s - loss: 12.9665 - precision: 0.1867 - recall: 1.000 - ETA: 0s - loss: 12.9849 - precision: 0.1855 - recall: 1.000 - ETA: 0s - loss: 13.0126 - precision: 0.1838 - recall: 1.000 - ETA: 0s - loss: 13.0417 - precision: 0.1819 - recall: 1.000 - ETA: 0s - loss: 13.0477 - precision: 0.1816 - recall: 1.000 - ETA: 0s - loss: 13.0519 - precision: 0.1813 - recall: 1.000 - ETA: 0s - loss: 13.0512 - precision: 0.1814 - recall: 1.000 - ETA: 0s - loss: 13.0623 - precision: 0.1807 - recall: 1.000 - ETA: 0s - loss: 13.0628 - precision: 0.1806 - recall: 1.000 - ETA: 0s - loss: 13.0612 - precision: 0.1807 - recall: 1.000 - 1s 13us/step - loss: 13.0630 - precision: 0.1806 - recall: 1.0000\n",
      "Epoch 70/100\n",
      "44189/44189 [==============================] - ETA: 1s - loss: 12.9133 - precision: 0.1900 - recall: 1.000 - ETA: 0s - loss: 13.0857 - precision: 0.1792 - recall: 1.000 - ETA: 0s - loss: 13.0940 - precision: 0.1787 - recall: 1.000 - ETA: 0s - loss: 13.0742 - precision: 0.1799 - recall: 1.000 - ETA: 0s - loss: 13.0601 - precision: 0.1808 - recall: 1.000 - ETA: 0s - loss: 13.0940 - precision: 0.1787 - recall: 1.000 - ETA: 0s - loss: 13.0756 - precision: 0.1798 - recall: 1.000 - ETA: 0s - loss: 13.0920 - precision: 0.1788 - recall: 1.000 - ETA: 0s - loss: 13.0875 - precision: 0.1791 - recall: 1.000 - ETA: 0s - loss: 13.0802 - precision: 0.1795 - recall: 1.000 - ETA: 0s - loss: 13.0791 - precision: 0.1796 - recall: 1.000 - ETA: 0s - loss: 13.0697 - precision: 0.1802 - recall: 1.000 - 1s 13us/step - loss: 13.0630 - precision: 0.1806 - recall: 1.0000\n",
      "Epoch 71/100\n",
      "44189/44189 [==============================] - ETA: 1s - loss: 13.0728 - precision: 0.1800 - recall: 1.000 - ETA: 0s - loss: 13.1545 - precision: 0.1749 - recall: 1.000 - ETA: 0s - loss: 13.1462 - precision: 0.1754 - recall: 1.000 - ETA: 0s - loss: 13.1066 - precision: 0.1779 - recall: 1.000 - ETA: 0s - loss: 13.1051 - precision: 0.1780 - recall: 1.000 - ETA: 0s - loss: 13.1124 - precision: 0.1775 - recall: 1.000 - ETA: 0s - loss: 13.1046 - precision: 0.1780 - recall: 1.000 - ETA: 0s - loss: 13.0875 - precision: 0.1791 - recall: 1.000 - ETA: 0s - loss: 13.0605 - precision: 0.1808 - recall: 1.000 - ETA: 0s - loss: 13.0671 - precision: 0.1804 - recall: 1.000 - ETA: 0s - loss: 13.0632 - precision: 0.1806 - recall: 1.000 - ETA: 0s - loss: 13.0603 - precision: 0.1808 - recall: 1.000 - 1s 13us/step - loss: 13.0630 - precision: 0.1806 - recall: 1.0000\n",
      "Epoch 72/100\n",
      "44189/44189 [==============================] - ETA: 0s - loss: 13.0313 - precision: 0.1826 - recall: 1.0000- ETA: 0s - loss: 13.1709 - precision: 0.1738 - recall: 1.000 - ETA: 0s - loss: 13.1100 - precision: 0.1777 - recall: 1.000 - ETA: 0s - loss: 13.0961 - precision: 0.1785 - recall: 1.000 - ETA: 0s - loss: 13.0707 - precision: 0.1801 - recall: 1.000 - ETA: 0s - loss: 13.0628 - precision: 0.1806 - recall: 1.000 - ETA: 0s - loss: 13.0515 - precision: 0.1813 - recall: 1.000 - ETA: 0s - loss: 13.0423 - precision: 0.1819 - recall: 1.000 - ETA: 0s - loss: 13.0392 - precision: 0.1821 - recall: 1.00 - ETA: 0s - loss: 13.0528 - precision: 0.1812 - recall: 1.000 - ETA: 0s - loss: 13.0618 - precision: 0.1807 - recall: 1.000 - 1s 13us/step - loss: 13.0630 - precision: 0.1806 - recall: 1.0000\n",
      "Epoch 73/100\n",
      "44189/44189 [==============================] - ETA: 0s - loss: 13.0404 - precision: 0.1820 - recall: 1.0000- ETA: 0s - loss: 12.9595 - precision: 0.1871 - recall: 1.00 - ETA: 0s - loss: 13.0457 - precision: 0.1817 - recall: 1.000 - ETA: 0s - loss: 13.0469 - precision: 0.1816 - recall: 1.000 - ETA: 0s - loss: 13.0650 - precision: 0.1805 - recall: 1.000 - ETA: 0s - loss: 13.0699 - precision: 0.1802 - recall: 1.000 - ETA: 0s - loss: 13.0807 - precision: 0.1795 - recall: 1.000 - ETA: 0s - loss: 13.0888 - precision: 0.1790 - recall: 1.000 - ETA: 0s - loss: 13.0865 - precision: 0.1791 - recall: 1.000 - ETA: 0s - loss: 13.0825 - precision: 0.1794 - recall: 1.000 - ETA: 0s - loss: 13.0793 - precision: 0.1796 - recall: 1.000 - 1s 14us/step - loss: 13.0630 - precision: 0.1806 - recall: 1.0000\n",
      "Epoch 74/100\n",
      "44189/44189 [==============================] - ETA: 0s - loss: 13.2280 - precision: 0.1703 - recall: 1.000 - ETA: 0s - loss: 13.0728 - precision: 0.1800 - recall: 1.000 - ETA: 0s - loss: 13.1171 - precision: 0.1772 - recall: 1.000 - ETA: 0s - loss: 13.0696 - precision: 0.1802 - recall: 1.000 - ETA: 0s - loss: 13.0552 - precision: 0.1811 - recall: 1.000 - ETA: 0s - loss: 13.0470 - precision: 0.1816 - recall: 1.000 - ETA: 0s - loss: 13.0484 - precision: 0.1815 - recall: 1.000 - ETA: 0s - loss: 13.0691 - precision: 0.1802 - recall: 1.000 - ETA: 0s - loss: 13.0807 - precision: 0.1795 - recall: 1.000 - ETA: 0s - loss: 13.0647 - precision: 0.1805 - recall: 1.000 - ETA: 0s - loss: 13.0631 - precision: 0.1806 - recall: 1.000 - 1s 14us/step - loss: 13.0630 - precision: 0.1806 - recall: 1.0000\n",
      "Epoch 75/100\n",
      "44189/44189 [==============================] - ETA: 1s - loss: 13.7105 - precision: 0.1400 - recall: 1.000 - ETA: 0s - loss: 13.0441 - precision: 0.1818 - recall: 1.000 - ETA: 0s - loss: 13.0979 - precision: 0.1784 - recall: 1.000 - ETA: 0s - loss: 13.0588 - precision: 0.1809 - recall: 1.000 - ETA: 0s - loss: 13.0916 - precision: 0.1788 - recall: 1.000 - ETA: 0s - loss: 13.0728 - precision: 0.1800 - recall: 1.000 - ETA: 0s - loss: 13.0658 - precision: 0.1804 - recall: 1.000 - ETA: 0s - loss: 13.0769 - precision: 0.1797 - recall: 1.000 - ETA: 0s - loss: 13.0790 - precision: 0.1796 - recall: 1.000 - ETA: 0s - loss: 13.0774 - precision: 0.1797 - recall: 1.000 - ETA: 0s - loss: 13.0836 - precision: 0.1793 - recall: 1.000 - ETA: 0s - loss: 13.0731 - precision: 0.1800 - recall: 1.000 - 1s 13us/step - loss: 13.0630 - precision: 0.1806 - recall: 1.0000\n",
      "Epoch 76/100\n"
     ]
    },
    {
     "name": "stdout",
     "output_type": "stream",
     "text": [
      "44189/44189 [==============================] - ETA: 0s - loss: 13.0558 - precision: 0.1811 - recall: 1.0000- ETA: 0s - loss: 12.9665 - precision: 0.1867 - recall: 1.000 - ETA: 0s - loss: 13.0094 - precision: 0.1840 - recall: 1.000 - ETA: 0s - loss: 13.0223 - precision: 0.1832 - recall: 1.000 - ETA: 0s - loss: 13.0462 - precision: 0.1817 - recall: 1.000 - ETA: 0s - loss: 13.0351 - precision: 0.1824 - recall: 1.000 - ETA: 0s - loss: 13.0496 - precision: 0.1815 - recall: 1.000 - ETA: 0s - loss: 13.0722 - precision: 0.1800 - recall: 1.000 - ETA: 0s - loss: 13.0712 - precision: 0.1801 - recall: 1.000 - ETA: 0s - loss: 13.0700 - precision: 0.1802 - recall: 1.000 - ETA: 0s - loss: 13.0571 - precision: 0.1810 - recall: 1.00 - 1s 13us/step - loss: 13.0630 - precision: 0.1806 - recall: 1.0000\n",
      "Epoch 77/100\n",
      "44189/44189 [==============================] - ETA: 1s - loss: 12.7539 - precision: 0.2000 - recall: 1.000 - ETA: 0s - loss: 13.2490 - precision: 0.1689 - recall: 1.000 - ETA: 0s - loss: 13.0958 - precision: 0.1786 - recall: 1.000 - ETA: 0s - loss: 13.0333 - precision: 0.1825 - recall: 1.000 - ETA: 0s - loss: 13.0526 - precision: 0.1813 - recall: 1.000 - ETA: 0s - loss: 13.0812 - precision: 0.1795 - recall: 1.000 - ETA: 0s - loss: 13.0812 - precision: 0.1795 - recall: 1.000 - ETA: 0s - loss: 13.0891 - precision: 0.1790 - recall: 1.000 - ETA: 0s - loss: 13.0765 - precision: 0.1798 - recall: 1.000 - ETA: 0s - loss: 13.0680 - precision: 0.1803 - recall: 1.000 - ETA: 0s - loss: 13.0719 - precision: 0.1801 - recall: 1.000 - ETA: 0s - loss: 13.0570 - precision: 0.1810 - recall: 1.000 - 1s 14us/step - loss: 13.0630 - precision: 0.1806 - recall: 1.0000\n",
      "Epoch 78/100\n",
      "44189/44189 [==============================] - ETA: 1s - loss: 12.5945 - precision: 0.2100 - recall: 1.000 - ETA: 0s - loss: 13.0392 - precision: 0.1821 - recall: 1.000 - ETA: 0s - loss: 13.0583 - precision: 0.1809 - recall: 1.000 - ETA: 0s - loss: 13.0894 - precision: 0.1790 - recall: 1.000 - ETA: 0s - loss: 13.1061 - precision: 0.1779 - recall: 1.000 - ETA: 0s - loss: 13.0869 - precision: 0.1791 - recall: 1.000 - ETA: 0s - loss: 13.1185 - precision: 0.1771 - recall: 1.000 - ETA: 0s - loss: 13.0936 - precision: 0.1787 - recall: 1.000 - ETA: 0s - loss: 13.0972 - precision: 0.1785 - recall: 1.000 - ETA: 0s - loss: 13.0890 - precision: 0.1790 - recall: 1.000 - ETA: 0s - loss: 13.0811 - precision: 0.1795 - recall: 1.000 - ETA: 0s - loss: 13.0724 - precision: 0.1800 - recall: 1.000 - 1s 13us/step - loss: 13.0630 - precision: 0.1806 - recall: 1.0000\n",
      "Epoch 79/100\n",
      "44189/44189 [==============================] - 1s 13us/step - loss: 13.0630 - precision: 0.1806 - recall: 1.0000: 0s - loss: 12.9951 - precision: 0.1849 - recall: 1.000 - ETA: 0s - loss: 13.0176 - precision: 0.1835 - recall: 1.000 - ETA: 0s - loss: 13.0849 - precision: 0.1792 - recall: 1.000 - ETA: 0s - loss: 13.0532 - precision: 0.1812 - recall: 1.000 - ETA: 0s - loss: 13.0405 - precision: 0.1820 - recall: 1.000 - ETA: 0s - loss: 13.0376 - precision: 0.1822 - recall: 1.000 - ETA: 0s - loss: 13.0384 - precision: 0.1822 - recall: 1.000 - ETA: 0s - loss: 13.0546 - precision: 0.1811 - recall: 1.000 - ETA: 0s - loss: 13.0464 - precision: 0.1817 - recall: 1.000 - ETA: 0s - loss: 13.0507 - precision: 0.1814 - recall: 1.000 - ETA: 0s - loss: 13.0525 - precision: 0.1813 - recall: 1.000\n",
      "Epoch 80/100\n",
      "44189/44189 [==============================] - ETA: 1s - loss: 13.2322 - precision: 0.1700 - recall: 1.000 - ETA: 0s - loss: 13.2853 - precision: 0.1667 - recall: 1.000 - ETA: 0s - loss: 13.1618 - precision: 0.1744 - recall: 1.000 - ETA: 0s - loss: 13.0851 - precision: 0.1792 - recall: 1.000 - ETA: 0s - loss: 13.1242 - precision: 0.1768 - recall: 1.000 - ETA: 0s - loss: 13.1064 - precision: 0.1779 - recall: 1.000 - ETA: 0s - loss: 13.1045 - precision: 0.1780 - recall: 1.000 - ETA: 0s - loss: 13.0959 - precision: 0.1785 - recall: 1.000 - ETA: 0s - loss: 13.0875 - precision: 0.1791 - recall: 1.000 - ETA: 0s - loss: 13.0669 - precision: 0.1804 - recall: 1.000 - ETA: 0s - loss: 13.0617 - precision: 0.1807 - recall: 1.000 - ETA: 0s - loss: 13.0619 - precision: 0.1807 - recall: 1.000 - 1s 13us/step - loss: 13.0630 - precision: 0.1806 - recall: 1.0000\n",
      "Epoch 81/100\n",
      "44189/44189 [==============================] - ETA: 1s - loss: 14.5076 - precision: 0.0900 - recall: 1.000 - ETA: 0s - loss: 12.8684 - precision: 0.1928 - recall: 1.000 - ETA: 0s - loss: 12.9784 - precision: 0.1859 - recall: 1.000 - ETA: 0s - loss: 12.9833 - precision: 0.1856 - recall: 1.000 - ETA: 0s - loss: 13.0115 - precision: 0.1838 - recall: 1.000 - ETA: 0s - loss: 13.0092 - precision: 0.1840 - recall: 1.000 - ETA: 0s - loss: 13.0368 - precision: 0.1823 - recall: 1.000 - ETA: 0s - loss: 13.0619 - precision: 0.1807 - recall: 1.000 - ETA: 0s - loss: 13.0790 - precision: 0.1796 - recall: 1.000 - ETA: 0s - loss: 13.0668 - precision: 0.1804 - recall: 1.000 - ETA: 0s - loss: 13.0604 - precision: 0.1808 - recall: 1.000 - ETA: 0s - loss: 13.0668 - precision: 0.1804 - recall: 1.000 - 1s 13us/step - loss: 13.0630 - precision: 0.1806 - recall: 1.0000\n",
      "Epoch 82/100\n",
      "44189/44189 [==============================] - ETA: 1s - loss: 14.3481 - precision: 0.1000 - recall: 1.000 - ETA: 0s - loss: 13.0648 - precision: 0.1805 - recall: 1.000 - ETA: 0s - loss: 13.0506 - precision: 0.1814 - recall: 1.000 - ETA: 0s - loss: 13.0620 - precision: 0.1807 - recall: 1.000 - ETA: 0s - loss: 13.0656 - precision: 0.1804 - recall: 1.000 - ETA: 0s - loss: 13.0987 - precision: 0.1784 - recall: 1.000 - ETA: 0s - loss: 13.0884 - precision: 0.1790 - recall: 1.000 - ETA: 0s - loss: 13.0984 - precision: 0.1784 - recall: 1.000 - ETA: 0s - loss: 13.0794 - precision: 0.1796 - recall: 1.000 - ETA: 0s - loss: 13.0846 - precision: 0.1793 - recall: 1.000 - ETA: 0s - loss: 13.0662 - precision: 0.1804 - recall: 1.000 - ETA: 0s - loss: 13.0601 - precision: 0.1808 - recall: 1.000 - 1s 13us/step - loss: 13.0630 - precision: 0.1806 - recall: 1.0000\n",
      "Epoch 83/100\n",
      "44189/44189 [==============================] - ETA: 1s - loss: 12.5945 - precision: 0.2100 - recall: 1.000 - ETA: 0s - loss: 13.0646 - precision: 0.1805 - recall: 1.000 - ETA: 0s - loss: 12.9993 - precision: 0.1846 - recall: 1.000 - ETA: 0s - loss: 13.0168 - precision: 0.1835 - recall: 1.000 - ETA: 0s - loss: 13.0453 - precision: 0.1817 - recall: 1.000 - ETA: 0s - loss: 13.0634 - precision: 0.1806 - recall: 1.000 - ETA: 0s - loss: 13.0742 - precision: 0.1799 - recall: 1.000 - ETA: 0s - loss: 13.0709 - precision: 0.1801 - recall: 1.000 - ETA: 0s - loss: 13.0840 - precision: 0.1793 - recall: 1.000 - ETA: 0s - loss: 13.0718 - precision: 0.1801 - recall: 1.000 - ETA: 0s - loss: 13.0787 - precision: 0.1796 - recall: 1.000 - ETA: 0s - loss: 13.0642 - precision: 0.1805 - recall: 1.000 - 1s 14us/step - loss: 13.0630 - precision: 0.1806 - recall: 1.0000\n",
      "Epoch 84/100\n",
      "44189/44189 [==============================] - ETA: 1s - loss: 12.2756 - precision: 0.2300 - recall: 1.000 - ETA: 0s - loss: 13.1382 - precision: 0.1759 - recall: 1.000 - ETA: 0s - loss: 13.1183 - precision: 0.1771 - recall: 1.000 - ETA: 0s - loss: 13.1227 - precision: 0.1769 - recall: 1.000 - ETA: 0s - loss: 13.0790 - precision: 0.1796 - recall: 1.000 - ETA: 0s - loss: 13.0744 - precision: 0.1799 - recall: 1.000 - ETA: 0s - loss: 13.0790 - precision: 0.1796 - recall: 1.000 - ETA: 0s - loss: 13.0751 - precision: 0.1799 - recall: 1.000 - ETA: 0s - loss: 13.0618 - precision: 0.1807 - recall: 1.000 - ETA: 0s - loss: 13.0546 - precision: 0.1811 - recall: 1.000 - ETA: 0s - loss: 13.0564 - precision: 0.1810 - recall: 1.000 - ETA: 0s - loss: 13.0613 - precision: 0.1807 - recall: 1.000 - 1s 13us/step - loss: 13.0630 - precision: 0.1806 - recall: 1.0000\n",
      "Epoch 85/100\n"
     ]
    },
    {
     "name": "stdout",
     "output_type": "stream",
     "text": [
      "44189/44189 [==============================] - ETA: 0s - loss: 13.0836 - precision: 0.1793 - recall: 1.0000- ETA: 0s - loss: 13.0564 - precision: 0.1810 - recall: 1.000 - ETA: 0s - loss: 13.0376 - precision: 0.1822 - recall: 1.000 - ETA: 0s - loss: 13.0450 - precision: 0.1817 - recall: 1.000 - ETA: 0s - loss: 13.0477 - precision: 0.1816 - recall: 1.000 - ETA: 0s - loss: 13.0577 - precision: 0.1809 - recall: 1.000 - ETA: 0s - loss: 13.0873 - precision: 0.1791 - recall: 1.000 - ETA: 0s - loss: 13.0828 - precision: 0.1794 - recall: 1.00 - ETA: 0s - loss: 13.0855 - precision: 0.1792 - recall: 1.000 - ETA: 0s - loss: 13.0911 - precision: 0.1788 - recall: 1.000 - ETA: 0s - loss: 13.0627 - precision: 0.1806 - recall: 1.000 - 1s 13us/step - loss: 13.0630 - precision: 0.1806 - recall: 1.0000\n",
      "Epoch 86/100\n",
      "44189/44189 [==============================] - ETA: 1s - loss: 13.7105 - precision: 0.1400 - recall: 1.000 - ETA: 0s - loss: 13.0728 - precision: 0.1800 - recall: 1.000 - ETA: 0s - loss: 13.0560 - precision: 0.1811 - recall: 1.000 - ETA: 0s - loss: 13.0414 - precision: 0.1820 - recall: 1.000 - ETA: 0s - loss: 13.0021 - precision: 0.1844 - recall: 1.000 - ETA: 0s - loss: 12.9764 - precision: 0.1860 - recall: 1.000 - ETA: 0s - loss: 12.9848 - precision: 0.1855 - recall: 1.000 - ETA: 0s - loss: 13.0237 - precision: 0.1831 - recall: 1.000 - ETA: 0s - loss: 13.0287 - precision: 0.1828 - recall: 1.000 - ETA: 0s - loss: 13.0403 - precision: 0.1820 - recall: 1.000 - ETA: 0s - loss: 13.0410 - precision: 0.1820 - recall: 1.000 - ETA: 0s - loss: 13.0474 - precision: 0.1816 - recall: 1.000 - 1s 14us/step - loss: 13.0630 - precision: 0.1806 - recall: 1.0000\n",
      "Epoch 87/100\n",
      "44189/44189 [==============================] - ETA: 0s - loss: 13.0838 - precision: 0.1793 - recall: 1.0000- ETA: 0s - loss: 13.0937 - precision: 0.1787 - recall: 1.000 - ETA: 0s - loss: 13.1599 - precision: 0.1745 - recall: 1.000 - ETA: 0s - loss: 13.1439 - precision: 0.1755 - recall: 1.000 - ETA: 0s - loss: 13.1227 - precision: 0.1769 - recall: 1.000 - ETA: 0s - loss: 13.1188 - precision: 0.1771 - recall: 1.000 - ETA: 0s - loss: 13.0770 - precision: 0.1797 - recall: 1.000 - ETA: 0s - loss: 13.0776 - precision: 0.1797 - recall: 1.000 - ETA: 0s - loss: 13.0801 - precision: 0.1795 - recall: 1.000 - ETA: 0s - loss: 13.0709 - precision: 0.1801 - recall: 1.0 - 1s 13us/step - loss: 13.0630 - precision: 0.1806 - recall: 1.0000\n",
      "Epoch 88/100\n",
      "44189/44189 [==============================] - ETA: 1s - loss: 13.8699 - precision: 0.1300 - recall: 1.000 - ETA: 0s - loss: 13.0847 - precision: 0.1792 - recall: 1.000 - ETA: 0s - loss: 13.1086 - precision: 0.1777 - recall: 1.000 - ETA: 0s - loss: 13.1154 - precision: 0.1773 - recall: 1.000 - ETA: 0s - loss: 13.1017 - precision: 0.1782 - recall: 1.000 - ETA: 0s - loss: 13.1194 - precision: 0.1771 - recall: 1.000 - ETA: 0s - loss: 13.1049 - precision: 0.1780 - recall: 1.000 - ETA: 0s - loss: 13.0915 - precision: 0.1788 - recall: 1.000 - ETA: 0s - loss: 13.0964 - precision: 0.1785 - recall: 1.000 - ETA: 0s - loss: 13.0898 - precision: 0.1789 - recall: 1.000 - ETA: 0s - loss: 13.0790 - precision: 0.1796 - recall: 1.000 - ETA: 0s - loss: 13.0682 - precision: 0.1803 - recall: 1.000 - 1s 13us/step - loss: 13.0630 - precision: 0.1806 - recall: 1.0000\n",
      "Epoch 89/100\n",
      "44189/44189 [==============================] - ETA: 1s - loss: 14.0293 - precision: 0.1200 - recall: 1.000 - ETA: 0s - loss: 13.1913 - precision: 0.1726 - recall: 1.000 - ETA: 0s - loss: 13.1852 - precision: 0.1729 - recall: 1.000 - ETA: 0s - loss: 13.1185 - precision: 0.1771 - recall: 1.000 - ETA: 0s - loss: 13.0905 - precision: 0.1789 - recall: 1.000 - ETA: 0s - loss: 13.0593 - precision: 0.1808 - recall: 1.000 - ETA: 0s - loss: 13.0608 - precision: 0.1807 - recall: 1.000 - ETA: 0s - loss: 13.0521 - precision: 0.1813 - recall: 1.000 - ETA: 0s - loss: 13.0451 - precision: 0.1817 - recall: 1.000 - ETA: 0s - loss: 13.0590 - precision: 0.1809 - recall: 1.000 - ETA: 0s - loss: 13.0548 - precision: 0.1811 - recall: 1.000 - ETA: 0s - loss: 13.0607 - precision: 0.1808 - recall: 1.000 - 1s 14us/step - loss: 13.0630 - precision: 0.1806 - recall: 1.0000\n",
      "Epoch 90/100\n",
      "44189/44189 [==============================] - ETA: 1s - loss: 12.2756 - precision: 0.2300 - recall: 1.000 - ETA: 0s - loss: 13.1503 - precision: 0.1751 - recall: 1.000 - ETA: 0s - loss: 13.0487 - precision: 0.1815 - recall: 1.000 - ETA: 0s - loss: 13.0481 - precision: 0.1815 - recall: 1.000 - ETA: 0s - loss: 13.0372 - precision: 0.1822 - recall: 1.000 - ETA: 0s - loss: 13.0581 - precision: 0.1820 - recall: 1.000 - ETA: 0s - loss: 13.0527 - precision: 0.1819 - recall: 1.000 - ETA: 0s - loss: 13.0483 - precision: 0.1815 - recall: 1.000 - ETA: 0s - loss: 13.0417 - precision: 0.1819 - recall: 1.000 - ETA: 0s - loss: 13.0637 - precision: 0.1806 - recall: 1.000 - ETA: 0s - loss: 13.0608 - precision: 0.1807 - recall: 1.000 - ETA: 0s - loss: 13.0635 - precision: 0.1806 - recall: 1.000 - 1s 14us/step - loss: 13.0630 - precision: 0.1806 - recall: 1.0000\n",
      "Epoch 91/100\n",
      "44189/44189 [==============================] - ETA: 1s - loss: 12.1162 - precision: 0.2400 - recall: 1.000 - ETA: 0s - loss: 13.0033 - precision: 0.1844 - recall: 1.000 - ETA: 0s - loss: 13.0313 - precision: 0.1826 - recall: 1.000 - ETA: 0s - loss: 13.0630 - precision: 0.1806 - recall: 1.000 - ETA: 0s - loss: 13.0519 - precision: 0.1813 - recall: 1.000 - ETA: 0s - loss: 13.0227 - precision: 0.1831 - recall: 1.000 - ETA: 0s - loss: 13.0552 - precision: 0.1811 - recall: 1.000 - ETA: 0s - loss: 13.0562 - precision: 0.1810 - recall: 1.000 - ETA: 0s - loss: 13.0642 - precision: 0.1805 - recall: 1.000 - ETA: 0s - loss: 13.0709 - precision: 0.1801 - recall: 1.000 - ETA: 0s - loss: 13.0715 - precision: 0.1801 - recall: 1.000 - ETA: 0s - loss: 13.0700 - precision: 0.1802 - recall: 1.000 - 1s 14us/step - loss: 13.0630 - precision: 0.1806 - recall: 1.0000\n",
      "Epoch 92/100\n",
      "44189/44189 [==============================] - 1s 14us/step - loss: 13.0630 - precision: 0.1808 - recall: 1.0000: 0s - loss: 12.9553 - precision: 0.1874 - recall: 1.000 - ETA: 0s - loss: 13.0005 - precision: 0.1845 - recall: 1.000 - ETA: 0s - loss: 13.0898 - precision: 0.1789 - recall: 1.000 - ETA: 0s - loss: 13.0728 - precision: 0.1800 - recall: 1.000 - ETA: 0s - loss: 13.0357 - precision: 0.1823 - recall: 1.000 - ETA: 0s - loss: 13.0656 - precision: 0.1805 - recall: 1.000 - ETA: 0s - loss: 13.0476 - precision: 0.1816 - recall: 1.000 - ETA: 0s - loss: 13.0394 - precision: 0.1821 - recall: 1.000 - ETA: 0s - loss: 13.0498 - precision: 0.1814 - recall: 1.000 - ETA: 0s - loss: 13.0508 - precision: 0.1814 - recall: 1.000 - ETA: 0s - loss: 13.0677 - precision: 0.1803 - recall: 1.000\n",
      "Epoch 93/100\n",
      "44189/44189 [==============================] - ETA: 1s - loss: 13.2322 - precision: 0.1700 - recall: 1.000 - ETA: 0s - loss: 13.0196 - precision: 0.1833 - recall: 1.000 - ETA: 0s - loss: 12.9643 - precision: 0.1868 - recall: 1.000 - ETA: 0s - loss: 12.9812 - precision: 0.1857 - recall: 1.000 - ETA: 0s - loss: 12.9731 - precision: 0.1862 - recall: 1.000 - ETA: 0s - loss: 13.0023 - precision: 0.1844 - recall: 1.000 - ETA: 0s - loss: 13.0450 - precision: 0.1817 - recall: 1.000 - ETA: 0s - loss: 13.0690 - precision: 0.1802 - recall: 1.000 - ETA: 0s - loss: 13.0695 - precision: 0.1802 - recall: 1.000 - ETA: 0s - loss: 13.0558 - precision: 0.1811 - recall: 1.000 - ETA: 0s - loss: 13.0553 - precision: 0.1811 - recall: 1.000 - ETA: 0s - loss: 13.0692 - precision: 0.1802 - recall: 1.000 - ETA: 0s - loss: 13.0637 - precision: 0.1806 - recall: 1.000 - 1s 14us/step - loss: 13.0630 - precision: 0.1806 - recall: 1.0000\n",
      "Epoch 94/100\n"
     ]
    },
    {
     "name": "stdout",
     "output_type": "stream",
     "text": [
      "44189/44189 [==============================] - ETA: 0s - loss: 13.0391 - precision: 0.1821 - recall: 1.0000- ETA: 0s - loss: 13.2280 - precision: 0.1703 - recall: 1.000 - ETA: 0s - loss: 13.0874 - precision: 0.1791 - recall: 1.000 - ETA: 0s - loss: 13.1094 - precision: 0.1777 - recall: 1.000 - ETA: 0s - loss: 13.0886 - precision: 0.1790 - recall: 1.000 - ETA: 0s - loss: 13.0830 - precision: 0.1794 - recall: 1.000 - ETA: 0s - loss: 13.0577 - precision: 0.1809 - recall: 1.000 - ETA: 0s - loss: 13.0721 - precision: 0.1800 - recall: 1.000 - ETA: 0s - loss: 13.0572 - precision: 0.1810 - recall: 1.00 - ETA: 0s - loss: 13.0492 - precision: 0.1815 - recall: 1.000 - ETA: 0s - loss: 13.0642 - precision: 0.1805 - recall: 1.000 - 1s 14us/step - loss: 13.0630 - precision: 0.1806 - recall: 1.0000\n",
      "Epoch 95/100\n",
      "44189/44189 [==============================] - ETA: 0s - loss: 13.0865 - precision: 0.1791 - recall: 1.0000- ETA: 0s - loss: 13.1177 - precision: 0.1772 - recall: 1.000 - ETA: 0s - loss: 13.0979 - precision: 0.1784 - recall: 1.000 - ETA: 0s - loss: 13.0811 - precision: 0.1795 - recall: 1.000 - ETA: 0s - loss: 13.0918 - precision: 0.1788 - recall: 1.000 - ETA: 0s - loss: 13.0940 - precision: 0.1787 - recall: 1.000 - ETA: 0s - loss: 13.0699 - precision: 0.1802 - recall: 1.000 - ETA: 0s - loss: 13.0752 - precision: 0.1798 - recall: 1.00 - ETA: 0s - loss: 13.0887 - precision: 0.1790 - recall: 1.000 - ETA: 0s - loss: 13.0766 - precision: 0.1798 - recall: 1.000 - ETA: 0s - loss: 13.0708 - precision: 0.1801 - recall: 1.000 - 1s 14us/step - loss: 13.0630 - precision: 0.1806 - recall: 1.0000\n",
      "Epoch 96/100\n",
      "44189/44189 [==============================] - ETA: 1s - loss: 12.9133 - precision: 0.1900 - recall: 1.000 - ETA: 0s - loss: 12.9379 - precision: 0.1885 - recall: 1.000 - ETA: 0s - loss: 13.0148 - precision: 0.1836 - recall: 1.000 - ETA: 0s - loss: 13.0326 - precision: 0.1825 - recall: 1.000 - ETA: 0s - loss: 13.0360 - precision: 0.1823 - recall: 1.000 - ETA: 0s - loss: 13.0534 - precision: 0.1812 - recall: 1.000 - ETA: 0s - loss: 13.0461 - precision: 0.1817 - recall: 1.000 - ETA: 0s - loss: 13.0414 - precision: 0.1820 - recall: 1.000 - ETA: 0s - loss: 13.0480 - precision: 0.1816 - recall: 1.000 - ETA: 0s - loss: 13.0656 - precision: 0.1805 - recall: 1.000 - ETA: 0s - loss: 13.0555 - precision: 0.1811 - recall: 1.000 - ETA: 0s - loss: 13.0688 - precision: 0.1802 - recall: 1.000 - 1s 14us/step - loss: 13.0630 - precision: 0.1806 - recall: 1.0000\n",
      "Epoch 97/100\n",
      "44189/44189 [==============================] - 1s 14us/step - loss: 13.0630 - precision: 0.1806 - recall: 1.0000: 0s - loss: 13.0900 - precision: 0.1789 - recall: 1.000 - ETA: 0s - loss: 13.1202 - precision: 0.1770 - recall: 1.000 - ETA: 0s - loss: 13.0913 - precision: 0.1788 - recall: 1.000 - ETA: 0s - loss: 13.0717 - precision: 0.1801 - recall: 1.000 - ETA: 0s - loss: 13.0926 - precision: 0.1788 - recall: 1.000 - ETA: 0s - loss: 13.0821 - precision: 0.1794 - recall: 1.000 - ETA: 0s - loss: 13.0746 - precision: 0.1799 - recall: 1.000 - ETA: 0s - loss: 13.0539 - precision: 0.1812 - recall: 1.000 - ETA: 0s - loss: 13.0612 - precision: 0.1807 - recall: 1.000 - ETA: 0s - loss: 13.0572 - precision: 0.1810 - recall: 1.000 - ETA: 0s - loss: 13.0551 - precision: 0.1811 - recall: 1.000\n",
      "Epoch 98/100\n",
      "44189/44189 [==============================] - ETA: 1s - loss: 12.9133 - precision: 0.1900 - recall: 1.000 - ETA: 0s - loss: 13.1021 - precision: 0.1782 - recall: 1.000 - ETA: 0s - loss: 13.0749 - precision: 0.1799 - recall: 1.000 - ETA: 0s - loss: 13.0756 - precision: 0.1798 - recall: 1.000 - ETA: 0s - loss: 13.1008 - precision: 0.1782 - recall: 1.000 - ETA: 0s - loss: 13.0355 - precision: 0.1823 - recall: 1.000 - ETA: 0s - loss: 13.0641 - precision: 0.1805 - recall: 1.000 - ETA: 0s - loss: 13.0734 - precision: 0.1800 - recall: 1.000 - ETA: 0s - loss: 13.0935 - precision: 0.1787 - recall: 1.000 - ETA: 0s - loss: 13.0863 - precision: 0.1791 - recall: 1.000 - ETA: 0s - loss: 13.0693 - precision: 0.1802 - recall: 1.000 - ETA: 0s - loss: 13.0692 - precision: 0.1802 - recall: 1.000 - ETA: 0s - loss: 13.0695 - precision: 0.1802 - recall: 1.000 - 1s 14us/step - loss: 13.0630 - precision: 0.1806 - recall: 1.0000\n",
      "Epoch 99/100\n",
      "44189/44189 [==============================] - ETA: 1s - loss: 12.4351 - precision: 0.2200 - recall: 1.000 - ETA: 0s - loss: 13.0895 - precision: 0.1789 - recall: 1.000 - ETA: 0s - loss: 13.0600 - precision: 0.1808 - recall: 1.000 - ETA: 0s - loss: 13.0220 - precision: 0.1832 - recall: 1.000 - ETA: 0s - loss: 13.0182 - precision: 0.1834 - recall: 1.000 - ETA: 0s - loss: 13.0246 - precision: 0.1830 - recall: 1.000 - ETA: 0s - loss: 13.0125 - precision: 0.1838 - recall: 1.000 - ETA: 0s - loss: 13.0305 - precision: 0.1826 - recall: 1.000 - ETA: 0s - loss: 13.0502 - precision: 0.1814 - recall: 1.000 - ETA: 0s - loss: 13.0557 - precision: 0.1811 - recall: 1.000 - ETA: 0s - loss: 13.0613 - precision: 0.1807 - recall: 1.000 - ETA: 0s - loss: 13.0728 - precision: 0.1800 - recall: 1.000 - ETA: 0s - loss: 13.0621 - precision: 0.1807 - recall: 1.000 - 1s 14us/step - loss: 13.0630 - precision: 0.1806 - recall: 1.0000\n",
      "Epoch 100/100\n",
      "44189/44189 [==============================] - ETA: 0s - loss: 13.0531 - precision: 0.1812 - recall: 1.000 - ETA: 0s - loss: 13.0830 - precision: 0.1794 - recall: 1.000 - ETA: 0s - loss: 13.0334 - precision: 0.1825 - recall: 1.000 - ETA: 0s - loss: 13.0614 - precision: 0.1807 - recall: 1.000 - ETA: 0s - loss: 13.0684 - precision: 0.1803 - recall: 1.000 - ETA: 0s - loss: 13.0982 - precision: 0.1784 - recall: 1.000 - ETA: 0s - loss: 13.0776 - precision: 0.1797 - recall: 1.000 - ETA: 0s - loss: 13.0582 - precision: 0.1809 - recall: 1.000 - ETA: 0s - loss: 13.0491 - precision: 0.1815 - recall: 1.000 - ETA: 0s - loss: 13.0524 - precision: 0.1813 - recall: 1.000 - ETA: 0s - loss: 13.0610 - precision: 0.1807 - recall: 1.000 - 1s 14us/step - loss: 13.0630 - precision: 0.1806 - recall: 1.0000\n"
     ]
    }
   ],
   "source": [
    "inputl:inp[`shape pykw enlist 174]\n",
    "output:dense[1;`activation pykw `softmax][inputl]\n",
    "modl:models[`inputs pykw inputl;`outputs pykw output]\n",
    "modl[`:compile][`optimizer pykw \"adam\";`loss pykw \"binary_crossentropy\";`metrics pykw (km[`:binary_precision][]`;km[`:binary_recall][]`)]\n",
    "\n",
    "res:modl[`:fit][array[xtr];ytr;`batch_size pykw 100;`verbose pykw 1;`epochs pykw 100];\n"
   ]
  },
  {
   "cell_type": "code",
   "execution_count": 33,
   "metadata": {},
   "outputs": [
    {
     "name": "stdout",
     "output_type": "stream",
     "text": [
      "1 1 1 1 1 1 1 1 1 1 1 1 1 1 1 1 1 1 1 1 1 1 1 1 1 1 1 1 1 1 1 1 1 1 1 1 1 1 1..\n"
     ]
    }
   ],
   "source": [
    "show nnPred:raze(modl[`:predict]array[mattab xtest])`"
   ]
  },
  {
   "cell_type": "code",
   "execution_count": 34,
   "metadata": {},
   "outputs": [
    {
     "name": "stdout",
     "output_type": "stream",
     "text": [
      "loss     | 13.06302  13.06302  13.06302  13.06302  13.06302  13.06302  13.063..\n",
      "precision| 0.1806106 0.1810183 0.1806106 0.1806106 0.1806106 0.1806106 0.1806..\n",
      "recall   | 1         1         1         1         1         1         1     ..\n",
      "loss     | 13.06302  13.06302  13.06302  13.06302  13.06302  13.06302  13.063..\n",
      "precision| 0.1806106 0.1810183 0.1806106 0.1806106 0.1806106 0.1806106 0.1806..\n",
      "recall   | 1         1         1         1         1         1         1     ..\n"
     ]
    },
    {
     "data": {
      "image/png": "[encoded data removed]",
      "text/plain": [
       "<Figure size 460.8x345.6 with 1 Axes>"
      ]
     },
     "metadata": {},
     "output_type": "display_data"
    }
   ],
   "source": [
    "show hist:6#(res[`:history]`)\n",
    "\n",
    "plt[`:plot]hist`loss;\n",
    "plt[`:plot]hist`val_loss;\n",
    "plt[`:title]\"model loss\";\n",
    "plt[`:ylabel]\"loss\";\n",
    "plt[`:xlabel]\"epoch\";\n",
    "plt[`:show][];"
   ]
  },
  {
   "cell_type": "code",
   "execution_count": 37,
   "metadata": {},
   "outputs": [
    {
     "name": "stdout",
     "output_type": "stream",
     "text": [
      "0| 24082 2735\n",
      "1| 0     0   \n"
     ]
    },
    {
     "data": {
      "image/png": "[encoded data removed]",
      "text/plain": [
       "<Figure size 720x720 with 1 Axes>"
      ]
     },
     "metadata": {},
     "output_type": "display_data"
    }
   ],
   "source": [
    "show cnfM:.ml.confmat[ytest;0.5>nnPred]\n",
    ".ml.displayCM[value cnfM;`Low`High;\"Test Set Confusion Matrix\";()]"
   ]
  },
  {
   "cell_type": "code",
   "execution_count": null,
   "metadata": {},
   "outputs": [],
   "source": []
  }
 ],
 "metadata": {
  "kernelspec": {
   "display_name": "Q (kdb+)",
   "language": "q",
   "name": "qpk"
  },
  "language_info": {
   "file_extension": ".q",
   "mimetype": "text/x-q",
   "name": "q",
   "version": "3.6.0"
  }
 },
 "nbformat": 4,
 "nbformat_minor": 2
}
