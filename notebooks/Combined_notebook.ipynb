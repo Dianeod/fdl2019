{
 "cells": [
  {
   "cell_type": "markdown",
   "metadata": {},
   "source": [
    "# FDL 2019 - Floods"
   ]
  },
  {
   "cell_type": "markdown",
   "metadata": {},
   "source": [
    "Flooding is a destructive, dangerous, and common hazard. Seventy-five percent of all Presidential disaster declarations are associated with flooding [1]. The work in this memorandum focuses specifically on river flooding. The National Oceanic and Atmospheric Administration's (NOAA's) 13 river forecast centers predict river levels at specific river locations up to several days in advance using hydrologic and hydraulic modeling [1,2]. These forecasts can help cities prepare for and respond to river flooding events in the short-term. The Office of Water Prediction also prepares seasonal water forecasts at regional spatial resolution [3]. The work presented here is complementary to these efforts and explores the efficacy of statistical -- instead of hydrological -- models for the prediction and forecasting of river flooding. \n",
    "\n",
    "The scope of this project focuses on two measures of flood susceptibility: predicting whether a specific river gage site will flood in a given month, and the time to peak river level during a flood event. These questions were addressed from two perspectives. The first perspective assumes a well-gaged river basin and seeks to forecast the presence of a flood in the forthcoming month, or the time to peak river level for an ongoing rain event. The second perspective addresses the problem of predicting flood susceptibility in poorly gaged or entirely ungaged river basin. For these experiments, no prior river level information is incorporated into the predictive model. The river level data used to train the statistical models is made possible by the extensive network of stream gages maintained by the US Geological Survey (USGS). Once the models are trained, they are used to construct maps of flood susceptibility, and the most important predictors of flood susceptibility from the statistical models are identified. \n"
   ]
  },
  {
   "cell_type": "markdown",
   "metadata": {},
   "source": [
    "Load in ml library and needed datasets which include:\n",
    "\n",
    "    -rainfall data from PRISM\n",
    "    -Landcover information from NLCD\n",
    "    -Basin Characteristics\n",
    "    -Threshold Information per site"
   ]
  },
  {
   "cell_type": "code",
   "execution_count": 1,
   "metadata": {},
   "outputs": [],
   "source": [
    "\\l ../../fdl2019/ml/ml.q \n",
    "\\l ../../fdl2019/ml/init.q\n",
    "\\l ../../fdl2019/ml/fresh/notebooks/graphics.q\n",
    "\n",
    "\\l models.q\n",
    "\\l columns_to_include.q\n",
    "\\l load_data.q"
   ]
  },
  {
   "cell_type": "markdown",
   "metadata": {},
   "source": [
    "### Cleaning up the Dataset "
   ]
  },
  {
   "cell_type": "markdown",
   "metadata": {},
   "source": [
    "All site_no should be updated so that they have at least 8 digits. Any with less will be front loaded with 0's"
   ]
  },
  {
   "cell_type": "code",
   "execution_count": 2,
   "metadata": {},
   "outputs": [],
   "source": [
    "conv7_fn:{`$$[7=count x;\"0\",;]x}"
   ]
  },
  {
   "cell_type": "code",
   "execution_count": 3,
   "metadata": {},
   "outputs": [],
   "source": [
    "gauges:   update conv7_fn each string each site_no from gages\n",
    "maxht:    update conv7_fn each site_no from max_ht_str\n",
    "precipall:update conv7_fn each string each site_no from  precipall"
   ]
  },
  {
   "cell_type": "markdown",
   "metadata": {},
   "source": [
    "delete any nulls or inf values from the dataset "
   ]
  },
  {
   "cell_type": "code",
   "execution_count": 4,
   "metadata": {},
   "outputs": [],
   "source": [
    "precip:delete from precipall where ppt=0n\n",
    "maxht: delete from maxht where height=neg 0w"
   ]
  },
  {
   "cell_type": "markdown",
   "metadata": {},
   "source": [
    "Add in index column for the warnings table (will be used later for nearest neighbours)"
   ]
  },
  {
   "cell_type": "code",
   "execution_count": 5,
   "metadata": {},
   "outputs": [],
   "source": [
    "warning:update nn:i from warnings"
   ]
  },
  {
   "cell_type": "markdown",
   "metadata": {},
   "source": [
    "The NLCD dataset is year dependant, a year column will be added to the dataset and all tables will be joined"
   ]
  },
  {
   "cell_type": "markdown",
   "metadata": {},
   "source": [
    "Some site_no's have the last few digits excluded from the prism dataset (problem with the prism download side)"
   ]
  },
  {
   "cell_type": "code",
   "execution_count": 6,
   "metadata": {},
   "outputs": [],
   "source": [
    "rms:asc ds where 12<count each ds:exec distinct string each site_no from gauges \n",
    "names:0!select i by site_no from precip where site_no in `$12#'rms\n",
    "matchnames:0!select i by lat,long from precip where i in names[`x][20]\n",
    "lst1:til[26]except 21 22\n",
    "lst2:til[25]except 20\n",
    "i1:`$rms[lst1],rms[21 22]\n",
    "i2:(names[`x]lst2),matchnames`x\n",
    "precip:{![x;enlist(in;`i;z);0b;enlist[`site_no]!enlist enlist y]}/[precip;i1;i2]"
   ]
  },
  {
   "cell_type": "markdown",
   "metadata": {},
   "source": [
    "## Feature Engineering"
   ]
  },
  {
   "cell_type": "markdown",
   "metadata": {},
   "source": [
    "Seasonal Information plays an important role when predicting if an area will flood and how long it will take"
   ]
  },
  {
   "cell_type": "code",
   "execution_count": 139,
   "metadata": {},
   "outputs": [],
   "source": [
    "pi:acos -1\n",
    "precip:`date xasc update month:`mm$date from precip\n",
    "precip:update cos_t:cos 2*pi*(month-1)%12,\n",
    "              sin_t:sin 2*pi*(month-1)%12 from precip\n",
    "stryear:{$[x<2011;6;x<2016;11;16]}each `year$precip[`date]\n",
    "precip:update year:stryear from precip"
   ]
  },
  {
   "cell_type": "code",
   "execution_count": 1367,
   "metadata": {},
   "outputs": [],
   "source": [
    "prev_days:         {![x;();(enlist `site_no)!enlist `site_no;raze {(enlist `$\"prev_\",string[x],\"_\",string[y])!\n",
    "                     enlist (xprev;y;x)}[z]each 1+til y]}\n",
    "window_feat_month: {![x;();(`date`site_no)!(($;enlist `month;`date);`site_no);raze {(enlist \n",
    "                    `$\"window_\",string[x],\"_\",string[y])!enlist (max;(mavg;y;x))}[z]each 2+til y]}\n",
    "upstr:             {![x;();`site_no`date!(((';#);2;($:;`site_no));`date);(enlist `$\"upstr_\",string[z]\n",
    "                    ,\"_\",string[y])!enlist (:':;z)]}\n",
    "fut_wind:          {[x;y;z;n]dd:\"d\"$n[1];si:n[0];\n",
    "                    ?[x;((within;`date;(,;dd;(+;dd;y)));(=;si;`site_no));\n",
    "                    0b;raze {(enlist `$\"fut_\",string[x],\"_\",string[y])!enlist (max;(mavg;y;x))}[z]each 1_til y]}\n",
    "wind_ht:           {[x;y;z;n]dd:\"d\"$n[1];si:n[0];\n",
    "                     ?[x;((within;`date;(,;(+;(-:;2);($;enlist first string `d;dd));($;enlist first string `d;dd)));\n",
    "                      (=;`si;($;enlist `;`site_no));(within;`datetime;(,;(+;(-:;2);dd);dd)));\n",
    "                       0b;raze {(enlist `$\"wind_\",string[x],\"_\",string[y])!enlist (max;(mavg;y;x))}[z]each raze y]}\n"
   ]
  },
  {
   "cell_type": "markdown",
   "metadata": {},
   "source": [
    "Get the previous x days rainfall for each row, and the moving average for each month using multiple window sizes.\n",
    "\n",
    "Also the previous x stream heights for each site per day"
   ]
  },
  {
   "cell_type": "code",
   "execution_count": 1190,
   "metadata": {},
   "outputs": [],
   "source": [
    "prev_rain:prev_days[precip;3;`ppt]\n",
    "prev_height:prev_days[maxht;3;`height]"
   ]
  },
  {
   "cell_type": "markdown",
   "metadata": {},
   "source": [
    "Knowing the upstream values is also an important feature to include into the dataset. The site_numbers are grouped by the first two digits with the remaining digits in ascending order"
   ]
  },
  {
   "cell_type": "code",
   "execution_count": 1191,
   "metadata": {},
   "outputs": [],
   "source": [
    "upstr_ppt:upstr[prev_rain;1;`ppt]\n",
    "upstr_height:upstr[prev_height;1;`height]"
   ]
  },
  {
   "cell_type": "code",
   "execution_count": 1192,
   "metadata": {},
   "outputs": [],
   "source": [
    "upstr_prev_rain:prev_days[upstr_ppt;3;`upstr_ppt_1]\n",
    "all_height:prev_days[upstr_height;3;`upstr_height_1]"
   ]
  },
  {
   "cell_type": "markdown",
   "metadata": {},
   "source": [
    "### Monthly Values"
   ]
  },
  {
   "cell_type": "code",
   "execution_count": 1193,
   "metadata": {},
   "outputs": [],
   "source": [
    "window_rain:window_feat_month[upstr_prev_rain;5;`upstr_ppt_1]\n",
    "all_rain:window_feat_month[window_rain;5;`ppt]"
   ]
  },
  {
   "cell_type": "markdown",
   "metadata": {},
   "source": [
    "## Joining the characteristics tables "
   ]
  },
  {
   "cell_type": "markdown",
   "metadata": {},
   "source": [
    "Join the basin characteristics based on site_no."
   ]
  },
  {
   "cell_type": "code",
   "execution_count": 1194,
   "metadata": {},
   "outputs": [],
   "source": [
    "stream_char:nlcd ij `site_no xkey basin"
   ]
  },
  {
   "cell_type": "markdown",
   "metadata": {},
   "source": [
    "## Target Data"
   ]
  },
  {
   "cell_type": "markdown",
   "metadata": {},
   "source": [
    "### Monthly Target Data"
   ]
  },
  {
   "cell_type": "markdown",
   "metadata": {},
   "source": [
    "The gage sites are joined to a flood warning level using nearest neighbours"
   ]
  },
  {
   "cell_type": "code",
   "execution_count": 1195,
   "metadata": {},
   "outputs": [],
   "source": [
    "wlatl:raze each warning[`Latitude`Longitude],'gauges[`dec_lat_va`dec_long_v]\n",
    "tabw:.ml.clust.kd.buildtree[wlatl;2]\n",
    "gauge_val:count[warning]+til count gauges\n",
    "nnwarn:.ml.clust.kd.i.nns[;tabw;(count[warning]#0),count[gauges]#1;flip wlatl;`edist]each gauge_val"
   ]
  },
  {
   "cell_type": "code",
   "execution_count": 1196,
   "metadata": {},
   "outputs": [],
   "source": [
    "joins:([site_no:gauges`site_no]nn:nnwarn[;0];ndw:nnwarn[;1])\n",
    "floodlvl:(maxht ij joins)lj`nn xkey warning\n",
    "floodlvl[`Action`Moderate`Flood`Major]:\"F\"$'floodlvl[`Action`Moderate`Flood`Major]\n",
    "floodlvl:update conv7_fn each string each site_no from floodlvl"
   ]
  },
  {
   "cell_type": "code",
   "execution_count": 1197,
   "metadata": {},
   "outputs": [
    {
     "name": "stdout",
     "output_type": "stream",
     "text": [
      "site_no  date    Action Flood Moderate Major no_Action no_Flood no_Mod no_Major\n",
      "-------------------------------------------------------------------------------\n",
      "01200000 2009.07 6      9     10       12    0         0        0      0       \n",
      "01200000 2009.08 6      9     10       12    0         0        0      0       \n",
      "01200000 2009.09 6      9     10       12    0         0        0      0       \n",
      "01200000 2009.10 6      9     10       12    0         0        0      0       \n",
      "01200000 2009.11 6      9     10       12    0         0        0      0       \n",
      "01200000 2009.12 6      9     10       12    0         0        0      0       \n",
      "01200000 2010.01 6      9     10       12    0         0        0      0       \n",
      "01200000 2010.02 6      9     10       12    0         0        0      0       \n",
      "01200000 2010.03 6      9     10       12    1         0        0      0       \n",
      "01200000 2010.04 6      9     10       12    0         0        0      0       \n",
      "01200000 2010.05 6      9     10       12    0         0        0      0       \n",
      "01200000 2010.06 6      9     10       12    0         0        0      0       \n",
      "01200000 2010.07 6      9     10       12    0         0        0      0       \n",
      "01200000 2010.08 6      9     10       12    0         0        0      0       \n",
      "01200000 2010.09 6      9     10       12    0         0        0      0       \n",
      "01200000 2010.10 6      9     10       12    0         0        0      0       \n",
      "01200000 2010.11 6      9     10       12    0         0        0      0       \n",
      "01200000 2010.12 6      9     10       12    0         0        0      0       \n",
      "01200000 2011.01 6      9     10       12    0         0        0      0       \n",
      "01200000 2011.02 6      9     10       12    0         0        0      0       \n",
      "..\n"
     ]
    }
   ],
   "source": [
    "show threshold:0!select first Action,first Flood,first Moderate,first Major,no_Action:count where height>Action\n",
    "              ,no_Flood:count where height>Flood,no_Mod:count where height>Moderate,no_Major:count where \n",
    "               height>Major by site_no,\"m\"$date from floodlvl"
   ]
  },
  {
   "cell_type": "markdown",
   "metadata": {},
   "source": [
    "For the sake of this project, we only want to predict if the \"Flood\" level was reached or not for a site during a given month. Our target data is a binary label of whether this was reaches or not.\n",
    "\n",
    "Any site that floods more than 28 days per month is omitted from the dataset"
   ]
  },
  {
   "cell_type": "code",
   "execution_count": 1198,
   "metadata": {},
   "outputs": [],
   "source": [
    "threshold:select from threshold where no_Flood<28\n",
    "threshold[`target]:threshold[`no_Flood]>0"
   ]
  },
  {
   "cell_type": "markdown",
   "metadata": {},
   "source": [
    "### Time Peak Target Data"
   ]
  },
  {
   "cell_type": "markdown",
   "metadata": {},
   "source": [
    "After a major rain event, it is important to know how long to will take for the stream to reach peak height.\n",
    "\n",
    "The flash Dataset will be used, which highlights how long it will take to reach this peak height, only dates and site numbers used in the dataset above will be extracted.\n",
    "\n",
    "The time zones have to be updated in order to correspond with the height readings from the stream stats dataset"
   ]
  },
  {
   "cell_type": "code",
   "execution_count": 1199,
   "metadata": {},
   "outputs": [],
   "source": [
    "peak[`delta_peak]:(peak[`peak_time]-peak[`start_time])*24"
   ]
  },
  {
   "cell_type": "markdown",
   "metadata": {},
   "source": [
    "To predict how long it will take to flood, we have classified this problem as a binary class of whether or not it will take longer than 3 hours. This is important to know how long people have to evacuate from when a Flood warning is given."
   ]
  },
  {
   "cell_type": "code",
   "execution_count": 1245,
   "metadata": {},
   "outputs": [],
   "source": [
    "peak[`target]:peak[`delta_peak]<3.5"
   ]
  },
  {
   "cell_type": "markdown",
   "metadata": {},
   "source": [
    "## Inputs to the Model"
   ]
  },
  {
   "cell_type": "markdown",
   "metadata": {},
   "source": [
    "The columns have been divided into three seperate sections:\n",
    "\n",
    "    -ungaged basin with no perfect forcasts\n",
    "    -gaged basins with no perfect forcasts\n",
    "    -gaged basin with perfect forcasts"
   ]
  },
  {
   "cell_type": "markdown",
   "metadata": {},
   "source": [
    "### Monthly Inputs"
   ]
  },
  {
   "cell_type": "markdown",
   "metadata": {},
   "source": [
    "This breaks the dataset up per month between the dates of 2009.07-2019.06"
   ]
  },
  {
   "cell_type": "code",
   "execution_count": 1246,
   "metadata": {},
   "outputs": [],
   "source": [
    "height_data:select from all_height where 1=`dd$date\n",
    "height_data:update date:\"m\"$date from height_data"
   ]
  },
  {
   "cell_type": "code",
   "execution_count": 1247,
   "metadata": {},
   "outputs": [],
   "source": [
    "rain_data:select from all_rain where 1=`dd$date\n",
    "rain_data:update date:\"m\"$date from rain_data"
   ]
  },
  {
   "cell_type": "markdown",
   "metadata": {},
   "source": [
    "Join the stream height and rain data based on site number and month"
   ]
  },
  {
   "cell_type": "code",
   "execution_count": 1248,
   "metadata": {},
   "outputs": [],
   "source": [
    "height_rain:height_data ij `site_no`date xkey rain_data"
   ]
  },
  {
   "cell_type": "markdown",
   "metadata": {},
   "source": [
    "This data is then combined with the basin characteristics and Flood threshold dataset by site number and year"
   ]
  },
  {
   "cell_type": "code",
   "execution_count": 1249,
   "metadata": {},
   "outputs": [],
   "source": [
    "all_monthly_data:(height_rain ij `site_no`year xkey stream_char) ij `site_no`date xkey threshold"
   ]
  },
  {
   "cell_type": "markdown",
   "metadata": {},
   "source": [
    "#### Lagged features"
   ]
  },
  {
   "cell_type": "code",
   "execution_count": 1250,
   "metadata": {},
   "outputs": [],
   "source": [
    "cols_fn   :{raze x[`cs]#'x y}\n",
    "feat_fns  :{raze {x xprev raze y}[z]each ?[x;();();y]}\n",
    "catch_tgts:0!select site_no,no_Flood,date,cs:count date by site_no from all_monthly_data"
   ]
  },
  {
   "cell_type": "code",
   "execution_count": 1251,
   "metadata": {},
   "outputs": [
    {
     "name": "stdout",
     "output_type": "stream",
     "text": [
      "site_no  date    lagged_target_1yr lagged_target_recent lagged_target_all\n",
      "-------------------------------------------------------------------------\n",
      "01200000 2010.08 0                 0                    0                \n",
      "01200000 2010.09 0                 0                    0                \n",
      "01200000 2010.10 0                 0                    0                \n",
      "01200000 2010.11 0                 0                    0                \n",
      "01200000 2010.12 0                 0                    0                \n",
      "01200000 2011.01 0                 0                    0                \n",
      "01200000 2011.02 0                 0                    0                \n",
      "01200000 2011.03 0                 0                    0.2              \n",
      "01200000 2011.04 0                 4                    0.1904762        \n",
      "01200000 2011.05 0                 0                    0.1818182        \n",
      "01200000 2011.06 0                 0                    0.173913         \n",
      "01200000 2011.07 0                 0                    0.1666667        \n",
      "01200000 2011.08 0                 0                    0.24             \n",
      "01200000 2011.09 0                 2                    0.2307692        \n",
      "01200000 2011.10 0                 0                    0.2222222        \n",
      "01200000 2011.11 0                 0                    0.2142857        \n",
      "01200000 2011.12 0                 0                    0.2068966        \n",
      "01200000 2012.01 0                 0                    0.2              \n",
      "01200000 2012.02 0                 0                    0.1935484        \n",
      "01200000 2012.03 4                 0                    0.1875           \n",
      "..\n"
     ]
    }
   ],
   "source": [
    "lagy  :feat_fns[catch_tgts;`no_Flood;12]\n",
    "lag1  :feat_fns[catch_tgts;`no_Flood;1]\n",
    "lagall:raze{count[x]mavg raze x}each?[catch_tgts;();();`no_Flood]\n",
    "\n",
    "lagdt:([]site_no:cols_fn[catch_tgts;`site_no];date:cols_fn[catch_tgts;`date];\n",
    "         lagged_target_1yr:lagy;lagged_target_recent:lag1;lagged_target_all:lagall)\n",
    "show lagdt:delete from lagdt where i in where any flip null value each lagdt\n",
    "all_monthly_data:all_monthly_data ij `site_no`date xkey lagdt"
   ]
  },
  {
   "cell_type": "markdown",
   "metadata": {},
   "source": [
    "### Time_peak"
   ]
  },
  {
   "cell_type": "markdown",
   "metadata": {},
   "source": [
    "For the time to peak dataset the day rain and height data is joined to the FLASH dataset based on the site number and date"
   ]
  },
  {
   "cell_type": "code",
   "execution_count": 1252,
   "metadata": {},
   "outputs": [],
   "source": [
    "all_peak_data:((peak ij `date`site_no xkey upstr_prev_rain) ij \n",
    "              `date`site_no xkey all_height) ij \n",
    "              `site_no`year xkey stream_char"
   ]
  },
  {
   "cell_type": "markdown",
   "metadata": {},
   "source": [
    "#### prev window"
   ]
  },
  {
   "cell_type": "code",
   "execution_count": 1253,
   "metadata": {},
   "outputs": [],
   "source": [
    "time_zone:raze {dd:x[1];\n",
    " si:x[0];\n",
    " select `$first site_no,`$first unk from str where date=first dd,si=`$site_no}each \n",
    " value each 0!select date by distinct site_no from all_peak_data;\n",
    "all_peak_data:all_peak_data ij `site_no xkey time_zone\n",
    "change_zone:{$[y=`EDT;neg[04:00:00.000]+x;y=`CDT;neg[05:00:00.000]+x;neg[06:00:00.000]+x]}"
   ]
  },
  {
   "cell_type": "code",
   "execution_count": 1254,
   "metadata": {},
   "outputs": [],
   "source": [
    "all_peak_data[`start_time]:change_zone''[all_peak_data`start_time;all_peak_data`unk]\n",
    "all_peak_data[`peak_time]:change_zone''[all_peak_data`peak_time;all_peak_data`unk]"
   ]
  },
  {
   "cell_type": "code",
   "execution_count": null,
   "metadata": {
    "scrolled": true
   },
   "outputs": [],
   "source": [
    "wind_ht_prev:wind_ht[str;enlist 2 4 12 48;`height]each value each select site_no,start_time from all_peak_data"
   ]
  },
  {
   "cell_type": "code",
   "execution_count": 1256,
   "metadata": {},
   "outputs": [],
   "source": [
    "all_peak_data:all_peak_data,'wind_ht_prev\n",
    "all_peak_data:delete from all_peak_data where wind_2=neg 0w"
   ]
  },
  {
   "cell_type": "code",
   "execution_count": 1257,
   "metadata": {
    "scrolled": true
   },
   "outputs": [],
   "source": [
    "rain_pred:raze fut_wind[all_rain;10;`ppt;]each value each select site_no,start_time from all_peak_data\n",
    "upstr_pred:raze fut_wind[all_rain;10;`upstr_ppt_1;]each value each select site_no,start_time from all_peak_data\n",
    "all_peak_data:all_peak_data,'rain_pred,'upstr_pred"
   ]
  },
  {
   "cell_type": "markdown",
   "metadata": {},
   "source": [
    "## Train Test Split"
   ]
  },
  {
   "cell_type": "markdown",
   "metadata": {},
   "source": [
    "Delete any rows from the dataset that contains a null"
   ]
  },
  {
   "cell_type": "code",
   "execution_count": 1258,
   "metadata": {},
   "outputs": [],
   "source": [
    "del_null:{where not any each null x}\n",
    "cleaned_monthly: all_monthly_data[del_null all_monthly_data]\n",
    "cleaned_peak:    all_peak_data[del_null all_peak_data]"
   ]
  },
  {
   "cell_type": "code",
   "execution_count": 1259,
   "metadata": {},
   "outputs": [],
   "source": [
    "fnd_col:{x where x in y}\n",
    "ungaged_noforcast_basinM: fnd_col[ungaged_noforcast_basin;cols cleaned_monthly]\n",
    "gaged_basinM:             fnd_col[gaged_basin;cols cleaned_monthly]\n",
    "perfect_forcastM:         fnd_col[perfect_forcast;cols cleaned_monthly]\n",
    "ungaged_noforcast_basinP: fnd_col[ungaged_noforcast_basin;cols cleaned_peak]\n",
    "gaged_basinP:             fnd_col[gaged_basin;cols cleaned_peak]\n",
    "perfect_forcastP:         fnd_col[perfect_forcast;cols cleaned_peak]"
   ]
  },
  {
   "cell_type": "code",
   "execution_count": 1260,
   "metadata": {},
   "outputs": [],
   "source": [
    "ungage: `M`P!(ungaged_noforcast_basinM;ungaged_noforcast_basinP)\n",
    "gage:   `M`P!(ungage[`M],gaged_basinM;ungage[`P],gaged_basinP)\n",
    "forcast:`M`P!(gage[`M],perfect_forcastM;gage[`P],perfect_forcastP)"
   ]
  },
  {
   "cell_type": "code",
   "execution_count": 1261,
   "metadata": {},
   "outputs": [],
   "source": [
    "split_dict:{(!). flip(\n",
    "  (`ungaged;flip x[ungage[y]]);\n",
    "  (`gaged;flip x[gage[y]]);\n",
    "  (`forcast;flip x[forcast[y]]))}"
   ]
  },
  {
   "cell_type": "markdown",
   "metadata": {},
   "source": [
    "### Monthly "
   ]
  },
  {
   "cell_type": "markdown",
   "metadata": {},
   "source": [
    "Split the train and test up by date, so that only past data is contained in the training set. A date was chosen so that 20 percent of the dataset is in the testing set"
   ]
  },
  {
   "cell_type": "code",
   "execution_count": 1262,
   "metadata": {},
   "outputs": [],
   "source": [
    "cutoff:update cutoff:min[date]+floor 0.8*max[date]-min[date] by site_no from cleaned_monthly\n",
    "XtrainM:select from cutoff where date<=cutoff\n",
    "ytrainM:exec target from cutoff where date<=cutoff\n",
    "XtestM:select from cutoff where date>cutoff\n",
    "ytestM:exec target from cutoff where date>cutoff\n",
    "\n",
    "XtrainM:split_dict[XtrainM;`M]\n",
    "XtestM:split_dict[XtestM;`M]"
   ]
  },
  {
   "cell_type": "markdown",
   "metadata": {},
   "source": [
    "### Peak"
   ]
  },
  {
   "cell_type": "markdown",
   "metadata": {},
   "source": [
    "The time to peak data is seperated so that sites do not appear in both the train and test dataset. To distribution the sum of the target per site is shown below. This distribution is seperated into equeally distributed bins and the train and test split is stratified by this split "
   ]
  },
  {
   "cell_type": "code",
   "execution_count": 1263,
   "metadata": {},
   "outputs": [
    {
     "data": {
      "image/png": "[encoded data removed]",
      "text/plain": [
       "<Figure size 460.8x345.6 with 1 Axes>"
      ]
     },
     "metadata": {},
     "output_type": "display_data"
    }
   ],
   "source": [
    "sites:0!select sum target by site_no from cleaned_peak\n",
    "plt[`:hist][sites`target];\n",
    "plt[`:show][];"
   ]
  },
  {
   "cell_type": "code",
   "execution_count": 1295,
   "metadata": {},
   "outputs": [],
   "source": [
    "bins:0 5 15 25.0\n",
    "y_binned:bins bin`float$sites`target\n",
    "tts:train_test_split[sites[`site_no];sites[`target];`test_size pykw 0.2; `random_state pykw 607;\n",
    "    `shuffle pykw 1b;`stratify pykw y_binned]`;\n",
    "y_binned2:bins bin `float$tts[2]\n",
    "tts2:train_test_split[tts[0];tts[2];`test_size pykw 0.25; `random_state pykw 607;\n",
    "    `shuffle pykw 1b;`stratify pykw y_binned2]`;"
   ]
  },
  {
   "cell_type": "code",
   "execution_count": 1296,
   "metadata": {},
   "outputs": [],
   "source": [
    "cleaned_peak[`split]:`TRAIN\n",
    "peak_split:update split:`VALIDATE from cleaned_peak where site_no in `$tts2[1]\n",
    "peak_split:update split:`TEST from peak_split where site_no in `$tts[1]"
   ]
  },
  {
   "cell_type": "code",
   "execution_count": 1297,
   "metadata": {},
   "outputs": [],
   "source": [
    "XtrainP:select from peak_split where split=`TRAIN\n",
    "ytrainP:exec target from peak_split where split=`TRAIN\n",
    "XtestP:select from  peak_split where split=`TEST\n",
    "ytestP:exec target from peak_split where split=`TEST\n",
    "\n",
    "XtrainP:split_dict[XtrainP;`P]\n",
    "XtestP:split_dict[XtestP;`P]"
   ]
  },
  {
   "cell_type": "markdown",
   "metadata": {},
   "source": [
    "## Run Models"
   ]
  },
  {
   "cell_type": "markdown",
   "metadata": {},
   "source": [
    "Gradient Boosts and Random forests were applied to the train and test datasets and the results were printed as a precision/recall curve. This metric was chosen as getting a balance between precision and recall when predicting floods is pivitol to ensure that all floods are given warnings but also not too many false warnings are given. The inputs to the pr_curve are\n",
    "\n",
    "    -Xtest\n",
    "    -ytest\n",
    "    -dictionary of models that are being used\n"
   ]
  },
  {
   "cell_type": "code",
   "execution_count": 1298,
   "metadata": {},
   "outputs": [],
   "source": [
    "build_model:{[Xtrain;ytrain;x;y]\n",
    " rf_clf:      RandomForestClassifier[`n_estimators pykw x;`random_state pykw 0][`:fit][Xtrain; ytrain];\n",
    " xgboost_clf: XGBClassifier[`n_estimators pykw y;`learning_rate pykw 0.3;`random_state pykw 0\n",
    "              ][`:fit][np[`:array]Xtrain; ytrain];\n",
    "\n",
    " `random_forest`GBDT!(rf_clf;xgboost_clf)}"
   ]
  },
  {
   "cell_type": "markdown",
   "metadata": {},
   "source": [
    "## Perfect Forcast"
   ]
  },
  {
   "cell_type": "markdown",
   "metadata": {},
   "source": [
    "### Monthly Predicts"
   ]
  },
  {
   "cell_type": "code",
   "execution_count": 1336,
   "metadata": {},
   "outputs": [
    {
     "name": "stdout",
     "output_type": "stream",
     "text": [
      "\"Accuracy for random_forest: 0.9500427\"\n",
      "class    | precision recall    f1_score  support\n",
      "---------| -------------------------------------\n",
      "0        | 0.9510129 0.9978012 0.9738454 10915  \n",
      "1        | 0.9069767 0.2943396 0.4444444 795    \n",
      "avg/total| 0.9289948 0.6460704 0.7091449 11710  \n",
      "\"Accuracy for GBDT: 0.953544\"\n",
      "class    | precision recall    f1_score  support\n",
      "---------| -------------------------------------\n",
      "0        | 0.9579617 0.99377   0.9755374 10915  \n",
      "1        | 0.8242894 0.4012579 0.5397631 795    \n",
      "avg/total| 0.8911255 0.697514  0.7576502 11710  \n"
     ]
    },
    {
     "data": {
      "image/png": "[encoded data removed]",
      "text/plain": [
       "<Figure size 460.8x345.6 with 1 Axes>"
      ]
     },
     "metadata": {},
     "output_type": "display_data"
    }
   ],
   "source": [
    "pr_curve[XtestM`forcast;ytestM;build_model[XtrainM`forcast;ytrainM;500;400]]"
   ]
  },
  {
   "cell_type": "markdown",
   "metadata": {},
   "source": [
    "### Peak Predictions"
   ]
  },
  {
   "cell_type": "code",
   "execution_count": 1335,
   "metadata": {},
   "outputs": [
    {
     "name": "stdout",
     "output_type": "stream",
     "text": [
      "\"Accuracy for random_forest: 0.7332123\"\n",
      "class    | precision recall    f1_score  support\n",
      "---------| -------------------------------------\n",
      "0        | 0.7468354 0.9291339 0.8280702 381    \n",
      "1        | 0.6493506 0.2941176 0.4048583 170    \n",
      "avg/total| 0.698093  0.6116258 0.6164642 551    \n",
      "\"Accuracy for GBDT: 0.7477314\"\n",
      "class    | precision recall    f1_score  support\n",
      "---------| -------------------------------------\n",
      "0        | 0.7574468 0.9343832 0.8366627 381    \n",
      "1        | 0.691358  0.3294118 0.4462151 170    \n",
      "avg/total| 0.7244024 0.6318975 0.6414389 551    \n"
     ]
    },
    {
     "data": {
      "image/png": "[encoded data removed]",
      "text/plain": [
       "<Figure size 460.8x345.6 with 1 Axes>"
      ]
     },
     "metadata": {},
     "output_type": "display_data"
    }
   ],
   "source": [
    "pr_curve[XtestP`forcast;ytestP;build_model[XtrainP`forcast;ytrainP;400;50]]"
   ]
  },
  {
   "cell_type": "markdown",
   "metadata": {},
   "source": [
    "## Gaged Prediction"
   ]
  },
  {
   "cell_type": "markdown",
   "metadata": {},
   "source": [
    "### Monthly Predicts"
   ]
  },
  {
   "cell_type": "code",
   "execution_count": null,
   "metadata": {},
   "outputs": [],
   "source": [
    "pr_curve[XtestM`gaged;ytestM;build_model[XtrainM`gaged;ytrainM;500;400]]"
   ]
  },
  {
   "cell_type": "markdown",
   "metadata": {},
   "source": [
    "### Peak Predictions"
   ]
  },
  {
   "cell_type": "code",
   "execution_count": 1301,
   "metadata": {},
   "outputs": [
    {
     "data": {
      "image/png": "[encoded data removed]",
      "text/plain": [
       "<Figure size 460.8x345.6 with 1 Axes>"
      ]
     },
     "metadata": {},
     "output_type": "display_data"
    }
   ],
   "source": [
    "pr_curve[XtestP`gaged;ytestP;build_model[XtrainP`gaged;ytrainP;400;50]]"
   ]
  },
  {
   "cell_type": "markdown",
   "metadata": {},
   "source": [
    "## Ungaged Prediction "
   ]
  },
  {
   "cell_type": "markdown",
   "metadata": {},
   "source": [
    "### Monthly Predictions"
   ]
  },
  {
   "cell_type": "code",
   "execution_count": null,
   "metadata": {},
   "outputs": [],
   "source": [
    "pr_curve[XtestM`ungaged;ytestM;build_model[XtrainM`ungaged;ytrainM;500;400]]"
   ]
  },
  {
   "cell_type": "markdown",
   "metadata": {},
   "source": [
    "### Peak Prediction"
   ]
  },
  {
   "cell_type": "code",
   "execution_count": 1302,
   "metadata": {},
   "outputs": [
    {
     "data": {
      "image/png": "[encoded data removed]",
      "text/plain": [
       "<Figure size 460.8x345.6 with 1 Axes>"
      ]
     },
     "metadata": {},
     "output_type": "display_data"
    }
   ],
   "source": [
    "pr_curve[XtestP`ungaged;ytestP;build_model[XtrainP`ungaged;ytrainP;400;50]]"
   ]
  },
  {
   "cell_type": "code",
   "execution_count": null,
   "metadata": {},
   "outputs": [],
   "source": []
  }
 ],
 "metadata": {
  "kernelspec": {
   "display_name": "Q (kdb+)",
   "language": "q",
   "name": "qpk"
  },
  "language_info": {
   "file_extension": ".q",
   "mimetype": "text/x-q",
   "name": "q",
   "version": "3.6.0"
  }
 },
 "nbformat": 4,
 "nbformat_minor": 2
}
