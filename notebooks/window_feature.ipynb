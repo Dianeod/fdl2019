{
 "cells": [
  {
   "cell_type": "markdown",
   "metadata": {},
   "source": [
    "# Downloading Stream and Rain Gages"
   ]
  },
  {
   "cell_type": "markdown",
   "metadata": {},
   "source": [
    "Info on how to use pyQ can be found at https://code.kx.com/v2/interfaces/pyq/user-guide/. And extra info on how to run queries can be found at https://code.kx.com/q4m3/9_Queries_q-sql/."
   ]
  },
  {
   "cell_type": "code",
   "execution_count": 1,
   "metadata": {},
   "outputs": [],
   "source": [
    "gp:.p.import[`geopandas]\n",
    "\n",
    "gages:(\"SSSSFFSSIFFFFFFFFSSISSSSFF\";enlist \",\") 0:`:data/usgs_gage_subset.csv\n",
    "gages[`site_no]:`${$[7=count x;\"0\",x;x]}each string each gages[`site_no]\n",
    "\n",
    "\n",
    "\\l ../fdl2019/ml/ml.q \n",
    "\\l ../fdl2019/ml/init.q\n",
    "/\\l gagesdir/gagesdir"
   ]
  },
  {
   "cell_type": "markdown",
   "metadata": {},
   "source": [
    "Get the max gage height per stream gage per day"
   ]
  },
  {
   "cell_type": "code",
   "execution_count": null,
   "metadata": {},
   "outputs": [],
   "source": [
    "show max_ht_str:0!select max height by site_no,date from str\n",
    "max_ht_str[`site_no]:`${$[7=count x;\"0\",x;x]}each max_ht_str[`site_no]"
   ]
  },
  {
   "cell_type": "code",
   "execution_count": 2,
   "metadata": {},
   "outputs": [],
   "source": [
    "max_ht_str:(\"SDF\";enlist \",\") 0:`:../maxht.csv\n",
    "max_ht_str:select from max_ht_str where height>=0"
   ]
  },
  {
   "cell_type": "markdown",
   "metadata": {},
   "source": [
    "Save down as a csv"
   ]
  },
  {
   "cell_type": "code",
   "execution_count": null,
   "metadata": {},
   "outputs": [],
   "source": [
    "/save `:max_ht_str"
   ]
  },
  {
   "cell_type": "code",
   "execution_count": null,
   "metadata": {},
   "outputs": [],
   "source": [
    "/\\cd ../../"
   ]
  },
  {
   "cell_type": "markdown",
   "metadata": {},
   "source": [
    "Upload the precipitation data from the prism folder"
   ]
  },
  {
   "cell_type": "code",
   "execution_count": 3,
   "metadata": {},
   "outputs": [
    {
     "name": "stdout",
     "output_type": "stream",
     "text": [
      "site_no long     lat     elv  date       ppt \n",
      "---------------------------------------------\n",
      "1367690 -74.5596 41.1053 1056 2019.01.01 0.94\n",
      "1367690 -74.5596 41.1053 1056 2019.01.02 0   \n",
      "1367690 -74.5596 41.1053 1056 2019.01.03 0   \n",
      "1367690 -74.5596 41.1053 1056 2019.01.04 0   \n",
      "1367690 -74.5596 41.1053 1056 2019.01.05 0.38\n",
      "1367690 -74.5596 41.1053 1056 2019.01.06 0.79\n",
      "1367690 -74.5596 41.1053 1056 2019.01.07 0   \n",
      "1367690 -74.5596 41.1053 1056 2019.01.08 0.02\n",
      "1367690 -74.5596 41.1053 1056 2019.01.09 0.15\n",
      "1367690 -74.5596 41.1053 1056 2019.01.10 0   \n",
      "1367690 -74.5596 41.1053 1056 2019.01.11 0   \n",
      "1367690 -74.5596 41.1053 1056 2019.01.12 0   \n",
      "1367690 -74.5596 41.1053 1056 2019.01.13 0   \n",
      "1367690 -74.5596 41.1053 1056 2019.01.14 0   \n",
      "1367690 -74.5596 41.1053 1056 2019.01.15 0   \n",
      "1367690 -74.5596 41.1053 1056 2019.01.16 0   \n",
      "1367690 -74.5596 41.1053 1056 2019.01.17 0   \n",
      "1367690 -74.5596 41.1053 1056 2019.01.18 0.06\n",
      "1367690 -74.5596 41.1053 1056 2019.01.19 0   \n",
      "1367690 -74.5596 41.1053 1056 2019.01.20 1.02\n",
      "..\n"
     ]
    }
   ],
   "source": [
    "show precipall:raze {flip `site_no`long`lat`elv`date`ppt!flip value each 10_(\"SFFFDF\";enlist \",\")0: \n",
    "    hsym `$\"data/prism/\",string[x]} each key `:data/prism\n",
    "\n",
    "precipall:`date xasc delete from precipall where site_no=`\n",
    "precipall[`site_no]:`${$[7=count x;\"0\",x;x]}each string each precipall[`site_no]\n"
   ]
  },
  {
   "cell_type": "code",
   "execution_count": 4,
   "metadata": {},
   "outputs": [
    {
     "data": {
      "text/plain": [
       "`:precipall.csv\n"
      ]
     },
     "execution_count": 4,
     "metadata": {},
     "output_type": "execute_result"
    }
   ],
   "source": [
    "/save `:precipall.csv\n",
    "/system\"gsutil cp precipall.csv gs://nasa_fdl_floods_2019/data/rain_data/precipall.csv\""
   ]
  },
  {
   "cell_type": "code",
   "execution_count": 4,
   "metadata": {},
   "outputs": [],
   "source": [
    "max_ht_str_prev:update prev_h_1:prev height,prev_h_2:2 xprev height,prev_h_3:3 xprev height,\n",
    " prev_h_4:4 xprev height,prev_h_5:5 xprev height,prev_h_6:6 xprev height,\n",
    " prev_h_7:7 xprev height,prev_h_8:8 xprev height,prev_h_9: 9 xprev height,\n",
    " prev_h_10:10 xprev height,prev_h_11:11 xprev height,prev_h_12:12 xprev height,\n",
    " prev_h_13:13 xprev height,prev_h_14:14 xprev height,\n",
    " prev_h_15:15 xprev height,avgppt:30 mavg height by site_no from max_ht_str"
   ]
  },
  {
   "cell_type": "code",
   "execution_count": 5,
   "metadata": {},
   "outputs": [
    {
     "name": "stdout",
     "output_type": "stream",
     "text": [
      "site_no  date       height prev_h_1 prev_h_2 prev_h_3 prev_h_4 prev_h_5 prev_..\n",
      "-----------------------------------------------------------------------------..\n",
      "01200000 2009.07.01 2.76                                                     ..\n",
      "01200000 2009.08.01 4.03   3.8      2.94     2.75     3.22     3.42     3.09 ..\n",
      "01200000 2009.09.01 1.66   1.82     2.2      2.26     1.56     1.6      1.64 ..\n",
      "01200000 2009.10.01 1.2    1.29     1.52     1.5      1.23     1.01     1.04 ..\n",
      "01200000 2009.11.01 2      2.04     2.33     2.67     2.51     1.86     2.22 ..\n",
      "01200000 2009.12.01 1.78   1.71     1.72     1.73     1.76     1.79     1.81 ..\n",
      "01200000 2010.02.01 2.7    2.8      2.99     3.3      3.73     4.54     5.3  ..\n",
      "01200000 2010.03.01 3.76   4.35     5.73     5.98     5.27     2.51     1.88 ..\n",
      "01200000 2010.04.01 5.58   6.17     5.67     4.51     3.32     3.64     3.69 ..\n",
      "01200000 2010.05.01 1.86   1.96     2.09     2.29     2.37     2.13     2.01 ..\n",
      "01200000 2010.06.01 1.24   1.22     1.24     1.23     1.25     1.31     1.37 ..\n",
      "01200000 2010.07.01 0.88   0.91     0.92     0.95     0.99     1.04     1.07 ..\n",
      "01200000 2010.08.01 0.74   0.76     0.79     0.82     0.88     0.96     1.07 ..\n",
      "01200000 2010.09.01 0.79   0.83     0.88     0.95     1.05     1.18     1.25 ..\n",
      "01200000 2010.10.01 4.5    1.5      0.74     0.67     0.63     0.58     0.58 ..\n",
      "01200000 2010.11.01 1.59   1.63     1.71     1.85     2.23     2.16     1.34 ..\n",
      "01200000 2010.12.01 3.87   1.8      1.78     1.83     1.92     1.91     1.81 ..\n",
      "01200000 2011.01.01 1.91   2.05     2.14     2.1      2.2      1.84     2    ..\n",
      "01200000 2011.02.01 1.88   2.15     1.92     1.95     2.33     2.1      2.39 ..\n",
      "01200000 2011.03.01 3.82   3.75     3.22     3.39     3.35     2.29     2.35 ..\n",
      "..\n"
     ]
    }
   ],
   "source": [
    "show max_ht_str_prev_month:select from max_ht_str_prev where 1=`dd$date"
   ]
  },
  {
   "cell_type": "markdown",
   "metadata": {},
   "source": [
    "Some site_no's have the last few digits excluded from the prism dataset (problem with the prism download side)"
   ]
  },
  {
   "cell_type": "code",
   "execution_count": 6,
   "metadata": {},
   "outputs": [
    {
     "data": {
      "text/plain": [
       "`precipall`precipall`precipall`precipall`precipall`precipall`precipall`precip..\n"
      ]
     },
     "execution_count": 6,
     "metadata": {},
     "output_type": "execute_result"
    },
    {
     "data": {
      "text/plain": [
       "`precipall`precipall\n"
      ]
     },
     "execution_count": 6,
     "metadata": {},
     "output_type": "execute_result"
    }
   ],
   "source": [
    "rms:asc ds where 12<count each string each ds:exec distinct site_no from gages \n",
    "names:0!select i by site_no from precipall where site_no in `$12#'string each rms\n",
    "\n",
    "{![`precipall;enlist (in;`i;y);0b;(enlist `site_no)!enlist enlist x]}'[rms[til[20],22 23 24 25];\n",
    "    names[`x][til[20],21 22 23 24]]\n",
    "\n",
    "matchnames:0!select i by lat,long from precipall where i in names[`x][20]\n",
    "\n",
    "{![`precipall;enlist (in;`i;y);0b;(enlist `site_no)!enlist enlist x]}'[rms[21 20];matchnames[`x]]\n"
   ]
  },
  {
   "cell_type": "code",
   "execution_count": 7,
   "metadata": {},
   "outputs": [
    {
     "name": "stdout",
     "output_type": "stream",
     "text": [
      "site_no  long     lat     elv  date       ppt  prev1 prev2 prev3 prev4 prev5 ..\n",
      "-----------------------------------------------------------------------------..\n",
      "01367690 -74.5596 41.1053 1056 2009.07.01 0.46                               ..\n",
      "01367715 -74.5786 41.1333 617  2009.07.01 0.62                               ..\n",
      "01367800 -74.6753 41.1628 512  2009.07.01 0.54                               ..\n",
      "01367805 -74.6566 41.17   512  2009.07.01 0.54                               ..\n",
      "01377000 -73.9892 40.9992 52   2009.07.01 0.47                               ..\n",
      "01377370 -74.0392 41.0367 240  2009.07.01 0.43                               ..\n",
      "01377451 -74.0481 41.0119 85   2009.07.01 0.5                                ..\n",
      "01377500 -74.0211 40.9928 85   2009.07.01 0.5                                ..\n",
      "01378500 -74.0267 40.9483 79   2009.07.01 0.68                               ..\n",
      "01379000 -74.5289 40.68   266  2009.07.01 0.16                               ..\n",
      "01379500 -74.3897 40.7261 341  2009.07.01 0.2                                ..\n",
      "01379530 -74.3536 40.7444 262  2009.07.01 0.31                               ..\n",
      "01379699 -74.5914 40.9342 725  2009.07.01 0.14                               ..\n",
      "01379773 -74.5397 40.96   925  2009.07.01 0.14                               ..\n",
      "01379780 -74.5572 40.9494 925  2009.07.01 0.14                               ..\n",
      "01379845 -74.56   40.8861 650  2009.07.01 0.15                               ..\n",
      "01379868 -74.5333 40.8731 650  2009.07.01 0.15                               ..\n",
      "01380000 -74.46   40.9631 827  2009.07.01 0.19                               ..\n",
      "01380100 -74.5014 40.9022 627  2009.07.01 0.15                               ..\n",
      "01380450 -74.4192 40.9075 587  2009.07.01 0.36                               ..\n",
      "..\n"
     ]
    }
   ],
   "source": [
    "show precipall_prev:update prev1:prev ppt,prev2:2 xprev ppt,prev3:3 xprev ppt,\n",
    " prev4:4 xprev ppt,prev5:5 xprev ppt,prev6:6 xprev ppt,\n",
    " prev7:7 xprev ppt,prev8:8 xprev ppt,prev9: 9 xprev ppt,\n",
    " prev10:10 xprev ppt,prev11:11 xprev ppt,prev12:12 xprev ppt,prev13:13 xprev ppt,prev14:14 xprev ppt,\n",
    " prev15:15 xprev ppt,avgppt:30 mavg ppt by site_no from precipall"
   ]
  },
  {
   "cell_type": "code",
   "execution_count": 8,
   "metadata": {},
   "outputs": [
    {
     "name": "stdout",
     "output_type": "stream",
     "text": [
      "site_no  long     lat     elv  date       ppt  prev1 prev2 prev3 prev4 prev5 ..\n",
      "-----------------------------------------------------------------------------..\n",
      "01367690 -74.5596 41.1053 1056 2009.07.01 0.46                               ..\n",
      "01367715 -74.5786 41.1333 617  2009.07.01 0.62                               ..\n",
      "01367800 -74.6753 41.1628 512  2009.07.01 0.54                               ..\n",
      "01367805 -74.6566 41.17   512  2009.07.01 0.54                               ..\n",
      "01377000 -73.9892 40.9992 52   2009.07.01 0.47                               ..\n",
      "01377370 -74.0392 41.0367 240  2009.07.01 0.43                               ..\n",
      "01377451 -74.0481 41.0119 85   2009.07.01 0.5                                ..\n",
      "01377500 -74.0211 40.9928 85   2009.07.01 0.5                                ..\n",
      "01378500 -74.0267 40.9483 79   2009.07.01 0.68                               ..\n",
      "01379000 -74.5289 40.68   266  2009.07.01 0.16                               ..\n",
      "01379500 -74.3897 40.7261 341  2009.07.01 0.2                                ..\n",
      "01379530 -74.3536 40.7444 262  2009.07.01 0.31                               ..\n",
      "01379699 -74.5914 40.9342 725  2009.07.01 0.14                               ..\n",
      "01379773 -74.5397 40.96   925  2009.07.01 0.14                               ..\n",
      "01379780 -74.5572 40.9494 925  2009.07.01 0.14                               ..\n",
      "01379845 -74.56   40.8861 650  2009.07.01 0.15                               ..\n",
      "01379868 -74.5333 40.8731 650  2009.07.01 0.15                               ..\n",
      "01380000 -74.46   40.9631 827  2009.07.01 0.19                               ..\n",
      "01380100 -74.5014 40.9022 627  2009.07.01 0.15                               ..\n",
      "01380450 -74.4192 40.9075 587  2009.07.01 0.36                               ..\n",
      "..\n"
     ]
    }
   ],
   "source": [
    "show rain_prev_month:select from precipall_prev where 1=`dd$date"
   ]
  },
  {
   "cell_type": "code",
   "execution_count": 9,
   "metadata": {},
   "outputs": [
    {
     "name": "stdout",
     "output_type": "stream",
     "text": [
      "site_no  long     lat     elv  date       ppt  prev1 prev2 prev3 prev4 prev5 ..\n",
      "-----------------------------------------------------------------------------..\n",
      "01367800 -74.6753 41.1628 512  2009.07.01 0.54                               ..\n",
      "01377000 -73.9892 40.9992 52   2009.07.01 0.47                               ..\n",
      "01377370 -74.0392 41.0367 240  2009.07.01 0.43                               ..\n",
      "01377500 -74.0211 40.9928 85   2009.07.01 0.5                                ..\n",
      "01378500 -74.0267 40.9483 79   2009.07.01 0.68                               ..\n",
      "01379000 -74.5289 40.68   266  2009.07.01 0.16                               ..\n",
      "01379500 -74.3897 40.7261 341  2009.07.01 0.2                                ..\n",
      "01379773 -74.5397 40.96   925  2009.07.01 0.14                               ..\n",
      "01379780 -74.5572 40.9494 925  2009.07.01 0.14                               ..\n",
      "01379868 -74.5333 40.8731 650  2009.07.01 0.15                               ..\n",
      "01380500 -74.4097 40.9028 587  2009.07.01 0.36                               ..\n",
      "01381000 -74.3947 40.8969 338  2009.07.01 0.91                               ..\n",
      "01381400 -74.5119 40.8122 440  2009.07.01 0.24                               ..\n",
      "01381500 -74.4569 40.8072 335  2009.07.01 0.37                               ..\n",
      "01381800 -74.3472 40.845  177  2009.07.01 0.95                               ..\n",
      "01381900 -74.3217 40.8625 190  2009.07.01 1.2                                ..\n",
      "01382170 -74.4897 41.0778 1063 2009.07.01 0.28                               ..\n",
      "01382500 -74.4011 41.0183 883  2009.07.01 0.24                               ..\n",
      "01383000 -74.3333 41.1617 728  2009.07.01 1.33                               ..\n",
      "01383500 -74.3336 41.1603 728  2009.07.01 1.33                               ..\n",
      "..\n"
     ]
    }
   ],
   "source": [
    "show all_prev:rain_prev_month ij `site_no`date xkey max_ht_str_prev_month"
   ]
  },
  {
   "cell_type": "code",
   "execution_count": 10,
   "metadata": {},
   "outputs": [
    {
     "name": "stdout",
     "output_type": "stream",
     "text": [
      "date    site_no | window_2 window_3  window_4 window_5 window_6  window_7  wi..\n",
      "----------------| -----------------------------------------------------------..\n",
      "2009.07 01200000| 1.19     0.8066667 0.605    0.734    0.6683333 0.5728571 0...\n",
      "2009.07 01302020| 0.555    0.43      0.485    0.43     0.41      0.41      0...\n",
      "2009.07 01303000| 0.635    0.4233333 0.3175   0.32     0.2716667 0.2714286 0...\n",
      "2009.07 01303500| 0.615    0.54      0.4225   0.344    0.3166667 0.2814286 0...\n",
      "2009.07 01304000| 1.105    1.146667  0.8775   0.716    0.615     0.5342857 0...\n",
      "2009.07 01304500| 1.155    0.9733333 0.875    0.744    0.6516667 0.5585714 0...\n",
      "2009.07 01305000| 1.41     1.35      1.055    0.868    0.74      0.6414286 0...\n",
      "2009.07 01305500| 1.065    1.063333  0.8175   0.676    0.5733333 0.4985714 0...\n",
      "2009.07 01306460| 1.13     1.113333  0.8525   0.696    0.595     0.5171429 0...\n",
      "2009.07 01308000| 0.7      0.8233333 0.625    0.514    0.435     0.3771429 0...\n",
      "2009.07 01308500| 0.7      0.8233333 0.625    0.514    0.435     0.3771429 0...\n",
      "2009.07 01309500| 0.67     0.5766667 0.445    0.394    0.3283333 0.2971429 0...\n",
      "2009.07 01309950| 0.58     0.53      0.4125   0.336    0.295     0.2614286 0...\n",
      "2009.07 01309990| 0.58     0.53      0.4125   0.336    0.295     0.2614286 0...\n",
      "2009.07 01310500| 0.615    0.4366667 0.35     0.336    0.2833333 0.2885714 0...\n",
      "2009.07 01311500| 0.345    0.3733333 0.3275   0.262    0.255     0.2457143 0...\n",
      "2009.07 01312000| 0.575    0.3833333 0.2875   0.276    0.255     0.2342857 0...\n",
      "2009.07 01315000| 0.885    0.59      0.4425   0.396    0.3483333 0.2985714 0...\n",
      "2009.07 01315170| 0.55     0.53      0.53     0.53     0.53      0.53      0...\n",
      "2009.07 01315226| 0.57     0.57      0.57     0.57     0.57      0.57      0...\n",
      "..\n"
     ]
    }
   ],
   "source": [
    "show windowed:select window_2:max 2 mavg ppt,window_3:max 3 mavg ppt,window_4:max 4 mavg ppt,window_5:max 5 mavg \n",
    "    ppt,window_6:max 6 mavg ppt,window_7:max 7 mavg ppt,window_8:max 8 mavg ppt,window_9:max 9 mavg ppt,\n",
    "    window_10:max 10 mavg ppt,window_11:max 11 mavg ppt,window_12:max 12 mavg ppt,window_13:max 13 mavg ppt,\n",
    "    window_14:max 14 mavg ppt,window_15:max 15 mavg ppt,window_16:max 16 mavg ppt,window_17:max 17 mavg ppt,\n",
    "    window_18:max 18 mavg ppt,window_19:max 19 mavg ppt,window_20:max 20 mavg ppt,window_21:max 21 mavg ppt,\n",
    "    window_22:max 22 mavg ppt,window_23:max 23 mavg ppt,window_24:max 24 mavg ppt,window_25:max 25 mavg ppt,\n",
    "    window_26:max 26 mavg ppt,window_27:max 27 mavg ppt,window_28:max 28 mavg ppt,window_29:max 29 mavg ppt,\n",
    "    window_30:max 30 mavg ppt,window_31:max 31 mavg ppt,avgppt:avg ppt by \"m\"$date,site_no from precipall"
   ]
  },
  {
   "cell_type": "code",
   "execution_count": 11,
   "metadata": {},
   "outputs": [
    {
     "name": "stdout",
     "output_type": "stream",
     "text": [
      "site_no  long     lat     elv  date    ppt  prev1 prev2 prev3 prev4 prev5 pre..\n",
      "-----------------------------------------------------------------------------..\n",
      "01367800 -74.6753 41.1628 512  2009.07 0.54                                  ..\n",
      "01377000 -73.9892 40.9992 52   2009.07 0.47                                  ..\n",
      "01377370 -74.0392 41.0367 240  2009.07 0.43                                  ..\n",
      "01377500 -74.0211 40.9928 85   2009.07 0.5                                   ..\n",
      "01378500 -74.0267 40.9483 79   2009.07 0.68                                  ..\n",
      "01379000 -74.5289 40.68   266  2009.07 0.16                                  ..\n",
      "01379500 -74.3897 40.7261 341  2009.07 0.2                                   ..\n",
      "01379773 -74.5397 40.96   925  2009.07 0.14                                  ..\n",
      "01379780 -74.5572 40.9494 925  2009.07 0.14                                  ..\n",
      "01379868 -74.5333 40.8731 650  2009.07 0.15                                  ..\n",
      "01380500 -74.4097 40.9028 587  2009.07 0.36                                  ..\n",
      "01381000 -74.3947 40.8969 338  2009.07 0.91                                  ..\n",
      "01381400 -74.5119 40.8122 440  2009.07 0.24                                  ..\n",
      "01381500 -74.4569 40.8072 335  2009.07 0.37                                  ..\n",
      "01381800 -74.3472 40.845  177  2009.07 0.95                                  ..\n",
      "01381900 -74.3217 40.8625 190  2009.07 1.2                                   ..\n",
      "01382170 -74.4897 41.0778 1063 2009.07 0.28                                  ..\n",
      "01382500 -74.4011 41.0183 883  2009.07 0.24                                  ..\n",
      "01383000 -74.3333 41.1617 728  2009.07 1.33                                  ..\n",
      "01383500 -74.3336 41.1603 728  2009.07 1.33                                  ..\n",
      "..\n"
     ]
    }
   ],
   "source": [
    "show window_prev:(update date:\"m\"$date from all_prev) ij windowed"
   ]
  },
  {
   "cell_type": "code",
   "execution_count": 12,
   "metadata": {},
   "outputs": [],
   "source": [
    "window_prev:delete ppt,height from window_prev"
   ]
  },
  {
   "cell_type": "code",
   "execution_count": 13,
   "metadata": {},
   "outputs": [],
   "source": [
    "prev_win:select site_no,date:date+1,window_2_prev:window_2,window_3_prev:window_3,window_4_prev:window_4,\n",
    "    window_5_prev:window_5,window_6_prev:window_6,window_7_prev:window_7,window_8_prev:window_8,\n",
    "    window_9_prev:window_9,window_10_prev:window_10,window_11_prev:window_11,window_12_prev:window_12,\n",
    "    window_13_prev:window_13,window_14_prev:window_14,window_15_prev:window_15,window_16_prev:window_16,\n",
    "    window_17_prev:window_17,window_18_prev:window_18,window_19_prev:window_19,window_20_prev:window_20,\n",
    "    window_21_prev:window_21,window_22_prev:window_22,window_23_prev:window_23,window_24_prev:window_24,\n",
    "    window_25_prev:window_25,window_26_prev:window_26,window_27_prev:window_27,window_28_prev:window_28,\n",
    "    window_29_prev:window_29,window_30_prev:window_30,window_31_prev:window_31,avg_prev:avgppt from (0!windowed)"
   ]
  },
  {
   "cell_type": "code",
   "execution_count": 14,
   "metadata": {},
   "outputs": [],
   "source": [
    "window_prev:window_prev ij `date`site_no xkey prev_win"
   ]
  },
  {
   "cell_type": "code",
   "execution_count": 15,
   "metadata": {},
   "outputs": [],
   "source": [
    "/save `window_prev.csv\n",
    "/system \"gsutil cp window_prev.csv gs://nasa_fdl_floods_2019/ml_data/window_prev.csv\""
   ]
  },
  {
   "cell_type": "markdown",
   "metadata": {},
   "source": [
    "Get the flood warning levels to match with the stream gages"
   ]
  },
  {
   "cell_type": "code",
   "execution_count": 16,
   "metadata": {},
   "outputs": [],
   "source": [
    "warnings:gp[`:read_file][\"data/national_shapefile_obs.shp\"]\n",
    "warnings:.ml.df2tab[warnings]"
   ]
  },
  {
   "cell_type": "code",
   "execution_count": 17,
   "metadata": {},
   "outputs": [],
   "source": [
    "/Some gages have no threshold values so had to delete them from dataset\n",
    "dela:first asc exec i by Action from warnings\n",
    "delmj:first 1_asc exec i by Major from warnings\n",
    "delmd:first 2_asc exec i by Moderate from warnings\n",
    "delfl:first 2_asc exec i by Flood from warnings\n",
    "\n",
    "warning:update nn: i from select from warnings where not i in distinct (dela,delmj,delmd,delfl)\n",
    "warning[`GaugeLID]:`$warning[`GaugeLID]"
   ]
  },
  {
   "cell_type": "code",
   "execution_count": 18,
   "metadata": {},
   "outputs": [],
   "source": [
    "tabw:.ml.clust.kd.buildtree[warnlatl:raze each warning[`Latitude`Longitude],'gages[`dec_lat_va`dec_long_v];2]\n",
    "\n",
    "nnwarn:.ml.clust.kd.i.nns[;tabw;(count[warning]#0),count[gages]#1;flip warnlatl;`edist\n",
    "    ]each count[warning]+til count gages\n",
    "joins:flip `nn`ndw`site_no!(nnwarn[;0];nnwarn[;1];gages[`site_no])\n",
    "\n",
    "floodlvl:(max_ht_str ij `site_no xkey joins) lj `nn xkey warning\n",
    "\n",
    "floodlvl[`Action`Moderate`Flood`Major]:\"F\"$'floodlvl[`Action`Moderate`Flood`Major]\n",
    "\n",
    "floodlvl[`site_no]:`${$[7=count x;\"0\",x;x]}each string each floodlvl[`site_no] /pad with 0 if len site=7"
   ]
  },
  {
   "cell_type": "code",
   "execution_count": 19,
   "metadata": {},
   "outputs": [],
   "source": [
    "/system\"gsutil cp gs://nasa_fdl_floods_2019/data/stream2009_2019/threshold_full.csv thresh_test.csv\""
   ]
  },
  {
   "cell_type": "markdown",
   "metadata": {},
   "source": [
    "Join the stream gage and warning levels by nearest neighbour"
   ]
  },
  {
   "cell_type": "code",
   "execution_count": 20,
   "metadata": {
    "scrolled": true
   },
   "outputs": [
    {
     "name": "stdout",
     "output_type": "stream",
     "text": [
      "site_no  date    Action Flood Moderate Major no_Action no_Flood no_Mod no_Major\n",
      "-------------------------------------------------------------------------------\n",
      "01200000 2009.07 6      9     10       12    0         0        0      0       \n",
      "01200000 2009.08 6      9     10       12    0         0        0      0       \n",
      "01200000 2009.09 6      9     10       12    0         0        0      0       \n",
      "01200000 2009.10 6      9     10       12    0         0        0      0       \n",
      "01200000 2009.11 6      9     10       12    0         0        0      0       \n",
      "01200000 2009.12 6      9     10       12    0         0        0      0       \n",
      "01200000 2010.01 6      9     10       12    0         0        0      0       \n",
      "01200000 2010.02 6      9     10       12    0         0        0      0       \n",
      "01200000 2010.03 6      9     10       12    1         0        0      0       \n",
      "01200000 2010.04 6      9     10       12    0         0        0      0       \n",
      "01200000 2010.05 6      9     10       12    0         0        0      0       \n",
      "01200000 2010.06 6      9     10       12    0         0        0      0       \n",
      "01200000 2010.07 6      9     10       12    0         0        0      0       \n",
      "01200000 2010.08 6      9     10       12    0         0        0      0       \n",
      "01200000 2010.09 6      9     10       12    0         0        0      0       \n",
      "01200000 2010.10 6      9     10       12    0         0        0      0       \n",
      "01200000 2010.11 6      9     10       12    0         0        0      0       \n",
      "01200000 2010.12 6      9     10       12    0         0        0      0       \n",
      "01200000 2011.01 6      9     10       12    0         0        0      0       \n",
      "01200000 2011.02 6      9     10       12    0         0        0      0       \n",
      "..\n"
     ]
    }
   ],
   "source": [
    "show threshold_full:0!select first Action,first Flood,first Moderate,first Major,no_Action:count where height>Action\n",
    " ,no_Flood:count where height>Flood,no_Mod:count where height>Moderate,no_Major:count where height>Major by site_no\n",
    "    ,\"m\"$date from floodlvl where ndw<.3"
   ]
  },
  {
   "cell_type": "code",
   "execution_count": 110,
   "metadata": {},
   "outputs": [],
   "source": [
    "/save `:threshold_full.csv"
   ]
  },
  {
   "cell_type": "markdown",
   "metadata": {},
   "source": [
    "### Load in other data sources"
   ]
  },
  {
   "cell_type": "code",
   "execution_count": 21,
   "metadata": {},
   "outputs": [],
   "source": [
    "nlcd06:(\"S\",(5#\"F\"),\"SFFSFSFFFFSFSSFSSFFFSFFSFF\";enlist \",\") 0:`:data/snap_sampled_imp_nlcd_2006.csv \n",
    "nlcd11:(\"S\",(5#\"F\"),\"SFFSFSFFFFSFSSFSSFFFSFFSFF\";enlist \",\") 0:`:data/snap_sampled_imp_nlcd_2011.csv \n",
    "nlcd16:(\"S\",(5#\"F\"),\"SFFSFSFFFFSFSSFSSFFFSFFSFF\";enlist \",\") 0:`:data/snap_sampled_imp_nlcd_2016.csv \n",
    "\n",
    "warnings:gp[`:read_file][\"data/national_shapefile_obs.shp\"]\n",
    "warnings:.ml.df2tab[warnings]\n",
    "\n",
    "gages:(\"SSSSFFSSIFFFFFFFFSSISSSSFF\";enlist \",\") 0:`:data/usgs_gage_subset.csv\n",
    "\n",
    "basin:(\"S\",242#\"F\";enlist \",\") 0:`:data/gages_with_basin_attr.csv"
   ]
  },
  {
   "cell_type": "markdown",
   "metadata": {},
   "source": [
    "### NLCD Dataset\n"
   ]
  },
  {
   "cell_type": "code",
   "execution_count": 22,
   "metadata": {},
   "outputs": [],
   "source": [
    "nlcd06:update site_no:`${$[7=count x;\"0\",x;x]}each string each site_no,year:6 from select\n",
    " site_no:SOURCE_FEA,INTPTLAT,INTPTLON,Measure,REACHCODE,distance,imp:imp_nlcd_2006 from nlcd06\n",
    "nlcd11:update site_no:`${$[7=count x;\"0\",x;x]}each string each site_no,year:11 from select\n",
    " site_no:SOURCE_FEA,INTPTLAT,INTPTLON,Measure,REACHCODE,distance,imp:imp_nlcd_2011 from nlcd11\n",
    "nlcd16:update site_no:`${$[7=count x;\"0\",x;x]}each string each site_no,year:16 from select\n",
    " site_no:SOURCE_FEA,INTPTLAT,INTPTLON,Measure,REACHCODE,distance,imp:imp_nlcd_2016 from nlcd16"
   ]
  },
  {
   "cell_type": "code",
   "execution_count": 107,
   "metadata": {},
   "outputs": [
    {
     "data": {
      "text/plain": [
       "imp      date   \n",
       "----------------\n",
       "5.121629 2009.08\n",
       "5.121629 2009.09\n",
       "5.121629 2009.10\n",
       "5.121629 2009.11\n",
       "5.121629 2009.12\n",
       "5.121629 2010.01\n",
       "5.121629 2010.02\n",
       "5.121629 2010.03\n",
       "5.121629 2010.04\n",
       "5.121629 2010.05\n",
       "5.121629 2010.06\n",
       "5.121629 2010.07\n",
       "5.121629 2010.08\n",
       "5.121629 2010.09\n",
       "5.121629 2010.10\n",
       "5.121629 2010.11\n",
       "5.121629 2010.12\n",
       "5.121629 2011.01\n",
       "5.121629 2011.02\n",
       "5.121629 2011.03\n",
       "..\n"
      ]
     },
     "execution_count": 107,
     "metadata": {},
     "output_type": "execute_result"
    }
   ],
   "source": [
    "select distinct imp,date from tst where site_no=`01411500"
   ]
  },
  {
   "cell_type": "code",
   "execution_count": 108,
   "metadata": {},
   "outputs": [
    {
     "data": {
      "text/plain": [
       "site_no  INTPTLAT INTPTLON Measure  REACHCODE    distance imp       year\n",
       "------------------------------------------------------------------------\n",
       "01411500 40.10727 -74.6652 40.78628 2.040206e+12 30       5.121629  6   \n",
       "01412800 40.10727 -74.6652 21.03516 2.040206e+12 0        1.583594  6   \n",
       "01410500 40.10727 -74.6652 63.71792 2.040302e+12 0        12.98176  6   \n",
       "01463740 40.10727 -74.6652 2.90186  2.040105e+12 0        14.77226  6   \n",
       "01464000 40.10727 -74.6652 63.06782 2.040105e+12 0        14.55262  6   \n",
       "01466500 40.10727 -74.6652 0.45271  2.040202e+12 0        1.053209  6   \n",
       "01467081 40.10727 -74.6652 2.44377  2.040202e+12 0        34.54014  6   \n",
       "01467150 40.10727 -74.6652 63.54227 2.040202e+12 0        22.37368  6   \n",
       "01463620 40.10727 -74.6652 76.86105 2.040105e+12 0        3.096087  6   \n",
       "01465850 40.10727 -74.6652 73.74556 2.040202e+12 0        1.713827  6   \n",
       "01408120 40.10727 -74.6652 95.02672 2.040301e+12 0        11.04988  6   \n",
       "01408050 40.10727 -74.6652 57.17401 2.040301e+12 0        10.75417  6   \n",
       "01411300 40.10727 -74.6652 26.89517 2.040302e+12 30       0.4101296 6   \n",
       "01408750 40.10727 -74.6652 68.81836 2.040301e+12 108.1665 86.53715  6   \n",
       "01407705 40.10727 -74.6652 76.80035 2.040301e+12 0        9.278585  6   \n",
       "01403060 40.10727 -74.6652 68.90423 2.030105e+12 0        32.61084  6   \n",
       "01467000 40.10727 -74.6652 53.44477 2.040202e+12 0        2.925333  6   \n",
       "01409280 40.10727 -74.6652 95.43193 2.040301e+12 0        0.6740644 6   \n",
       "01397420 40.10727 -74.6652 6.99503  2.030105e+12 0        3.781225  6   \n",
       "01408000 40.10727 -74.6652 27.65197 2.040301e+12 0        10.45247  6   \n",
       "..\n"
      ]
     },
     "execution_count": 108,
     "metadata": {},
     "output_type": "execute_result"
    },
    {
     "data": {
      "text/plain": [
       "site_no  INTPTLAT INTPTLON Measure  REACHCODE    distance imp       year\n",
       "------------------------------------------------------------------------\n",
       "01411500 40.10727 -74.6652 40.78628 2.040206e+12 30       5.35825   11  \n",
       "01412800 40.10727 -74.6652 21.03516 2.040206e+12 0        1.638449  11  \n",
       "01410500 40.10727 -74.6652 63.71792 2.040302e+12 0        13.34435  11  \n",
       "01463740 40.10727 -74.6652 2.90186  2.040105e+12 0        15.31322  11  \n",
       "01464000 40.10727 -74.6652 63.06782 2.040105e+12 0        15.00633  11  \n",
       "01466500 40.10727 -74.6652 0.45271  2.040202e+12 0        1.053209  11  \n",
       "01467081 40.10727 -74.6652 2.44377  2.040202e+12 0        35.2671   11  \n",
       "01467150 40.10727 -74.6652 63.54227 2.040202e+12 0        22.84664  11  \n",
       "01463620 40.10727 -74.6652 76.86105 2.040105e+12 0        3.291806  11  \n",
       "01465850 40.10727 -74.6652 73.74556 2.040202e+12 0        1.751037  11  \n",
       "01408120 40.10727 -74.6652 95.02672 2.040301e+12 0        11.64722  11  \n",
       "01408050 40.10727 -74.6652 57.17401 2.040301e+12 0        11.36428  11  \n",
       "01411300 40.10727 -74.6652 26.89517 2.040302e+12 30       0.4139343 11  \n",
       "01408750 40.10727 -74.6652 68.81836 2.040301e+12 108.1665 86.53715  11  \n",
       "01407705 40.10727 -74.6652 76.80035 2.040301e+12 0        10.30743  11  \n",
       "01403060 40.10727 -74.6652 68.90423 2.030105e+12 0        34.64751  11  \n",
       "01467000 40.10727 -74.6652 53.44477 2.040202e+12 0        3.002647  11  \n",
       "01409280 40.10727 -74.6652 95.43193 2.040301e+12 0        0.6946753 11  \n",
       "01397420 40.10727 -74.6652 6.99503  2.030105e+12 0        3.941275  11  \n",
       "01408000 40.10727 -74.6652 27.65197 2.040301e+12 0        11.24608  11  \n",
       "..\n"
      ]
     },
     "execution_count": 108,
     "metadata": {},
     "output_type": "execute_result"
    }
   ],
   "source": [
    "(select from nlcd06 where site_no in max_ht_str[`site_no])\n",
    "select from nlcd11 where site_no in max_ht_str[`site_no]"
   ]
  },
  {
   "cell_type": "code",
   "execution_count": 111,
   "metadata": {},
   "outputs": [],
   "source": [
    "stryear:{$[x<2011;6;x<2016;11;16]}each `year$window_prev[`date]\n",
    "\n",
    "merged:update year:stryear from window_prev\n",
    "\n",
    "joinedtab:merged ij `site_no`year xkey (nlcd06,nlcd11,nlcd16)"
   ]
  },
  {
   "cell_type": "markdown",
   "metadata": {},
   "source": [
    "### Basin Characteristics"
   ]
  },
  {
   "cell_type": "markdown",
   "metadata": {},
   "source": [
    "Take out columns that depend on the date like 09,10,11. Link it with previous table"
   ]
  },
  {
   "cell_type": "code",
   "execution_count": 112,
   "metadata": {},
   "outputs": [],
   "source": [
    "cols09:where (count each ss[;\"2006\"]each string each cols basin)<>0\n",
    "cols10:where (count each ss[;\"2010\"]each string each cols basin)<>0\n",
    "cols11:where (count each ss[;\"2011\"]each string each cols basin)<>0"
   ]
  },
  {
   "cell_type": "code",
   "execution_count": 113,
   "metadata": {},
   "outputs": [
    {
     "name": "stdout",
     "output_type": "stream",
     "text": [
      "site_no  long     lat     elv  date    prev1 prev2 prev3 prev4 prev5 prev6 pr..\n",
      "-----------------------------------------------------------------------------..\n",
      "01367800 -74.6753 41.1628 512  2009.08 0.13  0.27  0     0.03  0.44  0.97  0 ..\n",
      "01377000 -73.9892 40.9992 52   2009.08 0.14  0.76  0.05  0     0.36  0.06  0...\n",
      "01377370 -74.0392 41.0367 240  2009.08 0.08  0.64  0.23  0     0.29  0.06  0...\n",
      "01377500 -74.0211 40.9928 85   2009.08 0.14  0.71  0.09  0     0.38  0.09  0...\n",
      "01378500 -74.0267 40.9483 79   2009.08 0.18  0.91  0.02  0     0.36  0.09  0...\n",
      "01379000 -74.5289 40.68   266  2009.08 0.19  0.82  0.11  0.08  1.4   0.17  0 ..\n",
      "01379500 -74.3897 40.7261 341  2009.08 0.19  1.02  0.1   0.01  1.61  0.11  0...\n",
      "01379773 -74.5397 40.96   925  2009.08 0.3   0.76  0.25  0     0.26  0.1   0 ..\n",
      "01379780 -74.5572 40.9494 925  2009.08 0.3   0.76  0.25  0     0.26  0.1   0 ..\n",
      "01379868 -74.5333 40.8731 650  2009.08 0.05  0.74  0.01  0     0.24  0.07  0 ..\n",
      "01380500 -74.4097 40.9028 587  2009.08 0.4   0.65  0.11  0     0.46  0.04  0 ..\n",
      "01381000 -74.3947 40.8969 338  2009.08 0.49  0.73  0.14  0     0.46  0.06  0 ..\n",
      "01381400 -74.5119 40.8122 440  2009.08 0.2   0.91  0.04  0.01  0.47  0.1   0 ..\n",
      "01381500 -74.4569 40.8072 335  2009.08 0.19  0.9   0.05  0.03  0.59  0.1   0 ..\n",
      "01381800 -74.3472 40.845  177  2009.08 0.18  0.87  0.04  0     0.84  0.15  0 ..\n",
      "01381900 -74.3217 40.8625 190  2009.08 0.31  0.83  0.04  0     0.64  0.13  0 ..\n",
      "01382170 -74.4897 41.0778 1063 2009.08 0.3   0.73  0.14  0     0.24  0.21  0 ..\n",
      "01382500 -74.4011 41.0183 883  2009.08 0.34  0.6   0.24  0     0.26  0.12  0 ..\n",
      "01383000 -74.3333 41.1617 728  2009.08 0.05  0.67  0.19  0     0.34  0.21  0 ..\n",
      "01383500 -74.3336 41.1603 728  2009.08 0.05  0.67  0.19  0     0.34  0.21  0 ..\n",
      "..\n"
     ]
    }
   ],
   "source": [
    "constcols:(til count[cols basin]) except raze \n",
    "    {where (count each ss[;x]each string each cols basin)<>0}each (\"2009\";\"2010\";\"2011\")\n",
    "\n",
    "basinupd:flip (cols basin)[constcols]!basin[(cols basin)[constcols]]\n",
    "\n",
    "show newjoinedtab:joinedtab ij `site_no xkey basinupd"
   ]
  },
  {
   "cell_type": "markdown",
   "metadata": {},
   "source": [
    "Join the target data to the dataset"
   ]
  },
  {
   "cell_type": "code",
   "execution_count": 114,
   "metadata": {},
   "outputs": [
    {
     "name": "stdout",
     "output_type": "stream",
     "text": [
      "site_no  long     lat     elv  date    prev1 prev2 prev3 prev4 prev5 prev6 pr..\n",
      "-----------------------------------------------------------------------------..\n",
      "01367800 -74.6753 41.1628 512  2009.08 0.13  0.27  0     0.03  0.44  0.97  0 ..\n",
      "01377000 -73.9892 40.9992 52   2009.08 0.14  0.76  0.05  0     0.36  0.06  0...\n",
      "01377370 -74.0392 41.0367 240  2009.08 0.08  0.64  0.23  0     0.29  0.06  0...\n",
      "01377500 -74.0211 40.9928 85   2009.08 0.14  0.71  0.09  0     0.38  0.09  0...\n",
      "01378500 -74.0267 40.9483 79   2009.08 0.18  0.91  0.02  0     0.36  0.09  0...\n",
      "01379000 -74.5289 40.68   266  2009.08 0.19  0.82  0.11  0.08  1.4   0.17  0 ..\n",
      "01379500 -74.3897 40.7261 341  2009.08 0.19  1.02  0.1   0.01  1.61  0.11  0...\n",
      "01379773 -74.5397 40.96   925  2009.08 0.3   0.76  0.25  0     0.26  0.1   0 ..\n",
      "01379780 -74.5572 40.9494 925  2009.08 0.3   0.76  0.25  0     0.26  0.1   0 ..\n",
      "01379868 -74.5333 40.8731 650  2009.08 0.05  0.74  0.01  0     0.24  0.07  0 ..\n",
      "01380500 -74.4097 40.9028 587  2009.08 0.4   0.65  0.11  0     0.46  0.04  0 ..\n",
      "01381000 -74.3947 40.8969 338  2009.08 0.49  0.73  0.14  0     0.46  0.06  0 ..\n",
      "01381400 -74.5119 40.8122 440  2009.08 0.2   0.91  0.04  0.01  0.47  0.1   0 ..\n",
      "01381500 -74.4569 40.8072 335  2009.08 0.19  0.9   0.05  0.03  0.59  0.1   0 ..\n",
      "01381800 -74.3472 40.845  177  2009.08 0.18  0.87  0.04  0     0.84  0.15  0 ..\n",
      "01381900 -74.3217 40.8625 190  2009.08 0.31  0.83  0.04  0     0.64  0.13  0 ..\n",
      "01382170 -74.4897 41.0778 1063 2009.08 0.3   0.73  0.14  0     0.24  0.21  0 ..\n",
      "01382500 -74.4011 41.0183 883  2009.08 0.34  0.6   0.24  0     0.26  0.12  0 ..\n",
      "01383000 -74.3333 41.1617 728  2009.08 0.05  0.67  0.19  0     0.34  0.21  0 ..\n",
      "01383500 -74.3336 41.1603 728  2009.08 0.05  0.67  0.19  0     0.34  0.21  0 ..\n",
      "..\n"
     ]
    }
   ],
   "source": [
    "show data_flood:newjoinedtab ij `site_no`date xkey threshold_full"
   ]
  },
  {
   "cell_type": "code",
   "execution_count": 115,
   "metadata": {},
   "outputs": [],
   "source": [
    "data_flood_filter:delete from data_flood where no_Flood>26\n",
    "data_flood_filter:update month:`mm$date,cos_t:cos 2*3.14*(`mm$date)%12,sin_t:\n",
    "    sin 2*3.14*(`mm$date)%12 from data_flood_filter"
   ]
  },
  {
   "cell_type": "code",
   "execution_count": 116,
   "metadata": {},
   "outputs": [],
   "source": [
    "cols_to_include:\n",
    "    `cos_t`sin_t,\n",
    "    `elv`imp`CatAreaSqKm`WsAreaSqKm`CatAreaSqKmRp100`WsAreaSqKmRp100,\n",
    "    `ElevCat`ElevWs`WtDepCat`WtDepWs`OmCat`OmWs`PermCat`PermWs`RckDepCat`RckDepWs`ClayCat`ClayWs,\n",
    "    `SandCat`SandWs`RunoffCat`RunoffWs`WetIndexCat`WetIndexWs`BFICat`BFIWs,\n",
    "    `Action`Flood`Moderate`Major`prev1`prev2`prev3`prev4`prev5`prev6`prev7`prev8,\n",
    "    `prev9`prev10`prev11`prev12`prev13`prev14`prev15`avgppt`prev_h_1`prev_h_2`prev_h_3`prev_h_4`prev_h_5,\n",
    "    `prev_h_6`prev_h_7`prev_h_8`prev_h_9`prev_h_10`prev_h_11`prev_h_12`prev_h_13`prev_h_14`prev_h_15,\n",
    "    `window_2`window_3`window_4`window_5`window_6`window_7`window_8`window_9`window_10`window_11`window_12,\n",
    "    `window_13`window_14`window_15`window_16`window_17`window_18`window_19`window_20`window_21,\n",
    "    `window_22`window_23`window_24`window_25`window_26`window_27`window_28`window_29`window_30`window_31,\n",
    "    `window_2_prev`window_3_prev`window_4_prev`window_5_prev`window_6_prev`window_7_prev`window_8_prev,\n",
    "    `window_9_prev`window_10_prev`window_11_prev`window_12_prev`window_13_prev`window_14_prev`window_15_prev,\n",
    "    `window_16_prev`window_17_prev`window_18_prev`window_19_prev`window_20_prev`window_21_prev`window_22_prev,\n",
    "    `window_23_prev`window_24_prev`window_25_prev`window_26_prev`window_27_prev`window_28_prev`window_29_prev,\n",
    "    `window_30_prev`window_31_prev"
   ]
  },
  {
   "cell_type": "code",
   "execution_count": 117,
   "metadata": {},
   "outputs": [],
   "source": [
    "data_flood_filter:delete from data_flood_filter where i in where any each null data_flood_filter"
   ]
  },
  {
   "cell_type": "code",
   "execution_count": 140,
   "metadata": {},
   "outputs": [],
   "source": [
    "target:(data_flood_filter[`no_Flood]>0)"
   ]
  },
  {
   "cell_type": "code",
   "execution_count": 141,
   "metadata": {},
   "outputs": [],
   "source": [
    "tr_tst_split:.p.import[`sklearn.model_selection]`:train_test_split\n",
    "tts:tr_tst_split[flip data_flood_filter[cols_to_include]; target; \n",
    "    `test_size pykw 0.2;`random_state pykw 412;`shuffle pykw 1b; `stratify pykw target]`;\n",
    "\n",
    "\n",
    "tvs:tr_tst_split[tts[0]; tts[2]; `test_size pykw 0.25;`random_state pykw 412;`shuffle pykw 1b; `stratify pykw tts[2]]`; /                                                 test_size=0.25, random_state=412, shuffle=True, stratify=ytrain)data_flood_filter"
   ]
  },
  {
   "cell_type": "code",
   "execution_count": 142,
   "metadata": {},
   "outputs": [],
   "source": [
    "Xtrain:tvs[0]\n",
    "Xval:tvs[1]\n",
    "ytrain:tvs[2]\n",
    "yval:tvs[3]\n",
    "Xtest:tts[1]\n",
    "ytest:tts[3]"
   ]
  },
  {
   "cell_type": "code",
   "execution_count": null,
   "metadata": {},
   "outputs": [],
   "source": [
    "xtr:(Xtrain)[(til count[Xtrain]) except where 0<>{count where x=0n}each Xtrain]\n",
    "ytr:ytrain[(til count[Xtrain]) except where 0<>{count where x=0n}each Xtrain]\n",
    "xval:(Xval)[(til count[Xval]) except where 0<>{count where x=0n}each Xval]\n",
    "yval:yval[(til count[Xval]) except where 0<>{count where x=0n}each Xval]\n",
    "xtest:(Xtest)[(til count[Xtest]) except where 0<>{count where x=0n}each Xtest]\n",
    "ytest:ytest[(til count[Xtest]) except where 0<>{count where x=0n}each Xtest]\n",
    "\n",
    "xtr:(xtr)[(til count[xtr]) except where 0<>{count where x=neg 0w}each xtr]\n",
    "ytr:ytr[(til count[xtr]) except where 0<>{count where x=neg 0w}each xtr]\n",
    "xval:(xval)[(til count[xval]) except where 0<>{count where x=neg 0w}each xval]\n",
    "yval:yval[(til count[xval]) except where 0<>{count where x=neg 0w}each xval]\n",
    "xtest:(xtest)[(til count[xtest]) except where 0<>{count where x=neg 0w}each xtest]\n",
    "ytest:ytest[(til count[xtest]) except where 0<>{count where x=neg 0w}each xtest]"
   ]
  },
  {
   "cell_type": "code",
   "execution_count": 143,
   "metadata": {},
   "outputs": [],
   "source": [
    "clf:.p.import[`sklearn.ensemble][`:RandomForestClassifier][`n_estimators pykw 200;`random_state pykw 0]\n",
    "clf[`:fit][Xtrain;ytrain]`;\n",
    "pred1:clf[`:predict][Xval]`"
   ]
  },
  {
   "cell_type": "code",
   "execution_count": 144,
   "metadata": {},
   "outputs": [
    {
     "data": {
      "text/plain": [
       "class    | precision recall    f1_score  support\n",
       "---------| -------------------------------------\n",
       "0        | 0.9974284 0.9602245 0.9784729 12118  \n",
       "1        | 0.3133903 0.88      0.4621849 250    \n",
       "avg/total| 0.6554094 0.9201122 0.7203289 12368  \n"
      ]
     },
     "execution_count": 144,
     "metadata": {},
     "output_type": "execute_result"
    }
   ],
   "source": [
    ".ml.classreport[yval;pred1]"
   ]
  },
  {
   "cell_type": "code",
   "execution_count": 145,
   "metadata": {},
   "outputs": [
    {
     "name": "stdout",
     "output_type": "stream",
     "text": [
      "0| 11636 482\n",
      "1| 30    220\n",
      "The accuracy of the model is 0.9586028\n",
      "The mean_class_accuracy of the model is 0.9201122\n"
     ]
    },
    {
     "data": {
      "image/png": "[encoded data removed]",
      "text/plain": [
       "<Figure size 720x720 with 1 Axes>"
      ]
     },
     "metadata": {},
     "output_type": "display_data"
    }
   ],
   "source": [
    "\\l ../fdl2019/ml/fresh/notebooks/graphics.q\n",
    "show cnfM:.ml.confmat[yval;pred1]\n",
    "conf:.ml.confdict[yval;pred1;1b]\n",
    "\n",
    "acc:(count where pred1=yval)%count[yval]\n",
    "meanclassavg:avg (conf[`tp]%(sum conf[`tp`fn]);conf[`tn]%(sum conf[`tn`fp]))\n",
    "\n",
    "-1\"The accuracy of the model is \",string acc;\n",
    "-1\"The mean_class_accuracy of the model is \",string meanclassavg;\n",
    ".ml.displayCM[value cnfM;`Low`High;\"Test Set Confusion Matrix\";()]"
   ]
  },
  {
   "cell_type": "code",
   "execution_count": null,
   "metadata": {},
   "outputs": [],
   "source": []
  }
 ],
 "metadata": {
  "kernelspec": {
   "display_name": "Q (kdb+)",
   "language": "q",
   "name": "qpk"
  },
  "language_info": {
   "file_extension": ".q",
   "mimetype": "text/x-q",
   "name": "q",
   "version": "3.6.0"
  }
 },
 "nbformat": 4,
 "nbformat_minor": 2
}
