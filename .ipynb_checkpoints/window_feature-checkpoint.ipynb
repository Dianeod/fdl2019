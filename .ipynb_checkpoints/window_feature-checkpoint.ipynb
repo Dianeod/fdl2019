{
 "cells": [
  {
   "cell_type": "markdown",
   "metadata": {},
   "source": [
    "# Downloading Stream and Rain Gages"
   ]
  },
  {
   "cell_type": "markdown",
   "metadata": {},
   "source": [
    "Info on how to use pyQ can be found at https://code.kx.com/v2/interfaces/pyq/user-guide/. And extra info on how to run queries can be found at https://code.kx.com/q4m3/9_Queries_q-sql/."
   ]
  },
  {
   "cell_type": "code",
   "execution_count": 5,
   "metadata": {},
   "outputs": [],
   "source": [
    "gp:.p.import[`geopandas]\n",
    "\n",
    "gages:(\"SSSSFFSSIFFFFFFFFSSISSSSFF\";enlist \",\") 0:`:data/usgs_gage_subset.csv\n",
    "gages[`site_no]:`${$[7=count x;\"0\",x;x]}each string each gages[`site_no]\n",
    "\n",
    "\n",
    "\\l ml/ml.q \n",
    "\\l ml/init.q\n",
    "\\l gagesdir/gagesdir"
   ]
  },
  {
   "cell_type": "markdown",
   "metadata": {},
   "source": [
    "Get the max gage height per stream gage per day"
   ]
  },
  {
   "cell_type": "code",
   "execution_count": 6,
   "metadata": {},
   "outputs": [],
   "source": [
    "show max_ht_str:0!select max height by site_no,date from str\n",
    "max_ht_str[`site_no]:`${$[7=count x;\"0\",x;x]}each max_ht_str[`site_no]"
   ]
  },
  {
   "cell_type": "code",
   "execution_count": 10,
   "metadata": {},
   "outputs": [],
   "source": [
    "max_ht_str:(\"SDF\";enlist \",\") 0:`:../maxht.csv"
   ]
  },
  {
   "cell_type": "markdown",
   "metadata": {},
   "source": [
    "Save down as a csv"
   ]
  },
  {
   "cell_type": "code",
   "execution_count": null,
   "metadata": {},
   "outputs": [],
   "source": [
    "save `:max_ht_str"
   ]
  },
  {
   "cell_type": "code",
   "execution_count": null,
   "metadata": {},
   "outputs": [],
   "source": [
    "\\cd ../../"
   ]
  },
  {
   "cell_type": "markdown",
   "metadata": {},
   "source": [
    "Upload the precipitation data from the prism folder"
   ]
  },
  {
   "cell_type": "code",
   "execution_count": 13,
   "metadata": {},
   "outputs": [
    {
     "name": "stdout",
     "output_type": "stream",
     "text": [
      "site_no long     lat     elv  date       ppt \n",
      "---------------------------------------------\n",
      "1367690 -74.5596 41.1053 1056 2019.01.01 0.94\n",
      "1367690 -74.5596 41.1053 1056 2019.01.02 0   \n",
      "1367690 -74.5596 41.1053 1056 2019.01.03 0   \n",
      "1367690 -74.5596 41.1053 1056 2019.01.04 0   \n",
      "1367690 -74.5596 41.1053 1056 2019.01.05 0.38\n",
      "1367690 -74.5596 41.1053 1056 2019.01.06 0.79\n",
      "1367690 -74.5596 41.1053 1056 2019.01.07 0   \n",
      "1367690 -74.5596 41.1053 1056 2019.01.08 0.02\n",
      "1367690 -74.5596 41.1053 1056 2019.01.09 0.15\n",
      "1367690 -74.5596 41.1053 1056 2019.01.10 0   \n",
      "1367690 -74.5596 41.1053 1056 2019.01.11 0   \n",
      "1367690 -74.5596 41.1053 1056 2019.01.12 0   \n",
      "1367690 -74.5596 41.1053 1056 2019.01.13 0   \n",
      "1367690 -74.5596 41.1053 1056 2019.01.14 0   \n",
      "1367690 -74.5596 41.1053 1056 2019.01.15 0   \n",
      "1367690 -74.5596 41.1053 1056 2019.01.16 0   \n",
      "1367690 -74.5596 41.1053 1056 2019.01.17 0   \n",
      "1367690 -74.5596 41.1053 1056 2019.01.18 0.06\n",
      "1367690 -74.5596 41.1053 1056 2019.01.19 0   \n",
      "1367690 -74.5596 41.1053 1056 2019.01.20 1.02\n",
      "..\n"
     ]
    }
   ],
   "source": [
    "show precipall:raze {flip `site_no`long`lat`elv`date`ppt!flip value each 10_(\"SFFFDF\";enlist \",\")0: \n",
    "    hsym `$\"data/prism/\",string[x]} each key `:data/prism\n",
    "\n",
    "precipall:`date xasc delete from precipall where site_no=`\n",
    "precipall[`site_no]:`${$[7=count x;\"0\",x;x]}each string each precipall[`site_no]\n"
   ]
  },
  {
   "cell_type": "code",
   "execution_count": 14,
   "metadata": {},
   "outputs": [],
   "source": [
    "max_ht_str_prev:update prev_h_1:prev height,prev_h_2:2 xprev height,prev_h_3:3 xprev height,\n",
    " prev_h_4:4 xprev height,prev_h_5:5 xprev height,prev_h_6:6 xprev height,\n",
    " prev_h_7:7 xprev height,prev_h_8:8 xprev height,prev_h_9: 9 xprev height,\n",
    " prev_h_10:10 xprev height,prev_h_11:11 xprev height,prev_h_12:12 xprev height,\n",
    " prev_h_13:13 xprev height,prev_h_14:14 xprev height,\n",
    " prev_h_15:15 xprev height,avgppt:30 mavg height by site_no from max_ht_str"
   ]
  },
  {
   "cell_type": "code",
   "execution_count": 15,
   "metadata": {},
   "outputs": [
    {
     "name": "stdout",
     "output_type": "stream",
     "text": [
      "site_no  date       height prev_h_1 prev_h_2 prev_h_3 prev_h_4 prev_h_5 prev_..\n",
      "-----------------------------------------------------------------------------..\n",
      "01200000 2009.07.01 2.76                                                     ..\n",
      "01200000 2009.08.01 4.03   3.8      2.94     2.75     3.22     3.42     3.09 ..\n",
      "01200000 2009.09.01 1.66   1.82     2.2      2.26     1.56     1.6      1.64 ..\n",
      "01200000 2009.10.01 1.2    1.29     1.52     1.5      1.23     1.01     1.04 ..\n",
      "01200000 2009.11.01 2      2.04     2.33     2.67     2.51     1.86     2.22 ..\n",
      "01200000 2009.12.01 1.78   1.71     1.72     1.73     1.76     1.79     1.81 ..\n",
      "01200000 2010.02.01 2.7    2.8      2.99     3.3      3.73     4.54     5.3  ..\n",
      "01200000 2010.03.01 3.76   4.35     5.73     5.98     5.27     2.51     1.88 ..\n",
      "01200000 2010.04.01 5.58   6.17     5.67     4.51     3.32     3.64     3.69 ..\n",
      "01200000 2010.05.01 1.86   1.96     2.09     2.29     2.37     2.13     2.01 ..\n",
      "01200000 2010.06.01 1.24   1.22     1.24     1.23     1.25     1.31     1.37 ..\n",
      "01200000 2010.07.01 0.88   0.91     0.92     0.95     0.99     1.04     1.07 ..\n",
      "01200000 2010.08.01 0.74   0.76     0.79     0.82     0.88     0.96     1.07 ..\n",
      "01200000 2010.09.01 0.79   0.83     0.88     0.95     1.05     1.18     1.25 ..\n",
      "01200000 2010.10.01 4.5    1.5      0.74     0.67     0.63     0.58     0.58 ..\n",
      "01200000 2010.11.01 1.59   1.63     1.71     1.85     2.23     2.16     1.34 ..\n",
      "01200000 2010.12.01 3.87   1.8      1.78     1.83     1.92     1.91     1.81 ..\n",
      "01200000 2011.01.01 1.91   2.05     2.14     2.1      2.2      1.84     2    ..\n",
      "01200000 2011.02.01 1.88   2.15     1.92     1.95     2.33     2.1      2.39 ..\n",
      "01200000 2011.03.01 3.82   3.75     3.22     3.39     3.35     2.29     2.35 ..\n",
      "..\n"
     ]
    }
   ],
   "source": [
    "show max_ht_str_prev_month:select from max_ht_str_prev where 1=`dd$date"
   ]
  },
  {
   "cell_type": "code",
   "execution_count": 267,
   "metadata": {},
   "outputs": [
    {
     "data": {
      "text/plain": [
       "`:precipall.csv\n"
      ]
     },
     "execution_count": 267,
     "metadata": {},
     "output_type": "execute_result"
    },
    {
     "name": "stderr",
     "output_type": "stream",
     "text": [
      "Copying file://precipall.csv [Content-Type=text/csv]...\n",
      "==> NOTE: You are uploading one or more large file(s), which would run          \n",
      "significantly faster if you enable parallel composite uploads. This\n",
      "feature can be enabled by editing the\n",
      "\"parallel_composite_upload_threshold\" value in your .boto\n",
      "configuration file. However, note that if you do this large files will\n",
      "be uploaded as `composite objects\n",
      "<https://cloud.google.com/storage/docs/composite-objects>`_,which\n",
      "means that any user who downloads such objects will need to have a\n",
      "compiled crcmod installed (see \"gsutil help crcmod\"). This is because\n",
      "without a compiled crcmod, computing checksums on composite objects is\n",
      "so slow that gsutil disables downloads of composite objects.\n",
      "\n",
      "| [1 files][184.8 MiB/184.8 MiB]                                                \n",
      "Operation completed over 1 objects/184.8 MiB.                                    \n"
     ]
    },
    {
     "data": {
      "text/plain": []
     },
     "execution_count": 267,
     "metadata": {},
     "output_type": "execute_result"
    }
   ],
   "source": [
    "save `:precipall.csv\n",
    "system\"gsutil cp precipall.csv gs://nasa_fdl_floods_2019/data/rain_data/precipall.csv\""
   ]
  },
  {
   "cell_type": "markdown",
   "metadata": {},
   "source": [
    "Some site_no's have the last few digits excluded from the prism dataset (problem with the prism download side)"
   ]
  },
  {
   "cell_type": "code",
   "execution_count": 16,
   "metadata": {},
   "outputs": [
    {
     "data": {
      "text/plain": [
       "`precipall`precipall`precipall`precipall`precipall`precipall`precipall`precip..\n"
      ]
     },
     "execution_count": 16,
     "metadata": {},
     "output_type": "execute_result"
    },
    {
     "data": {
      "text/plain": [
       "`precipall`precipall\n"
      ]
     },
     "execution_count": 16,
     "metadata": {},
     "output_type": "execute_result"
    }
   ],
   "source": [
    "rms:asc ds where 12<count each string each ds:exec distinct site_no from gages \n",
    "names:0!select i by site_no from precipall where site_no in `$12#'string each rms\n",
    "\n",
    "{![`precipall;enlist (in;`i;y);0b;(enlist `site_no)!enlist enlist x]}'[rms[til[20],22 23 24 25];\n",
    "    names[`x][til[20],21 22 23 24]]\n",
    "\n",
    "matchnames:0!select i by lat,long from precipall where i in names[`x][20]\n",
    "\n",
    "{![`precipall;enlist (in;`i;y);0b;(enlist `site_no)!enlist enlist x]}'[rms[21 20];matchnames[`x]]\n"
   ]
  },
  {
   "cell_type": "code",
   "execution_count": 164,
   "metadata": {},
   "outputs": [
    {
     "name": "stdout",
     "output_type": "stream",
     "text": [
      "site_no  long     lat     elv  date       ppt  prev1 prev2 prev3 prev4 prev5 ..\n",
      "-----------------------------------------------------------------------------..\n",
      "01367690 -74.5596 41.1053 1056 2009.07.01 0.46                               ..\n",
      "01367715 -74.5786 41.1333 617  2009.07.01 0.62                               ..\n",
      "01367800 -74.6753 41.1628 512  2009.07.01 0.54                               ..\n",
      "01367805 -74.6566 41.17   512  2009.07.01 0.54                               ..\n",
      "01377000 -73.9892 40.9992 52   2009.07.01 0.47                               ..\n",
      "01377370 -74.0392 41.0367 240  2009.07.01 0.43                               ..\n",
      "01377451 -74.0481 41.0119 85   2009.07.01 0.5                                ..\n",
      "01377500 -74.0211 40.9928 85   2009.07.01 0.5                                ..\n",
      "01378500 -74.0267 40.9483 79   2009.07.01 0.68                               ..\n",
      "01379000 -74.5289 40.68   266  2009.07.01 0.16                               ..\n",
      "01379500 -74.3897 40.7261 341  2009.07.01 0.2                                ..\n",
      "01379530 -74.3536 40.7444 262  2009.07.01 0.31                               ..\n",
      "01379699 -74.5914 40.9342 725  2009.07.01 0.14                               ..\n",
      "01379773 -74.5397 40.96   925  2009.07.01 0.14                               ..\n",
      "01379780 -74.5572 40.9494 925  2009.07.01 0.14                               ..\n",
      "01379845 -74.56   40.8861 650  2009.07.01 0.15                               ..\n",
      "01379868 -74.5333 40.8731 650  2009.07.01 0.15                               ..\n",
      "01380000 -74.46   40.9631 827  2009.07.01 0.19                               ..\n",
      "01380100 -74.5014 40.9022 627  2009.07.01 0.15                               ..\n",
      "01380450 -74.4192 40.9075 587  2009.07.01 0.36                               ..\n",
      "..\n"
     ]
    }
   ],
   "source": [
    "show precipall_prev:update prev1:prev ppt,prev2:2 xprev ppt,prev3:3 xprev ppt,\n",
    " prev4:4 xprev ppt,prev5:5 xprev ppt,prev6:6 xprev ppt,\n",
    " prev7:7 xprev ppt,prev8:8 xprev ppt,prev9: 9 xprev ppt,\n",
    " prev10:10 xprev ppt,prev11:11 xprev ppt,prev12:12 xprev ppt,prev13:13 xprev ppt,prev14:14 xprev ppt,\n",
    " prev15:15 xprev ppt,avgppt:30 mavg ppt by site_no from precipall"
   ]
  },
  {
   "cell_type": "code",
   "execution_count": 170,
   "metadata": {},
   "outputs": [
    {
     "name": "stdout",
     "output_type": "stream",
     "text": [
      "site_no  long     lat     elv  date       ppt  prev1 prev2 prev3 prev4 prev5 ..\n",
      "-----------------------------------------------------------------------------..\n",
      "01367690 -74.5596 41.1053 1056 2009.07.01 0.46                               ..\n",
      "01367715 -74.5786 41.1333 617  2009.07.01 0.62                               ..\n",
      "01367800 -74.6753 41.1628 512  2009.07.01 0.54                               ..\n",
      "01367805 -74.6566 41.17   512  2009.07.01 0.54                               ..\n",
      "01377000 -73.9892 40.9992 52   2009.07.01 0.47                               ..\n",
      "01377370 -74.0392 41.0367 240  2009.07.01 0.43                               ..\n",
      "01377451 -74.0481 41.0119 85   2009.07.01 0.5                                ..\n",
      "01377500 -74.0211 40.9928 85   2009.07.01 0.5                                ..\n",
      "01378500 -74.0267 40.9483 79   2009.07.01 0.68                               ..\n",
      "01379000 -74.5289 40.68   266  2009.07.01 0.16                               ..\n",
      "01379500 -74.3897 40.7261 341  2009.07.01 0.2                                ..\n",
      "01379530 -74.3536 40.7444 262  2009.07.01 0.31                               ..\n",
      "01379699 -74.5914 40.9342 725  2009.07.01 0.14                               ..\n",
      "01379773 -74.5397 40.96   925  2009.07.01 0.14                               ..\n",
      "01379780 -74.5572 40.9494 925  2009.07.01 0.14                               ..\n",
      "01379845 -74.56   40.8861 650  2009.07.01 0.15                               ..\n",
      "01379868 -74.5333 40.8731 650  2009.07.01 0.15                               ..\n",
      "01380000 -74.46   40.9631 827  2009.07.01 0.19                               ..\n",
      "01380100 -74.5014 40.9022 627  2009.07.01 0.15                               ..\n",
      "01380450 -74.4192 40.9075 587  2009.07.01 0.36                               ..\n",
      "..\n"
     ]
    }
   ],
   "source": [
    "show rain_prev_month:select from precipall_prev where 1=`dd$date"
   ]
  },
  {
   "cell_type": "code",
   "execution_count": 179,
   "metadata": {},
   "outputs": [
    {
     "name": "stdout",
     "output_type": "stream",
     "text": [
      "site_no  long     lat     elv  date       ppt  prev1 prev2 prev3 prev4 prev5 ..\n",
      "-----------------------------------------------------------------------------..\n",
      "01367800 -74.6753 41.1628 512  2009.07.01 0.54                               ..\n",
      "01377000 -73.9892 40.9992 52   2009.07.01 0.47                               ..\n",
      "01377370 -74.0392 41.0367 240  2009.07.01 0.43                               ..\n",
      "01377500 -74.0211 40.9928 85   2009.07.01 0.5                                ..\n",
      "01378500 -74.0267 40.9483 79   2009.07.01 0.68                               ..\n",
      "01379000 -74.5289 40.68   266  2009.07.01 0.16                               ..\n",
      "01379500 -74.3897 40.7261 341  2009.07.01 0.2                                ..\n",
      "01379773 -74.5397 40.96   925  2009.07.01 0.14                               ..\n",
      "01379780 -74.5572 40.9494 925  2009.07.01 0.14                               ..\n",
      "01379868 -74.5333 40.8731 650  2009.07.01 0.15                               ..\n",
      "01380500 -74.4097 40.9028 587  2009.07.01 0.36                               ..\n",
      "01381000 -74.3947 40.8969 338  2009.07.01 0.91                               ..\n",
      "01381400 -74.5119 40.8122 440  2009.07.01 0.24                               ..\n",
      "01381500 -74.4569 40.8072 335  2009.07.01 0.37                               ..\n",
      "01381800 -74.3472 40.845  177  2009.07.01 0.95                               ..\n",
      "01381900 -74.3217 40.8625 190  2009.07.01 1.2                                ..\n",
      "01382170 -74.4897 41.0778 1063 2009.07.01 0.28                               ..\n",
      "01382500 -74.4011 41.0183 883  2009.07.01 0.24                               ..\n",
      "01383000 -74.3333 41.1617 728  2009.07.01 1.33                               ..\n",
      "01383500 -74.3336 41.1603 728  2009.07.01 1.33                               ..\n",
      "..\n"
     ]
    }
   ],
   "source": [
    "show all_prev:rain_prev_month ij `site_no`date xkey max_ht_str_prev_month"
   ]
  },
  {
   "cell_type": "code",
   "execution_count": 248,
   "metadata": {},
   "outputs": [
    {
     "name": "stdout",
     "output_type": "stream",
     "text": [
      "date    site_no | window_2 window_3  window_4 window_5 window_6  window_7  wi..\n",
      "----------------| -----------------------------------------------------------..\n",
      "2009.07 01200000| 1.19     0.8066667 0.605    0.734    0.6683333 0.5728571 0...\n",
      "2009.07 01302020| 0.555    0.43      0.485    0.43     0.41      0.41      0...\n",
      "2009.07 01303000| 0.635    0.4233333 0.3175   0.32     0.2716667 0.2714286 0...\n",
      "2009.07 01303500| 0.615    0.54      0.4225   0.344    0.3166667 0.2814286 0...\n",
      "2009.07 01304000| 1.105    1.146667  0.8775   0.716    0.615     0.5342857 0...\n",
      "2009.07 01304500| 1.155    0.9733333 0.875    0.744    0.6516667 0.5585714 0...\n",
      "2009.07 01305000| 1.41     1.35      1.055    0.868    0.74      0.6414286 0...\n",
      "2009.07 01305500| 1.065    1.063333  0.8175   0.676    0.5733333 0.4985714 0...\n",
      "2009.07 01306460| 1.13     1.113333  0.8525   0.696    0.595     0.5171429 0...\n",
      "2009.07 01308000| 0.7      0.8233333 0.625    0.514    0.435     0.3771429 0...\n",
      "2009.07 01308500| 0.7      0.8233333 0.625    0.514    0.435     0.3771429 0...\n",
      "2009.07 01309500| 0.67     0.5766667 0.445    0.394    0.3283333 0.2971429 0...\n",
      "2009.07 01309950| 0.58     0.53      0.4125   0.336    0.295     0.2614286 0...\n",
      "2009.07 01309990| 0.58     0.53      0.4125   0.336    0.295     0.2614286 0...\n",
      "2009.07 01310500| 0.615    0.4366667 0.35     0.336    0.2833333 0.2885714 0...\n",
      "2009.07 01311500| 0.345    0.3733333 0.3275   0.262    0.255     0.2457143 0...\n",
      "2009.07 01312000| 0.575    0.3833333 0.2875   0.276    0.255     0.2342857 0...\n",
      "2009.07 01315000| 0.885    0.59      0.4425   0.396    0.3483333 0.2985714 0...\n",
      "2009.07 01315170| 0.55     0.53      0.53     0.53     0.53      0.53      0...\n",
      "2009.07 01315226| 0.57     0.57      0.57     0.57     0.57      0.57      0...\n",
      "..\n"
     ]
    }
   ],
   "source": [
    "show windowed:select window_2:max 2 mavg ppt,window_3:max 3 mavg ppt,window_4:max 4 mavg ppt,window_5:max 5 mavg \n",
    "    ppt,window_6:max 6 mavg ppt,window_7:max 7 mavg ppt,window_8:max 8 mavg ppt,window_9:max 9 mavg ppt,\n",
    "    window_10:max 10 mavg ppt,window_11:max 11 mavg ppt,window_12:max 12 mavg ppt,window_13:max 13 mavg ppt,\n",
    "    window_14:max 14 mavg ppt,window_15:max 15 mavg ppt,window_16:max 16 mavg ppt,window_17:max 17 mavg ppt,\n",
    "    window_18:max 18 mavg ppt,window_19:max 19 mavg ppt,window_20:max 20 mavg ppt,window_21:max 21 mavg ppt,\n",
    "    window_22:max 22 mavg ppt,window_23:max 23 mavg ppt,window_24:max 24 mavg ppt,window_25:max 25 mavg ppt,\n",
    "    window_26:max 26 mavg ppt,window_27:max 27 mavg ppt,window_28:max 28 mavg ppt,window_29:max 29 mavg ppt,\n",
    "    window_30:max 30 mavg ppt,window_31:max 31 mavg ppt,avgppt:avg ppt by \"m\"$date,site_no from precipall"
   ]
  },
  {
   "cell_type": "code",
   "execution_count": 249,
   "metadata": {},
   "outputs": [
    {
     "name": "stdout",
     "output_type": "stream",
     "text": [
      "site_no  long     lat     elv  date    ppt  prev1 prev2 prev3 prev4 prev5 pre..\n",
      "-----------------------------------------------------------------------------..\n",
      "01367800 -74.6753 41.1628 512  2009.07 0.54                                  ..\n",
      "01377000 -73.9892 40.9992 52   2009.07 0.47                                  ..\n",
      "01377370 -74.0392 41.0367 240  2009.07 0.43                                  ..\n",
      "01377500 -74.0211 40.9928 85   2009.07 0.5                                   ..\n",
      "01378500 -74.0267 40.9483 79   2009.07 0.68                                  ..\n",
      "01379000 -74.5289 40.68   266  2009.07 0.16                                  ..\n",
      "01379500 -74.3897 40.7261 341  2009.07 0.2                                   ..\n",
      "01379773 -74.5397 40.96   925  2009.07 0.14                                  ..\n",
      "01379780 -74.5572 40.9494 925  2009.07 0.14                                  ..\n",
      "01379868 -74.5333 40.8731 650  2009.07 0.15                                  ..\n",
      "01380500 -74.4097 40.9028 587  2009.07 0.36                                  ..\n",
      "01381000 -74.3947 40.8969 338  2009.07 0.91                                  ..\n",
      "01381400 -74.5119 40.8122 440  2009.07 0.24                                  ..\n",
      "01381500 -74.4569 40.8072 335  2009.07 0.37                                  ..\n",
      "01381800 -74.3472 40.845  177  2009.07 0.95                                  ..\n",
      "01381900 -74.3217 40.8625 190  2009.07 1.2                                   ..\n",
      "01382170 -74.4897 41.0778 1063 2009.07 0.28                                  ..\n",
      "01382500 -74.4011 41.0183 883  2009.07 0.24                                  ..\n",
      "01383000 -74.3333 41.1617 728  2009.07 1.33                                  ..\n",
      "01383500 -74.3336 41.1603 728  2009.07 1.33                                  ..\n",
      "..\n"
     ]
    }
   ],
   "source": [
    "show window_prev:(update date:\"m\"$date from all_prev) ij windowed"
   ]
  },
  {
   "cell_type": "code",
   "execution_count": 250,
   "metadata": {},
   "outputs": [],
   "source": [
    "window_prev:delete ppt,height from window_prev"
   ]
  },
  {
   "cell_type": "code",
   "execution_count": 251,
   "metadata": {},
   "outputs": [],
   "source": [
    "prev_win:select site_no,date:date+1,window_2_prev:window_2,window_3_prev:window_3,window_4_prev:window_4,\n",
    "    window_5_prev:window_5,window_6_prev:window_6,window_7_prev:window_7,window_8_prev:window_8,\n",
    "    window_9_prev:window_9,window_10_prev:window_10,window_11_prev:window_11,window_12_prev:window_12,\n",
    "    window_13_prev:window_13,window_14_prev:window_14,window_15_prev:window_15,window_16_prev:window_16,\n",
    "    window_17_prev:window_17,window_18_prev:window_18,window_19_prev:window_19,window_20_prev:window_20,\n",
    "    window_21_prev:window_21,window_22_prev:window_22,window_23_prev:window_23,window_24_prev:window_24,\n",
    "    window_25_prev:window_25,window_26_prev:window_26,window_27_prev:window_27,window_28_prev:window_28,\n",
    "    window_29_prev:window_29,window_30_prev:window_30,window_31_prev:window_31,avg_prev:avgppt from (0!windowed)"
   ]
  },
  {
   "cell_type": "code",
   "execution_count": 252,
   "metadata": {},
   "outputs": [],
   "source": [
    "window_prev:window_prev ij `date`site_no xkey prev_win"
   ]
  },
  {
   "cell_type": "code",
   "execution_count": 297,
   "metadata": {},
   "outputs": [
    {
     "data": {
      "text/plain": [
       "date    site_no | window_2 window_3  window_4 window_5 window_6  window_7  wi..\n",
       "----------------| -----------------------------------------------------------..\n",
       "2009.07 01200000| 1.19     0.8066667 0.605    0.734    0.6683333 0.5728571 0...\n",
       "2009.07 01302020| 0.555    0.43      0.485    0.43     0.41      0.41      0...\n",
       "2009.07 01303000| 0.635    0.4233333 0.3175   0.32     0.2716667 0.2714286 0...\n",
       "2009.07 01303500| 0.615    0.54      0.4225   0.344    0.3166667 0.2814286 0...\n",
       "2009.07 01304000| 1.105    1.146667  0.8775   0.716    0.615     0.5342857 0...\n",
       "2009.07 01304500| 1.155    0.9733333 0.875    0.744    0.6516667 0.5585714 0...\n",
       "2009.07 01305000| 1.41     1.35      1.055    0.868    0.74      0.6414286 0...\n",
       "2009.07 01305500| 1.065    1.063333  0.8175   0.676    0.5733333 0.4985714 0...\n",
       "2009.07 01306460| 1.13     1.113333  0.8525   0.696    0.595     0.5171429 0...\n",
       "2009.07 01308000| 0.7      0.8233333 0.625    0.514    0.435     0.3771429 0...\n",
       "2009.07 01308500| 0.7      0.8233333 0.625    0.514    0.435     0.3771429 0...\n",
       "2009.07 01309500| 0.67     0.5766667 0.445    0.394    0.3283333 0.2971429 0...\n",
       "2009.07 01309950| 0.58     0.53      0.4125   0.336    0.295     0.2614286 0...\n",
       "2009.07 01309990| 0.58     0.53      0.4125   0.336    0.295     0.2614286 0...\n",
       "2009.07 01310500| 0.615    0.4366667 0.35     0.336    0.2833333 0.2885714 0...\n",
       "2009.07 01311500| 0.345    0.3733333 0.3275   0.262    0.255     0.2457143 0...\n",
       "2009.07 01312000| 0.575    0.3833333 0.2875   0.276    0.255     0.2342857 0...\n",
       "2009.07 01315000| 0.885    0.59      0.4425   0.396    0.3483333 0.2985714 0...\n",
       "2009.07 01315170| 0.55     0.53      0.53     0.53     0.53      0.53      0...\n",
       "2009.07 01315226| 0.57     0.57      0.57     0.57     0.57      0.57      0...\n",
       "..\n"
      ]
     },
     "execution_count": 297,
     "metadata": {},
     "output_type": "execute_result"
    },
    {
     "data": {
      "text/plain": [
       "`window_2`window_3`window_4`window_5`window_6`window_7`window_8`window_9`wind..\n"
      ]
     },
     "execution_count": 297,
     "metadata": {},
     "output_type": "execute_result"
    }
   ],
   "source": [
    "windowed\n",
    "(-1_2_cols windowed)"
   ]
  },
  {
   "cell_type": "code",
   "execution_count": 299,
   "metadata": {},
   "outputs": [],
   "source": [
    "wind_wind_curr:{max x mavg'prev_win[(2_cols prev_win)]}each 2_til 32\n",
    "wind_wind_prev:{max x mavg'(0!windowed)[(-1_2_cols windowed)]}each 2_til 32\n",
    "\n"
   ]
  },
  {
   "cell_type": "code",
   "execution_count": 313,
   "metadata": {},
   "outputs": [],
   "source": [
    "col_names_curr:{`$\"wind_wind_curr_\",string x}each 2+til 30\n",
    "wwc:col_names_curr!wind_wind_curr\n",
    "col_names_prev:{`$\"wind_wind_prev_\",string x}each 2+til 30\n",
    "wwp:col_names_prev!wind_wind_prev"
   ]
  },
  {
   "cell_type": "code",
   "execution_count": 317,
   "metadata": {},
   "outputs": [
    {
     "name": "stdout",
     "output_type": "stream",
     "text": [
      "wind_wind_curr_2 wind_wind_curr_3 wind_wind_curr_4 wind_wind_curr_5 wind_wind..\n",
      "-----------------------------------------------------------------------------..\n",
      "1.19             1.19             1.19             1.19             1.19     ..\n",
      "0.8725           0.8725           0.8725           0.8725           0.8725   ..\n",
      "0.595            0.7933333        0.7933333        0.7933333        0.7933333..\n",
      "0.625            0.6016667        0.74875          0.74875          0.74875  ..\n",
      "0.86             0.785            0.7275           0.82             0.82     ..\n",
      "1.13             0.9583333        0.8775           0.813            0.8758333..\n",
      "1.2825           1.223333         1.07125          0.984            0.9125   ..\n",
      "1.2375           1.21             1.18375          1.07             0.9975   ..\n",
      "1.0975           1.201667         1.19             1.173            1.08     ..\n",
      "0.9683333        1                1.0875           1.092            1.094167 ..\n",
      "0.8233333        0.92             0.9558333        1.034667         1.026667 ..\n",
      "0.7              0.7411111        0.8341667        0.88             0.9583333..\n",
      "0.625            0.65             0.6883333        0.7733333        0.8216667..\n",
      "0.58             0.61             0.6325           0.6566667        0.7327778..\n",
      "0.5975           0.5916667        0.61125          0.629            0.6408333..\n",
      "0.48             0.5133333        0.53             0.558            0.5816667..\n",
      "0.46             0.5116667        0.52875          0.539            0.5608333..\n",
      "0.73             0.6016667        0.605            0.6              0.5966667..\n",
      "0.7175           0.67             0.58875          0.594            0.5916667..\n",
      "0.56             0.6683333        0.645            0.585            0.59     ..\n",
      "..\n"
     ]
    }
   ],
   "source": [
    "show window_w:flip wwc,'wwp"
   ]
  },
  {
   "cell_type": "code",
   "execution_count": 332,
   "metadata": {},
   "outputs": [
    {
     "data": {
      "text/plain": [
       "0.23 0.62 0.13 0.03 0    0    0    0.35 0    0    0 0.2  0.03 0    0 0    0.3..\n",
       "0.41 0.2  0.38 0    0    0    0.05 0.53 0    0    0 0.32 0    0    0 0    0  ..\n",
       "0.09 0.33 0.3  0    0    0    0.03 1.24 0    0    0 0.36 0    0    0 0    0  ..\n",
       "0.03 0.25 0.26 0    0    0    0.01 1.22 0    0    0 0.32 0    0    0 0    0  ..\n",
       "0    0.1  0.16 0.02 0    0.03 0    1.06 0    0    0 0.27 0    0    0 0    0  ..\n",
       "0.04 0.25 0.02 0.25 0    0    0    1.02 0    0    0 0.25 0    0    0 0    0.0..\n",
       "0.02 0.14 0.1  0.38 0    0.02 0    0.82 0    0    0 0.23 0    0    0 0    0.0..\n",
       "0.01 0.19 0.13 0.23 0    0.01 0    1.21 0    0    0 0.27 0    0    0 0    0  ..\n",
       "0    0.13 0.19 0.26 0    0.02 0    1.49 0    0    0 0.29 0    0    0 0    0  ..\n",
       "0    0.15 0.24 0.03 0    0    0    1.2  0    0    0 0.43 0    0    0 0    0  ..\n",
       "0    0.15 0.24 0.03 0    0    0    1.2  0    0    0 0.43 0    0    0 0    0  ..\n",
       "0    0.39 0.35 0    0    0    0    1.34 0    0    0 0.63 0    0    0 0    0  ..\n",
       "0    0.2  0.12 0.01 0    0    0    1.16 0    0    0 0.37 0    0    0 0    0  ..\n",
       "0    0.2  0.12 0.01 0    0    0    1.16 0    0    0 0.37 0    0    0 0    0  ..\n",
       "0.03 0.32 0.23 0.24 0    0    0    1.23 0    0    0 0.45 0    0    0 0    0  ..\n",
       "0.12 0.13 0.41 0.24 0    0    0    0.64 0    0    0 0.49 0    0    0 0    0  ..\n",
       "0.22 0    0.08 0.31 0.13 0    0.15 0.42 0.16 0.01 0 0.79 0    0.19 0 0.14 0.0..\n",
       "0.14 0.03 0.02 0.11 0.03 0    0.11 0.62 0.1  0    0 1.26 0    0.06 0 0.04 0.0..\n",
       "0.53 0.01 0.09 0.19 0.18 0    0.07 0.4  0.14 0    0 0.87 0    0.15 0 0.11 0.0..\n",
       "0.57 0    0.09 0.19 0.18 0    0.09 0.36 0.15 0    0 0.88 0    0.16 0 0.14 0.0..\n",
       "0.57 0    0.09 0.19 0.18 0    0.09 0.36 0.15 0    0 0.88 0    0.16 0 0.14 0.0..\n",
       "0.52 0.02 0.06 0.03 0.01 0    0.12 0.45 0.17 0    0 1.31 0    0.02 0 0.08 0.0..\n",
       "..\n"
      ]
     },
     "execution_count": 332,
     "metadata": {},
     "output_type": "execute_result"
    }
   ],
   "source": [
    "(value exec ppt by \"m\"$date,site_no from precipall)"
   ]
  },
  {
   "cell_type": "code",
   "execution_count": 254,
   "metadata": {},
   "outputs": [
    {
     "data": {
      "text/plain": [
       "`:window_prev.csv\n"
      ]
     },
     "execution_count": 254,
     "metadata": {},
     "output_type": "execute_result"
    },
    {
     "name": "stderr",
     "output_type": "stream",
     "text": [
      "Copying file://window_prev.csv [Content-Type=text/csv]...\n",
      "- [1 files][ 47.3 MiB/ 47.3 MiB]                                                \n",
      "Operation completed over 1 objects/47.3 MiB.                                     \n"
     ]
    },
    {
     "data": {
      "text/plain": []
     },
     "execution_count": 254,
     "metadata": {},
     "output_type": "execute_result"
    }
   ],
   "source": [
    "save `window_prev.csv\n",
    "system \"gsutil cp window_prev.csv gs://nasa_fdl_floods_2019/ml_data/window_prev.csv\""
   ]
  },
  {
   "cell_type": "markdown",
   "metadata": {},
   "source": [
    "Get the max,avg,var,min,max percipitation per site_no,per day"
   ]
  },
  {
   "cell_type": "code",
   "execution_count": null,
   "metadata": {},
   "outputs": [],
   "source": [
    "show rainmonth_prism:1_0!select first distinct lat,first distinct long,sumpr:sum ppt,\n",
    "    maxpre:max ppt,minpre:min ppt,avgpre:avg ppt,varpre:var ppt,max deltas ppt by site_no\n",
    "    ,\"m\"$date from precipall"
   ]
  },
  {
   "cell_type": "markdown",
   "metadata": {},
   "source": [
    "Save down the rain data"
   ]
  },
  {
   "cell_type": "code",
   "execution_count": null,
   "metadata": {},
   "outputs": [],
   "source": [
    "rainmonth_prism_new:rainmonth_prism"
   ]
  },
  {
   "cell_type": "code",
   "execution_count": null,
   "metadata": {},
   "outputs": [],
   "source": [
    "save `:rainmonth_prism_new.csv"
   ]
  },
  {
   "cell_type": "markdown",
   "metadata": {},
   "source": [
    "Get the flood warning levels to match with the stream gages"
   ]
  },
  {
   "cell_type": "code",
   "execution_count": 99,
   "metadata": {},
   "outputs": [],
   "source": [
    "warnings:gp[`:read_file][\"data/national_shapefile_obs.shp\"]\n",
    "warnings:.ml.df2tab[warnings]"
   ]
  },
  {
   "cell_type": "code",
   "execution_count": 100,
   "metadata": {},
   "outputs": [],
   "source": [
    "/Some gages have no threshold values so had to delete them from dataset\n",
    "dela:first asc exec i by Action from warnings\n",
    "delmj:first 1_asc exec i by Major from warnings\n",
    "delmd:first 2_asc exec i by Moderate from warnings\n",
    "delfl:first 2_asc exec i by Flood from warnings\n",
    "\n",
    "warning:update nn: i from select from warnings where not i in distinct (dela,delmj,delmd,delfl)\n",
    "warning[`GaugeLID]:`$warning[`GaugeLID]"
   ]
  },
  {
   "cell_type": "code",
   "execution_count": 101,
   "metadata": {},
   "outputs": [],
   "source": [
    "match:`loc`prox`river`GaugeLID`loc_ty`site_no xcol (\"SSSSSSSSS\";enlist \",\")0:`:../target_match.csv\n",
    "match[`GaugeLID]:upper match[`GaugeLID]\n",
    "warningn:warning lj `GaugeLID xkey select GaugeLID,site_no from match\n",
    "warningn[`site_no]:`${$[7=count x;\"0\",x;x]}each string each warningn[`site_no]\n",
    "warnj:maxht lj `site_no xkey warningn"
   ]
  },
  {
   "cell_type": "code",
   "execution_count": 103,
   "metadata": {},
   "outputs": [
    {
     "name": "stdout",
     "output_type": "stream",
     "text": [
      "site_no  date       height GaugeLID Status        Location        Latitude Lo..\n",
      "-----------------------------------------------------------------------------..\n",
      "01200000 2009.07.01 2.76   TENN6    \"no_flooding\" \"Gaylordsville\" 41.65889 -7..\n",
      "01200000 2009.07.02 3.8    TENN6    \"no_flooding\" \"Gaylordsville\" 41.65889 -7..\n",
      "01200000 2009.07.03 3.86   TENN6    \"no_flooding\" \"Gaylordsville\" 41.65889 -7..\n",
      "01200000 2009.07.04 3.3    TENN6    \"no_flooding\" \"Gaylordsville\" 41.65889 -7..\n",
      "01200000 2009.07.05 2.89   TENN6    \"no_flooding\" \"Gaylordsville\" 41.65889 -7..\n",
      "01200000 2009.07.06 2.63   TENN6    \"no_flooding\" \"Gaylordsville\" 41.65889 -7..\n",
      "01200000 2009.07.07 2.46   TENN6    \"no_flooding\" \"Gaylordsville\" 41.65889 -7..\n",
      "01200000 2009.07.08 2.51   TENN6    \"no_flooding\" \"Gaylordsville\" 41.65889 -7..\n",
      "01200000 2009.07.09 2.44   TENN6    \"no_flooding\" \"Gaylordsville\" 41.65889 -7..\n",
      "01200000 2009.07.10 2.28   TENN6    \"no_flooding\" \"Gaylordsville\" 41.65889 -7..\n",
      "01200000 2009.07.11 2.18   TENN6    \"no_flooding\" \"Gaylordsville\" 41.65889 -7..\n",
      "01200000 2009.07.12 2.21   TENN6    \"no_flooding\" \"Gaylordsville\" 41.65889 -7..\n",
      "01200000 2009.07.13 2.21   TENN6    \"no_flooding\" \"Gaylordsville\" 41.65889 -7..\n",
      "01200000 2009.07.14 1.99   TENN6    \"no_flooding\" \"Gaylordsville\" 41.65889 -7..\n",
      "01200000 2009.07.15 1.86   TENN6    \"no_flooding\" \"Gaylordsville\" 41.65889 -7..\n",
      "01200000 2009.07.16 1.85   TENN6    \"no_flooding\" \"Gaylordsville\" 41.65889 -7..\n",
      "01200000 2009.07.17 2.66   TENN6    \"no_flooding\" \"Gaylordsville\" 41.65889 -7..\n",
      "01200000 2009.07.18 3.43   TENN6    \"no_flooding\" \"Gaylordsville\" 41.65889 -7..\n",
      "01200000 2009.07.19 3.04   TENN6    \"no_flooding\" \"Gaylordsville\" 41.65889 -7..\n",
      "01200000 2009.07.20 2.34   TENN6    \"no_flooding\" \"Gaylordsville\" 41.65889 -7..\n",
      "..\n"
     ]
    }
   ],
   "source": [
    "sitesl:(select distinct site_no from warnj where GaugeLID=`) ij `site_no xkey select \n",
    "    site_no,dec_lat_va,dec_long_v from gages\n",
    "\n",
    "tabw:.ml.clust.kd.buildtree[warnlatl:raze each warning[`Latitude`Longitude],'sitesl[`dec_lat_va`dec_long_v];2]\n",
    "\n",
    "nnwarn:.ml.clust.kd.i.nns[;tabw;(count[warning]#0),count[sitesl]#1;raze each flip warnlatl;`edist\n",
    "    ]each count[warning]+til count sitesl\n",
    "\n",
    "joins:flip `nn`ndw`site_no!(nnwarn[;0];nnwarn[;1];sitesl[`site_no])\n",
    "\n",
    "floodl:(sitesl ij `site_no xkey joins) ij `nn xkey warning\n",
    "show floodlvl:warnj lj `site_no xkey delete nn,ndw from floodl\n",
    "floodlvl[`Action`Moderate`Flood`Major]:\"F\"$'floodlvl[`Action`Moderate`Flood`Major]"
   ]
  },
  {
   "cell_type": "markdown",
   "metadata": {},
   "source": [
    "Join the stream gage and warning levels by nearest neighbour"
   ]
  },
  {
   "cell_type": "code",
   "execution_count": 104,
   "metadata": {
    "scrolled": true
   },
   "outputs": [
    {
     "name": "stdout",
     "output_type": "stream",
     "text": [
      "site_no  date    Action Flood Moderate Major no_Action no_Flood no_Mod no_Major\n",
      "-------------------------------------------------------------------------------\n",
      "01200000 2009.07 6      9     10       12    0         0        0      0       \n",
      "01200000 2009.08 6      9     10       12    0         0        0      0       \n",
      "01200000 2009.09 6      9     10       12    0         0        0      0       \n",
      "01200000 2009.10 6      9     10       12    0         0        0      0       \n",
      "01200000 2009.11 6      9     10       12    0         0        0      0       \n",
      "01200000 2009.12 6      9     10       12    0         0        0      0       \n",
      "01200000 2010.01 6      9     10       12    0         0        0      0       \n",
      "01200000 2010.02 6      9     10       12    0         0        0      0       \n",
      "01200000 2010.03 6      9     10       12    1         0        0      0       \n",
      "01200000 2010.04 6      9     10       12    0         0        0      0       \n",
      "01200000 2010.05 6      9     10       12    0         0        0      0       \n",
      "01200000 2010.06 6      9     10       12    0         0        0      0       \n",
      "01200000 2010.07 6      9     10       12    0         0        0      0       \n",
      "01200000 2010.08 6      9     10       12    0         0        0      0       \n",
      "01200000 2010.09 6      9     10       12    0         0        0      0       \n",
      "01200000 2010.10 6      9     10       12    0         0        0      0       \n",
      "01200000 2010.11 6      9     10       12    0         0        0      0       \n",
      "01200000 2010.12 6      9     10       12    0         0        0      0       \n",
      "01200000 2011.01 6      9     10       12    0         0        0      0       \n",
      "01200000 2011.02 6      9     10       12    0         0        0      0       \n",
      "..\n"
     ]
    }
   ],
   "source": [
    "show threshold_full:0!select first Action,first Flood,first Moderate,first Major,no_Action:count where height>Action\n",
    " ,no_Flood:count where height>Flood,no_Mod:count where height>Moderate,no_Major:count where height>Major by site_no\n",
    "    ,\"m\"$date from floodlvl"
   ]
  },
  {
   "cell_type": "code",
   "execution_count": null,
   "metadata": {},
   "outputs": [],
   "source": [
    "save `:threshold_full.csv"
   ]
  },
  {
   "cell_type": "code",
   "execution_count": null,
   "metadata": {},
   "outputs": [],
   "source": []
  },
  {
   "cell_type": "code",
   "execution_count": null,
   "metadata": {},
   "outputs": [],
   "source": []
  },
  {
   "cell_type": "code",
   "execution_count": null,
   "metadata": {},
   "outputs": [],
   "source": []
  }
 ],
 "metadata": {
  "kernelspec": {
   "display_name": "Q (kdb+)",
   "language": "q",
   "name": "qpk"
  },
  "language_info": {
   "file_extension": ".q",
   "mimetype": "text/x-q",
   "name": "q",
   "version": "3.6.0"
  }
 },
 "nbformat": 4,
 "nbformat_minor": 2
}
