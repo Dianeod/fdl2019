{
 "cells": [
  {
   "cell_type": "markdown",
   "metadata": {},
   "source": [
    "# FDL 2019 - Floods"
   ]
  },
  {
   "cell_type": "markdown",
   "metadata": {},
   "source": [
    "Load in any libraries and datasets needed"
   ]
  },
  {
   "cell_type": "code",
   "execution_count": 2,
   "metadata": {},
   "outputs": [],
   "source": [
    "gp:.p.import[`geopandas]\n",
    "\\l ml/ml.q \n",
    "\\l ml/init.q\n",
    "\\l ml/fresh/notebooks/graphics.q\n",
    "\n",
    "avs:.p.import[`sklearn.metrics]`:average_precision_score\n",
    "mattab:{flip value flip x}\n",
    "svc:.p.import[`sklearn.svm]`:SVC\n",
    "array:.p.import[`numpy]`:array"
   ]
  },
  {
   "cell_type": "markdown",
   "metadata": {},
   "source": [
    "Datasets include\n",
    "\n",
    "Max height per day per stream\n",
    "\n",
    "NLCD(imperveous) dataset collected in 2006,2011,2016\n",
    "\n",
    "Flood warned levels from NOAA, based on lat,long\n",
    "\n",
    "stream gage info i.e location,state, codes etc\n",
    "\n",
    "basin attributes at each stream gage"
   ]
  },
  {
   "cell_type": "code",
   "execution_count": 3,
   "metadata": {},
   "outputs": [],
   "source": [
    "nlcd06:(\"S\",(5#\"F\"),\"SFFSFSFFFFSFSSFSSFFFSFFSFF\";enlist \",\") 0:`:data/snap_sampled_imp_nlcd_2006.csv \n",
    "nlcd11:(\"S\",(5#\"F\"),\"SFFSFSFFFFSFSSFSSFFFSFFSFF\";enlist \",\") 0:`:data/snap_sampled_imp_nlcd_2011.csv \n",
    "nlcd16:(\"S\",(5#\"F\"),\"SFFSFSFFFFSFSSFSSFFFSFFSFF\";enlist \",\") 0:`:data/snap_sampled_imp_nlcd_2016.csv \n",
    "\n",
    "warnings:gp[`:read_file][\"data/national_shapefile_obs.shp\"]\n",
    "warnings:.ml.df2tab[warnings]\n",
    "\n",
    "gages:(\"SSSSFFSSIFFFFFFFFSSISSSSFF\";enlist \",\") 0:`:data/usgs_gage_subset.csv\n",
    "\n",
    "basin:(\"S\",242#\"F\";enlist \",\") 0:`:data/gages_with_basin_attr.csv"
   ]
  },
  {
   "cell_type": "markdown",
   "metadata": {},
   "source": [
    "Linking the stream gages with corresponding rain gages based on site_no and date (per month). "
   ]
  },
  {
   "cell_type": "code",
   "execution_count": 4,
   "metadata": {},
   "outputs": [],
   "source": [
    "\\l gagesdir/gagesdir  /will change name of loaddir\n",
    "\n",
    "maxht:0!select max height by site_no,date from str\n",
    "\n",
    "maxht[`site_no]:`${$[7=count x;\"0\",x;x]}each maxht[`site_no]\n",
    "\n",
    "maxht:delete from maxht where height<0\n",
    "\n",
    "gages[`site_no]:`${$[7=count x;\"0\",x;x]}each string each gages[`site_no] /pad with 0 if len site=7\n"
   ]
  },
  {
   "cell_type": "code",
   "execution_count": 5,
   "metadata": {},
   "outputs": [],
   "source": [
    "\\cd ../../"
   ]
  },
  {
   "cell_type": "markdown",
   "metadata": {},
   "source": [
    "Get the rain data from prism"
   ]
  },
  {
   "cell_type": "code",
   "execution_count": 6,
   "metadata": {},
   "outputs": [
    {
     "name": "stdout",
     "output_type": "stream",
     "text": [
      "site_no long     lat     elv  date       ppt \n",
      "---------------------------------------------\n",
      "1367690 -74.5596 41.1053 1056 2019.01.01 0.94\n",
      "1367690 -74.5596 41.1053 1056 2019.01.02 0   \n",
      "1367690 -74.5596 41.1053 1056 2019.01.03 0   \n",
      "1367690 -74.5596 41.1053 1056 2019.01.04 0   \n",
      "1367690 -74.5596 41.1053 1056 2019.01.05 0.38\n",
      "1367690 -74.5596 41.1053 1056 2019.01.06 0.79\n",
      "1367690 -74.5596 41.1053 1056 2019.01.07 0   \n",
      "1367690 -74.5596 41.1053 1056 2019.01.08 0.02\n",
      "1367690 -74.5596 41.1053 1056 2019.01.09 0.15\n",
      "1367690 -74.5596 41.1053 1056 2019.01.10 0   \n",
      "1367690 -74.5596 41.1053 1056 2019.01.11 0   \n",
      "1367690 -74.5596 41.1053 1056 2019.01.12 0   \n",
      "1367690 -74.5596 41.1053 1056 2019.01.13 0   \n",
      "1367690 -74.5596 41.1053 1056 2019.01.14 0   \n",
      "1367690 -74.5596 41.1053 1056 2019.01.15 0   \n",
      "1367690 -74.5596 41.1053 1056 2019.01.16 0   \n",
      "1367690 -74.5596 41.1053 1056 2019.01.17 0   \n",
      "1367690 -74.5596 41.1053 1056 2019.01.18 0.06\n",
      "1367690 -74.5596 41.1053 1056 2019.01.19 0   \n",
      "1367690 -74.5596 41.1053 1056 2019.01.20 1.02\n",
      "..\n"
     ]
    }
   ],
   "source": [
    "show precipall:raze {flip `site_no`long`lat`elv`date`ppt!flip value each 10_(\"SFFFDF\";enlist \",\")0: \n",
    "    hsym `$\"data/prism/\",string[x]} each key `:data/prism\n",
    "\n",
    "precipall[`site_no]:`${$[7=count x;\"0\",x;x]}each string each precipall[`site_no]\n"
   ]
  },
  {
   "cell_type": "markdown",
   "metadata": {},
   "source": [
    "Some rain sites are missing the last digits of their id number so have to preprocess to get it to match the stream gages"
   ]
  },
  {
   "cell_type": "code",
   "execution_count": 7,
   "metadata": {},
   "outputs": [
    {
     "data": {
      "text/plain": [
       "`precipall`precipall`precipall`precipall`precipall`precipall`precipall`precip..\n"
      ]
     },
     "execution_count": 7,
     "metadata": {},
     "output_type": "execute_result"
    },
    {
     "data": {
      "text/plain": [
       "`precipall`precipall\n"
      ]
     },
     "execution_count": 7,
     "metadata": {},
     "output_type": "execute_result"
    }
   ],
   "source": [
    "rms:asc ds where 12<count each string each ds:exec distinct site_no from gages \n",
    "names:0!select i by site_no from precipall where site_no in `$12#'string each rms\n",
    "\n",
    "{![`precipall;enlist (in;`i;y);0b;(enlist `site_no)!enlist enlist x]}'[rms[til[20],23 24 25];\n",
    "    names[`x][til[19],21 22 23 24]]\n",
    "\n",
    "matchnames:0!select i by lat,long from precipall where i in names[`x][20]\n",
    "{![`precipall;enlist (in;`i;y);0b;(enlist `site_no)!enlist enlist x]}'[rms[21 22];matchnames[`x]]"
   ]
  },
  {
   "cell_type": "markdown",
   "metadata": {},
   "source": [
    "Get stats on each rain gage per month,uid (id of raingage)"
   ]
  },
  {
   "cell_type": "code",
   "execution_count": 8,
   "metadata": {},
   "outputs": [
    {
     "name": "stdout",
     "output_type": "stream",
     "text": [
      "site_no  date    lat     long     elevation sumpr maxpre avgpre     varpre    \n",
      "------------------------------------------------------------------------------\n",
      "01200000 2009.07 41.6588 -73.5287 456       8.01  2.04   0.2583871  0.2031039 \n",
      "01200000 2009.08 41.6588 -73.5287 456       5.94  1.59   0.1916129  0.1258458 \n",
      "01200000 2009.09 41.6588 -73.5287 456       1.55  0.85   0.05166667 0.02672056\n",
      "01200000 2009.10 41.6588 -73.5287 456       4.51  1.46   0.1454839  0.1004828 \n",
      "01200000 2009.11 41.6588 -73.5287 456       1.52  0.49   0.05066667 0.01351289\n",
      "01200000 2009.12 41.6588 -73.5287 456       5.61  0.93   0.1809677  0.08818939\n",
      "01200000 2010.01 41.6588 -73.5287 456       2.82  1.75   0.09096774 0.0974539 \n",
      "01200000 2010.02 41.6588 -73.5287 456       4.41  2.28   0.1575     0.1941045 \n",
      "01200000 2010.03 41.6588 -73.5287 456       6.5   1.36   0.2096774  0.1715322 \n",
      "01200000 2010.04 41.6588 -73.5287 456       2.17  0.57   0.07233333 0.01860456\n",
      "01200000 2010.05 41.6588 -73.5287 456       1.93  0.69   0.06225806 0.01854651\n",
      "01200000 2010.06 41.6588 -73.5287 456       3.12  0.73   0.104      0.03363733\n",
      "01200000 2010.07 41.6588 -73.5287 456       2.39  0.56   0.07709677 0.02474964\n",
      "01200000 2010.08 41.6588 -73.5287 456       5.81  2.7    0.1874194  0.2565869 \n",
      "01200000 2010.09 41.6588 -73.5287 456       1.95  0.74   0.065      0.03039167\n",
      "01200000 2010.10 41.6588 -73.5287 456       8.96  3.1    0.2890323  0.5052797 \n",
      "01200000 2010.11 41.6588 -73.5287 456       3.19  1.15   0.1063333  0.07340989\n",
      "01200000 2010.12 41.6588 -73.5287 456       4.74  1.8    0.1529032  0.19124   \n",
      "01200000 2011.01 41.6588 -73.5287 456       3.33  0.92   0.1074194  0.03784495\n",
      "01200000 2011.02 41.6588 -73.5287 456       3.45  1.09   0.1232143  0.0569861 \n",
      "..\n"
     ]
    }
   ],
   "source": [
    "show rainmonth:1_0!select first distinct lat,first distinct long,elevation:distinct elv,sumpr:sum ppt,\n",
    "    maxpre:max ppt,avgpre:avg ppt,varpre:var ppt by site_no\n",
    "    ,\"m\"$date from precipall"
   ]
  },
  {
   "cell_type": "markdown",
   "metadata": {},
   "source": [
    "### Basin Characteristics"
   ]
  },
  {
   "cell_type": "markdown",
   "metadata": {},
   "source": [
    "Take out columns that depend on the date like 09,10,11. Link it with previous table"
   ]
  },
  {
   "cell_type": "code",
   "execution_count": 9,
   "metadata": {},
   "outputs": [],
   "source": [
    "cols09:where (count each ss[;\"2006\"]each string each cols basin)<>0\n",
    "cols10:where (count each ss[;\"2010\"]each string each cols basin)<>0\n",
    "cols11:where (count each ss[;\"2011\"]each string each cols basin)<>0"
   ]
  },
  {
   "cell_type": "code",
   "execution_count": 10,
   "metadata": {},
   "outputs": [
    {
     "name": "stdout",
     "output_type": "stream",
     "text": [
      "site_no  date    lat     long     elevation sumpr maxpre avgpre     varpre   ..\n",
      "-----------------------------------------------------------------------------..\n",
      "01200000 2009.07 41.6588 -73.5287 456       8.01  2.04   0.2583871  0.2031039..\n",
      "01200000 2009.08 41.6588 -73.5287 456       5.94  1.59   0.1916129  0.1258458..\n",
      "01200000 2009.09 41.6588 -73.5287 456       1.55  0.85   0.05166667 0.0267205..\n",
      "01200000 2009.10 41.6588 -73.5287 456       4.51  1.46   0.1454839  0.1004828..\n",
      "01200000 2009.11 41.6588 -73.5287 456       1.52  0.49   0.05066667 0.0135128..\n",
      "01200000 2009.12 41.6588 -73.5287 456       5.61  0.93   0.1809677  0.0881893..\n",
      "01200000 2010.01 41.6588 -73.5287 456       2.82  1.75   0.09096774 0.0974539..\n",
      "01200000 2010.02 41.6588 -73.5287 456       4.41  2.28   0.1575     0.1941045..\n",
      "01200000 2010.03 41.6588 -73.5287 456       6.5   1.36   0.2096774  0.1715322..\n",
      "01200000 2010.04 41.6588 -73.5287 456       2.17  0.57   0.07233333 0.0186045..\n",
      "01200000 2010.05 41.6588 -73.5287 456       1.93  0.69   0.06225806 0.0185465..\n",
      "01200000 2010.06 41.6588 -73.5287 456       3.12  0.73   0.104      0.0336373..\n",
      "01200000 2010.07 41.6588 -73.5287 456       2.39  0.56   0.07709677 0.0247496..\n",
      "01200000 2010.08 41.6588 -73.5287 456       5.81  2.7    0.1874194  0.2565869..\n",
      "01200000 2010.09 41.6588 -73.5287 456       1.95  0.74   0.065      0.0303916..\n",
      "01200000 2010.10 41.6588 -73.5287 456       8.96  3.1    0.2890323  0.5052797..\n",
      "01200000 2010.11 41.6588 -73.5287 456       3.19  1.15   0.1063333  0.0734098..\n",
      "01200000 2010.12 41.6588 -73.5287 456       4.74  1.8    0.1529032  0.19124  ..\n",
      "01200000 2011.01 41.6588 -73.5287 456       3.33  0.92   0.1074194  0.0378449..\n",
      "01200000 2011.02 41.6588 -73.5287 456       3.45  1.09   0.1232143  0.0569861..\n",
      "..\n"
     ]
    }
   ],
   "source": [
    "constcols:(til count[cols basin]) except raze \n",
    "    {where (count each ss[;x]each string each cols basin)<>0}each (\"2009\";\"2010\";\"2011\")\n",
    "\n",
    "basinupd:flip (cols basin)[constcols]!basin[(cols basin)[constcols]]\n",
    "\n",
    "show joinedtab:rainmonth ij `site_no xkey basinupd"
   ]
  },
  {
   "cell_type": "markdown",
   "metadata": {},
   "source": [
    "### NLCD Dataset"
   ]
  },
  {
   "cell_type": "markdown",
   "metadata": {},
   "source": [
    "Join NLCD (impervious info) to each station based on date. Only 3 datasets so link back in time"
   ]
  },
  {
   "cell_type": "markdown",
   "metadata": {},
   "source": [
    "Only pick columns with some variance between stations"
   ]
  },
  {
   "cell_type": "code",
   "execution_count": 11,
   "metadata": {},
   "outputs": [],
   "source": [
    "nlcd06:update site_no:`${$[7=count x;\"0\",x;x]}each string each site_no,year:6 from select\n",
    " site_no:SOURCE_FEA,INTPTLAT,INTPTLON,Measure,REACHCODE,distance,imp:imp_nlcd_2006 from nlcd06\n",
    "nlcd11:update site_no:`${$[7=count x;\"0\",x;x]}each string each site_no,year:11 from select\n",
    " site_no:SOURCE_FEA,INTPTLAT,INTPTLON,Measure,REACHCODE,distance,imp:imp_nlcd_2011 from nlcd11\n",
    "nlcd16:update site_no:`${$[7=count x;\"0\",x;x]}each string each site_no,year:16 from select\n",
    " site_no:SOURCE_FEA,INTPTLAT,INTPTLON,Measure,REACHCODE,distance,imp:imp_nlcd_2016 from nlcd16"
   ]
  },
  {
   "cell_type": "code",
   "execution_count": 12,
   "metadata": {},
   "outputs": [],
   "source": [
    "stryear:{$[x<2011;6;x<2016;11;16]}each `year$joinedtab[`date]\n",
    "\n",
    "merged:update year:stryear from joinedtab\n",
    "\n",
    "newjoinedtab:merged ij `site_no xkey (nlcd06,nlcd11,nlcd16)"
   ]
  },
  {
   "cell_type": "markdown",
   "metadata": {},
   "source": [
    "# Getting the Target Data\n",
    "\n",
    "Get the count per month that a station goes over a flood level, broken up into 4 categories-Action,Flood,Moderate and Major"
   ]
  },
  {
   "cell_type": "code",
   "execution_count": 13,
   "metadata": {},
   "outputs": [],
   "source": [
    "/Some gages have no threshold values so had to delete them from dataset\n",
    "dela:first asc exec i by Action from warnings\n",
    "delmj:first 1_asc exec i by Major from warnings\n",
    "delmd:first 2_asc exec i by Moderate from warnings\n",
    "delfl:first 2_asc exec i by Flood from warnings\n",
    "\n",
    "warning:update nn: i from select from warnings where not i in distinct (dela,delmj,delmd,delfl)"
   ]
  },
  {
   "cell_type": "markdown",
   "metadata": {},
   "source": [
    "Join based on nn"
   ]
  },
  {
   "cell_type": "code",
   "execution_count": 14,
   "metadata": {},
   "outputs": [],
   "source": [
    "tabw:.ml.clust.kd.buildtree[warnlatl:gages[`dec_lat_va`dec_long_v],'\"F\"$'string each warning[`Latitude`Longitude];2]\n",
    "\n",
    "nnwarn:.ml.clust.kd.i.nns[;tabw;(count[warning]#0),count[gages]#1;flip warnlatl;`edist\n",
    "    ]each count[warning]+til count gages"
   ]
  },
  {
   "cell_type": "code",
   "execution_count": 15,
   "metadata": {},
   "outputs": [],
   "source": [
    "joins:flip `nn`ndw`site_no!(nnwarn[;0];nnwarn[;1];gages[`site_no])\n",
    "\n",
    "floodlvl:(maxht ij `site_no xkey joins) lj `nn xkey warning\n",
    "\n",
    "floodlvl[`Action`Moderate`Flood`Major]:\"F\"$'floodlvl[`Action`Moderate`Flood`Major]\n",
    "\n",
    "floodlvl[`site_no]:`${$[7=count x;\"0\",x;x]}each string each floodlvl[`site_no] /pad with 0 if len site=7"
   ]
  },
  {
   "cell_type": "code",
   "execution_count": 16,
   "metadata": {},
   "outputs": [
    {
     "name": "stdout",
     "output_type": "stream",
     "text": [
      "site_no  date    Action Flood Moderate Major no_Action no_Flood no_Mod no_Major\n",
      "-------------------------------------------------------------------------------\n",
      "01200000 2009.07 17     19    22       24    0         0        0      0       \n",
      "01200000 2009.08 17     19    22       24    0         0        0      0       \n",
      "01200000 2009.09 17     19    22       24    0         0        0      0       \n",
      "01200000 2009.10 17     19    22       24    0         0        0      0       \n",
      "01200000 2009.11 17     19    22       24    0         0        0      0       \n",
      "01200000 2009.12 17     19    22       24    0         0        0      0       \n",
      "01200000 2010.01 17     19    22       24    0         0        0      0       \n",
      "01200000 2010.02 17     19    22       24    0         0        0      0       \n",
      "01200000 2010.03 17     19    22       24    0         0        0      0       \n",
      "01200000 2010.04 17     19    22       24    0         0        0      0       \n",
      "01200000 2010.05 17     19    22       24    0         0        0      0       \n",
      "01200000 2010.06 17     19    22       24    0         0        0      0       \n",
      "01200000 2010.07 17     19    22       24    0         0        0      0       \n",
      "01200000 2010.08 17     19    22       24    0         0        0      0       \n",
      "01200000 2010.09 17     19    22       24    0         0        0      0       \n",
      "01200000 2010.10 17     19    22       24    0         0        0      0       \n",
      "01200000 2010.11 17     19    22       24    0         0        0      0       \n",
      "01200000 2010.12 17     19    22       24    0         0        0      0       \n",
      "01200000 2011.01 17     19    22       24    0         0        0      0       \n",
      "01200000 2011.02 17     19    22       24    0         0        0      0       \n",
      "..\n"
     ]
    }
   ],
   "source": [
    "show target:0!select distinct Action,distinct Flood,distinct Moderate,distinct Major,no_Action:count where height>Action\n",
    " ,no_Flood:count where height>Flood,no_Mod:count where height>Moderate,no_Major:count where height>Major by site_no\n",
    "    ,\"m\"$date from floodlvl"
   ]
  },
  {
   "cell_type": "code",
   "execution_count": 17,
   "metadata": {},
   "outputs": [
    {
     "name": "stdout",
     "output_type": "stream",
     "text": [
      "site_no  date    lat     long     elevation sumpr maxpre avgpre     varpre   ..\n",
      "-----------------------------------------------------------------------------..\n",
      "01200000 2009.07 41.6588 -73.5287 456       8.01  2.04   0.2583871  0.2031039..\n",
      "01200000 2009.08 41.6588 -73.5287 456       5.94  1.59   0.1916129  0.1258458..\n",
      "01200000 2009.09 41.6588 -73.5287 456       1.55  0.85   0.05166667 0.0267205..\n",
      "01200000 2009.10 41.6588 -73.5287 456       4.51  1.46   0.1454839  0.1004828..\n",
      "01200000 2009.11 41.6588 -73.5287 456       1.52  0.49   0.05066667 0.0135128..\n",
      "01200000 2009.12 41.6588 -73.5287 456       5.61  0.93   0.1809677  0.0881893..\n",
      "01200000 2010.01 41.6588 -73.5287 456       2.82  1.75   0.09096774 0.0974539..\n",
      "01200000 2010.02 41.6588 -73.5287 456       4.41  2.28   0.1575     0.1941045..\n",
      "01200000 2010.03 41.6588 -73.5287 456       6.5   1.36   0.2096774  0.1715322..\n",
      "01200000 2010.04 41.6588 -73.5287 456       2.17  0.57   0.07233333 0.0186045..\n",
      "01200000 2010.05 41.6588 -73.5287 456       1.93  0.69   0.06225806 0.0185465..\n",
      "01200000 2010.06 41.6588 -73.5287 456       3.12  0.73   0.104      0.0336373..\n",
      "01200000 2010.07 41.6588 -73.5287 456       2.39  0.56   0.07709677 0.0247496..\n",
      "01200000 2010.08 41.6588 -73.5287 456       5.81  2.7    0.1874194  0.2565869..\n",
      "01200000 2010.09 41.6588 -73.5287 456       1.95  0.74   0.065      0.0303916..\n",
      "01200000 2010.10 41.6588 -73.5287 456       8.96  3.1    0.2890323  0.5052797..\n",
      "01200000 2010.11 41.6588 -73.5287 456       3.19  1.15   0.1063333  0.0734098..\n",
      "01200000 2010.12 41.6588 -73.5287 456       4.74  1.8    0.1529032  0.19124  ..\n",
      "01200000 2011.01 41.6588 -73.5287 456       3.33  0.92   0.1074194  0.0378449..\n",
      "01200000 2011.02 41.6588 -73.5287 456       3.45  1.09   0.1232143  0.0569861..\n",
      "..\n"
     ]
    }
   ],
   "source": [
    "show allmerged:newjoinedtab ij `site_no`date xkey target\n"
   ]
  },
  {
   "cell_type": "code",
   "execution_count": 18,
   "metadata": {},
   "outputs": [],
   "source": [
    "/Tidy up some column types\n",
    "allmerged[`lat`long]:raze each \"F\"$'string each allmerged[`lat`long]\n",
    "allmerged[`Action]:raze allmerged[`Action]\n",
    "allmerged[`Flood]:raze allmerged[`Flood]\n",
    "allmerged[`Moderate]:raze allmerged[`Moderate]\n",
    "allmerged[`Major]:raze allmerged[`Major]\n",
    "allmerged[`elevation]:raze allmerged[`elevation]\n",
    "\n",
    "/add cosin of month\n",
    "allmerged:update month:`mm$date,cos_t:cos 2*3.14*(`mm$date)%12,sin_t:sin 2*3.14*(`mm$date)%12 from allmerged"
   ]
  },
  {
   "cell_type": "markdown",
   "metadata": {},
   "source": [
    "### Adding Features Columns"
   ]
  },
  {
   "cell_type": "markdown",
   "metadata": {},
   "source": [
    "Add lagged features. Previous data about rainfall/stream gages are also an important feature needed to measure if a river will flood or not. The lagged stream features that will be extracted are:\n",
    "\n",
    "      - The stream gage level was at a given stream a year prior\n",
    "      - The average gage level over the last 3 months \n",
    "      - The average stream level over it's lifetime until the given date\n",
    "      \n",
    "\n",
    "The lagged rainfall features that will be extracted are:\n",
    "    \n",
    "       -The max,avg and variance rainfall for a given streamgage for the previous 1,2 and 3 months\n",
    "       -The rainfall that occured at the 3 gages upstream at that given time (The USGS orders the stream numbers in an ascending order. The first 2 digits correspond with the basin the stream belongs to, while the remaining digits are the order that the given basin appears in the stream (upstream to downstream)\n",
    "       \n",
    " \n",
    "NOTE: This model is strictly for use on streams with gage history. These features will not be applied to ungaged basins. "
   ]
  },
  {
   "cell_type": "code",
   "execution_count": 19,
   "metadata": {},
   "outputs": [
    {
     "name": "stdout",
     "output_type": "stream",
     "text": [
      "date    site_no  lat     long     elevation sumpr maxpre avgpre    varpre    ..\n",
      "-----------------------------------------------------------------------------..\n",
      "2009.07 01200000 41.6588 -73.5287 456       8.01  2.04   0.2583871 0.2031039 ..\n",
      "2009.07 01302020 40.8623 -73.8744 115       5.64  0.9    0.1819355 0.06038335..\n",
      "2009.07 01303000 40.8875 -73.5636 118       4.72  1.24   0.1522581 0.06770135..\n",
      "2009.07 01303500 40.8572 -73.4633 112       4.49  1.22   0.1448387 0.08244433..\n",
      "2009.07 01304000 40.8494 -73.2242 59        5.59  2.14   0.1803226 0.2114805 ..\n",
      "2009.07 01304500 40.9136 -72.6867 20        5.77  2.09   0.186129  0.1817528 ..\n",
      "2009.07 01305000 40.8303 -72.9061 62        6.31  2.65   0.2035484 0.2794874 ..\n",
      "2009.07 01305500                                                             ..\n",
      "2009.07 01306460 40.7719 -73.1586 52        6.21  2.19   0.2003226 0.2373128 ..\n",
      "2009.07 01308000 40.7042 -73.3139 20        4.97  1.38   0.1603226 0.1314289 ..\n",
      "2009.07 01308500 40.7086 -73.3283 20        4.97  1.38   0.1603226 0.1314289 ..\n",
      "2009.07 01309500 40.6889 -73.4547 49        4.88  1.34   0.1574194 0.1072901 ..\n",
      "2009.07 01310500                                                             ..\n",
      "2009.07 01311500 40.6636 -73.7044 20        4.43  0.64   0.1429032 0.04002706..\n",
      "2009.07 01312000 43.9667 -74.1317 1637      4.8   0.79   0.1548387 0.04181852..\n",
      "2009.07 01315000 43.7564 -74.2672 1680      5.05  1.26   0.1629032 0.09910447..\n",
      "2009.07 01315500 43.7008 -73.9833 1293      5.41  1.31   0.1745161 0.09729573..\n",
      "2009.07 01317000 43.6094 -73.7375 951       6.83  1.46   0.2203226 0.1427967 ..\n",
      "2009.07 01318500 43.3189 -73.8442 735       7.3   2.25   0.2354839 0.2357344 ..\n",
      "2009.07 01321000 43.3528 -74.2703 1158      4.87  1.47   0.1570968 0.1080335 ..\n",
      "..\n"
     ]
    }
   ],
   "source": [
    "/Join all dates within time range with stream sites so that there is no gaps in the time series\n",
    "all_dt_range:([] date:raze (count[distinct allmerged[`site_no]])#'asc distinct allmerged[`date];\n",
    "    site_no:raze flip (count[distinct allmerged[`date]])#'asc distinct allmerged[`site_no])\n",
    "\n",
    "show all_dt_merge:all_dt_range lj `site_no`date xkey allmerged"
   ]
  },
  {
   "cell_type": "markdown",
   "metadata": {},
   "source": [
    "Obtain the previous stream levels of each site in history"
   ]
  },
  {
   "cell_type": "code",
   "execution_count": 20,
   "metadata": {},
   "outputs": [
    {
     "name": "stdout",
     "output_type": "stream",
     "text": [
      "date    site_no  lagged_target_1yr lagged_target_recent lagged_target_all\n",
      "-------------------------------------------------------------------------\n",
      "2010.07 01200000 0                 0                    0                \n",
      "2010.08 01200000 0                 0                    0                \n",
      "2010.09 01200000 0                 0                    0                \n",
      "2010.10 01200000 0                 0                    0                \n",
      "2010.11 01200000 0                 0                    0                \n",
      "2010.12 01200000 0                 0                    0                \n",
      "2011.01 01200000 0                 0                    0                \n",
      "2011.02 01200000 0                 0                    0                \n",
      "2011.03 01200000 0                 0                    0                \n",
      "2011.04 01200000 0                 0                    0                \n",
      "2011.05 01200000 0                 0                    0                \n",
      "2011.06 01200000 0                 0                    0                \n",
      "2011.07 01200000 0                 0                    0                \n",
      "2011.08 01200000 0                 0                    0                \n",
      "2011.09 01200000 0                 0                    0                \n",
      "2011.10 01200000 0                 0                    0                \n",
      "2011.11 01200000 0                 0                    0                \n",
      "2011.12 01200000 0                 0                    0                \n",
      "2012.01 01200000 0                 0                    0                \n",
      "2012.02 01200000 0                 0                    0                \n",
      "..\n"
     ]
    }
   ],
   "source": [
    "catch_tgts:0!select site_no,no_Flood,date,cs:count date by site_no from all_dt_merge\n",
    "\n",
    "lagy:raze{12 xprev raze x}each exec no_Flood from catch_tgts\n",
    "lag1:raze{1 xprev raze x}each exec no_Flood from catch_tgts\n",
    "lag2:raze{2 xprev raze x}each exec no_Flood from catch_tgts\n",
    "lag3:raze{3 xprev raze x}each exec no_Flood from catch_tgts\n",
    "lagall:raze{count[x] mavg raze x}each exec no_Flood from catch_tgts\n",
    "\n",
    "lagavg:avg each lag1,'lag2,'lag3\n",
    "\n",
    "lagdt:([] date:raze ((catch_tgts[`cs])#'catch_tgts[`date]);site_no:raze (catch_tgts[`cs])#'catch_tgts[`site_no];\n",
    "    lagged_target_1yr:lagy;lagged_target_recent:lag3;lagged_target_all:lagall)\n",
    "\n",
    "show lagdt:delete from lagdt where i in where any flip null value each lagdt"
   ]
  },
  {
   "cell_type": "markdown",
   "metadata": {},
   "source": [
    "Obtain the 3 month rainfall history per site"
   ]
  },
  {
   "cell_type": "code",
   "execution_count": 21,
   "metadata": {},
   "outputs": [
    {
     "name": "stdout",
     "output_type": "stream",
     "text": [
      "date    site_no  avg_prev_1 avg_prev_2 avg_prev_3 max_prev_1 max_prev_2 max_p..\n",
      "-----------------------------------------------------------------------------..\n",
      "2009.10 01200000 0.05166667 0.1916129  0.2583871  0.85       1.59       2.04 ..\n",
      "2009.11 01200000 0.1454839  0.05166667 0.1916129  1.46       0.85       1.59 ..\n",
      "2009.12 01200000 0.05066667 0.1454839  0.05166667 0.49       1.46       0.85 ..\n",
      "2010.01 01200000 0.1809677  0.05066667 0.1454839  0.93       0.49       1.46 ..\n",
      "2010.02 01200000 0.09096774 0.1809677  0.05066667 1.75       0.93       0.49 ..\n",
      "2010.03 01200000 0.1575     0.09096774 0.1809677  2.28       1.75       0.93 ..\n",
      "2010.04 01200000 0.2096774  0.1575     0.09096774 1.36       2.28       1.75 ..\n",
      "2010.05 01200000 0.07233333 0.2096774  0.1575     0.57       1.36       2.28 ..\n",
      "2010.06 01200000 0.06225806 0.07233333 0.2096774  0.69       0.57       1.36 ..\n",
      "2010.07 01200000 0.104      0.06225806 0.07233333 0.73       0.69       0.57 ..\n",
      "2010.08 01200000 0.07709677 0.104      0.06225806 0.56       0.73       0.69 ..\n",
      "2010.09 01200000 0.1874194  0.07709677 0.104      2.7        0.56       0.73 ..\n",
      "2010.10 01200000 0.065      0.1874194  0.07709677 0.74       2.7        0.56 ..\n",
      "2010.11 01200000 0.2890323  0.065      0.1874194  3.1        0.74       2.7  ..\n",
      "2010.12 01200000 0.1063333  0.2890323  0.065      1.15       3.1        0.74 ..\n",
      "2011.01 01200000 0.1529032  0.1063333  0.2890323  1.8        1.15       3.1  ..\n",
      "2011.02 01200000 0.1074194  0.1529032  0.1063333  0.92       1.8        1.15 ..\n",
      "2011.03 01200000 0.1232143  0.1074194  0.1529032  1.09       0.92       1.8  ..\n",
      "2011.04 01200000 0.2216129  0.1232143  0.1074194  3.2        1.09       0.92 ..\n",
      "2011.05 01200000 0.1863333  0.2216129  0.1232143  1.98       3.2        1.09 ..\n",
      "..\n"
     ]
    }
   ],
   "source": [
    "catch_dts:0!select date,avgpre,maxpre,varpre,cs:count i by site_no from all_dt_merge\n",
    "\n",
    "avg1:raze {1 xprev raze x}each exec avgpre from catch_dts\n",
    "avg2:raze {2 xprev raze x}each exec avgpre from catch_dts\n",
    "avg3:raze {3 xprev raze x}each exec avgpre from catch_dts\n",
    "\n",
    "\n",
    "max1:raze {1 xprev raze x}each exec maxpre from catch_dts\n",
    "max2:raze{2 xprev raze x}each exec maxpre from catch_dts\n",
    "max3:raze{3 xprev raze x}each exec maxpre from catch_dts\n",
    "\n",
    "var1:raze{1 xprev raze x}each exec varpre from catch_dts\n",
    "var2:raze{2 xprev raze x}each exec varpre from catch_dts\n",
    "var3:raze{3 xprev raze x}each exec varpre from catch_dts\n",
    "\n",
    "prevdt:([] date:raze ((catch_dts[`cs])#'catch_dts[`date]);site_no:raze (catch_dts[`cs])#'catch_dts[`site_no];\n",
    "    avg_prev_1:avg1;\n",
    "    avg_prev_2:avg2;avg_prev_3:avg3;\n",
    "    max_prev_1:max1;max_prev_2:max2;max_prev_3:max3;var_prev_1:var1;var_prev_2:var2;var_prev_3:var3)\n",
    "\n",
    "show prevdt:delete from prevdt where i in where any flip null value each prevdt"
   ]
  },
  {
   "cell_type": "markdown",
   "metadata": {},
   "source": [
    "Obtain the rainfall up the 3 upstream basins of a site"
   ]
  },
  {
   "cell_type": "code",
   "execution_count": 22,
   "metadata": {},
   "outputs": [
    {
     "name": "stdout",
     "output_type": "stream",
     "text": [
      "date    site_no  avg_ups_1 avg_ups_2 avg_ups_3 max_ups_1 max_ups_2 max_ups_3 ..\n",
      "-----------------------------------------------------------------------------..\n",
      "2009.07 01303500 0.1522581 0.1819355 0.2583871 1.24      0.9       2.04      ..\n",
      "2009.07 01304000 0.1448387 0.1522581 0.1819355 1.22      1.24      0.9       ..\n",
      "2009.07 01304500 0.1803226 0.1448387 0.1522581 2.14      1.22      1.24      ..\n",
      "2009.07 01305000 0.186129  0.1803226 0.1448387 2.09      2.14      1.22      ..\n",
      "2009.07 01305500 0.2035484 0.186129  0.1803226 2.65      2.09      2.14      ..\n",
      "2009.07 01309500 0.1603226 0.1603226 0.2003226 1.38      1.38      2.19      ..\n",
      "2009.07 01310500 0.1574194 0.1603226 0.1603226 1.34      1.38      1.38      ..\n",
      "2009.07 01315500 0.1629032 0.1548387 0.1429032 1.26      0.79      0.64      ..\n",
      "2009.07 01317000 0.1745161 0.1629032 0.1548387 1.31      1.26      0.79      ..\n",
      "2009.07 01318500 0.2203226 0.1745161 0.1629032 1.46      1.31      1.26      ..\n",
      "2009.07 01321000 0.2354839 0.2203226 0.1745161 2.25      1.46      1.31      ..\n",
      "2009.07 01325000 0.1570968 0.2354839 0.2203226 1.47      2.25      1.46      ..\n",
      "2009.07 01327750 0.2174194 0.1570968 0.2354839 2.11      1.47      2.25      ..\n",
      "2009.07 01329490 0.2032258 0.2174194 0.1570968 1.54      2.11      1.47      ..\n",
      "2009.07 01330000 0.2474194 0.2032258 0.2174194 1.82      1.54      2.11      ..\n",
      "2009.07 01334500 0.1864516 0.2474194 0.2032258 1.32      1.82      1.54      ..\n",
      "2009.07 01335754 0.2290323 0.1864516 0.2474194 1.55      1.32      1.82      ..\n",
      "2009.07 01335755 0.2648387 0.2290323 0.1864516 3.02      1.55      1.32      ..\n",
      "2009.07 01348000 0.1645161 0.1303226 0.1519355 1.03      0.71      0.98      ..\n",
      "2009.07 01349000 0.1735484 0.1645161 0.1303226 1.18      1.03      0.71      ..\n",
      "..\n"
     ]
    }
   ],
   "source": [
    "catch_atts:0!select site_no,avgpre,maxpre,varpre,cs:count i by date,catch:2#'string each site_no from all_dt_merge\n",
    "\n",
    "avg1:raze {1 xprev raze x}each exec avgpre from catch_atts\n",
    "avg2:raze {2 xprev raze x}each exec avgpre from catch_atts\n",
    "avg3:raze {3 xprev raze x}each exec avgpre from catch_atts\n",
    "\n",
    "\n",
    "max1:raze {1 xprev raze x}each exec maxpre from catch_atts\n",
    "max2:raze{2 xprev raze x}each exec maxpre from catch_atts\n",
    "max3:raze{3 xprev raze x}each exec maxpre from catch_atts\n",
    "\n",
    "var1:raze{1 xprev raze x}each exec varpre from catch_atts\n",
    "var2:raze{2 xprev raze x}each exec varpre from catch_atts\n",
    "var3:raze{3 xprev raze x}each exec varpre from catch_atts\n",
    "\n",
    "upstr:([] date:raze ((catch_atts[`cs])#'catch_atts[`date]);site_no:raze catch_atts[`site_no]; avg_ups_1:avg1;\n",
    "    avg_ups_2:avg2;avg_ups_3:avg3;\n",
    "    max_ups_1:max1;max_ups_2:max2;max_ups_3:max3;var_ups_1:var1;var_ups_2:var2;var_ups_3:var3)\n",
    "\n",
    "show upstr:delete from upstr where i in where any flip null value each upstr"
   ]
  },
  {
   "cell_type": "markdown",
   "metadata": {},
   "source": [
    "Join all the columns together"
   ]
  },
  {
   "cell_type": "code",
   "execution_count": 23,
   "metadata": {},
   "outputs": [
    {
     "name": "stdout",
     "output_type": "stream",
     "text": [
      "site_no  date    lat     long     elevation sumpr maxpre avgpre     varpre   ..\n",
      "-----------------------------------------------------------------------------..\n",
      "01303500 2010.07 40.8572 -73.4633 112       2.42  0.57   0.07806452 0.0261510..\n",
      "01303500 2010.08 40.8572 -73.4633 112       2.1   1.58   0.06774194 0.0788110..\n",
      "01303500 2010.09 40.8572 -73.4633 112       3.11  1.15   0.1036667  0.0659032..\n",
      "01303500 2013.12 40.8572 -73.4633 112       4.7   1.33   0.1516129  0.1197039..\n",
      "01303500 2014.01 40.8572 -73.4633 112       3     0.54   0.09677419 0.0265831..\n",
      "01303500 2014.02 40.8572 -73.4633 112       4.32  1.13   0.1542857  0.0716459..\n",
      "01303500 2014.03 40.8572 -73.4633 112       4.18  2.69   0.1348387  0.2420895..\n",
      "01303500 2014.04 40.8572 -73.4633 112       3.21  0.96   0.107      0.0531343..\n",
      "01303500 2014.05 40.8572 -73.4633 112       6.79  3.69   0.2190323  0.4428152..\n",
      "01303500 2014.06 40.8572 -73.4633 112       3.16  0.9    0.1053333  0.0478448..\n",
      "01303500 2014.07 40.8572 -73.4633 112       3.04  1.1    0.09806452 0.0502349..\n",
      "01303500 2014.08 40.8572 -73.4633 112       3.73  2.72   0.1203226  0.2344225..\n",
      "01303500 2014.09 40.8572 -73.4633 112       2.38  0.82   0.07933333 0.0373795..\n",
      "01303500 2014.10 40.8572 -73.4633 112       3.89  1.07   0.1254839  0.0600570..\n",
      "01303500 2014.11 40.8572 -73.4633 112       4.56  1      0.152      0.081856 ..\n",
      "01303500 2014.12 40.8572 -73.4633 112       6     1.88   0.1935484  0.1661003..\n",
      "01303500 2015.01 40.8572 -73.4633 112       5.2   1.54   0.1677419  0.1190433..\n",
      "01303500 2015.02 40.8572 -73.4633 112       2.15  0.75   0.07678571 0.0360003..\n",
      "01303500 2015.03 40.8572 -73.4633 112       4.43  0.68   0.1429032  0.0482399..\n",
      "01303500 2015.04 40.8572 -73.4633 112       1.95  1.04   0.065      0.0360783..\n",
      "..\n"
     ]
    }
   ],
   "source": [
    "show added_cols:((allmerged ij `site_no`date xkey upstr) ij `site_no`date xkey prevdt) ij `site_no`date xkey lagdt"
   ]
  },
  {
   "cell_type": "markdown",
   "metadata": {},
   "source": [
    "### Machine Learning Model"
   ]
  },
  {
   "cell_type": "code",
   "execution_count": 27,
   "metadata": {},
   "outputs": [],
   "source": [
    "tgts:select site_no,no_Action,no_Flood,no_Mod,no_Major from added_cols\n",
    "added_cols:delete no_Action,no_Flood,no_Mod,no_Major from added_cols"
   ]
  },
  {
   "cell_type": "code",
   "execution_count": 28,
   "metadata": {},
   "outputs": [
    {
     "name": "stdout",
     "output_type": "stream",
     "text": [
      "site_no  date   | lat     long     elevation sumpr maxpre avgpre     varpre  ..\n",
      "----------------| -----------------------------------------------------------..\n",
      "01303500 2010.07| 40.8572 -73.4633 112       2.42  0.57   0.07806452 0.026151..\n",
      "01303500 2010.08| 40.8572 -73.4633 112       2.1   1.58   0.06774194 0.078811..\n",
      "01303500 2010.09| 40.8572 -73.4633 112       3.11  1.15   0.1036667  0.065903..\n",
      "01303500 2013.12| 40.8572 -73.4633 112       4.7   1.33   0.1516129  0.119703..\n",
      "01303500 2014.01| 40.8572 -73.4633 112       3     0.54   0.09677419 0.026583..\n",
      "01303500 2014.02| 40.8572 -73.4633 112       4.32  1.13   0.1542857  0.071645..\n",
      "01303500 2014.03| 40.8572 -73.4633 112       4.18  2.69   0.1348387  0.242089..\n",
      "01303500 2014.04| 40.8572 -73.4633 112       3.21  0.96   0.107      0.053134..\n",
      "01303500 2014.05| 40.8572 -73.4633 112       6.79  3.69   0.2190323  0.442815..\n",
      "01303500 2014.06| 40.8572 -73.4633 112       3.16  0.9    0.1053333  0.047844..\n",
      "01303500 2014.07| 40.8572 -73.4633 112       3.04  1.1    0.09806452 0.050234..\n",
      "01303500 2014.08| 40.8572 -73.4633 112       3.73  2.72   0.1203226  0.234422..\n",
      "01303500 2014.09| 40.8572 -73.4633 112       2.38  0.82   0.07933333 0.037379..\n",
      "01303500 2014.10| 40.8572 -73.4633 112       3.89  1.07   0.1254839  0.060057..\n",
      "01303500 2014.11| 40.8572 -73.4633 112       4.56  1      0.152      0.081856..\n",
      "01303500 2014.12| 40.8572 -73.4633 112       6     1.88   0.1935484  0.166100..\n",
      "01303500 2015.01| 40.8572 -73.4633 112       5.2   1.54   0.1677419  0.119043..\n",
      "01303500 2015.02| 40.8572 -73.4633 112       2.15  0.75   0.07678571 0.036000..\n",
      "01303500 2015.03| 40.8572 -73.4633 112       4.43  0.68   0.1429032  0.048239..\n",
      "01303500 2015.04| 40.8572 -73.4633 112       1.95  1.04   0.065      0.036078..\n",
      "..\n"
     ]
    }
   ],
   "source": [
    "show tabreduced:`site_no`date xkey .ml.filltab[added_cols;`site_no;`date;::]"
   ]
  },
  {
   "cell_type": "markdown",
   "metadata": {},
   "source": [
    "Using Auto-ML we were able to extract the most important basin characteristics from the model, the lagged features were then added after "
   ]
  },
  {
   "cell_type": "code",
   "execution_count": 29,
   "metadata": {},
   "outputs": [],
   "source": [
    "/cols to include\n",
    "cols_to_include:\n",
    "    `site_no`date`cos_t`sin_t,\n",
    "    `elevation`imp`avgpre`maxpre`CatAreaSqKm`WsAreaSqKm`CatAreaSqKmRp100`WsAreaSqKmRp100,\n",
    "    `ElevCat`ElevWs`WtDepCat`WtDepWs`OmCat`OmWs`PermCat`PermWs`RckDepCat`RckDepWs`ClayCat`ClayWs,\n",
    "    `SandCat`SandWs`RunoffCat`RunoffWs`WetIndexCat`WetIndexWs`BFICat`BFIWs,\n",
    "    `avg_prev_1`avg_prev_2`avg_prev_3`max_prev_1`max_prev_2`max_prev_3`var_prev_1`var_prev_2,\n",
    "    `var_prev_3`avg_ups_1`avg_ups_2`avg_ups_3`max_ups_1`max_ups_2`max_ups_3`var_ups_1,`var_ups_2`var_ups_3,\n",
    "    `lagged_target_1yr`lagged_target_recent`lagged_target_all"
   ]
  },
  {
   "cell_type": "code",
   "execution_count": 30,
   "metadata": {},
   "outputs": [
    {
     "name": "stdout",
     "output_type": "stream",
     "text": [
      "site_no  date   | cos_t        sin_t        elevation imp      avgpre     max..\n",
      "----------------| -----------------------------------------------------------..\n",
      "01303500 2010.07| -0.866953    -0.49839     112       14.47757 0.07806452 0.5..\n",
      "01303500 2010.08| -0.5018379   -0.8649617   112       14.47757 0.06774194 1.5..\n",
      "01303500 2010.09| -0.002388978 -0.9999971   112       14.47757 0.1036667  1.1..\n",
      "01303500 2013.12| 0.9999949    -0.003185302 112       14.47757 0.1516129  1.3..\n",
      "01303500 2014.01| 0.8661581    0.4997701    112       14.47757 0.09677419 0.5..\n",
      "01303500 2014.02| 0.5004597    0.8657598    112       14.47757 0.1542857  1.1..\n",
      "01303500 2014.03| 0.0007963267 0.9999997    112       14.47757 0.1348387  2.6..\n",
      "01303500 2014.04| -0.4990802   0.8665558    112       14.47757 0.107      0.9..\n",
      "01303500 2014.05| -0.865361    0.501149     112       14.47757 0.2190323  3.6..\n",
      "01303500 2014.06| -0.9999987   0.001592653  112       14.47757 0.1053333  0.9..\n",
      "01303500 2014.07| -0.866953    -0.49839     112       14.47757 0.09806452 1.1..\n",
      "01303500 2014.08| -0.5018379   -0.8649617   112       14.47757 0.1203226  2.7..\n",
      "01303500 2014.09| -0.002388978 -0.9999971   112       14.47757 0.07933333 0.8..\n",
      "01303500 2014.10| 0.4976994    -0.8673496   112       14.47757 0.1254839  1.0..\n",
      "01303500 2014.11| 0.8645618    -0.5025265   112       14.47757 0.152      1  ..\n",
      "01303500 2014.12| 0.9999949    -0.003185302 112       14.47757 0.1935484  1.8..\n",
      "01303500 2015.01| 0.8661581    0.4997701    112       14.47757 0.1677419  1.5..\n",
      "01303500 2015.02| 0.5004597    0.8657598    112       14.47757 0.07678571 0.7..\n",
      "01303500 2015.03| 0.0007963267 0.9999997    112       14.47757 0.1429032  0.6..\n",
      "01303500 2015.04| -0.4990802   0.8665558    112       14.47757 0.065      1.0..\n",
      "..\n"
     ]
    }
   ],
   "source": [
    "show tabreducedn:`site_no`date xkey flip cols_to_include!(0!tabreduced)[cols_to_include]"
   ]
  },
  {
   "cell_type": "markdown",
   "metadata": {},
   "source": [
    "Standardised scaling is preformed on some of the columns"
   ]
  },
  {
   "cell_type": "code",
   "execution_count": 31,
   "metadata": {},
   "outputs": [],
   "source": [
    "stdtab:.ml.stdscaler[value tabreducedn]\n",
    "newtab:`site_no`date xkey (select site_no,date from 0!tabreducedn),'stdtab"
   ]
  },
  {
   "cell_type": "markdown",
   "metadata": {},
   "source": [
    "The train and test set are strictly divided so that each station is either in train or test so that there is no data leakage"
   ]
  },
  {
   "cell_type": "code",
   "execution_count": 32,
   "metadata": {},
   "outputs": [],
   "source": [
    "tstsplt:250#distinct key[newtab][`site_no]\n",
    "trainsplt:250_distinct key[newtab][`site_no]"
   ]
  },
  {
   "cell_type": "code",
   "execution_count": 33,
   "metadata": {},
   "outputs": [],
   "source": [
    "xtrain:value select from newtab where site_no in trainsplt\n",
    "xtest:value select from newtab where site_no in tstsplt"
   ]
  },
  {
   "cell_type": "code",
   "execution_count": 34,
   "metadata": {},
   "outputs": [],
   "source": [
    "/predict for  Moderate floods\n",
    "ytrain:(exec no_Flood from tgts where site_no in trainsplt)>0\n",
    "ytest:(exec no_Flood from tgts where site_no in tstsplt)>0\n"
   ]
  },
  {
   "cell_type": "code",
   "execution_count": 35,
   "metadata": {},
   "outputs": [],
   "source": [
    "/backfilling per site doesn't work as nulls for all site, will look more into that\n",
    "xtr:(mattab xtrain)[(til count[mattab xtrain]) except where 0<>{count where x=0n}each mattab xtrain]\n",
    "ytr:ytrain[(til count[mattab xtrain]) except where 0<>{count where x=0n}each mattab xtrain]"
   ]
  },
  {
   "cell_type": "markdown",
   "metadata": {},
   "source": [
    "### Baseline Random Forest"
   ]
  },
  {
   "cell_type": "code",
   "execution_count": 36,
   "metadata": {},
   "outputs": [],
   "source": [
    "clf:.p.import[`sklearn.ensemble][`:RandomForestClassifier][`n_estimators pykw 200;`random_state pykw 1]\n",
    "clf[`:fit][xtr;ytr]`;\n",
    "pred1:clf[`:predict][mattab xtest]`"
   ]
  },
  {
   "cell_type": "code",
   "execution_count": 37,
   "metadata": {},
   "outputs": [
    {
     "data": {
      "text/plain": [
       "class    | precision recall    f1_score  support\n",
       "---------| -------------------------------------\n",
       "0        | 0.997344  0.9778935 0.987523  17280  \n",
       "1        | 0.8003136 0.9714467 0.8776154 1576   \n",
       "avg/total| 0.8988288 0.9746701 0.9325692 18856  \n"
      ]
     },
     "execution_count": 37,
     "metadata": {},
     "output_type": "execute_result"
    }
   ],
   "source": [
    ".ml.classreport[ytest;pred1]"
   ]
  },
  {
   "cell_type": "code",
   "execution_count": 39,
   "metadata": {
    "scrolled": false
   },
   "outputs": [
    {
     "name": "stdout",
     "output_type": "stream",
     "text": [
      "0| 16898 382 \n",
      "1| 45    1531\n",
      "The accuracy of the model is 0.9773547\n",
      "The mean_class_accuracy of the model is 0.9746701\n"
     ]
    },
    {
     "data": {
      "image/png": "[encoded data removed]",
      "text/plain": [
       "<Figure size 720x720 with 1 Axes>"
      ]
     },
     "metadata": {},
     "output_type": "display_data"
    }
   ],
   "source": [
    "show cnfM:.ml.confmat[ytest;pred1]\n",
    "conf:.ml.confdict[ytest;pred1;1b]\n",
    "\n",
    "acc:(count where pred1=ytest)%count[ytest]\n",
    "meanclassavg:avg (conf[`tp]%(sum conf[`tp`fn]);conf[`tn]%(sum conf[`tn`fp]))\n",
    "\n",
    "-1\"The accuracy of the model is \",string acc;\n",
    "-1\"The mean_class_accuracy of the model is \",string meanclassavg;\n",
    ".ml.displayCM[value cnfM;`Low`High;\"Test Set Confusion Matrix\";()]"
   ]
  },
  {
   "cell_type": "markdown",
   "metadata": {},
   "source": [
    "### Neural Net"
   ]
  },
  {
   "cell_type": "markdown",
   "metadata": {},
   "source": [
    "Import models needed for Neural Net"
   ]
  },
  {
   "cell_type": "code",
   "execution_count": 40,
   "metadata": {},
   "outputs": [
    {
     "name": "stderr",
     "output_type": "stream",
     "text": [
      "Using TensorFlow backend.\n"
     ]
    }
   ],
   "source": [
    "tf: .p.import[`tensorflow]\n",
    "ker: .p.import[`tensorflow.keras]\n",
    "layers:.p.import[`tensorflow.keras.layers]\n",
    "dense:  .p.import[`keras.layers]`:Dense\n",
    "\n",
    "km:.p.import[`keras_metrics]\n",
    "models:.p.import[`keras]`:Model\n",
    "sequential:.p.import[`keras.models]`:Sequential\n",
    "plt:.p.import[`matplotlib]`:pyplot\n",
    "inp:.p.import[`keras.layers]`:Input\n"
   ]
  },
  {
   "cell_type": "code",
   "execution_count": 41,
   "metadata": {
    "scrolled": true
   },
   "outputs": [
    {
     "name": "stderr",
     "output_type": "stream",
     "text": [
      "WARNING: Logging before flag parsing goes to stderr.\n",
      "W0801 05:19:31.164083 140643687219200 deprecation_wrapper.py:119] From /home/dianeodonoghue/miniconda3/lib/python3.7/site-packages/keras/backend/tensorflow_backend.py:74: The name tf.get_default_graph is deprecated. Please use tf.compat.v1.get_default_graph instead.\n",
      "\n",
      "W0801 05:19:31.190910 140643687219200 deprecation_wrapper.py:119] From /home/dianeodonoghue/miniconda3/lib/python3.7/site-packages/keras/backend/tensorflow_backend.py:517: The name tf.placeholder is deprecated. Please use tf.compat.v1.placeholder instead.\n",
      "\n",
      "W0801 05:19:31.198262 140643687219200 deprecation_wrapper.py:119] From /home/dianeodonoghue/miniconda3/lib/python3.7/site-packages/keras/backend/tensorflow_backend.py:4138: The name tf.random_uniform is deprecated. Please use tf.random.uniform instead.\n",
      "\n",
      "W0801 05:19:31.273861 140643687219200 deprecation_wrapper.py:119] From /home/dianeodonoghue/miniconda3/lib/python3.7/site-packages/keras/optimizers.py:790: The name tf.train.Optimizer is deprecated. Please use tf.compat.v1.train.Optimizer instead.\n",
      "\n",
      "W0801 05:19:31.302393 140643687219200 deprecation_wrapper.py:119] From /home/dianeodonoghue/miniconda3/lib/python3.7/site-packages/keras/backend/tensorflow_backend.py:3376: The name tf.log is deprecated. Please use tf.math.log instead.\n",
      "\n",
      "W0801 05:19:31.308670 140643687219200 deprecation.py:323] From /home/dianeodonoghue/miniconda3/lib/python3.7/site-packages/tensorflow/python/ops/nn_impl.py:180: add_dispatch_support.<locals>.wrapper (from tensorflow.python.ops.array_ops) is deprecated and will be removed in a future version.\n",
      "Instructions for updating:\n",
      "Use tf.where in 2.0, which has the same broadcast rule as np.where\n",
      "W0801 05:19:31.343495 140643687219200 deprecation_wrapper.py:119] From /home/dianeodonoghue/miniconda3/lib/python3.7/site-packages/keras/backend/tensorflow_backend.py:986: The name tf.assign_add is deprecated. Please use tf.compat.v1.assign_add instead.\n",
      "\n"
     ]
    },
    {
     "name": "stdout",
     "output_type": "stream",
     "text": [
      "_________________________________________________________________\n",
      "Layer (type)                 Output Shape              Param #   \n",
      "=================================================================\n",
      "input_1 (InputLayer)         (None, 51)                0         \n",
      "_________________________________________________________________\n",
      "dense_1 (Dense)              (None, 40)                2080      \n",
      "_________________________________________________________________\n",
      "dense_2 (Dense)              (None, 40)                1640      \n",
      "_________________________________________________________________\n",
      "dense_3 (Dense)              (None, 1)                 41        \n",
      "=================================================================\n",
      "Total params: 3,761\n",
      "Trainable params: 3,761\n",
      "Non-trainable params: 0\n",
      "_________________________________________________________________\n"
     ]
    },
    {
     "name": "stderr",
     "output_type": "stream",
     "text": [
      "2019-08-01 05:19:31.813399: I tensorflow/core/platform/cpu_feature_guard.cc:142] Your CPU supports instructions that this TensorFlow binary was not compiled to use: AVX2 FMA\n",
      "2019-08-01 05:19:31.827947: I tensorflow/core/platform/profile_utils/cpu_utils.cc:94] CPU Frequency: 2300000000 Hz\n",
      "2019-08-01 05:19:31.832132: I tensorflow/compiler/xla/service/service.cc:168] XLA service 0x6d146d0 executing computations on platform Host. Devices:\n",
      "2019-08-01 05:19:31.832241: I tensorflow/compiler/xla/service/service.cc:175]   StreamExecutor device (0): <undefined>, <undefined>\n",
      "2019-08-01 05:19:32.049280: W tensorflow/compiler/jit/mark_for_compilation_pass.cc:1412] (One-time warning): Not using XLA:CPU for cluster because envvar TF_XLA_FLAGS=--tf_xla_cpu_global_jit was not set.  If you want XLA:CPU, either set that envvar, or use experimental_jit_scope to enable XLA:CPU.  To confirm that XLA is active, pass --vmodule=xla_compilation_cache=1 (as a proper command-line flag, not via TF_XLA_FLAGS) or set the envvar XLA_FLAGS=--xla_hlo_profile.\n"
     ]
    },
    {
     "name": "stdout",
     "output_type": "stream",
     "text": [
      "Epoch 1/100\n",
      "23660/23660 [==============================] - 1s 40us/step - loss: 0.2206 - precision: 0.9510 - recall: 0.62350e+ - ETA: 4s - loss: 0.4784 - precision: 0.9600 - recall: 0.0789         - ETA: 2s - loss: 0.4100 - precision: 0.9753 - recall: 0.24 - ETA: 1s - loss: 0.3754 - precision: 0.9814 - recall: 0.33 - ETA: 1s - loss: 0.3385 - precision: 0.9765 - recall: 0.40 - ETA: 0s - loss: 0.3117 - precision: 0.9724 - recall: 0.45 - ETA: 0s - loss: 0.2909 - precision: 0.9670 - recall: 0.49 - ETA: 0s - loss: 0.2721 - precision: 0.9595 - recall: 0.52 - ETA: 0s - loss: 0.2571 - precision: 0.9582 - recall: 0.55 - ETA: 0s - loss: 0.2482 - precision: 0.9575 - recall: 0.57 - ETA: 0s - loss: 0.2406 - precision: 0.9573 - recall: 0.58 - ETA: 0s - loss: 0.2357 - precision: 0.9532 - recall: 0.59 - ETA: 0s - loss: 0.2285 - precision: 0.9543 - recall: 0.61 - ETA: 0s - loss: 0.2239 - precision: 0.9531 - recall: 0.61\n",
      "Epoch 2/100\n",
      "23660/23660 [==============================] - ETA: 1s - loss: 0.1389 - precision: 0.8571 - recall: 0.85 - ETA: 0s - loss: 0.1524 - precision: 0.9237 - recall: 0.74 - ETA: 0s - loss: 0.1548 - precision: 0.9310 - recall: 0.74 - ETA: 0s - loss: 0.1545 - precision: 0.9289 - recall: 0.74 - ETA: 0s - loss: 0.1531 - precision: 0.9295 - recall: 0.75 - ETA: 0s - loss: 0.1576 - precision: 0.9319 - recall: 0.74 - ETA: 0s - loss: 0.1563 - precision: 0.9333 - recall: 0.75 - ETA: 0s - loss: 0.1552 - precision: 0.9317 - recall: 0.75 - ETA: 0s - loss: 0.1548 - precision: 0.9287 - recall: 0.75 - ETA: 0s - loss: 0.1541 - precision: 0.9294 - recall: 0.75 - ETA: 0s - loss: 0.1541 - precision: 0.9270 - recall: 0.75 - ETA: 0s - loss: 0.1515 - precision: 0.9295 - recall: 0.75 - ETA: 0s - loss: 0.1493 - precision: 0.9297 - recall: 0.76 - 1s 27us/step - loss: 0.1479 - precision: 0.9316 - recall: 0.7653\n",
      "Epoch 3/100\n",
      "23660/23660 [==============================] - 1s 26us/step - loss: 0.1332 - precision: 0.9273 - recall: 0.7922 0s - loss: 0.1416 - precision: 0.9135 - recall: 0.75 - ETA: 0s - loss: 0.1379 - precision: 0.9073 - recall: 0.76 - ETA: 0s - loss: 0.1341 - precision: 0.9209 - recall: 0.76 - ETA: 0s - loss: 0.1354 - precision: 0.9209 - recall: 0.76 - ETA: 0s - loss: 0.1367 - precision: 0.9200 - recall: 0.77 - ETA: 0s - loss: 0.1363 - precision: 0.9243 - recall: 0.78 - ETA: 0s - loss: 0.1363 - precision: 0.9241 - recall: 0.78 - ETA: 0s - loss: 0.1357 - precision: 0.9248 - recall: 0.78 - ETA: 0s - loss: 0.1357 - precision: 0.9245 - recall: 0.78 - ETA: 0s - loss: 0.1352 - precision: 0.9240 - recall: 0.78 - ETA: 0s - loss: 0.1341 - precision: 0.9262 - recall: 0.79\n",
      "Epoch 4/100\n",
      "23660/23660 [==============================] - 1s 22us/step - loss: 0.1235 - precision: 0.9239 - recall: 0.8113 0s - loss: 0.1254 - precision: 0.9238 - recall: 0.81 - ETA: 0s - loss: 0.1281 - precision: 0.9227 - recall: 0.80 - ETA: 0s - loss: 0.1237 - precision: 0.9343 - recall: 0. - ETA: 0s - loss: 0.1244 - precision: 0.9282 - recall: 0.80 - ETA: 0s - loss: 0.1253 - precision: 0.9269 - recall: 0.80 - ETA: 0s - loss: 0.1246 - precision: 0.9236 - recall: 0. - ETA: 0s - loss: 0.1240 - precision: 0.9261 - recall: 0.80\n",
      "Epoch 5/100\n",
      "23660/23660 [==============================] - ETA: 0s - loss: 0.1118 - precision: 0.9323 - recall: 0.8253 ETA: 0s - loss: 0.1057 - precision: 0.9707 - recall: 0.82 - ETA: 0s - loss: 0.1033 - precision: 0.9504 - recall: 0.82 - ETA: 0s - loss: 0.1097 - precision: 0.9404 - recall: 0.82 - ETA: 0s - loss: 0.1093 - precision: 0.9347 - recall: 0. - ETA: 0s - loss: 0.1143 - precision: 0.9299 - recall: 0.82 - ETA: 0s - loss: 0.1161 - precision: 0.9256 - recall: 0.82 - ETA: 0s - loss: 0.1143 - precision: 0.9287 - recall: 0.82 - ETA: 0s - loss: 0.1151 - precision: 0.9311 - recall: 0.82 - ETA: 0s - loss: 0.1163 - precision: 0.9294 - recall: 0.82 - ETA: 0s - loss: 0.1160 - precision: 0.9295 - recall: 0.82 - ETA: 0s - loss: 0.1165 - precision: 0.9297 - recall: 0.82 - 1s 27us/step - loss: 0.1169 - precision: 0.9290 - recall: 0.8263\n",
      "Epoch 6/100\n",
      "23660/23660 [==============================] - ETA: 0s - loss: 0.1204 - precision: 0.8000 - recall: 0.80 - ETA: 0s - loss: 0.1244 - precision: 0.9086 - recall: 0.81 - ETA: 0s - loss: 0.1169 - precision: 0.9224 - recall: 0.82 - ETA: 0s - loss: 0.1159 - precision: 0.9198 - recall: 0.83 - ETA: 0s - loss: 0.1129 - precision: 0.9272 - recall: 0.82 - ETA: 0s - loss: 0.1127 - precision: 0.9325 - recall: 0.82 - ETA: 0s - loss: 0.1108 - precision: 0.9336 - recall: 0.83 - ETA: 0s - loss: 0.1103 - precision: 0.9327 - recall: 0.83 - ETA: 0s - loss: 0.1114 - precision: 0.9287 - recall: 0.83 - ETA: 0s - loss: 0.1112 - precision: 0.9274 - recall: 0.83 - ETA: 0s - loss: 0.1115 - precision: 0.9289 - recall: 0.83 - ETA: 0s - loss: 0.1108 - precision: 0.9273 - recall: 0.83 - 1s 25us/step - loss: 0.1110 - precision: 0.9269 - recall: 0.8370\n",
      "Epoch 7/100\n",
      "23660/23660 [==============================] - 1s 27us/step - loss: 0.1071 - precision: 0.9221 - recall: 0.8485 0s - loss: 0.0945 - precision: 0.9317 - recall: 0.85 - ETA: 0s - loss: 0.0985 - precision: 0.9428 - recall: 0.86 - ETA: 0s - loss: 0.1034 - precision: 0.9319 - recall: 0.85 - ETA: 0s - loss: 0.1083 - precision: 0.9262 - recall: 0.84 - ETA: 0s - loss: 0.1038 - precision: 0.9325 - recall: 0.85 - ETA: 0s - loss: 0.1042 - precision: 0.9326 - recall: 0.85 - ETA: 0s - loss: 0.1048 - precision: 0.9315 - recall: 0.85 - ETA: 0s - loss: 0.1050 - precision: 0.9312 - recall: 0.85 - ETA: 0s - loss: 0.1053 - precision: 0.9291 - recall: 0.85 - ETA: 0s - loss: 0.1064 - precision: 0.9248 - recall: 0.84 - ETA: 0s - loss: 0.1082 - precision: 0.9230 - recall: 0.84 - ETA: 0s - loss: 0.1073 - precision: 0.9237 - recall: 0.84\n",
      "Epoch 8/100\n",
      "23660/23660 [==============================] - 1s 25us/step - loss: 0.1011 - precision: 0.9337 - recall: 0.8562 0s - loss: 0.1011 - precision: 0.9452 - recall:  - ETA: 0s - loss: 0.1015 - precision: 0.9428 - recall: 0.84 - ETA: 0s - loss: 0.1021 - precision: 0.9381 - recall: 0.84 - ETA: 0s - loss: 0.1014 - precision: 0.9368 - recall: 0.84 - ETA: 0s - loss: 0.1012 - precision: 0.9355 - recall: 0.85 - ETA: 0s - loss: 0.1027 - precision: 0.9351 - recall: 0.85 - ETA: 0s - loss: 0.1016 - precision: 0.9339 - recall: 0.85 - ETA: 0s - loss: 0.1010 - precision: 0.9332 - recall: 0.85 - ETA: 0s - loss: 0.1003 - precision: 0.9348 - recall: 0.85\n",
      "Epoch 9/100\n",
      "23660/23660 [==============================] - ETA: 0s - loss: 0.0497 - precision: 0.9524 - recall: 1.00 - ETA: 0s - loss: 0.0892 - precision: 0.9437 - recall: 0.87 - ETA: 0s - loss: 0.0919 - precision: 0.9264 - recall: 0.86 - ETA: 0s - loss: 0.0943 - precision: 0.9276 - recall: 0.86 - ETA: 0s - loss: 0.0952 - precision: 0.9280 - recall: 0.86 - ETA: 0s - loss: 0.0958 - precision: 0.9294 - recall: 0.86 - ETA: 0s - loss: 0.0965 - precision: 0.9256 - recall: 0.86 - ETA: 0s - loss: 0.0975 - precision: 0.9275 - recall: 0.85 - ETA: 0s - loss: 0.0971 - precision: 0.9274 - recall: 0.85 - ETA: 0s - loss: 0.0978 - precision: 0.9274 - recall: 0.86 - ETA: 0s - loss: 0.0977 - precision: 0.9281 - recall: 0.86 - ETA: 0s - loss: 0.0990 - precision: 0.9246 - recall: 0.85 - 1s 26us/step - loss: 0.0992 - precision: 0.9252 - recall: 0.8595\n",
      "Epoch 10/100\n",
      "23660/23660 [==============================] - ETA: 0s - loss: 0.0838 - precision: 0.9404 - recall: 0.86 - ETA: 0s - loss: 0.0868 - precision: 0.9451 - recall: 0.86 - ETA: 0s - loss: 0.0888 - precision: 0.9448 - recall: 0.86 - ETA: 0s - loss: 0.0891 - precision: 0.9423 - recall: 0.86 - ETA: 0s - loss: 0.0931 - precision: 0.9391 - recall: 0.85 - ETA: 0s - loss: 0.0946 - precision: 0.9370 - recall: 0.86 - ETA: 0s - loss: 0.0955 - precision: 0.9338 - recall: 0.86 - ETA: 0s - loss: 0.0954 - precision: 0.9315 - recall: 0.86 - ETA: 0s - loss: 0.0966 - precision: 0.9321 - recall: 0.86 - ETA: 0s - loss: 0.0964 - precision: 0.9304 - recall: 0.86 - ETA: 0s - loss: 0.0964 - precision: 0.9301 - recall: 0.86 - 1s 24us/step - loss: 0.0963 - precision: 0.9305 - recall: 0.8658\n",
      "Epoch 11/100\n"
     ]
    },
    {
     "name": "stdout",
     "output_type": "stream",
     "text": [
      "23660/23660 [==============================] - ETA: 0s - loss: 0.0939 - precision: 0.9351 - recall: 0.8681 ETA: 0s - loss: 0.1026 - precision: 0.9356 - recall: 0.84 - ETA: 0s - loss: 0.0995 - precision: 0.9369 - recall: 0.85 - ETA: 0s - loss: 0.0962 - precision: 0.9346 - recall: 0. - ETA: 0s - loss: 0.0956 - precision: 0.9331 - recall: 0.86 - ETA: 0s - loss: 0.0943 - precision: 0.9301 - recall: 0.86 - ETA: 0s - loss: 0.0946 - precision: 0.9305 - recall: 0.86 - ETA: 0s - loss: 0.0942 - precision: 0.9303 - recall: 0.86 - ETA: 0s - loss: 0.0942 - precision: 0.9300 - recall: 0.86 - ETA: 0s - loss: 0.0944 - precision: 0.9288 - recall: 0.86 - ETA: 0s - loss: 0.0945 - precision: 0.9290 - recall: 0.86 - 1s 24us/step - loss: 0.0945 - precision: 0.9292 - recall: 0.8687\n",
      "Epoch 12/100\n",
      "23660/23660 [==============================] - ETA: 0s - loss: 0.1019 - precision: 0.7778 - recall: 0.93 - ETA: 0s - loss: 0.0913 - precision: 0.9177 - recall: 0.88 - ETA: 0s - loss: 0.0900 - precision: 0.9182 - recall: 0.87 - ETA: 0s - loss: 0.0892 - precision: 0.9267 - recall: 0.87 - ETA: 0s - loss: 0.0906 - precision: 0.9319 - recall: 0.87 - ETA: 0s - loss: 0.0923 - precision: 0.9281 - recall: 0.87 - ETA: 0s - loss: 0.0923 - precision: 0.9282 - recall: 0.86 - ETA: 0s - loss: 0.0931 - precision: 0.9249 - recall: 0.87 - ETA: 0s - loss: 0.0938 - precision: 0.9283 - recall: 0.87 - ETA: 0s - loss: 0.0929 - precision: 0.9284 - recall: 0.87 - ETA: 0s - loss: 0.0937 - precision: 0.9281 - recall: 0.87 - ETA: 0s - loss: 0.0923 - precision: 0.9303 - recall: 0.87 - ETA: 0s - loss: 0.0919 - precision: 0.9308 - recall: 0.87 - 1s 27us/step - loss: 0.0922 - precision: 0.9312 - recall: 0.8746\n",
      "Epoch 13/100\n",
      "23660/23660 [==============================] - ETA: 0s - loss: 0.1302 - precision: 0.8750 - recall: 0.87 - ETA: 0s - loss: 0.0863 - precision: 0.9201 - recall: 0.90 - ETA: 0s - loss: 0.0911 - precision: 0.9259 - recall: 0.87 - ETA: 0s - loss: 0.0908 - precision: 0.9232 - recall: 0.87 - ETA: 0s - loss: 0.0911 - precision: 0.9189 - recall: 0.87 - ETA: 0s - loss: 0.0876 - precision: 0.9246 - recall: 0.88 - ETA: 0s - loss: 0.0883 - precision: 0.9265 - recall: 0.87 - ETA: 0s - loss: 0.0876 - precision: 0.9269 - recall: 0.88 - ETA: 0s - loss: 0.0861 - precision: 0.9283 - recall: 0.88 - ETA: 0s - loss: 0.0879 - precision: 0.9292 - recall: 0.88 - ETA: 0s - loss: 0.0902 - precision: 0.9261 - recall: 0.87 - ETA: 0s - loss: 0.0888 - precision: 0.9276 - recall: 0.87 - 1s 26us/step - loss: 0.0898 - precision: 0.9280 - recall: 0.8790\n",
      "Epoch 14/100\n",
      "23660/23660 [==============================] - ETA: 0s - loss: 0.1145 - precision: 0.9143 - recall: 0.94 - ETA: 0s - loss: 0.0972 - precision: 0.9145 - recall: 0.87 - ETA: 0s - loss: 0.0851 - precision: 0.9254 - recall: 0.88 - ETA: 0s - loss: 0.0835 - precision: 0.9256 - recall: 0.87 - ETA: 0s - loss: 0.0823 - precision: 0.9270 - recall: 0.88 - ETA: 0s - loss: 0.0838 - precision: 0.9339 - recall: 0.87 - ETA: 0s - loss: 0.0867 - precision: 0.9322 - recall: 0.87 - ETA: 0s - loss: 0.0880 - precision: 0.9307 - recall: 0.87 - ETA: 0s - loss: 0.0871 - precision: 0.9305 - recall: 0.87 - ETA: 0s - loss: 0.0875 - precision: 0.9311 - recall: 0.87 - ETA: 0s - loss: 0.0870 - precision: 0.9319 - recall: 0.87 - ETA: 0s - loss: 0.0871 - precision: 0.9315 - recall: 0.87 - ETA: 0s - loss: 0.0877 - precision: 0.9306 - recall: 0.87 - 1s 26us/step - loss: 0.0875 - precision: 0.9309 - recall: 0.8779\n",
      "Epoch 15/100\n",
      "23660/23660 [==============================] - 1s 27us/step - loss: 0.0860 - precision: 0.9331 - recall: 0.8826 0s - loss: 0.1038 - precision: 0.9116 - recall: 0.87 - ETA: 0s - loss: 0.0958 - precision: 0.9219 - recall: 0.88 - ETA: 0s - loss: 0.0870 - precision: 0.9327 - recall: 0.88 - ETA: 0s - loss: 0.0871 - precision: 0.9356 - recall: 0.88 - ETA: 0s - loss: 0.0874 - precision: 0.9312 - recall: 0.88 - ETA: 0s - loss: 0.0869 - precision: 0.9329 - recall: 0.88 - ETA: 0s - loss: 0.0861 - precision: 0.9333 - recall: 0.88 - ETA: 0s - loss: 0.0861 - precision: 0.9326 - recall: 0.88 - ETA: 0s - loss: 0.0868 - precision: 0.9291 - recall: 0.88 - ETA: 0s - loss: 0.0854 - precision: 0.9326 - recall: 0.88 - ETA: 0s - loss: 0.0861 - precision: 0.9320 - recall: 0.88 - ETA: 0s - loss: 0.0860 - precision: 0.9330 - recall: 0.88\n",
      "Epoch 16/100\n",
      "23660/23660 [==============================] - ETA: 0s - loss: 0.0856 - precision: 0.9299 - recall: 0.8876 ETA: 0s - loss: 0.0939 - precision: 0.9190 - recall: 0.87 - ETA: 0s - loss: 0.0859 - precision: 0.9342 - recall: 0.88 - ETA: 0s - loss: 0.0850 - precision: 0.9299 - recall: 0.88 - ETA: 0s - loss: 0.0837 - precision: 0.9347 - recall: 0.88 - ETA: 0s - loss: 0.0844 - precision: 0.9312 - recall: 0.88 - ETA: 0s - loss: 0.0844 - precision: 0.9310 - recall: 0. - ETA: 0s - loss: 0.0859 - precision: 0.9301 - recall: 0.88 - ETA: 0s - loss: 0.0871 - precision: 0.9290 - recall: 0.88 - ETA: 0s - loss: 0.0871 - precision: 0.9306 - recall: 0.88 - ETA: 0s - loss: 0.0872 - precision: 0.9280 - recall: 0.88 - ETA: 0s - loss: 0.0869 - precision: 0.9285 - recall: 0.88 - 1s 26us/step - loss: 0.0867 - precision: 0.9287 - recall: 0.8854\n",
      "Epoch 17/100\n",
      "23660/23660 [==============================] - 1s 28us/step - loss: 0.0847 - precision: 0.9307 - recall: 0.8864 0s - loss: 0.0747 - precision: 0.9352 - recall: 0.90 - ETA: 0s - loss: 0.0744 - precision: 0.9367 - recall: 0.90 - ETA: 0s - loss: 0.0791 - precision: 0.9382 - recall: 0. - ETA: 0s - loss: 0.0840 - precision: 0.9305 - recall: 0. - ETA: 0s - loss: 0.0846 - precision: 0.9312 - recall: 0.88 - ETA: 0s - loss: 0.0832 - precision: 0.9344 - recall: 0.88 - ETA: 0s - loss: 0.0834 - precision: 0.9320 - recall: 0.88 - ETA: 0s - loss: 0.0836 - precision: 0.9324 - recall: 0.88 - ETA: 0s - loss: 0.0843 - precision: 0.9305 - recall: 0.88 - ETA: 0s - loss: 0.0853 - precision: 0.9301 - recall: 0.88\n",
      "Epoch 18/100\n",
      "23660/23660 [==============================] - 1s 23us/step - loss: 0.0827 - precision: 0.9344 - recall: 0.8879 0s - loss: 0.0695 - precision: 0.9527 - recall: 0.89 - ETA: 0s - loss: 0.0795 - precision: 0.9393 - recall: 0.88 - ETA: 0s - loss: 0.0823 - precision: 0.9376 - recall: 0.88 - ETA: 0s - loss: 0.0801 - precision: 0.9403 - recall: 0.88 - ETA: 0s - loss: 0.0785 - precision: 0.9418 - recall: 0.89 - ETA: 0s - loss: 0.0787 - precision: 0.9394 - recall: 0.89 - ETA: 0s - loss: 0.0793 - precision: 0.9401 - recall: 0.89 - ETA: 0s - loss: 0.0798 - precision: 0.9353 - recall: 0. - ETA: 0s - loss: 0.0815 - precision: 0.9354 - recall: 0.89\n",
      "Epoch 19/100\n",
      "23660/23660 [==============================] - ETA: 0s - loss: 0.0819 - precision: 0.9342 - recall: 0.8901 ETA: 0s - loss: 0.0861 - precision: 0.9139 - recall: 0.89 - ETA: 0s - loss: 0.0893 - precision: 0.9192 - recall: 0.89 - ETA: 0s - loss: 0.0834 - precision: 0.9337 - recall: 0.89 - ETA: 0s - loss: 0.0837 - precision: 0.9328 - recall: 0.88 - ETA: 0s - loss: 0.0834 - precision: 0.9334 - recall: 0. - ETA: 0s - loss: 0.0818 - precision: 0.9353 - recall: 0.89 - ETA: 0s - loss: 0.0813 - precision: 0.9348 - recall: 0.89 - ETA: 0s - loss: 0.0819 - precision: 0.9329 - recall: 0. - ETA: 0s - loss: 0.0809 - precision: 0.9341 - recall: 0.89 - 1s 24us/step - loss: 0.0811 - precision: 0.9343 - recall: 0.8907\n",
      "Epoch 20/100\n",
      "23660/23660 [==============================] - ETA: 0s - loss: 0.0792 - precision: 0.9388 - recall: 0.9012 ETA: 0s - loss: 0.0810 - precision: 0.9325 - recall:  - ETA: 0s - loss: 0.0805 - precision: 0.9362 - recall: 0.89 - ETA: 0s - loss: 0.0820 - precision: 0.9346 - recall: 0.89 - ETA: 0s - loss: 0.0827 - precision: 0.9343 - recall: 0.89 - ETA: 0s - loss: 0.0820 - precision: 0.9349 - recall: 0.89 - ETA: 0s - loss: 0.0807 - precision: 0.9351 - recall: 0.89 - ETA: 0s - loss: 0.0797 - precision: 0.9345 - recall: 0.89 - ETA: 0s - loss: 0.0797 - precision: 0.9346 - recall: 0.89 - 1s 24us/step - loss: 0.0798 - precision: 0.9358 - recall: 0.8949\n",
      "Epoch 21/100\n"
     ]
    },
    {
     "name": "stdout",
     "output_type": "stream",
     "text": [
      "23660/23660 [==============================] - ETA: 0s - loss: 0.0779 - precision: 0.9391 - recall: 0.8956 ETA: 0s - loss: 0.0693 - precision: 0.9485 - recall: 0. - ETA: 0s - loss: 0.0783 - precision: 0.9364 - recall: 0.89 - ETA: 0s - loss: 0.0782 - precision: 0.9373 - recall: 0.89 - ETA: 0s - loss: 0.0781 - precision: 0.9383 - recall: 0. - ETA: 0s - loss: 0.0777 - precision: 0.9400 - recall: 0.89 - ETA: 0s - loss: 0.0798 - precision: 0.9365 - recall: 0.89 - ETA: 0s - loss: 0.0795 - precision: 0.9365 - recall: 0.89 - 1s 21us/step - loss: 0.0800 - precision: 0.9357 - recall: 0.8932\n",
      "Epoch 22/100\n",
      "23660/23660 [==============================] - ETA: 0s - loss: 0.0747 - precision: 0.9474 - recall: 0.85 - ETA: 0s - loss: 0.0760 - precision: 0.9323 - recall: 0.90 - ETA: 0s - loss: 0.0746 - precision: 0.9354 - recall: 0.89 - ETA: 0s - loss: 0.0755 - precision: 0.9363 - recall: 0.89 - ETA: 0s - loss: 0.0737 - precision: 0.9392 - recall: 0.89 - ETA: 0s - loss: 0.0765 - precision: 0.9380 - recall: 0.89 - ETA: 0s - loss: 0.0766 - precision: 0.9374 - recall: 0.89 - ETA: 0s - loss: 0.0758 - precision: 0.9383 - recall: 0.89 - ETA: 0s - loss: 0.0771 - precision: 0.9376 - recall: 0.89 - ETA: 0s - loss: 0.0767 - precision: 0.9369 - recall: 0.89 - ETA: 0s - loss: 0.0773 - precision: 0.9376 - recall: 0.89 - 1s 22us/step - loss: 0.0772 - precision: 0.9378 - recall: 0.8951\n",
      "Epoch 23/100\n",
      "23660/23660 [==============================] - ETA: 0s - loss: 0.0769 - precision: 0.9397 - recall: 0.8999 ETA: 0s - loss: 0.0814 - precision: 0.9315 - recall: 0.90 - ETA: 0s - loss: 0.0790 - precision: 0.9435 - recall: 0.90 - ETA: 0s - loss: 0.0769 - precision: 0.9436 - recall: 0.90 - ETA: 0s - loss: 0.0772 - precision: 0.9447 - recall: 0.90 - ETA: 0s - loss: 0.0747 - precision: 0.9413 - recall: 0.90 - ETA: 0s - loss: 0.0756 - precision: 0.9407 - recall: 0.90 - ETA: 0s - loss: 0.0755 - precision: 0.9408 - recall: 0. - ETA: 0s - loss: 0.0768 - precision: 0.9400 - recall: 0.89 - 1s 22us/step - loss: 0.0767 - precision: 0.9390 - recall: 0.8982\n",
      "Epoch 24/100\n",
      "23660/23660 [==============================] - ETA: 0s - loss: 0.0806 - precision: 0.9058 - recall: 0.89 - ETA: 0s - loss: 0.0760 - precision: 0.9324 - recall: 0.89 - ETA: 0s - loss: 0.0768 - precision: 0.9306 - recall: 0.90 - ETA: 0s - loss: 0.0738 - precision: 0.9377 - recall: 0.90 - ETA: 0s - loss: 0.0749 - precision: 0.9358 - recall: 0.89 - ETA: 0s - loss: 0.0747 - precision: 0.9360 - recall: 0.89 - ETA: 0s - loss: 0.0761 - precision: 0.9358 - recall: 0.90 - ETA: 0s - loss: 0.0756 - precision: 0.9378 - recall: 0.90 - ETA: 0s - loss: 0.0759 - precision: 0.9387 - recall: 0.90 - ETA: 0s - loss: 0.0752 - precision: 0.9382 - recall: 0.90 - 1s 24us/step - loss: 0.0755 - precision: 0.9376 - recall: 0.9024\n",
      "Epoch 25/100\n",
      "23660/23660 [==============================] - ETA: 0s - loss: 0.0789 - precision: 0.8571 - recall: 0.85 - ETA: 0s - loss: 0.0669 - precision: 0.9555 - recall: 0.90 - ETA: 0s - loss: 0.0690 - precision: 0.9487 - recall: 0.90 - ETA: 0s - loss: 0.0686 - precision: 0.9399 - recall: 0.90 - ETA: 0s - loss: 0.0731 - precision: 0.9342 - recall: 0.90 - ETA: 0s - loss: 0.0724 - precision: 0.9383 - recall: 0.90 - ETA: 0s - loss: 0.0720 - precision: 0.9399 - recall: 0.90 - ETA: 0s - loss: 0.0712 - precision: 0.9402 - recall: 0.90 - ETA: 0s - loss: 0.0722 - precision: 0.9390 - recall: 0.90 - ETA: 0s - loss: 0.0728 - precision: 0.9378 - recall: 0.90 - ETA: 0s - loss: 0.0735 - precision: 0.9394 - recall: 0.90 - ETA: 0s - loss: 0.0736 - precision: 0.9391 - recall: 0.90 - 1s 25us/step - loss: 0.0741 - precision: 0.9385 - recall: 0.9028\n",
      "Epoch 26/100\n",
      "23660/23660 [==============================] - ETA: 0s - loss: 0.0881 - precision: 0.8889 - recall: 0.84 - ETA: 0s - loss: 0.0733 - precision: 0.9358 - recall: 0.89 - ETA: 0s - loss: 0.0674 - precision: 0.9418 - recall: 0.90 - ETA: 0s - loss: 0.0671 - precision: 0.9431 - recall: 0.90 - ETA: 0s - loss: 0.0699 - precision: 0.9411 - recall: 0.89 - ETA: 0s - loss: 0.0714 - precision: 0.9359 - recall: 0.90 - ETA: 0s - loss: 0.0720 - precision: 0.9363 - recall: 0.90 - ETA: 0s - loss: 0.0725 - precision: 0.9391 - recall: 0.90 - ETA: 0s - loss: 0.0731 - precision: 0.9395 - recall: 0.90 - ETA: 0s - loss: 0.0730 - precision: 0.9396 - recall: 0.90 - ETA: 0s - loss: 0.0744 - precision: 0.9357 - recall: 0.90 - ETA: 0s - loss: 0.0743 - precision: 0.9388 - recall: 0.90 - ETA: 0s - loss: 0.0741 - precision: 0.9393 - recall: 0.90 - 1s 28us/step - loss: 0.0745 - precision: 0.9366 - recall: 0.9008\n",
      "Epoch 27/100\n",
      "23660/23660 [==============================] - ETA: 0s - loss: 0.0727 - precision: 0.9371 - recall: 0.9037 ETA: 0s - loss: 0.0741 - precision: 0.9324 - recall: 0.89 - ETA: 0s - loss: 0.0733 - precision: 0.9339 - recall: 0.90 - ETA: 0s - loss: 0.0718 - precision: 0.9424 - recall: 0.90 - ETA: 0s - loss: 0.0738 - precision: 0.9363 - recall:  - ETA: 0s - loss: 0.0730 - precision: 0.9351 - recall: 0. - ETA: 0s - loss: 0.0732 - precision: 0.9364 - recall: 0.90 - ETA: 0s - loss: 0.0736 - precision: 0.9372 - recall: 0.90 - 1s 23us/step - loss: 0.0734 - precision: 0.9374 - recall: 0.9026\n",
      "Epoch 28/100\n",
      "23660/23660 [==============================] - ETA: 0s - loss: 0.0712 - precision: 0.9404 - recall: 0.9067 ETA: 0s - loss: 0.0621 - precision: 0.9420 - recall: 0.90 - ETA: 0s - loss: 0.0642 - precision: 0.9432 - recall: 0.91 - ETA: 0s - loss: 0.0689 - precision: 0.9485 - recall: 0.89 - ETA: 0s - loss: 0.0697 - precision: 0.9467 - recall: 0.90 - ETA: 0s - loss: 0.0679 - precision: 0.9455 - recall: 0.90 - ETA: 0s - loss: 0.0692 - precision: 0.9443 - recall: 0.90 - ETA: 0s - loss: 0.0706 - precision: 0.9431 - recall:  - ETA: 0s - loss: 0.0709 - precision: 0.9408 - recall: 0.90 - 1s 23us/step - loss: 0.0708 - precision: 0.9410 - recall: 0.9057\n",
      "Epoch 29/100\n",
      "23660/23660 [==============================] - 1s 26us/step - loss: 0.0718 - precision: 0.9409 - recall: 0.9055 0s - loss: 0.0688 - precision: 0.9487 - recall: 0.89 - ETA: 0s - loss: 0.0692 - precision: 0.9430 - recall: 0.91 - ETA: 0s - loss: 0.0662 - precision: 0.9443 - recall: 0.90 - ETA: 0s - loss: 0.0664 - precision: 0.9477 - recall: 0.91 - ETA: 0s - loss: 0.0646 - precision: 0.9523 - recall: 0.91 - ETA: 0s - loss: 0.0670 - precision: 0.9469 - recall: 0.91 - ETA: 0s - loss: 0.0711 - precision: 0.9418 - recall: 0.91 - ETA: 0s - loss: 0.0706 - precision: 0.9411 - recall: 0.90 - ETA: 0s - loss: 0.0717 - precision: 0.9404 - recall: 0.90 - ETA: 0s - loss: 0.0720 - precision: 0.9400 - recall: 0.\n",
      "Epoch 30/100\n",
      "23660/23660 [==============================] - ETA: 0s - loss: 0.0528 - precision: 1.0000 - recall: 0.94 - ETA: 0s - loss: 0.0755 - precision: 0.9253 - recall: 0.88 - ETA: 0s - loss: 0.0638 - precision: 0.9410 - recall: 0.91 - ETA: 0s - loss: 0.0638 - precision: 0.9478 - recall: 0.91 - ETA: 0s - loss: 0.0666 - precision: 0.9468 - recall: 0.90 - ETA: 0s - loss: 0.0678 - precision: 0.9497 - recall: 0.90 - ETA: 0s - loss: 0.0680 - precision: 0.9458 - recall: 0.90 - ETA: 0s - loss: 0.0668 - precision: 0.9474 - recall: 0.91 - ETA: 0s - loss: 0.0678 - precision: 0.9455 - recall: 0.90 - ETA: 0s - loss: 0.0684 - precision: 0.9437 - recall: 0.90 - ETA: 0s - loss: 0.0680 - precision: 0.9444 - recall: 0.90 - ETA: 0s - loss: 0.0688 - precision: 0.9445 - recall: 0.90 - ETA: 0s - loss: 0.0690 - precision: 0.9440 - recall: 0.91 - 1s 27us/step - loss: 0.0689 - precision: 0.9459 - recall: 0.9099\n",
      "Epoch 31/100\n",
      "23660/23660 [==============================] - 1s 24us/step - loss: 0.0689 - precision: 0.9442 - recall: 0.9101 0s - loss: 0.0724 - precision: 0.9271 - recall: 0.90 - ETA: 0s - loss: 0.0694 - precision: 0.9358 - recall: 0.91 - ETA: 0s - loss: 0.0710 - precision: 0.9407 - recall: 0.90 - ETA: 0s - loss: 0.0706 - precision: 0.9391 - recall: 0. - ETA: 0s - loss: 0.0690 - precision: 0.9422 - recall: 0. - ETA: 0s - loss: 0.0706 - precision: 0.9413 - recall: 0.\n",
      "Epoch 32/100\n"
     ]
    },
    {
     "name": "stdout",
     "output_type": "stream",
     "text": [
      "23660/23660 [==============================] - 1s 26us/step - loss: 0.0683 - precision: 0.9447 - recall: 0.9107 0s - loss: 0.0689 - precision: 0.9455 - recall: 0.90 - ETA: 0s - loss: 0.0668 - precision: 0.9482 - recall: 0.92 - ETA: 0s - loss: 0.0664 - precision: 0.9522 - recall: 0.91 - ETA: 0s - loss: 0.0664 - precision: 0.9472 - recall: 0. - ETA: 0s - loss: 0.0684 - precision: 0.9468 - recall: 0.90 - ETA: 0s - loss: 0.0673 - precision: 0.9469 - recall: 0.91 - ETA: 0s - loss: 0.0683 - precision: 0.9455 - recall: 0.91 - ETA: 0s - loss: 0.0687 - precision: 0.9450 - recall: 0.91 - ETA: 0s - loss: 0.0691 - precision: 0.9436 - recall: 0.\n",
      "Epoch 33/100\n",
      "23660/23660 [==============================] - 1s 25us/step - loss: 0.0675 - precision: 0.9470 - recall: 0.9118 0s - loss: 0.0620 - precision: 0.9318 - recall: 0.91 - ETA: 0s - loss: 0.0629 - precision: 0.9528 - recall: 0.90 - ETA: 0s - loss: 0.0625 - precision: 0.9493 - recall: 0. - ETA: 0s - loss: 0.0667 - precision: 0.9466 - recall: 0.91 - ETA: 0s - loss: 0.0674 - precision: 0.9451 - recall: 0.91 - ETA: 0s - loss: 0.0677 - precision: 0.9480 - recall: 0.91 - ETA: 0s - loss: 0.0682 - precision: 0.9464 - recall: 0.91 - ETA: 0s - loss: 0.0678 - precision: 0.9475 - recall: 0.90 - ETA: 0s - loss: 0.0669 - precision: 0.9469 - recall: 0.\n",
      "Epoch 34/100\n",
      "23660/23660 [==============================] - ETA: 0s - loss: 0.0387 - precision: 1.0000 - recall: 1.00 - ETA: 0s - loss: 0.0593 - precision: 0.9592 - recall: 0.94 - ETA: 0s - loss: 0.0644 - precision: 0.9489 - recall: 0.92 - ETA: 0s - loss: 0.0646 - precision: 0.9421 - recall: 0.92 - ETA: 0s - loss: 0.0656 - precision: 0.9416 - recall: 0.91 - ETA: 0s - loss: 0.0653 - precision: 0.9455 - recall: 0.91 - ETA: 0s - loss: 0.0629 - precision: 0.9509 - recall: 0.91 - ETA: 0s - loss: 0.0644 - precision: 0.9491 - recall: 0.91 - ETA: 0s - loss: 0.0654 - precision: 0.9466 - recall: 0.91 - ETA: 0s - loss: 0.0647 - precision: 0.9470 - recall: 0.91 - ETA: 0s - loss: 0.0665 - precision: 0.9461 - recall: 0.91 - ETA: 0s - loss: 0.0674 - precision: 0.9435 - recall: 0.91 - ETA: 0s - loss: 0.0676 - precision: 0.9440 - recall: 0.91 - 1s 28us/step - loss: 0.0672 - precision: 0.9447 - recall: 0.9109\n",
      "Epoch 35/100\n",
      "23660/23660 [==============================] - ETA: 0s - loss: 0.0617 - precision: 1.0000 - recall: 0.90 - ETA: 0s - loss: 0.0633 - precision: 0.9633 - recall: 0.91 - ETA: 0s - loss: 0.0638 - precision: 0.9496 - recall: 0.91 - ETA: 0s - loss: 0.0647 - precision: 0.9480 - recall: 0.91 - ETA: 0s - loss: 0.0646 - precision: 0.9453 - recall: 0.91 - ETA: 0s - loss: 0.0633 - precision: 0.9486 - recall: 0.91 - ETA: 0s - loss: 0.0630 - precision: 0.9483 - recall: 0.91 - ETA: 0s - loss: 0.0633 - precision: 0.9496 - recall: 0.91 - ETA: 0s - loss: 0.0629 - precision: 0.9510 - recall: 0.91 - ETA: 0s - loss: 0.0639 - precision: 0.9490 - recall: 0.91 - ETA: 0s - loss: 0.0653 - precision: 0.9483 - recall: 0.91 - ETA: 0s - loss: 0.0656 - precision: 0.9477 - recall: 0.91 - ETA: 0s - loss: 0.0664 - precision: 0.9450 - recall: 0.91 - 1s 27us/step - loss: 0.0665 - precision: 0.9450 - recall: 0.9147\n",
      "Epoch 36/100\n",
      "23660/23660 [==============================] - ETA: 0s - loss: 0.0647 - precision: 0.9540 - recall: 0.9157 ETA: 0s - loss: 0.0788 - precision: 0.9402 - recall: 0.89 - ETA: 0s - loss: 0.0662 - precision: 0.9553 - recall: 0.91 - ETA: 0s - loss: 0.0633 - precision: 0.9587 - recall: 0.92 - ETA: 0s - loss: 0.0607 - precision: 0.9615 - recall: 0.92 - ETA: 0s - loss: 0.0600 - precision: 0.9599 - recall: 0.92 - ETA: 0s - loss: 0.0631 - precision: 0.9566 - recall: 0.91 - ETA: 0s - loss: 0.0646 - precision: 0.9540 - recall: 0.91 - ETA: 0s - loss: 0.0647 - precision: 0.9526 - recall: 0.91 - ETA: 0s - loss: 0.0643 - precision: 0.9546 - recall: 0.91 - ETA: 0s - loss: 0.0644 - precision: 0.9548 - recall: 0. - 1s 26us/step - loss: 0.0657 - precision: 0.9515 - recall: 0.9151\n",
      "Epoch 37/100\n",
      "23660/23660 [==============================] - ETA: 0s - loss: 0.0648 - precision: 0.9483 - recall: 0.9188 ETA: 0s - loss: 0.0560 - precision: 0.9515 - recall: 0.93 - ETA: 0s - loss: 0.0564 - precision: 0.9575 - recall: 0.92 - ETA: 0s - loss: 0.0568 - precision: 0.9557 - recall: 0. - ETA: 0s - loss: 0.0591 - precision: 0.9507 - recall: 0.92 - ETA: 0s - loss: 0.0588 - precision: 0.9526 - recall: 0.92 - ETA: 0s - loss: 0.0619 - precision: 0.9508 - recall: 0.92 - ETA: 0s - loss: 0.0630 - precision: 0.9494 - recall: 0.92 - ETA: 0s - loss: 0.0641 - precision: 0.9486 - recall: 0. - ETA: 0s - loss: 0.0645 - precision: 0.9490 - recall: 0.92 - 1s 25us/step - loss: 0.0645 - precision: 0.9497 - recall: 0.9193\n",
      "Epoch 38/100\n",
      "23660/23660 [==============================] - ETA: 0s - loss: 0.0580 - precision: 0.9520 - recall: 0.94 - ETA: 0s - loss: 0.0563 - precision: 0.9498 - recall: 0.93 - ETA: 0s - loss: 0.0570 - precision: 0.9460 - recall: 0.93 - ETA: 0s - loss: 0.0608 - precision: 0.9449 - recall: 0.92 - ETA: 0s - loss: 0.0602 - precision: 0.9476 - recall: 0.92 - ETA: 0s - loss: 0.0620 - precision: 0.9458 - recall: 0.92 - ETA: 0s - loss: 0.0632 - precision: 0.9449 - recall: 0.92 - ETA: 0s - loss: 0.0632 - precision: 0.9447 - recall: 0.92 - ETA: 0s - loss: 0.0633 - precision: 0.9463 - recall: 0.91 - ETA: 0s - loss: 0.0640 - precision: 0.9456 - recall: 0.91 - 1s 23us/step - loss: 0.0647 - precision: 0.9457 - recall: 0.9175\n",
      "Epoch 39/100\n",
      "23660/23660 [==============================] - 1s 26us/step - loss: 0.0630 - precision: 0.9490 - recall: 0.9208 0s - loss: 0.0580 - precision: 0.9541 - recall: 0.93 - ETA: 0s - loss: 0.0621 - precision: 0.9486 - recall: 0.92 - ETA: 0s - loss: 0.0607 - precision: 0.9524 - recall: 0.92 - ETA: 0s - loss: 0.0608 - precision: 0.9521 - recall: 0.92 - ETA: 0s - loss: 0.0610 - precision: 0.9513 - recall: 0.92 - ETA: 0s - loss: 0.0609 - precision: 0.9509 - recall: 0.92 - ETA: 0s - loss: 0.0598 - precision: 0.9526 - recall: 0.92 - ETA: 0s - loss: 0.0601 - precision: 0.9524 - recall: 0.92 - ETA: 0s - loss: 0.0599 - precision: 0.9549 - recall: 0.92 - ETA: 0s - loss: 0.0608 - precision: 0.9526 - recall: 0.92 - ETA: 0s - loss: 0.0627 - precision: 0.9491 - recall: 0.91\n",
      "Epoch 40/100\n",
      "23660/23660 [==============================] - ETA: 0s - loss: 0.0343 - precision: 0.9545 - recall: 1.00 - ETA: 0s - loss: 0.0646 - precision: 0.9572 - recall: 0.91 - ETA: 0s - loss: 0.0646 - precision: 0.9531 - recall: 0.92 - ETA: 0s - loss: 0.0639 - precision: 0.9566 - recall: 0.92 - ETA: 0s - loss: 0.0637 - precision: 0.9523 - recall: 0.92 - ETA: 0s - loss: 0.0629 - precision: 0.9532 - recall: 0.92 - ETA: 0s - loss: 0.0652 - precision: 0.9492 - recall: 0.91 - ETA: 0s - loss: 0.0642 - precision: 0.9481 - recall: 0.91 - ETA: 0s - loss: 0.0632 - precision: 0.9486 - recall: 0.91 - ETA: 0s - loss: 0.0633 - precision: 0.9476 - recall: 0.91 - ETA: 0s - loss: 0.0634 - precision: 0.9480 - recall: 0.91 - ETA: 0s - loss: 0.0635 - precision: 0.9485 - recall: 0.91 - 1s 25us/step - loss: 0.0633 - precision: 0.9478 - recall: 0.9182\n",
      "Epoch 41/100\n",
      "23660/23660 [==============================] - ETA: 0s - loss: 0.1248 - precision: 0.9412 - recall: 0.84 - ETA: 0s - loss: 0.0642 - precision: 0.9369 - recall: 0.91 - ETA: 0s - loss: 0.0606 - precision: 0.9535 - recall: 0.92 - ETA: 0s - loss: 0.0582 - precision: 0.9558 - recall: 0.91 - ETA: 0s - loss: 0.0576 - precision: 0.9535 - recall: 0.92 - ETA: 0s - loss: 0.0597 - precision: 0.9514 - recall: 0.91 - ETA: 0s - loss: 0.0604 - precision: 0.9532 - recall: 0.91 - ETA: 0s - loss: 0.0607 - precision: 0.9532 - recall: 0.92 - ETA: 0s - loss: 0.0617 - precision: 0.9499 - recall: 0.92 - ETA: 0s - loss: 0.0614 - precision: 0.9505 - recall: 0.91 - ETA: 0s - loss: 0.0607 - precision: 0.9522 - recall: 0.92 - ETA: 0s - loss: 0.0623 - precision: 0.9504 - recall: 0.91 - 1s 25us/step - loss: 0.0624 - precision: 0.9490 - recall: 0.9199\n",
      "Epoch 42/100\n"
     ]
    },
    {
     "name": "stdout",
     "output_type": "stream",
     "text": [
      "23660/23660 [==============================] - 1s 22us/step - loss: 0.0609 - precision: 0.9531 - recall: 0.9226 0s - loss: 0.0553 - precision: 0.9663 - recall: 0.93 - ETA: 0s - loss: 0.0549 - precision: 0.9661 - recall: 0.93 - ETA: 0s - loss: 0.0550 - precision: 0.9638 - recall: 0.93 - ETA: 0s - loss: 0.0553 - precision: 0.9672 - recall: 0.93 - ETA: 0s - loss: 0.0569 - precision: 0.9629 - recall - ETA: 0s - loss: 0.0594 - precision: 0.9564 - recall: 0.92 - ETA: 0s - loss: 0.0608 - precision: 0.9532 - recall: 0.92\n",
      "Epoch 43/100\n",
      "23660/23660 [==============================] - ETA: 0s - loss: 0.0624 - precision: 0.9331 - recall: 0.92 - ETA: 0s - loss: 0.0628 - precision: 0.9457 - recall: 0.91 - ETA: 0s - loss: 0.0612 - precision: 0.9473 - recall: 0.91 - ETA: 0s - loss: 0.0601 - precision: 0.9496 - recall: 0.92 - ETA: 0s - loss: 0.0589 - precision: 0.9524 - recall: 0.92 - ETA: 0s - loss: 0.0613 - precision: 0.9499 - recall: 0.92 - ETA: 0s - loss: 0.0607 - precision: 0.9497 - recall: 0.92 - ETA: 0s - loss: 0.0613 - precision: 0.9509 - recall: 0.92 - ETA: 0s - loss: 0.0622 - precision: 0.9483 - recall: 0.91 - ETA: 0s - loss: 0.0610 - precision: 0.9489 - recall: 0.92 - 1s 23us/step - loss: 0.0610 - precision: 0.9493 - recall: 0.9208\n",
      "Epoch 44/100\n",
      "23660/23660 [==============================] - 1s 24us/step - loss: 0.0605 - precision: 0.9518 - recall: 0.9215 0s - loss: 0.0554 - precision: 0.9419 - recall: 0.92 - ETA: 0s - loss: 0.0570 - precision: 0.9514 - recall: 0.92 - ETA: 0s - loss: 0.0553 - precision: 0.9563 - recall: 0.93 - ETA: 0s - loss: 0.0556 - precision: 0.9564 - recall: 0.92 - ETA: 0s - loss: 0.0550 - precision: 0.9574 - recall: 0.92 - ETA: 0s - loss: 0.0582 - precision: 0.9558 - recall: 0.92 - ETA: 0s - loss: 0.0589 - precision: 0.9549 - recall: 0.92 - ETA: 0s - loss: 0.0596 - precision: 0.9536 - recall: 0.92 - ETA: 0s - loss: 0.0598 - precision: 0.9520 - recall: 0.\n",
      "Epoch 45/100\n",
      "23660/23660 [==============================] - ETA: 0s - loss: 0.0593 - precision: 0.9515 - recall: 0.9218 ETA: 0s - loss: 0.0540 - precision: 0.9513 - recall: 0.94 - ETA: 0s - loss: 0.0565 - precision: 0.9550 - recall: 0.93 - ETA: 0s - loss: 0.0567 - precision: 0.9527 - recall: 0.93 - ETA: 0s - loss: 0.0566 - precision: 0.9513 - recall: 0. - ETA: 0s - loss: 0.0568 - precision: 0.9525 - recall:  - ETA: 0s - loss: 0.0584 - precision: 0.9518 - recall: 0.92 - 1s 21us/step - loss: 0.0590 - precision: 0.9505 - recall: 0.9239\n",
      "Epoch 46/100\n",
      "23660/23660 [==============================] - ETA: 0s - loss: 0.0577 - precision: 0.9537 - recall: 0.9268 ETA: 0s - loss: 0.0511 - precision: 0.9603 - recall: 0.93 - ETA: 0s - loss: 0.0543 - precision: 0.9519 - recall: 0.93 - ETA: 0s - loss: 0.0524 - precision: 0.9594 - recall: 0.93 - ETA: 0s - loss: 0.0533 - precision: 0.9584 - recall: 0.92 - ETA: 0s - loss: 0.0564 - precision: 0.9550 - recall: 0.92 - ETA: 0s - loss: 0.0565 - precision: 0.9547 - recall: 0.92 - ETA: 0s - loss: 0.0574 - precision: 0.9540 - recall:  - 1s 22us/step - loss: 0.0590 - precision: 0.9518 - recall: 0.9250\n",
      "Epoch 47/100\n",
      "23660/23660 [==============================] - ETA: 0s - loss: 0.0603 - precision: 0.9602 - recall: 0.93 - ETA: 0s - loss: 0.0591 - precision: 0.9578 - recall: 0.92 - ETA: 0s - loss: 0.0610 - precision: 0.9506 - recall: 0.92 - ETA: 0s - loss: 0.0581 - precision: 0.9537 - recall: 0.92 - ETA: 0s - loss: 0.0585 - precision: 0.9516 - recall: 0.92 - ETA: 0s - loss: 0.0587 - precision: 0.9482 - recall: 0.92 - ETA: 0s - loss: 0.0578 - precision: 0.9515 - recall: 0.92 - ETA: 0s - loss: 0.0579 - precision: 0.9503 - recall: 0.92 - 0s 21us/step - loss: 0.0585 - precision: 0.9499 - recall: 0.9276\n",
      "Epoch 48/100\n",
      "23660/23660 [==============================] - 0s 19us/step - loss: 0.0585 - precision: 0.9536 - recall: 0.9239 0s - loss: 0.0659 - precision: 0.9443 - recall: 0.90 - ETA: 0s - loss: 0.0613 - precision: 0.9489 - recall: 0.91 - ETA: 0s - loss: 0.0580 - precision: 0.9541 - recall: 0.92 - ETA: 0s - loss: 0.0567 - precision: 0.9568 - recall: 0.92 - ETA: 0s - loss: 0.0572 - precision: 0.9545 - recall: 0. - ETA: 0s - loss: 0.0571 - precision: 0.9558 - recall: 0.92 - ETA: 0s - loss: 0.0591 - precision: 0.9533 - recall: 0.92\n",
      "Epoch 49/100\n",
      "23660/23660 [==============================] - 0s 18us/step - loss: 0.0575 - precision: 0.9506 - recall: 0.9248 0s - loss: 0.0575 - precision: 0.9310 - recall: 0.94 - ETA: 0s - loss: 0.0579 - precision: 0.9460 - recall:  - ETA: 0s - loss: 0.0569 - precision: 0.9464 - recall: 0.92 - ETA: 0s - loss: 0.0575 - precision: 0.9474 - recall: 0. - ETA: 0s - loss: 0.0573 - precision: 0.9504 - recall: 0.92\n",
      "Epoch 50/100\n",
      "23660/23660 [==============================] - 0s 18us/step - loss: 0.0568 - precision: 0.9534 - recall: 0.9265 0s - loss: 0.0509 - precision: 0.9520 - recall: 0. - ETA: 0s - loss: 0.0506 - precision: 0.9553 - recall: 0.92 - ETA: 0s - loss: 0.0531 - precision: 0.9536 - recall: 0.93 - ETA: 0s - loss: 0.0548 - precision: 0.9530 - recall: 0.93 - ETA: 0s - loss: 0.0552 - precision: 0.9545 - recall: \n",
      "Epoch 51/100\n",
      "23660/23660 [==============================] - 0s 18us/step - loss: 0.0565 - precision: 0.9538 - recall: 0.9298 0s - loss: 0.0459 - precision: 0.9615 - recall: 0.94 - ETA: 0s - loss: 0.0526 - precision: 0.9566 - recall: 0. - ETA: 0s - loss: 0.0524 - precision: 0.9561 - reca\n",
      "Epoch 52/100\n",
      "23660/23660 [==============================] - 0s 17us/step - loss: 0.0565 - precision: 0.9523 - recall: 0.9287 0s - loss: 0.0494 - precision: 0.9567 - recall: 0.93 - ETA: 0s - loss: 0.0505 - precision: 0.9566 - recall: 0.93 - ETA: 0s - loss: 0.0528 - precision: 0.9553 - recall: 0. - ETA: 0s - loss: 0.0556 - precision: 0.9533 - recall: 0.93 - ETA: 0s - loss: 0.0564 - precision: 0.9521 - recall: 0.\n",
      "Epoch 53/100\n",
      "23660/23660 [==============================] - 0s 18us/step - loss: 0.0548 - precision: 0.9521 - recall: 0.9342 0s - loss: 0.0503 - precision: 0.9622 - \n",
      "Epoch 54/100\n",
      "23660/23660 [==============================] - ETA: 0s - loss: 0.0548 - precision: 1.0000 - recall: 0.95 - ETA: 0s - loss: 0.0520 - precision: 0.9520 - recall: 0.92 - ETA: 0s - loss: 0.0519 - precision: 0.9512 - recall: 0.93 - ETA: 0s - loss: 0.0521 - precision: 0.9552 - recall: 0.93 - ETA: 0s - loss: 0.0558 - precision: 0.9552 - recall: 0.92 - ETA: 0s - loss: 0.0549 - precision: 0.9531 - recall: 0.93 - ETA: 0s - loss: 0.0537 - precision: 0.9545 - recall: 0.93 - ETA: 0s - loss: 0.0553 - precision: 0.9510 - recall: 0.92 - ETA: 0s - loss: 0.0557 - precision: 0.9509 - recall: 0.93 - 0s 18us/step - loss: 0.0559 - precision: 0.9509 - recall: 0.9296\n",
      "Epoch 55/100\n",
      "23660/23660 [==============================] - ETA: 0s - loss: 0.0413 - precision: 1.0000 - recall: 0.93 - ETA: 0s - loss: 0.0452 - precision: 0.9719 - recall: 0.93 - ETA: 0s - loss: 0.0489 - precision: 0.9709 - recall: 0.93 - ETA: 0s - loss: 0.0493 - precision: 0.9663 - recall: 0.93 - ETA: 0s - loss: 0.0509 - precision: 0.9630 - recall: 0.93 - ETA: 0s - loss: 0.0525 - precision: 0.9614 - recall: 0.93 - ETA: 0s - loss: 0.0528 - precision: 0.9586 - recall: 0.93 - ETA: 0s - loss: 0.0537 - precision: 0.9565 - recall: 0.93 - ETA: 0s - loss: 0.0542 - precision: 0.9561 - recall: 0.93 - 0s 18us/step - loss: 0.0542 - precision: 0.9559 - recall: 0.9316\n",
      "Epoch 56/100\n",
      "23660/23660 [==============================] - ETA: 0s - loss: 0.0495 - precision: 0.9672 - recall: 0.93 - ETA: 0s - loss: 0.0493 - precision: 0.9620 - recall: 0.93 - ETA: 0s - loss: 0.0506 - precision: 0.9614 - recall: 0.93 - ETA: 0s - loss: 0.0513 - precision: 0.9617 - recall: 0.93 - ETA: 0s - loss: 0.0525 - precision: 0.9598 - recall: 0.93 - ETA: 0s - loss: 0.0537 - precision: 0.9565 - recall: 0.93 - ETA: 0s - loss: 0.0539 - precision: 0.9568 - recall: 0.93 - ETA: 0s - loss: 0.0539 - precision: 0.9580 - recall: 0.93 - 0s 18us/step - loss: 0.0542 - precision: 0.9560 - recall: 0.9312\n",
      "Epoch 57/100\n"
     ]
    },
    {
     "name": "stdout",
     "output_type": "stream",
     "text": [
      "23660/23660 [==============================] - ETA: 0s - loss: 0.0542 - precision: 0.9613 - recall: 0.9303 ETA: 0s - loss: 0.0499 - precision: 0.9539 - recall: 0.94 - ETA: 0s - loss: 0.0489 - precision: 0.9646 - recall: 0.93 - ETA: 0s - loss: 0.0480 - precision: 0.9658 - recall: 0.94 - ETA: 0s - loss: 0.0503 - precision: 0.9620 - recall: 0.93 - ETA: 0s - loss: 0.0537 - precision: 0.9614 - recall: 0. - ETA: 0s - loss: 0.0548 - precision: 0.9604 - recall: 0.93 - ETA: 0s - loss: 0.0543 - precision: 0.9583 - recall: 0.92 - ETA: 0s - loss: 0.0548 - precision: 0.9567 - recall: 0.93 - 0s 21us/step - loss: 0.0541 - precision: 0.9569 - recall: 0.9316\n",
      "Epoch 58/100\n",
      "23660/23660 [==============================] - 1s 21us/step - loss: 0.0544 - precision: 0.9512 - recall: 0.9305 0s - loss: 0.0595 - precision: 0.9344 - recall: 0.90 - ETA: 0s - loss: 0.0553 - precision: 0.9440 - recall: 0.92 - ETA: 0s - loss: 0.0529 - precision: 0.9516 - recall: 0.92 - ETA: 0s - loss: 0.0533 - precision: 0.9519 - recall: 0.92 - ETA: 0s - loss: 0.0528 - precision: 0.9508 - recall: 0.92 - ETA: 0s - loss: 0.0543 - precision: 0.9508 - recall: 0.92 - ETA: 0s - loss: 0.0531 - precision: 0.9521 - recall: 0.92 - ETA: 0s - loss: 0.0532 - precision: 0.9498 - recall: 0.93 - ETA: 0s - loss: 0.0541 - precision: 0.9501 - recall: 0.93\n",
      "Epoch 59/100\n",
      "23660/23660 [==============================] - 1s 21us/step - loss: 0.0514 - precision: 0.9586 - recall: 0.9358 0s - loss: 0.0499 - precision: 0.9559 - recall: 0.94 - ETA: 0s - loss: 0.0491 - precision: 0.9593 - recall: 0.94 - ETA: 0s - loss: 0.0497 - precision: 0.9581 - recall: 0.94 - ETA: 0s - loss: 0.0479 - precision: 0.9617 - recall: 0.94 - ETA: 0s - loss: 0.0504 - precision: 0.9590 - recall: 0.94 - ETA: 0s - loss: 0.0505 - precision: 0.9584 - recall: 0.94 - ETA: 0s - loss: 0.0520 - precision: 0.9577 - recall: 0.93 - ETA: 0s - loss: 0.0513 - precision: 0.9589 - recall: 0.93 - ETA: 0s - loss: 0.0513 - precision: 0.9589 - recall: 0.93\n",
      "Epoch 60/100\n",
      "23660/23660 [==============================] - ETA: 0s - loss: 0.0490 - precision: 0.9600 - recall: 0.9396 ETA: 0s - loss: 0.0516 - precision: 0.9500 - recall: 0. - ETA: 0s - loss: 0.0494 - precision: 0.9603 - recall: 0.93 - ETA: 0s - loss: 0.0514 - precision: 0.9613 - recall: 0.93 - ETA: 0s - loss: 0.0510 - precision: 0.9589 - recall: 0.93 - ETA: 0s - loss: 0.0513 - precision: 0.9555 - recall: 0.93 - ETA: 0s - loss: 0.0518 - precision: 0.9530 - recall: 0.93 - ETA: 0s - loss: 0.0522 - precision: 0.9517 - recall: 0.93 - ETA: 0s - loss: 0.0526 - precision: 0.9519 - recall: 0.93 - ETA: 0s - loss: 0.0527 - precision: 0.9540 - recall: 0.93 - ETA: 0s - loss: 0.0530 - precision: 0.9526 - recall: 0.93 - 1s 25us/step - loss: 0.0531 - precision: 0.9530 - recall: 0.9329\n",
      "Epoch 61/100\n",
      "23660/23660 [==============================] - 0s 21us/step - loss: 0.0513 - precision: 0.9580 - recall: 0.9382 0s - loss: 0.0634 - precision: 0.9409 - recall: 0.91 - ETA: 0s - loss: 0.0520 - precision: 0.9579 - recall: 0.93 - ETA: 0s - loss: 0.0529 - precision: 0.9606 - \n",
      "Epoch 62/100\n",
      "23660/23660 [==============================] - ETA: 0s - loss: 0.0383 - precision: 1.0000 - recall: 0.95 - ETA: 0s - loss: 0.0507 - precision: 0.9682 - recall: 0.94 - ETA: 0s - loss: 0.0502 - precision: 0.9654 - recall: 0.94 - ETA: 0s - loss: 0.0503 - precision: 0.9620 - recall: 0.94 - ETA: 0s - loss: 0.0479 - precision: 0.9638 - recall: 0.94 - ETA: 0s - loss: 0.0484 - precision: 0.9634 - recall: 0.94 - ETA: 0s - loss: 0.0493 - precision: 0.9617 - recall: 0.94 - ETA: 0s - loss: 0.0505 - precision: 0.9596 - recall: 0.93 - ETA: 0s - loss: 0.0506 - precision: 0.9580 - recall: 0.93 - ETA: 0s - loss: 0.0514 - precision: 0.9562 - recall: 0.93 - ETA: 0s - loss: 0.0524 - precision: 0.9558 - recall: 0.93 - ETA: 0s - loss: 0.0518 - precision: 0.9572 - recall: 0.93 - 1s 24us/step - loss: 0.0518 - precision: 0.9572 - recall: 0.9386\n",
      "Epoch 63/100\n",
      "23660/23660 [==============================] - 1s 26us/step - loss: 0.0510 - precision: 0.9574 - recall: 0.9364 0s - loss: 0.0402 - precision: 0.9719 - recall: 0.95 - ETA: 0s - loss: 0.0423 - precision: 0.9641 - recall: 0.94 - ETA: 0s - loss: 0.0448 - precision: 0.9635 - recall: 0.93 - ETA: 0s - loss: 0.0471 - precision: 0.9589 - recall: 0.93 - ETA: 0s - loss: 0.0481 - precision: 0.9562 - recall: 0.93 - ETA: 0s - loss: 0.0476 - precision: 0.9587 - recall: 0.93 - ETA: 0s - loss: 0.0495 - precision: 0.9587 - recall: 0.93 - ETA: 0s - loss: 0.0489 - precision: 0.9587 - recall: 0.93 - ETA: 0s - loss: 0.0497 - precision: 0.9580 - recall: 0.93 - ETA: 0s - loss: 0.0503 - precision: 0.9568 - recall: 0.93 - ETA: 0s - loss: 0.0514 - precision: 0.9557 - recall: 0.93\n",
      "Epoch 64/100\n",
      "23660/23660 [==============================] - ETA: 0s - loss: 0.0494 - precision: 0.9569 - recall: 0.9396 ETA: 0s - loss: 0.0450 - precision: 0.9618 - recall: 0.93 - ETA: 0s - loss: 0.0466 - precision: 0.9608 - recall: 0.94 - ETA: 0s - loss: 0.0464 - precision: 0.9625 - recall:  - ETA: 0s - loss: 0.0465 - precision: 0.9607 - recall: 0.94 - ETA: 0s - loss: 0.0483 - precision: 0.9604 - recall: 0. - ETA: 0s - loss: 0.0495 - precision: 0.9563 - recall: 0.93 - 0s 21us/step - loss: 0.0499 - precision: 0.9567 - recall: 0.9384\n",
      "Epoch 65/100\n",
      "23660/23660 [==============================] - 1s 26us/step - loss: 0.0494 - precision: 0.9596 - recall: 0.9362 0s - loss: 0.0436 - precision: 0.9624 - recall: 0.95 - ETA: 0s - loss: 0.0448 - precision: 0.9709 - recall: 0.94 - ETA: 0s - loss: 0.0449 - precision: 0.9689 - recall: 0. - ETA: 0s - loss: 0.0457 - precision: 0.9689 - recall: 0.94 - ETA: 0s - loss: 0.0474 - precision: 0.9660 - recall: 0.94 - ETA: 0s - loss: 0.0475 - precision: 0.9654 - recall: 0.93 - ETA: 0s - loss: 0.0476 - precision: 0.9636 - recall: 0.93 - ETA: 0s - loss: 0.0479 - precision: 0.9628 - recall: 0.93 - ETA: 0s - loss: 0.0493 - precision: 0.9607 - recall: 0.93 - ETA: 0s - loss: 0.0493 - precision: 0.9604 - recall: 0.93\n",
      "Epoch 66/100\n",
      "23660/23660 [==============================] - ETA: 0s - loss: 0.0482 - precision: 0.9571 - recall: 0.9415 ETA: 0s - loss: 0.0480 - precision: 0.9606 - recall: 0.94 - ETA: 0s - loss: 0.0440 - precision: 0.9658 - recall: 0.95 - ETA: 0s - loss: 0.0442 - precision: 0.9663 - recall: 0.94 - ETA: 0s - loss: 0.0487 - precision: 0.9576 - recall: 0.94 - ETA: 0s - loss: 0.0476 - precision: 0.9599 - recall: 0.94 - ETA: 0s - loss: 0.0466 - precision: 0.9598 - recall: 0.94 - ETA: 0s - loss: 0.0479 - precision: 0.9575 - recall: 0. - ETA: 0s - loss: 0.0484 - precision: 0.9585 - recall: 0.94 - 1s 22us/step - loss: 0.0493 - precision: 0.9577 - recall: 0.9396\n",
      "Epoch 67/100\n",
      "23660/23660 [==============================] - 1s 25us/step - loss: 0.0498 - precision: 0.9576 - recall: 0.9395 0s - loss: 0.0421 - precision: 0.9724 - recall: 0.93 - ETA: 0s - loss: 0.0469 - precision: 0.9566 - recall: 0.93 - ETA: 0s - loss: 0.0493 - precision: 0.9472 - recall: 0.93 - ETA: 0s - loss: 0.0490 - precision: 0.9558 - recall: 0.93 - ETA: 0s - loss: 0.0485 - precision: 0.9565 - recall: 0.93 - ETA: 0s - loss: 0.0465 - precision: 0.9588 - recall: 0.94 - ETA: 0s - loss: 0.0490 - precision: 0.9584 - recall: 0.93 - ETA: 0s - loss: 0.0493 - precision: 0.9579 - recall: 0.93 - ETA: 0s - loss: 0.0484 - precision: 0.9589 - recall: 0.93 - ETA: 0s - loss: 0.0497 - precision: 0.9574 - recall: 0.93 - ETA: 0s - loss: 0.0503 - precision: 0.9566 - recall: 0.93\n",
      "Epoch 68/100\n"
     ]
    },
    {
     "name": "stdout",
     "output_type": "stream",
     "text": [
      "23660/23660 [==============================] - 1s 26us/step - loss: 0.0479 - precision: 0.9619 - recall: 0.9371 0s - loss: 0.0510 - precision: 0.9644 - recall: 0.93 - ETA: 0s - loss: 0.0485 - precision: 0.9588 - recall: 0.94 - ETA: 0s - loss: 0.0472 - precision: 0.9624 - recall: 0.94 - ETA: 0s - loss: 0.0467 - precision: 0.9625 - recall: 0.94 - ETA: 0s - loss: 0.0467 - precision: 0.9629 - recall: 0.93 - ETA: 0s - loss: 0.0472 - precision: 0.9610 - recall: 0.93 - ETA: 0s - loss: 0.0467 - precision: 0.9618 - recall: 0.93 - ETA: 0s - loss: 0.0468 - precision: 0.9604 - recall: 0.93 - ETA: 0s - loss: 0.0482 - precision: 0.9599 - recall: 0.93 - ETA: 0s - loss: 0.0484 - precision: 0.9594 - recall: 0.93 - ETA: 0s - loss: 0.0482 - precision: 0.9600 - recall: 0.93 - ETA: 0s - loss: 0.0480 - precision: 0.9616 - recall: 0.93\n",
      "Epoch 69/100\n",
      "23660/23660 [==============================] - ETA: 0s - loss: 0.0376 - precision: 1.0000 - recall: 0.95 - ETA: 0s - loss: 0.0440 - precision: 0.9637 - recall: 0.94 - ETA: 0s - loss: 0.0458 - precision: 0.9545 - recall: 0.94 - ETA: 0s - loss: 0.0426 - precision: 0.9567 - recall: 0.94 - ETA: 0s - loss: 0.0443 - precision: 0.9588 - recall: 0.94 - ETA: 0s - loss: 0.0447 - precision: 0.9605 - recall: 0.93 - ETA: 0s - loss: 0.0451 - precision: 0.9596 - recall: 0.94 - ETA: 0s - loss: 0.0449 - precision: 0.9604 - recall: 0.94 - ETA: 0s - loss: 0.0449 - precision: 0.9614 - recall: 0.94 - ETA: 0s - loss: 0.0460 - precision: 0.9612 - recall: 0.94 - ETA: 0s - loss: 0.0457 - precision: 0.9610 - recall: 0.94 - ETA: 0s - loss: 0.0468 - precision: 0.9603 - recall: 0.93 - 1s 26us/step - loss: 0.0477 - precision: 0.9590 - recall: 0.9393\n",
      "Epoch 70/100\n",
      "23660/23660 [==============================] - ETA: 0s - loss: 0.0386 - precision: 1.0000 - recall: 0.90 - ETA: 0s - loss: 0.0511 - precision: 0.9412 - recall: 0.94 - ETA: 0s - loss: 0.0452 - precision: 0.9496 - recall: 0.94 - ETA: 0s - loss: 0.0459 - precision: 0.9568 - recall: 0.94 - ETA: 0s - loss: 0.0454 - precision: 0.9554 - recall: 0.94 - ETA: 0s - loss: 0.0461 - precision: 0.9567 - recall: 0.93 - ETA: 0s - loss: 0.0461 - precision: 0.9565 - recall: 0.94 - ETA: 0s - loss: 0.0467 - precision: 0.9591 - recall: 0.93 - ETA: 0s - loss: 0.0473 - precision: 0.9571 - recall: 0.93 - ETA: 0s - loss: 0.0464 - precision: 0.9599 - recall: 0.94 - ETA: 0s - loss: 0.0468 - precision: 0.9602 - recall: 0.94 - ETA: 0s - loss: 0.0473 - precision: 0.9601 - recall: 0.93 - 1s 25us/step - loss: 0.0476 - precision: 0.9585 - recall: 0.9402\n",
      "Epoch 71/100\n",
      "23660/23660 [==============================] - ETA: 0s - loss: 0.0664 - precision: 0.9500 - recall: 0.90 - ETA: 0s - loss: 0.0409 - precision: 0.9722 - recall: 0.93 - ETA: 0s - loss: 0.0403 - precision: 0.9718 - recall: 0.94 - ETA: 0s - loss: 0.0442 - precision: 0.9647 - recall: 0.93 - ETA: 0s - loss: 0.0435 - precision: 0.9654 - recall: 0.93 - ETA: 0s - loss: 0.0441 - precision: 0.9597 - recall: 0.93 - ETA: 0s - loss: 0.0446 - precision: 0.9594 - recall: 0.93 - ETA: 0s - loss: 0.0442 - precision: 0.9606 - recall: 0.94 - ETA: 0s - loss: 0.0445 - precision: 0.9621 - recall: 0.94 - ETA: 0s - loss: 0.0462 - precision: 0.9592 - recall: 0.94 - ETA: 0s - loss: 0.0459 - precision: 0.9587 - recall: 0.94 - ETA: 0s - loss: 0.0475 - precision: 0.9575 - recall: 0.93 - 1s 25us/step - loss: 0.0472 - precision: 0.9571 - recall: 0.9406\n",
      "Epoch 72/100\n",
      "23660/23660 [==============================] - ETA: 0s - loss: 0.0460 - precision: 0.9588 - recall: 0.9432 ETA: 0s - loss: 0.0497 - precision: 0.9527 - recall: 0.95 - ETA: 0s - loss: 0.0481 - precision: 0.9584 - recall: 0.94 - ETA: 0s - loss: 0.0462 - precision: 0.9603 - recall: 0.94 - ETA: 0s - loss: 0.0452 - precision: 0.9585 - recall: 0.94 - ETA: 0s - loss: 0.0448 - precision: 0.9601 - recall: 0. - ETA: 0s - loss: 0.0467 - precision: 0.9575 - recall: 0.94 - ETA: 0s - loss: 0.0470 - precision: 0.9588 - recall: 0.94 - ETA: 0s - loss: 0.0469 - precision: 0.9588 - recall: 0.94 - ETA: 0s - loss: 0.0472 - precision: 0.9598 - recall: 0.94 - ETA: 0s - loss: 0.0484 - precision: 0.9568 - recall: 0.94 - 1s 26us/step - loss: 0.0480 - precision: 0.9581 - recall: 0.9408\n",
      "Epoch 73/100\n",
      "23660/23660 [==============================] - ETA: 0s - loss: 0.0402 - precision: 0.9689 - recall: 0.9518 ETA: 0s - loss: 0.0351 - precision: 0.9824 - recall: 0.96 - ETA: 0s - loss: 0.0403 - precision: 0.9740 - recall: 0. - ETA: 0s - loss: 0.0397 - precision: 0.9706 - recall: 0. - ETA: 0s - loss: 0.0418 - precision: 0.9651 - recall: 0.94 - ETA: 0s - loss: 0.0420 - precision: 0.9647 - recall: 0.94 - ETA: 0s - loss: 0.0437 - precision: 0.9623 - recall: 0.94 - ETA: 0s - loss: 0.0444 - precision: 0.9626 - recall: 0.94 - ETA: 0s - loss: 0.0457 - precision: 0.9610 - recall: 0.94 - 1s 24us/step - loss: 0.0467 - precision: 0.9608 - recall: 0.9435\n",
      "Epoch 74/100\n",
      "23660/23660 [==============================] - ETA: 0s - loss: 0.0430 - precision: 0.9631 - recall: 0.9475 ETA: 0s - loss: 0.0390 - precision: 0.9732 - recall: 0.94 - ETA: 0s - loss: 0.0401 - precision: 0.9662 - recall: 0.94 - ETA: 0s - loss: 0.0419 - precision: 0.9643 - recall:  - ETA: 0s - loss: 0.0441 - precision: 0.9606 - recall: 0.94 - ETA: 0s - loss: 0.0437 - precision: 0.9608 - recall: 0.94 - ETA: 0s - loss: 0.0449 - precision: 0.9599 - recall: 0.94 - ETA: 0s - loss: 0.0453 - precision: 0.9609 - recall: 0.94 - ETA: 0s - loss: 0.0459 - precision: 0.9593 - recall: 0.94 - 1s 22us/step - loss: 0.0458 - precision: 0.9593 - recall: 0.9441\n",
      "Epoch 75/100\n",
      "23660/23660 [==============================] - ETA: 0s - loss: 0.0460 - precision: 0.9651 - recall: 0.9436 ETA: 0s - loss: 0.0609 - precision: 0.9562 - recall: 0. - ETA: 0s - loss: 0.0445 - precision: 0.9634 - recall: 0.94 - ETA: 0s - loss: 0.0458 - precision: 0.9609 - recall: 0.94 - ETA: 0s - loss: 0.0460 - precision: 0.9602 - recall: 0.94 - ETA: 0s - loss: 0.0447 - precision: 0.9641 - recall: 0.94 - ETA: 0s - loss: 0.0452 - precision: 0.9628 - recall: 0.94 - ETA: 0s - loss: 0.0457 - precision: 0.9629 - recall: 0.94 - ETA: 0s - loss: 0.0449 - precision: 0.9629 - recall: 0.94 - ETA: 0s - loss: 0.0459 - precision: 0.9617 - recall: 0.94 - ETA: 0s - loss: 0.0454 - precision: 0.9614 - recall: 0.94 - ETA: 0s - loss: 0.0463 - precision: 0.9590 - recall: 0.94 - 1s 26us/step - loss: 0.0462 - precision: 0.9591 - recall: 0.9428\n",
      "Epoch 76/100\n",
      "23660/23660 [==============================] - ETA: 0s - loss: 0.0412 - precision: 0.9688 - recall: 0.9467 ETA: 0s - loss: 0.0440 - precision: 0.9647 - recall: 0.93 - ETA: 0s - loss: 0.0432 - precision: 0.9711 - recall - ETA: 0s - loss: 0.0426 - precision: 0.9652 - recall: 0.94 - ETA: 0s - loss: 0.0431 - precision: 0.9629 - recall: 0.94 - ETA: 0s - loss: 0.0450 - precision: 0.9610 - recall: 0.94 - ETA: 0s - loss: 0.0443 - precision: 0.9618 - recall: 0.94 - ETA: 0s - loss: 0.0448 - precision: 0.9613 - recall: 0.94 - ETA: 0s - loss: 0.0446 - precision: 0.9623 - recall: 0.94 - ETA: 0s - loss: 0.0443 - precision: 0.9620 - recall: 0.94 - 1s 26us/step - loss: 0.0447 - precision: 0.9604 - recall: 0.9426\n",
      "Epoch 77/100\n",
      "23660/23660 [==============================] - ETA: 0s - loss: 0.0742 - precision: 1.0000 - recall: 0.94 - ETA: 0s - loss: 0.0550 - precision: 0.9605 - recall: 0.93 - ETA: 0s - loss: 0.0473 - precision: 0.9626 - recall: 0.94 - ETA: 0s - loss: 0.0466 - precision: 0.9645 - recall: 0.93 - ETA: 0s - loss: 0.0467 - precision: 0.9601 - recall: 0.93 - ETA: 0s - loss: 0.0472 - precision: 0.9603 - recall: 0.93 - ETA: 0s - loss: 0.0462 - precision: 0.9598 - recall: 0.94 - ETA: 0s - loss: 0.0482 - precision: 0.9590 - recall: 0.94 - ETA: 0s - loss: 0.0474 - precision: 0.9607 - recall: 0.94 - ETA: 0s - loss: 0.0464 - precision: 0.9609 - recall: 0.94 - ETA: 0s - loss: 0.0460 - precision: 0.9613 - recall: 0.94 - ETA: 0s - loss: 0.0460 - precision: 0.9599 - recall: 0.94 - 1s 25us/step - loss: 0.0461 - precision: 0.9597 - recall: 0.9428\n",
      "Epoch 78/100\n"
     ]
    },
    {
     "name": "stdout",
     "output_type": "stream",
     "text": [
      "23660/23660 [==============================] - ETA: 0s - loss: 0.0417 - precision: 0.9681 - recall: 0.9494 ETA: 0s - loss: 0.0347 - precision: 0.9670 - recall: 0.95 - ETA: 0s - loss: 0.0399 - precision: 0.9724 - recall: 0.94 - ETA: 0s - loss: 0.0410 - precision: 0.9656 - recall: 0.95 - ETA: 0s - loss: 0.0429 - precision: 0.9649 - recall: 0. - ETA: 0s - loss: 0.0434 - precision: 0.9640 - recall: 0.94 - ETA: 0s - loss: 0.0432 - precision: 0.9659 - recall: 0.94 - ETA: 0s - loss: 0.0431 - precision: 0.9651 - recall: 0.94 - ETA: 0s - loss: 0.0425 - precision: 0.9652 - recall: 0.94 - ETA: 0s - loss: 0.0435 - precision: 0.9655 - recall: 0.94 - ETA: 0s - loss: 0.0433 - precision: 0.9668 - recall: 0.94 - ETA: 0s - loss: 0.0435 - precision: 0.9657 - recall: 0.94 - 1s 27us/step - loss: 0.0439 - precision: 0.9660 - recall: 0.9444\n",
      "Epoch 79/100\n",
      "23660/23660 [==============================] - 1s 27us/step - loss: 0.0436 - precision: 0.9621 - recall: 0.9477 0s - loss: 0.0346 - precision: 0.9752 - recall: 0.96 - ETA: 0s - loss: 0.0388 - precision: 0.9723 - recall: 0.96 - ETA: 0s - loss: 0.0424 - precision: 0.9642 - recall: 0.95 - ETA: 0s - loss: 0.0419 - precision: 0.9648 - recall: 0.95 - ETA: 0s - loss: 0.0419 - precision: 0.9642 - recall: 0.95 - ETA: 0s - loss: 0.0409 - precision: 0.9650 - recall: 0.95 - ETA: 0s - loss: 0.0403 - precision: 0.9652 - recall: 0.95 - ETA: 0s - loss: 0.0409 - precision: 0.9656 - recall: 0.95 - ETA: 0s - loss: 0.0428 - precision: 0.9625 - recall: 0.95 - ETA: 0s - loss: 0.0432 - precision: 0.9638 - recall: 0.94 - ETA: 0s - loss: 0.0432 - precision: 0.9634 - recall: 0.94 - ETA: 0s - loss: 0.0436 - precision: 0.9624 - recall: 0.94\n",
      "Epoch 80/100\n",
      "23660/23660 [==============================] - ETA: 0s - loss: 0.0449 - precision: 0.9651 - recall: 0.9428 ETA: 0s - loss: 0.0456 - precision: 0.9721 - recall: 0.94 - ETA: 0s - loss: 0.0454 - precision: 0.9723 - recall: 0.93 - ETA: 0s - loss: 0.0434 - precision: 0.9702 - recall:  - ETA: 0s - loss: 0.0460 - precision: 0.9628 - recall: 0.94 - ETA: 0s - loss: 0.0451 - precision: 0.9633 - recall: 0.94 - ETA: 0s - loss: 0.0447 - precision: 0.9635 - recall: 0.94 - ETA: 0s - loss: 0.0446 - precision: 0.9637 - recall: 0.94 - ETA: 0s - loss: 0.0449 - precision: 0.9628 - recall: 0.94 - 1s 23us/step - loss: 0.0446 - precision: 0.9632 - recall: 0.9450\n",
      "Epoch 81/100\n",
      "23660/23660 [==============================] - ETA: 0s - loss: 0.0429 - precision: 0.9641 - recall: 0.9485 ETA: 0s - loss: 0.0350 - precision: 0.9719 - recall: 0.97 - ETA: 0s - loss: 0.0386 - precision: 0.9664 - recall: 0.96 - ETA: 0s - loss: 0.0401 - precision: 0.9703 - recall: 0.95 - ETA: 0s - loss: 0.0425 - precision: 0.9652 - recall: 0.95 - ETA: 0s - loss: 0.0430 - precision: 0.9643 - recall: 0.95 - ETA: 0s - loss: 0.0425 - precision: 0.9655 - recall: 0.95 - ETA: 0s - loss: 0.0423 - precision: 0.9655 - recall:  - ETA: 0s - loss: 0.0424 - precision: 0.9645 - recall: 0.94 - ETA: 0s - loss: 0.0425 - precision: 0.9636 - recall: 0.94 - 1s 24us/step - loss: 0.0424 - precision: 0.9638 - recall: 0.9481\n",
      "Epoch 82/100\n",
      "23660/23660 [==============================] - ETA: 0s - loss: 0.0154 - precision: 1.0000 - recall: 1.00 - ETA: 0s - loss: 0.0372 - precision: 0.9633 - recall: 0.96 - ETA: 0s - loss: 0.0392 - precision: 0.9636 - recall: 0.96 - ETA: 0s - loss: 0.0387 - precision: 0.9670 - recall: 0.95 - ETA: 0s - loss: 0.0386 - precision: 0.9696 - recall: 0.95 - ETA: 0s - loss: 0.0397 - precision: 0.9660 - recall: 0.95 - ETA: 0s - loss: 0.0394 - precision: 0.9693 - recall: 0.95 - ETA: 0s - loss: 0.0392 - precision: 0.9696 - recall: 0.95 - ETA: 0s - loss: 0.0394 - precision: 0.9690 - recall: 0.95 - ETA: 0s - loss: 0.0401 - precision: 0.9690 - recall: 0.95 - ETA: 0s - loss: 0.0401 - precision: 0.9681 - recall: 0.95 - ETA: 0s - loss: 0.0404 - precision: 0.9669 - recall: 0.95 - ETA: 0s - loss: 0.0409 - precision: 0.9669 - recall: 0.95 - ETA: 0s - loss: 0.0415 - precision: 0.9658 - recall: 0.95 - ETA: 0s - loss: 0.0417 - precision: 0.9655 - recall: 0.95 - 1s 31us/step - loss: 0.0420 - precision: 0.9658 - recall: 0.9496\n",
      "Epoch 83/100\n",
      "23660/23660 [==============================] - ETA: 1s - loss: 0.0190 - precision: 1.0000 - recall: 1.00 - ETA: 0s - loss: 0.0323 - precision: 0.9829 - recall: 0.96 - ETA: 0s - loss: 0.0351 - precision: 0.9805 - recall: 0.95 - ETA: 0s - loss: 0.0354 - precision: 0.9741 - recall: 0.95 - ETA: 0s - loss: 0.0368 - precision: 0.9725 - recall: 0.95 - ETA: 0s - loss: 0.0378 - precision: 0.9706 - recall: 0.95 - ETA: 0s - loss: 0.0387 - precision: 0.9688 - recall: 0.95 - ETA: 0s - loss: 0.0391 - precision: 0.9688 - recall: 0.94 - ETA: 0s - loss: 0.0406 - precision: 0.9685 - recall: 0.94 - ETA: 0s - loss: 0.0412 - precision: 0.9656 - recall: 0.94 - ETA: 0s - loss: 0.0432 - precision: 0.9621 - recall: 0.94 - ETA: 0s - loss: 0.0432 - precision: 0.9644 - recall: 0.94 - ETA: 0s - loss: 0.0430 - precision: 0.9651 - recall: 0.94 - ETA: 0s - loss: 0.0430 - precision: 0.9647 - recall: 0.94 - ETA: 0s - loss: 0.0435 - precision: 0.9632 - recall: 0.94 - 1s 31us/step - loss: 0.0434 - precision: 0.9639 - recall: 0.9463\n",
      "Epoch 84/100\n",
      "23660/23660 [==============================] - ETA: 0s - loss: 0.0417 - precision: 0.9689 - recall: 0.9497 ETA: 0s - loss: 0.0378 - precision: 0.9880 - recall: 0.95 - ETA: 0s - loss: 0.0396 - precision: 0.9810 - recall: 0. - ETA: 0s - loss: 0.0417 - precision: 0.9717 - recall: 0.95 - ETA: 0s - loss: 0.0425 - precision: 0.9725 - recall: 0.94 - ETA: 0s - loss: 0.0422 - precision: 0.9690 - recall: 0. - ETA: 0s - loss: 0.0413 - precision: 0.9683 - recall: 0.94 - ETA: 0s - loss: 0.0409 - precision: 0.9683 - recall: 0.94 - ETA: 0s - loss: 0.0409 - precision: 0.9689 - recall: 0.94 - ETA: 0s - loss: 0.0416 - precision: 0.9672 - recall: 0.94 - ETA: 0s - loss: 0.0414 - precision: 0.9670 - recall: 0.94 - ETA: 0s - loss: 0.0420 - precision: 0.9664 - recall: 0.94 - ETA: 0s - loss: 0.0416 - precision: 0.9666 - recall: 0.94 - ETA: 0s - loss: 0.0415 - precision: 0.9661 - recall: 0.94 - 1s 35us/step - loss: 0.0421 - precision: 0.9650 - recall: 0.9468\n",
      "Epoch 85/100\n",
      "23660/23660 [==============================] - 1s 36us/step - loss: 0.0428 - precision: 0.9645 - recall: 0.9469 0s - loss: 0.0374 - precision: 0.9721 - recall: 0.96 - ETA: 0s - loss: 0.0410 - precision: 0.9687 - recall: 0.95 - ETA: 0s - loss: 0.0406 - precision: 0.9707 - recall: 0.94 - ETA: 0s - loss: 0.0397 - precision: 0.9690 - recall: 0.95 - ETA: 0s - loss: 0.0393 - precision: 0.9710 - recall: 0.94 - ETA: 0s - loss: 0.0381 - precision: 0.9690 - recall: 0.95 - ETA: 0s - loss: 0.0378 - precision: 0.9696 - recall: 0.95 - ETA: 0s - loss: 0.0386 - precision: 0.9686 - recall: 0.95 - ETA: 0s - loss: 0.0382 - precision: 0.9708 - recall: 0. - ETA: 0s - loss: 0.0388 - precision: 0.9682 - recall: 0.95 - ETA: 0s - loss: 0.0392 - precision: 0.9682 - recall: 0.95 - ETA: 0s - loss: 0.0391 - precision: 0.9676 - recall: 0.95 - ETA: 0s - loss: 0.0404 - precision: 0.9676 - recall: 0.94 - ETA: 0s - loss: 0.0415 - precision: 0.9657 - recall: 0.\n",
      "Epoch 86/100\n",
      "23660/23660 [==============================] - ETA: 0s - loss: 0.0435 - precision: 0.9658 - recall: 0.94 - ETA: 0s - loss: 0.0430 - precision: 0.9655 - recall: 0.95 - ETA: 0s - loss: 0.0428 - precision: 0.9667 - recall: 0.95 - ETA: 0s - loss: 0.0438 - precision: 0.9652 - recall: 0.94 - ETA: 0s - loss: 0.0438 - precision: 0.9640 - recall: 0.94 - ETA: 0s - loss: 0.0433 - precision: 0.9646 - recall: 0.94 - ETA: 0s - loss: 0.0428 - precision: 0.9632 - recall: 0.95 - ETA: 0s - loss: 0.0430 - precision: 0.9638 - recall: 0.94 - 1s 25us/step - loss: 0.0426 - precision: 0.9646 - recall: 0.9495\n",
      "Epoch 87/100\n"
     ]
    },
    {
     "name": "stdout",
     "output_type": "stream",
     "text": [
      "23660/23660 [==============================] - 1s 28us/step - loss: 0.0413 - precision: 0.9652 - recall: 0.9510 0s - loss: 0.0386 - precision: 0.9504 - recall: 0.93 - ETA: 0s - loss: 0.0355 - precision: 0.9676 - recall: 0.94 - ETA: 0s - loss: 0.0338 - precision: 0.9689 - recall: 0.95 - ETA: 0s - loss: 0.0342 - precision: 0.9690 - recall: 0.95 - ETA: 0s - loss: 0.0362 - precision: 0.9697 - recall: 0.95 - ETA: 0s - loss: 0.0374 - precision: 0.9699 - recall: 0.95 - ETA: 0s - loss: 0.0391 - precision: 0.9677 - recall: 0.95 - ETA: 0s - loss: 0.0403 - precision: 0.9686 - recall: 0. - ETA: 0s - loss: 0.0406 - precision: 0.9676 - recall: 0.95 - ETA: 0s - loss: 0.0400 - precision: 0.9678 - recall: 0.95 - ETA: 0s - loss: 0.0407 - precision: 0.9658 - recall: 0.95\n",
      "Epoch 88/100\n",
      "23660/23660 [==============================] - ETA: 0s - loss: 0.0394 - precision: 0.9734 - recall: 0.9467 ETA: 0s - loss: 0.0311 - precision: 0.9880 - recall:  - ETA: 0s - loss: 0.0397 - precision: 0.9727 - recall: 0.94 - ETA: 0s - loss: 0.0390 - precision: 0.9726 - recall: 0.95 - ETA: 0s - loss: 0.0403 - precision: 0.9699 - recall: 0.94 - ETA: 0s - loss: 0.0396 - precision: 0.9723 - recall: 0.94 - ETA: 0s - loss: 0.0395 - precision: 0.9715 - recall: 0.95 - ETA: 0s - loss: 0.0403 - precision: 0.9707 - recall: 0.94 - ETA: 0s - loss: 0.0400 - precision: 0.9709 - recall: 0.95 - ETA: 0s - loss: 0.0406 - precision: 0.9686 - recall: 0.95 - ETA: 0s - loss: 0.0405 - precision: 0.9696 - recall: 0.94 - 1s 27us/step - loss: 0.0404 - precision: 0.9692 - recall: 0.9492\n",
      "Epoch 89/100\n",
      "23660/23660 [==============================] - ETA: 0s - loss: 0.0101 - precision: 1.0000 - recall: 1.00 - ETA: 0s - loss: 0.0300 - precision: 0.9792 - recall: 0.96 - ETA: 0s - loss: 0.0318 - precision: 0.9771 - recall: 0.96 - ETA: 0s - loss: 0.0317 - precision: 0.9761 - recall: 0.96 - ETA: 0s - loss: 0.0336 - precision: 0.9755 - recall: 0.96 - ETA: 0s - loss: 0.0319 - precision: 0.9745 - recall: 0.96 - ETA: 0s - loss: 0.0335 - precision: 0.9724 - recall: 0.95 - ETA: 0s - loss: 0.0344 - precision: 0.9734 - recall: 0.95 - ETA: 0s - loss: 0.0345 - precision: 0.9730 - recall: 0.95 - ETA: 0s - loss: 0.0357 - precision: 0.9700 - recall: 0.95 - ETA: 0s - loss: 0.0375 - precision: 0.9700 - recall: 0.95 - ETA: 0s - loss: 0.0380 - precision: 0.9674 - recall: 0.95 - ETA: 0s - loss: 0.0385 - precision: 0.9680 - recall: 0.95 - ETA: 0s - loss: 0.0401 - precision: 0.9645 - recall: 0.94 - 1s 29us/step - loss: 0.0400 - precision: 0.9643 - recall: 0.9501\n",
      "Epoch 90/100\n",
      "23660/23660 [==============================] - ETA: 0s - loss: 0.0330 - precision: 1.0000 - recall: 1.00 - ETA: 0s - loss: 0.0352 - precision: 0.9626 - recall: 0.96 - ETA: 0s - loss: 0.0378 - precision: 0.9690 - recall: 0.95 - ETA: 0s - loss: 0.0384 - precision: 0.9687 - recall: 0.95 - ETA: 0s - loss: 0.0404 - precision: 0.9657 - recall: 0.94 - ETA: 0s - loss: 0.0392 - precision: 0.9697 - recall: 0.95 - ETA: 0s - loss: 0.0409 - precision: 0.9652 - recall: 0.94 - ETA: 0s - loss: 0.0421 - precision: 0.9629 - recall: 0.94 - ETA: 0s - loss: 0.0420 - precision: 0.9625 - recall: 0.94 - ETA: 0s - loss: 0.0414 - precision: 0.9624 - recall: 0.94 - ETA: 0s - loss: 0.0406 - precision: 0.9636 - recall: 0.95 - ETA: 0s - loss: 0.0405 - precision: 0.9643 - recall: 0.95 - ETA: 0s - loss: 0.0401 - precision: 0.9651 - recall: 0.95 - ETA: 0s - loss: 0.0405 - precision: 0.9654 - recall: 0.94 - 1s 29us/step - loss: 0.0405 - precision: 0.9653 - recall: 0.9494\n",
      "Epoch 91/100\n",
      "23660/23660 [==============================] - 1s 27us/step - loss: 0.0380 - precision: 0.9695 - recall: 0.9550 0s - loss: 0.0432 - precision: 0.9664 - recall: 0.95 - ETA: 0s - loss: 0.0417 - precision: 0.9636 - recall: 0.95 - ETA: 0s - loss: 0.0400 - precision: 0.9663 - recall: 0.95 - ETA: 0s - loss: 0.0389 - precision: 0.9695 - recall: 0.95 - ETA: 0s - loss: 0.0383 - precision: 0.9685 - recall: 0.96 - ETA: 0s - loss: 0.0382 - precision: 0.9692 - recall: 0.95 - ETA: 0s - loss: 0.0382 - precision: 0.9686 - recall: 0.95 - ETA: 0s - loss: 0.0389 - precision: 0.9697 - recall: 0.95 - ETA: 0s - loss: 0.0381 - precision: 0.9704 - recall: 0.95 - ETA: 0s - loss: 0.0378 - precision: 0.9708 - recall: 0.95 - ETA: 0s - loss: 0.0378 - precision: 0.9700 - recall: 0.95 - ETA: 0s - loss: 0.0379 - precision: 0.9701 - recall: 0.95\n",
      "Epoch 92/100\n",
      "23660/23660 [==============================] - ETA: 0s - loss: 0.0388 - precision: 0.9683 - recall: 0.9485 ETA: 0s - loss: 0.0381 - precision: 0.9752 - recall: 0.95 - ETA: 0s - loss: 0.0417 - precision: 0.9674 - recall: 0.94 - ETA: 0s - loss: 0.0396 - precision: 0.9695 - recall: 0.94 - ETA: 0s - loss: 0.0390 - precision: 0.9698 - recall: 0.94 - ETA: 0s - loss: 0.0389 - precision: 0.9689 - recall: 0.94 - ETA: 0s - loss: 0.0391 - precision: 0.9698 - recall: 0.94 - ETA: 0s - loss: 0.0385 - precision: 0.9709 - recall: 0.94 - ETA: 0s - loss: 0.0384 - precision: 0.9696 - recall: 0. - 1s 22us/step - loss: 0.0392 - precision: 0.9676 - recall: 0.9489\n",
      "Epoch 93/100\n",
      "23660/23660 [==============================] - 1s 23us/step - loss: 0.0394 - precision: 0.9665 - recall: 0.9518 0s - loss: 0.0355 - precision: 0.9739 - recall: 0.96 - ETA: 0s - loss: 0.0359 - precision: 0.9671 - recall: 0.96 - ETA: 0s - loss: 0.0364 - precision: 0.9660 - recall: 0.95 - ETA: 0s - loss: 0.0368 - precision: 0.9683 - recall: 0.95 - ETA: 0s - loss: 0.0363 - precision: 0.9683 - recall: 0.95 - ETA: 0s - loss: 0.0361 - precision: 0.9688 - recall: 0.95 - ETA: 0s - loss: 0.0363 - precision: 0.9691 - recall: 0.95 - ETA: 0s - loss: 0.0372 - precision: 0.9683 - recall: 0.95 - ETA: 0s - loss: 0.0380 - precision: 0.9676 - recall: 0.95 - ETA: 0s - loss: 0.0392 - precision: 0.9663 - recall: 0.95\n",
      "Epoch 94/100\n",
      "23660/23660 [==============================] - ETA: 0s - loss: 0.0234 - precision: 1.0000 - recall: 0.94 - ETA: 0s - loss: 0.0349 - precision: 0.9753 - recall: 0.95 - ETA: 0s - loss: 0.0393 - precision: 0.9716 - recall: 0.94 - ETA: 0s - loss: 0.0378 - precision: 0.9701 - recall: 0.95 - ETA: 0s - loss: 0.0384 - precision: 0.9698 - recall: 0.95 - ETA: 0s - loss: 0.0383 - precision: 0.9690 - recall: 0.95 - ETA: 0s - loss: 0.0368 - precision: 0.9697 - recall: 0.95 - ETA: 0s - loss: 0.0391 - precision: 0.9682 - recall: 0.95 - ETA: 0s - loss: 0.0409 - precision: 0.9676 - recall: 0.95 - ETA: 0s - loss: 0.0412 - precision: 0.9672 - recall: 0.95 - ETA: 0s - loss: 0.0408 - precision: 0.9679 - recall: 0.95 - ETA: 0s - loss: 0.0405 - precision: 0.9681 - recall: 0.95 - ETA: 0s - loss: 0.0400 - precision: 0.9680 - recall: 0.95 - 1s 26us/step - loss: 0.0399 - precision: 0.9681 - recall: 0.9529\n",
      "Epoch 95/100\n",
      "23660/23660 [==============================] - ETA: 0s - loss: 0.0382 - precision: 0.9687 - recall: 0.9579 ETA: 0s - loss: 0.0357 - precision: 0.9739 - recall: 0.95 - ETA: 0s - loss: 0.0329 - precision: 0.9705 - recall: 0.96 - ETA: 0s - loss: 0.0356 - precision: 0.9716 - recall: 0.95 - ETA: 0s - loss: 0.0371 - precision: 0.9674 - recall: 0.95 - ETA: 0s - loss: 0.0378 - precision: 0.9697 - recall: 0. - ETA: 0s - loss: 0.0380 - precision: 0.9703 - recall: 0.95 - ETA: 0s - loss: 0.0379 - precision: 0.9690 - recall: 0.95 - ETA: 0s - loss: 0.0383 - precision: 0.9684 - recall: 0.95 - ETA: 0s - loss: 0.0385 - precision: 0.9692 - recall: 0.95 - 1s 23us/step - loss: 0.0383 - precision: 0.9696 - recall: 0.9549\n",
      "Epoch 96/100\n",
      "23660/23660 [==============================] - ETA: 0s - loss: 0.0249 - precision: 0.9375 - recall: 1.00 - ETA: 0s - loss: 0.0376 - precision: 0.9727 - recall: 0.95 - ETA: 0s - loss: 0.0370 - precision: 0.9740 - recall: 0.95 - ETA: 0s - loss: 0.0355 - precision: 0.9750 - recall: 0.95 - ETA: 0s - loss: 0.0375 - precision: 0.9708 - recall: 0.95 - ETA: 0s - loss: 0.0377 - precision: 0.9697 - recall: 0.95 - ETA: 0s - loss: 0.0377 - precision: 0.9695 - recall: 0.95 - ETA: 0s - loss: 0.0380 - precision: 0.9684 - recall: 0.95 - ETA: 0s - loss: 0.0389 - precision: 0.9666 - recall: 0.95 - ETA: 0s - loss: 0.0389 - precision: 0.9667 - recall: 0.95 - ETA: 0s - loss: 0.0382 - precision: 0.9684 - recall: 0.95 - ETA: 0s - loss: 0.0375 - precision: 0.9694 - recall: 0.95 - 1s 25us/step - loss: 0.0372 - precision: 0.9693 - recall: 0.9523\n",
      "Epoch 97/100\n"
     ]
    },
    {
     "name": "stdout",
     "output_type": "stream",
     "text": [
      "23660/23660 [==============================] - ETA: 0s - loss: 0.0324 - precision: 0.9757 - recall: 0.9627 ETA: 0s - loss: 0.0372 - precision: 0.9645 - recall: 0.94 - ETA: 0s - loss: 0.0334 - precision: 0.9721 - recall: 0.95 - ETA: 0s - loss: 0.0333 - precision: 0.9739 - recall: 0. - ETA: 0s - loss: 0.0324 - precision: 0.9717 - recall: 0.96 - ETA: 0s - loss: 0.0338 - precision: 0.9717 - recall: 0.95 - ETA: 0s - loss: 0.0349 - precision: 0.9673 - recall: 0.95 - ETA: 0s - loss: 0.0365 - precision: 0.9669 - recall: 0.95 - ETA: 0s - loss: 0.0367 - precision: 0.9659 - recall: 0.95 - ETA: 0s - loss: 0.0364 - precision: 0.9654 - recall: 0.95 - ETA: 0s - loss: 0.0372 - precision: 0.9651 - recall: 0.95 - 1s 24us/step - loss: 0.0373 - precision: 0.9651 - recall: 0.9540\n",
      "Epoch 98/100\n",
      "23660/23660 [==============================] - ETA: 0s - loss: 0.0406 - precision: 1.0000 - recall: 0.96 - ETA: 0s - loss: 0.0324 - precision: 0.9750 - recall: 0.96 - ETA: 0s - loss: 0.0335 - precision: 0.9751 - recall: 0.95 - ETA: 0s - loss: 0.0326 - precision: 0.9756 - recall: 0.96 - ETA: 0s - loss: 0.0327 - precision: 0.9745 - recall: 0.96 - ETA: 0s - loss: 0.0336 - precision: 0.9724 - recall: 0.95 - ETA: 0s - loss: 0.0344 - precision: 0.9700 - recall: 0.96 - ETA: 0s - loss: 0.0354 - precision: 0.9702 - recall: 0.95 - ETA: 0s - loss: 0.0354 - precision: 0.9701 - recall: 0.95 - ETA: 0s - loss: 0.0355 - precision: 0.9694 - recall: 0.95 - ETA: 0s - loss: 0.0376 - precision: 0.9684 - recall: 0.95 - 1s 24us/step - loss: 0.0371 - precision: 0.9687 - recall: 0.9573\n",
      "Epoch 99/100\n",
      "23660/23660 [==============================] - ETA: 0s - loss: 0.0105 - precision: 1.0000 - recall: 1.00 - ETA: 0s - loss: 0.0342 - precision: 0.9679 - recall: 0.95 - ETA: 0s - loss: 0.0333 - precision: 0.9771 - recall: 0.95 - ETA: 0s - loss: 0.0324 - precision: 0.9771 - recall: 0.95 - ETA: 0s - loss: 0.0341 - precision: 0.9720 - recall: 0.95 - ETA: 0s - loss: 0.0346 - precision: 0.9726 - recall: 0.95 - ETA: 0s - loss: 0.0352 - precision: 0.9723 - recall: 0.95 - ETA: 0s - loss: 0.0350 - precision: 0.9727 - recall: 0.95 - ETA: 0s - loss: 0.0349 - precision: 0.9714 - recall: 0.95 - ETA: 0s - loss: 0.0360 - precision: 0.9708 - recall: 0.95 - ETA: 0s - loss: 0.0365 - precision: 0.9699 - recall: 0.95 - ETA: 0s - loss: 0.0360 - precision: 0.9710 - recall: 0.95 - 1s 26us/step - loss: 0.0364 - precision: 0.9709 - recall: 0.9567\n",
      "Epoch 100/100\n",
      "23660/23660 [==============================] - ETA: 0s - loss: 0.0754 - precision: 0.9000 - recall: 0.94 - ETA: 0s - loss: 0.0304 - precision: 0.9685 - recall: 0.95 - ETA: 0s - loss: 0.0300 - precision: 0.9762 - recall: 0.95 - ETA: 0s - loss: 0.0321 - precision: 0.9722 - recall: 0.95 - ETA: 0s - loss: 0.0331 - precision: 0.9705 - recall: 0.95 - ETA: 0s - loss: 0.0359 - precision: 0.9696 - recall: 0.95 - ETA: 0s - loss: 0.0358 - precision: 0.9677 - recall: 0.95 - ETA: 0s - loss: 0.0358 - precision: 0.9670 - recall: 0.95 - ETA: 0s - loss: 0.0373 - precision: 0.9660 - recall: 0.95 - ETA: 0s - loss: 0.0373 - precision: 0.9670 - recall: 0.95 - 0s 21us/step - loss: 0.0370 - precision: 0.9672 - recall: 0.9534\n"
     ]
    }
   ],
   "source": [
    "inputl:inp[`shape pykw enlist 51]\n",
    "hidden1:dense[40;`activation pykw `relu][inputl]\n",
    "hidden2:dense[40;`activation pykw `relu][hidden1]\n",
    "o:dense[1;`activation pykw `sigmoid][hidden2]\n",
    "\n",
    "modl:models[`inputs pykw inputl;`outputs pykw o]\n",
    "modl[`:compile][`optimizer pykw \"adam\";`loss pykw \"binary_crossentropy\";`metrics pykw (km[`:binary_precision][]`;km[`:binary_recall][]`)];\n",
    "modl[`:summary][];\n",
    "\n",
    "res:modl[`:fit][array[xtr];ytr;`batch_size pykw 100;`verbose pykw 1;`epochs pykw 100];\n",
    "\n"
   ]
  },
  {
   "cell_type": "code",
   "execution_count": 42,
   "metadata": {},
   "outputs": [
    {
     "name": "stdout",
     "output_type": "stream",
     "text": [
      "9.864569e-06 2.682209e-07 3.874302e-07 5.960464e-08 7.602572e-05 0.00533393 0..\n"
     ]
    }
   ],
   "source": [
    "show nnPred:raze(modl[`:predict]array[mattab xtest])`"
   ]
  },
  {
   "cell_type": "code",
   "execution_count": 44,
   "metadata": {},
   "outputs": [
    {
     "name": "stdout",
     "output_type": "stream",
     "text": [
      "loss     | 0.2206197 0.1478676 0.1331592 0.1235214 0.1169168 0.1110304 0.1071..\n",
      "precision| 0.9510231 0.9315508 0.9272867 0.9238668 0.9289941 0.9268707 0.9220..\n",
      "recall   | 0.623488  0.7653398 0.7921707 0.8113042 0.8262591 0.8370354 0.8484..\n",
      "loss     | 0.2206197 0.1478676 0.1331592 0.1235214 0.1169168 0.1110304 0.1071..\n",
      "precision| 0.9510231 0.9315508 0.9272867 0.9238668 0.9289941 0.9268707 0.9220..\n",
      "recall   | 0.623488  0.7653398 0.7921707 0.8113042 0.8262591 0.8370354 0.8484..\n"
     ]
    },
    {
     "data": {
      "image/png": "[encoded data removed]",
      "text/plain": [
       "<Figure size 460.8x345.6 with 1 Axes>"
      ]
     },
     "metadata": {},
     "output_type": "display_data"
    },
    {
     "name": "stdout",
     "output_type": "stream",
     "text": [
      "The accuracy of the model is 0.9641493\n",
      "The mean_class_accuracy of the model is 0.9746701\n"
     ]
    }
   ],
   "source": [
    "show hist:6#(res[`:history]`)\n",
    "\n",
    "plt[`:plot]hist`loss;\n",
    "plt[`:plot]hist`val_loss;\n",
    "plt[`:title]\"model loss\";\n",
    "plt[`:ylabel]\"loss\";\n",
    "plt[`:xlabel]\"epoch\";\n",
    "plt[`:show][];\n",
    "\n",
    "conf:.ml.confdict[ytest;pred1;1b]\n",
    "\n",
    "acc:(count where (0.5<nnPred)=ytest)%count[ytest]\n",
    "meanclassavg:avg (conf[`tp]%(sum conf[`tp`fn]);conf[`tn]%(sum conf[`tn`fp]))\n",
    "-1\"The accuracy of the model is \",string acc;\n",
    "-1\"The mean_class_accuracy of the model is \",string meanclassavg;"
   ]
  },
  {
   "cell_type": "code",
   "execution_count": 47,
   "metadata": {},
   "outputs": [
    {
     "name": "stdout",
     "output_type": "stream",
     "text": [
      "0| 16729 462 \n",
      "1| 214   1451\n"
     ]
    },
    {
     "data": {
      "image/png": "[encoded data removed]",
      "text/plain": [
       "<Figure size 720x720 with 1 Axes>"
      ]
     },
     "metadata": {},
     "output_type": "display_data"
    }
   ],
   "source": [
    "show cnfM:.ml.confmat[ytest;0.5<nnPred]\n",
    ".ml.displayCM[value cnfM;`Low`High;\"Test Set Confusion Matrix\";()]"
   ]
  },
  {
   "cell_type": "code",
   "execution_count": null,
   "metadata": {},
   "outputs": [],
   "source": []
  }
 ],
 "metadata": {
  "kernelspec": {
   "display_name": "Q (kdb+)",
   "language": "q",
   "name": "qpk"
  },
  "language_info": {
   "file_extension": ".q",
   "mimetype": "text/x-q",
   "name": "q",
   "version": "3.6.0"
  }
 },
 "nbformat": 4,
 "nbformat_minor": 2
}
