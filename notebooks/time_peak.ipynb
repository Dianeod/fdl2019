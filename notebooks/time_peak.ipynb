{
 "cells": [
  {
   "cell_type": "markdown",
   "metadata": {},
   "source": [
    "# Time to Peak"
   ]
  },
  {
   "cell_type": "code",
   "execution_count": 1,
   "metadata": {
    "scrolled": true
   },
   "outputs": [],
   "source": [
    "gages:(27#\"S\";enlist \",\") 0:`:data/usgs_gage_subset.csv;\n",
    "sites:string each gages[`site_no]\n",
    "sites:{$[7=count x;\"0\",x;x]}each sites\n",
    "basin:(\"S\",242#\"F\";enlist \",\") 0:`:data/gages_with_basin_attr.csv\n",
    "nlcd06:(\"S\",(5#\"F\"),\"SFFSFSFFFFSFSSFSSFFFSFFSFF\";enlist \",\") 0:`:data/snap_sampled_imp_nlcd_2006.csv \n",
    "nlcd11:(\"S\",(5#\"F\"),\"SFFSFSFFFFSFSSFSSFFFSFFSFF\";enlist \",\") 0:`:data/snap_sampled_imp_nlcd_2011.csv \n",
    "nlcd16:(\"S\",(5#\"F\"),\"SFFSFSFFFFSFSSFSSFFFSFFSFF\";enlist \",\") 0:`:data/snap_sampled_imp_nlcd_2016.csv \n",
    "\n",
    "nlcd06:update site_no:`${$[7=count x;\"0\",x;x]}each string each site_no,year:6 from select\n",
    " site_no:SOURCE_FEA,INTPTLAT,INTPTLON,Measure,REACHCODE,distance,imp:imp_nlcd_2006 from nlcd06\n",
    "nlcd11:update site_no:`${$[7=count x;\"0\",x;x]}each string each site_no,year:11 from select\n",
    " site_no:SOURCE_FEA,INTPTLAT,INTPTLON,Measure,REACHCODE,distance,imp:imp_nlcd_2011 from nlcd11\n",
    "nlcd16:update site_no:`${$[7=count x;\"0\",x;x]}each string each site_no,year:16 from select\n",
    " site_no:SOURCE_FEA,INTPTLAT,INTPTLON,Measure,REACHCODE,distance,imp:imp_nlcd_2016 from nlcd16\n",
    "\\l ml/ml.q\n",
    "\\l ml/init.q\n"
   ]
  },
  {
   "cell_type": "code",
   "execution_count": 2,
   "metadata": {},
   "outputs": [],
   "source": [
    "\\l t_p\n"
   ]
  },
  {
   "cell_type": "code",
   "execution_count": 3,
   "metadata": {},
   "outputs": [
    {
     "name": "stdout",
     "output_type": "stream",
     "text": [
      "date       site_no  lat      lon       start_time              end_time      ..\n",
      "-----------------------------------------------------------------------------..\n",
      "2009.07.02 01377500 40.99278 -74.02111 2009.07.02T15:45:00.000 2009.07.02T16:..\n",
      "2009.07.02 01397000 40.57222 -74.86806 2009.07.02T11:00:00.000 2009.07.02T18:..\n",
      "2009.07.02 01396500 40.67778 -74.87917 2009.07.02T08:30:00.000 2009.07.02T12:..\n",
      "2009.07.07 06478500 43.18583 -97.63528 2009.07.07T12:45:00.000 2009.07.23T11:..\n",
      "2009.07.10 06478690 43.41556 -97.20472 2009.07.10T09:00:00.000 2009.07.11T08:..\n",
      "2009.07.11 04215000 42.89    -78.64528 2009.07.11T21:45:00.000 2009.07.12T02:..\n",
      "2009.07.11 04215500 42.82972 -78.77528 2009.07.11T21:15:00.000 2009.07.12T01:..\n",
      "2009.07.15 06438500 44.52944 -101.9297 2009.07.15T01:00:00.000 2009.07.15T04:..\n",
      "2009.07.18 06834000 40.35167 -101.1236 2009.07.18T04:00:00.000 2009.07.19T02:..\n",
      "2009.07.21 01391000 40.99778 -74.11194 2009.07.21T18:45:00.000 2009.07.21T22:..\n",
      "2009.07.23 02162093 34.02722 -81.04194 2009.07.23T04:00:00.000 2009.07.23T04:..\n",
      "2009.07.29 01391000 40.99778 -74.11194 2009.07.29T00:30:00.000 2009.07.29T22:..\n",
      "2009.07.29 01394500 40.6875  -74.31167 2009.07.29T22:15:00.000 2009.07.29T23:..\n",
      "2009.07.30 04280450 43.46389 -73.28472 2009.07.30T08:15:00.000 2009.07.30T19:..\n",
      "2009.07.30 01362500 42.01417 -74.27083 2009.07.30T06:30:00.000 2009.07.30T13:..\n",
      "2009.07.30 01334500 42.93861 -73.3775  2009.07.30T06:00:00.000 2009.08.01T16:..\n",
      "2009.07.30 01350000 42.31944 -74.43694 2009.07.30T06:45:00.000 2009.07.30T12:..\n",
      "2009.07.30 01367500 41.84306 -74.08639 2009.07.30T10:15:00.000 2009.07.30T14:..\n",
      "2009.07.30 01364500 42.03778 -73.9725  2009.07.30T07:45:00.000 2009.08.03T03:..\n",
      "2009.07.31 01349711 42.185   -74.27722 2009.07.31T16:45:00.000 2009.07.31T21:..\n",
      "..\n"
     ]
    }
   ],
   "source": [
    "show peak:select from peak where date>=2009.07.01,site_no in `$sites"
   ]
  },
  {
   "cell_type": "code",
   "execution_count": 4,
   "metadata": {},
   "outputs": [],
   "source": [
    "\\cd .."
   ]
  },
  {
   "cell_type": "code",
   "execution_count": 36,
   "metadata": {},
   "outputs": [],
   "source": [
    "\\l gagesdir/gagesdir"
   ]
  },
  {
   "cell_type": "code",
   "execution_count": 37,
   "metadata": {},
   "outputs": [],
   "source": [
    "maxht:0!select max height by site_no,date from str\n",
    "\n",
    "maxht[`site_no]:`${$[7=count x;\"0\",x;x]}each maxht[`site_no]"
   ]
  },
  {
   "cell_type": "code",
   "execution_count": 39,
   "metadata": {},
   "outputs": [],
   "source": [
    "\\cd ../../"
   ]
  },
  {
   "cell_type": "code",
   "execution_count": 111,
   "metadata": {},
   "outputs": [],
   "source": [
    "maxht:select from maxht where height>=0"
   ]
  },
  {
   "cell_type": "code",
   "execution_count": 116,
   "metadata": {},
   "outputs": [
    {
     "name": "stdout",
     "output_type": "stream",
     "text": [
      "site_no  long     lat     elv  date       ppt  prev1 prev2 prev3 prev4 prev5 ..\n",
      "-----------------------------------------------------------------------------..\n",
      "01367690 -74.5596 41.1053 1056 2009.07.01 0.46                               ..\n",
      "01367715 -74.5786 41.1333 617  2009.07.01 0.62                               ..\n",
      "01367800 -74.6753 41.1628 512  2009.07.01 0.54                               ..\n",
      "01367805 -74.6566 41.17   512  2009.07.01 0.54                               ..\n",
      "01377000 -73.9892 40.9992 52   2009.07.01 0.47                               ..\n",
      "01377370 -74.0392 41.0367 240  2009.07.01 0.43                               ..\n",
      "01377451 -74.0481 41.0119 85   2009.07.01 0.5                                ..\n",
      "01377500 -74.0211 40.9928 85   2009.07.01 0.5                                ..\n",
      "01378500 -74.0267 40.9483 79   2009.07.01 0.68                               ..\n",
      "01379000 -74.5289 40.68   266  2009.07.01 0.16                               ..\n",
      "01379500 -74.3897 40.7261 341  2009.07.01 0.2                                ..\n",
      "01379530 -74.3536 40.7444 262  2009.07.01 0.31                               ..\n",
      "01379699 -74.5914 40.9342 725  2009.07.01 0.14                               ..\n",
      "01379773 -74.5397 40.96   925  2009.07.01 0.14                               ..\n",
      "01379780 -74.5572 40.9494 925  2009.07.01 0.14                               ..\n",
      "01379845 -74.56   40.8861 650  2009.07.01 0.15                               ..\n",
      "01379868 -74.5333 40.8731 650  2009.07.01 0.15                               ..\n",
      "01380000 -74.46   40.9631 827  2009.07.01 0.19                               ..\n",
      "01380100 -74.5014 40.9022 627  2009.07.01 0.15                               ..\n",
      "01380450 -74.4192 40.9075 587  2009.07.01 0.36                               ..\n",
      "..\n"
     ]
    }
   ],
   "source": [
    "precipall:-1_raze {flip `site_no`long`lat`elv`date`ppt!flip value each 10_(\"SFFFDF\";enlist \",\")0: \n",
    "    hsym `$\"data/prism/\",string[x]} each key `:data/prism\n",
    "precipall:`date xasc delete from precipall where site_no=`\n",
    "precipall[`site_no]:`${$[7=count x;\"0\",x;x]}each string each precipall[`site_no]\n",
    "\n",
    "show precipall_prev:update prev1:prev ppt,prev2:2 xprev ppt,prev3:3 xprev ppt,\n",
    " prev4:4 xprev ppt,prev5:5 xprev ppt,prev6:6 xprev ppt,\n",
    " prev7:7 xprev ppt,prev8:8 xprev ppt,prev9: 9 xprev ppt,\n",
    " prev10:10 xprev ppt,avgppt:60 mavg ppt by site_no from precipall"
   ]
  },
  {
   "cell_type": "code",
   "execution_count": 117,
   "metadata": {},
   "outputs": [],
   "source": [
    "precipall_fut:update next1:prev reverse ppt,next2:2 xprev reverse ppt,next3:3 xprev reverse ppt,\n",
    " next4:4 xprev reverse ppt,next5:5 xprev reverse ppt,next6:6 xprev reverse ppt,\n",
    " next7:7 xprev reverse ppt,next8:8 xprev reverse ppt,next9: 9 xprev reverse ppt,\n",
    " next10:10 xprev reverse ppt by site_no from precipall_prev"
   ]
  },
  {
   "cell_type": "code",
   "execution_count": 118,
   "metadata": {},
   "outputs": [],
   "source": [
    "precipall_upst:update pptup1:prev ppt,pptup2:2 xprev ppt by date,catch:2#'string each site_no from precipall_fut"
   ]
  },
  {
   "cell_type": "code",
   "execution_count": 119,
   "metadata": {},
   "outputs": [
    {
     "name": "stdout",
     "output_type": "stream",
     "text": [
      "date       site_no  lat     lon       start_time              end_time       ..\n",
      "-----------------------------------------------------------------------------..\n",
      "2009.07.02 01377500 40.9928 -74.02111 2009.07.02T15:45:00.000 2009.07.02T16:1..\n",
      "2009.07.02 01397000 40.5722 -74.86806 2009.07.02T11:00:00.000 2009.07.02T18:0..\n",
      "2009.07.02 01396500 40.6778 -74.87917 2009.07.02T08:30:00.000 2009.07.02T12:1..\n",
      "2009.07.07 06478500 43.1858 -97.63528 2009.07.07T12:45:00.000 2009.07.23T11:4..\n",
      "2009.07.10 06478690 43.4156 -97.20472 2009.07.10T09:00:00.000 2009.07.11T08:3..\n",
      "2009.07.11 04215000 42.89   -78.64528 2009.07.11T21:45:00.000 2009.07.12T02:1..\n",
      "2009.07.11 04215500 42.8297 -78.77528 2009.07.11T21:15:00.000 2009.07.12T01:4..\n",
      "2009.07.15 06438500 44.5294 -101.9297 2009.07.15T01:00:00.000 2009.07.15T04:0..\n",
      "2009.07.18 06834000 40.3517 -101.1236 2009.07.18T04:00:00.000 2009.07.19T02:1..\n",
      "2009.07.21 01391000 40.9978 -74.11194 2009.07.21T18:45:00.000 2009.07.21T22:1..\n",
      "2009.07.23 02162093 34.0274 -81.04194 2009.07.23T04:00:00.000 2009.07.23T04:4..\n",
      "2009.07.29 01391000 40.9978 -74.11194 2009.07.29T00:30:00.000 2009.07.29T22:0..\n",
      "2009.07.29 01394500 40.6875 -74.31167 2009.07.29T22:15:00.000 2009.07.29T23:0..\n",
      "2009.07.30 04280450 43.4639 -73.28472 2009.07.30T08:15:00.000 2009.07.30T19:0..\n",
      "2009.07.30 01362500 42.0142 -74.27083 2009.07.30T06:30:00.000 2009.07.30T13:3..\n",
      "2009.07.30 01334500 42.9386 -73.3775  2009.07.30T06:00:00.000 2009.08.01T16:0..\n",
      "2009.07.30 01350000 42.3194 -74.43694 2009.07.30T06:45:00.000 2009.07.30T12:1..\n",
      "2009.07.30 01367500 41.8431 -74.08639 2009.07.30T10:15:00.000 2009.07.30T14:3..\n",
      "2009.07.30 01364500 42.0378 -73.9725  2009.07.30T07:45:00.000 2009.08.03T03:0..\n",
      "2009.07.31 01349711 42.185  -74.27722 2009.07.31T16:45:00.000 2009.07.31T21:1..\n",
      "..\n"
     ]
    }
   ],
   "source": [
    "show peak_basin:(peak lj `site_no`date xkey precipall_upst) ij `site_no xkey basin"
   ]
  },
  {
   "cell_type": "code",
   "execution_count": 120,
   "metadata": {},
   "outputs": [
    {
     "name": "stdout",
     "output_type": "stream",
     "text": [
      "date       site_no  lat     lon       start_time              end_time       ..\n",
      "-----------------------------------------------------------------------------..\n",
      "2009.07.02 01377500 40.9928 -74.02111 2009.07.02T15:45:00.000 2009.07.02T16:1..\n",
      "2009.07.02 01397000 40.5722 -74.86806 2009.07.02T11:00:00.000 2009.07.02T18:0..\n",
      "2009.07.02 01396500 40.6778 -74.87917 2009.07.02T08:30:00.000 2009.07.02T12:1..\n",
      "2009.07.07 06478500 43.1858 -97.63528 2009.07.07T12:45:00.000 2009.07.23T11:4..\n",
      "2009.07.10 06478690 43.4156 -97.20472 2009.07.10T09:00:00.000 2009.07.11T08:3..\n",
      "2009.07.11 04215000 42.89   -78.64528 2009.07.11T21:45:00.000 2009.07.12T02:1..\n",
      "2009.07.11 04215500 42.8297 -78.77528 2009.07.11T21:15:00.000 2009.07.12T01:4..\n",
      "2009.07.15 06438500 44.5294 -101.9297 2009.07.15T01:00:00.000 2009.07.15T04:0..\n",
      "2009.07.18 06834000 40.3517 -101.1236 2009.07.18T04:00:00.000 2009.07.19T02:1..\n",
      "2009.07.21 01391000 40.9978 -74.11194 2009.07.21T18:45:00.000 2009.07.21T22:1..\n",
      "2009.07.23 02162093 34.0274 -81.04194 2009.07.23T04:00:00.000 2009.07.23T04:4..\n",
      "2009.07.29 01391000 40.9978 -74.11194 2009.07.29T00:30:00.000 2009.07.29T22:0..\n",
      "2009.07.29 01394500 40.6875 -74.31167 2009.07.29T22:15:00.000 2009.07.29T23:0..\n",
      "2009.07.30 04280450 43.4639 -73.28472 2009.07.30T08:15:00.000 2009.07.30T19:0..\n",
      "2009.07.30 01362500 42.0142 -74.27083 2009.07.30T06:30:00.000 2009.07.30T13:3..\n",
      "2009.07.30 01334500 42.9386 -73.3775  2009.07.30T06:00:00.000 2009.08.01T16:0..\n",
      "2009.07.30 01350000 42.3194 -74.43694 2009.07.30T06:45:00.000 2009.07.30T12:1..\n",
      "2009.07.30 01367500 41.8431 -74.08639 2009.07.30T10:15:00.000 2009.07.30T14:3..\n",
      "2009.07.30 01364500 42.0378 -73.9725  2009.07.30T07:45:00.000 2009.08.03T03:0..\n",
      "2009.07.31 01349711 42.185  -74.27722 2009.07.31T16:45:00.000 2009.07.31T21:1..\n",
      "..\n"
     ]
    }
   ],
   "source": [
    "stryear:{$[x<2011;6;x<2016;11;16]}each `year$peak_basin[`date]\n",
    "\n",
    "merged:update year:stryear from peak_basin\n",
    "\n",
    "show peak_bas_imp:merged ij `site_no`year xkey (nlcd06,nlcd11,nlcd16)"
   ]
  },
  {
   "cell_type": "code",
   "execution_count": 121,
   "metadata": {},
   "outputs": [
    {
     "name": "stdout",
     "output_type": "stream",
     "text": [
      "date       site_no  lat     lon       start_time              end_time       ..\n",
      "-----------------------------------------------------------------------------..\n",
      "2009.07.02 01377500 40.9928 -74.02111 2009.07.02T15:45:00.000 2009.07.02T16:1..\n",
      "2009.07.02 01397000 40.5722 -74.86806 2009.07.02T11:00:00.000 2009.07.02T18:0..\n",
      "2009.07.02 01396500 40.6778 -74.87917 2009.07.02T08:30:00.000 2009.07.02T12:1..\n",
      "2009.07.07 06478500 43.1858 -97.63528 2009.07.07T12:45:00.000 2009.07.23T11:4..\n",
      "2009.07.10 06478690 43.4156 -97.20472 2009.07.10T09:00:00.000 2009.07.11T08:3..\n",
      "2009.07.11 04215000 42.89   -78.64528 2009.07.11T21:45:00.000 2009.07.12T02:1..\n",
      "2009.07.11 04215500 42.8297 -78.77528 2009.07.11T21:15:00.000 2009.07.12T01:4..\n",
      "2009.07.15 06438500 44.5294 -101.9297 2009.07.15T01:00:00.000 2009.07.15T04:0..\n",
      "2009.07.18 06834000 40.3517 -101.1236 2009.07.18T04:00:00.000 2009.07.19T02:1..\n",
      "2009.07.21 01391000 40.9978 -74.11194 2009.07.21T18:45:00.000 2009.07.21T22:1..\n",
      "2009.07.23 02162093 34.0274 -81.04194 2009.07.23T04:00:00.000 2009.07.23T04:4..\n",
      "2009.07.29 01391000 40.9978 -74.11194 2009.07.29T00:30:00.000 2009.07.29T22:0..\n",
      "2009.07.29 01394500 40.6875 -74.31167 2009.07.29T22:15:00.000 2009.07.29T23:0..\n",
      "2009.07.30 04280450 43.4639 -73.28472 2009.07.30T08:15:00.000 2009.07.30T19:0..\n",
      "2009.07.30 01362500 42.0142 -74.27083 2009.07.30T06:30:00.000 2009.07.30T13:3..\n",
      "2009.07.30 01334500 42.9386 -73.3775  2009.07.30T06:00:00.000 2009.08.01T16:0..\n",
      "2009.07.30 01350000 42.3194 -74.43694 2009.07.30T06:45:00.000 2009.07.30T12:1..\n",
      "2009.07.30 01367500 41.8431 -74.08639 2009.07.30T10:15:00.000 2009.07.30T14:3..\n",
      "2009.07.30 01364500 42.0378 -73.9725  2009.07.30T07:45:00.000 2009.08.03T03:0..\n",
      "2009.07.31 01349711 42.185  -74.27722 2009.07.31T16:45:00.000 2009.07.31T21:1..\n",
      "..\n"
     ]
    }
   ],
   "source": [
    "show time_peak:update month:`mm$date,sin_t:sin 2*3.14*(`mm$date)%11,\n",
    "    cos_t:cos 2*3.14*(`mm$date)%11,x:cos[lat]*cos[lon],y:cos[lat]*sin[lon],\n",
    "    z:sin[lat] from peak_bas_imp"
   ]
  },
  {
   "cell_type": "code",
   "execution_count": 122,
   "metadata": {},
   "outputs": [],
   "source": [
    "time_peak[`delta_peak]:(time_peak[`peak_time]-time_peak[`start_time])*24"
   ]
  },
  {
   "cell_type": "code",
   "execution_count": 123,
   "metadata": {},
   "outputs": [],
   "source": [
    "upstr:update upst1:prev height,upst2:2 xprev height by date,catch:2#'string each site_no from maxht"
   ]
  },
  {
   "cell_type": "code",
   "execution_count": 124,
   "metadata": {},
   "outputs": [],
   "source": [
    "time_peak:time_peak ij `site_no`date xkey upstr"
   ]
  },
  {
   "cell_type": "code",
   "execution_count": 125,
   "metadata": {},
   "outputs": [],
   "source": [
    "\\S -5128710\n",
    "aa:-200?distinct time_peak[`site_no]\n",
    "bb:distinct time_peak[`site_no] except aa"
   ]
  },
  {
   "cell_type": "code",
   "execution_count": 126,
   "metadata": {},
   "outputs": [],
   "source": [
    "time_peak[`split]:{$[x in bb;`TEST;`TRAIN]}each time_peak[`site_no]"
   ]
  },
  {
   "cell_type": "code",
   "execution_count": 127,
   "metadata": {},
   "outputs": [
    {
     "data": {
      "text/plain": [
       "x   x1  x2  x3 \n",
       "---------------\n",
       "747 720 789 787\n"
      ]
     },
     "execution_count": 127,
     "metadata": {},
     "output_type": "execute_result"
    }
   ],
   "source": [
    "select count where delta_peak<3.12,count where delta_peak within 3.12 7.44,count where delta_peak \n",
    "    within 7.44 18,count where delta_peak>18 from time_peak\n"
   ]
  },
  {
   "cell_type": "code",
   "execution_count": 128,
   "metadata": {},
   "outputs": [],
   "source": [
    "time_peak[`target]:{$[x<3.12;0;x within 3.12 7.44;1;x within 7.44 18;2;3]}each time_peak[`delta_peak]"
   ]
  },
  {
   "cell_type": "code",
   "execution_count": 129,
   "metadata": {},
   "outputs": [],
   "source": [
    "\\l gagesdir/gagesdir"
   ]
  },
  {
   "cell_type": "code",
   "execution_count": 0,
   "metadata": {},
   "outputs": [
    {
     "ename": "\u001b[0;31mtime_peak\u001b[0m",
     "evalue": "\u001b[0;31mtime_peak\u001b[0m",
     "output_type": "error",
     "traceback": [
      "\u001b[0;31mevaluation error:\n\u001b[0m",
      "\u001b[0;31mtime_peak\u001b[0m",
      "\u001b[0;31m\u001b[0m",
      "\u001b[0;31m  [0]  \n    str where date within (\"d\"$dd,(\"d\"$dd)+1),si=`$site_no,datetime \n    within (dd,dd+1)}each value each select site_no,start_time from time_peak\n                                                                    ^\n\u001b[0m"
     ]
    }
   ],
   "source": [
    "wind_ht_24:raze {[x] \n",
    " dd:x[1];\n",
    " si:x[0];\n",
    " select wind_2:max 2 mavg height,wind_4:max 4 mavg height,wind_12:max 12 mavg height,wind_48:max 48 mavg height from \n",
    "    str where date within (\"d\"$dd,(\"d\"$dd)+1),si=`$site_no,datetime \n",
    "    within (dd,dd+1)}each value each select site_no,start_time from time_peak"
   ]
  },
  {
   "cell_type": "code",
   "execution_count": 131,
   "metadata": {},
   "outputs": [],
   "source": [
    "\\cd ../../"
   ]
  },
  {
   "cell_type": "code",
   "execution_count": 132,
   "metadata": {},
   "outputs": [
    {
     "name": "stdout",
     "output_type": "stream",
     "text": [
      "date       site_no  lat     lon       start_time              end_time       ..\n",
      "-----------------------------------------------------------------------------..\n",
      "2009.07.02 01377500 40.9928 -74.02111 2009.07.02T15:45:00.000 2009.07.02T16:1..\n",
      "2009.07.02 01397000 40.5722 -74.86806 2009.07.02T11:00:00.000 2009.07.02T18:0..\n",
      "2009.07.02 01396500 40.6778 -74.87917 2009.07.02T08:30:00.000 2009.07.02T12:1..\n",
      "2009.07.07 06478500 43.1858 -97.63528 2009.07.07T12:45:00.000 2009.07.23T11:4..\n",
      "2009.07.11 04215000 42.89   -78.64528 2009.07.11T21:45:00.000 2009.07.12T02:1..\n",
      "2009.07.11 04215500 42.8297 -78.77528 2009.07.11T21:15:00.000 2009.07.12T01:4..\n",
      "2009.07.18 06834000 40.3517 -101.1236 2009.07.18T04:00:00.000 2009.07.19T02:1..\n",
      "2009.07.21 01391000 40.9978 -74.11194 2009.07.21T18:45:00.000 2009.07.21T22:1..\n",
      "2009.07.23 02162093 34.0274 -81.04194 2009.07.23T04:00:00.000 2009.07.23T04:4..\n",
      "2009.07.29 01391000 40.9978 -74.11194 2009.07.29T00:30:00.000 2009.07.29T22:0..\n",
      "2009.07.30 04280450 43.4639 -73.28472 2009.07.30T08:15:00.000 2009.07.30T19:0..\n",
      "2009.07.30 01362500 42.0142 -74.27083 2009.07.30T06:30:00.000 2009.07.30T13:3..\n",
      "2009.07.30 01334500 42.9386 -73.3775  2009.07.30T06:00:00.000 2009.08.01T16:0..\n",
      "2009.07.30 01350000 42.3194 -74.43694 2009.07.30T06:45:00.000 2009.07.30T12:1..\n",
      "2009.07.30 01367500 41.8431 -74.08639 2009.07.30T10:15:00.000 2009.07.30T14:3..\n",
      "2009.07.30 01364500 42.0378 -73.9725  2009.07.30T07:45:00.000 2009.08.03T03:0..\n",
      "2009.07.31 01349711 42.185  -74.27722 2009.07.31T16:45:00.000 2009.07.31T21:1..\n",
      "2009.07.31 04280450 43.4639 -73.28472 2009.07.31T20:00:00.000 2009.08.01T04:3..\n",
      "2009.07.31 01423000 42.1661 -75.14028 2009.07.31T18:15:00.000 2009.08.01T17:0..\n",
      "2009.07.31 01362500 42.0142 -74.27083 2009.07.31T17:30:00.000 2009.08.01T07:0..\n",
      "..\n"
     ]
    }
   ],
   "source": [
    "show time_peak_ht:time_peak,'wind_ht_24"
   ]
  },
  {
   "cell_type": "code",
   "execution_count": null,
   "metadata": {},
   "outputs": [],
   "source": []
  },
  {
   "cell_type": "markdown",
   "metadata": {},
   "source": [
    "## Multi-Class"
   ]
  },
  {
   "cell_type": "code",
   "execution_count": 133,
   "metadata": {},
   "outputs": [],
   "source": [
    "mattab:{flip value flip x}\n",
    "\n",
    "fetch_mldata:.p.import[`sklearn.datasets]`:fetch_mldata\n",
    "RandomForestClassifier:.p.import[`sklearn.ensemble]`:RandomForestClassifier\n",
    "OneVsRestClassifier:.p.import[`sklearn.multiclass]`:OneVsRestClassifier\n",
    "precision_recall_curve:.p.import[`sklearn.metrics]`:precision_recall_curve\n",
    "roc_curve:.p.import[`sklearn.metrics]`:roc_curve\n",
    "label_binarize:.p.import[`sklearn.preprocessing]`:label_binarize\n",
    "plt:.p.import[`matplotlib]`:pyplot\n",
    "average_precision_score:.p.import[`sklearn.metrics]`:average_precision_score\n",
    "\n",
    "np:.p.import[`numpy]"
   ]
  },
  {
   "cell_type": "code",
   "execution_count": 134,
   "metadata": {},
   "outputs": [],
   "source": [
    "cols_to_include:cols_to_include:(\n",
    "    `sin_t`cos_t`prev1`prev2`prev3,\n",
    "    `prev4`prev5`prev6`prev7`prev8`prev9`prev10`imp`CatAreaSqKm`WsAreaSqKm`CatAreaSqKmRp100,\n",
    "    `WsAreaSqKmRp100`ElevCat`ElevWs`WtDepCat`WtDepWs`OmCat`OmWs`PermCat`PermWs`RckDepCat`RckDepWs`ClayCat,\n",
    "    `ClayWs`SandCat`SandWs`RunoffCat`RunoffWs`WetIndexCat`WetIndexWs`BFICat`BFIWs`ppt`avgppt`pptup1`pptup2,\n",
    "    `upst1`upst2`next1`next2`next3`next4`next5`next6`next7`next8`next9`next10`wind_2`wind_4`wind_12`wind_48`x,\n",
    "    `y`z)"
   ]
  },
  {
   "cell_type": "code",
   "execution_count": 135,
   "metadata": {},
   "outputs": [],
   "source": [
    "time_peak_clean:delete from time_peak_ht where i in where any flip null value each time_peak_ht"
   ]
  },
  {
   "cell_type": "code",
   "execution_count": 136,
   "metadata": {},
   "outputs": [],
   "source": [
    "lst:(0 0 0 0)\n",
    "time_peak_clean[`target_multi]:{@[lst;x;+;1]}each exec target from time_peak_clean\n",
    "\n",
    "Xtrain:flip (select from time_peak_clean where split=`TRAIN)[cols_to_include]\n",
    "ytrain:exec target from time_peak_clean where split=`TRAIN\n",
    "Xtest:flip (select from  time_peak_clean where split=`TEST)[cols_to_include]\n",
    "ytest:exec target from time_peak_clean where split=`TEST"
   ]
  },
  {
   "cell_type": "code",
   "execution_count": 137,
   "metadata": {},
   "outputs": [],
   "source": [
    "xtr:(Xtrain)[(til count[Xtrain]) except where 0<>{count where x=neg 0w}each Xtrain]\n",
    "ytr:ytrain[(til count[Xtrain]) except where 0<>{count where x=neg 0w}each Xtrain]"
   ]
  },
  {
   "cell_type": "code",
   "execution_count": 138,
   "metadata": {},
   "outputs": [],
   "source": [
    "y_train:label_binarize[ytr;`classes pykw til 4]\n",
    "y_test:label_binarize[ytest;`classes pykw til 4]"
   ]
  },
  {
   "cell_type": "code",
   "execution_count": 139,
   "metadata": {},
   "outputs": [
    {
     "data": {
      "text/plain": [
       "{[f;x]embedPy[f;x]}[foreign]enlist\n"
      ]
     },
     "execution_count": 139,
     "metadata": {},
     "output_type": "execute_result"
    },
    {
     "data": {
      "image/png": "[encoded data removed]",
      "text/plain": [
       "<Figure size 460.8x345.6 with 1 Axes>"
      ]
     },
     "metadata": {},
     "output_type": "display_data"
    }
   ],
   "source": [
    "n_class:4\n",
    "\n",
    "clf:OneVsRestClassifier(RandomForestClassifier[`n_estimators pykw 500;`random_state pykw 0])\n",
    "clf[`:fit][xtr;y_train]\n",
    "\n",
    "y_score:clf[`:predict_proba][Xtest]\n",
    "ypredict:clf[`:predict][Xtest]\n",
    "\n",
    "\n",
    "{prc:precision_recall_curve[(y_test`)[;x];(y_score`)[;x]]`;\n",
    " plt[`:plot][prc[1];prc[0];`lw pykw 2;`label pykw \"class\",string x];}each til n_class;\n",
    "\n",
    "plt[`:xlabel][`recall];\n",
    "plt[`:ylabel][`precision];\n",
    "plt[`:legend][`loc pykw `best];\n",
    "plt[`:title][\"precision vs. recall\"];\n",
    "plt[`:show][];"
   ]
  },
  {
   "cell_type": "markdown",
   "metadata": {},
   "source": [
    "## Binary labels"
   ]
  },
  {
   "cell_type": "code",
   "execution_count": 181,
   "metadata": {},
   "outputs": [],
   "source": [
    "pk_binary:time_peak_clean"
   ]
  },
  {
   "cell_type": "code",
   "execution_count": 182,
   "metadata": {},
   "outputs": [],
   "source": [
    "pk_binary[`target]:{$[x>18;1;0]}each pk_binary[`delta_peak]\n",
    "pk_binary:update split:`TRAIN from pk_binary"
   ]
  },
  {
   "cell_type": "code",
   "execution_count": 183,
   "metadata": {
    "scrolled": true
   },
   "outputs": [
    {
     "data": {
      "image/png": "[encoded data removed]",
      "text/plain": [
       "<Figure size 460.8x345.6 with 1 Axes>"
      ]
     },
     "metadata": {},
     "output_type": "display_data"
    }
   ],
   "source": [
    "train_test_split:.p.import[`sklearn.model_selection]`:train_test_split\n",
    "sites:0!select sum target by site_no from pk_binary\n",
    "plt[`:hist][sites`target];\n",
    "plt[`:show][];"
   ]
  },
  {
   "cell_type": "code",
   "execution_count": 184,
   "metadata": {
    "scrolled": false
   },
   "outputs": [],
   "source": [
    "bins:0 2.5 7.5 17 23 40\n",
    "y_binned:bins bin`float$sites`target\n",
    "\n",
    "tts:train_test_split[sites[`site_no];sites[`target];`test_size pykw 0.2; `random_state pykw 607;\n",
    "    `shuffle pykw 1b;`stratify pykw y_binned]`;\n",
    "\n",
    "y_binned2:bins bin `float$tts[2]\n",
    "\n",
    "tts2:train_test_split[tts[0];tts[2];`test_size pykw 0.25; `random_state pykw 607;\n",
    "    `shuffle pykw 1b;`stratify pykw y_binned2]`;\n"
   ]
  },
  {
   "cell_type": "code",
   "execution_count": 185,
   "metadata": {},
   "outputs": [],
   "source": [
    "pk_binary_split:update split:`VALIDATE from pk_binary where site_no in `$tts2[1]\n",
    "pk_binary_split:update split:`TEST from pk_binary_split where site_no in `$tts[1]"
   ]
  },
  {
   "cell_type": "code",
   "execution_count": 186,
   "metadata": {},
   "outputs": [],
   "source": [
    "Xtrain:flip (select from pk_binary_split where split=`TRAIN)[cols_to_include]\n",
    "ytrain:exec target from pk_binary_split where split=`TRAIN\n",
    "Xtest:flip (select from  pk_binary_split where split=`TEST)[cols_to_include]\n",
    "ytest:exec target from pk_binary_split where split=`TEST"
   ]
  },
  {
   "cell_type": "code",
   "execution_count": 188,
   "metadata": {},
   "outputs": [],
   "source": [
    "xtr:(Xtrain)[(til count[Xtrain]) except where 0<>{count where x=neg 0w}each Xtrain]\n",
    "ytr:ytrain[(til count[Xtrain]) except where 0<>{count where x=neg 0w}each Xtrain]"
   ]
  },
  {
   "cell_type": "code",
   "execution_count": 189,
   "metadata": {},
   "outputs": [],
   "source": [
    "XGBClassifier:.p.import[`xgboost]`:XGBClassifier\n",
    "rf_clf:RandomForestClassifier[`n_estimators pykw 500;`random_state pykw 0][`:fit][xtr; ytr]\n",
    "xgboost_clf:XGBClassifier[`n_estimators pykw 50;`learning_rate pykw 0.3;`random_state pykw 0\n",
    " ][`:fit][np[`:array]Xtrain; ytrain]"
   ]
  },
  {
   "cell_type": "code",
   "execution_count": 190,
   "metadata": {},
   "outputs": [],
   "source": [
    "classifiers:`GBDT`random_forest!(xgboost_clf;rf_clf)\n",
    "linestyles:`GBDT`random_forest!`-`-\n",
    "colour:`GBDT`random_forest!`lightseagreen`lightcoral"
   ]
  },
  {
   "cell_type": "code",
   "execution_count": 191,
   "metadata": {},
   "outputs": [
    {
     "data": {
      "image/png": "[encoded data removed]",
      "text/plain": [
       "<Figure size 460.8x345.6 with 1 Axes>"
      ]
     },
     "metadata": {},
     "output_type": "display_data"
    }
   ],
   "source": [
    "{clf:classifiers[x];\n",
    " ypredict:clf[`:predict][Xtest];\n",
    " yscores:(clf[`:predict_proba][Xtest]`)[;1];\n",
    " prt:precision_recall_curve[ytest;yscores]`;\n",
    " average_precision:average_precision_score[ytest;yscores]`;\n",
    " plt[`:plot][prt[1];prt[0];`color pykw colour[x];`linewidth pykw 3;\n",
    "    `label pykw string[x],\"=\",string[average_precision]];\n",
    " \n",
    " plt[`:xlabel][`Recall;`fontsize pykw 14];\n",
    " plt[`:ylabel][`Precision;`fontsize pykw 14];\n",
    " plt[`:ylim][0.0; 1.05];\n",
    " plt[`:xlim][0.0; 1.0];\n",
    " plt[`:legend][`loc pykw \"upper right\";`fontsize pykw 11];\n",
    " plt[`:tight_layout][]}each `GBDT`random_forest;\n",
    "plt[`:show][];"
   ]
  },
  {
   "cell_type": "code",
   "execution_count": null,
   "metadata": {},
   "outputs": [],
   "source": []
  }
 ],
 "metadata": {
  "kernelspec": {
   "display_name": "Q (kdb+)",
   "language": "q",
   "name": "qpk"
  },
  "language_info": {
   "file_extension": ".q",
   "mimetype": "text/x-q",
   "name": "q",
   "version": "3.6.0"
  }
 },
 "nbformat": 4,
 "nbformat_minor": 2
}
