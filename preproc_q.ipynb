{
 "cells": [
  {
   "cell_type": "markdown",
   "metadata": {},
   "source": [
    "# FDL 2019 - Floods"
   ]
  },
  {
   "cell_type": "markdown",
   "metadata": {},
   "source": [
    "Load in any libraries and datasets needed"
   ]
  },
  {
   "cell_type": "code",
   "execution_count": 1,
   "metadata": {},
   "outputs": [],
   "source": [
    "gp:.p.import[`geopandas]\n",
    "\\l ml/ml.q \n",
    "\\l ml/init.q\n",
    "\n",
    "\n",
    "avs:.p.import[`sklearn.metrics]`:average_precision_score\n",
    "mattab:{flip value flip x}\n",
    "svc:.p.import[`sklearn.svm]`:SVC\n",
    "array:.p.import[`numpy]`:array"
   ]
  },
  {
   "cell_type": "markdown",
   "metadata": {},
   "source": [
    "Datasets include\n",
    "\n",
    "Max height per day per stream\n",
    "\n",
    "NLCD(imperveous) dataset collected in 2006,2011,2016\n",
    "\n",
    "Flood warned levels from NOAA, based on lat,long\n",
    "\n",
    "stream gage info i.e location,state, codes etc\n",
    "\n",
    "basin attributes at each stream gage"
   ]
  },
  {
   "cell_type": "code",
   "execution_count": 2,
   "metadata": {},
   "outputs": [],
   "source": [
    "maxht:(\"SDF\";enlist \",\") 0:`:data/maxht.csv\n",
    "\n",
    "raindata:(\"DSSIFFSS\";enlist \",\") 0:`:data/raindata.csv\n",
    "\n",
    "nlcd06:(\"S\",(5#\"F\"),\"SFFSFSFFFFSFSSFSSFFFSFFSFF\";enlist \",\") 0:`:data/snap_sampled_imp_nlcd_2006.csv \n",
    "nlcd11:(\"S\",(5#\"F\"),\"SFFSFSFFFFSFSSFSSFFFSFFSFF\";enlist \",\") 0:`:data/snap_sampled_imp_nlcd_2011.csv \n",
    "nlcd16:(\"S\",(5#\"F\"),\"SFFSFSFFFFSFSSFSSFFFSFFSFF\";enlist \",\") 0:`:data/snap_sampled_imp_nlcd_2016.csv \n",
    "\n",
    "warnings:gp[`:read_file][\"data/national_shapefile_obs.shp\"]\n",
    "warnings:.ml.df2tab[warnings]\n",
    "\n",
    "gages:(\"SSSSFFSSIFFFFFFFFSSISSSSFF\";enlist \",\") 0:`:data/usgs_gage_subset.csv\n",
    "\n",
    "basin:(\"S\",242#\"F\";enlist \",\") 0:`:data/gages_with_basin_attr.csv"
   ]
  },
  {
   "cell_type": "markdown",
   "metadata": {},
   "source": [
    "Linking the stream gages with corresponding rain gages based on nearest neighbour (lat,long) and date (per month). "
   ]
  },
  {
   "cell_type": "code",
   "execution_count": 3,
   "metadata": {},
   "outputs": [
    {
     "name": "stdout",
     "output_type": "stream",
     "text": [
      "site_no  date    height dec_lat_va dec_long_v\n",
      "---------------------------------------------\n",
      "01200000 2009.07 3.8    41.65876   -73.52868 \n",
      "01200000 2009.08 1.82   41.65876   -73.52868 \n",
      "01200000 2009.09 1.29   41.65876   -73.52868 \n",
      "01200000 2009.10 2.04   41.65876   -73.52868 \n",
      "01200000 2009.11 1.71   41.65876   -73.52868 \n",
      "01200000 2009.12 4.17   41.65876   -73.52868 \n",
      "01200000 2010.01 2.8    41.65876   -73.52868 \n",
      "01200000 2010.02 4.35   41.65876   -73.52868 \n",
      "01200000 2010.03 6.17   41.65876   -73.52868 \n",
      "01200000 2010.04 1.96   41.65876   -73.52868 \n",
      "01200000 2010.05 1.22   41.65876   -73.52868 \n",
      "01200000 2010.06 0.91   41.65876   -73.52868 \n",
      "01200000 2010.07 0.76   41.65876   -73.52868 \n",
      "01200000 2010.08 0.83   41.65876   -73.52868 \n",
      "01200000 2010.09 1.5    41.65876   -73.52868 \n",
      "01200000 2010.10 1.63   41.65876   -73.52868 \n",
      "01200000 2010.11 1.8    41.65876   -73.52868 \n",
      "01200000 2010.12 2.05   41.65876   -73.52868 \n",
      "01200000 2011.01 2.15   41.65876   -73.52868 \n",
      "01200000 2011.02 3.75   41.65876   -73.52868 \n",
      "..\n"
     ]
    }
   ],
   "source": [
    "maxht:delete from maxht where height<0\n",
    "\n",
    "strmonth:0!select by site_no,\"m\"$date from maxht\n",
    "\n",
    "gages[`site_no]:`${$[7=count x;\"0\",x;x]}each string each gages[`site_no] /pad with 0 if len site=7\n",
    "\n",
    "show httab:strmonth ij `site_no xkey select site_no,dec_lat_va,dec_long_v from gages"
   ]
  },
  {
   "cell_type": "code",
   "execution_count": 4,
   "metadata": {},
   "outputs": [
    {
     "name": "stdout",
     "output_type": "stream",
     "text": [
      "date       precip elv    uid   long      lat      ghnc        coras      \n",
      "-------------------------------------------------------------------------\n",
      "2009.07.01 0      None   82630 -96.5204  40.4914  US10gage044 0gage044   \n",
      "2009.07.01 0      1345.0 62206 -96.5009  40.5529  US10lanc014 0lanc014   \n",
      "2009.07.01 0.24   1323.0 40728 -96.5102  40.452   250001      USC00250001\n",
      "2009.07.01 0.24   4670.0 12790 -103.7347 42.4244  250030      USC00250030\n",
      "2009.07.01 0      None   30096 -100.0112 42.3171  US10brow009 0brow009   \n",
      "2009.07.01 0      None   30095 -100.061  42.3248  US10brow008 0brow008   \n",
      "2009.07.01 0      2510.0 12799 -99.8555  42.5522  250050      USC00250050\n",
      "2009.07.01 0      1883.0 61884 -97.9951  41.6402  US10boon005 0boon005   \n",
      "2009.07.01 0      1814.0 61886 -97.8945  41.6685  US10boon009 0boon009   \n",
      "2009.07.01 0      1801.0 61887 -98.1166  41.6689  US10boon010 0boon010   \n",
      "2009.07.01 0      1795.0 12683 -98.0083  41.6854  250070      USC00250070\n",
      "2009.07.01 0      None   30441 -97.2312  40.1441  US10thay021 0thay021   \n",
      "2009.07.01 0.05   1499.0 62415 -97.4639  40.2629  US10thay019 0thay019   \n",
      "2009.07.01 0.05   None   29918 -102.8901 42.1138  US10box_013 0box_013   \n",
      "2009.07.01 0      None   29919 -102.8596 42.2981  US10box_014 0box_014   \n",
      "2009.07.01 0.2    None   30429 -102.547  42.2297  US10sher022 0sher022   \n",
      "2009.07.01 0      4266.0 32419 -103.2083 42.15389 250138      USC00250138\n",
      "2009.07.01 0      4040.0 34903 -102.8867 42.10472 250134      USC00250134\n",
      "2009.07.01 0.01   3994.0 12754 -102.8967 42.1103  250130      USC00250130\n",
      "2009.07.01 0.1    3983.0 61894 -102.8848 42.3968  US10box_009 0box_009   \n",
      "..\n"
     ]
    }
   ],
   "source": [
    "/take \"A\" out of any float\n",
    "raindata[`precip]:{$[1= count raze x;0n;\"F\"$raze[x]except \"A\"]} each string each exec precip from raindata \n",
    "     \n",
    "/take out any null precip values (might come back to backfill/forward fill/moving average later)\n",
    "/show raindata:delete ghnc,coras from select from raindata where not 0n=precip \n",
    "nullvals:0!select i,reverse fills reverse fills precip by uid from raindata\n",
    "rainnull:update precip:(raze nullvals[`precip]) from raindata where i in raze nullvals[`x]\n",
    "nullvals2:0!select i,reverse fills reverse fills precip by uid from rainnull\n",
    "show raindata:update precip:(raze nullvals[`precip]) from raindata where i in raze nullvals2[`x]"
   ]
  },
  {
   "cell_type": "markdown",
   "metadata": {},
   "source": [
    "Get stats on each rain gage per month,uid (id of raingage)"
   ]
  },
  {
   "cell_type": "code",
   "execution_count": 5,
   "metadata": {},
   "outputs": [
    {
     "name": "stdout",
     "output_type": "stream",
     "text": [
      "uid date    lat     long     sumpr maxpre minpre avgpre     varpre    \n",
      "----------------------------------------------------------------------\n",
      "81  2009.07 40.6005 -98.4258 7.88  4      0      0.2541935  0.6002695 \n",
      "81  2009.08 40.6005 -98.4258 8.92  4      0      0.2877419  0.6410626 \n",
      "81  2009.09 40.6005 -98.4258 5.99  2.16   0      0.1996667  0.2644566 \n",
      "81  2009.10 40.6005 -98.4258 5.15  1.44   0      0.166129   0.1429011 \n",
      "81  2009.11 40.6005 -98.4258 6.96  3.15   0      0.232      0.4444093 \n",
      "81  2009.12 40.6005 -98.4258 2.65  1.3    0      0.08548387 0.07731509\n",
      "81  2010.01 40.6005 -98.4258 7.42  2.02   0      0.2393548  0.2403867 \n",
      "81  2010.02 40.6005 -98.4258 2.76  0.95   0      0.09857143 0.05606224\n",
      "81  2010.03 40.6005 -98.4258 3.82  1.5    0      0.1232258  0.09391863\n",
      "81  2010.04 40.6005 -98.4258 1.74  0.92   0      0.058      0.03110267\n",
      "81  2010.05 40.6005 -98.4258 1.55  1.31   0      0.05       0.05336774\n",
      "81  2010.06 40.6005 -98.4258 5.78  2.04   0      0.1926667  0.2208929 \n",
      "81  2010.07 40.6005 -98.4258 9.69  2.64   0      0.3125806  0.3648385 \n",
      "81  2010.08 40.6005 -98.4258 4.26  1.14   0      0.1374194  0.07434818\n",
      "81  2010.09 40.6005 -98.4258 7.69  2.35   0      0.2563333  0.2960499 \n",
      "81  2010.10 40.6005 -98.4258 3.16  0.45   0      0.1019355  0.02354464\n",
      "81  2010.11 40.6005 -98.4258 2.47  1.12   0      0.08233333 0.04892456\n",
      "81  2010.12 40.6005 -98.4258 3.2   0.68   0      0.1032258  0.04238959\n",
      "81  2011.01 40.6005 -98.4258 2.4   1.61   0      0.07741935 0.0842385 \n",
      "81  2011.02 40.6005 -98.4258 0.79  0.42   0      0.02821429 0.00669324\n",
      "..\n"
     ]
    }
   ],
   "source": [
    "show rainmonth:0!select distinct lat,distinct long,sumpr:sum precip,\n",
    "    maxpre:max precip,minpre:min precip,avgpre:avg precip,varpre:var precip by uid,\"m\"$date from raindata"
   ]
  },
  {
   "cell_type": "markdown",
   "metadata": {},
   "source": [
    "Get the nearest neighbour of each stream gage station using the clustering library in the ml toolkit"
   ]
  },
  {
   "cell_type": "code",
   "execution_count": 6,
   "metadata": {},
   "outputs": [],
   "source": [
    "/get lat long of rain gages\n",
    "latlonr:0!select raze distinct lat,raze distinct long by uid from raindata\n",
    "\n",
    "/build tree of all lat longs \n",
    "tab:.ml.clust.kd.buildtree[latlongs:gages[`dec_lat_va`dec_long_v],'raze each latlonr[`lat`long];2]\n",
    "\n",
    "/use narest neighbour function\n",
    "/the third input groups all the stream gage lat,long together so that it won't match with any of them\n",
    "/(will later amend the function so that you only have to give the rain gage lat longs so that calcs are faster)\n",
    "\n",
    "\n",
    "clusts:.ml.clust.kd.i.nns[;tab;(count[latlonr]#0),count[gages]#1;latl:flip latlongs;`edist]\n",
    "    each count[latlonr]+til count gages  /add on count latlon because that's the index you;re starting at "
   ]
  },
  {
   "cell_type": "markdown",
   "metadata": {},
   "source": [
    "Get the id (uid) of each stream gages nearest neighbour."
   ]
  },
  {
   "cell_type": "code",
   "execution_count": 7,
   "metadata": {},
   "outputs": [
    {
     "name": "stdout",
     "output_type": "stream",
     "text": [
      "site_no  date    dec_lat_va dec_long_v uid   nd         lat     long     sump..\n",
      "-----------------------------------------------------------------------------..\n",
      "01200000 2009.07 41.65876   -73.52868  56792 0.01061508 42.8526 -78.7034 7   ..\n",
      "01200000 2009.08 41.65876   -73.52868  56792 0.01061508 42.8526 -78.7034 5.38..\n",
      "01200000 2009.09 41.65876   -73.52868  56792 0.01061508 42.8526 -78.7034 4.99..\n",
      "01200000 2009.10 41.65876   -73.52868  56792 0.01061508 42.8526 -78.7034 10.9..\n",
      "01200000 2009.11 41.65876   -73.52868  56792 0.01061508 42.8526 -78.7034 3.25..\n",
      "01200000 2009.12 41.65876   -73.52868  56792 0.01061508 42.8526 -78.7034 10.2..\n",
      "01200000 2010.01 41.65876   -73.52868  56792 0.01061508 42.8526 -78.7034 5.59..\n",
      "01200000 2010.02 41.65876   -73.52868  56792 0.01061508 42.8526 -78.7034 3.9 ..\n",
      "01200000 2010.03 41.65876   -73.52868  56792 0.01061508 42.8526 -78.7034 4.79..\n",
      "01200000 2010.04 41.65876   -73.52868  56792 0.01061508 42.8526 -78.7034 2.67..\n",
      "01200000 2010.05 41.65876   -73.52868  56792 0.01061508 42.8526 -78.7034 1.42..\n",
      "01200000 2010.06 41.65876   -73.52868  56792 0.01061508 42.8526 -78.7034 5.3 ..\n",
      "01200000 2010.07 41.65876   -73.52868  56792 0.01061508 42.8526 -78.7034 7   ..\n",
      "01200000 2010.08 41.65876   -73.52868  56792 0.01061508 42.8526 -78.7034 2.7 ..\n",
      "01200000 2010.09 41.65876   -73.52868  56792 0.01061508 42.8526 -78.7034 3.35..\n",
      "01200000 2010.10 41.65876   -73.52868  56792 0.01061508 42.8526 -78.7034 2.74..\n",
      "01200000 2010.11 41.65876   -73.52868  56792 0.01061508 42.8526 -78.7034 2.28..\n",
      "01200000 2010.12 41.65876   -73.52868  56792 0.01061508 42.8526 -78.7034 9.3 ..\n",
      "01200000 2011.01 41.65876   -73.52868  56792 0.01061508 42.8526 -78.7034 3.55..\n",
      "01200000 2011.02 41.65876   -73.52868  56792 0.01061508 42.8526 -78.7034 4.75..\n",
      "..\n"
     ]
    }
   ],
   "source": [
    "/Nearest distance (nd) is also added so that threshold can be included at a later stage if needed\n",
    "nntab:flip `uid`nd`site_no!(latlonr[`uid]clusts[;0];clusts[;1];gages[`site_no])\n",
    "\n",
    "htdata:delete height from httab ij `site_no xkey nntab\n",
    "\n",
    "show raingageall:htdata lj `date`uid xkey rainmonth"
   ]
  },
  {
   "cell_type": "markdown",
   "metadata": {},
   "source": [
    "When linking by date, not all stream gages and nearest rain gage run for the same period of time so there is a lot of gaps left in the dataset, so additional nn based on time constraints must be added"
   ]
  },
  {
   "cell_type": "code",
   "execution_count": 8,
   "metadata": {},
   "outputs": [],
   "source": [
    "/group uid by date \n",
    "uidmonth:0!select uid by date from rainmonth\n",
    "\n",
    "/get the rows that havent been joined by null values\n",
    "nullv:0!select site_no,cs:count site_no by date from nonjoin:select from raingageall where sumpr=0n\n",
    "\n",
    "/get rain uids corresponding to the missing days\n",
    "ruv:latlonr[`uid]?{exec uid from uidmonth where date=x}each nullv[`date]\n",
    "\n",
    "/get indices per day of what sites have to be recalculated\n",
    "gsv:count[latlonr]+gages[`site_no]?/:nullv[`site_no]\n",
    "\n",
    "/join index to the nearest neightbours of missing data (must be a more efficient way than doin all these calcs?)\n",
    "newnn:raze {.ml.clust.kd.i.nns[;tab;@[count[latl]#0;x;+;1];latl;`edist]each y}'[ruv;gsv]"
   ]
  },
  {
   "cell_type": "markdown",
   "metadata": {},
   "source": [
    "Join updated nntable with old"
   ]
  },
  {
   "cell_type": "code",
   "execution_count": 9,
   "metadata": {},
   "outputs": [
    {
     "name": "stdout",
     "output_type": "stream",
     "text": [
      "site_no  date    dec_lat_va dec_long_v uid   nd         lat     long     sump..\n",
      "-----------------------------------------------------------------------------..\n",
      "01200000 2009.07 41.65876   -73.52868  56792 0.01061508 42.8526 -78.7034 7   ..\n",
      "01200000 2009.08 41.65876   -73.52868  56792 0.01061508 42.8526 -78.7034 5.38..\n",
      "01200000 2009.09 41.65876   -73.52868  56792 0.01061508 42.8526 -78.7034 4.99..\n",
      "01200000 2009.10 41.65876   -73.52868  56792 0.01061508 42.8526 -78.7034 10.9..\n",
      "01200000 2009.11 41.65876   -73.52868  56792 0.01061508 42.8526 -78.7034 3.25..\n",
      "01200000 2009.12 41.65876   -73.52868  56792 0.01061508 42.8526 -78.7034 10.2..\n",
      "01200000 2010.01 41.65876   -73.52868  56792 0.01061508 42.8526 -78.7034 5.59..\n",
      "01200000 2010.02 41.65876   -73.52868  56792 0.01061508 42.8526 -78.7034 3.9 ..\n",
      "01200000 2010.03 41.65876   -73.52868  56792 0.01061508 42.8526 -78.7034 4.79..\n",
      "01200000 2010.04 41.65876   -73.52868  56792 0.01061508 42.8526 -78.7034 2.67..\n",
      "01200000 2010.05 41.65876   -73.52868  56792 0.01061508 42.8526 -78.7034 1.42..\n",
      "01200000 2010.06 41.65876   -73.52868  56792 0.01061508 42.8526 -78.7034 5.3 ..\n",
      "01200000 2010.07 41.65876   -73.52868  56792 0.01061508 42.8526 -78.7034 7   ..\n",
      "01200000 2010.08 41.65876   -73.52868  56792 0.01061508 42.8526 -78.7034 2.7 ..\n",
      "01200000 2010.09 41.65876   -73.52868  56792 0.01061508 42.8526 -78.7034 3.35..\n",
      "01200000 2010.10 41.65876   -73.52868  56792 0.01061508 42.8526 -78.7034 2.74..\n",
      "01200000 2010.11 41.65876   -73.52868  56792 0.01061508 42.8526 -78.7034 2.28..\n",
      "01200000 2010.12 41.65876   -73.52868  56792 0.01061508 42.8526 -78.7034 9.3 ..\n",
      "01200000 2011.01 41.65876   -73.52868  56792 0.01061508 42.8526 -78.7034 3.55..\n",
      "01200000 2011.02 41.65876   -73.52868  56792 0.01061508 42.8526 -78.7034 4.75..\n",
      "..\n"
     ]
    }
   ],
   "source": [
    "updnntab:flip `uid`nd`site_no`date!(latlonr[`uid]newnn[;0];newnn[;1];raze nullv[`site_no];\n",
    "    raze (nullv[`cs])#'nullv[`date])\n",
    "\n",
    "updhtdata:(select site_no,date,dec_lat_va,dec_long_v from nonjoin) ij `site_no`date xkey updnntab\n",
    "                                       \n",
    "show allraind:(select from raingageall where not sumpr=0n),updhtdata ij `date`uid xkey rainmonth"
   ]
  },
  {
   "cell_type": "markdown",
   "metadata": {},
   "source": [
    "### Basin Characteristics"
   ]
  },
  {
   "cell_type": "markdown",
   "metadata": {},
   "source": [
    "Take out columns that depend on the date like 09,10,11. Link it with previous table"
   ]
  },
  {
   "cell_type": "code",
   "execution_count": 10,
   "metadata": {},
   "outputs": [],
   "source": [
    "cols09:where (count each ss[;\"2006\"]each string each cols basin)<>0\n",
    "cols10:where (count each ss[;\"2010\"]each string each cols basin)<>0\n",
    "cols11:where (count each ss[;\"2011\"]each string each cols basin)<>0"
   ]
  },
  {
   "cell_type": "code",
   "execution_count": 11,
   "metadata": {},
   "outputs": [
    {
     "name": "stdout",
     "output_type": "stream",
     "text": [
      "site_no  date    dec_lat_va dec_long_v uid   nd         lat     long     sump..\n",
      "-----------------------------------------------------------------------------..\n",
      "01200000 2009.07 41.65876   -73.52868  56792 0.01061508 42.8526 -78.7034 7   ..\n",
      "01200000 2009.08 41.65876   -73.52868  56792 0.01061508 42.8526 -78.7034 5.38..\n",
      "01200000 2009.09 41.65876   -73.52868  56792 0.01061508 42.8526 -78.7034 4.99..\n",
      "01200000 2009.10 41.65876   -73.52868  56792 0.01061508 42.8526 -78.7034 10.9..\n",
      "01200000 2009.11 41.65876   -73.52868  56792 0.01061508 42.8526 -78.7034 3.25..\n",
      "01200000 2009.12 41.65876   -73.52868  56792 0.01061508 42.8526 -78.7034 10.2..\n",
      "01200000 2010.01 41.65876   -73.52868  56792 0.01061508 42.8526 -78.7034 5.59..\n",
      "01200000 2010.02 41.65876   -73.52868  56792 0.01061508 42.8526 -78.7034 3.9 ..\n",
      "01200000 2010.03 41.65876   -73.52868  56792 0.01061508 42.8526 -78.7034 4.79..\n",
      "01200000 2010.04 41.65876   -73.52868  56792 0.01061508 42.8526 -78.7034 2.67..\n",
      "01200000 2010.05 41.65876   -73.52868  56792 0.01061508 42.8526 -78.7034 1.42..\n",
      "01200000 2010.06 41.65876   -73.52868  56792 0.01061508 42.8526 -78.7034 5.3 ..\n",
      "01200000 2010.07 41.65876   -73.52868  56792 0.01061508 42.8526 -78.7034 7   ..\n",
      "01200000 2010.08 41.65876   -73.52868  56792 0.01061508 42.8526 -78.7034 2.7 ..\n",
      "01200000 2010.09 41.65876   -73.52868  56792 0.01061508 42.8526 -78.7034 3.35..\n",
      "01200000 2010.10 41.65876   -73.52868  56792 0.01061508 42.8526 -78.7034 2.74..\n",
      "01200000 2010.11 41.65876   -73.52868  56792 0.01061508 42.8526 -78.7034 2.28..\n",
      "01200000 2010.12 41.65876   -73.52868  56792 0.01061508 42.8526 -78.7034 9.3 ..\n",
      "01200000 2011.01 41.65876   -73.52868  56792 0.01061508 42.8526 -78.7034 3.55..\n",
      "01200000 2011.02 41.65876   -73.52868  56792 0.01061508 42.8526 -78.7034 4.75..\n",
      "..\n"
     ]
    }
   ],
   "source": [
    "constcols:(til count[cols basin]) except raze \n",
    "    {where (count each ss[;x]each string each cols basin)<>0}each (\"2009\";\"2010\";\"2011\")\n",
    "\n",
    "basinupd:flip (cols basin)[constcols]!basin[(cols basin)[constcols]]\n",
    "\n",
    "show joinedtab:allraind ij `site_no xkey basinupd"
   ]
  },
  {
   "cell_type": "markdown",
   "metadata": {},
   "source": [
    "### NLCD Dataset"
   ]
  },
  {
   "cell_type": "markdown",
   "metadata": {},
   "source": [
    "Join NLCD (impervious info) to each station based on date. Only 3 datasets so link back in time"
   ]
  },
  {
   "cell_type": "markdown",
   "metadata": {},
   "source": [
    "Only pick columns with some variance between stations"
   ]
  },
  {
   "cell_type": "code",
   "execution_count": 12,
   "metadata": {},
   "outputs": [],
   "source": [
    "nlcd06:update site_no:`${$[7=count x;\"0\",x;x]}each string each site_no,year:6 from select\n",
    " site_no:SOURCE_FEA,INTPTLAT,INTPTLON,Measure,REACHCODE,distance,imp:imp_nlcd_2006 from nlcd06\n",
    "nlcd11:update site_no:`${$[7=count x;\"0\",x;x]}each string each site_no,year:11 from select\n",
    " site_no:SOURCE_FEA,INTPTLAT,INTPTLON,Measure,REACHCODE,distance,imp:imp_nlcd_2011 from nlcd11\n",
    "nlcd16:update site_no:`${$[7=count x;\"0\",x;x]}each string each site_no,year:16 from select\n",
    " site_no:SOURCE_FEA,INTPTLAT,INTPTLON,Measure,REACHCODE,distance,imp:imp_nlcd_2016 from nlcd16"
   ]
  },
  {
   "cell_type": "code",
   "execution_count": 13,
   "metadata": {},
   "outputs": [],
   "source": [
    "stryear:{$[x<2011;6;x<2016;11;16]}each `year$joinedtab[`date]\n",
    "\n",
    "merged:update year:stryear from joinedtab\n",
    "\n",
    "newjoinedtab:merged ij `site_no xkey (nlcd06,nlcd11,nlcd16)"
   ]
  },
  {
   "cell_type": "markdown",
   "metadata": {},
   "source": [
    "# Getting the Target Data\n",
    "\n",
    "Get the count per month that a station goes over a flood level, broken up into 4 categories-Action,Flood,Moderate and Major"
   ]
  },
  {
   "cell_type": "code",
   "execution_count": 14,
   "metadata": {},
   "outputs": [],
   "source": [
    "/Some gages have no threshold values so had to delete them from dataset\n",
    "dela:first asc exec i by Action from warnings\n",
    "delmj:first 1_asc exec i by Major from warnings\n",
    "delmd:first 2_asc exec i by Moderate from warnings\n",
    "delfl:first 2_asc exec i by Flood from warnings\n",
    "\n",
    "warning:update nn: i from select from warnings where not i in distinct (dela,delmj,delmd,delfl)"
   ]
  },
  {
   "cell_type": "markdown",
   "metadata": {},
   "source": [
    "Join based on nn"
   ]
  },
  {
   "cell_type": "code",
   "execution_count": 15,
   "metadata": {},
   "outputs": [],
   "source": [
    "tabw:.ml.clust.kd.buildtree[warnlatl:gages[`dec_lat_va`dec_long_v],'\"F\"$'string each warning[`Latitude`Longitude];2]\n",
    "\n",
    "nnwarn:.ml.clust.kd.i.nns[;tabw;(count[warning]#0),count[gages]#1;flip warnlatl;`edist\n",
    "    ]each count[warning]+til count gages"
   ]
  },
  {
   "cell_type": "code",
   "execution_count": 16,
   "metadata": {},
   "outputs": [],
   "source": [
    "joins:flip `nn`ndw`site_no!(nnwarn[;0];nnwarn[;1];gages[`site_no])\n",
    "\n",
    "floodlvl:(maxht ij `site_no xkey joins) lj `nn xkey warning\n",
    "\n",
    "floodlvl[`Action`Moderate`Flood`Major]:\"F\"$'floodlvl[`Action`Moderate`Flood`Major]\n",
    "\n",
    "floodlvl[`site_no]:`${$[7=count x;\"0\",x;x]}each string each floodlvl[`site_no] /pad with 0 if len site=7"
   ]
  },
  {
   "cell_type": "code",
   "execution_count": 17,
   "metadata": {},
   "outputs": [
    {
     "name": "stdout",
     "output_type": "stream",
     "text": [
      "site_no  date    Action Flood Moderate Major no_Action no_Flood no_Mod no_Major\n",
      "-------------------------------------------------------------------------------\n",
      "01200000 2009.07 17     19    22       24    0         0        0      0       \n",
      "01200000 2009.08 17     19    22       24    0         0        0      0       \n",
      "01200000 2009.09 17     19    22       24    0         0        0      0       \n",
      "01200000 2009.10 17     19    22       24    0         0        0      0       \n",
      "01200000 2009.11 17     19    22       24    0         0        0      0       \n",
      "01200000 2009.12 17     19    22       24    0         0        0      0       \n",
      "01200000 2010.01 17     19    22       24    0         0        0      0       \n",
      "01200000 2010.02 17     19    22       24    0         0        0      0       \n",
      "01200000 2010.03 17     19    22       24    0         0        0      0       \n",
      "01200000 2010.04 17     19    22       24    0         0        0      0       \n",
      "01200000 2010.05 17     19    22       24    0         0        0      0       \n",
      "01200000 2010.06 17     19    22       24    0         0        0      0       \n",
      "01200000 2010.07 17     19    22       24    0         0        0      0       \n",
      "01200000 2010.08 17     19    22       24    0         0        0      0       \n",
      "01200000 2010.09 17     19    22       24    0         0        0      0       \n",
      "01200000 2010.10 17     19    22       24    0         0        0      0       \n",
      "01200000 2010.11 17     19    22       24    0         0        0      0       \n",
      "01200000 2010.12 17     19    22       24    0         0        0      0       \n",
      "01200000 2011.01 17     19    22       24    0         0        0      0       \n",
      "01200000 2011.02 17     19    22       24    0         0        0      0       \n",
      "..\n"
     ]
    }
   ],
   "source": [
    "show target:0!select distinct Action,distinct Flood,distinct Moderate,distinct Major,no_Action:count where height>Action\n",
    " ,no_Flood:count where height>Flood,no_Mod:count where height>Moderate,no_Major:count where height>Major by site_no\n",
    "    ,\"m\"$date from floodlvl"
   ]
  },
  {
   "cell_type": "code",
   "execution_count": 18,
   "metadata": {},
   "outputs": [
    {
     "name": "stdout",
     "output_type": "stream",
     "text": [
      "site_no  date    dec_lat_va dec_long_v uid   nd         lat     long     sump..\n",
      "-----------------------------------------------------------------------------..\n",
      "01200000 2009.07 41.65876   -73.52868  56792 0.01061508 42.8526 -78.7034 7   ..\n",
      "01200000 2009.08 41.65876   -73.52868  56792 0.01061508 42.8526 -78.7034 5.38..\n",
      "01200000 2009.09 41.65876   -73.52868  56792 0.01061508 42.8526 -78.7034 4.99..\n",
      "01200000 2009.10 41.65876   -73.52868  56792 0.01061508 42.8526 -78.7034 10.9..\n",
      "01200000 2009.11 41.65876   -73.52868  56792 0.01061508 42.8526 -78.7034 3.25..\n",
      "01200000 2009.12 41.65876   -73.52868  56792 0.01061508 42.8526 -78.7034 10.2..\n",
      "01200000 2010.01 41.65876   -73.52868  56792 0.01061508 42.8526 -78.7034 5.59..\n",
      "01200000 2010.02 41.65876   -73.52868  56792 0.01061508 42.8526 -78.7034 3.9 ..\n",
      "01200000 2010.03 41.65876   -73.52868  56792 0.01061508 42.8526 -78.7034 4.79..\n",
      "01200000 2010.04 41.65876   -73.52868  56792 0.01061508 42.8526 -78.7034 2.67..\n",
      "01200000 2010.05 41.65876   -73.52868  56792 0.01061508 42.8526 -78.7034 1.42..\n",
      "01200000 2010.06 41.65876   -73.52868  56792 0.01061508 42.8526 -78.7034 5.3 ..\n",
      "01200000 2010.07 41.65876   -73.52868  56792 0.01061508 42.8526 -78.7034 7   ..\n",
      "01200000 2010.08 41.65876   -73.52868  56792 0.01061508 42.8526 -78.7034 2.7 ..\n",
      "01200000 2010.09 41.65876   -73.52868  56792 0.01061508 42.8526 -78.7034 3.35..\n",
      "01200000 2010.10 41.65876   -73.52868  56792 0.01061508 42.8526 -78.7034 2.74..\n",
      "01200000 2010.11 41.65876   -73.52868  56792 0.01061508 42.8526 -78.7034 2.28..\n",
      "01200000 2010.12 41.65876   -73.52868  56792 0.01061508 42.8526 -78.7034 9.3 ..\n",
      "01200000 2011.01 41.65876   -73.52868  56792 0.01061508 42.8526 -78.7034 3.55..\n",
      "01200000 2011.02 41.65876   -73.52868  56792 0.01061508 42.8526 -78.7034 4.75..\n",
      "..\n"
     ]
    }
   ],
   "source": [
    "show allmerged:newjoinedtab ij `site_no`date xkey target\n"
   ]
  },
  {
   "cell_type": "code",
   "execution_count": 19,
   "metadata": {},
   "outputs": [],
   "source": [
    "/Tidy up some column types\n",
    "allmerged[`site_no]:\"F\"$string each allmerged[`site_no]\n",
    "allmerged[`lat`long]:raze each \"F\"$'string each allmerged[`lat`long]\n",
    "allmerged[`Action]:raze allmerged[`Action]\n",
    "allmerged[`Flood]:raze allmerged[`Flood]\n",
    "allmerged[`Moderate]:raze allmerged[`Moderate]\n",
    "allmerged[`Major]:raze allmerged[`Major]"
   ]
  },
  {
   "cell_type": "code",
   "execution_count": 20,
   "metadata": {},
   "outputs": [],
   "source": [
    "allmerged:update month:`mm$date from allmerged"
   ]
  },
  {
   "cell_type": "markdown",
   "metadata": {},
   "source": [
    "### Machine Learning Model"
   ]
  },
  {
   "cell_type": "code",
   "execution_count": 21,
   "metadata": {},
   "outputs": [],
   "source": [
    "tgts:select site_no,no_Action,no_Flood,no_Mod,no_Major from allmerged\n",
    "allmerged:delete no_Action,no_Flood,no_Mod,no_Major from allmerged"
   ]
  },
  {
   "cell_type": "code",
   "execution_count": 22,
   "metadata": {},
   "outputs": [
    {
     "name": "stdout",
     "output_type": "stream",
     "text": [
      "site_no date   | dec_lat_va dec_long_v uid   nd         lat     long     sump..\n",
      "---------------| ------------------------------------------------------------..\n",
      "1200000 2009.07| 41.65876   -73.52868  56792 0.01061508 42.8526 -78.7034 7   ..\n",
      "1200000 2009.08| 41.65876   -73.52868  56792 0.01061508 42.8526 -78.7034 5.38..\n",
      "1200000 2009.09| 41.65876   -73.52868  56792 0.01061508 42.8526 -78.7034 4.99..\n",
      "1200000 2009.10| 41.65876   -73.52868  56792 0.01061508 42.8526 -78.7034 10.9..\n",
      "1200000 2009.11| 41.65876   -73.52868  56792 0.01061508 42.8526 -78.7034 3.25..\n",
      "1200000 2009.12| 41.65876   -73.52868  56792 0.01061508 42.8526 -78.7034 10.2..\n",
      "1200000 2010.01| 41.65876   -73.52868  56792 0.01061508 42.8526 -78.7034 5.59..\n",
      "1200000 2010.02| 41.65876   -73.52868  56792 0.01061508 42.8526 -78.7034 3.9 ..\n",
      "1200000 2010.03| 41.65876   -73.52868  56792 0.01061508 42.8526 -78.7034 4.79..\n",
      "1200000 2010.04| 41.65876   -73.52868  56792 0.01061508 42.8526 -78.7034 2.67..\n",
      "1200000 2010.05| 41.65876   -73.52868  56792 0.01061508 42.8526 -78.7034 1.42..\n",
      "1200000 2010.06| 41.65876   -73.52868  56792 0.01061508 42.8526 -78.7034 5.3 ..\n",
      "1200000 2010.07| 41.65876   -73.52868  56792 0.01061508 42.8526 -78.7034 7   ..\n",
      "1200000 2010.08| 41.65876   -73.52868  56792 0.01061508 42.8526 -78.7034 2.7 ..\n",
      "1200000 2010.09| 41.65876   -73.52868  56792 0.01061508 42.8526 -78.7034 3.35..\n",
      "1200000 2010.10| 41.65876   -73.52868  56792 0.01061508 42.8526 -78.7034 2.74..\n",
      "1200000 2010.11| 41.65876   -73.52868  56792 0.01061508 42.8526 -78.7034 2.28..\n",
      "1200000 2010.12| 41.65876   -73.52868  56792 0.01061508 42.8526 -78.7034 9.3 ..\n",
      "1200000 2011.01| 41.65876   -73.52868  56792 0.01061508 42.8526 -78.7034 3.55..\n",
      "1200000 2011.02| 41.65876   -73.52868  56792 0.01061508 42.8526 -78.7034 4.75..\n",
      "..\n"
     ]
    }
   ],
   "source": [
    "show tabreduced:`site_no`date xkey .ml.dropconstant[.ml.filltab[allmerged;`site_no;`date;::]]"
   ]
  },
  {
   "cell_type": "markdown",
   "metadata": {},
   "source": [
    "Standardised scaling is preformed on some of the columns"
   ]
  },
  {
   "cell_type": "code",
   "execution_count": 23,
   "metadata": {},
   "outputs": [],
   "source": [
    "stdtab:.ml.stdscaler[delete dec_lat_va,dec_long_v,uid,nd,lat,long from value tabreduced]\n",
    "newtab:`site_no`date xkey (select site_no,date,dec_lat_va,dec_long_v,uid,nd,lat,long from 0!tabreduced),'stdtab"
   ]
  },
  {
   "cell_type": "markdown",
   "metadata": {},
   "source": [
    "The train and test set are strictly divided so that each station is either in train or test so that there is no data leakage"
   ]
  },
  {
   "cell_type": "code",
   "execution_count": 24,
   "metadata": {},
   "outputs": [],
   "source": [
    "tstsplt:250#distinct key[newtab][`site_no]\n",
    "trainsplt:250_distinct key[newtab][`site_no]"
   ]
  },
  {
   "cell_type": "code",
   "execution_count": 25,
   "metadata": {},
   "outputs": [],
   "source": [
    "xtrain:value select from newtab where site_no in trainsplt\n",
    "xtest:value select from newtab where site_no in tstsplt"
   ]
  },
  {
   "cell_type": "code",
   "execution_count": 26,
   "metadata": {},
   "outputs": [],
   "source": [
    "/predict for  Moderate floods\n",
    "ytrain:(exec no_Flood from tgts where site_no in trainsplt)>0\n",
    "ytest:(exec no_Flood from tgts where site_no in tstsplt)>0\n"
   ]
  },
  {
   "cell_type": "code",
   "execution_count": 27,
   "metadata": {},
   "outputs": [],
   "source": [
    "/backfilling per site doesn't work as nulls for all site, will look more into that\n",
    "xtr:(mattab xtrain)[(til count[mattab xtrain]) except where 0<>{count where x=0n}each mattab xtrain]\n",
    "ytr:ytrain[(til count[mattab xtrain]) except where 0<>{count where x=0n}each mattab xtrain]"
   ]
  },
  {
   "cell_type": "markdown",
   "metadata": {},
   "source": [
    "### Baseline Random Forest"
   ]
  },
  {
   "cell_type": "code",
   "execution_count": 28,
   "metadata": {},
   "outputs": [],
   "source": [
    "clf:.p.import[`sklearn.ensemble][`:RandomForestClassifier][`n_estimators pykw 200;`random_state pykw 1]\n",
    "clf[`:fit][xtr;ytr]`;\n",
    "pred1:clf[`:predict][mattab xtest]`"
   ]
  },
  {
   "cell_type": "code",
   "execution_count": 29,
   "metadata": {},
   "outputs": [
    {
     "data": {
      "text/plain": [
       "class    | precision recall    f1_score  support\n",
       "---------| -------------------------------------\n",
       "0        | 0.9816764 0.9107423 0.9448799 24883  \n",
       "1        | 0.1587121 0.4976247 0.2406663 842    \n",
       "avg/total| 0.5701943 0.7041835 0.5927731 25725  \n"
      ]
     },
     "execution_count": 29,
     "metadata": {},
     "output_type": "execute_result"
    }
   ],
   "source": [
    ".ml.classreport[ytest;pred1]"
   ]
  },
  {
   "cell_type": "code",
   "execution_count": 30,
   "metadata": {},
   "outputs": [
    {
     "name": "stdout",
     "output_type": "stream",
     "text": [
      "0.8972206\n"
     ]
    }
   ],
   "source": [
    "show acc:(count where pred1=ytest)%count[ytest]"
   ]
  },
  {
   "cell_type": "code",
   "execution_count": 31,
   "metadata": {
    "scrolled": false
   },
   "outputs": [
    {
     "name": "stdout",
     "output_type": "stream",
     "text": [
      "0| 22662 2221\n",
      "1| 423   419 \n"
     ]
    },
    {
     "data": {
      "image/png": "[encoded data removed]",
      "text/plain": [
       "<Figure size 720x720 with 1 Axes>"
      ]
     },
     "metadata": {},
     "output_type": "display_data"
    }
   ],
   "source": [
    "\\l ml/fresh/notebooks/graphics.q\n",
    "show cnfM:.ml.confmat[ytest;pred1]\n",
    "conf:.ml.confdict[ytest;pred1;1b]\n",
    ".ml.displayCM[value cnfM;`Low`High;\"Test Set Confusion Matrix\";()]"
   ]
  },
  {
   "cell_type": "code",
   "execution_count": 32,
   "metadata": {},
   "outputs": [
    {
     "name": "stdout",
     "output_type": "stream",
     "text": [
      "0.7041835\n"
     ]
    }
   ],
   "source": [
    "show meanclassavg:avg (conf[`tp]%(sum conf[`tp`fn]);conf[`tn]%(sum conf[`tn`fp]))"
   ]
  },
  {
   "cell_type": "markdown",
   "metadata": {},
   "source": [
    "### Neural Net"
   ]
  },
  {
   "cell_type": "markdown",
   "metadata": {},
   "source": [
    "Import models needed for Neural Net"
   ]
  },
  {
   "cell_type": "code",
   "execution_count": 33,
   "metadata": {},
   "outputs": [
    {
     "name": "stderr",
     "output_type": "stream",
     "text": [
      "Using TensorFlow backend.\n"
     ]
    }
   ],
   "source": [
    "sequential:    .p.import[`keras.models]`:Sequential\n",
    "dense:         .p.import[`keras.layers]`:Dense\n",
    "normalization: .p.import[`keras.layers]`:BatchNormalization\n",
    "pylist:        .p.import[`builtins]`:list\n",
    "models:        .p.import[`keras]`:Model\n",
    "inp:.p.import[`keras.layers]`:Input\n",
    "km:.p.import[`keras_metrics]\n",
    "plt:.p.import[`matplotlib]`:pyplot\n"
   ]
  },
  {
   "cell_type": "code",
   "execution_count": 34,
   "metadata": {
    "scrolled": true
   },
   "outputs": [
    {
     "data": {
      "text/plain": [
       "{[f;x]embedPy[f;x]}[foreign]enlist\n"
      ]
     },
     "execution_count": 34,
     "metadata": {},
     "output_type": "execute_result"
    },
    {
     "name": "stderr",
     "output_type": "stream",
     "text": [
      "2019-07-29 06:40:18.788455: I tensorflow/core/platform/cpu_feature_guard.cc:142] Your CPU supports instructions that this TensorFlow binary was not compiled to use: AVX2 FMA\n",
      "2019-07-29 06:40:18.801844: I tensorflow/core/platform/profile_utils/cpu_utils.cc:94] CPU Frequency: 2300000000 Hz\n",
      "2019-07-29 06:40:18.805443: I tensorflow/compiler/xla/service/service.cc:168] XLA service 0xa67e840 executing computations on platform Host. Devices:\n",
      "2019-07-29 06:40:18.805534: I tensorflow/compiler/xla/service/service.cc:175]   StreamExecutor device (0): <undefined>, <undefined>\n",
      "2019-07-29 06:40:18.967483: W tensorflow/compiler/jit/mark_for_compilation_pass.cc:1412] (One-time warning): Not using XLA:CPU for cluster because envvar TF_XLA_FLAGS=--tf_xla_cpu_global_jit was not set.  If you want XLA:CPU, either set that envvar, or use experimental_jit_scope to enable XLA:CPU.  To confirm that XLA is active, pass --vmodule=xla_compilation_cache=1 (as a proper command-line flag, not via TF_XLA_FLAGS) or set the envvar XLA_FLAGS=--xla_hlo_profile.\n"
     ]
    },
    {
     "name": "stdout",
     "output_type": "stream",
     "text": [
      "Epoch 1/100\n",
      "42511/42511 [==============================] - ETA: 1s - loss: 13.1038 - precision: 0.1781 - recall: 1.0000  - ETA: 2s - loss: 13.0536 - precision: 0.1812 - recall: 1.00 - ETA: 1s - loss: 13.1541 - precision: 0.1749 - recall: 1.000 - ETA: 1s - loss: 13.1178 - precision: 0.1772 - recall: 1.000 - ETA: 0s - loss: 13.0892 - precision: 0.1790 - recall: 1.000 - ETA: 0s - loss: 13.0644 - precision: 0.1805 - recall: 1.000 - ETA: 0s - loss: 13.0799 - precision: 0.1795 - recall: 1.000 - ETA: 0s - loss: 13.0504 - precision: 0.1814 - recall: 1.000 - ETA: 0s - loss: 13.0447 - precision: 0.1818 - recall: 1.000 - ETA: 0s - loss: 13.0509 - precision: 0.1814 - recall: 1.000 - ETA: 0s - loss: 13.0431 - precision: 0.1819 - recall: 1.000 - ETA: 0s - loss: 13.0403 - precision: 0.1820 - recall: 1.000 - ETA: 0s - loss: 13.0420 - precision: 0.1819 - recall: 1.000 - ETA: 0s - loss: 13.0447 - precision: 0.1818 - recall: 1.000 - ETA: 0s - loss: 13.0435 - precision: 0.1818 - recall: 1.000 - 1s 24us/step - loss: 13.0450 - precision: 0.1817 - recall: 1.0000\n",
      "Epoch 2/100\n",
      "42511/42511 [==============================] - ETA: 0s - loss: 13.0310 - precision: 0.1826 - recall: 1.0000- ETA: 0s - loss: 13.0329 - precision: 0.1825 - recall: 1.000 - ETA: 0s - loss: 13.0500 - precision: 0.1839 - recall: 1.000 - ETA: 0s - loss: 13.0427 - precision: 0.1819 - recall: 1.000 - ETA: 0s - loss: 13.0482 - precision: 0.1815 - recall: 1.000 - ETA: 0s - loss: 13.0439 - precision: 0.1818 - recall: 1.000 - ETA: 0s - loss: 13.0151 - precision: 0.1836 - recall: 1.000 - ETA: 0s - loss: 13.0088 - precision: 0.1840 - recall: 1.000 - ETA: 0s - loss: 13.0384 - precision: 0.1822 - recall: 1.000 - ETA: 0s - loss: 13.0177 - precision: 0.1835 - recall: 1.000 - ETA: 0s - loss: 13.0141 - precision: 0.1837 - recall: 1.000 - ETA: 0s - loss: 12.9986 - precision: 0.1846 - recall: 1.000 - ETA: 0s - loss: 13.0049 - precision: 0.1843 - recall: 1.000 - ETA: 0s - loss: 13.0061 - precision: 0.1842 - recall: 1.000 - ETA: 0s - loss: 13.0018 - precision: 0.1844 - recall: 1.00 - ETA: 0s - loss: 12.9963 - precision: 0.1848 - recall: 1.000 - ETA: 0s - loss: 12.9998 - precision: 0.1846 - recall: 1.00 - ETA: 0s - loss: 13.0065 - precision: 0.1842 - recall: 1.000 - ETA: 0s - loss: 13.0111 - precision: 0.1839 - recall: 1.000 - ETA: 0s - loss: 13.0141 - precision: 0.1837 - recall: 1.000 - ETA: 0s - loss: 13.0164 - precision: 0.1835 - recall: 1.000 - ETA: 0s - loss: 13.0202 - precision: 0.1833 - recall: 1.000 - ETA: 0s - loss: 13.0233 - precision: 0.1831 - recall: 1.00 - ETA: 0s - loss: 13.0411 - precision: 0.1820 - recall: 1.000 - 1s 33us/step - loss: 13.0450 - precision: 0.1817 - recall: 1.0000\n",
      "Epoch 3/100\n",
      "42511/42511 [==============================] - ETA: 0s - loss: 13.0481 - precision: 0.1815 - recall: 1.0000- ETA: 1s - loss: 12.9665 - precision: 0.1867 - recall: 1.000 - ETA: 1s - loss: 12.9877 - precision: 0.1853 - recall: 1.00 - ETA: 1s - loss: 12.9957 - precision: 0.1848 - recall: 1.000 - ETA: 1s - loss: 13.0014 - precision: 0.1845 - recall: 1.00 - ETA: 0s - loss: 13.0464 - precision: 0.1817 - recall: 1.00 - ETA: 0s - loss: 12.9962 - precision: 0.1848 - recall: 1.00 - ETA: 0s - loss: 12.9885 - precision: 0.1853 - recall: 1.000 - ETA: 0s - loss: 12.9785 - precision: 0.1859 - recall: 1.000 - ETA: 0s - loss: 13.0116 - precision: 0.1838 - recall: 1.000 - ETA: 0s - loss: 13.0055 - precision: 0.1842 - recall: 1.000 - ETA: 0s - loss: 13.0056 - precision: 0.1842 - recall: 1.000 - ETA: 0s - loss: 13.0205 - precision: 0.1833 - recall: 1.000 - ETA: 0s - loss: 13.0413 - precision: 0.1820 - recall: 1.000 - ETA: 0s - loss: 13.0514 - precision: 0.1813 - recall: 1.00 - ETA: 0s - loss: 13.0447 - precision: 0.1818 - recall: 1.000 - ETA: 0s - loss: 13.0450 - precision: 0.1817 - recall: 1.000 - ETA: 0s - loss: 13.0381 - precision: 0.1822 - recall: 1.000 - ETA: 0s - loss: 13.0323 - precision: 0.1825 - recall: 1.000 - ETA: 0s - loss: 13.0251 - precision: 0.1830 - recall: 1.000 - ETA: 0s - loss: 13.0408 - precision: 0.1820 - recall: 1.000 - ETA: 0s - loss: 13.0402 - precision: 0.1820 - recall: 1.000 - ETA: 0s - loss: 13.0395 - precision: 0.1821 - recall: 1.000 - ETA: 0s - loss: 13.0292 - precision: 0.1827 - recall: 1.000 - ETA: 0s - loss: 13.0434 - precision: 0.1818 - recall: 1.000 - 2s 37us/step - loss: 13.0450 - precision: 0.1817 - recall: 1.0000\n",
      "Epoch 4/100\n",
      "42511/42511 [==============================] - ETA: 0s - loss: 13.0646 - precision: 0.1805 - recall: 1.0000- ETA: 2s - loss: 12.9798 - precision: 0.1858 - recall: 1.000 - ETA: 1s - loss: 13.2255 - precision: 0.1704 - recall: 1.00 - ETA: 1s - loss: 13.1421 - precision: 0.1757 - recall: 1.000 - ETA: 1s - loss: 13.1497 - precision: 0.1752 - recall: 1.000 - ETA: 1s - loss: 13.1121 - precision: 0.1775 - recall: 1.000 - ETA: 1s - loss: 13.0709 - precision: 0.1801 - recall: 1.000 - ETA: 1s - loss: 13.0380 - precision: 0.1822 - recall: 1.000 - ETA: 1s - loss: 13.0417 - precision: 0.1819 - recall: 1.000 - ETA: 1s - loss: 13.0470 - precision: 0.1816 - recall: 1.000 - ETA: 1s - loss: 13.0669 - precision: 0.1804 - recall: 1.000 - ETA: 1s - loss: 13.0447 - precision: 0.1818 - recall: 1.000 - ETA: 1s - loss: 13.0617 - precision: 0.1807 - recall: 1.000 - ETA: 1s - loss: 13.0681 - precision: 0.1803 - recall: 1.000 - ETA: 1s - loss: 13.0675 - precision: 0.1803 - recall: 1.000 - ETA: 0s - loss: 13.0621 - precision: 0.1807 - recall: 1.000 - ETA: 0s - loss: 13.0704 - precision: 0.1801 - recall: 1.000 - ETA: 0s - loss: 13.0640 - precision: 0.1806 - recall: 1.000 - ETA: 0s - loss: 13.0548 - precision: 0.1811 - recall: 1.0 - ETA: 0s - loss: 13.0776 - precision: 0.1797 - recall: 1.000 - ETA: 0s - loss: 13.0832 - precision: 0.1793 - recall: 1.000 - ETA: 0s - loss: 13.0653 - precision: 0.1805 - recall: 1.000 - ETA: 0s - loss: 13.0554 - precision: 0.1811 - recall: 1.000 - ETA: 0s - loss: 13.0479 - precision: 0.1816 - recall: 1.000 - ETA: 0s - loss: 13.0393 - precision: 0.1820 - recall: 1.000 - ETA: 0s - loss: 13.0395 - precision: 0.1821 - recall: 1.000 - ETA: 0s - loss: 13.0482 - precision: 0.1815 - recall: 1.000 - 2s 37us/step - loss: 13.0450 - precision: 0.1817 - recall: 1.0000\n",
      "Epoch 5/100\n",
      "42511/42511 [==============================] - ETA: 1s - loss: 12.5945 - precision: 0.2100 - recall: 1.000 - ETA: 1s - loss: 12.9858 - precision: 0.1855 - recall: 1.000 - ETA: 0s - loss: 12.8911 - precision: 0.1914 - recall: 1.000 - ETA: 0s - loss: 12.9955 - precision: 0.1848 - recall: 1.000 - ETA: 0s - loss: 13.0424 - precision: 0.1819 - recall: 1.000 - ETA: 0s - loss: 12.9908 - precision: 0.1851 - recall: 1.000 - ETA: 0s - loss: 13.0225 - precision: 0.1831 - recall: 1.000 - ETA: 0s - loss: 13.0114 - precision: 0.1839 - recall: 1.000 - ETA: 0s - loss: 13.0114 - precision: 0.1838 - recall: 1.000 - ETA: 0s - loss: 13.0092 - precision: 0.1840 - recall: 1.000 - ETA: 0s - loss: 13.0216 - precision: 0.1832 - recall: 1.000 - ETA: 0s - loss: 13.0222 - precision: 0.1832 - recall: 1.000 - ETA: 0s - loss: 13.0283 - precision: 0.1828 - recall: 1.000 - ETA: 0s - loss: 13.0167 - precision: 0.1835 - recall: 1.000 - ETA: 0s - loss: 13.0191 - precision: 0.1834 - recall: 1.000 - ETA: 0s - loss: 13.0263 - precision: 0.1829 - recall: 1.000 - ETA: 0s - loss: 13.0260 - precision: 0.1829 - recall: 1.000 - ETA: 0s - loss: 13.0289 - precision: 0.1828 - recall: 1.000 - ETA: 0s - loss: 13.0321 - precision: 0.1826 - recall: 1.000 - ETA: 0s - loss: 13.0355 - precision: 0.1823 - recall: 1.000 - 1s 24us/step - loss: 13.0450 - precision: 0.1817 - recall: 1.0000\n",
      "Epoch 6/100\n"
     ]
    },
    {
     "name": "stdout",
     "output_type": "stream",
     "text": [
      "42511/42511 [==============================] - ETA: 0s - loss: 13.0125 - precision: 0.1838 - recall: 1.000 - ETA: 1s - loss: 13.0044 - precision: 0.1843 - recall: 1.000 - ETA: 0s - loss: 13.0839 - precision: 0.1793 - recall: 1.000 - ETA: 0s - loss: 13.1208 - precision: 0.1770 - recall: 1.000 - ETA: 0s - loss: 13.1073 - precision: 0.1778 - recall: 1.000 - ETA: 0s - loss: 13.0341 - precision: 0.1824 - recall: 1.000 - ETA: 0s - loss: 13.0274 - precision: 0.1828 - recall: 1.000 - ETA: 0s - loss: 12.9925 - precision: 0.1850 - recall: 1.000 - ETA: 0s - loss: 13.0312 - precision: 0.1825 - recall: 1.000 - ETA: 0s - loss: 13.0125 - precision: 0.1838 - recall: 1.000 - ETA: 0s - loss: 13.0135 - precision: 0.1837 - recall: 1.000 - ETA: 0s - loss: 13.0300 - precision: 0.1827 - recall: 1.000 - ETA: 0s - loss: 13.0167 - precision: 0.1835 - recall: 1.000 - ETA: 0s - loss: 13.0309 - precision: 0.1826 - recall: 1.000 - ETA: 0s - loss: 13.0290 - precision: 0.1827 - recall: 1.000 - ETA: 0s - loss: 13.0330 - precision: 0.1825 - recall: 1.000 - ETA: 0s - loss: 13.0551 - precision: 0.1811 - recall: 1.000 - ETA: 0s - loss: 13.0505 - precision: 0.1814 - recall: 1.000 - ETA: 0s - loss: 13.0466 - precision: 0.1816 - recall: 1.000 - ETA: 0s - loss: 13.0468 - precision: 0.1816 - recall: 1.000 - 1s 25us/step - loss: 13.0450 - precision: 0.1818 - recall: 1.0000\n",
      "Epoch 7/100\n",
      "42511/42511 [==============================] - ETA: 1s - loss: 12.9133 - precision: 0.1900 - recall: 1.000 - ETA: 1s - loss: 13.0576 - precision: 0.1810 - recall: 1.000 - ETA: 0s - loss: 13.0386 - precision: 0.1821 - recall: 1.000 - ETA: 0s - loss: 13.1300 - precision: 0.1764 - recall: 1.000 - ETA: 0s - loss: 13.1191 - precision: 0.1771 - recall: 1.000 - ETA: 0s - loss: 13.0624 - precision: 0.1806 - recall: 1.000 - ETA: 0s - loss: 13.0258 - precision: 0.1829 - recall: 1.000 - ETA: 0s - loss: 13.0061 - precision: 0.1842 - recall: 1.000 - ETA: 0s - loss: 12.9852 - precision: 0.1855 - recall: 1.000 - ETA: 0s - loss: 13.0163 - precision: 0.1835 - recall: 1.000 - ETA: 0s - loss: 13.0246 - precision: 0.1830 - recall: 1.000 - ETA: 0s - loss: 13.0255 - precision: 0.1830 - recall: 1.000 - ETA: 0s - loss: 13.0473 - precision: 0.1816 - recall: 1.000 - ETA: 0s - loss: 13.0481 - precision: 0.1815 - recall: 1.000 - ETA: 0s - loss: 13.0477 - precision: 0.1816 - recall: 1.000 - ETA: 0s - loss: 13.0618 - precision: 0.1807 - recall: 1.000 - ETA: 0s - loss: 13.0592 - precision: 0.1809 - recall: 1.000 - ETA: 0s - loss: 13.0542 - precision: 0.1812 - recall: 1.000 - ETA: 0s - loss: 13.0435 - precision: 0.1818 - recall: 1.000 - ETA: 0s - loss: 13.0474 - precision: 0.1816 - recall: 1.000 - ETA: 0s - loss: 13.0459 - precision: 0.1817 - recall: 1.000 - 1s 24us/step - loss: 13.0450 - precision: 0.1817 - recall: 1.0000\n",
      "Epoch 8/100\n",
      "42511/42511 [==============================] - ETA: 0s - loss: 13.0913 - precision: 0.1788 - recall: 1.0000- ETA: 0s - loss: 13.1975 - precision: 0.1722 - recall: 1.000 - ETA: 0s - loss: 13.1017 - precision: 0.1782 - recall: 1.000 - ETA: 0s - loss: 13.1218 - precision: 0.1769 - recall: 1.000 - ETA: 0s - loss: 13.0835 - precision: 0.1793 - recall: 1.000 - ETA: 0s - loss: 13.0391 - precision: 0.1821 - recall: 1.000 - ETA: 0s - loss: 13.0557 - precision: 0.1811 - recall: 1.000 - ETA: 0s - loss: 13.0455 - precision: 0.1817 - recall: 1.000 - ETA: 0s - loss: 13.0709 - precision: 0.1801 - recall: 1.000 - ETA: 0s - loss: 13.0760 - precision: 0.1798 - recall: 1.00 - ETA: 0s - loss: 13.0753 - precision: 0.1798 - recall: 1.000 - ETA: 0s - loss: 13.0768 - precision: 0.1797 - recall: 1.000 - ETA: 0s - loss: 13.0622 - precision: 0.1807 - recall: 1.000 - ETA: 0s - loss: 13.0554 - precision: 0.1811 - recall: 1.000 - ETA: 0s - loss: 13.0541 - precision: 0.1812 - recall: 1.000 - ETA: 0s - loss: 13.0423 - precision: 0.1819 - recall: 1.000 - ETA: 0s - loss: 13.0436 - precision: 0.1818 - recall: 1.000 - 1s 21us/step - loss: 13.0450 - precision: 0.1818 - recall: 1.0000\n",
      "Epoch 9/100\n",
      "42511/42511 [==============================] - ETA: 1s - loss: 12.9133 - precision: 0.1900 - recall: 1.000 - ETA: 0s - loss: 13.0343 - precision: 0.1824 - recall: 1.000 - ETA: 0s - loss: 12.9930 - precision: 0.1850 - recall: 1.000 - ETA: 0s - loss: 13.0005 - precision: 0.1845 - recall: 1.000 - ETA: 0s - loss: 12.9674 - precision: 0.1866 - recall: 1.000 - ETA: 0s - loss: 13.0181 - precision: 0.1834 - recall: 1.000 - ETA: 0s - loss: 13.0165 - precision: 0.1835 - recall: 1.000 - ETA: 0s - loss: 13.0238 - precision: 0.1831 - recall: 1.000 - ETA: 0s - loss: 13.0293 - precision: 0.1827 - recall: 1.000 - ETA: 0s - loss: 13.0324 - precision: 0.1825 - recall: 1.000 - ETA: 0s - loss: 13.0375 - precision: 0.1822 - recall: 1.000 - ETA: 0s - loss: 13.0401 - precision: 0.1820 - recall: 1.000 - ETA: 0s - loss: 13.0420 - precision: 0.1819 - recall: 1.000 - ETA: 0s - loss: 13.0496 - precision: 0.1815 - recall: 1.000 - ETA: 0s - loss: 13.0390 - precision: 0.1821 - recall: 1.000 - ETA: 0s - loss: 13.0446 - precision: 0.1818 - recall: 1.000 - ETA: 0s - loss: 13.0419 - precision: 0.1819 - recall: 1.000 - 1s 20us/step - loss: 13.0450 - precision: 0.1817 - recall: 1.0000\n",
      "Epoch 10/100\n",
      "42511/42511 [==============================] - ETA: 0s - loss: 13.0482 - precision: 0.1815 - recall: 1.0000- ETA: 1s - loss: 13.1162 - precision: 0.1773 - recall: 1.000 - ETA: 0s - loss: 13.1452 - precision: 0.1755 - recall: 1.000 - ETA: 0s - loss: 13.1259 - precision: 0.1767 - recall: 1.000 - ETA: 0s - loss: 13.1468 - precision: 0.1754 - recall: 1.000 - ETA: 0s - loss: 13.0913 - precision: 0.1788 - recall: 1.000 - ETA: 0s - loss: 13.1036 - precision: 0.1781 - recall: 1.000 - ETA: 0s - loss: 13.0606 - precision: 0.1821 - recall: 1.000 - ETA: 0s - loss: 13.0391 - precision: 0.1830 - recall: 1.000 - ETA: 0s - loss: 13.0350 - precision: 0.1824 - recall: 1.000 - ETA: 0s - loss: 13.0178 - precision: 0.1834 - recall: 1.000 - ETA: 0s - loss: 13.0128 - precision: 0.1838 - recall: 1.000 - ETA: 0s - loss: 13.0121 - precision: 0.1838 - recall: 1.000 - ETA: 0s - loss: 13.0305 - precision: 0.1826 - recall: 1.000 - ETA: 0s - loss: 13.0227 - precision: 0.1831 - recall: 1.000 - ETA: 0s - loss: 13.0417 - precision: 0.1819 - recall: 1.00 - ETA: 0s - loss: 13.0602 - precision: 0.1808 - recall: 1.000 - ETA: 0s - loss: 13.0479 - precision: 0.1816 - recall: 1.000 - ETA: 0s - loss: 13.0457 - precision: 0.1817 - recall: 1.000 - 1s 23us/step - loss: 13.0450 - precision: 0.1817 - recall: 1.0000\n",
      "Epoch 11/100\n",
      "42511/42511 [==============================] - ETA: 0s - loss: 13.0374 - precision: 0.1823 - recall: 1.0000- ETA: 0s - loss: 13.1552 - precision: 0.1748 - recall: 1.000 - ETA: 0s - loss: 13.0898 - precision: 0.1789 - recall: 1.000 - ETA: 0s - loss: 13.0272 - precision: 0.1829 - recall: 1.000 - ETA: 0s - loss: 13.0059 - precision: 0.1842 - recall: 1.000 - ETA: 0s - loss: 13.0454 - precision: 0.1817 - recall: 1.000 - ETA: 0s - loss: 13.0441 - precision: 0.1818 - recall: 1.000 - ETA: 0s - loss: 13.0507 - precision: 0.1814 - recall: 1.0 - ETA: 0s - loss: 13.0471 - precision: 0.1816 - recall: 1.000 - ETA: 0s - loss: 13.0537 - precision: 0.1812 - recall: 1.000 - ETA: 0s - loss: 13.0524 - precision: 0.1813 - recall: 1.00 - ETA: 0s - loss: 13.0454 - precision: 0.1817 - recall: 1.000 - ETA: 0s - loss: 13.0413 - precision: 0.1816 - recall: 1.000 - ETA: 0s - loss: 13.0477 - precision: 0.1816 - recall: 1.000 - ETA: 0s - loss: 13.0532 - precision: 0.1812 - recall: 1.000 - 1s 21us/step - loss: 13.0450 - precision: 0.1817 - recall: 1.0000\n",
      "Epoch 12/100\n"
     ]
    },
    {
     "name": "stdout",
     "output_type": "stream",
     "text": [
      "42511/42511 [==============================] - ETA: 0s - loss: 13.0189 - precision: 0.1834 - recall: 1.0000- ETA: 1s - loss: 12.9968 - precision: 0.1848 - recall: 1.000 - ETA: 1s - loss: 13.1078 - precision: 0.1778 - recall: 1.000 - ETA: 0s - loss: 13.0682 - precision: 0.1803 - recall: 1.000 - ETA: 0s - loss: 13.0615 - precision: 0.1807 - recall: 1.000 - ETA: 0s - loss: 13.0703 - precision: 0.1802 - recall: 1.000 - ETA: 0s - loss: 13.0648 - precision: 0.1805 - recall: 1.000 - ETA: 0s - loss: 13.0424 - precision: 0.1819 - recall: 1.000 - ETA: 0s - loss: 13.0143 - precision: 0.1837 - recall: 1.000 - ETA: 0s - loss: 13.0126 - precision: 0.1838 - recall: 1.000 - ETA: 0s - loss: 13.0078 - precision: 0.1835 - recall: 1.00 - ETA: 0s - loss: 13.0286 - precision: 0.1828 - recall: 1.000 - ETA: 0s - loss: 13.0392 - precision: 0.1821 - recall: 1.000 - ETA: 0s - loss: 13.0448 - precision: 0.1818 - recall: 1.000 - 1s 18us/step - loss: 13.0450 - precision: 0.1817 - recall: 1.0000\n",
      "Epoch 13/100\n",
      "42511/42511 [==============================] - ETA: 0s - loss: 12.8984 - precision: 0.1912 - recall: 1.000 - ETA: 0s - loss: 12.9027 - precision: 0.1907 - recall: 1.000 - ETA: 0s - loss: 13.0286 - precision: 0.1829 - recall: 1.000 - ETA: 0s - loss: 13.0394 - precision: 0.1821 - recall: 1.000 - ETA: 0s - loss: 13.0692 - precision: 0.1802 - recall: 1.000 - ETA: 0s - loss: 13.0709 - precision: 0.1801 - recall: 1.000 - ETA: 0s - loss: 13.0915 - precision: 0.1788 - recall: 1.000 - ETA: 0s - loss: 13.0822 - precision: 0.1794 - recall: 1.000 - ETA: 0s - loss: 13.0888 - precision: 0.1790 - recall: 1.000 - ETA: 0s - loss: 13.0765 - precision: 0.1804 - recall: 1.000 - ETA: 0s - loss: 13.0876 - precision: 0.1791 - recall: 1.000 - ETA: 0s - loss: 13.0606 - precision: 0.1808 - recall: 1.000 - ETA: 0s - loss: 13.0639 - precision: 0.1806 - recall: 1.000 - 1s 17us/step - loss: 13.0450 - precision: 0.1817 - recall: 1.0000\n",
      "Epoch 14/100\n",
      "42511/42511 [==============================] - ETA: 1s - loss: 13.2322 - precision: 0.1700 - recall: 1.000 - ETA: 0s - loss: 12.9612 - precision: 0.1870 - recall: 1.000 - ETA: 0s - loss: 13.0462 - precision: 0.1817 - recall: 1.000 - ETA: 0s - loss: 13.0749 - precision: 0.1799 - recall: 1.000 - ETA: 0s - loss: 13.0793 - precision: 0.1796 - recall: 1.000 - ETA: 0s - loss: 13.0592 - precision: 0.1808 - recall: 1.000 - ETA: 0s - loss: 13.0521 - precision: 0.1813 - recall: 1.000 - ETA: 0s - loss: 13.0256 - precision: 0.1830 - recall: 1.000 - ETA: 0s - loss: 13.0340 - precision: 0.1824 - recall: 1.000 - ETA: 0s - loss: 13.0225 - precision: 0.1832 - recall: 1.000 - ETA: 0s - loss: 13.0021 - precision: 0.1853 - recall: 1.000 - ETA: 0s - loss: 12.9983 - precision: 0.1847 - recall: 1.000 - ETA: 0s - loss: 13.0110 - precision: 0.1838 - recall: 1.000 - ETA: 0s - loss: 13.0244 - precision: 0.1835 - recall: 1.000 - ETA: 0s - loss: 13.0442 - precision: 0.1818 - recall: 1.000 - ETA: 0s - loss: 13.0437 - precision: 0.1818 - recall: 1.000 - ETA: 0s - loss: 13.0393 - precision: 0.1821 - recall: 1.000 - ETA: 0s - loss: 13.0446 - precision: 0.1821 - recall: 1.000 - 1s 21us/step - loss: 13.0450 - precision: 0.1817 - recall: 1.0000\n",
      "Epoch 15/100\n",
      "42511/42511 [==============================] - ETA: 1s - loss: 13.8699 - precision: 0.1300 - recall: 1.000 - ETA: 0s - loss: 13.1226 - precision: 0.1769 - recall: 1.000 - ETA: 0s - loss: 13.1295 - precision: 0.1764 - recall: 1.000 - ETA: 0s - loss: 13.0765 - precision: 0.1798 - recall: 1.000 - ETA: 0s - loss: 13.0628 - precision: 0.1806 - recall: 1.000 - ETA: 0s - loss: 13.0592 - precision: 0.1809 - recall: 1.000 - ETA: 0s - loss: 13.0643 - precision: 0.1796 - recall: 1.000 - ETA: 0s - loss: 13.0550 - precision: 0.1811 - recall: 1.000 - ETA: 0s - loss: 13.0481 - precision: 0.1815 - recall: 1.000 - ETA: 0s - loss: 13.0491 - precision: 0.1819 - recall: 1.000 - ETA: 0s - loss: 13.0565 - precision: 0.1810 - recall: 1.000 - ETA: 0s - loss: 13.0464 - precision: 0.1817 - recall: 1.000 - ETA: 0s - loss: 13.0330 - precision: 0.1825 - recall: 1.000 - ETA: 0s - loss: 13.0457 - precision: 0.1817 - recall: 1.000 - ETA: 0s - loss: 13.0545 - precision: 0.1811 - recall: 1.000 - ETA: 0s - loss: 13.0487 - precision: 0.1815 - recall: 1.000 - 1s 19us/step - loss: 13.0450 - precision: 0.1817 - recall: 1.0000\n",
      "Epoch 16/100\n",
      "42511/42511 [==============================] - ETA: 0s - loss: 13.0423 - precision: 0.1819 - recall: 1.0000- ETA: 1s - loss: 13.2720 - precision: 0.1675 - recall: 1.000 - ETA: 1s - loss: 13.0887 - precision: 0.1790 - recall: 1.000 - ETA: 0s - loss: 13.1020 - precision: 0.1782 - recall: 1.000 - ETA: 0s - loss: 13.0748 - precision: 0.1799 - recall: 1.000 - ETA: 0s - loss: 13.0629 - precision: 0.1806 - recall: 1.000 - ETA: 0s - loss: 13.0825 - precision: 0.1794 - recall: 1.000 - ETA: 0s - loss: 13.0799 - precision: 0.1796 - recall: 1.000 - ETA: 0s - loss: 13.0738 - precision: 0.1799 - recall: 1.000 - ETA: 0s - loss: 13.0728 - precision: 0.1800 - recall: 1.000 - ETA: 0s - loss: 13.0537 - precision: 0.1812 - recall: 1.000 - ETA: 0s - loss: 13.0392 - precision: 0.1821 - recall: 1.000 - ETA: 0s - loss: 13.0347 - precision: 0.1824 - recall: 1.000 - ETA: 0s - loss: 13.0485 - precision: 0.1815 - recall: 1.000 - ETA: 0s - loss: 13.0306 - precision: 0.1826 - recall: 1.00 - ETA: 0s - loss: 13.0276 - precision: 0.1828 - recall: 1.000 - ETA: 0s - loss: 13.0482 - precision: 0.1815 - recall: 1.000 - ETA: 0s - loss: 13.0403 - precision: 0.1820 - recall: 1.000 - ETA: 0s - loss: 13.0464 - precision: 0.1817 - recall: 1.00 - ETA: 0s - loss: 13.0452 - precision: 0.1817 - recall: 1.00 - ETA: 0s - loss: 13.0505 - precision: 0.1814 - recall: 1.000 - ETA: 0s - loss: 13.0457 - precision: 0.1820 - recall: 1.000 - 1s 30us/step - loss: 13.0450 - precision: 0.1817 - recall: 1.0000\n",
      "Epoch 17/100\n",
      "42511/42511 [==============================] - ETA: 0s - loss: 13.0710 - precision: 0.1801 - recall: 1.0000- ETA: 1s - loss: 13.0285 - precision: 0.1828 - recall: 1.000 - ETA: 1s - loss: 12.9478 - precision: 0.1878 - recall: 1.000 - ETA: 1s - loss: 12.9887 - precision: 0.1853 - recall: 1.000 - ETA: 1s - loss: 13.0166 - precision: 0.1835 - recall: 1.00 - ETA: 0s - loss: 12.9937 - precision: 0.1864 - recall: 1.000 - ETA: 0s - loss: 13.0086 - precision: 0.1840 - recall: 1.000 - ETA: 0s - loss: 13.0226 - precision: 0.1831 - recall: 1.000 - ETA: 0s - loss: 13.0579 - precision: 0.1809 - recall: 1.000 - ETA: 0s - loss: 13.0457 - precision: 0.1817 - recall: 1.000 - ETA: 0s - loss: 13.0585 - precision: 0.1809 - recall: 1.000 - ETA: 0s - loss: 13.0476 - precision: 0.1816 - recall: 1.000 - ETA: 0s - loss: 13.0386 - precision: 0.1821 - recall: 1.000 - ETA: 0s - loss: 13.0323 - precision: 0.1825 - recall: 1.000 - ETA: 0s - loss: 13.0281 - precision: 0.1831 - recall: 1.000 - ETA: 0s - loss: 13.0297 - precision: 0.1827 - recall: 1.000 - ETA: 0s - loss: 13.0323 - precision: 0.1828 - recall: 1.000 - ETA: 0s - loss: 13.0511 - precision: 0.1814 - recall: 1.000 - ETA: 0s - loss: 13.0457 - precision: 0.1817 - recall: 1.000 - 1s 23us/step - loss: 13.0450 - precision: 0.1817 - recall: 1.0000\n",
      "Epoch 18/100\n"
     ]
    },
    {
     "name": "stdout",
     "output_type": "stream",
     "text": [
      "42511/42511 [==============================] - 1s 25us/step - loss: 13.0450 - precision: 0.1817 - recall: 1.0000: 1s - loss: 12.9930 - precision: 0.1850 - recall: 1.000 - ETA: 1s - loss: 12.8974 - precision: 0.1910 - recall: 1.000 - ETA: 0s - loss: 12.9809 - precision: 0.1858 - recall: 1.000 - ETA: 0s - loss: 13.0203 - precision: 0.1833 - recall: 1.000 - ETA: 0s - loss: 13.0337 - precision: 0.1824 - recall: 1.000 - ETA: 0s - loss: 13.0120 - precision: 0.1838 - recall: 1.000 - ETA: 0s - loss: 13.0079 - precision: 0.1841 - recall: 1.000 - ETA: 0s - loss: 12.9986 - precision: 0.1847 - recall: 1.00 - ETA: 0s - loss: 13.0371 - precision: 0.1822 - recall: 1.000 - ETA: 0s - loss: 13.0503 - precision: 0.1814 - recall: 1.000 - ETA: 0s - loss: 13.0592 - precision: 0.1808 - recall: 1.000 - ETA: 0s - loss: 13.0533 - precision: 0.1812 - recall: 1.000 - ETA: 0s - loss: 13.0616 - precision: 0.1808 - recall: 1.000 - ETA: 0s - loss: 13.0467 - precision: 0.1817 - recall: 1.000 - ETA: 0s - loss: 13.0463 - precision: 0.1817 - recall: 1.000 - ETA: 0s - loss: 13.0401 - precision: 0.1821 - recall: 1.000 - ETA: 0s - loss: 13.0469 - precision: 0.1812 - recall: 1.00 - ETA: 0s - loss: 13.0472 - precision: 0.1816 - recall: 1.000\n",
      "Epoch 19/100\n",
      "42511/42511 [==============================] - ETA: 0s - loss: 13.0232 - precision: 0.1831 - recall: 1.0000- ETA: 1s - loss: 12.9771 - precision: 0.1860 - recall: 1.000 - ETA: 1s - loss: 12.9175 - precision: 0.1897 - recall: 1.000 - ETA: 0s - loss: 12.9971 - precision: 0.1847 - recall: 1.000 - ETA: 0s - loss: 13.0155 - precision: 0.1836 - recall: 1.00 - ETA: 0s - loss: 13.0347 - precision: 0.1824 - recall: 1.000 - ETA: 0s - loss: 13.0223 - precision: 0.1830 - recall: 1.000 - ETA: 0s - loss: 13.0625 - precision: 0.1813 - recall: 1.000 - ETA: 0s - loss: 13.0506 - precision: 0.1814 - recall: 1.000 - ETA: 0s - loss: 13.0375 - precision: 0.1822 - recall: 1.000 - ETA: 0s - loss: 13.0470 - precision: 0.1816 - recall: 1.000 - ETA: 0s - loss: 13.0749 - precision: 0.1799 - recall: 1.000 - ETA: 0s - loss: 13.0694 - precision: 0.1802 - recall: 1.000 - ETA: 0s - loss: 13.0580 - precision: 0.1809 - recall: 1.000 - ETA: 0s - loss: 13.0528 - precision: 0.1813 - recall: 1.000 - 1s 19us/step - loss: 13.0450 - precision: 0.1817 - recall: 1.0000\n",
      "Epoch 20/100\n",
      "42511/42511 [==============================] - ETA: 0s - loss: 13.0465 - precision: 0.1818 - recall: 1.0000- ETA: 0s - loss: 13.2087 - precision: 0.1715 - recall: 1.000 - ETA: 0s - loss: 13.0797 - precision: 0.1800 - recall: 1.000 - ETA: 0s - loss: 13.0134 - precision: 0.1837 - recall: 1.000 - ETA: 0s - loss: 13.0217 - precision: 0.1832 - recall: 1.00 - ETA: 0s - loss: 13.0324 - precision: 0.1825 - recall: 1.000 - ETA: 0s - loss: 13.0487 - precision: 0.1815 - recall: 1.000 - ETA: 0s - loss: 13.0410 - precision: 0.1820 - recall: 1.000 - ETA: 0s - loss: 13.0280 - precision: 0.1828 - recall: 1.000 - ETA: 0s - loss: 13.0344 - precision: 0.1824 - recall: 1.000 - ETA: 0s - loss: 13.0468 - precision: 0.1816 - recall: 1.00 - ETA: 0s - loss: 13.0458 - precision: 0.1817 - recall: 1.000 - ETA: 0s - loss: 13.0421 - precision: 0.1819 - recall: 1.000 - 1s 17us/step - loss: 13.0450 - precision: 0.1817 - recall: 1.0000\n",
      "Epoch 21/100\n",
      "42511/42511 [==============================] - ETA: 1s - loss: 12.7539 - precision: 0.2000 - recall: 1.000 - ETA: 0s - loss: 12.9233 - precision: 0.1894 - recall: 1.000 - ETA: 0s - loss: 13.0213 - precision: 0.1832 - recall: 1.000 - ETA: 0s - loss: 13.0104 - precision: 0.1823 - recall: 1.000 - ETA: 0s - loss: 13.0391 - precision: 0.1821 - recall: 1.000 - ETA: 0s - loss: 13.0500 - precision: 0.1814 - recall: 1.000 - ETA: 0s - loss: 13.0286 - precision: 0.1828 - recall: 1.000 - ETA: 0s - loss: 13.0338 - precision: 0.1824 - recall: 1.000 - ETA: 0s - loss: 13.0220 - precision: 0.1832 - recall: 1.000 - ETA: 0s - loss: 13.0242 - precision: 0.1830 - recall: 1.000 - ETA: 0s - loss: 13.0265 - precision: 0.1829 - recall: 1.000 - ETA: 0s - loss: 13.0355 - precision: 0.1823 - recall: 1.000 - ETA: 0s - loss: 13.0550 - precision: 0.1811 - recall: 1.000 - ETA: 0s - loss: 13.0384 - precision: 0.1822 - recall: 1.000 - 1s 17us/step - loss: 13.0450 - precision: 0.1817 - recall: 1.0000\n",
      "Epoch 22/100\n",
      "42511/42511 [==============================] - 1s 17us/step - loss: 13.0450 - precision: 0.1817 - recall: 1.0000: 0s - loss: 12.9333 - precision: 0.1887 - recall: 1.000 - ETA: 0s - loss: 13.0440 - precision: 0.1818 - recall: 1.000 - ETA: 0s - loss: 13.0850 - precision: 0.1792 - recall: 1.000 - ETA: 0s - loss: 13.1313 - precision: 0.1763 - recall: 1.000 - ETA: 0s - loss: 13.0847 - precision: 0.1793 - recall: 1. - ETA: 0s - loss: 13.0546 - precision: 0.1811 - recall: 1\n",
      "Epoch 23/100\n",
      "42511/42511 [==============================] - ETA: 0s - loss: 13.2023 - precision: 0.1719 - recall: 1.000 - ETA: 0s - loss: 13.1071 - precision: 0.1778 - recall: 1.000 - ETA: 0s - loss: 13.0905 - precision: 0.1789 - recall: 1.000 - ETA: 0s - loss: 13.0501 - precision: 0.1814 - recall: 1.000 - ETA: 0s - loss: 13.0399 - precision: 0.1821 - recall: 1.000 - ETA: 0s - loss: 13.0695 - precision: 0.1802 - recall: 1.000 - ETA: 0s - loss: 13.0686 - precision: 0.1803 - recall: 1.000 - ETA: 0s - loss: 13.0655 - precision: 0.1811 - recall: 1.000 - ETA: 0s - loss: 13.0410 - precision: 0.1821 - recall: 1.000 - ETA: 0s - loss: 13.0373 - precision: 0.1822 - recall: 1.000 - ETA: 0s - loss: 13.0511 - precision: 0.1814 - recall: 1.000 - ETA: 0s - loss: 13.0462 - precision: 0.1817 - recall: 1.000 - ETA: 0s - loss: 13.0474 - precision: 0.1816 - recall: 1.000 - ETA: 0s - loss: 13.0472 - precision: 0.1816 - recall: 1.000 - 1s 18us/step - loss: 13.0450 - precision: 0.1818 - recall: 1.0000\n",
      "Epoch 24/100\n",
      "42511/42511 [==============================] - ETA: 1s - loss: 12.9133 - precision: 0.1900 - recall: 1.000 - ETA: 1s - loss: 13.0879 - precision: 0.1790 - recall: 1.000 - ETA: 0s - loss: 13.0320 - precision: 0.1826 - recall: 1.000 - ETA: 0s - loss: 13.0433 - precision: 0.1818 - recall: 1.000 - ETA: 0s - loss: 13.0492 - precision: 0.1815 - recall: 1.000 - ETA: 0s - loss: 13.0888 - precision: 0.1790 - recall: 1.000 - ETA: 0s - loss: 13.0389 - precision: 0.1834 - recall: 1.000 - ETA: 0s - loss: 13.0372 - precision: 0.1822 - recall: 1.000 - ETA: 0s - loss: 13.0477 - precision: 0.1815 - recall: 1.000 - ETA: 0s - loss: 13.0363 - precision: 0.1823 - recall: 1.000 - ETA: 0s - loss: 13.0194 - precision: 0.1833 - recall: 1.000 - ETA: 0s - loss: 13.0256 - precision: 0.1830 - recall: 1.000 - ETA: 0s - loss: 13.0326 - precision: 0.1825 - recall: 1.000 - ETA: 0s - loss: 13.0396 - precision: 0.1821 - recall: 1.000 - ETA: 0s - loss: 13.0597 - precision: 0.1808 - recall: 1.000 - ETA: 0s - loss: 13.0456 - precision: 0.1817 - recall: 1.000 - ETA: 0s - loss: 13.0423 - precision: 0.1824 - recall: 1.000 - ETA: 0s - loss: 13.0490 - precision: 0.1815 - recall: 1.000 - ETA: 0s - loss: 13.0481 - precision: 0.1815 - recall: 1.000 - 1s 22us/step - loss: 13.0450 - precision: 0.1817 - recall: 1.0000\n",
      "Epoch 25/100\n",
      "42511/42511 [==============================] - ETA: 1s - loss: 13.5510 - precision: 0.1500 - recall: 1.000 - ETA: 0s - loss: 13.0898 - precision: 0.1789 - recall: 1.000 - ETA: 0s - loss: 13.0178 - precision: 0.1834 - recall: 1.000 - ETA: 0s - loss: 13.0315 - precision: 0.1826 - recall: 1.000 - ETA: 0s - loss: 13.0530 - precision: 0.1812 - recall: 1.000 - ETA: 0s - loss: 13.0739 - precision: 0.1799 - recall: 1.000 - ETA: 0s - loss: 13.1057 - precision: 0.1786 - recall: 1.000 - ETA: 0s - loss: 13.0874 - precision: 0.1791 - recall: 1.000 - ETA: 0s - loss: 13.0728 - precision: 0.1800 - recall: 1.000 - ETA: 0s - loss: 13.0780 - precision: 0.1797 - recall: 1.000 - ETA: 0s - loss: 13.0517 - precision: 0.1813 - recall: 1.000 - ETA: 0s - loss: 13.0337 - precision: 0.1824 - recall: 1.000 - ETA: 0s - loss: 13.0330 - precision: 0.1825 - recall: 1.000 - ETA: 0s - loss: 13.0472 - precision: 0.1816 - recall: 1.000 - 1s 16us/step - loss: 13.0450 - precision: 0.1817 - recall: 1.0000\n",
      "Epoch 26/100\n"
     ]
    },
    {
     "name": "stdout",
     "output_type": "stream",
     "text": [
      "42511/42511 [==============================] - ETA: 0s - loss: 13.0265 - precision: 0.1829 - recall: 1.0000- ETA: 0s - loss: 13.1243 - precision: 0.1768 - recall: 1.000 - ETA: 0s - loss: 13.0755 - precision: 0.1798 - recall: 1.00 - ETA: 0s - loss: 13.1095 - precision: 0.1762 - recall: 1.000 - ETA: 0s - loss: 13.0915 - precision: 0.1788 - recall: 1.000 - ETA: 0s - loss: 13.0558 - precision: 0.1801 - recall: 1.000 - ETA: 0s - loss: 13.0526 - precision: 0.1824 - recall: 1.00 - ETA: 0s - loss: 13.0492 - precision: 0.1815 - recall: 1.000 - ETA: 0s - loss: 13.0351 - precision: 0.1824 - recall: 1.000 - ETA: 0s - loss: 13.0380 - precision: 0.1822 - recall: 1.00 - ETA: 0s - loss: 13.0343 - precision: 0.1824 - recall: 1.000 - ETA: 0s - loss: 13.0444 - precision: 0.1818 - recall: 1.000 - ETA: 0s - loss: 13.0327 - precision: 0.1825 - recall: 1.000 - ETA: 0s - loss: 13.0413 - precision: 0.1820 - recall: 1.000 - 1s 20us/step - loss: 13.0450 - precision: 0.1817 - recall: 1.0000\n",
      "Epoch 27/100\n",
      "42511/42511 [==============================] - ETA: 1s - loss: 13.2322 - precision: 0.1700 - recall: 1.000 - ETA: 0s - loss: 12.8687 - precision: 0.1928 - recall: 1.000 - ETA: 0s - loss: 13.0196 - precision: 0.1833 - recall: 1.000 - ETA: 0s - loss: 12.9612 - precision: 0.1870 - recall: 1.000 - ETA: 0s - loss: 12.9888 - precision: 0.1853 - recall: 1.000 - ETA: 0s - loss: 13.0103 - precision: 0.1838 - recall: 1.000 - ETA: 0s - loss: 12.9962 - precision: 0.1848 - recall: 1.000 - ETA: 0s - loss: 12.9827 - precision: 0.1856 - recall: 1.000 - ETA: 0s - loss: 13.0054 - precision: 0.1842 - recall: 1.000 - ETA: 0s - loss: 13.0084 - precision: 0.1840 - recall: 1.000 - ETA: 0s - loss: 13.0307 - precision: 0.1826 - recall: 1.000 - ETA: 0s - loss: 13.0404 - precision: 0.1820 - recall: 1.000 - ETA: 0s - loss: 13.0363 - precision: 0.1823 - recall: 1.000 - ETA: 0s - loss: 13.0523 - precision: 0.1813 - recall: 1.000 - 1s 17us/step - loss: 13.0450 - precision: 0.1817 - recall: 1.0000\n",
      "Epoch 28/100\n",
      "42511/42511 [==============================] - ETA: 0s - loss: 13.0105 - precision: 0.1839 - recall: 1.0000- ETA: 0s - loss: 12.8670 - precision: 0.1929 - recall: 1.000 - ETA: 0s - loss: 12.9853 - precision: 0.1855 - recall: 1.000 - ETA: 0s - loss: 12.9913 - precision: 0.1851 - recall: 1.00 - ETA: 0s - loss: 12.9863 - precision: 0.1854 - recall: 1.000 - ETA: 0s - loss: 13.0017 - precision: 0.1845 - recall: 1.000 - ETA: 0s - loss: 13.0202 - precision: 0.1833 - recall: 1.000 - ETA: 0s - loss: 13.0247 - precision: 0.1830 - recall: 1.000 - ETA: 0s - loss: 13.0220 - precision: 0.1832 - recall: 1.000 - ETA: 0s - loss: 13.0185 - precision: 0.1834 - recall: 1.000 - ETA: 0s - loss: 13.0270 - precision: 0.1829 - recall: 1.000 - ETA: 0s - loss: 13.0311 - precision: 0.1826 - recall: 1.000 - ETA: 0s - loss: 13.0298 - precision: 0.1828 - recall: 1.000 - ETA: 0s - loss: 13.0418 - precision: 0.1819 - recall: 1.000 - 1s 18us/step - loss: 13.0450 - precision: 0.1817 - recall: 1.0000\n",
      "Epoch 29/100\n",
      "42511/42511 [==============================] - ETA: 1s - loss: 12.1162 - precision: 0.2400 - recall: 1.000 - ETA: 0s - loss: 13.0868 - precision: 0.1791 - recall: 1.000 - ETA: 0s - loss: 13.1108 - precision: 0.1776 - recall: 1.000 - ETA: 0s - loss: 13.0277 - precision: 0.1822 - recall: 1.000 - ETA: 0s - loss: 13.0409 - precision: 0.1820 - recall: 1.000 - ETA: 0s - loss: 13.0941 - precision: 0.1787 - recall: 1.000 - ETA: 0s - loss: 13.0889 - precision: 0.1790 - recall: 1.000 - ETA: 0s - loss: 13.0762 - precision: 0.1798 - recall: 1.000 - ETA: 0s - loss: 13.0776 - precision: 0.1797 - recall: 1.000 - ETA: 0s - loss: 13.0943 - precision: 0.1786 - recall: 1.000 - ETA: 0s - loss: 13.0930 - precision: 0.1783 - recall: 1.000 - ETA: 0s - loss: 13.0649 - precision: 0.1805 - recall: 1.000 - ETA: 0s - loss: 13.0480 - precision: 0.1816 - recall: 1.000 - 1s 15us/step - loss: 13.0450 - precision: 0.1817 - recall: 1.0000\n",
      "Epoch 30/100\n",
      "42511/42511 [==============================] - ETA: 0s - loss: 13.0483 - precision: 0.1815 - recall: 1.0000- ETA: 0s - loss: 13.0518 - precision: 0.1813 - recall: 1.000 - ETA: 0s - loss: 13.0749 - precision: 0.1799 - recall: 1.000 - ETA: 0s - loss: 13.0803 - precision: 0.1801 - recall: 1.000 - ETA: 0s - loss: 13.0682 - precision: 0.1815 - recall: 1.000 - ETA: 0s - loss: 13.0348 - precision: 0.1824 - recall: 1.000 - ETA: 0s - loss: 13.0131 - precision: 0.1837 - recall: 1.000 - ETA: 0s - loss: 13.0067 - precision: 0.1841 - recall: 1.000 - ETA: 0s - loss: 13.0296 - precision: 0.1827 - recall: 1.000 - ETA: 0s - loss: 13.0408 - precision: 0.1820 - recall: 1.000 - ETA: 0s - loss: 13.0476 - precision: 0.1816 - recall: 1.000 - ETA: 0s - loss: 13.0317 - precision: 0.1826 - recall: 1.000 - ETA: 0s - loss: 13.0410 - precision: 0.1820 - recall: 1.00 - 1s 16us/step - loss: 13.0450 - precision: 0.1817 - recall: 1.0000\n",
      "Epoch 31/100\n",
      "42511/42511 [==============================] - 1s 17us/step - loss: 13.0450 - precision: 0.1817 - recall: 1.0000: 0s - loss: 13.0030 - precision: 0.1844 - recall: 1.000 - ETA: 0s - loss: 13.0095 - precision: 0.1840 - recall: 1.000 - ETA: 0s - loss: 12.9826 - precision: 0.1857 - recall: 1.000 - ETA: 0s - loss: 12.9734 - precision: 0.1862 - recall: 1.000 - ETA: 0s - loss: 13.0488 - precision: 0.1815 - recall: 1.000 - ETA: 0s - loss: 13.0476 - precision: 0.1816 - recall: 1.000 - ETA: 0s - loss: 13.0253 - precision: 0.1828 - recall: 1.000 - ETA: 0s - loss: 13.0371 - precision: 0.1822 - recall: 1.000 - ETA: 0s - loss: 13.0289 - precision: 0.1834 - recall: 1.000 - ETA: 0s - loss: 13.0384 - precision: 0.1822 - recall: 1.000 - ETA: 0s - loss: 13.0282 - precision: 0.1828 - recall: 1.000 - ETA: 0s - loss: 13.0265 - precision: 0.1829 - recall: 1.0\n",
      "Epoch 32/100\n",
      "42511/42511 [==============================] - 1s 19us/step - loss: 13.0450 - precision: 0.1817 - recall: 1.0000: 0s - loss: 12.8310 - precision: 0.1952 - recall: 1.00 - ETA: 0s - loss: 12.9643 - precision: 0.1868 - recall: 1 - ETA: 0s - loss: 13.0283 - precision: 0.1828 - recall: 1.000 - ETA: 0s - loss: 13.0269 - precision: 0.1829 - recall: 1.000 - ETA: 0s - loss: 13.0324 - precision: 0.1825 - recall: 1.000 - ETA: 0s - loss: 13.0397 - precision: 0.1821 - recall: 1.000 - ETA: 0s - loss: 13.0435 - precision: 0.1818 - recall: 1.00 - ETA: 0s - loss: 13.0365 - precision: 0.1823 - recall: 1.000\n",
      "Epoch 33/100\n",
      "42511/42511 [==============================] - ETA: 1s - loss: 11.9568 - precision: 0.4000 - recall: 1.000 - ETA: 0s - loss: 13.0964 - precision: 0.1785 - recall: 1.000 - ETA: 0s - loss: 13.1594 - precision: 0.1746 - recall: 1.000 - ETA: 0s - loss: 13.2175 - precision: 0.1712 - recall: 1.000 - ETA: 0s - loss: 13.1778 - precision: 0.1734 - recall: 1.000 - ETA: 0s - loss: 13.1547 - precision: 0.1749 - recall: 1.000 - ETA: 0s - loss: 13.1500 - precision: 0.1752 - recall: 1.000 - ETA: 0s - loss: 13.1168 - precision: 0.1772 - recall: 1.000 - ETA: 0s - loss: 13.1074 - precision: 0.1778 - recall: 1.000 - ETA: 0s - loss: 13.1019 - precision: 0.1782 - recall: 1.000 - ETA: 0s - loss: 13.1020 - precision: 0.1782 - recall: 1.000 - ETA: 0s - loss: 13.0935 - precision: 0.1787 - recall: 1.000 - ETA: 0s - loss: 13.0990 - precision: 0.1784 - recall: 1.000 - ETA: 0s - loss: 13.0801 - precision: 0.1795 - recall: 1.000 - ETA: 0s - loss: 13.0722 - precision: 0.1800 - recall: 1.000 - ETA: 0s - loss: 13.0698 - precision: 0.1802 - recall: 1.000 - ETA: 0s - loss: 13.0682 - precision: 0.1803 - recall: 1.000 - ETA: 0s - loss: 13.0672 - precision: 0.1803 - recall: 1.000 - ETA: 0s - loss: 13.0567 - precision: 0.1810 - recall: 1.000 - ETA: 0s - loss: 13.0471 - precision: 0.1816 - recall: 1.000 - 1s 23us/step - loss: 13.0450 - precision: 0.1817 - recall: 1.0000\n",
      "Epoch 34/100\n"
     ]
    },
    {
     "name": "stdout",
     "output_type": "stream",
     "text": [
      "42511/42511 [==============================] - ETA: 0s - loss: 13.0251 - precision: 0.1829 - recall: 1.000 - ETA: 0s - loss: 13.0728 - precision: 0.1800 - recall: 1.000 - ETA: 0s - loss: 13.0927 - precision: 0.1787 - recall: 1.000 - ETA: 0s - loss: 13.0247 - precision: 0.1830 - recall: 1.000 - ETA: 0s - loss: 13.0070 - precision: 0.1841 - recall: 1.000 - ETA: 0s - loss: 13.0138 - precision: 0.1837 - recall: 1.000 - ETA: 0s - loss: 13.0056 - precision: 0.1842 - recall: 1.000 - ETA: 0s - loss: 13.0040 - precision: 0.1843 - recall: 1.000 - ETA: 0s - loss: 13.0255 - precision: 0.1830 - recall: 1.000 - ETA: 0s - loss: 13.0369 - precision: 0.1822 - recall: 1.000 - ETA: 0s - loss: 13.0480 - precision: 0.1816 - recall: 1.000 - ETA: 0s - loss: 13.0385 - precision: 0.1822 - recall: 1.000 - ETA: 0s - loss: 13.0438 - precision: 0.1818 - recall: 1.000 - 1s 17us/step - loss: 13.0450 - precision: 0.1818 - recall: 1.0000\n",
      "Epoch 35/100\n",
      "42511/42511 [==============================] - ETA: 0s - loss: 12.9907 - precision: 0.1851 - recall: 1.0000- ETA: 0s - loss: 13.0352 - precision: 0.1824 - recall: 1.000 - ETA: 0s - loss: 12.9344 - precision: 0.1887 - recall: 1.00 - ETA: 0s - loss: 13.0355 - precision: 0.1823 - recall: 1.000 - ETA: 0s - loss: 13.0553 - precision: 0.1811 - recall: 1.000 - ETA: 0s - loss: 13.0712 - precision: 0.1801 - recall: 1.000 - ETA: 0s - loss: 13.0629 - precision: 0.1806 - recall: 1.000 - ETA: 0s - loss: 13.0613 - precision: 0.1807 - recall: 1.000 - ETA: 0s - loss: 13.0625 - precision: 0.1806 - recall: 1.000 - ETA: 0s - loss: 13.0485 - precision: 0.1815 - recall: 1.000 - ETA: 0s - loss: 13.0589 - precision: 0.1809 - recall: 1.000 - ETA: 0s - loss: 13.0481 - precision: 0.1815 - recall: 1.000 - 1s 15us/step - loss: 13.0450 - precision: 0.1817 - recall: 1.0000\n",
      "Epoch 36/100\n",
      "42511/42511 [==============================] - ETA: 1s - loss: 13.5510 - precision: 0.1500 - recall: 1.000 - ETA: 0s - loss: 12.9780 - precision: 0.1859 - recall: 1.000 - ETA: 0s - loss: 13.0600 - precision: 0.1808 - recall: 1.000 - ETA: 0s - loss: 13.0913 - precision: 0.1788 - recall: 1.000 - ETA: 0s - loss: 13.1015 - precision: 0.1782 - recall: 1.000 - ETA: 0s - loss: 13.0907 - precision: 0.1789 - recall: 1.000 - ETA: 0s - loss: 13.0599 - precision: 0.1808 - recall: 1.000 - ETA: 0s - loss: 13.0648 - precision: 0.1805 - recall: 1.000 - ETA: 0s - loss: 13.0616 - precision: 0.1807 - recall: 1.000 - ETA: 0s - loss: 13.0439 - precision: 0.1818 - recall: 1.000 - ETA: 0s - loss: 13.0544 - precision: 0.1812 - recall: 1.000 - ETA: 0s - loss: 13.0506 - precision: 0.1814 - recall: 1.000 - 1s 14us/step - loss: 13.0450 - precision: 0.1817 - recall: 1.0000\n",
      "Epoch 37/100\n",
      "42511/42511 [==============================] - ETA: 1s - loss: 14.0293 - precision: 0.1200 - recall: 1.000 - ETA: 0s - loss: 13.0500 - precision: 0.1814 - recall: 1.000 - ETA: 0s - loss: 13.0371 - precision: 0.1822 - recall: 1.000 - ETA: 0s - loss: 13.0093 - precision: 0.1840 - recall: 1.000 - ETA: 0s - loss: 13.0531 - precision: 0.1812 - recall: 1.000 - ETA: 0s - loss: 13.0356 - precision: 0.1823 - recall: 1.000 - ETA: 0s - loss: 13.0474 - precision: 0.1816 - recall: 1.000 - ETA: 0s - loss: 13.0206 - precision: 0.1833 - recall: 1.000 - ETA: 0s - loss: 13.0459 - precision: 0.1817 - recall: 1.000 - ETA: 0s - loss: 13.0738 - precision: 0.1799 - recall: 1.000 - ETA: 0s - loss: 13.0650 - precision: 0.1805 - recall: 1.000 - ETA: 0s - loss: 13.0397 - precision: 0.1821 - recall: 1.000 - ETA: 0s - loss: 13.0477 - precision: 0.1816 - recall: 1.000 - 1s 15us/step - loss: 13.0450 - precision: 0.1817 - recall: 1.0000\n",
      "Epoch 38/100\n",
      "42511/42511 [==============================] - ETA: 1s - loss: 12.5945 - precision: 0.2100 - recall: 1.000 - ETA: 0s - loss: 13.1211 - precision: 0.1770 - recall: 1.000 - ETA: 0s - loss: 13.0433 - precision: 0.1818 - recall: 1.000 - ETA: 0s - loss: 13.0663 - precision: 0.1804 - recall: 1.000 - ETA: 0s - loss: 13.0448 - precision: 0.1818 - recall: 1.000 - ETA: 0s - loss: 13.0738 - precision: 0.1799 - recall: 1.000 - ETA: 0s - loss: 13.0658 - precision: 0.1804 - recall: 1.000 - ETA: 0s - loss: 13.0704 - precision: 0.1801 - recall: 1.000 - ETA: 0s - loss: 13.0762 - precision: 0.1798 - recall: 1.000 - ETA: 0s - loss: 13.0697 - precision: 0.1802 - recall: 1.000 - ETA: 0s - loss: 13.0391 - precision: 0.1821 - recall: 1.000 - ETA: 0s - loss: 13.0451 - precision: 0.1817 - recall: 1.000 - ETA: 0s - loss: 13.0463 - precision: 0.1817 - recall: 1.000 - ETA: 0s - loss: 13.0591 - precision: 0.1809 - recall: 1.000 - ETA: 0s - loss: 13.0529 - precision: 0.1812 - recall: 1.000 - 1s 18us/step - loss: 13.0450 - precision: 0.1817 - recall: 1.0000\n",
      "Epoch 39/100\n",
      "42511/42511 [==============================] - ETA: 1s - loss: 13.0728 - precision: 0.1800 - recall: 1.000 - ETA: 0s - loss: 13.0860 - precision: 0.1792 - recall: 1.000 - ETA: 0s - loss: 13.0660 - precision: 0.1804 - recall: 1.000 - ETA: 0s - loss: 13.0750 - precision: 0.1799 - recall: 1.000 - ETA: 0s - loss: 13.0778 - precision: 0.1797 - recall: 1.000 - ETA: 0s - loss: 13.0477 - precision: 0.1816 - recall: 1.000 - ETA: 0s - loss: 13.0444 - precision: 0.1818 - recall: 1.000 - ETA: 0s - loss: 13.0235 - precision: 0.1831 - recall: 1.000 - ETA: 0s - loss: 13.0342 - precision: 0.1824 - recall: 1.000 - ETA: 0s - loss: 13.0600 - precision: 0.1808 - recall: 1.000 - ETA: 0s - loss: 13.0615 - precision: 0.1807 - recall: 1.000 - ETA: 0s - loss: 13.0617 - precision: 0.1807 - recall: 1.000 - ETA: 0s - loss: 13.0714 - precision: 0.1801 - recall: 1.000 - ETA: 0s - loss: 13.0517 - precision: 0.1813 - recall: 1.000 - 1s 17us/step - loss: 13.0450 - precision: 0.1817 - recall: 1.0000\n",
      "Epoch 40/100\n",
      "42511/42511 [==============================] - ETA: 1s - loss: 13.2322 - precision: 0.1700 - recall: 1.000 - ETA: 0s - loss: 13.0491 - precision: 0.1815 - recall: 1.000 - ETA: 0s - loss: 13.0696 - precision: 0.1802 - recall: 1.000 - ETA: 0s - loss: 13.1131 - precision: 0.1775 - recall: 1.000 - ETA: 0s - loss: 13.0870 - precision: 0.1791 - recall: 1.000 - ETA: 0s - loss: 13.0265 - precision: 0.1829 - recall: 1.000 - ETA: 0s - loss: 13.0411 - precision: 0.1820 - recall: 1.000 - ETA: 0s - loss: 13.0123 - precision: 0.1838 - recall: 1.000 - ETA: 0s - loss: 13.0315 - precision: 0.1826 - recall: 1.000 - ETA: 0s - loss: 13.0308 - precision: 0.1826 - recall: 1.000 - ETA: 0s - loss: 13.0046 - precision: 0.1843 - recall: 1.000 - ETA: 0s - loss: 13.0188 - precision: 0.1835 - recall: 1.000 - ETA: 0s - loss: 13.0363 - precision: 0.1823 - recall: 1.000 - ETA: 0s - loss: 13.0416 - precision: 0.1820 - recall: 1.000 - 1s 16us/step - loss: 13.0450 - precision: 0.1817 - recall: 1.0000\n",
      "Epoch 41/100\n",
      "42511/42511 [==============================] - ETA: 1s - loss: 13.5510 - precision: 0.1500 - recall: 1.000 - ETA: 0s - loss: 13.1167 - precision: 0.1772 - recall: 1.000 - ETA: 0s - loss: 13.0908 - precision: 0.1789 - recall: 1.000 - ETA: 0s - loss: 13.0094 - precision: 0.1840 - recall: 1.000 - ETA: 0s - loss: 13.0352 - precision: 0.1824 - recall: 1.000 - ETA: 0s - loss: 13.0550 - precision: 0.1811 - recall: 1.000 - ETA: 0s - loss: 13.0587 - precision: 0.1818 - recall: 1.000 - ETA: 0s - loss: 13.0669 - precision: 0.1804 - recall: 1.000 - ETA: 0s - loss: 13.0519 - precision: 0.1813 - recall: 1.000 - ETA: 0s - loss: 13.0602 - precision: 0.1810 - recall: 1.000 - ETA: 0s - loss: 13.0555 - precision: 0.1811 - recall: 1.000 - ETA: 0s - loss: 13.0545 - precision: 0.1811 - recall: 1.000 - ETA: 0s - loss: 13.0344 - precision: 0.1824 - recall: 1.000 - ETA: 0s - loss: 13.0280 - precision: 0.1828 - recall: 1.000 - 1s 17us/step - loss: 13.0450 - precision: 0.1817 - recall: 1.0000\n",
      "Epoch 42/100\n"
     ]
    },
    {
     "name": "stdout",
     "output_type": "stream",
     "text": [
      "42511/42511 [==============================] - 1s 15us/step - loss: 13.0450 - precision: 0.1817 - recall: 1.0000: 0s - loss: 12.9706 - precision: 0.1864 - recall: 1.000 - ETA: 0s - loss: 12.9832 - precision: 0.1856 - recall: 1.000 - ETA: 0s - loss: 12.9812 - precision: 0.1857 - recall: 1.000 - ETA: 0s - loss: 12.9762 - precision: 0.1861 - recall: 1.000 - ETA: 0s - loss: 12.9776 - precision: 0.1860 - recall: 1.000 - ETA: 0s - loss: 12.9566 - precision: 0.1873 - recall: 1.000 - ETA: 0s - loss: 12.9759 - precision: 0.1861 - recall: 1.000 - ETA: 0s - loss: 12.9930 - precision: 0.1850 - recall: 1.00 - ETA: 0s - loss: 13.0133 - precision: 0.1837 - recall: 1.000 - ETA: 0s - loss: 13.0156 - precision: 0.1836 - recall: 1.000 - ETA: 0s - loss: 13.0335 - precision: 0.1825 - recall: 1.000\n",
      "Epoch 43/100\n",
      "42511/42511 [==============================] - ETA: 1s - loss: 13.7105 - precision: 0.1400 - recall: 1.000 - ETA: 0s - loss: 13.0770 - precision: 0.1797 - recall: 1.000 - ETA: 0s - loss: 13.1370 - precision: 0.1760 - recall: 1.000 - ETA: 0s - loss: 13.0636 - precision: 0.1806 - recall: 1.000 - ETA: 0s - loss: 13.0879 - precision: 0.1791 - recall: 1.000 - ETA: 0s - loss: 13.0794 - precision: 0.1796 - recall: 1.000 - ETA: 0s - loss: 13.0760 - precision: 0.1798 - recall: 1.000 - ETA: 0s - loss: 13.0617 - precision: 0.1807 - recall: 1.000 - ETA: 0s - loss: 13.0495 - precision: 0.1815 - recall: 1.000 - ETA: 0s - loss: 13.0347 - precision: 0.1824 - recall: 1.000 - ETA: 0s - loss: 13.0436 - precision: 0.1818 - recall: 1.000 - ETA: 0s - loss: 13.0567 - precision: 0.1810 - recall: 1.000 - ETA: 0s - loss: 13.0578 - precision: 0.1809 - recall: 1.000 - 1s 15us/step - loss: 13.0450 - precision: 0.1817 - recall: 1.0000\n",
      "Epoch 44/100\n",
      "42511/42511 [==============================] - ETA: 0s - loss: 13.0368 - precision: 0.1823 - recall: 1.0000- ETA: 0s - loss: 13.0118 - precision: 0.1829 - recall: 1.000 - ETA: 0s - loss: 12.9954 - precision: 0.1849 - recall: 1.000 - ETA: 0s - loss: 13.0457 - precision: 0.1817 - recall: 1.000 - ETA: 0s - loss: 13.0716 - precision: 0.1801 - recall: 1.000 - ETA: 0s - loss: 13.0517 - precision: 0.1813 - recall: 1.000 - ETA: 0s - loss: 13.0289 - precision: 0.1828 - recall: 1.000 - ETA: 0s - loss: 13.0601 - precision: 0.1808 - recall: 1.000 - ETA: 0s - loss: 13.0821 - precision: 0.1794 - recall: 1.000 - ETA: 0s - loss: 13.0748 - precision: 0.1799 - recall: 1.000 - ETA: 0s - loss: 13.0474 - precision: 0.1816 - recall: 1.000 - ETA: 0s - loss: 13.0398 - precision: 0.1821 - recall: 1.00 - 1s 15us/step - loss: 13.0450 - precision: 0.1817 - recall: 1.0000\n",
      "Epoch 45/100\n",
      "42511/42511 [==============================] - ETA: 1s - loss: 13.3916 - precision: 0.1600 - recall: 1.000 - ETA: 0s - loss: 13.0373 - precision: 0.1822 - recall: 1.000 - ETA: 0s - loss: 13.0340 - precision: 0.1824 - recall: 1.000 - ETA: 0s - loss: 13.0978 - precision: 0.1784 - recall: 1.000 - ETA: 0s - loss: 13.0977 - precision: 0.1784 - recall: 1.000 - ETA: 0s - loss: 13.0548 - precision: 0.1823 - recall: 1.000 - ETA: 0s - loss: 13.0672 - precision: 0.1803 - recall: 1.000 - ETA: 0s - loss: 13.0576 - precision: 0.1810 - recall: 1.000 - ETA: 0s - loss: 13.0685 - precision: 0.1803 - recall: 1.000 - ETA: 0s - loss: 13.0611 - precision: 0.1807 - recall: 1.000 - ETA: 0s - loss: 13.0591 - precision: 0.1808 - recall: 1.000 - ETA: 0s - loss: 13.0699 - precision: 0.1802 - recall: 1.000 - ETA: 0s - loss: 13.0578 - precision: 0.1809 - recall: 1.000 - ETA: 0s - loss: 13.0458 - precision: 0.1817 - recall: 1.000 - 1s 17us/step - loss: 13.0450 - precision: 0.1817 - recall: 1.0000\n",
      "Epoch 46/100\n",
      "42511/42511 [==============================] - ETA: 1s - loss: 13.3916 - precision: 0.1600 - recall: 1.000 - ETA: 0s - loss: 12.9731 - precision: 0.1862 - recall: 1.000 - ETA: 0s - loss: 12.9918 - precision: 0.1851 - recall: 1.000 - ETA: 0s - loss: 13.0270 - precision: 0.1829 - recall: 1.000 - ETA: 0s - loss: 13.0196 - precision: 0.1833 - recall: 1.000 - ETA: 0s - loss: 13.0586 - precision: 0.1809 - recall: 1.000 - ETA: 0s - loss: 13.0938 - precision: 0.1787 - recall: 1.000 - ETA: 0s - loss: 13.0778 - precision: 0.1797 - recall: 1.000 - ETA: 0s - loss: 13.0658 - precision: 0.1804 - recall: 1.000 - ETA: 0s - loss: 13.0552 - precision: 0.1811 - recall: 1.000 - ETA: 0s - loss: 13.0626 - precision: 0.1806 - recall: 1.000 - ETA: 0s - loss: 13.0462 - precision: 0.1817 - recall: 1.000 - ETA: 0s - loss: 13.0456 - precision: 0.1817 - recall: 1.000 - ETA: 0s - loss: 13.0455 - precision: 0.1817 - recall: 1.000 - 1s 16us/step - loss: 13.0450 - precision: 0.1817 - recall: 1.0000\n",
      "Epoch 47/100\n",
      "42511/42511 [==============================] - ETA: 1s - loss: 14.0293 - precision: 0.1200 - recall: 1.000 - ETA: 0s - loss: 12.9699 - precision: 0.1865 - recall: 1.000 - ETA: 0s - loss: 13.0120 - precision: 0.1838 - recall: 1.000 - ETA: 0s - loss: 13.0274 - precision: 0.1828 - recall: 1.000 - ETA: 0s - loss: 13.0361 - precision: 0.1820 - recall: 1.000 - ETA: 0s - loss: 13.0443 - precision: 0.1818 - recall: 1.000 - ETA: 0s - loss: 13.0804 - precision: 0.1795 - recall: 1.000 - ETA: 0s - loss: 13.0749 - precision: 0.1799 - recall: 1.000 - ETA: 0s - loss: 13.0567 - precision: 0.1810 - recall: 1.000 - ETA: 0s - loss: 13.0442 - precision: 0.1818 - recall: 1.000 - ETA: 0s - loss: 13.0501 - precision: 0.1814 - recall: 1.000 - ETA: 0s - loss: 13.0550 - precision: 0.1811 - recall: 1.000 - ETA: 0s - loss: 13.0648 - precision: 0.1805 - recall: 1.000 - ETA: 0s - loss: 13.0509 - precision: 0.1814 - recall: 1.000 - 1s 17us/step - loss: 13.0450 - precision: 0.1817 - recall: 1.0000\n",
      "Epoch 48/100\n",
      "42511/42511 [==============================] - ETA: 1s - loss: 13.2322 - precision: 0.1700 - recall: 1.000 - ETA: 0s - loss: 13.1742 - precision: 0.1736 - recall: 1.000 - ETA: 0s - loss: 13.1450 - precision: 0.1755 - recall: 1.000 - ETA: 0s - loss: 13.0711 - precision: 0.1801 - recall: 1.000 - ETA: 0s - loss: 13.0485 - precision: 0.1815 - recall: 1.000 - ETA: 0s - loss: 13.0296 - precision: 0.1827 - recall: 1.000 - ETA: 0s - loss: 13.0314 - precision: 0.1826 - recall: 1.000 - ETA: 0s - loss: 13.0388 - precision: 0.1821 - recall: 1.000 - ETA: 0s - loss: 13.0295 - precision: 0.1827 - recall: 1.000 - ETA: 0s - loss: 13.0200 - precision: 0.1833 - recall: 1.000 - ETA: 0s - loss: 13.0176 - precision: 0.1835 - recall: 1.000 - ETA: 0s - loss: 13.0215 - precision: 0.1832 - recall: 1.000 - ETA: 0s - loss: 13.0380 - precision: 0.1822 - recall: 1.000 - ETA: 0s - loss: 13.0391 - precision: 0.1821 - recall: 1.000 - 1s 16us/step - loss: 13.0450 - precision: 0.1817 - recall: 1.0000\n",
      "Epoch 49/100\n",
      "42511/42511 [==============================] - ETA: 0s - loss: 13.0434 - precision: 0.1818 - recall: 1.0000- ETA: 0s - loss: 13.1066 - precision: 0.1779 - recall: 1.000 - ETA: 0s - loss: 13.0528 - precision: 0.1812 - recall: 1.000 - ETA: 0s - loss: 13.0236 - precision: 0.1831 - recall: 1.000 - ETA: 0s - loss: 13.0175 - precision: 0.1835 - recall: 1.000 - ETA: 0s - loss: 13.0136 - precision: 0.1837 - recall: 1.000 - ETA: 0s - loss: 13.0268 - precision: 0.1829 - recall: 1.000 - ETA: 0s - loss: 13.0196 - precision: 0.1833 - recall: 1.000 - ETA: 0s - loss: 13.0131 - precision: 0.1837 - recall: 1.000 - ETA: 0s - loss: 13.0279 - precision: 0.1828 - recall: 1.000 - ETA: 0s - loss: 13.0414 - precision: 0.1820 - recall: 1.000 - ETA: 0s - loss: 13.0433 - precision: 0.1818 - recall: 1.00 - ETA: 0s - loss: 13.0387 - precision: 0.1821 - recall: 1.000 - ETA: 0s - loss: 13.0453 - precision: 0.1817 - recall: 1.000 - 1s 17us/step - loss: 13.0450 - precision: 0.1818 - recall: 1.0000\n",
      "Epoch 50/100\n"
     ]
    },
    {
     "name": "stdout",
     "output_type": "stream",
     "text": [
      "42511/42511 [==============================] - 1s 23us/step - loss: 13.0450 - precision: 0.1817 - recall: 1.0000: 0s - loss: 13.0935 - precision: 0.1787 - recall: 1.00 - ETA: 0s - loss: 13.0563 - precision: 0.1810 - recall: 1.000 - ETA: 0s - loss: 12.9948 - precision: 0.1849 - recall: 1.000 - ETA: 0s - loss: 12.9820 - precision: 0.1857 - recall: 1.000 - ETA: 0s - loss: 12.9653 - precision: 0.1867 - recall: 1.000 - ETA: 0s - loss: 13.0070 - precision: 0.1841 - recall: 1.000 - ETA: 0s - loss: 12.9948 - precision: 0.1849 - recall: 1.000 - ETA: 0s - loss: 13.0014 - precision: 0.1845 - recall: 1.000 - ETA: 0s - loss: 13.0153 - precision: 0.1836 - recall: 1.00 - ETA: 0s - loss: 13.0513 - precision: 0.1813 - recall: 1.000 - ETA: 0s - loss: 13.0590 - precision: 0.1809 - recall: 1.000 - ETA: 0s - loss: 13.0451 - precision: 0.1817 - recall: 1.000 - ETA: 0s - loss: 13.0556 - precision: 0.1811 - recall: 1.000 - ETA: 0s - loss: 13.0534 - precision: 0.1812 - recall: 1.000 - ETA: 0s - loss: 13.0610 - precision: 0.1807 - recall: 1.000 - ETA: 0s - loss: 13.0548 - precision: 0.1811 - recall: 1.000 - ETA: 0s - loss: 13.0450 - precision: 0.1817 - recall: 1.000\n",
      "Epoch 51/100\n",
      "42511/42511 [==============================] - ETA: 1s - loss: 14.0293 - precision: 0.1200 - recall: 1.000 - ETA: 0s - loss: 12.9896 - precision: 0.1852 - recall: 1.000 - ETA: 0s - loss: 13.0694 - precision: 0.1802 - recall: 1.000 - ETA: 0s - loss: 13.0794 - precision: 0.1796 - recall: 1.000 - ETA: 0s - loss: 13.0185 - precision: 0.1834 - recall: 1.000 - ETA: 0s - loss: 12.9897 - precision: 0.1852 - recall: 1.000 - ETA: 0s - loss: 12.9861 - precision: 0.1854 - recall: 1.000 - ETA: 0s - loss: 12.9703 - precision: 0.1864 - recall: 1.000 - ETA: 0s - loss: 13.0049 - precision: 0.1842 - recall: 1.000 - ETA: 0s - loss: 13.0018 - precision: 0.1844 - recall: 1.000 - ETA: 0s - loss: 13.0296 - precision: 0.1827 - recall: 1.000 - ETA: 0s - loss: 13.0402 - precision: 0.1820 - recall: 1.000 - ETA: 0s - loss: 13.0587 - precision: 0.1809 - recall: 1.000 - ETA: 0s - loss: 13.0565 - precision: 0.1810 - recall: 1.000 - ETA: 0s - loss: 13.0462 - precision: 0.1817 - recall: 1.000 - 1s 18us/step - loss: 13.0450 - precision: 0.1817 - recall: 1.0000\n",
      "Epoch 52/100\n",
      "42511/42511 [==============================] - ETA: 1s - loss: 13.8699 - precision: 0.1300 - recall: 1.000 - ETA: 0s - loss: 12.9019 - precision: 0.1907 - recall: 1.000 - ETA: 0s - loss: 13.0052 - precision: 0.1842 - recall: 1.000 - ETA: 0s - loss: 13.0248 - precision: 0.1830 - recall: 1.000 - ETA: 0s - loss: 13.0538 - precision: 0.1812 - recall: 1.000 - ETA: 0s - loss: 13.0688 - precision: 0.1802 - recall: 1.000 - ETA: 0s - loss: 13.0264 - precision: 0.1829 - recall: 1.000 - ETA: 0s - loss: 13.0170 - precision: 0.1835 - recall: 1.000 - ETA: 0s - loss: 13.0050 - precision: 0.1843 - recall: 1.000 - ETA: 0s - loss: 13.0045 - precision: 0.1843 - recall: 1.000 - ETA: 0s - loss: 13.0171 - precision: 0.1835 - recall: 1.000 - ETA: 0s - loss: 13.0278 - precision: 0.1828 - recall: 1.000 - ETA: 0s - loss: 13.0359 - precision: 0.1823 - recall: 1.000 - ETA: 0s - loss: 13.0450 - precision: 0.1817 - recall: 1.000 - 1s 16us/step - loss: 13.0450 - precision: 0.1817 - recall: 1.0000\n",
      "Epoch 53/100\n",
      "42511/42511 [==============================] - ETA: 1s - loss: 12.9133 - precision: 0.1900 - recall: 1.000 - ETA: 0s - loss: 13.2986 - precision: 0.1658 - recall: 1.000 - ETA: 0s - loss: 13.1623 - precision: 0.1744 - recall: 1.000 - ETA: 0s - loss: 13.0815 - precision: 0.1795 - recall: 1.000 - ETA: 0s - loss: 13.0595 - precision: 0.1808 - recall: 1.000 - ETA: 0s - loss: 13.0106 - precision: 0.1839 - recall: 1.000 - ETA: 0s - loss: 13.0283 - precision: 0.1828 - recall: 1.000 - ETA: 0s - loss: 13.0158 - precision: 0.1836 - recall: 1.000 - ETA: 0s - loss: 13.0186 - precision: 0.1834 - recall: 1.000 - ETA: 0s - loss: 13.0383 - precision: 0.1822 - recall: 1.000 - ETA: 0s - loss: 13.0344 - precision: 0.1824 - recall: 1.000 - ETA: 0s - loss: 13.0472 - precision: 0.1816 - recall: 1.000 - ETA: 0s - loss: 13.0457 - precision: 0.1816 - recall: 1.000 - ETA: 0s - loss: 13.0397 - precision: 0.1821 - recall: 1.000 - 1s 16us/step - loss: 13.0450 - precision: 0.1817 - recall: 1.0000\n",
      "Epoch 54/100\n",
      "42511/42511 [==============================] - ETA: 1s - loss: 13.0728 - precision: 0.1800 - recall: 1.000 - ETA: 0s - loss: 12.9632 - precision: 0.1869 - recall: 1.000 - ETA: 0s - loss: 12.9109 - precision: 0.1902 - recall: 1.000 - ETA: 0s - loss: 12.9817 - precision: 0.1857 - recall: 1.000 - ETA: 0s - loss: 12.9937 - precision: 0.1850 - recall: 1.000 - ETA: 0s - loss: 13.0047 - precision: 0.1843 - recall: 1.000 - ETA: 0s - loss: 13.0118 - precision: 0.1838 - recall: 1.000 - ETA: 0s - loss: 13.0238 - precision: 0.1831 - recall: 1.000 - ETA: 0s - loss: 13.0324 - precision: 0.1825 - recall: 1.000 - ETA: 0s - loss: 13.0341 - precision: 0.1824 - recall: 1.000 - ETA: 0s - loss: 13.0489 - precision: 0.1815 - recall: 1.000 - ETA: 0s - loss: 13.0526 - precision: 0.1813 - recall: 1.000 - ETA: 0s - loss: 13.0522 - precision: 0.1813 - recall: 1.000 - 1s 16us/step - loss: 13.0450 - precision: 0.1817 - recall: 1.0000\n",
      "Epoch 55/100\n",
      "42511/42511 [==============================] - ETA: 1s - loss: 12.9133 - precision: 0.1900 - recall: 1.000 - ETA: 0s - loss: 13.1954 - precision: 0.1723 - recall: 1.000 - ETA: 0s - loss: 13.1493 - precision: 0.1752 - recall: 1.000 - ETA: 0s - loss: 13.0999 - precision: 0.1783 - recall: 1.000 - ETA: 0s - loss: 13.1085 - precision: 0.1778 - recall: 1.000 - ETA: 0s - loss: 13.0830 - precision: 0.1794 - recall: 1.000 - ETA: 0s - loss: 13.0838 - precision: 0.1793 - recall: 1.000 - ETA: 0s - loss: 13.0387 - precision: 0.1821 - recall: 1.000 - ETA: 0s - loss: 13.0399 - precision: 0.1821 - recall: 1.000 - ETA: 0s - loss: 13.0408 - precision: 0.1820 - recall: 1.000 - ETA: 0s - loss: 13.0338 - precision: 0.1824 - recall: 1.000 - ETA: 0s - loss: 13.0291 - precision: 0.1827 - recall: 1.000 - ETA: 0s - loss: 13.0426 - precision: 0.1819 - recall: 1.000 - 1s 16us/step - loss: 13.0450 - precision: 0.1817 - recall: 1.0000\n",
      "Epoch 56/100\n",
      "42511/42511 [==============================] - ETA: 1s - loss: 13.5510 - precision: 0.1500 - recall: 1.000 - ETA: 0s - loss: 12.9532 - precision: 0.1875 - recall: 1.000 - ETA: 0s - loss: 13.0436 - precision: 0.1818 - recall: 1.000 - ETA: 0s - loss: 12.9640 - precision: 0.1868 - recall: 1.000 - ETA: 0s - loss: 13.0256 - precision: 0.1827 - recall: 1.000 - ETA: 0s - loss: 13.0090 - precision: 0.1840 - recall: 1.000 - ETA: 0s - loss: 13.0327 - precision: 0.1825 - recall: 1.000 - ETA: 0s - loss: 13.0381 - precision: 0.1822 - recall: 1.000 - ETA: 0s - loss: 13.0460 - precision: 0.1817 - recall: 1.000 - ETA: 0s - loss: 13.0395 - precision: 0.1821 - recall: 1.000 - ETA: 0s - loss: 13.0252 - precision: 0.1830 - recall: 1.000 - ETA: 0s - loss: 13.0344 - precision: 0.1824 - recall: 1.000 - ETA: 0s - loss: 13.0375 - precision: 0.1822 - recall: 1.000 - ETA: 0s - loss: 13.0473 - precision: 0.1816 - recall: 1.000 - 1s 16us/step - loss: 13.0450 - precision: 0.1817 - recall: 1.0000\n",
      "Epoch 57/100\n",
      "42511/42511 [==============================] - ETA: 0s - loss: 12.9682 - precision: 0.1866 - recall: 1.0000- ETA: 0s - loss: 12.9696 - precision: 0.1865 - recall: 1.000 - ETA: 0s - loss: 12.9368 - precision: 0.1885 - recall: 1.000 - ETA: 0s - loss: 12.9271 - precision: 0.1891 - recall: 1.000 - ETA: 0s - loss: 12.9813 - precision: 0.1857 - recall: 1.000 - ETA: 0s - loss: 12.9792 - precision: 0.1859 - recall: 1.00 - ETA: 0s - loss: 12.9946 - precision: 0.1849 - recall: 1.000 - ETA: 0s - loss: 13.0249 - precision: 0.1830 - recall: 1.000 - ETA: 0s - loss: 13.0333 - precision: 0.1825 - recall: 1.000 - ETA: 0s - loss: 13.0417 - precision: 0.1819 - recall: 1.000 - ETA: 0s - loss: 13.0434 - precision: 0.1818 - recall: 1.000 - ETA: 0s - loss: 13.0446 - precision: 0.1818 - recall: 1.000 - 1s 15us/step - loss: 13.0450 - precision: 0.1817 - recall: 1.0000\n",
      "Epoch 58/100\n"
     ]
    },
    {
     "name": "stdout",
     "output_type": "stream",
     "text": [
      "42511/42511 [==============================] - 1s 17us/step - loss: 13.0450 - precision: 0.1817 - recall: 1.0000: 0s - loss: 13.0728 - precision: 0.1800 - recall: 1.000 - ETA: 0s - loss: 13.0014 - precision: 0.1847 - recall: 1.000 - ETA: 0s - loss: 13.0191 - precision: 0.1834 - recall: 1.00 - ETA: 0s - loss: 13.0745 - precision: 0.1799 - recall: 1.000 - ETA: 0s - loss: 13.0489 - precision: 0.1815 - recall: 1.000 - ETA: 0s - loss: 13.0766 - precision: 0.1798 - recall: 1.000 - ETA: 0s - loss: 13.0716 - precision: 0.1801 - recall: 1.000 - ETA: 0s - loss: 13.0791 - precision: 0.1796 - recall: 1.000 - ETA: 0s - loss: 13.0654 - precision: 0.1805 - recall: 1.000 - ETA: 0s - loss: 13.0605 - precision: 0.1808 - recall: 1.000 - ETA: 0s - loss: 13.0451 - precision: 0.1817 - recall: 1.000 - ETA: 0s - loss: 13.0573 - precision: 0.1810 - recall: 1.000\n",
      "Epoch 59/100\n",
      "42511/42511 [==============================] - ETA: 1s - loss: 13.3916 - precision: 0.1600 - recall: 1.000 - ETA: 0s - loss: 12.8177 - precision: 0.1960 - recall: 1.000 - ETA: 0s - loss: 12.8670 - precision: 0.1929 - recall: 1.000 - ETA: 0s - loss: 12.8845 - precision: 0.1918 - recall: 1.000 - ETA: 0s - loss: 12.9148 - precision: 0.1899 - recall: 1.000 - ETA: 0s - loss: 12.9389 - precision: 0.1884 - recall: 1.000 - ETA: 0s - loss: 12.9681 - precision: 0.1866 - recall: 1.000 - ETA: 0s - loss: 12.9695 - precision: 0.1865 - recall: 1.000 - ETA: 0s - loss: 12.9803 - precision: 0.1858 - recall: 1.000 - ETA: 0s - loss: 13.0041 - precision: 0.1843 - recall: 1.000 - ETA: 0s - loss: 13.0134 - precision: 0.1837 - recall: 1.000 - ETA: 0s - loss: 13.0207 - precision: 0.1833 - recall: 1.000 - ETA: 0s - loss: 13.0438 - precision: 0.1818 - recall: 1.000 - ETA: 0s - loss: 13.0450 - precision: 0.1817 - recall: 1.000 - ETA: 0s - loss: 13.0541 - precision: 0.1812 - recall: 1.000 - ETA: 0s - loss: 13.0413 - precision: 0.1820 - recall: 1.000 - 1s 19us/step - loss: 13.0450 - precision: 0.1817 - recall: 1.0000\n",
      "Epoch 60/100\n",
      "42511/42511 [==============================] - 1s 17us/step - loss: 13.0450 - precision: 0.1817 - recall: 1.0000: 0s - loss: 13.1293 - precision: 0.1765 - recall: 1.000 - ETA: 0s - loss: 13.1158 - precision: 0.1773 - recall: 1.00 - ETA: 0s - loss: 13.0741 - precision: 0.1799 - recall: 1.000 - ETA: 0s - loss: 13.0523 - precision: 0.1813 - recall: 1.000 - ETA: 0s - loss: 13.0709 - precision: 0.1801 - recall: 1.000 - ETA: 0s - loss: 13.0901 - precision: 0.1789 - recall: 1.000 - ETA: 0s - loss: 13.0911 - precision: 0.1788 - recall: 1.000 - ETA: 0s - loss: 13.0812 - precision: 0.1795 - recall: 1.000 - ETA: 0s - loss: 13.0573 - precision: 0.1810 - recall: 1.000 - ETA: 0s - loss: 13.0752 - precision: 0.1798 - recall: 1.00 - ETA: 0s - loss: 13.0522 - precision: 0.1813 - recall: 1.000 - ETA: 0s - loss: 13.0466 - precision: 0.1816 - recall: 1.000\n",
      "Epoch 61/100\n",
      "42511/42511 [==============================] - ETA: 1s - loss: 12.7539 - precision: 0.2000 - recall: 1.000 - ETA: 0s - loss: 13.0528 - precision: 0.1812 - recall: 1.000 - ETA: 0s - loss: 13.0752 - precision: 0.1798 - recall: 1.000 - ETA: 0s - loss: 13.0445 - precision: 0.1818 - recall: 1.000 - ETA: 0s - loss: 13.0229 - precision: 0.1831 - recall: 1.000 - ETA: 0s - loss: 13.0302 - precision: 0.1827 - recall: 1.000 - ETA: 0s - loss: 13.0345 - precision: 0.1824 - recall: 1.000 - ETA: 0s - loss: 13.0348 - precision: 0.1824 - recall: 1.000 - ETA: 0s - loss: 13.0289 - precision: 0.1828 - recall: 1.000 - ETA: 0s - loss: 13.0431 - precision: 0.1819 - recall: 1.000 - ETA: 0s - loss: 13.0302 - precision: 0.1827 - recall: 1.000 - ETA: 0s - loss: 13.0331 - precision: 0.1825 - recall: 1.000 - ETA: 0s - loss: 13.0402 - precision: 0.1820 - recall: 1.000 - 1s 15us/step - loss: 13.0450 - precision: 0.1817 - recall: 1.0000\n",
      "Epoch 62/100\n",
      "42511/42511 [==============================] - ETA: 1s - loss: 14.1887 - precision: 0.1100 - recall: 1.000 - ETA: 0s - loss: 13.1912 - precision: 0.1726 - recall: 1.000 - ETA: 0s - loss: 13.1229 - precision: 0.1769 - recall: 1.000 - ETA: 0s - loss: 13.0758 - precision: 0.1798 - recall: 1.000 - ETA: 0s - loss: 13.0965 - precision: 0.1785 - recall: 1.000 - ETA: 0s - loss: 13.0845 - precision: 0.1793 - recall: 1.000 - ETA: 0s - loss: 13.0549 - precision: 0.1811 - recall: 1.000 - ETA: 0s - loss: 13.0547 - precision: 0.1811 - recall: 1.000 - ETA: 0s - loss: 13.0487 - precision: 0.1815 - recall: 1.000 - ETA: 0s - loss: 13.0623 - precision: 0.1807 - recall: 1.000 - ETA: 0s - loss: 13.0562 - precision: 0.1810 - recall: 1.000 - ETA: 0s - loss: 13.0601 - precision: 0.1808 - recall: 1.000 - 1s 14us/step - loss: 13.0450 - precision: 0.1817 - recall: 1.0000\n",
      "Epoch 63/100\n",
      "42511/42511 [==============================] - ETA: 0s - loss: 13.0301 - precision: 0.1827 - recall: 1.0000- ETA: 0s - loss: 12.8876 - precision: 0.1916 - recall: 1.000 - ETA: 0s - loss: 12.9407 - precision: 0.1883 - recall: 1.000 - ETA: 0s - loss: 13.0296 - precision: 0.1827 - recall: 1.000 - ETA: 0s - loss: 13.0117 - precision: 0.1838 - recall: 1.000 - ETA: 0s - loss: 13.0326 - precision: 0.1825 - recall: 1.000 - ETA: 0s - loss: 13.0291 - precision: 0.1827 - recall: 1.000 - ETA: 0s - loss: 13.0244 - precision: 0.1830 - recall: 1.00 - ETA: 0s - loss: 13.0291 - precision: 0.1827 - recall: 1.000 - ETA: 0s - loss: 13.0280 - precision: 0.1828 - recall: 1.000 - ETA: 0s - loss: 13.0321 - precision: 0.1826 - recall: 1.000 - ETA: 0s - loss: 13.0468 - precision: 0.1816 - recall: 1.000 - ETA: 0s - loss: 13.0456 - precision: 0.1817 - recall: 1.000 - 1s 16us/step - loss: 13.0450 - precision: 0.1817 - recall: 1.0000\n",
      "Epoch 64/100\n",
      "42511/42511 [==============================] - ETA: 1s - loss: 12.7539 - precision: 0.2000 - recall: 1.000 - ETA: 0s - loss: 13.0389 - precision: 0.1821 - recall: 1.000 - ETA: 0s - loss: 13.0631 - precision: 0.1806 - recall: 1.000 - ETA: 0s - loss: 13.0448 - precision: 0.1818 - recall: 1.000 - ETA: 0s - loss: 13.0517 - precision: 0.1813 - recall: 1.000 - ETA: 0s - loss: 13.0587 - precision: 0.1809 - recall: 1.000 - ETA: 0s - loss: 13.0659 - precision: 0.1804 - recall: 1.000 - ETA: 0s - loss: 13.0611 - precision: 0.1807 - recall: 1.000 - ETA: 0s - loss: 13.0778 - precision: 0.1797 - recall: 1.000 - ETA: 0s - loss: 13.0672 - precision: 0.1803 - recall: 1.000 - ETA: 0s - loss: 13.0493 - precision: 0.1815 - recall: 1.000 - ETA: 0s - loss: 13.0403 - precision: 0.1820 - recall: 1.000 - ETA: 0s - loss: 13.0400 - precision: 0.1821 - recall: 1.000 - 1s 16us/step - loss: 13.0450 - precision: 0.1817 - recall: 1.0000\n",
      "Epoch 65/100\n",
      "42511/42511 [==============================] - ETA: 1s - loss: 12.7539 - precision: 0.2000 - recall: 1.000 - ETA: 0s - loss: 12.9999 - precision: 0.1846 - recall: 1.000 - ETA: 0s - loss: 13.0265 - precision: 0.1829 - recall: 1.000 - ETA: 0s - loss: 13.0696 - precision: 0.1802 - recall: 1.000 - ETA: 0s - loss: 13.0549 - precision: 0.1811 - recall: 1.000 - ETA: 0s - loss: 13.0401 - precision: 0.1820 - recall: 1.000 - ETA: 0s - loss: 13.0373 - precision: 0.1822 - recall: 1.000 - ETA: 0s - loss: 13.0385 - precision: 0.1821 - recall: 1.000 - ETA: 0s - loss: 13.0137 - precision: 0.1837 - recall: 1.000 - ETA: 0s - loss: 13.0248 - precision: 0.1830 - recall: 1.000 - ETA: 0s - loss: 13.0317 - precision: 0.1826 - recall: 1.000 - ETA: 0s - loss: 13.0364 - precision: 0.1823 - recall: 1.000 - ETA: 0s - loss: 13.0495 - precision: 0.1815 - recall: 1.000 - 1s 15us/step - loss: 13.0450 - precision: 0.1817 - recall: 1.0000\n",
      "Epoch 66/100\n",
      "42511/42511 [==============================] - ETA: 0s - loss: 13.0372 - precision: 0.1822 - recall: 1.0000- ETA: 0s - loss: 12.9977 - precision: 0.1911 - recall: 1.00 - ETA: 0s - loss: 12.9645 - precision: 0.1868 - recall: 1.000 - ETA: 0s - loss: 12.9881 - precision: 0.1853 - recall: 1.000 - ETA: 0s - loss: 13.0187 - precision: 0.1834 - recall: 1.000 - ETA: 0s - loss: 13.0230 - precision: 0.1831 - recall: 1.000 - ETA: 0s - loss: 13.0121 - precision: 0.1838 - recall: 1.000 - ETA: 0s - loss: 13.0212 - precision: 0.1832 - recall: 1.000 - ETA: 0s - loss: 13.0261 - precision: 0.1829 - recall: 1.00 - ETA: 0s - loss: 13.0506 - precision: 0.1814 - recall: 1.000 - 1s 14us/step - loss: 13.0450 - precision: 0.1817 - recall: 1.0000\n",
      "Epoch 67/100\n"
     ]
    },
    {
     "name": "stdout",
     "output_type": "stream",
     "text": [
      "42511/42511 [==============================] - ETA: 0s - loss: 13.1089 - precision: 0.1777 - recall: 1.000 - ETA: 0s - loss: 13.1082 - precision: 0.1778 - recall: 1.000 - ETA: 0s - loss: 13.0750 - precision: 0.1799 - recall: 1.000 - ETA: 0s - loss: 13.1187 - precision: 0.1771 - recall: 1.000 - ETA: 0s - loss: 13.1199 - precision: 0.1770 - recall: 1.000 - ETA: 0s - loss: 13.0884 - precision: 0.1790 - recall: 1.000 - ETA: 0s - loss: 13.0710 - precision: 0.1801 - recall: 1.000 - ETA: 0s - loss: 13.0712 - precision: 0.1801 - recall: 1.000 - ETA: 0s - loss: 13.0511 - precision: 0.1814 - recall: 1.000 - ETA: 0s - loss: 13.0482 - precision: 0.1815 - recall: 1.000 - ETA: 0s - loss: 13.0442 - precision: 0.1818 - recall: 1.000 - 1s 15us/step - loss: 13.0450 - precision: 0.1817 - recall: 1.0000\n",
      "Epoch 68/100\n",
      "42511/42511 [==============================] - ETA: 1s - loss: 11.9568 - precision: 0.2500 - recall: 1.000 - ETA: 0s - loss: 13.0728 - precision: 0.1800 - recall: 1.000 - ETA: 0s - loss: 13.0937 - precision: 0.1787 - recall: 1.000 - ETA: 0s - loss: 13.1153 - precision: 0.1773 - recall: 1.000 - ETA: 0s - loss: 13.0178 - precision: 0.1834 - recall: 1.000 - ETA: 0s - loss: 13.0009 - precision: 0.1845 - recall: 1.000 - ETA: 0s - loss: 12.9969 - precision: 0.1848 - recall: 1.000 - ETA: 0s - loss: 13.0162 - precision: 0.1835 - recall: 1.000 - ETA: 0s - loss: 13.0200 - precision: 0.1833 - recall: 1.000 - ETA: 0s - loss: 13.0282 - precision: 0.1828 - recall: 1.000 - ETA: 0s - loss: 13.0424 - precision: 0.1819 - recall: 1.000 - ETA: 0s - loss: 13.0442 - precision: 0.1818 - recall: 1.000 - ETA: 0s - loss: 13.0334 - precision: 0.1825 - recall: 1.000 - ETA: 0s - loss: 13.0389 - precision: 0.1821 - recall: 1.000 - 1s 16us/step - loss: 13.0450 - precision: 0.1817 - recall: 1.0000\n",
      "Epoch 69/100\n",
      "42511/42511 [==============================] - ETA: 1s - loss: 13.5510 - precision: 0.1500 - recall: 1.000 - ETA: 0s - loss: 13.2134 - precision: 0.1712 - recall: 1.000 - ETA: 0s - loss: 13.1162 - precision: 0.1773 - recall: 1.000 - ETA: 0s - loss: 13.0808 - precision: 0.1795 - recall: 1.000 - ETA: 0s - loss: 13.1271 - precision: 0.1766 - recall: 1.000 - ETA: 0s - loss: 13.0988 - precision: 0.1784 - recall: 1.000 - ETA: 0s - loss: 13.0640 - precision: 0.1805 - recall: 1.000 - ETA: 0s - loss: 13.0592 - precision: 0.1809 - recall: 1.000 - ETA: 0s - loss: 13.0722 - precision: 0.1800 - recall: 1.000 - ETA: 0s - loss: 13.0561 - precision: 0.1810 - recall: 1.000 - ETA: 0s - loss: 13.0348 - precision: 0.1824 - recall: 1.000 - ETA: 0s - loss: 13.0508 - precision: 0.1814 - recall: 1.000 - ETA: 0s - loss: 13.0461 - precision: 0.1817 - recall: 1.000 - 1s 15us/step - loss: 13.0450 - precision: 0.1817 - recall: 1.0000\n",
      "Epoch 70/100\n",
      "42511/42511 [==============================] - ETA: 0s - loss: 12.9417 - precision: 0.1882 - recall: 1.000 - ETA: 0s - loss: 12.9569 - precision: 0.1873 - recall: 1.000 - ETA: 0s - loss: 13.0056 - precision: 0.1842 - recall: 1.000 - ETA: 0s - loss: 13.0110 - precision: 0.1839 - recall: 1.000 - ETA: 0s - loss: 13.0113 - precision: 0.1839 - recall: 1.000 - ETA: 0s - loss: 13.0257 - precision: 0.1830 - recall: 1.000 - ETA: 0s - loss: 13.0287 - precision: 0.1828 - recall: 1.000 - ETA: 0s - loss: 13.0476 - precision: 0.1816 - recall: 1.000 - ETA: 0s - loss: 13.0496 - precision: 0.1815 - recall: 1.000 - ETA: 0s - loss: 13.0565 - precision: 0.1810 - recall: 1.000 - ETA: 0s - loss: 13.0549 - precision: 0.1811 - recall: 1.000 - ETA: 0s - loss: 13.0483 - precision: 0.1815 - recall: 1.000 - 1s 16us/step - loss: 13.0450 - precision: 0.1817 - recall: 1.0000\n",
      "Epoch 71/100\n",
      "42511/42511 [==============================] - ETA: 1s - loss: 12.9133 - precision: 0.1900 - recall: 1.000 - ETA: 0s - loss: 13.0609 - precision: 0.1807 - recall: 1.000 - ETA: 0s - loss: 13.0126 - precision: 0.1838 - recall: 1.000 - ETA: 0s - loss: 12.9721 - precision: 0.1863 - recall: 1.000 - ETA: 0s - loss: 13.0026 - precision: 0.1844 - recall: 1.000 - ETA: 0s - loss: 12.9962 - precision: 0.1848 - recall: 1.000 - ETA: 0s - loss: 13.0189 - precision: 0.1834 - recall: 1.000 - ETA: 0s - loss: 13.0539 - precision: 0.1812 - recall: 1.000 - ETA: 0s - loss: 13.0624 - precision: 0.1808 - recall: 1.000 - ETA: 0s - loss: 13.0404 - precision: 0.1820 - recall: 1.000 - ETA: 0s - loss: 13.0433 - precision: 0.1818 - recall: 1.000 - ETA: 0s - loss: 13.0417 - precision: 0.1819 - recall: 1.000 - ETA: 0s - loss: 13.0376 - precision: 0.1822 - recall: 1.000 - ETA: 0s - loss: 13.0427 - precision: 0.1819 - recall: 1.000 - ETA: 0s - loss: 13.0564 - precision: 0.1810 - recall: 1.000 - ETA: 0s - loss: 13.0505 - precision: 0.1814 - recall: 1.000 - 1s 19us/step - loss: 13.0450 - precision: 0.1817 - recall: 1.0000\n",
      "Epoch 72/100\n",
      "42511/42511 [==============================] - ETA: 1s - loss: 13.0728 - precision: 0.1800 - recall: 1.000 - ETA: 0s - loss: 13.0900 - precision: 0.1789 - recall: 1.000 - ETA: 0s - loss: 13.0795 - precision: 0.1796 - recall: 1.000 - ETA: 0s - loss: 13.0788 - precision: 0.1796 - recall: 1.000 - ETA: 0s - loss: 13.0841 - precision: 0.1793 - recall: 1.000 - ETA: 0s - loss: 13.0440 - precision: 0.1818 - recall: 1.000 - ETA: 0s - loss: 13.0751 - precision: 0.1799 - recall: 1.000 - ETA: 0s - loss: 13.0734 - precision: 0.1800 - recall: 1.000 - ETA: 0s - loss: 13.0586 - precision: 0.1809 - recall: 1.000 - ETA: 0s - loss: 13.0450 - precision: 0.1817 - recall: 1.000 - ETA: 0s - loss: 13.0417 - precision: 0.1819 - recall: 1.000 - ETA: 0s - loss: 13.0391 - precision: 0.1821 - recall: 1.000 - ETA: 0s - loss: 13.0384 - precision: 0.1822 - recall: 1.000 - 1s 15us/step - loss: 13.0450 - precision: 0.1817 - recall: 1.0000\n",
      "Epoch 73/100\n",
      "42511/42511 [==============================] - ETA: 0s - loss: 12.9856 - precision: 0.1855 - recall: 1.0000- ETA: 0s - loss: 12.9696 - precision: 0.1865 - recall: 1.000 - ETA: 0s - loss: 12.9620 - precision: 0.1869 - recall: 1.00 - ETA: 0s - loss: 12.9741 - precision: 0.1862 - recall: 1.000 - ETA: 0s - loss: 12.9977 - precision: 0.1847 - recall: 1.00 - ETA: 0s - loss: 13.0013 - precision: 0.1845 - recall: 1.000 - ETA: 0s - loss: 13.0218 - precision: 0.1832 - recall: 1.000 - ETA: 0s - loss: 13.0359 - precision: 0.1823 - recall: 1.000 - ETA: 0s - loss: 13.0434 - precision: 0.1818 - recall: 1.000 - ETA: 0s - loss: 13.0581 - precision: 0.1809 - recall: 1.000 - ETA: 0s - loss: 13.0613 - precision: 0.1807 - recall: 1.000 - ETA: 0s - loss: 13.0425 - precision: 0.1819 - recall: 1.000 - 1s 16us/step - loss: 13.0450 - precision: 0.1817 - recall: 1.0000\n",
      "Epoch 74/100\n",
      "42511/42511 [==============================] - ETA: 1s - loss: 13.7105 - precision: 0.1400 - recall: 1.000 - ETA: 0s - loss: 13.1554 - precision: 0.1748 - recall: 1.000 - ETA: 0s - loss: 13.1009 - precision: 0.1782 - recall: 1.000 - ETA: 0s - loss: 13.1252 - precision: 0.1767 - recall: 1.000 - ETA: 0s - loss: 13.0643 - precision: 0.1805 - recall: 1.000 - ETA: 0s - loss: 13.0578 - precision: 0.1809 - recall: 1.000 - ETA: 0s - loss: 13.0400 - precision: 0.1821 - recall: 1.000 - ETA: 0s - loss: 13.0261 - precision: 0.1829 - recall: 1.000 - ETA: 0s - loss: 13.0333 - precision: 0.1825 - recall: 1.000 - ETA: 0s - loss: 13.0262 - precision: 0.1829 - recall: 1.000 - ETA: 0s - loss: 13.0208 - precision: 0.1833 - recall: 1.000 - ETA: 0s - loss: 13.0349 - precision: 0.1824 - recall: 1.000 - ETA: 0s - loss: 13.0323 - precision: 0.1825 - recall: 1.000 - ETA: 0s - loss: 13.0334 - precision: 0.1825 - recall: 1.000 - ETA: 0s - loss: 13.0322 - precision: 0.1825 - recall: 1.000 - ETA: 0s - loss: 13.0447 - precision: 0.1818 - recall: 1.000 - ETA: 0s - loss: 13.0565 - precision: 0.1810 - recall: 1.000 - ETA: 0s - loss: 13.0607 - precision: 0.1808 - recall: 1.000 - ETA: 0s - loss: 13.0448 - precision: 0.1818 - recall: 1.000 - 1s 22us/step - loss: 13.0450 - precision: 0.1817 - recall: 1.0000\n",
      "Epoch 75/100\n"
     ]
    },
    {
     "name": "stdout",
     "output_type": "stream",
     "text": [
      "42511/42511 [==============================] - ETA: 0s - loss: 13.0580 - precision: 0.1809 - recall: 1.0000- ETA: 0s - loss: 12.9864 - precision: 0.1854 - recall: 1.000 - ETA: 0s - loss: 13.0196 - precision: 0.1833 - recall: 1.000 - ETA: 0s - loss: 13.0531 - precision: 0.1812 - recall: 1.000 - ETA: 0s - loss: 13.0874 - precision: 0.1791 - recall: 1.000 - ETA: 0s - loss: 13.1046 - precision: 0.1780 - recall: 1.00 - ETA: 0s - loss: 13.0528 - precision: 0.1812 - recall: 1.000 - ETA: 0s - loss: 13.0720 - precision: 0.1800 - recall: 1.000 - ETA: 0s - loss: 13.0706 - precision: 0.1801 - recall: 1.000 - ETA: 0s - loss: 13.0566 - precision: 0.1810 - recall: 1.00 - ETA: 0s - loss: 13.0437 - precision: 0.1818 - recall: 1.000 - ETA: 0s - loss: 13.0474 - precision: 0.1816 - recall: 1.000 - ETA: 0s - loss: 13.0449 - precision: 0.1817 - recall: 1.000 - ETA: 0s - loss: 13.0364 - precision: 0.1823 - recall: 1.000 - ETA: 0s - loss: 13.0357 - precision: 0.1823 - recall: 1.000 - ETA: 0s - loss: 13.0494 - precision: 0.1815 - recall: 1.000 - 1s 21us/step - loss: 13.0450 - precision: 0.1817 - recall: 1.0000\n",
      "Epoch 76/100\n",
      "42511/42511 [==============================] - 1s 22us/step - loss: 13.0450 - precision: 0.1817 - recall: 1.0000: 0s - loss: 12.9798 - precision: 0.1858 - recall: 1.000 - ETA: 0s - loss: 13.0858 - precision: 0.1792 - recall: 1.000 - ETA: 0s - loss: 13.1038 - precision: 0.1781 - recall: 1.000 - ETA: 0s - loss: 13.0693 - precision: 0.1802 - recall: 1.000 - ETA: 0s - loss: 13.0215 - precision: 0.1832 - recall: 1.000 - ETA: 0s - loss: 13.0120 - precision: 0.1838 - recall: 1.000 - ETA: 0s - loss: 13.0334 - precision: 0.1825 - recall: 1.000 - ETA: 0s - loss: 13.0462 - precision: 0.1817 - recall: 1.000 - ETA: 0s - loss: 13.0359 - precision: 0.1823 - recall: 1.000 - ETA: 0s - loss: 13.0398 - precision: 0.1821 - recall: 1.000 - ETA: 0s - loss: 13.0224 - precision: 0.1832 - recall: 1.000 - ETA: 0s - loss: 13.0131 - precision: 0.1837 - recall: 1.000 - ETA: 0s - loss: 13.0124 - precision: 0.1838 - recall: 1.000 - ETA: 0s - loss: 13.0145 - precision: 0.1837 - recall: 1.000 - ETA: 0s - loss: 13.0266 - precision: 0.1829 - recall: 1.000 - ETA: 0s - loss: 13.0360 - precision: 0.1823 - recall: 1.000 - ETA: 0s - loss: 13.0337 - precision: 0.1825 - recall: 1.000 - ETA: 0s - loss: 13.0442 - precision: 0.1818 - recall: 1.000\n",
      "Epoch 77/100\n",
      "42511/42511 [==============================] - ETA: 1s - loss: 11.9568 - precision: 0.2500 - recall: 1.000 - ETA: 0s - loss: 13.0312 - precision: 0.1826 - recall: 1.000 - ETA: 0s - loss: 13.0377 - precision: 0.1822 - recall: 1.000 - ETA: 0s - loss: 13.0329 - precision: 0.1825 - recall: 1.000 - ETA: 0s - loss: 12.9890 - precision: 0.1853 - recall: 1.000 - ETA: 0s - loss: 12.9904 - precision: 0.1852 - recall: 1.000 - ETA: 0s - loss: 13.0176 - precision: 0.1835 - recall: 1.000 - ETA: 0s - loss: 12.9992 - precision: 0.1846 - recall: 1.000 - ETA: 0s - loss: 13.0161 - precision: 0.1836 - recall: 1.000 - ETA: 0s - loss: 13.0155 - precision: 0.1836 - recall: 1.000 - ETA: 0s - loss: 13.0374 - precision: 0.1822 - recall: 1.000 - ETA: 0s - loss: 13.0572 - precision: 0.1810 - recall: 1.000 - ETA: 0s - loss: 13.0585 - precision: 0.1809 - recall: 1.000 - ETA: 0s - loss: 13.0484 - precision: 0.1815 - recall: 1.000 - 1s 16us/step - loss: 13.0450 - precision: 0.1817 - recall: 1.0000\n",
      "Epoch 78/100\n",
      "42511/42511 [==============================] - ETA: 0s - loss: 13.0640 - precision: 0.1805 - recall: 1.0000- ETA: 0s - loss: 13.1756 - precision: 0.1735 - recall: 1.000 - ETA: 0s - loss: 12.9766 - precision: 0.1860 - recall: 1.000 - ETA: 0s - loss: 13.0123 - precision: 0.1838 - recall: 1.00 - ETA: 0s - loss: 13.0639 - precision: 0.1806 - recall: 1.000 - ETA: 0s - loss: 13.0850 - precision: 0.1792 - recall: 1.000 - ETA: 0s - loss: 13.0791 - precision: 0.1796 - recall: 1.000 - ETA: 0s - loss: 13.0765 - precision: 0.1798 - recall: 1.000 - ETA: 0s - loss: 13.0688 - precision: 0.1802 - recall: 1.000 - ETA: 0s - loss: 13.0898 - precision: 0.1789 - recall: 1.000 - ETA: 0s - loss: 13.0746 - precision: 0.1799 - recall: 1.000 - ETA: 0s - loss: 13.0644 - precision: 0.1805 - recall: 1.000 - ETA: 0s - loss: 13.0526 - precision: 0.1813 - recall: 1.000 - ETA: 0s - loss: 13.0453 - precision: 0.1817 - recall: 1.000 - 1s 18us/step - loss: 13.0450 - precision: 0.1817 - recall: 1.0000\n",
      "Epoch 79/100\n",
      "42511/42511 [==============================] - ETA: 0s - loss: 13.0302 - precision: 0.1827 - recall: 1.0000- ETA: 0s - loss: 12.9930 - precision: 0.1850 - recall: 1.000 - ETA: 0s - loss: 12.9869 - precision: 0.1854 - recall: 1.00 - ETA: 0s - loss: 12.9564 - precision: 0.1873 - recall: 1.000 - ETA: 0s - loss: 12.9703 - precision: 0.1864 - recall: 1.000 - ETA: 0s - loss: 12.9870 - precision: 0.1854 - recall: 1.000 - ETA: 0s - loss: 12.9958 - precision: 0.1848 - recall: 1.000 - ETA: 0s - loss: 13.0030 - precision: 0.1844 - recall: 1.00 - ETA: 0s - loss: 13.0367 - precision: 0.1823 - recall: 1.000 - ETA: 0s - loss: 13.0505 - precision: 0.1814 - recall: 1.000 - ETA: 0s - loss: 13.0471 - precision: 0.1816 - recall: 1.000 - 1s 16us/step - loss: 13.0450 - precision: 0.1817 - recall: 1.0000\n",
      "Epoch 80/100\n",
      "42511/42511 [==============================] - 1s 15us/step - loss: 13.0450 - precision: 0.1817 - recall: 1.0000: 0s - loss: 13.0550 - precision: 0.1811 - recall: 1.000 - ETA: 0s - loss: 13.0087 - precision: 0.1840 - recall: 1.000 - ETA: 0s - loss: 13.0586 - precision: 0.1809 - recall: 1.000 - ETA: 0s - loss: 13.0546 - precision: 0.1811 - recall:  - ETA: 0s - loss: 13.0387 - precision: 0.1821 - recall: 1.00\n",
      "Epoch 81/100\n",
      "42511/42511 [==============================] - 1s 15us/step - loss: 13.0450 - precision: 0.1817 - recall: 1.0000: 0s - loss: 13.0490 - precision: 0.1815 - recall: 1. - ETA: 0s - loss: 13.1081 - precision: 0.1778 - recall: 1. - ETA: 0s - loss: 13.0694 - precision: 0.1802 - recall: 1.0\n",
      "Epoch 82/100\n",
      "42511/42511 [==============================] - 1s 15us/step - loss: 13.0450 - precision: 0.1817 - recall: 1.0000: 0s - loss: 13.0405 - precision: 0.1820 - recall: 1.000\n",
      "Epoch 83/100\n",
      "42511/42511 [==============================] - ETA: 1s - loss: 13.8699 - precision: 0.1300 - recall: 1.000 - ETA: 0s - loss: 13.1436 - precision: 0.1756 - recall: 1.000 - ETA: 0s - loss: 12.9737 - precision: 0.1862 - recall: 1.000 - ETA: 0s - loss: 12.9709 - precision: 0.1864 - recall: 1.000 - ETA: 0s - loss: 12.9810 - precision: 0.1858 - recall: 1.000 - ETA: 0s - loss: 12.9689 - precision: 0.1865 - recall: 1.000 - ETA: 0s - loss: 12.9859 - precision: 0.1854 - recall: 1.000 - ETA: 0s - loss: 12.9675 - precision: 0.1866 - recall: 1.000 - ETA: 0s - loss: 12.9889 - precision: 0.1853 - recall: 1.000 - ETA: 0s - loss: 13.0083 - precision: 0.1840 - recall: 1.000 - ETA: 0s - loss: 13.0278 - precision: 0.1828 - recall: 1.000 - ETA: 0s - loss: 13.0362 - precision: 0.1823 - recall: 1.000 - 1s 14us/step - loss: 13.0450 - precision: 0.1817 - recall: 1.0000\n",
      "Epoch 84/100\n",
      "42511/42511 [==============================] - ETA: 0s - loss: 13.0370 - precision: 0.1822 - recall: 1.0000- ETA: 0s - loss: 13.1742 - precision: 0.1736 - recall: 1.000 - ETA: 0s - loss: 13.1824 - precision: 0.1731 - recall: 1.000 - ETA: 0s - loss: 13.1216 - precision: 0.1769 - recall: 1.000 - ETA: 0s - loss: 13.0981 - precision: 0.1784 - recall: 1.000 - ETA: 0s - loss: 13.0976 - precision: 0.1784 - recall: 1.000 - ETA: 0s - loss: 13.0799 - precision: 0.1796 - recall: 1.000 - ETA: 0s - loss: 13.0789 - precision: 0.1796 - recall: 1.000 - ETA: 0s - loss: 13.0631 - precision: 0.1806 - recall: 1.000 - ETA: 0s - loss: 13.0538 - precision: 0.1812 - recall: 1.000 - ETA: 0s - loss: 13.0433 - precision: 0.1818 - recall: 1.000 - ETA: 0s - loss: 13.0329 - precision: 0.1825 - recall: 1.00 - ETA: 0s - loss: 13.0397 - precision: 0.1821 - recall: 1.000 - 1s 16us/step - loss: 13.0450 - precision: 0.1817 - recall: 1.0000\n",
      "Epoch 85/100\n"
     ]
    },
    {
     "name": "stdout",
     "output_type": "stream",
     "text": [
      "42511/42511 [==============================] - ETA: 0s - loss: 13.0737 - precision: 0.1799 - recall: 1.0000- ETA: 0s - loss: 13.1337 - precision: 0.1762 - recall: 1.000 - ETA: 0s - loss: 13.0939 - precision: 0.1787 - recall: 1.000 - ETA: 0s - loss: 13.1456 - precision: 0.1754 - recall: 1.000 - ETA: 0s - loss: 13.1135 - precision: 0.1774 - recall: 1.00 - ETA: 0s - loss: 13.0614 - precision: 0.1807 - recall: 1.000 - ETA: 0s - loss: 13.0995 - precision: 0.1783 - recall: 1.000 - ETA: 0s - loss: 13.0791 - precision: 0.1797 - recall: 1.000 - ETA: 0s - loss: 13.0584 - precision: 0.1809 - recall: 1.000 - ETA: 0s - loss: 13.0575 - precision: 0.1810 - recall: 1.000 - ETA: 0s - loss: 13.0503 - precision: 0.1814 - recall: 1.000 - ETA: 0s - loss: 13.0472 - precision: 0.1816 - recall: 1.000 - 1s 15us/step - loss: 13.0450 - precision: 0.1817 - recall: 1.0000\n",
      "Epoch 86/100\n",
      "42511/42511 [==============================] - ETA: 1s - loss: 13.5510 - precision: 0.1500 - recall: 1.000 - ETA: 0s - loss: 13.2322 - precision: 0.1700 - recall: 1.000 - ETA: 0s - loss: 13.2073 - precision: 0.1716 - recall: 1.000 - ETA: 0s - loss: 13.1923 - precision: 0.1725 - recall: 1.000 - ETA: 0s - loss: 13.2038 - precision: 0.1718 - recall: 1.000 - ETA: 0s - loss: 13.1953 - precision: 0.1723 - recall: 1.000 - ETA: 0s - loss: 13.1579 - precision: 0.1747 - recall: 1.000 - ETA: 0s - loss: 13.1354 - precision: 0.1761 - recall: 1.000 - ETA: 0s - loss: 13.1107 - precision: 0.1776 - recall: 1.000 - ETA: 0s - loss: 13.0978 - precision: 0.1784 - recall: 1.000 - ETA: 0s - loss: 13.0752 - precision: 0.1798 - recall: 1.000 - ETA: 0s - loss: 13.0701 - precision: 0.1802 - recall: 1.000 - ETA: 0s - loss: 13.0608 - precision: 0.1807 - recall: 1.000 - ETA: 0s - loss: 13.0490 - precision: 0.1815 - recall: 1.000 - 1s 16us/step - loss: 13.0450 - precision: 0.1817 - recall: 1.0000\n",
      "Epoch 87/100\n",
      "42511/42511 [==============================] - ETA: 1s - loss: 13.3916 - precision: 0.1600 - recall: 1.000 - ETA: 0s - loss: 13.0644 - precision: 0.1805 - recall: 1.000 - ETA: 0s - loss: 13.0927 - precision: 0.1787 - recall: 1.000 - ETA: 0s - loss: 13.0970 - precision: 0.1785 - recall: 1.000 - ETA: 0s - loss: 13.0485 - precision: 0.1815 - recall: 1.000 - ETA: 0s - loss: 13.0886 - precision: 0.1790 - recall: 1.000 - ETA: 0s - loss: 13.0868 - precision: 0.1791 - recall: 1.000 - ETA: 0s - loss: 13.0546 - precision: 0.1811 - recall: 1.000 - ETA: 0s - loss: 13.0514 - precision: 0.1813 - recall: 1.000 - ETA: 0s - loss: 13.0547 - precision: 0.1811 - recall: 1.000 - ETA: 0s - loss: 13.0367 - precision: 0.1823 - recall: 1.000 - ETA: 0s - loss: 13.0442 - precision: 0.1818 - recall: 1.000 - ETA: 0s - loss: 13.0458 - precision: 0.1817 - recall: 1.000 - 1s 15us/step - loss: 13.0450 - precision: 0.1817 - recall: 1.0000\n",
      "Epoch 88/100\n",
      "42511/42511 [==============================] - ETA: 1s - loss: 12.9133 - precision: 0.1900 - recall: 1.000 - ETA: 0s - loss: 13.1150 - precision: 0.1774 - recall: 1.000 - ETA: 0s - loss: 13.0409 - precision: 0.1820 - recall: 1.000 - ETA: 0s - loss: 12.9748 - precision: 0.1861 - recall: 1.000 - ETA: 0s - loss: 13.0055 - precision: 0.1842 - recall: 1.000 - ETA: 0s - loss: 12.9990 - precision: 0.1846 - recall: 1.000 - ETA: 0s - loss: 13.0031 - precision: 0.1844 - recall: 1.000 - ETA: 0s - loss: 12.9905 - precision: 0.1852 - recall: 1.000 - ETA: 0s - loss: 12.9975 - precision: 0.1847 - recall: 1.000 - ETA: 0s - loss: 13.0253 - precision: 0.1830 - recall: 1.000 - ETA: 0s - loss: 13.0014 - precision: 0.1845 - recall: 1.000 - ETA: 0s - loss: 13.0149 - precision: 0.1836 - recall: 1.000 - ETA: 0s - loss: 13.0192 - precision: 0.1834 - recall: 1.000 - ETA: 0s - loss: 13.0405 - precision: 0.1820 - recall: 1.000 - 1s 16us/step - loss: 13.0450 - precision: 0.1817 - recall: 1.0000\n",
      "Epoch 89/100\n",
      "42511/42511 [==============================] - ETA: 1s - loss: 13.2322 - precision: 0.1700 - recall: 1.000 - ETA: 0s - loss: 13.1873 - precision: 0.1728 - recall: 1.000 - ETA: 0s - loss: 13.0702 - precision: 0.1802 - recall: 1.000 - ETA: 0s - loss: 13.0478 - precision: 0.1818 - recall: 1.000 - ETA: 0s - loss: 13.0100 - precision: 0.1839 - recall: 1.000 - ETA: 0s - loss: 13.0122 - precision: 0.1838 - recall: 1.000 - ETA: 0s - loss: 13.0213 - precision: 0.1832 - recall: 1.000 - ETA: 0s - loss: 13.0273 - precision: 0.1829 - recall: 1.000 - ETA: 0s - loss: 13.0307 - precision: 0.1826 - recall: 1.000 - ETA: 0s - loss: 13.0358 - precision: 0.1823 - recall: 1.000 - ETA: 0s - loss: 13.0658 - precision: 0.1804 - recall: 1.000 - ETA: 0s - loss: 13.0673 - precision: 0.1803 - recall: 1.000 - ETA: 0s - loss: 13.0572 - precision: 0.1810 - recall: 1.000 - ETA: 0s - loss: 13.0522 - precision: 0.1813 - recall: 1.000 - 1s 16us/step - loss: 13.0450 - precision: 0.1817 - recall: 1.0000\n",
      "Epoch 90/100\n",
      "42511/42511 [==============================] - ETA: 1s - loss: 13.5510 - precision: 0.1500 - recall: 1.000 - ETA: 0s - loss: 12.9375 - precision: 0.1885 - recall: 1.000 - ETA: 0s - loss: 13.0528 - precision: 0.1812 - recall: 1.000 - ETA: 0s - loss: 12.9643 - precision: 0.1868 - recall: 1.000 - ETA: 0s - loss: 13.0184 - precision: 0.1834 - recall: 1.000 - ETA: 0s - loss: 13.0163 - precision: 0.1835 - recall: 1.000 - ETA: 0s - loss: 13.0362 - precision: 0.1823 - recall: 1.000 - ETA: 0s - loss: 13.0537 - precision: 0.1812 - recall: 1.000 - ETA: 0s - loss: 13.0518 - precision: 0.1813 - recall: 1.000 - ETA: 0s - loss: 13.0431 - precision: 0.1819 - recall: 1.000 - ETA: 0s - loss: 13.0693 - precision: 0.1802 - recall: 1.000 - ETA: 0s - loss: 13.0637 - precision: 0.1806 - recall: 1.000 - ETA: 0s - loss: 13.0616 - precision: 0.1807 - recall: 1.000 - ETA: 0s - loss: 13.0429 - precision: 0.1819 - recall: 1.000 - 1s 16us/step - loss: 13.0450 - precision: 0.1817 - recall: 1.0000\n",
      "Epoch 91/100\n",
      "42511/42511 [==============================] - ETA: 0s - loss: 13.0879 - precision: 0.1790 - recall: 1.0000- ETA: 0s - loss: 12.9837 - precision: 0.1856 - recall: 1.000 - ETA: 0s - loss: 13.0605 - precision: 0.1808 - recall: 1.000 - ETA: 0s - loss: 13.0593 - precision: 0.1808 - recall: 1.000 - ETA: 0s - loss: 13.0664 - precision: 0.1804 - recall: 1.000 - ETA: 0s - loss: 13.0798 - precision: 0.1796 - recall: 1.000 - ETA: 0s - loss: 13.1099 - precision: 0.1777 - recall: 1.000 - ETA: 0s - loss: 13.0915 - precision: 0.1788 - recall: 1.00 - ETA: 0s - loss: 13.0761 - precision: 0.1798 - recall: 1.000 - ETA: 0s - loss: 13.0858 - precision: 0.1792 - recall: 1.000 - ETA: 0s - loss: 13.0796 - precision: 0.1796 - recall: 1.000 - ETA: 0s - loss: 13.0553 - precision: 0.1811 - recall: 1.000 - ETA: 0s - loss: 13.0483 - precision: 0.1815 - recall: 1.000 - 1s 16us/step - loss: 13.0450 - precision: 0.1817 - recall: 1.0000\n",
      "Epoch 92/100\n",
      "42511/42511 [==============================] - ETA: 1s - loss: 12.7539 - precision: 0.2000 - recall: 1.000 - ETA: 0s - loss: 12.9790 - precision: 0.1859 - recall: 1.000 - ETA: 0s - loss: 12.9884 - precision: 0.1853 - recall: 1.000 - ETA: 0s - loss: 13.0016 - precision: 0.1845 - recall: 1.000 - ETA: 0s - loss: 12.9805 - precision: 0.1858 - recall: 1.000 - ETA: 0s - loss: 12.9819 - precision: 0.1857 - recall: 1.000 - ETA: 0s - loss: 12.9849 - precision: 0.1855 - recall: 1.000 - ETA: 0s - loss: 13.0096 - precision: 0.1840 - recall: 1.000 - ETA: 0s - loss: 13.0082 - precision: 0.1840 - recall: 1.000 - ETA: 0s - loss: 13.0224 - precision: 0.1832 - recall: 1.000 - ETA: 0s - loss: 13.0278 - precision: 0.1828 - recall: 1.000 - ETA: 0s - loss: 13.0376 - precision: 0.1822 - recall: 1.000 - 1s 14us/step - loss: 13.0450 - precision: 0.1817 - recall: 1.0000\n",
      "Epoch 93/100\n"
     ]
    },
    {
     "name": "stdout",
     "output_type": "stream",
     "text": [
      "42511/42511 [==============================] - 1s 17us/step - loss: 13.0450 - precision: 0.1817 - recall: 1.0000: 0s - loss: 13.2805 - precision: 0.1670 - recall: 1.000 - ETA: 0s - loss: 13.1709 - precision: 0.1738 - recall: 1.000 - ETA: 0s - loss: 13.1484 - precision: 0.1753 - recall: 1.000 - ETA: 0s - loss: 13.1724 - precision: 0.1737 - recall: 1.000 - ETA: 0s - loss: 13.1315 - precision: 0.1763 - recall: 1.000 - ETA: 0s - loss: 13.0995 - precision: 0.1783 - recall: 1.000 - ETA: 0s - loss: 13.0620 - precision: 0.1807 - recall: 1.000 - ETA: 0s - loss: 13.0501 - precision: 0.1814 - recall: 1.00 - ETA: 0s - loss: 13.0501 - precision: 0.1814 - recall: 1.00 - ETA: 0s - loss: 13.0374 - precision: 0.1822 - recall: 1.000 - ETA: 0s - loss: 13.0424 - precision: 0.1819 - recall: 1.000\n",
      "Epoch 94/100\n",
      "42511/42511 [==============================] - 1s 19us/step - loss: 13.0450 - precision: 0.1817 - recall: 1.0000: 0s - loss: 12.9195 - precision: 0.1896 - recall: 1.000 - ETA: 0s - loss: 13.1110 - precision: 0.1776 - recall: 1.000 - ETA: 0s - loss: 13.1183 - precision: 0.1771 - recall: 1.000 - ETA: 0s - loss: 13.1343 - precision: 0.1761 - recall: 1.000 - ETA: 0s - loss: 13.1609 - precision: 0.1745 - recall: 1.000 - ETA: 0s - loss: 13.1449 - precision: 0.1755 - recall: 1.000 - ETA: 0s - loss: 13.1122 - precision: 0.1775 - recall: 1.000 - ETA: 0s - loss: 13.0970 - precision: 0.1785 - recall: 1.000 - ETA: 0s - loss: 13.0764 - precision: 0.1798 - recall: 1.000 - ETA: 0s - loss: 13.0831 - precision: 0.1793 - recall: 1.000 - ETA: 0s - loss: 13.0639 - precision: 0.1806 - recall: 1.000 - ETA: 0s - loss: 13.0445 - precision: 0.1818 - recall: 1.000 - ETA: 0s - loss: 13.0339 - precision: 0.1824 - recall: 1.000 - ETA: 0s - loss: 13.0426 - precision: 0.1819 - recall: 1.000 - ETA: 0s - loss: 13.0589 - precision: 0.1809 - recall: 1.000 - ETA: 0s - loss: 13.0452 - precision: 0.1817 - recall: 1.000\n",
      "Epoch 95/100\n",
      "42511/42511 [==============================] - ETA: 1s - loss: 11.3191 - precision: 0.2900 - recall: 1.000 - ETA: 0s - loss: 13.1290 - precision: 0.1765 - recall: 1.000 - ETA: 0s - loss: 13.0631 - precision: 0.1806 - recall: 1.000 - ETA: 0s - loss: 13.0595 - precision: 0.1808 - recall: 1.000 - ETA: 0s - loss: 13.0080 - precision: 0.1841 - recall: 1.000 - ETA: 0s - loss: 13.0360 - precision: 0.1823 - recall: 1.000 - ETA: 0s - loss: 13.0509 - precision: 0.1814 - recall: 1.000 - ETA: 0s - loss: 13.0409 - precision: 0.1820 - recall: 1.000 - ETA: 0s - loss: 13.0502 - precision: 0.1814 - recall: 1.000 - ETA: 0s - loss: 13.0534 - precision: 0.1812 - recall: 1.000 - ETA: 0s - loss: 13.0355 - precision: 0.1823 - recall: 1.000 - ETA: 0s - loss: 13.0303 - precision: 0.1827 - recall: 1.000 - ETA: 0s - loss: 13.0300 - precision: 0.1827 - recall: 1.000 - ETA: 0s - loss: 13.0325 - precision: 0.1825 - recall: 1.000 - ETA: 0s - loss: 13.0496 - precision: 0.1815 - recall: 1.000 - 1s 17us/step - loss: 13.0450 - precision: 0.1817 - recall: 1.0000\n",
      "Epoch 96/100\n",
      "42511/42511 [==============================] - ETA: 0s - loss: 13.0710 - precision: 0.1801 - recall: 1.0000- ETA: 0s - loss: 13.0528 - precision: 0.1812 - recall: 1.000 - ETA: 0s - loss: 13.0445 - precision: 0.1818 - recall: 1.000 - ETA: 0s - loss: 13.1156 - precision: 0.1773 - recall: 1.000 - ETA: 0s - loss: 13.1142 - precision: 0.1774 - recall: 1.000 - ETA: 0s - loss: 13.0552 - precision: 0.1811 - recall: 1.000 - ETA: 0s - loss: 13.0779 - precision: 0.1797 - recall: 1.000 - ETA: 0s - loss: 13.0891 - precision: 0.1790 - recall: 1.000 - ETA: 0s - loss: 13.0863 - precision: 0.1791 - recall: 1.00 - ETA: 0s - loss: 13.0665 - precision: 0.1804 - recall: 1.000 - ETA: 0s - loss: 13.0572 - precision: 0.1814 - recall: 1.000 - ETA: 0s - loss: 13.0558 - precision: 0.1811 - recall: 1.000 - ETA: 0s - loss: 13.0443 - precision: 0.1818 - recall: 1.000 - 1s 17us/step - loss: 13.0450 - precision: 0.1817 - recall: 1.0000\n",
      "Epoch 97/100\n",
      "42511/42511 [==============================] - ETA: 1s - loss: 11.9568 - precision: 0.2500 - recall: 1.000 - ETA: 0s - loss: 12.9962 - precision: 0.1848 - recall: 1.000 - ETA: 0s - loss: 12.9994 - precision: 0.1846 - recall: 1.000 - ETA: 0s - loss: 13.0455 - precision: 0.1817 - recall: 1.000 - ETA: 0s - loss: 13.0540 - precision: 0.1812 - recall: 1.000 - ETA: 0s - loss: 13.0715 - precision: 0.1801 - recall: 1.000 - ETA: 0s - loss: 13.0434 - precision: 0.1818 - recall: 1.000 - ETA: 0s - loss: 13.0468 - precision: 0.1816 - recall: 1.000 - ETA: 0s - loss: 13.0314 - precision: 0.1826 - recall: 1.000 - ETA: 0s - loss: 13.0608 - precision: 0.1807 - recall: 1.000 - ETA: 0s - loss: 13.0557 - precision: 0.1811 - recall: 1.000 - ETA: 0s - loss: 13.0532 - precision: 0.1812 - recall: 1.000 - ETA: 0s - loss: 13.0416 - precision: 0.1820 - recall: 1.000 - ETA: 0s - loss: 13.0405 - precision: 0.1820 - recall: 1.000 - ETA: 0s - loss: 13.0529 - precision: 0.1812 - recall: 1.000 - 1s 18us/step - loss: 13.0450 - precision: 0.1817 - recall: 1.0000\n",
      "Epoch 98/100\n",
      "42511/42511 [==============================] - ETA: 1s - loss: 12.9133 - precision: 0.1900 - recall: 1.000 - ETA: 0s - loss: 13.0605 - precision: 0.1808 - recall: 1.000 - ETA: 0s - loss: 13.0169 - precision: 0.1835 - recall: 1.000 - ETA: 0s - loss: 13.0329 - precision: 0.1825 - recall: 1.000 - ETA: 0s - loss: 13.0449 - precision: 0.1817 - recall: 1.000 - ETA: 0s - loss: 13.0631 - precision: 0.1806 - recall: 1.000 - ETA: 0s - loss: 13.0458 - precision: 0.1817 - recall: 1.000 - ETA: 0s - loss: 13.0374 - precision: 0.1822 - recall: 1.000 - ETA: 0s - loss: 13.0316 - precision: 0.1826 - recall: 1.000 - ETA: 0s - loss: 13.0284 - precision: 0.1828 - recall: 1.000 - ETA: 0s - loss: 13.0366 - precision: 0.1823 - recall: 1.000 - ETA: 0s - loss: 13.0300 - precision: 0.1827 - recall: 1.000 - ETA: 0s - loss: 13.0396 - precision: 0.1821 - recall: 1.000 - 1s 15us/step - loss: 13.0450 - precision: 0.1817 - recall: 1.0000\n",
      "Epoch 99/100\n",
      "42511/42511 [==============================] - ETA: 0s - loss: 13.0461 - precision: 0.1817 - recall: 1.0000- ETA: 0s - loss: 13.0213 - precision: 0.1832 - recall: 1.000 - ETA: 0s - loss: 13.0055 - precision: 0.1842 - recall: 1.000 - ETA: 0s - loss: 13.0308 - precision: 0.1826 - recall: 1.000 - ETA: 0s - loss: 13.0180 - precision: 0.1834 - recall: 1.000 - ETA: 0s - loss: 13.0296 - precision: 0.1825 - recall: 1.000 - ETA: 0s - loss: 13.0392 - precision: 0.1821 - recall: 1.000 - ETA: 0s - loss: 13.0626 - precision: 0.1806 - recall: 1.000 - ETA: 0s - loss: 13.0434 - precision: 0.1818 - recall: 1.000 - ETA: 0s - loss: 13.0409 - precision: 0.1820 - recall: 1.000 - ETA: 0s - loss: 13.0303 - precision: 0.1827 - recall: 1.000 - ETA: 0s - loss: 13.0247 - precision: 0.1830 - recall: 1. - 1s 17us/step - loss: 13.0450 - precision: 0.1817 - recall: 1.0000\n",
      "Epoch 100/100\n",
      "42511/42511 [==============================] - 1s 16us/step - loss: 13.0450 - precision: 0.1817 - recall: 1.0000: 0s - loss: 13.1026 - precision: 0.1781 - recall: 1.000 - ETA: 0s - loss: 13.0626 - precision: 0.1806 - recall: 1.00 - ETA: 0s - loss: 13.0234 - precision: 0.1831 - recall: 1 - ETA: 0s - loss: 13.0392 - precision: 0.1821 - recall: 1.0 - ETA: 0s - loss: 13.0253 - precision: 0.1830 - recall: 1.000 - ETA: 0s - loss: 13.0372 - precision: 0.1822 - recall: 1.000\n"
     ]
    }
   ],
   "source": [
    "inputl:inp[`shape pykw enlist 177]\n",
    "output:dense[1;`activation pykw `softmax][inputl]\n",
    "modl:models[`inputs pykw inputl;`outputs pykw output]\n",
    "modl[`:compile][`optimizer pykw \"adam\";`loss pykw \"binary_crossentropy\";`metrics pykw (km[`:binary_precision][]`;km[`:binary_recall][]`)]\n",
    "\n",
    "res:modl[`:fit][array[xtr];ytr;`batch_size pykw 100;`verbose pykw 1;`epochs pykw 100];\n"
   ]
  },
  {
   "cell_type": "code",
   "execution_count": 35,
   "metadata": {},
   "outputs": [
    {
     "name": "stdout",
     "output_type": "stream",
     "text": [
      "1 1 1 1 1 1 1 1 1 1 1 1 1 1 1 1 1 1 1 1 1 1 1 1 1 1 1 1 1 1 1 1 1 1 1 1 1 1 1..\n"
     ]
    }
   ],
   "source": [
    "show nnPred:raze(modl[`:predict]array[mattab xtest])`"
   ]
  },
  {
   "cell_type": "code",
   "execution_count": 36,
   "metadata": {},
   "outputs": [
    {
     "name": "stdout",
     "output_type": "stream",
     "text": [
      "loss     | 13.045    13.045    13.045    13.045    13.045    13.045    13.045..\n",
      "precision| 0.1817412 0.1817412 0.1817412 0.1817412 0.1817412 0.1817604 0.1817..\n",
      "recall   | 1         1         1         1         1         1         1     ..\n",
      "loss     | 13.045    13.045    13.045    13.045    13.045    13.045    13.045..\n",
      "precision| 0.1817412 0.1817412 0.1817412 0.1817412 0.1817412 0.1817604 0.1817..\n",
      "recall   | 1         1         1         1         1         1         1     ..\n"
     ]
    },
    {
     "data": {
      "image/png": "[encoded data removed]",
      "text/plain": [
       "<Figure size 460.8x345.6 with 1 Axes>"
      ]
     },
     "metadata": {},
     "output_type": "display_data"
    }
   ],
   "source": [
    "show hist:6#(res[`:history]`)\n",
    "\n",
    "plt[`:plot]hist`loss;\n",
    "plt[`:plot]hist`val_loss;\n",
    "plt[`:title]\"model loss\";\n",
    "plt[`:ylabel]\"loss\";\n",
    "plt[`:xlabel]\"epoch\";\n",
    "plt[`:show][];"
   ]
  },
  {
   "cell_type": "code",
   "execution_count": 37,
   "metadata": {},
   "outputs": [
    {
     "name": "stdout",
     "output_type": "stream",
     "text": [
      "0| 23085 2640\n",
      "1| 0     0   \n"
     ]
    },
    {
     "data": {
      "image/png": "[encoded data removed]",
      "text/plain": [
       "<Figure size 720x720 with 1 Axes>"
      ]
     },
     "metadata": {},
     "output_type": "display_data"
    }
   ],
   "source": [
    "show cnfM:.ml.confmat[ytest;0.5>nnPred]\n",
    ".ml.displayCM[value cnfM;`Low`High;\"Test Set Confusion Matrix\";()]"
   ]
  },
  {
   "cell_type": "code",
   "execution_count": null,
   "metadata": {},
   "outputs": [],
   "source": []
  }
 ],
 "metadata": {
  "kernelspec": {
   "display_name": "Q (kdb+)",
   "language": "q",
   "name": "qpk"
  },
  "language_info": {
   "file_extension": ".q",
   "mimetype": "text/x-q",
   "name": "q",
   "version": "3.6.0"
  }
 },
 "nbformat": 4,
 "nbformat_minor": 2
}
