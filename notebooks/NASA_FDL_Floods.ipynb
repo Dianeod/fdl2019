{
 "cells": [
  {
   "cell_type": "markdown",
   "metadata": {},
   "source": [
    "# Machine Learning Demonstration"
   ]
  },
  {
   "cell_type": "markdown",
   "metadata": {},
   "source": [
    "## NASA Frontier Development Lab - Disaster Prevention, Progress and Response (Floods)"
   ]
  },
  {
   "cell_type": "markdown",
   "metadata": {},
   "source": [
    "Floods are the most destructive and dangerous natural disasters worldwide. All regions can be affected by flooding events and, with the increased variability in weather patterns due to global warming, this is likely to become even more prelevant. The speed at which flooding events can occur, and difficulties in predicting their occurrance, create huge logistic problems for both governmental and non-governmental agencies. Over the past 10 years, floods have caused on average 95 deaths a year in the US alone, making them the deadliest weather related phenomenon. Worldwide, floods cost in excess of 40 Billion dollars per year, impacting property, agriculture and the health of individuals.\n",
    "\n",
    "During the duration of the project, we collaborated with United States Geological Survey (USGS), a scientific agency within the US Department of the Interior. The objective of the organization is to study the landscape of the US and provide information about its natural resources and the natural hazards that affect them. Currently, hydrologists use physical models to help predict floods. These models require predictions to be carefully calibrated for each stream or watershed and careful consideration must be taken for dams, levees etc. Producing these models is extremely costly due to resource requirements. This limits the areas within the US that can avail of such systems to better prepare for flood events.\n",
    "\n",
    "\n",
    "To predict the flood susceptibility of a stream area, the project was separated into two distinct problems.\n",
    "\n",
    "Monthly Model\n",
    "\n",
    "Predicting, per month, if a stream height will reach a flood threshold or not. These flood thresholds were set by the National Oceanic and Atmospheric Administration (NOAA) and were location specific. Knowing which areas are susceptible to flooding, allow locations to better prepare for a flood event.\n",
    "\n",
    "Time to Peak Model\n",
    "\n",
    "Predicting the time to peak of a flood event. When a major rain event occurs, knowing how long it will take for a river to reach its peak height is necessary in order to inform potentially affected individuals if and when they need to evacuate. This can help to reduce structural damage and loss of life during a disaster.\n",
    "\n"
   ]
  },
  {
   "cell_type": "markdown",
   "metadata": {},
   "source": [
    "## The Data"
   ]
  },
  {
   "cell_type": "markdown",
   "metadata": {},
   "source": [
    "This project focused on 6 states within the US, over a period of 10 years. Data was taken from ~800 gauge sites, between July 2009 and June 2019. Not all gauge sites had continuous historical data over the period, but all the available data for each site was used.\n",
    "\n",
    "The 6 states were:\n",
    "\n",
    "    -New Jersey\n",
    "    -Nebraska\n",
    "    -South Carolina\n",
    "    -New York\n",
    "    -South Dakota\n",
    "    -Virginia\n",
    "    \n",
    "A primary reason for choosing these states, was that each exhibits similar climate and landscape. Focusing on similar geographies helped to ensure that the models produced were precise.\n",
    "\n",
    "Other required datasets and providers:\n",
    "\n",
    "**USGS**\n",
    "\n",
    "This consists of the height of a stream as measured by gauges for over 11,000 sites in the US. The data is updated every 15 minutes, with some locations having historical data for over 50 years. \n",
    "\n",
    "**PRISM**\n",
    "\n",
    "The PRISM Climate Group provides climate observations across the whole of the US. This dataset was used to extract daily precipitation readings from the site locations for each day during the requested 10 year period.\n",
    "\n",
    "**National Land Cover Database (NLCD)**\n",
    "\n",
    "The NLCD database was collected using Landsat. This provides information such as land-use classification (urban, agriculture, forest, etc.), how well the land allows water to pass through it (impervious surface information) and tree cover. This dataset has updated records every 5 years from 2006.\n",
    "\n",
    "**National Hydrology Dataset Plus (NHDPlus)**\n",
    "\n",
    "NHDPlus is a geo-spatial hydrologic framework dataset associated with USGS. The features used from this dataset were the catchment and drainage area characteristics at the stream site locations. \n",
    "\n",
    "**Flooded Locations And Simulated Hydrographs Project (FLASH)**\n",
    "\n",
    "FLASH is a database containing information about flood events within the US. The information used from this dataset was the time taken for a river to reach its peak height after a major rain event.\n",
    "\n",
    "**NOAA**\n",
    "\n",
    "NOAA is a US governmental agency for monitoring and preserving the climate and environment. This dataset provided flood level thresholds for locations across the US. These thresholds consisted of four warning stages and the river height for a given location that causes them to reach these levels. The four warning stages were:"
   ]
  },
  {
   "cell_type": "markdown",
   "metadata": {},
   "source": [
    "|Warning |Meaning                                                                                     |\n",
    "|--------|-------                                                                                     |\n",
    "|Action  |\tMitigation action needs to be taken in order to prepare for possible hydrological activity|\n",
    "|Flood\t |The river height poses a threat to lives, property and businesses|\n",
    "|Moderate| \tSome inundation of roads or buildings. A flood warning should be released|\n",
    "|Major\t |Extensive inundation of roads and buildings. Considerable evacuations of areas may occur|\n",
    "\n",
    "\n",
    "A more indepth discussion on these dataspurces can be found within the associated whitepaper."
   ]
  },
  {
   "cell_type": "markdown",
   "metadata": {},
   "source": [
    "An implementation describing how to download the stream gauge height data from USGS over the 10 year period can be found in the stream.q file"
   ]
  },
  {
   "cell_type": "markdown",
   "metadata": {},
   "source": [
    "## Load Required Libraries"
   ]
  },
  {
   "cell_type": "code",
   "execution_count": 1,
   "metadata": {},
   "outputs": [],
   "source": [
    "// Load the machine learning toolkit\n",
    "\\l ml/ml.q \n",
    ".ml.loadfile`:init.q\n",
    "\n",
    "// Load flood data and associated code\n",
    "\\l ../floods.q\n",
    ".fld.loadfile`:init.q"
   ]
  },
  {
   "cell_type": "markdown",
   "metadata": {},
   "source": [
    "### Cleaning up the Dataset "
   ]
  },
  {
   "cell_type": "markdown",
   "metadata": {},
   "source": [
    "As the datasets came from a variety of different sources, cleaning up the data to make them consistent was an important initial task before any feature engineering could be done.\n",
    "\n",
    "The id number of each stream site consisted of over 8 digits. Any containing less digits was front loaded with 0's. \n",
    "\n",
    "Any nulls or infinity values from the dataset were also deleted."
   ]
  },
  {
   "cell_type": "code",
   "execution_count": 2,
   "metadata": {},
   "outputs": [],
   "source": [
    "del:{![x;enlist (=;y;z);0b;`symbol$()]}\n",
    "conv7_fn:{`$$[7=count x;\"0\",;]x}\n",
    "precip:update conv7_fn each string each site_no from del[precipall;`ppt;0n]\n",
    "maxht :update conv7_fn each site_no from del[max_ht_str;`height;neg[0w]]"
   ]
  },
  {
   "cell_type": "markdown",
   "metadata": {},
   "source": [
    "The index for each location within the NOAA threshold dataset was also added. This indexing was added for joining tables based on nearest neighbours, which will be seen in a later section of the notebook."
   ]
  },
  {
   "cell_type": "code",
   "execution_count": 3,
   "metadata": {},
   "outputs": [],
   "source": [
    "warning:update nn:i from warnings"
   ]
  },
  {
   "cell_type": "markdown",
   "metadata": {},
   "source": [
    "The PRISM dataset had a location site id limit of 12 digits, any digits over this limit were excluded. To not lose datapoints, the remaining digits were manually added back in. This was achieved by extracting all ids from the stream gauge dataset. The first 12 digits of each id that exceeded the cut off limit was used to match site ids from the PRISM dataset to its correct form.\n",
    "\n",
    "Two of the unique ids had the same initial 12 digits, meaning their latitude and longitude had to be taken into account in order to correctly match the ids. This was done below in `matchnames` by manually searching what id this occured at, and extracting the indices in the table, grouping them by their unique latitude and longitude values, that corresponded to this PRISM id."
   ]
  },
  {
   "cell_type": "code",
   "execution_count": 4,
   "metadata": {},
   "outputs": [],
   "source": [
    "rms  :asc ds where 12<count each ds:string exec distinct site_no from gauges \n",
    "names:0!select i by site_no from precip where site_no in `$12#'rms\n",
    "\n",
    "// What's so special about the 20'th x of the names table?\n",
    "//when some digits are cut off the prism data,two of the id numbers become equal.\n",
    "//i.e before getting cut off the id's could be 111123,111134,after exlclusion of last 2 digits are then 1111\n",
    "//I had to hand pick where this occured why is why in lst2, ind 20 is excluded because this is where it occurs,\n",
    "//in lst1, 21 and 22 are exclued because this is what the actual ids should be\n",
    "//matchnames then gets the index that these occur at because they have to be matched off their unique lat&long\n",
    "matchnames:0!select i by lat,long from precip where i in names[`x][20]\n",
    "\n",
    "lst1:til[26]except 21 22\n",
    "lst2:til[25]except 20\n",
    "\n",
    "// i1 if ascending is exactly equivalent to `$asc rms[til 26] why is this ordering important\n",
    "// needed to be in that order to correctly match indices in the table with their correct id\n",
    "i1:`$rms[lst1],rms[21 22]\n",
    "// i2 similar thing why was there a need to deal with the 20th x differently and add on?\n",
    "i2:(names[`x]lst2),matchnames`x\n",
    "\n",
    "precip:{![x;enlist(in;`i;z);0b;enlist[`site_no]!enlist enlist y]}/[precip;i1;i2]"
   ]
  },
  {
   "cell_type": "markdown",
   "metadata": {},
   "source": [
    "## Feature Engineering"
   ]
  },
  {
   "cell_type": "markdown",
   "metadata": {},
   "source": [
    "Given the data available, it was possible to split the information into three datasets\n",
    "\n",
    "1. Ungauged basin: Information available at sites that do not contain stream gauge or future forecasting information. Data was limited to land use, past rainfall and upstream information.\n",
    "\n",
    "\n",
    "2. Gauged basin: All information contained within the ungauged basin dataset, as well as stream gauge information. This included previous river heights and lagged/aggregated flooding information.\n",
    "\n",
    "\n",
    "3. Perfect Forecasts: All information contained within the gauged basin dataset, as well as precipitation information around the time of the event."
   ]
  },
  {
   "cell_type": "markdown",
   "metadata": {},
   "source": [
    "Seasonal Information plays an important role when predicting if an area will flood and how long it will take. This seasonality was captured by using sine and cosine functions to transform the month of the year that the event occured. The latitude and longitude of the stream sites represented in their x,y and z coordinates were also included.\n",
    "\n",
    "Because the NLCD dataset is updated every 5 years starting from 2006, an additional `nlcdyear` column was added to the dataset which was used to aid joining between the precipitation and NLCD dataset. This column indicated which NLCD dataset was to be joined to each row by creating an upper year bound. For example, an event that occured before 2011 was joined to the 2006 NLCD dataset, an event that occured before 2016 was joined to the 2011 dataset."
   ]
  },
  {
   "cell_type": "code",
   "execution_count": 5,
   "metadata": {},
   "outputs": [],
   "source": [
    "pi:acos -1\n",
    "// why is this naming convention used?\n",
    "// x,y,z is the x, y z coordinates in relation to lat and long\n",
    "precip:update x:cos(lat)*cos(long),y:cos(lat)*sin(long),z:sin(lat) from precip\n",
    "precip:`date xasc update month:`mm$date from precip\n",
    "// why are sine and cosine months important? any reason for the 1->0 ... 12->11 vs. using 1->12 as months?\n",
    "//Followed a formula online, the neg[1] is just a more convenient convention used when looking at cyclical values\n",
    "//I found differnt formulas that used division by 11 or 12. Both can be changed if looks nicer and less complicated\n",
    "precip:update cos_t:cos 2*pi*(month-1)%11,sin_t:sin 2*pi*(month-1)%11 from precip\n",
    "// what is the reason for this standarization decision?\n",
    "//This is used later on for joining the tables with the appropriate basin characteristic table.\n",
    "//this is because the tables are updated every 5 years so this is how we decided what NLCD tables to join with the\n",
    "//precip data based on date\n",
    "nlcdyear:{$[x<2011;6;x<2016;11;16]}each `year$precip[`date]\n",
    "precip:update year:nlcdyear from precip"
   ]
  },
  {
   "cell_type": "markdown",
   "metadata": {},
   "source": [
    "To obtain these features, the feat function was used to extract previous information along with windowed features. This function takes the following parameters as input:\n",
    "\n",
    "\n",
    "feat:\n",
    "\n",
    "`x`    table that's being updated\n",
    "\n",
    "`y`    how many values to calculate (integer list)\n",
    "\n",
    "`z`    column to apply the function to (symbol)\n",
    "        \n",
    "`col`  new column name (symbol)\n",
    "        \n",
    "`d`    dictionary of where, groupby and what type of functional statement is used\n",
    "        \n",
    "`fnc`  function that is applied to the grouped columns\n"
   ]
  },
  {
   "cell_type": "code",
   "execution_count": 6,
   "metadata": {},
   "outputs": [],
   "source": [
    "colname:{enlist`$string[y],\"_\",string[x],\"_\",string[z]}\n",
    "max_mavg:{(max;(mavg;y;x))}\n",
    "prv:{(xprev;y;x)}\n",
    "\n",
    "// concerned that these functions do too much\n",
    "//can be seperated into 2 separate functions,extracting window features and previous values if easier to understand?\n",
    "//showed in the cell below, looks similar but is easier to identify what features is actually being extracted?\n",
    "\n",
    "func:{[x;y;z;b]raze{[x;y;z;b]colname[x;y;z]!enlist b[x;z]}[z;y;;b]each raze x}\n",
    "feat:{[x;y;z;col;d;fnc] d[`w][x;d`wh;d`gr;$[1<count[z];raze;]func[y;col;;fnc]each z]}"
   ]
  },
  {
   "cell_type": "code",
   "execution_count": null,
   "metadata": {},
   "outputs": [],
   "source": [
    "//\n",
    "//do not run\n",
    "/alternative extracting features function\n",
    "/func:{[x;y;z;b]raze{[x;y;z;b]colname[x;y;z]!enlist b[x;z]}[z;y;;b]each raze x}\n",
    "/feat:{[x;y;z;wh;gr;col;w;f]w[x;wh;gr;$[1<count[z];raze;]func[y;col;;f]each z]}\n",
    "\n",
    "/window_feat:{[x;y;z;wh;gr;col;w]feat[x;y;z;wh;gr;col;w;m_avg]}\n",
    "/prev_col:{[x;y;z;gr;col]feat[x;y;z;();gr;col;!;prv]}"
   ]
  },
  {
   "cell_type": "markdown",
   "metadata": {},
   "source": [
    "To obtain the upstream values the feat function was used. The id number of each stream site consisted of over 8 digits. The first two digits were the grouping number of the river basin catchment. While the remaining digits were in ascending order based on the location of the gauge along the stream."
   ]
  },
  {
   "cell_type": "code",
   "execution_count": 7,
   "metadata": {},
   "outputs": [],
   "source": [
    "catch_site:((';#);2;($:;`site_no))\n",
    "site_date:`site_no`date!(catch_site;`date)\n",
    "dict:`w`wh`gr!(!;();site_date)\n",
    "upstr_ppt:feat[precip;1;`ppt;`upstr;dict;prv]\n",
    "upstr_height:feat[maxht;1;`height;`upstr;dict;prv]"
   ]
  },
  {
   "cell_type": "markdown",
   "metadata": {},
   "source": [
    "The feat function was also used to obtain previous values of both rainfall and stream gauge height readings before each date, for both the current location and sites upstream."
   ]
  },
  {
   "cell_type": "code",
   "execution_count": 8,
   "metadata": {},
   "outputs": [],
   "source": [
    "dict[`gr]:site:(enlist `site_no)!enlist `site_no\n",
    "prev_rain:feat[upstr_ppt;enlist 1_til 10;`ppt`upstr_ppt_1;`prev;sited:dict;prv]\n",
    "all_height:feat[upstr_height;enlist 1_til 10;`height`upstr_height_1;`prev;dict;prv]"
   ]
  },
  {
   "cell_type": "markdown",
   "metadata": {},
   "source": [
    "The above features were applicable to both aspects of this project. However, additional features that were problem specific were also added."
   ]
  },
  {
   "cell_type": "markdown",
   "metadata": {},
   "source": [
    "### Monthly Models"
   ]
  },
  {
   "cell_type": "markdown",
   "metadata": {},
   "source": [
    "When forecasts are provided for each model, knowing how the average rainfall will change over differnet window sizes for each month is a feature that can be added to the dataset."
   ]
  },
  {
   "cell_type": "code",
   "execution_count": 9,
   "metadata": {},
   "outputs": [],
   "source": [
    "dict[`gr]:(`date`site_no)!(($;enlist`month;`date);`site_no)\n",
    "all_rain:feat[prev_rain;enlist 1_til 15;`ppt`upstr_ppt_1;`window;dict;max_mavg]"
   ]
  },
  {
   "cell_type": "markdown",
   "metadata": {},
   "source": [
    "By taking the first day of each month at a site, it was possible to obtain the maximum moving averages of precipitation for different window sizes for a given month, along with the precipitation and height values for the last few days of the month prior."
   ]
  },
  {
   "cell_type": "code",
   "execution_count": 10,
   "metadata": {},
   "outputs": [],
   "source": [
    "height_data:update date:\"m\"$date from select from all_height where 1=`dd$date\n",
    "rain_data:update date:\"m\"$date from select from all_rain where 1=`dd$date"
   ]
  },
  {
   "cell_type": "markdown",
   "metadata": {},
   "source": [
    "This stream height and rain data were joined based on site number and month to create `monthly_data`"
   ]
  },
  {
   "cell_type": "code",
   "execution_count": 11,
   "metadata": {},
   "outputs": [],
   "source": [
    "monthly_data:height_data ij`site_no`date xkey rain_data"
   ]
  },
  {
   "cell_type": "markdown",
   "metadata": {},
   "source": [
    "### Time to Peak Model"
   ]
  },
  {
   "cell_type": "markdown",
   "metadata": {},
   "source": [
    "For the time to peak dataset the daily rain and height data is joined to the FLASH dataset based on the site number and date along with the stream_char dataset."
   ]
  },
  {
   "cell_type": "code",
   "execution_count": 12,
   "metadata": {},
   "outputs": [],
   "source": [
    "peak_data:(peak ij`date`site_no xkey prev_rain)ij`date`site_no xkey all_height"
   ]
  },
  {
   "cell_type": "markdown",
   "metadata": {},
   "source": [
    "The hours before a flood event can provide important information on how quickly the stream gauge height is moving. This is incredibly useful to a model predicting how long it will take for the stream to reach its peak height. The information extracted at a given stream location, comprised of the maximum moving averages over different bucket sizes for the two days before the event. This was found using stream height data from USGS, which was updated at 15 minute intervals.\n",
    "\n",
    "To make the times from the stream height dataset consistent with the FLASH dataset, the times were converted to be time zone agnostic.\n",
    "\n",
    "These zones consist of \n",
    "\n",
    "    -EDT: Eastern Daylight Time\n",
    "    -CDT: Central Daylight Time\n",
    "    -EST: Eastern Standard Time"
   ]
  },
  {
   "cell_type": "code",
   "execution_count": 13,
   "metadata": {},
   "outputs": [],
   "source": [
    "time_zone:raze{dd:x[1];si:x[0];\n",
    "          select `$first site_no,`$first unk from str where date=first dd,si=`$site_no}each \n",
    "          value each 0!select date by distinct site_no from peak_data;\n",
    "peak_data:peak_data ij`site_no xkey time_zone\n",
    "change_zone:{$[y=`EDT;x-04:00;y=`CDT;x-05:00;x-06:00]}"
   ]
  },
  {
   "cell_type": "markdown",
   "metadata": {},
   "source": [
    "This transformation was applied to the start, end and peak-time of the event. The date also needed to be updated in some cases to coincide with the time change."
   ]
  },
  {
   "cell_type": "code",
   "execution_count": 14,
   "metadata": {},
   "outputs": [],
   "source": [
    "peak_data[`start_time`end_time`peak_time]:change_zone''[;peak_data`unk]each peak_data`start_time`end_time`peak_time\n",
    "peak_data[`date]:`date$peak_data`start_time"
   ]
  },
  {
   "cell_type": "markdown",
   "metadata": {},
   "source": [
    "The previous hours before the flood event occurs can show information on how quickly the stream gauge height is moving which can be useful to the model in predicting how long it will take to peak. To do this the 2 days before the event are extracted, and moving averages of different sizes are applied to the stream height dataset"
   ]
  },
  {
   "cell_type": "code",
   "execution_count": 15,
   "metadata": {},
   "outputs": [],
   "source": [
    "range:{(within;x;(,;(+;(-:;2);y);y))}\n",
    "wh:{(range[`date;x[1]];range[`datetime;x[2]];(=;x[0];($;enlist`;`site_no)))}\n",
    "dict:{`w`wh`gr!(?;wh x;0b)}\n",
    "wind_ht_prev:{feat[str;enlist 2 4 12 48;`height;`wind_prev;dict x;max_mavg]}each \n",
    "             flip peak_data[`site_no`date`start_time]"
   ]
  },
  {
   "cell_type": "markdown",
   "metadata": {},
   "source": [
    "This was joined back to the dataset with any nulls or infinity values excluded"
   ]
  },
  {
   "cell_type": "code",
   "execution_count": 16,
   "metadata": {},
   "outputs": [],
   "source": [
    "peak_data:peak_data,'raze wind_ht_prev\n",
    "peak_data:del[peak_data;`wind_prev_height_2;neg[0w]]"
   ]
  },
  {
   "cell_type": "markdown",
   "metadata": {},
   "source": [
    "For models that use rain forecasts, information about the projected rainfall in the days following the event, were also extracted and joined onto the dataset"
   ]
  },
  {
   "cell_type": "code",
   "execution_count": 17,
   "metadata": {},
   "outputs": [],
   "source": [
    "wh:{((within;`date;(,;y[1];(+;y[1];x)));(=;y[0];`site_no))}\n",
    "dict:{`w`wh`gr!(?;wh[x;y];0b)}\n",
    "rain_pred:{feat[all_rain;enlist 1_til x;`ppt`upstr_ppt_1;`fut_window;dict[x;y];max_mavg]}[3]\n",
    "          each flip peak_data[`site_no`date]\n",
    "peak_data:peak_data,'raze rain_pred"
   ]
  },
  {
   "cell_type": "markdown",
   "metadata": {},
   "source": [
    "## Target Data"
   ]
  },
  {
   "cell_type": "markdown",
   "metadata": {},
   "source": [
    "### Monthly Models"
   ]
  },
  {
   "cell_type": "markdown",
   "metadata": {},
   "source": [
    "The target data used in this case was the Flood level warning, extracted from the NOAA dataset.\n",
    "\n",
    "The latitude and longitude of these provided thresholds did not exactly match the stream gauge locations. As such, the latitudes and longitudes of both the stream locations and NOAA threshold readings were joined using a k-dimensional tree (kd-tree) nearest neighbours algorithm. "
   ]
  },
  {
   "cell_type": "code",
   "execution_count": 18,
   "metadata": {
    "scrolled": true
   },
   "outputs": [],
   "source": [
    "wlatl:raze each warning[`Latitude`Longitude],'gauges[`dec_lat_va`dec_long_v]\n",
    "tabw:kd.buildtree[wlatl;2]\n",
    "gauge_val:count[warning]+til count gauges\n",
    "nnwarn:kd.nns[;tabw;(count[warning]#0),count[gauges]#1;flip wlatl;`edist]each gauge_val"
   ]
  },
  {
   "cell_type": "markdown",
   "metadata": {},
   "source": [
    "A table was created indicating the nearest neighbour threshold location for each stream site. The index of the nearest neighbour was added as a column so that the `maxht` table could be joined to the NOAA threshold data based on it's nearest location."
   ]
  },
  {
   "cell_type": "code",
   "execution_count": 19,
   "metadata": {},
   "outputs": [],
   "source": [
    "joins:([site_no:gauges`site_no]nn:nnwarn[;0];ndw:nnwarn[;1])\n",
    "floodlvl:(maxht ij joins)lj`nn xkey warning\n",
    "floodlvl[`Action`Moderate`Flood`Major]:\"F\"$'floodlvl[`Action`Moderate`Flood`Major]"
   ]
  },
  {
   "cell_type": "markdown",
   "metadata": {},
   "source": [
    "This dataset was then joined onto the stream gauge data, adding columns counting the number of times a given stream gauge reached each warning level per month.\n"
   ]
  },
  {
   "cell_type": "code",
   "execution_count": 20,
   "metadata": {},
   "outputs": [
    {
     "name": "stdout",
     "output_type": "stream",
     "text": [
      "site_no  date    Action Flood Moderate Major no_Action no_Flood no_Mod no_Major\n",
      "-------------------------------------------------------------------------------\n",
      "01200000 2009.07 6      9     10       12    0         0        0      0       \n",
      "01200000 2009.08 6      9     10       12    0         0        0      0       \n",
      "01200000 2009.09 6      9     10       12    0         0        0      0       \n",
      "01200000 2009.10 6      9     10       12    0         0        0      0       \n",
      "01200000 2009.11 6      9     10       12    0         0        0      0       \n",
      "01200000 2009.12 6      9     10       12    0         0        0      0       \n",
      "01200000 2010.01 6      9     10       12    0         0        0      0       \n",
      "01200000 2010.02 6      9     10       12    0         0        0      0       \n",
      "01200000 2010.03 6      9     10       12    1         0        0      0       \n",
      "01200000 2010.04 6      9     10       12    0         0        0      0       \n",
      "01200000 2010.05 6      9     10       12    0         0        0      0       \n",
      "01200000 2010.06 6      9     10       12    0         0        0      0       \n",
      "01200000 2010.07 6      9     10       12    0         0        0      0       \n",
      "01200000 2010.08 6      9     10       12    0         0        0      0       \n",
      "01200000 2010.09 6      9     10       12    0         0        0      0       \n",
      "01200000 2010.10 6      9     10       12    0         0        0      0       \n",
      "01200000 2010.11 6      9     10       12    0         0        0      0       \n",
      "01200000 2010.12 6      9     10       12    0         0        0      0       \n",
      "01200000 2011.01 6      9     10       12    0         0        0      0       \n",
      "01200000 2011.02 6      9     10       12    0         0        0      0       \n",
      "..\n"
     ]
    }
   ],
   "source": [
    "show threshold:0!select first Action,first Flood,first Moderate,first Major,no_Action:count where height>Action\n",
    "              ,no_Flood:count where height>Flood,no_Mod:count where height>Moderate,no_Major:count where \n",
    "               height>Major by site_no,\"m\"$date from floodlvl"
   ]
  },
  {
   "cell_type": "markdown",
   "metadata": {},
   "source": [
    "\n",
    "For the sake of this project, we only wanted to focus on the \"Flood\" stage. This level was chosen in an attempt to achieve a more balanced dataset while still predicting a meaningful target. Choosing either of the more severe levels would result in a very low number of targets making it more difficult to discern events of interest. Our target data was a binary label denoting whether the flood warning level was reached in a given month. Any site that claimed to flood more than 28 days per month were omitted from the dataset as we only wanted to focus on events that occured infrequently and were more difficult to predict."
   ]
  },
  {
   "cell_type": "code",
   "execution_count": 21,
   "metadata": {},
   "outputs": [],
   "source": [
    "threshold:select from threshold where no_Flood<28\n",
    "threshold[`target]:threshold[`no_Flood]>0"
   ]
  },
  {
   "cell_type": "markdown",
   "metadata": {},
   "source": [
    "### Time to Peak Model"
   ]
  },
  {
   "cell_type": "markdown",
   "metadata": {},
   "source": [
    "The FLASH dataset was then used for the time to peak model, which highlights how long it will take a stream gauge location to reach its peak height after the rain event.\n",
    "\n",
    "Only dates within the 10 year period and site numbers within the 6 states mentioned were included. The target data was calculated by subtracting the start-time (denoted by the start of a major rainfall event at the location) from the time that the peak height was found to occur."
   ]
  },
  {
   "cell_type": "code",
   "execution_count": 22,
   "metadata": {},
   "outputs": [],
   "source": [
    "peak_data[`delta_peak]:(peak_data[`peak_time]-peak_data[`start_time])*24"
   ]
  },
  {
   "cell_type": "markdown",
   "metadata": {},
   "source": [
    "This was then converted into a binary classification problem by setting a threshold for a 'flash flood' at 3.5 hours after the major rainfall event. Any time above this was set to 0b and less than this time was 1b. This threshold was chosen after discussions with hydrologists, who found this to be a reasonable split in the dataset."
   ]
  },
  {
   "cell_type": "code",
   "execution_count": 23,
   "metadata": {},
   "outputs": [],
   "source": [
    "peak_data[`target]:peak_data[`delta_peak]<3.5"
   ]
  },
  {
   "cell_type": "markdown",
   "metadata": {},
   "source": [
    "## Joining the characteristics tables "
   ]
  },
  {
   "cell_type": "markdown",
   "metadata": {},
   "source": [
    "The basin characteristics and NLCD landcover dataset were joined based by site_no (stream site id) to create the `stream_char` dataset. This was then joined to the `monthly_data`and `peak_data` tables based on site number and year. The flood threshold target data created above, was also joined to the monthly dataset by site_no and date."
   ]
  },
  {
   "cell_type": "code",
   "execution_count": 24,
   "metadata": {},
   "outputs": [],
   "source": [
    "stream_char:nlcd ij`site_no xkey basin\n",
    "all_peak_data:peak_data ij`site_no`year xkey stream_char\n",
    "all_monthly_data:(monthly_data ij`site_no`year xkey stream_char)ij`site_no`date xkey threshold"
   ]
  },
  {
   "cell_type": "markdown",
   "metadata": {},
   "source": [
    "### Lagged features"
   ]
  },
  {
   "cell_type": "markdown",
   "metadata": {},
   "source": [
    "For the monthly model, lagged features were then added to this dataset, which included information such as whether a flood occurred in the month or year prior."
   ]
  },
  {
   "cell_type": "code",
   "execution_count": 25,
   "metadata": {
    "scrolled": true
   },
   "outputs": [],
   "source": [
    "all_monthly_data:feat[all_monthly_data;enlist 1 12;`target;`lagged;sited;prv]\n",
    "tgts:0!select site_no,no_Flood,date,cs:count date by site_no from all_monthly_data\n",
    "all_monthly_data[`lagged_target_all]:raze{count[x]mavg raze x}each?[tgts;();();`no_Flood]"
   ]
  },
  {
   "cell_type": "markdown",
   "metadata": {},
   "source": [
    "## Train Test Split"
   ]
  },
  {
   "cell_type": "markdown",
   "metadata": {},
   "source": [
    "Any nulls were deleted from the dataset"
   ]
  },
  {
   "cell_type": "code",
   "execution_count": 26,
   "metadata": {},
   "outputs": [],
   "source": [
    "del_null:{where not any each null x}\n",
    "cleaned_monthly:all_monthly_data[del_null all_monthly_data]\n",
    "cleaned_peak:   all_peak_data[del_null all_peak_data]"
   ]
  },
  {
   "cell_type": "markdown",
   "metadata": {},
   "source": [
    "The appropriate feature columns for the monthly and time to peak models were extracted for each of the three separate datasets mentioned earlier in the notebook:\n",
    "\n",
    "1. Ungauged\n",
    "2. Gauged\n",
    "3. Perfect Forecasts\n",
    "\n",
    "\n",
    "The columns that need to be included for each of the separate datasets are contained within the `columns_to_include.q` under the following headings:\n",
    "\n",
    "1. ungauged_cols\n",
    "2. gauged_cols\n",
    "3. perfect_cols"
   ]
  },
  {
   "cell_type": "code",
   "execution_count": 27,
   "metadata": {},
   "outputs": [],
   "source": [
    "fnd_col:{x where x in y}\n",
    "ungauged_colsM:         fnd_col[ungauged_cols;cols cleaned_monthly]\n",
    "gauged_colsM:           fnd_col[gauged_cols;cols cleaned_monthly]\n",
    "perfect_forecast_colsM: fnd_col[perfect_forecast_cols;cols cleaned_monthly]\n",
    "\n",
    "ungauged_colsP:         fnd_col[ungauged_cols;cols cleaned_peak]\n",
    "gauged_colsP:           fnd_col[gauged_cols;cols cleaned_peak]\n",
    "perfect_forecast_colsP: fnd_col[perfect_forecast_cols;cols cleaned_peak]"
   ]
  },
  {
   "cell_type": "markdown",
   "metadata": {},
   "source": [
    "A dictionary was created, containing the different feature columns required to make up the above datasets for each of the monthly (M) and time to peak (P) models."
   ]
  },
  {
   "cell_type": "code",
   "execution_count": 28,
   "metadata": {},
   "outputs": [],
   "source": [
    "ungauge: `M`P!(ungauged_colsM;ungauged_colsP)\n",
    "gauge:   `M`P!(ungauge[`M],gauged_colsM;ungauge[`P],gauged_colsP)\n",
    "forecast:`M`P!(gauge[`M],perfect_forecast_colsM;gauge[`P],perfect_forecast_colsP)"
   ]
  },
  {
   "cell_type": "markdown",
   "metadata": {},
   "source": [
    "These dictionaries were then used to extract the appropriate columns from each table, to make them suitable inputs to machine learning models. This was achieved by using the `split_dict` function which takes a table as input, aswell as `M` or `P`, indicating which model was being used. The function returns a dictionary containing the matrix for each of the ungauged, gauged and perfect forecast datasets."
   ]
  },
  {
   "cell_type": "code",
   "execution_count": 29,
   "metadata": {},
   "outputs": [],
   "source": [
    "split_dict:{(!). flip(\n",
    "  (`ungauged;flip x[ungauge[y]]);\n",
    "  (`gauged;flip x[gauge[y]]);\n",
    "  (`forecast;flip x[forecast[y]]))}"
   ]
  },
  {
   "cell_type": "markdown",
   "metadata": {},
   "source": [
    "### Monthly Model"
   ]
  },
  {
   "cell_type": "markdown",
   "metadata": {},
   "source": [
    "When splitting the data for this model, it was deemed important that no time leakage occurred between the training and test sets (e.g. the training set contained information from 2009 to 2017, while the test set contained the remaining years). This ensured that the model was being tested in a way that was similar to a real-world deployment. A split was chosen so that 20 percent of the data for each site was in the test set. The `split_dict` function was used to create the `XtrainM` and `XtestM` datasets"
   ]
  },
  {
   "cell_type": "code",
   "execution_count": 30,
   "metadata": {},
   "outputs": [],
   "source": [
    "cutoff:update cutoff:min[date]+floor 0.8*max[date]-min[date] by site_no from cleaned_monthly\n",
    "XtrainMi:select from cutoff where date<cutoff\n",
    "ytrainM:exec target from cutoff where date<cutoff\n",
    "XtestMi:select from cutoff where date>=cutoff\n",
    "ytestM:exec target from cutoff where date>=cutoff\n",
    "\n",
    "XtrainM:split_dict[XtrainMi;`M]\n",
    "XtestM:split_dict[XtestMi;`M]"
   ]
  },
  {
   "cell_type": "markdown",
   "metadata": {},
   "source": [
    "### Time to Peak Model"
   ]
  },
  {
   "cell_type": "code",
   "execution_count": 31,
   "metadata": {},
   "outputs": [
    {
     "data": {
      "image/png": "[encoded data removed]",
      "text/plain": [
       "<Figure size 460.8x345.6 with 1 Axes>"
      ]
     },
     "metadata": {},
     "output_type": "display_data"
    }
   ],
   "source": [
    "sites:0!select sum target by site_no from cleaned_peak\n",
    "plt[`:hist][sites`target];\n",
    "plt[`:show][];"
   ]
  },
  {
   "cell_type": "markdown",
   "metadata": {},
   "source": [
    "The time to peak data was separated so that sites did not appear in both the train and test dataset. This was done to ensure that the models being produced could be generalized to new locations. The target data was binned into a histogram as above and the train test split completed such that the distribution of targets in the training and testing sets were stratified."
   ]
  },
  {
   "cell_type": "code",
   "execution_count": 32,
   "metadata": {},
   "outputs": [],
   "source": [
    "train_test_split:.p.import[`sklearn.model_selection]`:train_test_split\n",
    "bins:0 5 15 25.0\n",
    "y_binned:bins bin`float$sites`target\n",
    "tts:train_test_split[sites[`site_no];sites[`target];`test_size pykw 0.2; `random_state pykw 607;\n",
    "    `shuffle pykw 1b;`stratify pykw y_binned]`;"
   ]
  },
  {
   "cell_type": "markdown",
   "metadata": {},
   "source": [
    "An additional column was added indicating whether each row belonged to the training or testing set."
   ]
  },
  {
   "cell_type": "code",
   "execution_count": 33,
   "metadata": {},
   "outputs": [],
   "source": [
    "cleaned_peak[`split]:`TRAIN\n",
    "peak_split:update split:`TEST from cleaned_peak where site_no in`$tts[1]"
   ]
  },
  {
   "cell_type": "markdown",
   "metadata": {},
   "source": [
    "The `split_dict` function was again used to create the `XtrainP` and `XtestP` datasets"
   ]
  },
  {
   "cell_type": "code",
   "execution_count": 34,
   "metadata": {},
   "outputs": [],
   "source": [
    "XtrainPi:select from peak_split where split=`TRAIN\n",
    "ytrainP:exec target from peak_split where split=`TRAIN\n",
    "XtestPi:select from  peak_split where split=`TEST\n",
    "ytestP:exec target from peak_split where split=`TEST\n",
    "\n",
    "XtrainP:split_dict[XtrainPi;`P]\n",
    "XtestP:split_dict[XtestPi;`P]"
   ]
  },
  {
   "cell_type": "markdown",
   "metadata": {},
   "source": [
    "## Build Models"
   ]
  },
  {
   "cell_type": "markdown",
   "metadata": {},
   "source": [
    "For both problems a variety of models were tested, but for the sake of this notebook, only models and results from an eXtreme Gradient Boost (XGBoost) and random forest classifier are presented below. These models were chosen due to their ability to deal with complex, imbalanced datasets. A more indepth discussion of these models can also be found in the associated whitepaper.\n",
    "\n",
    "\n",
    "The dictionary of models consisted of XGBoost and a random forest model, with varying hyper-parameters for each model taken as input to the model in the form of a dictionary. This dictionary contains hyper-parameters such as the number of estimators, class-weight, max_depth and learning rate associated with each model."
   ]
  },
  {
   "cell_type": "code",
   "execution_count": 35,
   "metadata": {},
   "outputs": [],
   "source": [
    "build_model:{[Xtrain;ytrain;dict]\n",
    " rf_clf:      RandomForestClassifier[`n_estimators pykw dict`rf_n;`random_state pykw 0;\n",
    "            `class_weight pykw(0 1)!(1;dict`rf_wgt)][`:fit][Xtrain; ytrain];\n",
    " xgboost_clf: xgboost_clf: XGBClassifier[`n_estimators pykw dict`xgb_n;`learning_rate pykw \n",
    "              dict`xgb_lr;`random_state pykw 0;`scale_pos_weight pykw dict`xgb_wgt;\n",
    "              `max_depth pykw dict`xgb_maxd][`:fit][np[`:array]Xtrain; ytrain];\n",
    " `random_forest`XGB!(rf_clf;xgboost_clf)}"
   ]
  },
  {
   "cell_type": "markdown",
   "metadata": {},
   "source": [
    "To visualize the results, a precision-recall curve was used, illustrating the trade off between the positive predictive value and the true positive rate over a variety of probability thresholds.\n",
    "\n",
    "A function named pr_curve was created to output the desired results from the models. This function outputs the accuracy of prediction, the meanclass accuracy, a classification report highlighting the precision and recall per class, along with a precision-recall curve. This function also returned the prediction at each location in time for the models used, this can be seen later in this paper to create a map of flooding locations.\n",
    "\n",
    "The inputs to the pr_curve function are:\n",
    "\n",
    "`Xtest`      matrix of feature values\n",
    "\n",
    "`ytest`      list of targets\n",
    "\n",
    "`dict`       dictionary of models that are being used"
   ]
  },
  {
   "cell_type": "markdown",
   "metadata": {},
   "source": [
    "## Results"
   ]
  },
  {
   "cell_type": "markdown",
   "metadata": {},
   "source": [
    "The results below were separated based on the three datasets.\n",
    "\n"
   ]
  },
  {
   "cell_type": "markdown",
   "metadata": {},
   "source": [
    "### Ungauged Prediction "
   ]
  },
  {
   "cell_type": "markdown",
   "metadata": {},
   "source": [
    "### Monthly Model"
   ]
  },
  {
   "cell_type": "code",
   "execution_count": 36,
   "metadata": {},
   "outputs": [
    {
     "name": "stdout",
     "output_type": "stream",
     "text": [
      "\n",
      "Accuracy for random_forest: 0.9392063\n",
      "\n",
      "\n",
      "Meanclass accuracy for random_forest: 0.8513272\n",
      "\n",
      "\n",
      "class    | precision recall    f1_score  support\n",
      "---------| -------------------------------------\n",
      "0        | 0.9427977 0.9949254 0.9681604 13203  \n",
      "1        | 0.7598566 0.210109  0.3291925 1009   \n",
      "avg/total| 0.8513272 0.6025172 0.6486765 14212  \n",
      "\n",
      "Accuracy for XGB: 0.9207008\n",
      "\n",
      "\n",
      "Meanclass accuracy for XGB: 0.6914636\n",
      "\n",
      "\n",
      "class    | precision recall    f1_score  support\n",
      "---------| -------------------------------------\n",
      "0        | 0.9520138 0.9631902 0.9575694 13203  \n",
      "1        | 0.4309133 0.3647175 0.3950617 1009   \n",
      "avg/total| 0.6914636 0.6639539 0.6763155 14212  \n"
     ]
    },
    {
     "data": {
      "image/png": "[encoded data removed]",
      "text/plain": [
       "<Figure size 460.8x345.6 with 1 Axes>"
      ]
     },
     "metadata": {},
     "output_type": "display_data"
    }
   ],
   "source": [
    "dict:`rf_n`rf_wgt`rf_maxd`xgb_n`xgb_lr`xgb_wgt`xgb_maxd!(200;1;8;200;.2;15;7)\n",
    "pltU1:pr_curve[XtestM`ungauged;ytestM;build_model[XtrainM`ungauged;ytrainM;dict]]"
   ]
  },
  {
   "cell_type": "markdown",
   "metadata": {},
   "source": [
    "### Time to Peak Model"
   ]
  },
  {
   "cell_type": "code",
   "execution_count": 37,
   "metadata": {
    "scrolled": false
   },
   "outputs": [
    {
     "name": "stdout",
     "output_type": "stream",
     "text": [
      "\n",
      "Accuracy for random_forest: 0.7416974\n",
      "\n",
      "\n",
      "Meanclass accuracy for random_forest: 0.7308405\n",
      "\n",
      "\n",
      "class    | precision recall    f1_score  support\n",
      "---------| -------------------------------------\n",
      "0        | 0.7452632 0.9490617 0.8349057 373    \n",
      "1        | 0.7164179 0.2840237 0.4067797 169    \n",
      "avg/total| 0.7308405 0.6165427 0.6208427 542    \n",
      "\n",
      "Accuracy for XGB: 0.7730627\n",
      "\n",
      "\n",
      "Meanclass accuracy for XGB: 0.7376155\n",
      "\n",
      "\n",
      "class    | precision recall    f1_score  support\n",
      "---------| -------------------------------------\n",
      "0        | 0.8109453 0.8739946 0.8412903 373    \n",
      "1        | 0.6642857 0.5502959 0.6019417 169    \n",
      "avg/total| 0.7376155 0.7121452 0.721616  542    \n"
     ]
    },
    {
     "data": {
      "image/png": "[encoded data removed]",
      "text/plain": [
       "<Figure size 460.8x345.6 with 1 Axes>"
      ]
     },
     "metadata": {},
     "output_type": "display_data"
    }
   ],
   "source": [
    "dict:`rf_n`rf_wgt`rf_maxd`xgb_n`xgb_lr`xgb_wgt`xgb_maxd!(100;1;17;350;.01;1.5;3)\n",
    "pltU2:pr_curve[XtestP`ungauged;ytestP;build_model[XtrainP`ungauged;ytrainP;dict]]"
   ]
  },
  {
   "cell_type": "markdown",
   "metadata": {},
   "source": [
    "The monthly model obtained the highest accuracy scores using random forests, while the time to peak model performed best for XGBoost. In both cases, random forests achieved high precision scores and low recall results. Meanwhile, XGBoost gave a slightly more balanced precision/recall result.\n",
    "\n"
   ]
  },
  {
   "cell_type": "markdown",
   "metadata": {},
   "source": [
    "## Gauged Prediction"
   ]
  },
  {
   "cell_type": "markdown",
   "metadata": {},
   "source": [
    "### Monthly Model"
   ]
  },
  {
   "cell_type": "code",
   "execution_count": 38,
   "metadata": {},
   "outputs": [
    {
     "name": "stdout",
     "output_type": "stream",
     "text": [
      "\n",
      "Accuracy for random_forest: 0.943217\n",
      "\n",
      "\n",
      "Meanclass accuracy for random_forest: 0.9163495\n",
      "\n",
      "\n",
      "class    | precision recall    f1_score  support\n",
      "---------| -------------------------------------\n",
      "0        | 0.9442374 0.9978035 0.9702817 13203  \n",
      "1        | 0.8884615 0.2289395 0.3640662 1009   \n",
      "avg/total| 0.9163495 0.6133715 0.667174  14212  \n",
      "\n",
      "Accuracy for XGB: 0.93604\n",
      "\n",
      "\n",
      "Meanclass accuracy for XGB: 0.7633167\n",
      "\n",
      "\n",
      "class    | precision recall    f1_score  support\n",
      "---------| -------------------------------------\n",
      "0        | 0.9547943 0.9774294 0.9659793 13203  \n",
      "1        | 0.5718391 0.39445   0.4668622 1009   \n",
      "avg/total| 0.7633167 0.6859397 0.7164207 14212  \n"
     ]
    },
    {
     "data": {
      "image/png": "[encoded data removed]",
      "text/plain": [
       "<Figure size 460.8x345.6 with 1 Axes>"
      ]
     },
     "metadata": {},
     "output_type": "display_data"
    }
   ],
   "source": [
    "dict:`rf_n`rf_wgt`rf_maxd`xgb_n`xgb_lr`xgb_wgt`xgb_maxd!(100;16;8;100;0.2;16;9)\n",
    "pltG1:pr_curve[XtestM`gauged;ytestM;build_model[XtrainM`gauged;ytrainM;dict]]"
   ]
  },
  {
   "cell_type": "markdown",
   "metadata": {},
   "source": [
    "### Time to Peak Model"
   ]
  },
  {
   "cell_type": "code",
   "execution_count": 39,
   "metadata": {},
   "outputs": [
    {
     "name": "stdout",
     "output_type": "stream",
     "text": [
      "\n",
      "Accuracy for random_forest: 0.7232472\n",
      "\n",
      "\n",
      "Meanclass accuracy for random_forest: 0.6982818\n",
      "\n",
      "\n",
      "class    | precision recall    f1_score  support\n",
      "---------| -------------------------------------\n",
      "0        | 0.7298969 0.9490617 0.8251748 373    \n",
      "1        | 0.6666667 0.2248521 0.3362832 169    \n",
      "avg/total| 0.6982818 0.5869569 0.580729  542    \n",
      "\n",
      "Accuracy for XGB: 0.7638376\n",
      "\n",
      "\n",
      "Meanclass accuracy for XGB: 0.7325731\n",
      "\n",
      "\n",
      "class    | precision recall    f1_score  support\n",
      "---------| -------------------------------------\n",
      "0        | 0.7868852 0.9008043 0.84      373    \n",
      "1        | 0.6782609 0.4615385 0.5492958 169    \n",
      "avg/total| 0.7325731 0.6811714 0.6946479 542    \n"
     ]
    },
    {
     "data": {
      "image/png": "[encoded data removed]",
      "text/plain": [
       "<Figure size 460.8x345.6 with 1 Axes>"
      ]
     },
     "metadata": {},
     "output_type": "display_data"
    }
   ],
   "source": [
    "dict:`rf_n`rf_wgt`rf_maxd`xgb_n`xgb_lr`xgb_wgt`xgb_maxd!(100;1;17;360;0.01;1.5;3)\n",
    "pltG2:pr_curve[XtestP`gauged;ytestP;build_model[XtrainP`gauged;ytrainP;dict]]"
   ]
  },
  {
   "cell_type": "markdown",
   "metadata": {},
   "source": [
    "Accuracy for the monthly model improved when compared with the previous predictions, whereas a decrease was observed for the time to peak model."
   ]
  },
  {
   "cell_type": "markdown",
   "metadata": {},
   "source": [
    "## Perfect Forecast"
   ]
  },
  {
   "cell_type": "markdown",
   "metadata": {},
   "source": [
    "### Monthly Model"
   ]
  },
  {
   "cell_type": "code",
   "execution_count": 40,
   "metadata": {},
   "outputs": [
    {
     "name": "stdout",
     "output_type": "stream",
     "text": [
      "\n",
      "Accuracy for random_forest: 0.9458204\n",
      "\n",
      "\n",
      "Meanclass accuracy for random_forest: 0.9194042\n",
      "\n",
      "\n",
      "class    | precision recall    f1_score  support\n",
      "---------| -------------------------------------\n",
      "0        | 0.9470051 0.9975006 0.9715972 13203  \n",
      "1        | 0.8918033 0.2695738 0.414003  1009   \n",
      "avg/total| 0.9194042 0.6335372 0.6928001 14212  \n",
      "\n",
      "Accuracy for XGB: 0.9467352\n",
      "\n",
      "\n",
      "Meanclass accuracy for XGB: 0.8004197\n",
      "\n",
      "\n",
      "class    | precision recall    f1_score  support\n",
      "---------| -------------------------------------\n",
      "0        | 0.9695895 0.9731879 0.9713854 13203  \n",
      "1        | 0.63125   0.6005946 0.6155409 1009   \n",
      "avg/total| 0.8004197 0.7868913 0.7934631 14212  \n"
     ]
    },
    {
     "data": {
      "image/png": "[encoded data removed]",
      "text/plain": [
       "<Figure size 460.8x345.6 with 1 Axes>"
      ]
     },
     "metadata": {},
     "output_type": "display_data"
    }
   ],
   "source": [
    "dict:`rf_n`rf_wgt`xgb_n`xgb_lr`xgb_wgt`xgb_maxd!(100;15;100;0.2;15;7)\n",
    "pltP1:pr_curve[XtestM`forecast;ytestM;build_model[XtrainM`forecast;ytrainM;dict]]"
   ]
  },
  {
   "cell_type": "markdown",
   "metadata": {},
   "source": [
    "### Time to Peak Model"
   ]
  },
  {
   "cell_type": "code",
   "execution_count": 41,
   "metadata": {
    "scrolled": false
   },
   "outputs": [
    {
     "name": "stdout",
     "output_type": "stream",
     "text": [
      "\n",
      "Accuracy for random_forest: 0.7564576\n",
      "\n",
      "\n",
      "Meanclass accuracy for random_forest: 0.7768992\n",
      "\n",
      "\n",
      "class    | precision recall    f1_score  support\n",
      "---------| -------------------------------------\n",
      "0        | 0.7505198 0.9678284 0.8454333 373    \n",
      "1        | 0.8032787 0.2899408 0.426087  169    \n",
      "avg/total| 0.7768992 0.6288846 0.6357601 542    \n",
      "\n",
      "Accuracy for XGB: 0.7656827\n",
      "\n",
      "\n",
      "Meanclass accuracy for XGB: 0.7266119\n",
      "\n",
      "\n",
      "class    | precision recall   f1_score  support\n",
      "---------| ------------------------------------\n",
      "0        | 0.8203125 0.844504 0.8322325 373    \n",
      "1        | 0.6329114 0.591716 0.6116208 169    \n",
      "avg/total| 0.7266119 0.71811  0.7219266 542    \n"
     ]
    },
    {
     "data": {
      "image/png": "[encoded data removed]",
      "text/plain": [
       "<Figure size 460.8x345.6 with 1 Axes>"
      ]
     },
     "metadata": {},
     "output_type": "display_data"
    }
   ],
   "source": [
    "dict:`rf_n`rf_wgt`rf_maxd`xgb_n`xgb_lr`xgb_wgt`xgb_maxd!(100;1;17;300;0.01;2.5;3)\n",
    "pltP2:pr_curve[XtestP`forecast;ytestP;build_model[XtrainP`forecast;ytrainP;dict]]"
   ]
  },
  {
   "cell_type": "markdown",
   "metadata": {},
   "source": [
    "In the above case, the XGBoost classifier achieved the hightest accuracy score in both models. Once again, XGBoost also gave a more balanced precision/recall score for both models.\n",
    "\n"
   ]
  },
  {
   "cell_type": "markdown",
   "metadata": {},
   "source": [
    "### Feature Significance"
   ]
  },
  {
   "cell_type": "markdown",
   "metadata": {},
   "source": [
    "There is also a lot to be learned from determining which features contribute to predicting the target for a model. To do this, the function ml.fresh.significantfeatures was applied to the data, to return the statistically significant features based on a p-value. Combining this with ml.fresh.ksigfeat[x] enabled the top x most significant features to be extracted from each dataset."
   ]
  },
  {
   "cell_type": "markdown",
   "metadata": {},
   "source": [
    "### Monthly Model"
   ]
  },
  {
   "cell_type": "code",
   "execution_count": 42,
   "metadata": {},
   "outputs": [],
   "source": [
    "title:{\"The top 15 significant features for the \",x,\" predicts are:\"}"
   ]
  },
  {
   "cell_type": "code",
   "execution_count": 43,
   "metadata": {},
   "outputs": [
    {
     "data": {
      "text/plain": [
       "\"The top 15 significant features for the monthly predicts are:\"\n"
      ]
     },
     "execution_count": 43,
     "metadata": {},
     "output_type": "execute_result"
    },
    {
     "data": {
      "text/plain": [
       "\"lagged_target_all\"\n",
       "\"window_ppt_1\"\n",
       "\"window_ppt_2\"\n",
       "\"window_ppt_3\"\n",
       "\"window_ppt_4\"\n",
       "\"window_ppt_5\"\n",
       "\"window_ppt_6\"\n",
       "\"window_upstr_ppt_1_1\"\n",
       "\"window_upstr_ppt_1_2\"\n",
       "\"window_upstr_ppt_1_3\"\n",
       "\"window_upstr_ppt_1_4\"\n",
       "\"lagged_target_1\"\n",
       "\"lagged_target_12\"\n",
       "\"window_upstr_ppt_1_5\"\n",
       "\"window_ppt_7\"\n"
      ]
     },
     "execution_count": 43,
     "metadata": {},
     "output_type": "execute_result"
    }
   ],
   "source": [
    "title[\"monthly\"]\n",
    "string .ml.fresh.significantfeatures[flip forecast[`M]!cleaned_monthly[forecast[`M]];\n",
    " cleaned_monthly`target;.ml.fresh.ksigfeat 15]"
   ]
  },
  {
   "cell_type": "markdown",
   "metadata": {},
   "source": [
    "### Time to Peak Model"
   ]
  },
  {
   "cell_type": "code",
   "execution_count": 44,
   "metadata": {},
   "outputs": [
    {
     "data": {
      "text/plain": [
       "\"The top 15 significant features for the time-peak predicts are:\"\n"
      ]
     },
     "execution_count": 44,
     "metadata": {},
     "output_type": "execute_result"
    },
    {
     "data": {
      "text/plain": [
       "\"WsAreaSqKmRp100\"\n",
       "\"WsAreaSqKm\"\n",
       "\"wind_prev_height_48\"\n",
       "\"prev_upstr_height_1_1\"\n",
       "\"wind_prev_height_12\"\n",
       "\"prev_height_1\"\n",
       "\"prev_height_5\"\n",
       "\"WetIndexCat\"\n",
       "\"prev_height_4\"\n",
       "\"prev_height_6\"\n",
       "\"prev_height_7\"\n",
       "\"prev_height_2\"\n",
       "\"prev_height_8\"\n",
       "\"wind_prev_height_4\"\n",
       "\"prev_height_3\"\n"
      ]
     },
     "execution_count": 44,
     "metadata": {},
     "output_type": "execute_result"
    }
   ],
   "source": [
    "title[\"time-peak\"]\n",
    "string .ml.fresh.significantfeatures[flip forecast[`P]!cleaned_peak[forecast[`P]];\n",
    " cleaned_peak`target;.ml.fresh.ksigfeat 15]"
   ]
  },
  {
   "cell_type": "markdown",
   "metadata": {},
   "source": [
    "## Graphics "
   ]
  },
  {
   "cell_type": "markdown",
   "metadata": {},
   "source": [
    "### Monthly Model"
   ]
  },
  {
   "cell_type": "markdown",
   "metadata": {},
   "source": [
    "Using these results, it was also possible to build a map highlighting which areas are at risk of flooding each month. This could be used by governmental bodies to prioritize funding in the coming weeks."
   ]
  },
  {
   "cell_type": "code",
   "execution_count": 45,
   "metadata": {},
   "outputs": [
    {
     "data": {
      "application/vnd.jupyter.widget-view+json": {
       "model_id": "8fd7fbdeb9bc451aa10987dabb8053aa",
       "version_major": 2,
       "version_minor": 0
      },
      "text/plain": [
       "VBox(children=(HBox(children=(IntSlider(value=1, continuous_update=False, description='Months 2018', max=12, m…"
      ]
     },
     "metadata": {},
     "output_type": "display_data"
    }
   ],
   "source": [
    "preds:last pltP1`model\n",
    "newtst:update preds:preds from XtestMi\n",
    "newt:select from newtst where date within 2018.01 2018.12m,preds=1\n",
    "dfnew:.ml.tab2df newt\n",
    "graphs:.p.get`AcledExplorer\n",
    "graphs[`df pykw dfnew][`:render][];"
   ]
  },
  {
   "cell_type": "markdown",
   "metadata": {},
   "source": [
    "Data relating to the peak height of a stream from an actual flooding event, was compared with the upper bound peak time from our model.\n",
    "\n"
   ]
  },
  {
   "cell_type": "markdown",
   "metadata": {},
   "source": [
    "### Time to Peak Model"
   ]
  },
  {
   "cell_type": "code",
   "execution_count": 46,
   "metadata": {},
   "outputs": [
    {
     "data": {
      "image/png": "[encoded data removed]",
      "text/plain": [
       "<Figure size 460.8x345.6 with 1 Axes>"
      ]
     },
     "metadata": {},
     "output_type": "display_data"
    }
   ],
   "source": [
    "pred:last pltU2`model\n",
    "pg:raze select site_no,start_time,end_time,peak_time from XtrainPi \n",
    "    where unk=`EDT,i in where pred=XtestPi`target,site_no=`02164110,\n",
    "    target=1,delta_peak>2\n",
    "\n",
    "\n",
    "rainfall:`x_val`col`title!(pg[`start_time];`r;`rainfall)\n",
    "actual_peak:`x_val`col`title!(pg[`peak_time];`g;`actual_peak)\n",
    "pred_bound:`x_val`col`title!(03:30+pg[`start_time];`black;`predicted_upper_bound)\n",
    "\n",
    "graph:select from str where date within (`date$pg[`start_time];`date$pg[`end_time]), datetime\n",
    "      within (neg[00:15]+pg[`start_time];[00:10]+pg[`end_time]),(value pg`site_no)=`$site_no\n",
    "\n",
    "plt[`:plot][graph`datetime;graph`height;`label pykw `height;`linewidth pykw 3];\n",
    "pltline:{plt[`:axvline][x`x_val;`color pykw x`col;`label pykw x`title;`linewidth pykw 3];}\n",
    "pltline each (rainfall;actual_peak;pred_bound);\n",
    "\n",
    "plt[`:legend][`loc pykw `best];\n",
    "plt[`:title][\"Time to Peak\"];\n",
    "plt[`:ylabel][\"Height\"];\n",
    "plt[`:xlabel][\"Time\"];\n",
    "plt[`:xticks][()];\n",
    "plt[`:show][];"
   ]
  },
  {
   "cell_type": "markdown",
   "metadata": {},
   "source": [
    "## Conclusion"
   ]
  },
  {
   "cell_type": "markdown",
   "metadata": {},
   "source": [
    "From the above results we could predict, with relatively high accuracy, whether an area was likely to flood or not in the next month. We could also produce a model to predict if a stream would reach its peak height within 3.5 hours.\n",
    "\n",
    "For the monthly models, the future weather predictions played an important role in predicting whether an area would flood or not. Accuracy, recall and precision all increased as the weather predictions and gauged information columns were added to the dataset. This corresponded with the results from the significant feature tests, with lagged_target information and also the windowed rain values of the current month being the most important features to include.\n",
    "\n",
    "The opposite was true for the time-peak values, as previous rain and stream gauge information along with the basin characteristics were seen to be the most significant features when predicting these values. Including additional information about the future predicted rainfall decreased the accuracy of the results, with the best results being obtained from the model with only past rainfall and basin and soil characteristics being fed into the model.\n",
    "\n",
    "Both of these results are likely be physically expected. In the case of the monthly prediction, information regarding future forecast was pivotal in whether an area will flood in the next month. Whereas in the case of a time to peak value, it would be unlikely that information about rainfall in the next number of days would add to the predictive power of a model.\n",
    "\n",
    "Knowing what features contribute to flood susceptibility and the length of time it takes for a river to reach its peak height, is an important piece of information to extract from the model. From this, organizations such as USGS can better prepare for flood events and understand how changing climates and placement of impervious surface can affect the likelihood of flooding.\n",
    "\n",
    "The best results from the models above were obtained by continuously adjusting the hyper-parameters of the model. The unbalanced target data in the monthly model, meant that weighting the classes was an important feature to experiment with. This was particularly important when trying to obtain high precision and recall results. Between the two models, balance in the recall and precision was better for the XGBoost model."
   ]
  }
 ],
 "metadata": {
  "kernelspec": {
   "display_name": "Q (kdb+)",
   "language": "q",
   "name": "qpk"
  },
  "language_info": {
   "file_extension": ".q",
   "mimetype": "text/x-q",
   "name": "q",
   "version": "3.6.0"
  }
 },
 "nbformat": 4,
 "nbformat_minor": 2
}
